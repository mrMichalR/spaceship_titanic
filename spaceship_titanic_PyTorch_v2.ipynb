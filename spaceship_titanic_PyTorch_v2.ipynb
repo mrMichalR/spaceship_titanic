{
  "nbformat": 4,
  "nbformat_minor": 0,
  "metadata": {
    "colab": {
      "provenance": [],
      "collapsed_sections": [
        "mHODoneEmdnX",
        "WYCPICOvx6Ln"
      ],
      "mount_file_id": "16MlCxrKKJsOHhP9fxQuhAJNF4Ycm6hwU",
      "authorship_tag": "ABX9TyMPob+AVL9Ny8RYB/Mi/RKf",
      "include_colab_link": true
    },
    "kernelspec": {
      "name": "python3",
      "display_name": "Python 3"
    },
    "language_info": {
      "name": "python"
    },
    "accelerator": "GPU",
    "gpuClass": "standard"
  },
  "cells": [
    {
      "cell_type": "markdown",
      "metadata": {
        "id": "view-in-github",
        "colab_type": "text"
      },
      "source": [
        "<a href=\"https://colab.research.google.com/github/mrMichalR/spaceship_titanic/blob/main/spaceship_titanic_PyTorch_v2.ipynb\" target=\"_parent\"><img src=\"https://colab.research.google.com/assets/colab-badge.svg\" alt=\"Open In Colab\"/></a>"
      ]
    },
    {
      "cell_type": "markdown",
      "source": [
        "# Spaceship Titanic project\n",
        "\n",
        "Welcome to the year 2912, where your data science skills are needed to solve a cosmic mystery. We've received a transmission from four lightyears away and things aren't looking good. The Spaceship Titanic was an interstellar passenger liner launched a month ago. With almost 13,000 passengers on board, the vessel set out on its maiden voyage transporting emigrants from our solar system to three newly habitable exoplanets orbiting nearby stars. While rounding Alpha Centauri en route to its first destination—the torrid 55 Cancri E—the unwary Spaceship Titanic collided with a spacetime anomaly hidden within a dust cloud. Sadly, it met a similar fate as its namesake from 1000 years before. Though the ship stayed intact, almost half of the passengers were transported to an alternate dimension! To help rescue crews and retrieve the lost passengers, you are challenged to predict which passengers were transported by the anomaly using records recovered from the spaceship’s damaged computer system. Help save them and change history!"
      ],
      "metadata": {
        "id": "ObHsFt9A2buA"
      }
    },
    {
      "cell_type": "code",
      "source": [
        "!pip install torch"
      ],
      "metadata": {
        "id": "z4Age1QqTm7s",
        "colab": {
          "base_uri": "https://localhost:8080/"
        },
        "outputId": "5516c17f-6b02-4d65-c7df-a7ffd951cc0d"
      },
      "execution_count": 1,
      "outputs": [
        {
          "output_type": "stream",
          "name": "stdout",
          "text": [
            "Looking in indexes: https://pypi.org/simple, https://us-python.pkg.dev/colab-wheels/public/simple/\n",
            "Requirement already satisfied: torch in /usr/local/lib/python3.9/dist-packages (1.13.1+cu116)\n",
            "Requirement already satisfied: typing-extensions in /usr/local/lib/python3.9/dist-packages (from torch) (4.5.0)\n"
          ]
        }
      ]
    },
    {
      "cell_type": "code",
      "source": [
        "# check pytorch version\n",
        "import torch\n",
        "print(torch.__version__)\n",
        "\n",
        "import ssl\n",
        "ssl._create_default_https_context = ssl._create_unverified_context\n",
        "import torch\n",
        "from tqdm import tqdm\n",
        "import pandas as pd\n",
        "import numpy as np\n",
        "import seaborn as sns\n",
        "import matplotlib.pyplot as plt\n",
        "from numpy import vstack\n",
        "from pandas import read_csv\n",
        "from sklearn.preprocessing import LabelEncoder, OneHotEncoder\n",
        "from sklearn.metrics import accuracy_score\n",
        "from torch.utils.data import Dataset\n",
        "from torch.utils.data import DataLoader\n",
        "from torch.utils.data import random_split\n",
        "from sklearn.linear_model import LogisticRegression\n",
        "from torch import Tensor\n",
        "from torch.nn import Linear\n",
        "# from torch.nn import ReLU\n",
        "from torch.nn import Sigmoid\n",
        "from torch.nn import Module\n",
        "from torch.optim import SGD\n",
        "from torch.nn import BCELoss\n",
        "from sklearn.model_selection import train_test_split\n",
        "from sklearn.pipeline import Pipeline\n",
        "from sklearn.pipeline import make_pipeline\n",
        "from sklearn.impute import SimpleImputer\n",
        "from sklearn.preprocessing import StandardScaler, MinMaxScaler\n",
        "from sklearn.compose import ColumnTransformer\n",
        "from sklearn.metrics import recall_score, accuracy_score, precision_score, f1_score\n",
        "from sklearn.model_selection import KFold\n",
        "from sklearn.model_selection import cross_val_score"
      ],
      "metadata": {
        "id": "_YFOjlHgaHF8",
        "outputId": "f644e606-9eca-4d39-976b-15368ddd0737",
        "colab": {
          "base_uri": "https://localhost:8080/"
        }
      },
      "execution_count": 11,
      "outputs": [
        {
          "output_type": "stream",
          "name": "stdout",
          "text": [
            "1.13.1+cu116\n"
          ]
        }
      ]
    },
    {
      "cell_type": "markdown",
      "source": [
        "## Get data \n",
        "Get data from link: https://www.kaggle.com/competitions/spaceship-titanic/data and read to your notebook."
      ],
      "metadata": {
        "id": "rmWpcWK16F_E"
      }
    },
    {
      "cell_type": "code",
      "source": [
        "path_train = 'https://raw.githubusercontent.com/mrMichalR/spaceship_titanic/main/data/train.csv'\n",
        "path_test = 'https://raw.githubusercontent.com/mrMichalR/spaceship_titanic/main/data/test.csv'\n",
        "df_train = pd.read_csv(path_train)#, header=None)\n",
        "df_test = pd.read_csv(path_test)#, header=None)\n",
        "\n",
        "df_train.info()"
      ],
      "metadata": {
        "colab": {
          "base_uri": "https://localhost:8080/"
        },
        "id": "BssJfS8Ye6vp",
        "outputId": "69766420-e749-4f18-ec2f-76c97d906863"
      },
      "execution_count": 12,
      "outputs": [
        {
          "output_type": "stream",
          "name": "stdout",
          "text": [
            "<class 'pandas.core.frame.DataFrame'>\n",
            "RangeIndex: 8693 entries, 0 to 8692\n",
            "Data columns (total 14 columns):\n",
            " #   Column        Non-Null Count  Dtype  \n",
            "---  ------        --------------  -----  \n",
            " 0   PassengerId   8693 non-null   object \n",
            " 1   HomePlanet    8492 non-null   object \n",
            " 2   CryoSleep     8476 non-null   object \n",
            " 3   Cabin         8494 non-null   object \n",
            " 4   Destination   8511 non-null   object \n",
            " 5   Age           8514 non-null   float64\n",
            " 6   VIP           8490 non-null   object \n",
            " 7   RoomService   8512 non-null   float64\n",
            " 8   FoodCourt     8510 non-null   float64\n",
            " 9   ShoppingMall  8485 non-null   float64\n",
            " 10  Spa           8510 non-null   float64\n",
            " 11  VRDeck        8505 non-null   float64\n",
            " 12  Name          8493 non-null   object \n",
            " 13  Transported   8693 non-null   bool   \n",
            "dtypes: bool(1), float64(6), object(7)\n",
            "memory usage: 891.5+ KB\n"
          ]
        }
      ]
    },
    {
      "cell_type": "code",
      "source": [
        "trainloader = DataLoader(df_train, batch_size=13, shuffle=True)\n",
        "testloader = DataLoader(df_test, batch_size=13, shuffle=True)"
      ],
      "metadata": {
        "id": "D6illZwTgulk"
      },
      "execution_count": 13,
      "outputs": []
    },
    {
      "cell_type": "markdown",
      "source": [
        "### Check if the dataset is balanced (if not think about methods to aquire balance)"
      ],
      "metadata": {
        "id": "6vvE8qHEJ5a1"
      }
    },
    {
      "cell_type": "code",
      "source": [
        "# target = \"Transported\"\n",
        "print(f'TRAIN target:\\n{df_train[\"Transported\"].value_counts()}')"
      ],
      "metadata": {
        "id": "rRn4E1DsJ7_m",
        "colab": {
          "base_uri": "https://localhost:8080/"
        },
        "outputId": "a2c715ad-0841-4c04-d4f2-f2487c213260"
      },
      "execution_count": 14,
      "outputs": [
        {
          "output_type": "stream",
          "name": "stdout",
          "text": [
            "TRAIN target:\n",
            "True     4378\n",
            "False    4315\n",
            "Name: Transported, dtype: int64\n"
          ]
        }
      ]
    },
    {
      "cell_type": "markdown",
      "source": [
        "Target feature balanced"
      ],
      "metadata": {
        "id": "A-_LqatiLV--"
      }
    },
    {
      "cell_type": "markdown",
      "source": [
        "## PyTorch\n",
        "Use PyTorch to solve following tasks."
      ],
      "metadata": {
        "id": "NoXrxo-anjAK"
      }
    },
    {
      "cell_type": "markdown",
      "source": [
        "### Implement logistic regression model"
      ],
      "metadata": {
        "id": "19TDNOEonmA_"
      }
    },
    {
      "cell_type": "code",
      "source": [
        "# build custom module for logistic regression\n",
        "class LogisticRegression(torch.nn.Module):    \n",
        "    # build the constructor\n",
        "    def __init__(self):\n",
        "        super().__init__()\n",
        "        self.linear = torch.nn.Linear(13, 1)\n",
        "    # make predictions\n",
        "    def forward(self, x):\n",
        "        x = torch.sigmoid(self.linear(x))\n",
        "        return x\n",
        "\n",
        "\n",
        "net = LogisticRegression()"
      ],
      "metadata": {
        "id": "a5THXfYSlEtC"
      },
      "execution_count": 16,
      "outputs": []
    },
    {
      "cell_type": "code",
      "source": [
        "# defining Cross-Entropy loss\n",
        "criterion = torch.nn.BCELoss()\n",
        "\n",
        "# defining the optimizer\n",
        "learning_rate = 0.01\n",
        "optimizer = torch.optim.SGD(net.parameters(), lr=learning_rate)"
      ],
      "metadata": {
        "id": "G6MaUQluigsb"
      },
      "execution_count": 17,
      "outputs": []
    },
    {
      "cell_type": "code",
      "source": [
        "epochs=20\n",
        "              \n",
        "for epoch in tqdm(range(int(epochs)),desc='Training Epochs'): # loop over the dataset multiple times\n",
        "    running_loss = 0.0\n",
        "\n",
        "    # for i, data in enumerate(trainloader, 0):\n",
        "        \n",
        "        # inputs, labels = data\n",
        "\n",
        "        # zero the parameter gradients\n",
        "    optimizer.zero_grad()\n",
        "\n",
        "    # forward + backward + optimize\n",
        "    outputs = net(inputs)\n",
        "    loss = criterion(outputs, labels)\n",
        "    loss.backward()\n",
        "    optimizer.step()\n",
        "\n",
        "        # print statistics\n",
        "        running_loss += loss.item()\n",
        "        if i % 2000 == 1999:    # print every 2000 mini-batches\n",
        "            print(f'[{epoch + 1}, {i + 1:5d}] loss: {running_loss / 2000:.3f}')\n",
        "            running_loss = 0.0\n",
        "\n",
        "print('\\nFinished Training')"
      ],
      "metadata": {
        "id": "Ga_MIWE5jlnr"
      },
      "execution_count": null,
      "outputs": []
    },
    {
      "cell_type": "code",
      "source": [
        "y = df.iloc[:, -1] # -> dtype = bool\n",
        "X = df.iloc[:, :len(df.columns)-1] # dtype = object + float\n",
        "\n",
        "# facotorize object features\n",
        "num_col = X.select_dtypes(exclude=object).columns.to_list()\n",
        "cat_col = X.select_dtypes(include=object).columns.to_list()\n",
        "print(type(cat_col))\n",
        "for col in cat_col:\n",
        "  X[col] = pd.factorize(X[col])[0]\n",
        "X = X.astype('float32')\n",
        "\n",
        "SimpleImputer(strategy='most_frequent', copy=False).fit_transform(X)\n",
        "MinMaxScaler(copy=False,clip=True).fit_transform(X)\n",
        "# preprocessor.fit_transform(X)\n",
        "\n",
        " \n",
        "# instantiate the model\n",
        "input_dim = 13 # Two inputs x1 and x2 \n",
        "output_dim = 1 # Two possible outputs\n",
        "\n",
        "\n",
        "# log_regr = make_pipeline(preprocessor, log_regr_model)\n",
        "\n",
        "log_regr = LogisticRegression(input_dim,output_dim)\n",
        "\n",
        " \n",
        "\n",
        "\n",
        "\n",
        "X_train, X_test, y_train,  y_test = train_test_split(\n",
        "    X, y, test_size=0.33, random_state=42)\n",
        "\n",
        "\n",
        "X_train = torch.Tensor(np.array(X_train))\n",
        "y_train = torch.Tensor(np.array(y_train))\n",
        "\n",
        "X_test = torch.Tensor(np.array(X_test))\n",
        "y_test = torch.Tensor(np.array(y_test))\n",
        "\n",
        "\n",
        "losses = []\n",
        "losses_test = []\n",
        "Iterations = []\n",
        "iter = 0\n",
        "epochs = 20000\n",
        "for epoch in tqdm(range(int(epochs)),desc='Training Epochs'):\n",
        "    # x = X_train\n",
        "    labels = y_train\n",
        "\n",
        "    # zero the parameter gradients\n",
        "    optimizer.zero_grad()\n",
        "\n",
        "    outputs = log_regr(X_train)\n",
        "    loss = criterion(torch.squeeze(outputs), labels) # [200,1] -squeeze-> [200]\n",
        "    loss.backward() # Computes the gradient of the given tensor w.r.t. graph leaves \n",
        "    optimizer.step() # Updates weights and biases with the optimizer (SGD)\n",
        "    \n",
        "    # print statistics\n",
        "    running_loss += loss.item()\n",
        "    \n",
        "    iter+=1\n",
        "    if iter%2000==0:\n",
        "        # calculate Accuracy\n",
        "        with torch.no_grad():\n",
        "            # Calculating the loss and accuracy for the test dataset\n",
        "            correct_test = 0\n",
        "            total_test = 0\n",
        "            outputs_test = torch.squeeze(log_regr(X_test))\n",
        "            loss_test = criterion(outputs_test, y_test)\n",
        "            \n",
        "            predicted_test = outputs_test.round().detach().numpy()\n",
        "            total_test += y_test.size(0)\n",
        "            correct_test += np.sum(predicted_test == y_test.detach().numpy())\n",
        "            accuracy_test = 100 * correct_test/total_test\n",
        "            losses_test.append(loss_test.item())\n",
        "            \n",
        "            # Calculating the loss and accuracy for the train dataset\n",
        "            total = 0\n",
        "            correct = 0\n",
        "            total += y_train.size(0)\n",
        "            correct += np.sum(torch.squeeze(outputs).round().detach().numpy() == y_train.detach().numpy())\n",
        "            accuracy = 100 * correct/total\n",
        "            losses.append(loss.item())\n",
        "            Iterations.append(iter)\n",
        "            \n",
        "            print(f\"Iteration: {iter}. \\nTest - Loss: {loss_test.item()}. Accuracy: {accuracy_test}\")\n",
        "            print(f\"Train -  Loss: {loss.item()}. Accuracy: {accuracy}\\n\")"
      ],
      "metadata": {
        "id": "cnZH1BSoMnIl",
        "outputId": "476c82c3-39e9-4bc7-cc71-5eb2d81adbe5",
        "colab": {
          "base_uri": "https://localhost:8080/"
        }
      },
      "execution_count": null,
      "outputs": [
        {
          "output_type": "stream",
          "name": "stdout",
          "text": [
            "<class 'list'>\n",
            "      PassengerId  HomePlanet  CryoSleep   Cabin  Destination   Age  VIP  \\\n",
            "0             0.0         0.0        0.0     0.0          0.0  39.0  0.0   \n",
            "1             1.0         1.0        0.0     1.0          0.0  24.0  0.0   \n",
            "2             2.0         0.0        0.0     2.0          0.0  58.0  1.0   \n",
            "3             3.0         0.0        0.0     2.0          0.0  33.0  0.0   \n",
            "4             4.0         1.0        0.0     3.0          0.0  16.0  0.0   \n",
            "...           ...         ...        ...     ...          ...   ...  ...   \n",
            "8688       8688.0         0.0        0.0  6556.0          2.0  41.0  1.0   \n",
            "8689       8689.0         1.0        1.0  6557.0          1.0  18.0  0.0   \n",
            "8690       8690.0         1.0        0.0  6558.0          0.0  26.0  0.0   \n",
            "8691       8691.0         0.0        0.0  6559.0          2.0  32.0  0.0   \n",
            "8692       8692.0         0.0        0.0  6559.0          0.0  44.0  0.0   \n",
            "\n",
            "      RoomService  FoodCourt  ShoppingMall     Spa  VRDeck    Name  \n",
            "0             0.0        0.0           0.0     0.0     0.0     0.0  \n",
            "1           109.0        9.0          25.0   549.0    44.0     1.0  \n",
            "2            43.0     3576.0           0.0  6715.0    49.0     2.0  \n",
            "3             0.0     1283.0         371.0  3329.0   193.0     3.0  \n",
            "4           303.0       70.0         151.0   565.0     2.0     4.0  \n",
            "...           ...        ...           ...     ...     ...     ...  \n",
            "8688          0.0     6819.0           0.0  1643.0    74.0  8468.0  \n",
            "8689          0.0        0.0           0.0     0.0     0.0  8469.0  \n",
            "8690          0.0        0.0        1872.0     1.0     0.0  8470.0  \n",
            "8691          0.0     1049.0           0.0   353.0  3235.0  8471.0  \n",
            "8692        126.0     4688.0           0.0     0.0    12.0  8472.0  \n",
            "\n",
            "[8693 rows x 13 columns]\n",
            "\n",
            "       PassengerId  HomePlanet  CryoSleep     Cabin  Destination       Age  \\\n",
            "0        0.000000    0.333333        0.5  0.000152     0.333333  0.493671   \n",
            "1        0.000115    0.666667        0.5  0.000305     0.333333  0.303797   \n",
            "2        0.000230    0.333333        0.5  0.000457     0.333333  0.734177   \n",
            "3        0.000345    0.333333        0.5  0.000457     0.333333  0.417722   \n",
            "4        0.000460    0.666667        0.5  0.000610     0.333333  0.202532   \n",
            "...           ...         ...        ...       ...          ...       ...   \n",
            "8688     0.999540    0.333333        0.5  0.999543     1.000000  0.518987   \n",
            "8689     0.999655    0.666667        1.0  0.999695     0.666667  0.227848   \n",
            "8690     0.999770    0.666667        0.5  0.999848     0.333333  0.329114   \n",
            "8691     0.999885    0.333333        0.5  1.000000     1.000000  0.405063   \n",
            "8692     1.000000    0.333333        0.5  1.000000     0.333333  0.556962   \n",
            "\n",
            "      VIP  RoomService  FoodCourt  ShoppingMall       Spa    VRDeck      Name  \n",
            "0     0.5     0.000000   0.000000      0.000000  0.000000  0.000000  0.000118  \n",
            "1     0.5     0.007608   0.000302      0.001064  0.024500  0.001823  0.000236  \n",
            "2     1.0     0.003001   0.119948      0.000000  0.299670  0.002030  0.000354  \n",
            "3     0.5     0.000000   0.043035      0.015793  0.148563  0.007997  0.000472  \n",
            "4     0.5     0.021149   0.002348      0.006428  0.025214  0.000083  0.000590  \n",
            "...   ...          ...        ...           ...       ...       ...       ...  \n",
            "8688  1.0     0.000000   0.228726      0.000000  0.073322  0.003066  0.999528  \n",
            "8689  0.5     0.000000   0.000000      0.000000  0.000000  0.000000  0.999646  \n",
            "8690  0.5     0.000000   0.000000      0.079687  0.000045  0.000000  0.999764  \n",
            "8691  0.5     0.000000   0.035186      0.000000  0.015753  0.134049  0.999882  \n",
            "8692  0.5     0.008795   0.157247      0.000000  0.000000  0.000497  1.000000  \n",
            "\n",
            "[8693 rows x 13 columns]\n"
          ]
        },
        {
          "output_type": "stream",
          "name": "stderr",
          "text": [
            "Training Epochs:  11%|█         | 2121/20000 [00:02<00:18, 948.79it/s]"
          ]
        },
        {
          "output_type": "stream",
          "name": "stdout",
          "text": [
            "Iteration: 2000. \n",
            "Test - Loss: 0.6546239852905273. Accuracy: 72.92944785276073\n",
            "Train -  Loss: 0.6563275456428528. Accuracy: 72.86770747740346\n",
            "\n"
          ]
        },
        {
          "output_type": "stream",
          "name": "stderr",
          "text": [
            "Training Epochs:  20%|██        | 4023/20000 [00:06<00:49, 320.32it/s]"
          ]
        },
        {
          "output_type": "stream",
          "name": "stdout",
          "text": [
            "Iteration: 4000. \n",
            "Test - Loss: 0.624670684337616. Accuracy: 72.46932515337423\n",
            "Train -  Loss: 0.6279553771018982. Accuracy: 72.22678718159409\n",
            "\n"
          ]
        },
        {
          "output_type": "stream",
          "name": "stderr",
          "text": [
            "Training Epochs:  31%|███       | 6119/20000 [00:12<00:29, 471.26it/s]"
          ]
        },
        {
          "output_type": "stream",
          "name": "stdout",
          "text": [
            "Iteration: 6000. \n",
            "Test - Loss: 0.6075237989425659. Accuracy: 72.3159509202454\n",
            "Train -  Loss: 0.6117976903915405. Accuracy: 72.01314708299095\n",
            "\n"
          ]
        },
        {
          "output_type": "stream",
          "name": "stderr",
          "text": [
            "Training Epochs:  40%|████      | 8050/20000 [00:16<00:31, 379.16it/s]"
          ]
        },
        {
          "output_type": "stream",
          "name": "stdout",
          "text": [
            "Iteration: 8000. \n",
            "Test - Loss: 0.5970796942710876. Accuracy: 72.39263803680981\n",
            "Train -  Loss: 0.6020040512084961. Accuracy: 72.12818405916187\n",
            "\n"
          ]
        },
        {
          "output_type": "stream",
          "name": "stderr",
          "text": [
            "Training Epochs:  50%|█████     | 10062/20000 [00:20<00:34, 284.23it/s]"
          ]
        },
        {
          "output_type": "stream",
          "name": "stdout",
          "text": [
            "Iteration: 10000. \n",
            "Test - Loss: 0.5903608798980713. Accuracy: 72.54601226993866\n",
            "Train -  Loss: 0.595726728439331. Accuracy: 72.25965488907148\n",
            "\n"
          ]
        },
        {
          "output_type": "stream",
          "name": "stderr",
          "text": [
            "Training Epochs:  60%|██████    | 12034/20000 [00:26<00:15, 503.64it/s]"
          ]
        },
        {
          "output_type": "stream",
          "name": "stdout",
          "text": [
            "Iteration: 12000. \n",
            "Test - Loss: 0.5858168601989746. Accuracy: 72.62269938650307\n",
            "Train -  Loss: 0.5914867520332336. Accuracy: 72.22678718159409\n",
            "\n"
          ]
        },
        {
          "output_type": "stream",
          "name": "stderr",
          "text": [
            "Training Epochs:  71%|███████   | 14120/20000 [00:30<00:11, 519.04it/s]"
          ]
        },
        {
          "output_type": "stream",
          "name": "stdout",
          "text": [
            "Iteration: 14000. \n",
            "Test - Loss: 0.5825952887535095. Accuracy: 72.66104294478528\n",
            "Train -  Loss: 0.5884738564491272. Accuracy: 72.21035332785539\n",
            "\n"
          ]
        },
        {
          "output_type": "stream",
          "name": "stderr",
          "text": [
            "Training Epochs:  81%|████████  | 16111/20000 [00:36<00:05, 652.68it/s]"
          ]
        },
        {
          "output_type": "stream",
          "name": "stdout",
          "text": [
            "Iteration: 16000. \n",
            "Test - Loss: 0.5802053213119507. Accuracy: 72.62269938650307\n",
            "Train -  Loss: 0.5862243175506592. Accuracy: 72.25965488907148\n",
            "\n"
          ]
        },
        {
          "output_type": "stream",
          "name": "stderr",
          "text": [
            "Training Epochs:  91%|█████████ | 18101/20000 [00:39<00:02, 737.96it/s]"
          ]
        },
        {
          "output_type": "stream",
          "name": "stdout",
          "text": [
            "Iteration: 18000. \n",
            "Test - Loss: 0.5783540606498718. Accuracy: 72.58435582822086\n",
            "Train -  Loss: 0.5844627618789673. Accuracy: 72.3582580115037\n",
            "\n"
          ]
        },
        {
          "output_type": "stream",
          "name": "stderr",
          "text": [
            "Training Epochs: 100%|██████████| 20000/20000 [00:41<00:00, 480.13it/s] "
          ]
        },
        {
          "output_type": "stream",
          "name": "stdout",
          "text": [
            "Iteration: 20000. \n",
            "Test - Loss: 0.576860785484314. Accuracy: 72.50766871165644\n",
            "Train -  Loss: 0.5830209255218506. Accuracy: 72.3089564502876\n",
            "\n"
          ]
        },
        {
          "output_type": "stream",
          "name": "stderr",
          "text": [
            "\n"
          ]
        }
      ]
    },
    {
      "cell_type": "markdown",
      "source": [
        "\n",
        "### Use k-fold technique to entry dataset division"
      ],
      "metadata": {
        "id": "WYCPICOvx6Ln"
      }
    },
    {
      "cell_type": "code",
      "source": [
        "# Test options and evaluation metric\n",
        "num_folds = 10\n",
        "# seed = 42\n",
        "scoring = 'accuracy'\n",
        "\n",
        "# models=[]\n",
        "# models.append(('LR', log_regr))\n",
        "\n",
        "# results = []\n",
        "# names = []\n",
        "# kfold = KFold(n_splits=num_folds, shuffle=False, random_state=None)\n",
        "# cv_results = cross_val_score(log_regr, X_train, y_train, cv=kfold, scoring=scoring)\n",
        "# results.append(cv_results)\n",
        "# names.append('LogReg')\n",
        "# msg = \"%s: %f (%f)\" % ('LogReg', cv_results.mean(), cv_results.std())\n",
        "# print(msg)"
      ],
      "metadata": {
        "id": "zS0LtvKqx64k",
        "outputId": "9d03be1e-0ff4-44c7-fc45-315923f8df44",
        "colab": {
          "base_uri": "https://localhost:8080/",
          "height": 415
        }
      },
      "execution_count": null,
      "outputs": [
        {
          "output_type": "error",
          "ename": "TypeError",
          "evalue": "ignored",
          "traceback": [
            "\u001b[0;31m---------------------------------------------------------------------------\u001b[0m",
            "\u001b[0;31mTypeError\u001b[0m                                 Traceback (most recent call last)",
            "\u001b[0;32m<ipython-input-28-3274cf5d56d2>\u001b[0m in \u001b[0;36m<module>\u001b[0;34m\u001b[0m\n\u001b[1;32m     10\u001b[0m \u001b[0mnames\u001b[0m \u001b[0;34m=\u001b[0m \u001b[0;34m[\u001b[0m\u001b[0;34m]\u001b[0m\u001b[0;34m\u001b[0m\u001b[0;34m\u001b[0m\u001b[0m\n\u001b[1;32m     11\u001b[0m \u001b[0mkfold\u001b[0m \u001b[0;34m=\u001b[0m \u001b[0mKFold\u001b[0m\u001b[0;34m(\u001b[0m\u001b[0mn_splits\u001b[0m\u001b[0;34m=\u001b[0m\u001b[0mnum_folds\u001b[0m\u001b[0;34m,\u001b[0m \u001b[0mshuffle\u001b[0m\u001b[0;34m=\u001b[0m\u001b[0;32mFalse\u001b[0m\u001b[0;34m,\u001b[0m \u001b[0mrandom_state\u001b[0m\u001b[0;34m=\u001b[0m\u001b[0;32mNone\u001b[0m\u001b[0;34m)\u001b[0m\u001b[0;34m\u001b[0m\u001b[0;34m\u001b[0m\u001b[0m\n\u001b[0;32m---> 12\u001b[0;31m \u001b[0mcv_results\u001b[0m \u001b[0;34m=\u001b[0m \u001b[0mcross_val_score\u001b[0m\u001b[0;34m(\u001b[0m\u001b[0mlog_regr\u001b[0m\u001b[0;34m,\u001b[0m \u001b[0mX_train\u001b[0m\u001b[0;34m,\u001b[0m \u001b[0my_train\u001b[0m\u001b[0;34m,\u001b[0m \u001b[0mcv\u001b[0m\u001b[0;34m=\u001b[0m\u001b[0mkfold\u001b[0m\u001b[0;34m,\u001b[0m \u001b[0mscoring\u001b[0m\u001b[0;34m=\u001b[0m\u001b[0mscoring\u001b[0m\u001b[0;34m)\u001b[0m\u001b[0;34m\u001b[0m\u001b[0;34m\u001b[0m\u001b[0m\n\u001b[0m\u001b[1;32m     13\u001b[0m \u001b[0mresults\u001b[0m\u001b[0;34m.\u001b[0m\u001b[0mappend\u001b[0m\u001b[0;34m(\u001b[0m\u001b[0mcv_results\u001b[0m\u001b[0;34m)\u001b[0m\u001b[0;34m\u001b[0m\u001b[0;34m\u001b[0m\u001b[0m\n\u001b[1;32m     14\u001b[0m \u001b[0mnames\u001b[0m\u001b[0;34m.\u001b[0m\u001b[0mappend\u001b[0m\u001b[0;34m(\u001b[0m\u001b[0;34m'LogReg'\u001b[0m\u001b[0;34m)\u001b[0m\u001b[0;34m\u001b[0m\u001b[0;34m\u001b[0m\u001b[0m\n",
            "\u001b[0;32m/usr/local/lib/python3.9/dist-packages/sklearn/model_selection/_validation.py\u001b[0m in \u001b[0;36mcross_val_score\u001b[0;34m(estimator, X, y, groups, scoring, cv, n_jobs, verbose, fit_params, pre_dispatch, error_score)\u001b[0m\n\u001b[1;32m    511\u001b[0m     \"\"\"\n\u001b[1;32m    512\u001b[0m     \u001b[0;31m# To ensure multimetric format is not supported\u001b[0m\u001b[0;34m\u001b[0m\u001b[0;34m\u001b[0m\u001b[0m\n\u001b[0;32m--> 513\u001b[0;31m     \u001b[0mscorer\u001b[0m \u001b[0;34m=\u001b[0m \u001b[0mcheck_scoring\u001b[0m\u001b[0;34m(\u001b[0m\u001b[0mestimator\u001b[0m\u001b[0;34m,\u001b[0m \u001b[0mscoring\u001b[0m\u001b[0;34m=\u001b[0m\u001b[0mscoring\u001b[0m\u001b[0;34m)\u001b[0m\u001b[0;34m\u001b[0m\u001b[0;34m\u001b[0m\u001b[0m\n\u001b[0m\u001b[1;32m    514\u001b[0m \u001b[0;34m\u001b[0m\u001b[0m\n\u001b[1;32m    515\u001b[0m     cv_results = cross_validate(\n",
            "\u001b[0;32m/usr/local/lib/python3.9/dist-packages/sklearn/metrics/_scorer.py\u001b[0m in \u001b[0;36mcheck_scoring\u001b[0;34m(estimator, scoring, allow_none)\u001b[0m\n\u001b[1;32m    472\u001b[0m     \"\"\"\n\u001b[1;32m    473\u001b[0m     \u001b[0;32mif\u001b[0m \u001b[0;32mnot\u001b[0m \u001b[0mhasattr\u001b[0m\u001b[0;34m(\u001b[0m\u001b[0mestimator\u001b[0m\u001b[0;34m,\u001b[0m \u001b[0;34m\"fit\"\u001b[0m\u001b[0;34m)\u001b[0m\u001b[0;34m:\u001b[0m\u001b[0;34m\u001b[0m\u001b[0;34m\u001b[0m\u001b[0m\n\u001b[0;32m--> 474\u001b[0;31m         raise TypeError(\n\u001b[0m\u001b[1;32m    475\u001b[0m             \u001b[0;34m\"estimator should be an estimator implementing 'fit' method, %r was passed\"\u001b[0m\u001b[0;34m\u001b[0m\u001b[0;34m\u001b[0m\u001b[0m\n\u001b[1;32m    476\u001b[0m             \u001b[0;34m%\u001b[0m \u001b[0mestimator\u001b[0m\u001b[0;34m\u001b[0m\u001b[0;34m\u001b[0m\u001b[0m\n",
            "\u001b[0;31mTypeError\u001b[0m: estimator should be an estimator implementing 'fit' method, LogisticRegression(\n  (linear): Linear(in_features=13, out_features=1, bias=True)\n) was passed"
          ]
        }
      ]
    },
    {
      "cell_type": "code",
      "source": [
        "# define a cross validation function\n",
        "def crossvalid(model=None,criterion=None,optimizer=None,dataset=None,k_fold=5):\n",
        "    \n",
        "    train_score = pd.Series()\n",
        "    val_score = pd.Series()\n",
        "    \n",
        "    total_size = len(dataset)\n",
        "    fraction = 1/k_fold\n",
        "    seg = int(total_size * fraction)\n",
        "    # tr:train,val:valid; r:right,l:left;  eg: trrr: right index of right side train subset \n",
        "    # index: [trll,trlr],[vall,valr],[trrl,trrr]\n",
        "    for i in range(k_fold):\n",
        "        trll = 0\n",
        "        trlr = i * seg\n",
        "        vall = trlr\n",
        "        valr = i * seg + seg\n",
        "        trrl = valr\n",
        "        trrr = total_size\n",
        "        # msg\n",
        "#         print(\"train indices: [%d,%d),[%d,%d), test indices: [%d,%d)\" \n",
        "#               % (trll,trlr,trrl,trrr,vall,valr))\n",
        "        \n",
        "        train_left_indices = list(range(trll,trlr))\n",
        "        train_right_indices = list(range(trrl,trrr))\n",
        "        \n",
        "        train_indices = train_left_indices + train_right_indices\n",
        "        val_indices = list(range(vall,valr))\n",
        "        \n",
        "        train_set = torch.utils.data.dataset.Subset(dataset,train_indices)\n",
        "        val_set = torch.utils.data.dataset.Subset(dataset,val_indices)\n",
        "        \n",
        "#         print(len(train_set),len(val_set))\n",
        "#         print()\n",
        "        train_loader = torch.utils.data.DataLoader(train_set, batch_size=50,\n",
        "                                          shuffle=True, num_workers=4)\n",
        "        val_loader = torch.utils.data.DataLoader(val_set, batch_size=50,\n",
        "                                          shuffle=True, num_workers=4)\n",
        "        train_acc = train_indices(log_regr,criterion,optimizer,train_loader,epoch=1)\n",
        "        train_score.at[i] = train_acc\n",
        "        val_acc = val_set(log_regr,criterion,optimizer,val_loader)\n",
        "        val_score.at[i] = val_acc\n",
        "    \n",
        "    return train_score,val_score\n",
        "\n",
        "train_score,val_score = crossvalid(log_regr,criterion,optimizer,X_train)\n"
      ],
      "metadata": {
        "id": "i0HN7QtdwyL5",
        "outputId": "f7e0491f-d38e-48b6-b603-32b2dbf65443",
        "colab": {
          "base_uri": "https://localhost:8080/",
          "height": 446
        }
      },
      "execution_count": null,
      "outputs": [
        {
          "output_type": "stream",
          "name": "stderr",
          "text": [
            "<ipython-input-36-a4b69621af01>:4: FutureWarning: The default dtype for empty Series will be 'object' instead of 'float64' in a future version. Specify a dtype explicitly to silence this warning.\n",
            "  train_score = pd.Series()\n",
            "<ipython-input-36-a4b69621af01>:5: FutureWarning: The default dtype for empty Series will be 'object' instead of 'float64' in a future version. Specify a dtype explicitly to silence this warning.\n",
            "  val_score = pd.Series()\n",
            "/usr/local/lib/python3.9/dist-packages/torch/utils/data/dataloader.py:554: UserWarning: This DataLoader will create 4 worker processes in total. Our suggested max number of worker in current system is 2, which is smaller than what this DataLoader is going to create. Please be aware that excessive worker creation might get DataLoader running slow or even freeze, lower the worker number to avoid potential slowness/freeze if necessary.\n",
            "  warnings.warn(_create_warning_msg(\n"
          ]
        },
        {
          "output_type": "error",
          "ename": "TypeError",
          "evalue": "ignored",
          "traceback": [
            "\u001b[0;31m---------------------------------------------------------------------------\u001b[0m",
            "\u001b[0;31mTypeError\u001b[0m                                 Traceback (most recent call last)",
            "\u001b[0;32m<ipython-input-36-a4b69621af01>\u001b[0m in \u001b[0;36m<module>\u001b[0;34m\u001b[0m\n\u001b[1;32m     43\u001b[0m     \u001b[0;32mreturn\u001b[0m \u001b[0mtrain_score\u001b[0m\u001b[0;34m,\u001b[0m\u001b[0mval_score\u001b[0m\u001b[0;34m\u001b[0m\u001b[0;34m\u001b[0m\u001b[0m\n\u001b[1;32m     44\u001b[0m \u001b[0;34m\u001b[0m\u001b[0m\n\u001b[0;32m---> 45\u001b[0;31m \u001b[0mtrain_score\u001b[0m\u001b[0;34m,\u001b[0m\u001b[0mval_score\u001b[0m \u001b[0;34m=\u001b[0m \u001b[0mcrossvalid\u001b[0m\u001b[0;34m(\u001b[0m\u001b[0mlog_regr\u001b[0m\u001b[0;34m,\u001b[0m\u001b[0mcriterion\u001b[0m\u001b[0;34m,\u001b[0m\u001b[0moptimizer\u001b[0m\u001b[0;34m,\u001b[0m\u001b[0mX_train\u001b[0m\u001b[0;34m)\u001b[0m\u001b[0;34m\u001b[0m\u001b[0;34m\u001b[0m\u001b[0m\n\u001b[0m",
            "\u001b[0;32m<ipython-input-36-a4b69621af01>\u001b[0m in \u001b[0;36mcrossvalid\u001b[0;34m(model, criterion, optimizer, dataset, k_fold)\u001b[0m\n\u001b[1;32m     36\u001b[0m         val_loader = torch.utils.data.DataLoader(val_set, batch_size=50,\n\u001b[1;32m     37\u001b[0m                                           shuffle=True, num_workers=4)\n\u001b[0;32m---> 38\u001b[0;31m         \u001b[0mtrain_acc\u001b[0m \u001b[0;34m=\u001b[0m \u001b[0mtrain_indices\u001b[0m\u001b[0;34m(\u001b[0m\u001b[0mlog_regr\u001b[0m\u001b[0;34m,\u001b[0m\u001b[0mcriterion\u001b[0m\u001b[0;34m,\u001b[0m\u001b[0moptimizer\u001b[0m\u001b[0;34m,\u001b[0m\u001b[0mtrain_loader\u001b[0m\u001b[0;34m,\u001b[0m\u001b[0mepoch\u001b[0m\u001b[0;34m=\u001b[0m\u001b[0;36m1\u001b[0m\u001b[0;34m)\u001b[0m\u001b[0;34m\u001b[0m\u001b[0;34m\u001b[0m\u001b[0m\n\u001b[0m\u001b[1;32m     39\u001b[0m         \u001b[0mtrain_score\u001b[0m\u001b[0;34m.\u001b[0m\u001b[0mat\u001b[0m\u001b[0;34m[\u001b[0m\u001b[0mi\u001b[0m\u001b[0;34m]\u001b[0m \u001b[0;34m=\u001b[0m \u001b[0mtrain_acc\u001b[0m\u001b[0;34m\u001b[0m\u001b[0;34m\u001b[0m\u001b[0m\n\u001b[1;32m     40\u001b[0m         \u001b[0mval_acc\u001b[0m \u001b[0;34m=\u001b[0m \u001b[0mval_set\u001b[0m\u001b[0;34m(\u001b[0m\u001b[0mlog_regr\u001b[0m\u001b[0;34m,\u001b[0m\u001b[0mcriterion\u001b[0m\u001b[0;34m,\u001b[0m\u001b[0moptimizer\u001b[0m\u001b[0;34m,\u001b[0m\u001b[0mval_loader\u001b[0m\u001b[0;34m)\u001b[0m\u001b[0;34m\u001b[0m\u001b[0;34m\u001b[0m\u001b[0m\n",
            "\u001b[0;31mTypeError\u001b[0m: 'list' object is not callable"
          ]
        }
      ]
    },
    {
      "cell_type": "code",
      "source": [
        "in"
      ],
      "metadata": {
        "id": "DKGdRqI81pkY"
      },
      "execution_count": null,
      "outputs": []
    },
    {
      "cell_type": "markdown",
      "source": [
        "## Data processing\n",
        "Prepare data using preprocessing methods."
      ],
      "metadata": {
        "id": "1Rp4C9hmA9H3"
      }
    },
    {
      "cell_type": "code",
      "source": [
        "target_name = \"Transported\"\n",
        "X = df.drop(columns=[target_name])\n",
        "y = df[target_name]\n",
        "# y = df[target_name].astype(str)"
      ],
      "metadata": {
        "id": "NzgnEDsyIVLw"
      },
      "execution_count": null,
      "outputs": []
    },
    {
      "cell_type": "code",
      "source": [
        "X.info()"
      ],
      "metadata": {
        "colab": {
          "base_uri": "https://localhost:8080/"
        },
        "id": "_bM_G0pDJwnm",
        "outputId": "b9ede6bf-9e1d-455b-fa0e-972f963f94b6"
      },
      "execution_count": null,
      "outputs": [
        {
          "output_type": "stream",
          "name": "stdout",
          "text": [
            "<class 'pandas.core.frame.DataFrame'>\n",
            "RangeIndex: 8693 entries, 0 to 8692\n",
            "Data columns (total 13 columns):\n",
            " #   Column        Non-Null Count  Dtype  \n",
            "---  ------        --------------  -----  \n",
            " 0   PassengerId   8693 non-null   object \n",
            " 1   HomePlanet    8492 non-null   object \n",
            " 2   CryoSleep     8476 non-null   object \n",
            " 3   Cabin         8494 non-null   object \n",
            " 4   Destination   8511 non-null   object \n",
            " 5   Age           8514 non-null   float64\n",
            " 6   VIP           8490 non-null   object \n",
            " 7   RoomService   8512 non-null   float64\n",
            " 8   FoodCourt     8510 non-null   float64\n",
            " 9   ShoppingMall  8485 non-null   float64\n",
            " 10  Spa           8510 non-null   float64\n",
            " 11  VRDeck        8505 non-null   float64\n",
            " 12  Name          8493 non-null   object \n",
            "dtypes: float64(6), object(7)\n",
            "memory usage: 883.0+ KB\n"
          ]
        }
      ]
    },
    {
      "cell_type": "markdown",
      "source": [
        "### Think and propose how represent categorical values"
      ],
      "metadata": {
        "id": "NWAPkS1lS_w0"
      }
    },
    {
      "cell_type": "markdown",
      "source": [
        "Proposition:\n",
        "- impute or drop missing values\n",
        "- encoding data with e.g. pd.replace \n",
        "- scale data\n",
        "\n",
        "Source: https://www.youtube.com/watch?v=OGpQxIkR4ao\n",
        "\n",
        "___\n",
        "Possible simplier solution is to use pandas replace with intiger values - will be checked.\n",
        "https://www.kaggle.com/code/hussainsheriff/spaceship-titanic-tensor-flow"
      ],
      "metadata": {
        "id": "DGKVo0PJb4NH"
      }
    },
    {
      "cell_type": "code",
      "source": [
        "for elem in X.columns.to_list():\n",
        "  if X[elem].nunique() == 2:\n",
        "    X[elem]=X[elem].astype(float)"
      ],
      "metadata": {
        "id": "W2zxL742KgT9"
      },
      "execution_count": null,
      "outputs": []
    },
    {
      "cell_type": "code",
      "source": [
        "# Ordinal encoder use with encoding unknown values with -1 value\n",
        "\n",
        "# categorical_preprocessor = OrdinalEncoder(handle_unknown=\"use_encoded_value\", unknown_value=-1)\n",
        "numerical_preprocessor = StandardScaler()\n",
        "# numerical_preprocessor = MinMaxScaler()\n",
        "\n",
        "\n",
        "categorical_columns= X.select_dtypes(include=object).columns.tolist()\n",
        "numerical_columns = X.select_dtypes(exclude=object).columns.tolist()"
      ],
      "metadata": {
        "id": "cjYmeR5V86oL"
      },
      "execution_count": null,
      "outputs": []
    },
    {
      "cell_type": "code",
      "source": [
        "# Defining pipeplines\n",
        "\n",
        "# categorical_pipeline = Pipeline(\n",
        "#     steps=[\n",
        "#         (\"Imputer\", SimpleImputer(strategy='most_frequent')),\n",
        "#         (\"Encoder\", categorical_preprocessor),\n",
        "#         # (\"Imputer\", IterativeImputer(random_state=42, skip_complete=True)),\n",
        "#         # (\"Scaler\", numerical_preprocessor),\n",
        "#     ])\n",
        "\n",
        "numerical_pipeline = Pipeline(\n",
        "    steps=[\n",
        "        # (\"Imputer\", IterativeImputer(random_state=42, skip_complete=True)),\n",
        "        (\"Imputer\", SimpleImputer(strategy='most_frequent')),\n",
        "        (\"Scaler\", numerical_preprocessor),\n",
        "    ])"
      ],
      "metadata": {
        "id": "kot_Y9KWA02R"
      },
      "execution_count": null,
      "outputs": []
    },
    {
      "cell_type": "code",
      "source": [
        "print(f'Before convert:\\n{X.dtypes}\\n')\n",
        "\n",
        "# Convert categorical columns to Pandas category\n",
        "for col in categorical_columns:\n",
        "   X[col] = X[col].astype('category')\n",
        "\n",
        "print(f'After convert:\\n{X.dtypes}\\n')"
      ],
      "metadata": {
        "id": "AUhHcPYCTBsj",
        "colab": {
          "base_uri": "https://localhost:8080/"
        },
        "outputId": "562ab586-e691-4544-ca05-1340ba6a243b"
      },
      "execution_count": null,
      "outputs": [
        {
          "output_type": "stream",
          "name": "stdout",
          "text": [
            "Before convert:\n",
            "PassengerId      object\n",
            "HomePlanet       object\n",
            "CryoSleep       float64\n",
            "Cabin            object\n",
            "Destination      object\n",
            "Age             float64\n",
            "VIP             float64\n",
            "RoomService     float64\n",
            "FoodCourt       float64\n",
            "ShoppingMall    float64\n",
            "Spa             float64\n",
            "VRDeck          float64\n",
            "Name             object\n",
            "dtype: object\n",
            "\n",
            "After convert:\n",
            "PassengerId     category\n",
            "HomePlanet      category\n",
            "CryoSleep        float64\n",
            "Cabin           category\n",
            "Destination     category\n",
            "Age              float64\n",
            "VIP              float64\n",
            "RoomService      float64\n",
            "FoodCourt        float64\n",
            "ShoppingMall     float64\n",
            "Spa              float64\n",
            "VRDeck           float64\n",
            "Name            category\n",
            "dtype: object\n",
            "\n"
          ]
        }
      ]
    },
    {
      "cell_type": "markdown",
      "source": [
        "### Think and propose how to handle nulls and nan values"
      ],
      "metadata": {
        "id": "WCiR5wd9TCaU"
      }
    },
    {
      "cell_type": "markdown",
      "source": [
        "Proposition:\n",
        "* More pro - impute (e.g. IterativeImputer) - included in above point\n",
        "* The simplest approach is to remove. In this case dropping caused dataset reduction from 8693 to 6606 -> 2087 rows dropped ! -below\n"
      ],
      "metadata": {
        "id": "cOAfD1jp4Jin"
      }
    },
    {
      "cell_type": "markdown",
      "source": [
        "### Divide dataset into train, validation and test subset"
      ],
      "metadata": {
        "id": "pECKH3bJTEZF"
      }
    },
    {
      "cell_type": "code",
      "source": [
        "# facotorize object features\n",
        "num_col = X.select_dtypes(exclude='category').columns.to_list()\n",
        "cat_col = X.select_dtypes(include='category').columns.to_list()\n",
        "\n",
        "for col in cat_col:\n",
        "  X[col] = pd.factorize(X[col])[0]"
      ],
      "metadata": {
        "id": "M_QQYvodhkZv"
      },
      "execution_count": null,
      "outputs": []
    },
    {
      "cell_type": "code",
      "source": [
        "X.astype('float32')"
      ],
      "metadata": {
        "id": "1FJviflNh2kh",
        "outputId": "a8ceade4-248d-4dfb-c57d-5500467855ea",
        "colab": {
          "base_uri": "https://localhost:8080/",
          "height": 424
        }
      },
      "execution_count": null,
      "outputs": [
        {
          "output_type": "execute_result",
          "data": {
            "text/plain": [
              "      PassengerId  HomePlanet  CryoSleep   Cabin  Destination   Age  VIP  \\\n",
              "0             0.0         0.0        0.0     0.0          0.0  39.0  0.0   \n",
              "1             1.0         1.0        0.0     1.0          0.0  24.0  0.0   \n",
              "2             2.0         0.0        0.0     2.0          0.0  58.0  1.0   \n",
              "3             3.0         0.0        0.0     2.0          0.0  33.0  0.0   \n",
              "4             4.0         1.0        0.0     3.0          0.0  16.0  0.0   \n",
              "...           ...         ...        ...     ...          ...   ...  ...   \n",
              "8688       8688.0         0.0        0.0  6556.0          2.0  41.0  1.0   \n",
              "8689       8689.0         1.0        1.0  6557.0          1.0  18.0  0.0   \n",
              "8690       8690.0         1.0        0.0  6558.0          0.0  26.0  0.0   \n",
              "8691       8691.0         0.0        0.0  6559.0          2.0  32.0  0.0   \n",
              "8692       8692.0         0.0        0.0  6559.0          0.0  44.0  0.0   \n",
              "\n",
              "      RoomService  FoodCourt  ShoppingMall     Spa  VRDeck    Name  \n",
              "0             0.0        0.0           0.0     0.0     0.0     0.0  \n",
              "1           109.0        9.0          25.0   549.0    44.0     1.0  \n",
              "2            43.0     3576.0           0.0  6715.0    49.0     2.0  \n",
              "3             0.0     1283.0         371.0  3329.0   193.0     3.0  \n",
              "4           303.0       70.0         151.0   565.0     2.0     4.0  \n",
              "...           ...        ...           ...     ...     ...     ...  \n",
              "8688          0.0     6819.0           0.0  1643.0    74.0  8468.0  \n",
              "8689          0.0        0.0           0.0     0.0     0.0  8469.0  \n",
              "8690          0.0        0.0        1872.0     1.0     0.0  8470.0  \n",
              "8691          0.0     1049.0           0.0   353.0  3235.0  8471.0  \n",
              "8692        126.0     4688.0           0.0     0.0    12.0  8472.0  \n",
              "\n",
              "[8693 rows x 13 columns]"
            ],
            "text/html": [
              "\n",
              "  <div id=\"df-3c94aaaa-4caf-49fc-b889-8aaba38a4661\">\n",
              "    <div class=\"colab-df-container\">\n",
              "      <div>\n",
              "<style scoped>\n",
              "    .dataframe tbody tr th:only-of-type {\n",
              "        vertical-align: middle;\n",
              "    }\n",
              "\n",
              "    .dataframe tbody tr th {\n",
              "        vertical-align: top;\n",
              "    }\n",
              "\n",
              "    .dataframe thead th {\n",
              "        text-align: right;\n",
              "    }\n",
              "</style>\n",
              "<table border=\"1\" class=\"dataframe\">\n",
              "  <thead>\n",
              "    <tr style=\"text-align: right;\">\n",
              "      <th></th>\n",
              "      <th>PassengerId</th>\n",
              "      <th>HomePlanet</th>\n",
              "      <th>CryoSleep</th>\n",
              "      <th>Cabin</th>\n",
              "      <th>Destination</th>\n",
              "      <th>Age</th>\n",
              "      <th>VIP</th>\n",
              "      <th>RoomService</th>\n",
              "      <th>FoodCourt</th>\n",
              "      <th>ShoppingMall</th>\n",
              "      <th>Spa</th>\n",
              "      <th>VRDeck</th>\n",
              "      <th>Name</th>\n",
              "    </tr>\n",
              "  </thead>\n",
              "  <tbody>\n",
              "    <tr>\n",
              "      <th>0</th>\n",
              "      <td>0.0</td>\n",
              "      <td>0.0</td>\n",
              "      <td>0.0</td>\n",
              "      <td>0.0</td>\n",
              "      <td>0.0</td>\n",
              "      <td>39.0</td>\n",
              "      <td>0.0</td>\n",
              "      <td>0.0</td>\n",
              "      <td>0.0</td>\n",
              "      <td>0.0</td>\n",
              "      <td>0.0</td>\n",
              "      <td>0.0</td>\n",
              "      <td>0.0</td>\n",
              "    </tr>\n",
              "    <tr>\n",
              "      <th>1</th>\n",
              "      <td>1.0</td>\n",
              "      <td>1.0</td>\n",
              "      <td>0.0</td>\n",
              "      <td>1.0</td>\n",
              "      <td>0.0</td>\n",
              "      <td>24.0</td>\n",
              "      <td>0.0</td>\n",
              "      <td>109.0</td>\n",
              "      <td>9.0</td>\n",
              "      <td>25.0</td>\n",
              "      <td>549.0</td>\n",
              "      <td>44.0</td>\n",
              "      <td>1.0</td>\n",
              "    </tr>\n",
              "    <tr>\n",
              "      <th>2</th>\n",
              "      <td>2.0</td>\n",
              "      <td>0.0</td>\n",
              "      <td>0.0</td>\n",
              "      <td>2.0</td>\n",
              "      <td>0.0</td>\n",
              "      <td>58.0</td>\n",
              "      <td>1.0</td>\n",
              "      <td>43.0</td>\n",
              "      <td>3576.0</td>\n",
              "      <td>0.0</td>\n",
              "      <td>6715.0</td>\n",
              "      <td>49.0</td>\n",
              "      <td>2.0</td>\n",
              "    </tr>\n",
              "    <tr>\n",
              "      <th>3</th>\n",
              "      <td>3.0</td>\n",
              "      <td>0.0</td>\n",
              "      <td>0.0</td>\n",
              "      <td>2.0</td>\n",
              "      <td>0.0</td>\n",
              "      <td>33.0</td>\n",
              "      <td>0.0</td>\n",
              "      <td>0.0</td>\n",
              "      <td>1283.0</td>\n",
              "      <td>371.0</td>\n",
              "      <td>3329.0</td>\n",
              "      <td>193.0</td>\n",
              "      <td>3.0</td>\n",
              "    </tr>\n",
              "    <tr>\n",
              "      <th>4</th>\n",
              "      <td>4.0</td>\n",
              "      <td>1.0</td>\n",
              "      <td>0.0</td>\n",
              "      <td>3.0</td>\n",
              "      <td>0.0</td>\n",
              "      <td>16.0</td>\n",
              "      <td>0.0</td>\n",
              "      <td>303.0</td>\n",
              "      <td>70.0</td>\n",
              "      <td>151.0</td>\n",
              "      <td>565.0</td>\n",
              "      <td>2.0</td>\n",
              "      <td>4.0</td>\n",
              "    </tr>\n",
              "    <tr>\n",
              "      <th>...</th>\n",
              "      <td>...</td>\n",
              "      <td>...</td>\n",
              "      <td>...</td>\n",
              "      <td>...</td>\n",
              "      <td>...</td>\n",
              "      <td>...</td>\n",
              "      <td>...</td>\n",
              "      <td>...</td>\n",
              "      <td>...</td>\n",
              "      <td>...</td>\n",
              "      <td>...</td>\n",
              "      <td>...</td>\n",
              "      <td>...</td>\n",
              "    </tr>\n",
              "    <tr>\n",
              "      <th>8688</th>\n",
              "      <td>8688.0</td>\n",
              "      <td>0.0</td>\n",
              "      <td>0.0</td>\n",
              "      <td>6556.0</td>\n",
              "      <td>2.0</td>\n",
              "      <td>41.0</td>\n",
              "      <td>1.0</td>\n",
              "      <td>0.0</td>\n",
              "      <td>6819.0</td>\n",
              "      <td>0.0</td>\n",
              "      <td>1643.0</td>\n",
              "      <td>74.0</td>\n",
              "      <td>8468.0</td>\n",
              "    </tr>\n",
              "    <tr>\n",
              "      <th>8689</th>\n",
              "      <td>8689.0</td>\n",
              "      <td>1.0</td>\n",
              "      <td>1.0</td>\n",
              "      <td>6557.0</td>\n",
              "      <td>1.0</td>\n",
              "      <td>18.0</td>\n",
              "      <td>0.0</td>\n",
              "      <td>0.0</td>\n",
              "      <td>0.0</td>\n",
              "      <td>0.0</td>\n",
              "      <td>0.0</td>\n",
              "      <td>0.0</td>\n",
              "      <td>8469.0</td>\n",
              "    </tr>\n",
              "    <tr>\n",
              "      <th>8690</th>\n",
              "      <td>8690.0</td>\n",
              "      <td>1.0</td>\n",
              "      <td>0.0</td>\n",
              "      <td>6558.0</td>\n",
              "      <td>0.0</td>\n",
              "      <td>26.0</td>\n",
              "      <td>0.0</td>\n",
              "      <td>0.0</td>\n",
              "      <td>0.0</td>\n",
              "      <td>1872.0</td>\n",
              "      <td>1.0</td>\n",
              "      <td>0.0</td>\n",
              "      <td>8470.0</td>\n",
              "    </tr>\n",
              "    <tr>\n",
              "      <th>8691</th>\n",
              "      <td>8691.0</td>\n",
              "      <td>0.0</td>\n",
              "      <td>0.0</td>\n",
              "      <td>6559.0</td>\n",
              "      <td>2.0</td>\n",
              "      <td>32.0</td>\n",
              "      <td>0.0</td>\n",
              "      <td>0.0</td>\n",
              "      <td>1049.0</td>\n",
              "      <td>0.0</td>\n",
              "      <td>353.0</td>\n",
              "      <td>3235.0</td>\n",
              "      <td>8471.0</td>\n",
              "    </tr>\n",
              "    <tr>\n",
              "      <th>8692</th>\n",
              "      <td>8692.0</td>\n",
              "      <td>0.0</td>\n",
              "      <td>0.0</td>\n",
              "      <td>6559.0</td>\n",
              "      <td>0.0</td>\n",
              "      <td>44.0</td>\n",
              "      <td>0.0</td>\n",
              "      <td>126.0</td>\n",
              "      <td>4688.0</td>\n",
              "      <td>0.0</td>\n",
              "      <td>0.0</td>\n",
              "      <td>12.0</td>\n",
              "      <td>8472.0</td>\n",
              "    </tr>\n",
              "  </tbody>\n",
              "</table>\n",
              "<p>8693 rows × 13 columns</p>\n",
              "</div>\n",
              "      <button class=\"colab-df-convert\" onclick=\"convertToInteractive('df-3c94aaaa-4caf-49fc-b889-8aaba38a4661')\"\n",
              "              title=\"Convert this dataframe to an interactive table.\"\n",
              "              style=\"display:none;\">\n",
              "        \n",
              "  <svg xmlns=\"http://www.w3.org/2000/svg\" height=\"24px\"viewBox=\"0 0 24 24\"\n",
              "       width=\"24px\">\n",
              "    <path d=\"M0 0h24v24H0V0z\" fill=\"none\"/>\n",
              "    <path d=\"M18.56 5.44l.94 2.06.94-2.06 2.06-.94-2.06-.94-.94-2.06-.94 2.06-2.06.94zm-11 1L8.5 8.5l.94-2.06 2.06-.94-2.06-.94L8.5 2.5l-.94 2.06-2.06.94zm10 10l.94 2.06.94-2.06 2.06-.94-2.06-.94-.94-2.06-.94 2.06-2.06.94z\"/><path d=\"M17.41 7.96l-1.37-1.37c-.4-.4-.92-.59-1.43-.59-.52 0-1.04.2-1.43.59L10.3 9.45l-7.72 7.72c-.78.78-.78 2.05 0 2.83L4 21.41c.39.39.9.59 1.41.59.51 0 1.02-.2 1.41-.59l7.78-7.78 2.81-2.81c.8-.78.8-2.07 0-2.86zM5.41 20L4 18.59l7.72-7.72 1.47 1.35L5.41 20z\"/>\n",
              "  </svg>\n",
              "      </button>\n",
              "      \n",
              "  <style>\n",
              "    .colab-df-container {\n",
              "      display:flex;\n",
              "      flex-wrap:wrap;\n",
              "      gap: 12px;\n",
              "    }\n",
              "\n",
              "    .colab-df-convert {\n",
              "      background-color: #E8F0FE;\n",
              "      border: none;\n",
              "      border-radius: 50%;\n",
              "      cursor: pointer;\n",
              "      display: none;\n",
              "      fill: #1967D2;\n",
              "      height: 32px;\n",
              "      padding: 0 0 0 0;\n",
              "      width: 32px;\n",
              "    }\n",
              "\n",
              "    .colab-df-convert:hover {\n",
              "      background-color: #E2EBFA;\n",
              "      box-shadow: 0px 1px 2px rgba(60, 64, 67, 0.3), 0px 1px 3px 1px rgba(60, 64, 67, 0.15);\n",
              "      fill: #174EA6;\n",
              "    }\n",
              "\n",
              "    [theme=dark] .colab-df-convert {\n",
              "      background-color: #3B4455;\n",
              "      fill: #D2E3FC;\n",
              "    }\n",
              "\n",
              "    [theme=dark] .colab-df-convert:hover {\n",
              "      background-color: #434B5C;\n",
              "      box-shadow: 0px 1px 3px 1px rgba(0, 0, 0, 0.15);\n",
              "      filter: drop-shadow(0px 1px 2px rgba(0, 0, 0, 0.3));\n",
              "      fill: #FFFFFF;\n",
              "    }\n",
              "  </style>\n",
              "\n",
              "      <script>\n",
              "        const buttonEl =\n",
              "          document.querySelector('#df-3c94aaaa-4caf-49fc-b889-8aaba38a4661 button.colab-df-convert');\n",
              "        buttonEl.style.display =\n",
              "          google.colab.kernel.accessAllowed ? 'block' : 'none';\n",
              "\n",
              "        async function convertToInteractive(key) {\n",
              "          const element = document.querySelector('#df-3c94aaaa-4caf-49fc-b889-8aaba38a4661');\n",
              "          const dataTable =\n",
              "            await google.colab.kernel.invokeFunction('convertToInteractive',\n",
              "                                                     [key], {});\n",
              "          if (!dataTable) return;\n",
              "\n",
              "          const docLinkHtml = 'Like what you see? Visit the ' +\n",
              "            '<a target=\"_blank\" href=https://colab.research.google.com/notebooks/data_table.ipynb>data table notebook</a>'\n",
              "            + ' to learn more about interactive tables.';\n",
              "          element.innerHTML = '';\n",
              "          dataTable['output_type'] = 'display_data';\n",
              "          await google.colab.output.renderOutput(dataTable, element);\n",
              "          const docLink = document.createElement('div');\n",
              "          docLink.innerHTML = docLinkHtml;\n",
              "          element.appendChild(docLink);\n",
              "        }\n",
              "      </script>\n",
              "    </div>\n",
              "  </div>\n",
              "  "
            ]
          },
          "metadata": {},
          "execution_count": 21
        }
      ]
    },
    {
      "cell_type": "markdown",
      "source": [
        "Since we have test dataset our train will be split into train and validation."
      ],
      "metadata": {
        "id": "P7-KKmQXeF4z"
      }
    },
    {
      "cell_type": "code",
      "source": [
        "#Split of train to train and validation ('val') \n",
        "X_train, X_val, y_train, y_val = train_test_split(X, y, test_size = 0.3)\n",
        "\n",
        "print('TRAIN set:\\n', 'X_train:', X_train.shape, '\\n y_train2: ', y_train.shape)\n",
        "print('VAL set:\\n', 'X_val:', X_val.shape, '\\n y_val2: ', y_val.shape)"
      ],
      "metadata": {
        "id": "ob_X5gIQTF0H",
        "colab": {
          "base_uri": "https://localhost:8080/"
        },
        "outputId": "b4ba9cc9-972e-4e7a-bdab-8f7cb3148869"
      },
      "execution_count": null,
      "outputs": [
        {
          "output_type": "stream",
          "name": "stdout",
          "text": [
            "TRAIN set:\n",
            " X_train: (6085, 13) \n",
            " y_train2:  (6085,)\n",
            "VAL set:\n",
            " X_val: (2608, 13) \n",
            " y_val2:  (2608,)\n"
          ]
        }
      ]
    },
    {
      "cell_type": "markdown",
      "source": [
        "## Machine learning methods\n",
        "Use standard ML algorithms to classify passengers."
      ],
      "metadata": {
        "id": "kVPBpIzWWdx5"
      }
    },
    {
      "cell_type": "code",
      "source": [
        "# enc_col = categorical_preprocessor.fit_transform(df[cat_col])\n",
        "\n",
        "preprocessor = ColumnTransformer([\n",
        "    # ('categorical', categorical_preprocessor, categorical_columns),\n",
        "    ('numerical', numerical_pipeline, numerical_columns)],  \n",
        "    #remainder=\"passthrough\"\n",
        "    )\n",
        "\n",
        "preprocessor"
      ],
      "metadata": {
        "id": "-lHZPEF904rM",
        "colab": {
          "base_uri": "https://localhost:8080/",
          "height": 152
        },
        "outputId": "d2f6b520-b9a3-46e9-ce9b-c58f5b7457b1"
      },
      "execution_count": null,
      "outputs": [
        {
          "output_type": "execute_result",
          "data": {
            "text/plain": [
              "ColumnTransformer(transformers=[('numerical',\n",
              "                                 Pipeline(steps=[('Imputer',\n",
              "                                                  SimpleImputer(strategy='most_frequent')),\n",
              "                                                 ('Scaler', StandardScaler())]),\n",
              "                                 ['CryoSleep', 'Age', 'VIP', 'RoomService',\n",
              "                                  'FoodCourt', 'ShoppingMall', 'Spa',\n",
              "                                  'VRDeck'])])"
            ],
            "text/html": [
              "<style>#sk-container-id-1 {color: black;background-color: white;}#sk-container-id-1 pre{padding: 0;}#sk-container-id-1 div.sk-toggleable {background-color: white;}#sk-container-id-1 label.sk-toggleable__label {cursor: pointer;display: block;width: 100%;margin-bottom: 0;padding: 0.3em;box-sizing: border-box;text-align: center;}#sk-container-id-1 label.sk-toggleable__label-arrow:before {content: \"▸\";float: left;margin-right: 0.25em;color: #696969;}#sk-container-id-1 label.sk-toggleable__label-arrow:hover:before {color: black;}#sk-container-id-1 div.sk-estimator:hover label.sk-toggleable__label-arrow:before {color: black;}#sk-container-id-1 div.sk-toggleable__content {max-height: 0;max-width: 0;overflow: hidden;text-align: left;background-color: #f0f8ff;}#sk-container-id-1 div.sk-toggleable__content pre {margin: 0.2em;color: black;border-radius: 0.25em;background-color: #f0f8ff;}#sk-container-id-1 input.sk-toggleable__control:checked~div.sk-toggleable__content {max-height: 200px;max-width: 100%;overflow: auto;}#sk-container-id-1 input.sk-toggleable__control:checked~label.sk-toggleable__label-arrow:before {content: \"▾\";}#sk-container-id-1 div.sk-estimator input.sk-toggleable__control:checked~label.sk-toggleable__label {background-color: #d4ebff;}#sk-container-id-1 div.sk-label input.sk-toggleable__control:checked~label.sk-toggleable__label {background-color: #d4ebff;}#sk-container-id-1 input.sk-hidden--visually {border: 0;clip: rect(1px 1px 1px 1px);clip: rect(1px, 1px, 1px, 1px);height: 1px;margin: -1px;overflow: hidden;padding: 0;position: absolute;width: 1px;}#sk-container-id-1 div.sk-estimator {font-family: monospace;background-color: #f0f8ff;border: 1px dotted black;border-radius: 0.25em;box-sizing: border-box;margin-bottom: 0.5em;}#sk-container-id-1 div.sk-estimator:hover {background-color: #d4ebff;}#sk-container-id-1 div.sk-parallel-item::after {content: \"\";width: 100%;border-bottom: 1px solid gray;flex-grow: 1;}#sk-container-id-1 div.sk-label:hover label.sk-toggleable__label {background-color: #d4ebff;}#sk-container-id-1 div.sk-serial::before {content: \"\";position: absolute;border-left: 1px solid gray;box-sizing: border-box;top: 0;bottom: 0;left: 50%;z-index: 0;}#sk-container-id-1 div.sk-serial {display: flex;flex-direction: column;align-items: center;background-color: white;padding-right: 0.2em;padding-left: 0.2em;position: relative;}#sk-container-id-1 div.sk-item {position: relative;z-index: 1;}#sk-container-id-1 div.sk-parallel {display: flex;align-items: stretch;justify-content: center;background-color: white;position: relative;}#sk-container-id-1 div.sk-item::before, #sk-container-id-1 div.sk-parallel-item::before {content: \"\";position: absolute;border-left: 1px solid gray;box-sizing: border-box;top: 0;bottom: 0;left: 50%;z-index: -1;}#sk-container-id-1 div.sk-parallel-item {display: flex;flex-direction: column;z-index: 1;position: relative;background-color: white;}#sk-container-id-1 div.sk-parallel-item:first-child::after {align-self: flex-end;width: 50%;}#sk-container-id-1 div.sk-parallel-item:last-child::after {align-self: flex-start;width: 50%;}#sk-container-id-1 div.sk-parallel-item:only-child::after {width: 0;}#sk-container-id-1 div.sk-dashed-wrapped {border: 1px dashed gray;margin: 0 0.4em 0.5em 0.4em;box-sizing: border-box;padding-bottom: 0.4em;background-color: white;}#sk-container-id-1 div.sk-label label {font-family: monospace;font-weight: bold;display: inline-block;line-height: 1.2em;}#sk-container-id-1 div.sk-label-container {text-align: center;}#sk-container-id-1 div.sk-container {/* jupyter's `normalize.less` sets `[hidden] { display: none; }` but bootstrap.min.css set `[hidden] { display: none !important; }` so we also need the `!important` here to be able to override the default hidden behavior on the sphinx rendered scikit-learn.org. See: https://github.com/scikit-learn/scikit-learn/issues/21755 */display: inline-block !important;position: relative;}#sk-container-id-1 div.sk-text-repr-fallback {display: none;}</style><div id=\"sk-container-id-1\" class=\"sk-top-container\"><div class=\"sk-text-repr-fallback\"><pre>ColumnTransformer(transformers=[(&#x27;numerical&#x27;,\n",
              "                                 Pipeline(steps=[(&#x27;Imputer&#x27;,\n",
              "                                                  SimpleImputer(strategy=&#x27;most_frequent&#x27;)),\n",
              "                                                 (&#x27;Scaler&#x27;, StandardScaler())]),\n",
              "                                 [&#x27;CryoSleep&#x27;, &#x27;Age&#x27;, &#x27;VIP&#x27;, &#x27;RoomService&#x27;,\n",
              "                                  &#x27;FoodCourt&#x27;, &#x27;ShoppingMall&#x27;, &#x27;Spa&#x27;,\n",
              "                                  &#x27;VRDeck&#x27;])])</pre><b>In a Jupyter environment, please rerun this cell to show the HTML representation or trust the notebook. <br />On GitHub, the HTML representation is unable to render, please try loading this page with nbviewer.org.</b></div><div class=\"sk-container\" hidden><div class=\"sk-item sk-dashed-wrapped\"><div class=\"sk-label-container\"><div class=\"sk-label sk-toggleable\"><input class=\"sk-toggleable__control sk-hidden--visually\" id=\"sk-estimator-id-1\" type=\"checkbox\" ><label for=\"sk-estimator-id-1\" class=\"sk-toggleable__label sk-toggleable__label-arrow\">ColumnTransformer</label><div class=\"sk-toggleable__content\"><pre>ColumnTransformer(transformers=[(&#x27;numerical&#x27;,\n",
              "                                 Pipeline(steps=[(&#x27;Imputer&#x27;,\n",
              "                                                  SimpleImputer(strategy=&#x27;most_frequent&#x27;)),\n",
              "                                                 (&#x27;Scaler&#x27;, StandardScaler())]),\n",
              "                                 [&#x27;CryoSleep&#x27;, &#x27;Age&#x27;, &#x27;VIP&#x27;, &#x27;RoomService&#x27;,\n",
              "                                  &#x27;FoodCourt&#x27;, &#x27;ShoppingMall&#x27;, &#x27;Spa&#x27;,\n",
              "                                  &#x27;VRDeck&#x27;])])</pre></div></div></div><div class=\"sk-parallel\"><div class=\"sk-parallel-item\"><div class=\"sk-item\"><div class=\"sk-label-container\"><div class=\"sk-label sk-toggleable\"><input class=\"sk-toggleable__control sk-hidden--visually\" id=\"sk-estimator-id-2\" type=\"checkbox\" ><label for=\"sk-estimator-id-2\" class=\"sk-toggleable__label sk-toggleable__label-arrow\">numerical</label><div class=\"sk-toggleable__content\"><pre>[&#x27;CryoSleep&#x27;, &#x27;Age&#x27;, &#x27;VIP&#x27;, &#x27;RoomService&#x27;, &#x27;FoodCourt&#x27;, &#x27;ShoppingMall&#x27;, &#x27;Spa&#x27;, &#x27;VRDeck&#x27;]</pre></div></div></div><div class=\"sk-serial\"><div class=\"sk-item\"><div class=\"sk-serial\"><div class=\"sk-item\"><div class=\"sk-estimator sk-toggleable\"><input class=\"sk-toggleable__control sk-hidden--visually\" id=\"sk-estimator-id-3\" type=\"checkbox\" ><label for=\"sk-estimator-id-3\" class=\"sk-toggleable__label sk-toggleable__label-arrow\">SimpleImputer</label><div class=\"sk-toggleable__content\"><pre>SimpleImputer(strategy=&#x27;most_frequent&#x27;)</pre></div></div></div><div class=\"sk-item\"><div class=\"sk-estimator sk-toggleable\"><input class=\"sk-toggleable__control sk-hidden--visually\" id=\"sk-estimator-id-4\" type=\"checkbox\" ><label for=\"sk-estimator-id-4\" class=\"sk-toggleable__label sk-toggleable__label-arrow\">StandardScaler</label><div class=\"sk-toggleable__content\"><pre>StandardScaler()</pre></div></div></div></div></div></div></div></div></div></div></div></div>"
            ]
          },
          "metadata": {},
          "execution_count": 23
        }
      ]
    },
    {
      "cell_type": "markdown",
      "source": [
        "### Choose metrics you want to use to evaluate those models,"
      ],
      "metadata": {
        "id": "G9O9mBUxWqbF"
      }
    },
    {
      "cell_type": "markdown",
      "source": [
        "Accuracy by default but in thi scase recall might be more informative"
      ],
      "metadata": {
        "id": "BiipiDQ1musq"
      }
    },
    {
      "cell_type": "code",
      "source": [
        "# Spot-Check Algorithms\n",
        "models = []\n",
        "models.append(('LR', LogisticRegression()))\n",
        "\n",
        "\n",
        "model_name = []\n",
        "name = []\n",
        "for name, model_name in models:\n",
        "  model = make_pipeline(preprocessor, model_name)\n",
        "  model.fit(X_train, y_train)\n",
        "  model.predict(X_val)\n",
        "  print(f'{name} accuracy: {model.score(X_val, y_val)}')\n",
        "  print(f'{name} recall: {recall_score(y_val, model.predict(X_val))}')\n",
        "  # print(f'{name} precision: {precision_score(y_val2, model.predict(X_val2), average=\"macro\")}')\n",
        "  print(f'{name} f1_score: {f1_score(y_val, model.predict(X_val))}')\n",
        "  print('\\n')"
      ],
      "metadata": {
        "colab": {
          "base_uri": "https://localhost:8080/"
        },
        "id": "_AVXqLgilssw",
        "outputId": "d1b579d0-b1ca-44b1-a55b-fa0b14ed0b13"
      },
      "execution_count": null,
      "outputs": [
        {
          "output_type": "stream",
          "name": "stdout",
          "text": [
            "LR accuracy: 0.7756901840490797\n",
            "LR recall: 0.7678300455235205\n",
            "LR f1_score: 0.7757761594480643\n",
            "\n",
            "\n"
          ]
        }
      ]
    },
    {
      "cell_type": "code",
      "source": [
        "model"
      ],
      "metadata": {
        "colab": {
          "base_uri": "https://localhost:8080/",
          "height": 227
        },
        "id": "X1L5XPasX-RQ",
        "outputId": "3ae8a29b-ae92-4b20-b43b-9b3c0d746a34"
      },
      "execution_count": null,
      "outputs": [
        {
          "output_type": "execute_result",
          "data": {
            "text/plain": [
              "Pipeline(steps=[('columntransformer',\n",
              "                 ColumnTransformer(transformers=[('numerical',\n",
              "                                                  Pipeline(steps=[('Imputer',\n",
              "                                                                   SimpleImputer(strategy='most_frequent')),\n",
              "                                                                  ('Scaler',\n",
              "                                                                   StandardScaler())]),\n",
              "                                                  ['CryoSleep', 'Age', 'VIP',\n",
              "                                                   'RoomService', 'FoodCourt',\n",
              "                                                   'ShoppingMall', 'Spa',\n",
              "                                                   'VRDeck'])])),\n",
              "                ('logisticregression', LogisticRegression())])"
            ],
            "text/html": [
              "<style>#sk-container-id-2 {color: black;background-color: white;}#sk-container-id-2 pre{padding: 0;}#sk-container-id-2 div.sk-toggleable {background-color: white;}#sk-container-id-2 label.sk-toggleable__label {cursor: pointer;display: block;width: 100%;margin-bottom: 0;padding: 0.3em;box-sizing: border-box;text-align: center;}#sk-container-id-2 label.sk-toggleable__label-arrow:before {content: \"▸\";float: left;margin-right: 0.25em;color: #696969;}#sk-container-id-2 label.sk-toggleable__label-arrow:hover:before {color: black;}#sk-container-id-2 div.sk-estimator:hover label.sk-toggleable__label-arrow:before {color: black;}#sk-container-id-2 div.sk-toggleable__content {max-height: 0;max-width: 0;overflow: hidden;text-align: left;background-color: #f0f8ff;}#sk-container-id-2 div.sk-toggleable__content pre {margin: 0.2em;color: black;border-radius: 0.25em;background-color: #f0f8ff;}#sk-container-id-2 input.sk-toggleable__control:checked~div.sk-toggleable__content {max-height: 200px;max-width: 100%;overflow: auto;}#sk-container-id-2 input.sk-toggleable__control:checked~label.sk-toggleable__label-arrow:before {content: \"▾\";}#sk-container-id-2 div.sk-estimator input.sk-toggleable__control:checked~label.sk-toggleable__label {background-color: #d4ebff;}#sk-container-id-2 div.sk-label input.sk-toggleable__control:checked~label.sk-toggleable__label {background-color: #d4ebff;}#sk-container-id-2 input.sk-hidden--visually {border: 0;clip: rect(1px 1px 1px 1px);clip: rect(1px, 1px, 1px, 1px);height: 1px;margin: -1px;overflow: hidden;padding: 0;position: absolute;width: 1px;}#sk-container-id-2 div.sk-estimator {font-family: monospace;background-color: #f0f8ff;border: 1px dotted black;border-radius: 0.25em;box-sizing: border-box;margin-bottom: 0.5em;}#sk-container-id-2 div.sk-estimator:hover {background-color: #d4ebff;}#sk-container-id-2 div.sk-parallel-item::after {content: \"\";width: 100%;border-bottom: 1px solid gray;flex-grow: 1;}#sk-container-id-2 div.sk-label:hover label.sk-toggleable__label {background-color: #d4ebff;}#sk-container-id-2 div.sk-serial::before {content: \"\";position: absolute;border-left: 1px solid gray;box-sizing: border-box;top: 0;bottom: 0;left: 50%;z-index: 0;}#sk-container-id-2 div.sk-serial {display: flex;flex-direction: column;align-items: center;background-color: white;padding-right: 0.2em;padding-left: 0.2em;position: relative;}#sk-container-id-2 div.sk-item {position: relative;z-index: 1;}#sk-container-id-2 div.sk-parallel {display: flex;align-items: stretch;justify-content: center;background-color: white;position: relative;}#sk-container-id-2 div.sk-item::before, #sk-container-id-2 div.sk-parallel-item::before {content: \"\";position: absolute;border-left: 1px solid gray;box-sizing: border-box;top: 0;bottom: 0;left: 50%;z-index: -1;}#sk-container-id-2 div.sk-parallel-item {display: flex;flex-direction: column;z-index: 1;position: relative;background-color: white;}#sk-container-id-2 div.sk-parallel-item:first-child::after {align-self: flex-end;width: 50%;}#sk-container-id-2 div.sk-parallel-item:last-child::after {align-self: flex-start;width: 50%;}#sk-container-id-2 div.sk-parallel-item:only-child::after {width: 0;}#sk-container-id-2 div.sk-dashed-wrapped {border: 1px dashed gray;margin: 0 0.4em 0.5em 0.4em;box-sizing: border-box;padding-bottom: 0.4em;background-color: white;}#sk-container-id-2 div.sk-label label {font-family: monospace;font-weight: bold;display: inline-block;line-height: 1.2em;}#sk-container-id-2 div.sk-label-container {text-align: center;}#sk-container-id-2 div.sk-container {/* jupyter's `normalize.less` sets `[hidden] { display: none; }` but bootstrap.min.css set `[hidden] { display: none !important; }` so we also need the `!important` here to be able to override the default hidden behavior on the sphinx rendered scikit-learn.org. See: https://github.com/scikit-learn/scikit-learn/issues/21755 */display: inline-block !important;position: relative;}#sk-container-id-2 div.sk-text-repr-fallback {display: none;}</style><div id=\"sk-container-id-2\" class=\"sk-top-container\"><div class=\"sk-text-repr-fallback\"><pre>Pipeline(steps=[(&#x27;columntransformer&#x27;,\n",
              "                 ColumnTransformer(transformers=[(&#x27;numerical&#x27;,\n",
              "                                                  Pipeline(steps=[(&#x27;Imputer&#x27;,\n",
              "                                                                   SimpleImputer(strategy=&#x27;most_frequent&#x27;)),\n",
              "                                                                  (&#x27;Scaler&#x27;,\n",
              "                                                                   StandardScaler())]),\n",
              "                                                  [&#x27;CryoSleep&#x27;, &#x27;Age&#x27;, &#x27;VIP&#x27;,\n",
              "                                                   &#x27;RoomService&#x27;, &#x27;FoodCourt&#x27;,\n",
              "                                                   &#x27;ShoppingMall&#x27;, &#x27;Spa&#x27;,\n",
              "                                                   &#x27;VRDeck&#x27;])])),\n",
              "                (&#x27;logisticregression&#x27;, LogisticRegression())])</pre><b>In a Jupyter environment, please rerun this cell to show the HTML representation or trust the notebook. <br />On GitHub, the HTML representation is unable to render, please try loading this page with nbviewer.org.</b></div><div class=\"sk-container\" hidden><div class=\"sk-item sk-dashed-wrapped\"><div class=\"sk-label-container\"><div class=\"sk-label sk-toggleable\"><input class=\"sk-toggleable__control sk-hidden--visually\" id=\"sk-estimator-id-5\" type=\"checkbox\" ><label for=\"sk-estimator-id-5\" class=\"sk-toggleable__label sk-toggleable__label-arrow\">Pipeline</label><div class=\"sk-toggleable__content\"><pre>Pipeline(steps=[(&#x27;columntransformer&#x27;,\n",
              "                 ColumnTransformer(transformers=[(&#x27;numerical&#x27;,\n",
              "                                                  Pipeline(steps=[(&#x27;Imputer&#x27;,\n",
              "                                                                   SimpleImputer(strategy=&#x27;most_frequent&#x27;)),\n",
              "                                                                  (&#x27;Scaler&#x27;,\n",
              "                                                                   StandardScaler())]),\n",
              "                                                  [&#x27;CryoSleep&#x27;, &#x27;Age&#x27;, &#x27;VIP&#x27;,\n",
              "                                                   &#x27;RoomService&#x27;, &#x27;FoodCourt&#x27;,\n",
              "                                                   &#x27;ShoppingMall&#x27;, &#x27;Spa&#x27;,\n",
              "                                                   &#x27;VRDeck&#x27;])])),\n",
              "                (&#x27;logisticregression&#x27;, LogisticRegression())])</pre></div></div></div><div class=\"sk-serial\"><div class=\"sk-item sk-dashed-wrapped\"><div class=\"sk-label-container\"><div class=\"sk-label sk-toggleable\"><input class=\"sk-toggleable__control sk-hidden--visually\" id=\"sk-estimator-id-6\" type=\"checkbox\" ><label for=\"sk-estimator-id-6\" class=\"sk-toggleable__label sk-toggleable__label-arrow\">columntransformer: ColumnTransformer</label><div class=\"sk-toggleable__content\"><pre>ColumnTransformer(transformers=[(&#x27;numerical&#x27;,\n",
              "                                 Pipeline(steps=[(&#x27;Imputer&#x27;,\n",
              "                                                  SimpleImputer(strategy=&#x27;most_frequent&#x27;)),\n",
              "                                                 (&#x27;Scaler&#x27;, StandardScaler())]),\n",
              "                                 [&#x27;CryoSleep&#x27;, &#x27;Age&#x27;, &#x27;VIP&#x27;, &#x27;RoomService&#x27;,\n",
              "                                  &#x27;FoodCourt&#x27;, &#x27;ShoppingMall&#x27;, &#x27;Spa&#x27;,\n",
              "                                  &#x27;VRDeck&#x27;])])</pre></div></div></div><div class=\"sk-parallel\"><div class=\"sk-parallel-item\"><div class=\"sk-item\"><div class=\"sk-label-container\"><div class=\"sk-label sk-toggleable\"><input class=\"sk-toggleable__control sk-hidden--visually\" id=\"sk-estimator-id-7\" type=\"checkbox\" ><label for=\"sk-estimator-id-7\" class=\"sk-toggleable__label sk-toggleable__label-arrow\">numerical</label><div class=\"sk-toggleable__content\"><pre>[&#x27;CryoSleep&#x27;, &#x27;Age&#x27;, &#x27;VIP&#x27;, &#x27;RoomService&#x27;, &#x27;FoodCourt&#x27;, &#x27;ShoppingMall&#x27;, &#x27;Spa&#x27;, &#x27;VRDeck&#x27;]</pre></div></div></div><div class=\"sk-serial\"><div class=\"sk-item\"><div class=\"sk-serial\"><div class=\"sk-item\"><div class=\"sk-estimator sk-toggleable\"><input class=\"sk-toggleable__control sk-hidden--visually\" id=\"sk-estimator-id-8\" type=\"checkbox\" ><label for=\"sk-estimator-id-8\" class=\"sk-toggleable__label sk-toggleable__label-arrow\">SimpleImputer</label><div class=\"sk-toggleable__content\"><pre>SimpleImputer(strategy=&#x27;most_frequent&#x27;)</pre></div></div></div><div class=\"sk-item\"><div class=\"sk-estimator sk-toggleable\"><input class=\"sk-toggleable__control sk-hidden--visually\" id=\"sk-estimator-id-9\" type=\"checkbox\" ><label for=\"sk-estimator-id-9\" class=\"sk-toggleable__label sk-toggleable__label-arrow\">StandardScaler</label><div class=\"sk-toggleable__content\"><pre>StandardScaler()</pre></div></div></div></div></div></div></div></div></div></div><div class=\"sk-item\"><div class=\"sk-estimator sk-toggleable\"><input class=\"sk-toggleable__control sk-hidden--visually\" id=\"sk-estimator-id-10\" type=\"checkbox\" ><label for=\"sk-estimator-id-10\" class=\"sk-toggleable__label sk-toggleable__label-arrow\">LogisticRegression</label><div class=\"sk-toggleable__content\"><pre>LogisticRegression()</pre></div></div></div></div></div></div></div>"
            ]
          },
          "metadata": {},
          "execution_count": 25
        }
      ]
    }
  ]
}