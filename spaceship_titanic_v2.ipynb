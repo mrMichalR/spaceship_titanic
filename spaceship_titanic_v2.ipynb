{
  "nbformat": 4,
  "nbformat_minor": 0,
  "metadata": {
    "colab": {
      "provenance": [],
      "toc_visible": true,
      "mount_file_id": "16MlCxrKKJsOHhP9fxQuhAJNF4Ycm6hwU",
      "authorship_tag": "ABX9TyP4GieqAYW6K/FcnpPGvOoC",
      "include_colab_link": true
    },
    "kernelspec": {
      "name": "python3",
      "display_name": "Python 3"
    },
    "language_info": {
      "name": "python"
    },
    "accelerator": "GPU",
    "gpuClass": "standard"
  },
  "cells": [
    {
      "cell_type": "markdown",
      "metadata": {
        "id": "view-in-github",
        "colab_type": "text"
      },
      "source": [
        "<a href=\"https://colab.research.google.com/github/mrMichalR/spaceship_titanic/blob/main/spaceship_titanic_v2.ipynb\" target=\"_parent\"><img src=\"https://colab.research.google.com/assets/colab-badge.svg\" alt=\"Open In Colab\"/></a>"
      ]
    },
    {
      "cell_type": "markdown",
      "source": [
        "# Spaceship Titanic project\n",
        "\n",
        "Welcome to the year 2912, where your data science skills are needed to solve a cosmic mystery. We've received a transmission from four lightyears away and things aren't looking good. The Spaceship Titanic was an interstellar passenger liner launched a month ago. With almost 13,000 passengers on board, the vessel set out on its maiden voyage transporting emigrants from our solar system to three newly habitable exoplanets orbiting nearby stars. While rounding Alpha Centauri en route to its first destination—the torrid 55 Cancri E—the unwary Spaceship Titanic collided with a spacetime anomaly hidden within a dust cloud. Sadly, it met a similar fate as its namesake from 1000 years before. Though the ship stayed intact, almost half of the passengers were transported to an alternate dimension! To help rescue crews and retrieve the lost passengers, you are challenged to predict which passengers were transported by the anomaly using records recovered from the spaceship’s damaged computer system. Help save them and change history!"
      ],
      "metadata": {
        "id": "ObHsFt9A2buA"
      }
    },
    {
      "cell_type": "code",
      "source": [
        "# !pip install opendatasets\n",
        "# !pip install ydata-profiling\n",
        "!pip install catboost\n",
        "!pip install optuna"
      ],
      "metadata": {
        "id": "z4Age1QqTm7s",
        "colab": {
          "base_uri": "https://localhost:8080/"
        },
        "outputId": "1a55fad9-6d90-4fe1-82d2-c3ac2814fd3e"
      },
      "execution_count": 1,
      "outputs": [
        {
          "output_type": "stream",
          "name": "stdout",
          "text": [
            "Looking in indexes: https://pypi.org/simple, https://us-python.pkg.dev/colab-wheels/public/simple/\n",
            "Requirement already satisfied: catboost in /usr/local/lib/python3.9/dist-packages (1.1.1)\n",
            "Requirement already satisfied: plotly in /usr/local/lib/python3.9/dist-packages (from catboost) (5.13.1)\n",
            "Requirement already satisfied: numpy>=1.16.0 in /usr/local/lib/python3.9/dist-packages (from catboost) (1.22.4)\n",
            "Requirement already satisfied: graphviz in /usr/local/lib/python3.9/dist-packages (from catboost) (0.20.1)\n",
            "Requirement already satisfied: scipy in /usr/local/lib/python3.9/dist-packages (from catboost) (1.10.1)\n",
            "Requirement already satisfied: pandas>=0.24.0 in /usr/local/lib/python3.9/dist-packages (from catboost) (1.4.4)\n",
            "Requirement already satisfied: six in /usr/local/lib/python3.9/dist-packages (from catboost) (1.16.0)\n",
            "Requirement already satisfied: matplotlib in /usr/local/lib/python3.9/dist-packages (from catboost) (3.7.1)\n",
            "Requirement already satisfied: pytz>=2020.1 in /usr/local/lib/python3.9/dist-packages (from pandas>=0.24.0->catboost) (2022.7.1)\n",
            "Requirement already satisfied: python-dateutil>=2.8.1 in /usr/local/lib/python3.9/dist-packages (from pandas>=0.24.0->catboost) (2.8.2)\n",
            "Requirement already satisfied: fonttools>=4.22.0 in /usr/local/lib/python3.9/dist-packages (from matplotlib->catboost) (4.39.2)\n",
            "Requirement already satisfied: packaging>=20.0 in /usr/local/lib/python3.9/dist-packages (from matplotlib->catboost) (23.0)\n",
            "Requirement already satisfied: contourpy>=1.0.1 in /usr/local/lib/python3.9/dist-packages (from matplotlib->catboost) (1.0.7)\n",
            "Requirement already satisfied: cycler>=0.10 in /usr/local/lib/python3.9/dist-packages (from matplotlib->catboost) (0.11.0)\n",
            "Requirement already satisfied: pillow>=6.2.0 in /usr/local/lib/python3.9/dist-packages (from matplotlib->catboost) (8.4.0)\n",
            "Requirement already satisfied: importlib-resources>=3.2.0 in /usr/local/lib/python3.9/dist-packages (from matplotlib->catboost) (5.12.0)\n",
            "Requirement already satisfied: pyparsing>=2.3.1 in /usr/local/lib/python3.9/dist-packages (from matplotlib->catboost) (3.0.9)\n",
            "Requirement already satisfied: kiwisolver>=1.0.1 in /usr/local/lib/python3.9/dist-packages (from matplotlib->catboost) (1.4.4)\n",
            "Requirement already satisfied: tenacity>=6.2.0 in /usr/local/lib/python3.9/dist-packages (from plotly->catboost) (8.2.2)\n",
            "Requirement already satisfied: zipp>=3.1.0 in /usr/local/lib/python3.9/dist-packages (from importlib-resources>=3.2.0->matplotlib->catboost) (3.15.0)\n",
            "Looking in indexes: https://pypi.org/simple, https://us-python.pkg.dev/colab-wheels/public/simple/\n",
            "Requirement already satisfied: optuna in /usr/local/lib/python3.9/dist-packages (3.1.0)\n",
            "Requirement already satisfied: tqdm in /usr/local/lib/python3.9/dist-packages (from optuna) (4.65.0)\n",
            "Requirement already satisfied: PyYAML in /usr/local/lib/python3.9/dist-packages (from optuna) (6.0)\n",
            "Requirement already satisfied: alembic>=1.5.0 in /usr/local/lib/python3.9/dist-packages (from optuna) (1.10.2)\n",
            "Requirement already satisfied: cmaes>=0.9.1 in /usr/local/lib/python3.9/dist-packages (from optuna) (0.9.1)\n",
            "Requirement already satisfied: numpy in /usr/local/lib/python3.9/dist-packages (from optuna) (1.22.4)\n",
            "Requirement already satisfied: packaging>=20.0 in /usr/local/lib/python3.9/dist-packages (from optuna) (23.0)\n",
            "Requirement already satisfied: sqlalchemy>=1.3.0 in /usr/local/lib/python3.9/dist-packages (from optuna) (1.4.47)\n",
            "Requirement already satisfied: colorlog in /usr/local/lib/python3.9/dist-packages (from optuna) (6.7.0)\n",
            "Requirement already satisfied: typing-extensions>=4 in /usr/local/lib/python3.9/dist-packages (from alembic>=1.5.0->optuna) (4.5.0)\n",
            "Requirement already satisfied: Mako in /usr/local/lib/python3.9/dist-packages (from alembic>=1.5.0->optuna) (1.2.4)\n",
            "Requirement already satisfied: greenlet!=0.4.17 in /usr/local/lib/python3.9/dist-packages (from sqlalchemy>=1.3.0->optuna) (2.0.2)\n",
            "Requirement already satisfied: MarkupSafe>=0.9.2 in /usr/local/lib/python3.9/dist-packages (from Mako->alembic>=1.5.0->optuna) (2.1.2)\n"
          ]
        }
      ]
    },
    {
      "cell_type": "code",
      "execution_count": 2,
      "metadata": {
        "id": "ktrFV0zITcT8"
      },
      "outputs": [],
      "source": [
        "import seaborn as sns\n",
        "import pandas as pd\n",
        "import numpy as np\n",
        "import optuna\n",
        "import logging\n",
        "import sys\n",
        "from tqdm import tqdm\n",
        "import torch\n",
        "from optuna.visualization import plot_optimization_history\n",
        "from optuna.visualization import plot_param_importances\n",
        "from numpy import std, mean\n",
        "import matplotlib.pyplot as plt\n",
        "from pandas import set_option\n",
        "from pandas_profiling import ProfileReport\n",
        "from sklearn.model_selection import train_test_split\n",
        "from sklearn.pipeline import Pipeline\n",
        "from sklearn.pipeline import make_pipeline\n",
        "from sklearn.experimental import enable_iterative_imputer\n",
        "from sklearn.impute import IterativeImputer, SimpleImputer\n",
        "from sklearn.preprocessing import OrdinalEncoder\n",
        "from sklearn.preprocessing import StandardScaler, MinMaxScaler\n",
        "from sklearn.compose import ColumnTransformer\n",
        "from sklearn.model_selection import cross_val_score\n",
        "from sklearn.model_selection import KFold, cross_validate\n",
        "from sklearn.model_selection import StratifiedKFold\n",
        "from sklearn.metrics import recall_score, accuracy_score, precision_score, f1_score\n",
        "from sklearn.linear_model import LogisticRegression\n",
        "from xgboost import XGBClassifier\n",
        "import xgboost as xgb\n",
        "from lightgbm import LGBMClassifier\n",
        "import lightgbm as lgb\n",
        "from catboost import CatBoostClassifier\n",
        "import catboost as cb\n",
        "from sklearn.metrics import roc_auc_score\n",
        "import warnings\n",
        "warnings.filterwarnings(\"ignore\", category=FutureWarning)\n",
        "from optuna.integration import LightGBMPruningCallback, XGBoostPruningCallback, CatBoostPruningCallback"
      ]
    },
    {
      "cell_type": "code",
      "source": [
        "from google.colab import drive\n",
        "drive.mount('/content/drive', force_remount=True)\n",
        "# %cd drive/MyDrive/spaceship_titanic/"
      ],
      "metadata": {
        "colab": {
          "base_uri": "https://localhost:8080/"
        },
        "id": "Qcwx7UNGYcnN",
        "outputId": "66298e8f-9ecc-497f-9b8b-70fdad961708"
      },
      "execution_count": 3,
      "outputs": [
        {
          "output_type": "stream",
          "name": "stdout",
          "text": [
            "Mounted at /content/drive\n"
          ]
        }
      ]
    },
    {
      "cell_type": "markdown",
      "source": [
        "## Get data \n",
        "Get data from link: https://www.kaggle.com/competitions/spaceship-titanic/data and read to your notebook."
      ],
      "metadata": {
        "id": "rmWpcWK16F_E"
      }
    },
    {
      "cell_type": "code",
      "source": [
        "# import opendatasets as od\n",
        "# dataset_url = 'https://www.kaggle.com/competitions/spaceship-titanic/data'\n",
        "# od.download(dataset_url)"
      ],
      "metadata": {
        "id": "YFHylcx91soB"
      },
      "execution_count": 4,
      "outputs": []
    },
    {
      "cell_type": "code",
      "source": [
        "df = pd.read_csv('/content/drive/MyDrive/spaceship_titanic/train.csv')\n",
        "df_test = pd.read_csv('/content/drive/MyDrive/spaceship_titanic/test.csv')\n",
        "df"
      ],
      "metadata": {
        "id": "NlaJBPHDbEXw",
        "colab": {
          "base_uri": "https://localhost:8080/",
          "height": 424
        },
        "outputId": "4222c04c-7db8-44ed-bc54-87c964748f7a"
      },
      "execution_count": 5,
      "outputs": [
        {
          "output_type": "execute_result",
          "data": {
            "text/plain": [
              "     PassengerId HomePlanet CryoSleep     Cabin    Destination   Age    VIP  \\\n",
              "0        0001_01     Europa     False     B/0/P    TRAPPIST-1e  39.0  False   \n",
              "1        0002_01      Earth     False     F/0/S    TRAPPIST-1e  24.0  False   \n",
              "2        0003_01     Europa     False     A/0/S    TRAPPIST-1e  58.0   True   \n",
              "3        0003_02     Europa     False     A/0/S    TRAPPIST-1e  33.0  False   \n",
              "4        0004_01      Earth     False     F/1/S    TRAPPIST-1e  16.0  False   \n",
              "...          ...        ...       ...       ...            ...   ...    ...   \n",
              "8688     9276_01     Europa     False    A/98/P    55 Cancri e  41.0   True   \n",
              "8689     9278_01      Earth      True  G/1499/S  PSO J318.5-22  18.0  False   \n",
              "8690     9279_01      Earth     False  G/1500/S    TRAPPIST-1e  26.0  False   \n",
              "8691     9280_01     Europa     False   E/608/S    55 Cancri e  32.0  False   \n",
              "8692     9280_02     Europa     False   E/608/S    TRAPPIST-1e  44.0  False   \n",
              "\n",
              "      RoomService  FoodCourt  ShoppingMall     Spa  VRDeck               Name  \\\n",
              "0             0.0        0.0           0.0     0.0     0.0    Maham Ofracculy   \n",
              "1           109.0        9.0          25.0   549.0    44.0       Juanna Vines   \n",
              "2            43.0     3576.0           0.0  6715.0    49.0      Altark Susent   \n",
              "3             0.0     1283.0         371.0  3329.0   193.0       Solam Susent   \n",
              "4           303.0       70.0         151.0   565.0     2.0  Willy Santantines   \n",
              "...           ...        ...           ...     ...     ...                ...   \n",
              "8688          0.0     6819.0           0.0  1643.0    74.0  Gravior Noxnuther   \n",
              "8689          0.0        0.0           0.0     0.0     0.0    Kurta Mondalley   \n",
              "8690          0.0        0.0        1872.0     1.0     0.0       Fayey Connon   \n",
              "8691          0.0     1049.0           0.0   353.0  3235.0   Celeon Hontichre   \n",
              "8692        126.0     4688.0           0.0     0.0    12.0   Propsh Hontichre   \n",
              "\n",
              "      Transported  \n",
              "0           False  \n",
              "1            True  \n",
              "2           False  \n",
              "3           False  \n",
              "4            True  \n",
              "...           ...  \n",
              "8688        False  \n",
              "8689        False  \n",
              "8690         True  \n",
              "8691        False  \n",
              "8692         True  \n",
              "\n",
              "[8693 rows x 14 columns]"
            ],
            "text/html": [
              "\n",
              "  <div id=\"df-9cad0ebf-3ffb-48f3-a2c9-4d254195e064\">\n",
              "    <div class=\"colab-df-container\">\n",
              "      <div>\n",
              "<style scoped>\n",
              "    .dataframe tbody tr th:only-of-type {\n",
              "        vertical-align: middle;\n",
              "    }\n",
              "\n",
              "    .dataframe tbody tr th {\n",
              "        vertical-align: top;\n",
              "    }\n",
              "\n",
              "    .dataframe thead th {\n",
              "        text-align: right;\n",
              "    }\n",
              "</style>\n",
              "<table border=\"1\" class=\"dataframe\">\n",
              "  <thead>\n",
              "    <tr style=\"text-align: right;\">\n",
              "      <th></th>\n",
              "      <th>PassengerId</th>\n",
              "      <th>HomePlanet</th>\n",
              "      <th>CryoSleep</th>\n",
              "      <th>Cabin</th>\n",
              "      <th>Destination</th>\n",
              "      <th>Age</th>\n",
              "      <th>VIP</th>\n",
              "      <th>RoomService</th>\n",
              "      <th>FoodCourt</th>\n",
              "      <th>ShoppingMall</th>\n",
              "      <th>Spa</th>\n",
              "      <th>VRDeck</th>\n",
              "      <th>Name</th>\n",
              "      <th>Transported</th>\n",
              "    </tr>\n",
              "  </thead>\n",
              "  <tbody>\n",
              "    <tr>\n",
              "      <th>0</th>\n",
              "      <td>0001_01</td>\n",
              "      <td>Europa</td>\n",
              "      <td>False</td>\n",
              "      <td>B/0/P</td>\n",
              "      <td>TRAPPIST-1e</td>\n",
              "      <td>39.0</td>\n",
              "      <td>False</td>\n",
              "      <td>0.0</td>\n",
              "      <td>0.0</td>\n",
              "      <td>0.0</td>\n",
              "      <td>0.0</td>\n",
              "      <td>0.0</td>\n",
              "      <td>Maham Ofracculy</td>\n",
              "      <td>False</td>\n",
              "    </tr>\n",
              "    <tr>\n",
              "      <th>1</th>\n",
              "      <td>0002_01</td>\n",
              "      <td>Earth</td>\n",
              "      <td>False</td>\n",
              "      <td>F/0/S</td>\n",
              "      <td>TRAPPIST-1e</td>\n",
              "      <td>24.0</td>\n",
              "      <td>False</td>\n",
              "      <td>109.0</td>\n",
              "      <td>9.0</td>\n",
              "      <td>25.0</td>\n",
              "      <td>549.0</td>\n",
              "      <td>44.0</td>\n",
              "      <td>Juanna Vines</td>\n",
              "      <td>True</td>\n",
              "    </tr>\n",
              "    <tr>\n",
              "      <th>2</th>\n",
              "      <td>0003_01</td>\n",
              "      <td>Europa</td>\n",
              "      <td>False</td>\n",
              "      <td>A/0/S</td>\n",
              "      <td>TRAPPIST-1e</td>\n",
              "      <td>58.0</td>\n",
              "      <td>True</td>\n",
              "      <td>43.0</td>\n",
              "      <td>3576.0</td>\n",
              "      <td>0.0</td>\n",
              "      <td>6715.0</td>\n",
              "      <td>49.0</td>\n",
              "      <td>Altark Susent</td>\n",
              "      <td>False</td>\n",
              "    </tr>\n",
              "    <tr>\n",
              "      <th>3</th>\n",
              "      <td>0003_02</td>\n",
              "      <td>Europa</td>\n",
              "      <td>False</td>\n",
              "      <td>A/0/S</td>\n",
              "      <td>TRAPPIST-1e</td>\n",
              "      <td>33.0</td>\n",
              "      <td>False</td>\n",
              "      <td>0.0</td>\n",
              "      <td>1283.0</td>\n",
              "      <td>371.0</td>\n",
              "      <td>3329.0</td>\n",
              "      <td>193.0</td>\n",
              "      <td>Solam Susent</td>\n",
              "      <td>False</td>\n",
              "    </tr>\n",
              "    <tr>\n",
              "      <th>4</th>\n",
              "      <td>0004_01</td>\n",
              "      <td>Earth</td>\n",
              "      <td>False</td>\n",
              "      <td>F/1/S</td>\n",
              "      <td>TRAPPIST-1e</td>\n",
              "      <td>16.0</td>\n",
              "      <td>False</td>\n",
              "      <td>303.0</td>\n",
              "      <td>70.0</td>\n",
              "      <td>151.0</td>\n",
              "      <td>565.0</td>\n",
              "      <td>2.0</td>\n",
              "      <td>Willy Santantines</td>\n",
              "      <td>True</td>\n",
              "    </tr>\n",
              "    <tr>\n",
              "      <th>...</th>\n",
              "      <td>...</td>\n",
              "      <td>...</td>\n",
              "      <td>...</td>\n",
              "      <td>...</td>\n",
              "      <td>...</td>\n",
              "      <td>...</td>\n",
              "      <td>...</td>\n",
              "      <td>...</td>\n",
              "      <td>...</td>\n",
              "      <td>...</td>\n",
              "      <td>...</td>\n",
              "      <td>...</td>\n",
              "      <td>...</td>\n",
              "      <td>...</td>\n",
              "    </tr>\n",
              "    <tr>\n",
              "      <th>8688</th>\n",
              "      <td>9276_01</td>\n",
              "      <td>Europa</td>\n",
              "      <td>False</td>\n",
              "      <td>A/98/P</td>\n",
              "      <td>55 Cancri e</td>\n",
              "      <td>41.0</td>\n",
              "      <td>True</td>\n",
              "      <td>0.0</td>\n",
              "      <td>6819.0</td>\n",
              "      <td>0.0</td>\n",
              "      <td>1643.0</td>\n",
              "      <td>74.0</td>\n",
              "      <td>Gravior Noxnuther</td>\n",
              "      <td>False</td>\n",
              "    </tr>\n",
              "    <tr>\n",
              "      <th>8689</th>\n",
              "      <td>9278_01</td>\n",
              "      <td>Earth</td>\n",
              "      <td>True</td>\n",
              "      <td>G/1499/S</td>\n",
              "      <td>PSO J318.5-22</td>\n",
              "      <td>18.0</td>\n",
              "      <td>False</td>\n",
              "      <td>0.0</td>\n",
              "      <td>0.0</td>\n",
              "      <td>0.0</td>\n",
              "      <td>0.0</td>\n",
              "      <td>0.0</td>\n",
              "      <td>Kurta Mondalley</td>\n",
              "      <td>False</td>\n",
              "    </tr>\n",
              "    <tr>\n",
              "      <th>8690</th>\n",
              "      <td>9279_01</td>\n",
              "      <td>Earth</td>\n",
              "      <td>False</td>\n",
              "      <td>G/1500/S</td>\n",
              "      <td>TRAPPIST-1e</td>\n",
              "      <td>26.0</td>\n",
              "      <td>False</td>\n",
              "      <td>0.0</td>\n",
              "      <td>0.0</td>\n",
              "      <td>1872.0</td>\n",
              "      <td>1.0</td>\n",
              "      <td>0.0</td>\n",
              "      <td>Fayey Connon</td>\n",
              "      <td>True</td>\n",
              "    </tr>\n",
              "    <tr>\n",
              "      <th>8691</th>\n",
              "      <td>9280_01</td>\n",
              "      <td>Europa</td>\n",
              "      <td>False</td>\n",
              "      <td>E/608/S</td>\n",
              "      <td>55 Cancri e</td>\n",
              "      <td>32.0</td>\n",
              "      <td>False</td>\n",
              "      <td>0.0</td>\n",
              "      <td>1049.0</td>\n",
              "      <td>0.0</td>\n",
              "      <td>353.0</td>\n",
              "      <td>3235.0</td>\n",
              "      <td>Celeon Hontichre</td>\n",
              "      <td>False</td>\n",
              "    </tr>\n",
              "    <tr>\n",
              "      <th>8692</th>\n",
              "      <td>9280_02</td>\n",
              "      <td>Europa</td>\n",
              "      <td>False</td>\n",
              "      <td>E/608/S</td>\n",
              "      <td>TRAPPIST-1e</td>\n",
              "      <td>44.0</td>\n",
              "      <td>False</td>\n",
              "      <td>126.0</td>\n",
              "      <td>4688.0</td>\n",
              "      <td>0.0</td>\n",
              "      <td>0.0</td>\n",
              "      <td>12.0</td>\n",
              "      <td>Propsh Hontichre</td>\n",
              "      <td>True</td>\n",
              "    </tr>\n",
              "  </tbody>\n",
              "</table>\n",
              "<p>8693 rows × 14 columns</p>\n",
              "</div>\n",
              "      <button class=\"colab-df-convert\" onclick=\"convertToInteractive('df-9cad0ebf-3ffb-48f3-a2c9-4d254195e064')\"\n",
              "              title=\"Convert this dataframe to an interactive table.\"\n",
              "              style=\"display:none;\">\n",
              "        \n",
              "  <svg xmlns=\"http://www.w3.org/2000/svg\" height=\"24px\"viewBox=\"0 0 24 24\"\n",
              "       width=\"24px\">\n",
              "    <path d=\"M0 0h24v24H0V0z\" fill=\"none\"/>\n",
              "    <path d=\"M18.56 5.44l.94 2.06.94-2.06 2.06-.94-2.06-.94-.94-2.06-.94 2.06-2.06.94zm-11 1L8.5 8.5l.94-2.06 2.06-.94-2.06-.94L8.5 2.5l-.94 2.06-2.06.94zm10 10l.94 2.06.94-2.06 2.06-.94-2.06-.94-.94-2.06-.94 2.06-2.06.94z\"/><path d=\"M17.41 7.96l-1.37-1.37c-.4-.4-.92-.59-1.43-.59-.52 0-1.04.2-1.43.59L10.3 9.45l-7.72 7.72c-.78.78-.78 2.05 0 2.83L4 21.41c.39.39.9.59 1.41.59.51 0 1.02-.2 1.41-.59l7.78-7.78 2.81-2.81c.8-.78.8-2.07 0-2.86zM5.41 20L4 18.59l7.72-7.72 1.47 1.35L5.41 20z\"/>\n",
              "  </svg>\n",
              "      </button>\n",
              "      \n",
              "  <style>\n",
              "    .colab-df-container {\n",
              "      display:flex;\n",
              "      flex-wrap:wrap;\n",
              "      gap: 12px;\n",
              "    }\n",
              "\n",
              "    .colab-df-convert {\n",
              "      background-color: #E8F0FE;\n",
              "      border: none;\n",
              "      border-radius: 50%;\n",
              "      cursor: pointer;\n",
              "      display: none;\n",
              "      fill: #1967D2;\n",
              "      height: 32px;\n",
              "      padding: 0 0 0 0;\n",
              "      width: 32px;\n",
              "    }\n",
              "\n",
              "    .colab-df-convert:hover {\n",
              "      background-color: #E2EBFA;\n",
              "      box-shadow: 0px 1px 2px rgba(60, 64, 67, 0.3), 0px 1px 3px 1px rgba(60, 64, 67, 0.15);\n",
              "      fill: #174EA6;\n",
              "    }\n",
              "\n",
              "    [theme=dark] .colab-df-convert {\n",
              "      background-color: #3B4455;\n",
              "      fill: #D2E3FC;\n",
              "    }\n",
              "\n",
              "    [theme=dark] .colab-df-convert:hover {\n",
              "      background-color: #434B5C;\n",
              "      box-shadow: 0px 1px 3px 1px rgba(0, 0, 0, 0.15);\n",
              "      filter: drop-shadow(0px 1px 2px rgba(0, 0, 0, 0.3));\n",
              "      fill: #FFFFFF;\n",
              "    }\n",
              "  </style>\n",
              "\n",
              "      <script>\n",
              "        const buttonEl =\n",
              "          document.querySelector('#df-9cad0ebf-3ffb-48f3-a2c9-4d254195e064 button.colab-df-convert');\n",
              "        buttonEl.style.display =\n",
              "          google.colab.kernel.accessAllowed ? 'block' : 'none';\n",
              "\n",
              "        async function convertToInteractive(key) {\n",
              "          const element = document.querySelector('#df-9cad0ebf-3ffb-48f3-a2c9-4d254195e064');\n",
              "          const dataTable =\n",
              "            await google.colab.kernel.invokeFunction('convertToInteractive',\n",
              "                                                     [key], {});\n",
              "          if (!dataTable) return;\n",
              "\n",
              "          const docLinkHtml = 'Like what you see? Visit the ' +\n",
              "            '<a target=\"_blank\" href=https://colab.research.google.com/notebooks/data_table.ipynb>data table notebook</a>'\n",
              "            + ' to learn more about interactive tables.';\n",
              "          element.innerHTML = '';\n",
              "          dataTable['output_type'] = 'display_data';\n",
              "          await google.colab.output.renderOutput(dataTable, element);\n",
              "          const docLink = document.createElement('div');\n",
              "          docLink.innerHTML = docLinkHtml;\n",
              "          element.appendChild(docLink);\n",
              "        }\n",
              "      </script>\n",
              "    </div>\n",
              "  </div>\n",
              "  "
            ]
          },
          "metadata": {},
          "execution_count": 5
        }
      ]
    },
    {
      "cell_type": "code",
      "source": [
        "# df_test"
      ],
      "metadata": {
        "id": "N-EnhX_VymWo"
      },
      "execution_count": 6,
      "outputs": []
    },
    {
      "cell_type": "code",
      "source": [
        "df.info()"
      ],
      "metadata": {
        "id": "cbEVHJwY51l-",
        "colab": {
          "base_uri": "https://localhost:8080/"
        },
        "outputId": "4e339106-9bcc-4528-cf1a-24817a55767b"
      },
      "execution_count": 7,
      "outputs": [
        {
          "output_type": "stream",
          "name": "stdout",
          "text": [
            "<class 'pandas.core.frame.DataFrame'>\n",
            "RangeIndex: 8693 entries, 0 to 8692\n",
            "Data columns (total 14 columns):\n",
            " #   Column        Non-Null Count  Dtype  \n",
            "---  ------        --------------  -----  \n",
            " 0   PassengerId   8693 non-null   object \n",
            " 1   HomePlanet    8492 non-null   object \n",
            " 2   CryoSleep     8476 non-null   object \n",
            " 3   Cabin         8494 non-null   object \n",
            " 4   Destination   8511 non-null   object \n",
            " 5   Age           8514 non-null   float64\n",
            " 6   VIP           8490 non-null   object \n",
            " 7   RoomService   8512 non-null   float64\n",
            " 8   FoodCourt     8510 non-null   float64\n",
            " 9   ShoppingMall  8485 non-null   float64\n",
            " 10  Spa           8510 non-null   float64\n",
            " 11  VRDeck        8505 non-null   float64\n",
            " 12  Name          8493 non-null   object \n",
            " 13  Transported   8693 non-null   bool   \n",
            "dtypes: bool(1), float64(6), object(7)\n",
            "memory usage: 891.5+ KB\n"
          ]
        }
      ]
    },
    {
      "cell_type": "code",
      "source": [
        "df.describe(include='all')"
      ],
      "metadata": {
        "colab": {
          "base_uri": "https://localhost:8080/",
          "height": 438
        },
        "id": "Zwt8xvhi1P-L",
        "outputId": "afca9c72-3b2c-4a0d-e774-99a03cc4159a"
      },
      "execution_count": 8,
      "outputs": [
        {
          "output_type": "execute_result",
          "data": {
            "text/plain": [
              "       PassengerId HomePlanet CryoSleep    Cabin  Destination          Age  \\\n",
              "count         8693       8492      8476     8494         8511  8514.000000   \n",
              "unique        8693          3         2     6560            3          NaN   \n",
              "top        0001_01      Earth     False  G/734/S  TRAPPIST-1e          NaN   \n",
              "freq             1       4602      5439        8         5915          NaN   \n",
              "mean           NaN        NaN       NaN      NaN          NaN    28.827930   \n",
              "std            NaN        NaN       NaN      NaN          NaN    14.489021   \n",
              "min            NaN        NaN       NaN      NaN          NaN     0.000000   \n",
              "25%            NaN        NaN       NaN      NaN          NaN    19.000000   \n",
              "50%            NaN        NaN       NaN      NaN          NaN    27.000000   \n",
              "75%            NaN        NaN       NaN      NaN          NaN    38.000000   \n",
              "max            NaN        NaN       NaN      NaN          NaN    79.000000   \n",
              "\n",
              "          VIP   RoomService     FoodCourt  ShoppingMall           Spa  \\\n",
              "count    8490   8512.000000   8510.000000   8485.000000   8510.000000   \n",
              "unique      2           NaN           NaN           NaN           NaN   \n",
              "top     False           NaN           NaN           NaN           NaN   \n",
              "freq     8291           NaN           NaN           NaN           NaN   \n",
              "mean      NaN    224.687617    458.077203    173.729169    311.138778   \n",
              "std       NaN    666.717663   1611.489240    604.696458   1136.705535   \n",
              "min       NaN      0.000000      0.000000      0.000000      0.000000   \n",
              "25%       NaN      0.000000      0.000000      0.000000      0.000000   \n",
              "50%       NaN      0.000000      0.000000      0.000000      0.000000   \n",
              "75%       NaN     47.000000     76.000000     27.000000     59.000000   \n",
              "max       NaN  14327.000000  29813.000000  23492.000000  22408.000000   \n",
              "\n",
              "              VRDeck            Name Transported  \n",
              "count    8505.000000            8493        8693  \n",
              "unique           NaN            8473           2  \n",
              "top              NaN  Gollux Reedall        True  \n",
              "freq             NaN               2        4378  \n",
              "mean      304.854791             NaN         NaN  \n",
              "std      1145.717189             NaN         NaN  \n",
              "min         0.000000             NaN         NaN  \n",
              "25%         0.000000             NaN         NaN  \n",
              "50%         0.000000             NaN         NaN  \n",
              "75%        46.000000             NaN         NaN  \n",
              "max     24133.000000             NaN         NaN  "
            ],
            "text/html": [
              "\n",
              "  <div id=\"df-863b07e1-6bb9-4b17-85c8-acc202968bb9\">\n",
              "    <div class=\"colab-df-container\">\n",
              "      <div>\n",
              "<style scoped>\n",
              "    .dataframe tbody tr th:only-of-type {\n",
              "        vertical-align: middle;\n",
              "    }\n",
              "\n",
              "    .dataframe tbody tr th {\n",
              "        vertical-align: top;\n",
              "    }\n",
              "\n",
              "    .dataframe thead th {\n",
              "        text-align: right;\n",
              "    }\n",
              "</style>\n",
              "<table border=\"1\" class=\"dataframe\">\n",
              "  <thead>\n",
              "    <tr style=\"text-align: right;\">\n",
              "      <th></th>\n",
              "      <th>PassengerId</th>\n",
              "      <th>HomePlanet</th>\n",
              "      <th>CryoSleep</th>\n",
              "      <th>Cabin</th>\n",
              "      <th>Destination</th>\n",
              "      <th>Age</th>\n",
              "      <th>VIP</th>\n",
              "      <th>RoomService</th>\n",
              "      <th>FoodCourt</th>\n",
              "      <th>ShoppingMall</th>\n",
              "      <th>Spa</th>\n",
              "      <th>VRDeck</th>\n",
              "      <th>Name</th>\n",
              "      <th>Transported</th>\n",
              "    </tr>\n",
              "  </thead>\n",
              "  <tbody>\n",
              "    <tr>\n",
              "      <th>count</th>\n",
              "      <td>8693</td>\n",
              "      <td>8492</td>\n",
              "      <td>8476</td>\n",
              "      <td>8494</td>\n",
              "      <td>8511</td>\n",
              "      <td>8514.000000</td>\n",
              "      <td>8490</td>\n",
              "      <td>8512.000000</td>\n",
              "      <td>8510.000000</td>\n",
              "      <td>8485.000000</td>\n",
              "      <td>8510.000000</td>\n",
              "      <td>8505.000000</td>\n",
              "      <td>8493</td>\n",
              "      <td>8693</td>\n",
              "    </tr>\n",
              "    <tr>\n",
              "      <th>unique</th>\n",
              "      <td>8693</td>\n",
              "      <td>3</td>\n",
              "      <td>2</td>\n",
              "      <td>6560</td>\n",
              "      <td>3</td>\n",
              "      <td>NaN</td>\n",
              "      <td>2</td>\n",
              "      <td>NaN</td>\n",
              "      <td>NaN</td>\n",
              "      <td>NaN</td>\n",
              "      <td>NaN</td>\n",
              "      <td>NaN</td>\n",
              "      <td>8473</td>\n",
              "      <td>2</td>\n",
              "    </tr>\n",
              "    <tr>\n",
              "      <th>top</th>\n",
              "      <td>0001_01</td>\n",
              "      <td>Earth</td>\n",
              "      <td>False</td>\n",
              "      <td>G/734/S</td>\n",
              "      <td>TRAPPIST-1e</td>\n",
              "      <td>NaN</td>\n",
              "      <td>False</td>\n",
              "      <td>NaN</td>\n",
              "      <td>NaN</td>\n",
              "      <td>NaN</td>\n",
              "      <td>NaN</td>\n",
              "      <td>NaN</td>\n",
              "      <td>Gollux Reedall</td>\n",
              "      <td>True</td>\n",
              "    </tr>\n",
              "    <tr>\n",
              "      <th>freq</th>\n",
              "      <td>1</td>\n",
              "      <td>4602</td>\n",
              "      <td>5439</td>\n",
              "      <td>8</td>\n",
              "      <td>5915</td>\n",
              "      <td>NaN</td>\n",
              "      <td>8291</td>\n",
              "      <td>NaN</td>\n",
              "      <td>NaN</td>\n",
              "      <td>NaN</td>\n",
              "      <td>NaN</td>\n",
              "      <td>NaN</td>\n",
              "      <td>2</td>\n",
              "      <td>4378</td>\n",
              "    </tr>\n",
              "    <tr>\n",
              "      <th>mean</th>\n",
              "      <td>NaN</td>\n",
              "      <td>NaN</td>\n",
              "      <td>NaN</td>\n",
              "      <td>NaN</td>\n",
              "      <td>NaN</td>\n",
              "      <td>28.827930</td>\n",
              "      <td>NaN</td>\n",
              "      <td>224.687617</td>\n",
              "      <td>458.077203</td>\n",
              "      <td>173.729169</td>\n",
              "      <td>311.138778</td>\n",
              "      <td>304.854791</td>\n",
              "      <td>NaN</td>\n",
              "      <td>NaN</td>\n",
              "    </tr>\n",
              "    <tr>\n",
              "      <th>std</th>\n",
              "      <td>NaN</td>\n",
              "      <td>NaN</td>\n",
              "      <td>NaN</td>\n",
              "      <td>NaN</td>\n",
              "      <td>NaN</td>\n",
              "      <td>14.489021</td>\n",
              "      <td>NaN</td>\n",
              "      <td>666.717663</td>\n",
              "      <td>1611.489240</td>\n",
              "      <td>604.696458</td>\n",
              "      <td>1136.705535</td>\n",
              "      <td>1145.717189</td>\n",
              "      <td>NaN</td>\n",
              "      <td>NaN</td>\n",
              "    </tr>\n",
              "    <tr>\n",
              "      <th>min</th>\n",
              "      <td>NaN</td>\n",
              "      <td>NaN</td>\n",
              "      <td>NaN</td>\n",
              "      <td>NaN</td>\n",
              "      <td>NaN</td>\n",
              "      <td>0.000000</td>\n",
              "      <td>NaN</td>\n",
              "      <td>0.000000</td>\n",
              "      <td>0.000000</td>\n",
              "      <td>0.000000</td>\n",
              "      <td>0.000000</td>\n",
              "      <td>0.000000</td>\n",
              "      <td>NaN</td>\n",
              "      <td>NaN</td>\n",
              "    </tr>\n",
              "    <tr>\n",
              "      <th>25%</th>\n",
              "      <td>NaN</td>\n",
              "      <td>NaN</td>\n",
              "      <td>NaN</td>\n",
              "      <td>NaN</td>\n",
              "      <td>NaN</td>\n",
              "      <td>19.000000</td>\n",
              "      <td>NaN</td>\n",
              "      <td>0.000000</td>\n",
              "      <td>0.000000</td>\n",
              "      <td>0.000000</td>\n",
              "      <td>0.000000</td>\n",
              "      <td>0.000000</td>\n",
              "      <td>NaN</td>\n",
              "      <td>NaN</td>\n",
              "    </tr>\n",
              "    <tr>\n",
              "      <th>50%</th>\n",
              "      <td>NaN</td>\n",
              "      <td>NaN</td>\n",
              "      <td>NaN</td>\n",
              "      <td>NaN</td>\n",
              "      <td>NaN</td>\n",
              "      <td>27.000000</td>\n",
              "      <td>NaN</td>\n",
              "      <td>0.000000</td>\n",
              "      <td>0.000000</td>\n",
              "      <td>0.000000</td>\n",
              "      <td>0.000000</td>\n",
              "      <td>0.000000</td>\n",
              "      <td>NaN</td>\n",
              "      <td>NaN</td>\n",
              "    </tr>\n",
              "    <tr>\n",
              "      <th>75%</th>\n",
              "      <td>NaN</td>\n",
              "      <td>NaN</td>\n",
              "      <td>NaN</td>\n",
              "      <td>NaN</td>\n",
              "      <td>NaN</td>\n",
              "      <td>38.000000</td>\n",
              "      <td>NaN</td>\n",
              "      <td>47.000000</td>\n",
              "      <td>76.000000</td>\n",
              "      <td>27.000000</td>\n",
              "      <td>59.000000</td>\n",
              "      <td>46.000000</td>\n",
              "      <td>NaN</td>\n",
              "      <td>NaN</td>\n",
              "    </tr>\n",
              "    <tr>\n",
              "      <th>max</th>\n",
              "      <td>NaN</td>\n",
              "      <td>NaN</td>\n",
              "      <td>NaN</td>\n",
              "      <td>NaN</td>\n",
              "      <td>NaN</td>\n",
              "      <td>79.000000</td>\n",
              "      <td>NaN</td>\n",
              "      <td>14327.000000</td>\n",
              "      <td>29813.000000</td>\n",
              "      <td>23492.000000</td>\n",
              "      <td>22408.000000</td>\n",
              "      <td>24133.000000</td>\n",
              "      <td>NaN</td>\n",
              "      <td>NaN</td>\n",
              "    </tr>\n",
              "  </tbody>\n",
              "</table>\n",
              "</div>\n",
              "      <button class=\"colab-df-convert\" onclick=\"convertToInteractive('df-863b07e1-6bb9-4b17-85c8-acc202968bb9')\"\n",
              "              title=\"Convert this dataframe to an interactive table.\"\n",
              "              style=\"display:none;\">\n",
              "        \n",
              "  <svg xmlns=\"http://www.w3.org/2000/svg\" height=\"24px\"viewBox=\"0 0 24 24\"\n",
              "       width=\"24px\">\n",
              "    <path d=\"M0 0h24v24H0V0z\" fill=\"none\"/>\n",
              "    <path d=\"M18.56 5.44l.94 2.06.94-2.06 2.06-.94-2.06-.94-.94-2.06-.94 2.06-2.06.94zm-11 1L8.5 8.5l.94-2.06 2.06-.94-2.06-.94L8.5 2.5l-.94 2.06-2.06.94zm10 10l.94 2.06.94-2.06 2.06-.94-2.06-.94-.94-2.06-.94 2.06-2.06.94z\"/><path d=\"M17.41 7.96l-1.37-1.37c-.4-.4-.92-.59-1.43-.59-.52 0-1.04.2-1.43.59L10.3 9.45l-7.72 7.72c-.78.78-.78 2.05 0 2.83L4 21.41c.39.39.9.59 1.41.59.51 0 1.02-.2 1.41-.59l7.78-7.78 2.81-2.81c.8-.78.8-2.07 0-2.86zM5.41 20L4 18.59l7.72-7.72 1.47 1.35L5.41 20z\"/>\n",
              "  </svg>\n",
              "      </button>\n",
              "      \n",
              "  <style>\n",
              "    .colab-df-container {\n",
              "      display:flex;\n",
              "      flex-wrap:wrap;\n",
              "      gap: 12px;\n",
              "    }\n",
              "\n",
              "    .colab-df-convert {\n",
              "      background-color: #E8F0FE;\n",
              "      border: none;\n",
              "      border-radius: 50%;\n",
              "      cursor: pointer;\n",
              "      display: none;\n",
              "      fill: #1967D2;\n",
              "      height: 32px;\n",
              "      padding: 0 0 0 0;\n",
              "      width: 32px;\n",
              "    }\n",
              "\n",
              "    .colab-df-convert:hover {\n",
              "      background-color: #E2EBFA;\n",
              "      box-shadow: 0px 1px 2px rgba(60, 64, 67, 0.3), 0px 1px 3px 1px rgba(60, 64, 67, 0.15);\n",
              "      fill: #174EA6;\n",
              "    }\n",
              "\n",
              "    [theme=dark] .colab-df-convert {\n",
              "      background-color: #3B4455;\n",
              "      fill: #D2E3FC;\n",
              "    }\n",
              "\n",
              "    [theme=dark] .colab-df-convert:hover {\n",
              "      background-color: #434B5C;\n",
              "      box-shadow: 0px 1px 3px 1px rgba(0, 0, 0, 0.15);\n",
              "      filter: drop-shadow(0px 1px 2px rgba(0, 0, 0, 0.3));\n",
              "      fill: #FFFFFF;\n",
              "    }\n",
              "  </style>\n",
              "\n",
              "      <script>\n",
              "        const buttonEl =\n",
              "          document.querySelector('#df-863b07e1-6bb9-4b17-85c8-acc202968bb9 button.colab-df-convert');\n",
              "        buttonEl.style.display =\n",
              "          google.colab.kernel.accessAllowed ? 'block' : 'none';\n",
              "\n",
              "        async function convertToInteractive(key) {\n",
              "          const element = document.querySelector('#df-863b07e1-6bb9-4b17-85c8-acc202968bb9');\n",
              "          const dataTable =\n",
              "            await google.colab.kernel.invokeFunction('convertToInteractive',\n",
              "                                                     [key], {});\n",
              "          if (!dataTable) return;\n",
              "\n",
              "          const docLinkHtml = 'Like what you see? Visit the ' +\n",
              "            '<a target=\"_blank\" href=https://colab.research.google.com/notebooks/data_table.ipynb>data table notebook</a>'\n",
              "            + ' to learn more about interactive tables.';\n",
              "          element.innerHTML = '';\n",
              "          dataTable['output_type'] = 'display_data';\n",
              "          await google.colab.output.renderOutput(dataTable, element);\n",
              "          const docLink = document.createElement('div');\n",
              "          docLink.innerHTML = docLinkHtml;\n",
              "          element.appendChild(docLink);\n",
              "        }\n",
              "      </script>\n",
              "    </div>\n",
              "  </div>\n",
              "  "
            ]
          },
          "metadata": {},
          "execution_count": 8
        }
      ]
    },
    {
      "cell_type": "code",
      "source": [
        "print(df.isna().sum(),2*'\\n')\n",
        "print(f'Sum of missing values: {df.isna().sum().sum()}')"
      ],
      "metadata": {
        "colab": {
          "base_uri": "https://localhost:8080/"
        },
        "id": "8iHlRAj_xCrl",
        "outputId": "446d3517-73aa-4e24-e5e6-dff12690d5e2"
      },
      "execution_count": 9,
      "outputs": [
        {
          "output_type": "stream",
          "name": "stdout",
          "text": [
            "PassengerId       0\n",
            "HomePlanet      201\n",
            "CryoSleep       217\n",
            "Cabin           199\n",
            "Destination     182\n",
            "Age             179\n",
            "VIP             203\n",
            "RoomService     181\n",
            "FoodCourt       183\n",
            "ShoppingMall    208\n",
            "Spa             183\n",
            "VRDeck          188\n",
            "Name            200\n",
            "Transported       0\n",
            "dtype: int64 \n",
            "\n",
            "\n",
            "Sum of missing values: 2324\n"
          ]
        }
      ]
    },
    {
      "cell_type": "code",
      "source": [
        "# df[df.isna().any(axis=1)]"
      ],
      "metadata": {
        "id": "3SYtEzoL1aeo"
      },
      "execution_count": 10,
      "outputs": []
    },
    {
      "cell_type": "code",
      "source": [
        "df.nunique()"
      ],
      "metadata": {
        "colab": {
          "base_uri": "https://localhost:8080/"
        },
        "id": "5q4jW5E30xQs",
        "outputId": "a023d55f-ed01-4793-d3c0-be6d041c87e3"
      },
      "execution_count": 11,
      "outputs": [
        {
          "output_type": "execute_result",
          "data": {
            "text/plain": [
              "PassengerId     8693\n",
              "HomePlanet         3\n",
              "CryoSleep          2\n",
              "Cabin           6560\n",
              "Destination        3\n",
              "Age               80\n",
              "VIP                2\n",
              "RoomService     1273\n",
              "FoodCourt       1507\n",
              "ShoppingMall    1115\n",
              "Spa             1327\n",
              "VRDeck          1306\n",
              "Name            8473\n",
              "Transported        2\n",
              "dtype: int64"
            ]
          },
          "metadata": {},
          "execution_count": 11
        }
      ]
    },
    {
      "cell_type": "markdown",
      "source": [
        "## Data analysis\n",
        "\n",
        "Analyze the data and perform exploratory data analysis"
      ],
      "metadata": {
        "id": "L3S5a8uP6WqF"
      }
    },
    {
      "cell_type": "markdown",
      "source": [
        "### Plot histograms"
      ],
      "metadata": {
        "id": "2FVlYwzFJvg7"
      }
    },
    {
      "cell_type": "code",
      "source": [
        "# histogram\n",
        "df.hist(figsize=(15,15))\n",
        "plt.tight_layout()\n",
        "plt.show()"
      ],
      "metadata": {
        "id": "2L0qhBAvByEN",
        "colab": {
          "base_uri": "https://localhost:8080/",
          "height": 1000
        },
        "outputId": "578b3357-78b2-4ccd-c02a-90cff2848da8"
      },
      "execution_count": 12,
      "outputs": [
        {
          "output_type": "display_data",
          "data": {
            "text/plain": [
              "<Figure size 1080x1080 with 6 Axes>"
            ],
            "image/png": "[encoded data removed]"
          },
          "metadata": {
            "needs_background": "light"
          }
        }
      ]
    },
    {
      "cell_type": "markdown",
      "source": [
        "### Identify correlations of data features and propose visual representation of the correlations."
      ],
      "metadata": {
        "id": "HNZ2K6CrJ2YX"
      }
    },
    {
      "cell_type": "code",
      "source": [
        "# correlation\n",
        "set_option('display.precision', 3)\n",
        "df_corr = df.corr(method='pearson')\n",
        "df_corr"
      ],
      "metadata": {
        "id": "bpdhjNhnCOIO",
        "colab": {
          "base_uri": "https://localhost:8080/",
          "height": 269
        },
        "outputId": "6c009f65-adaf-4470-cb06-fbcb16bab8b7"
      },
      "execution_count": 13,
      "outputs": [
        {
          "output_type": "execute_result",
          "data": {
            "text/plain": [
              "                Age  RoomService  FoodCourt  ShoppingMall    Spa  VRDeck  \\\n",
              "Age           1.000        0.069      0.130         0.033  0.124   0.101   \n",
              "RoomService   0.069        1.000     -0.016         0.054  0.010  -0.020   \n",
              "FoodCourt     0.130       -0.016      1.000        -0.014  0.222   0.228   \n",
              "ShoppingMall  0.033        0.054     -0.014         1.000  0.014  -0.007   \n",
              "Spa           0.124        0.010      0.222         0.014  1.000   0.154   \n",
              "VRDeck        0.101       -0.020      0.228        -0.007  0.154   1.000   \n",
              "Transported  -0.075       -0.245      0.047         0.010 -0.221  -0.207   \n",
              "\n",
              "              Transported  \n",
              "Age                -0.075  \n",
              "RoomService        -0.245  \n",
              "FoodCourt           0.047  \n",
              "ShoppingMall        0.010  \n",
              "Spa                -0.221  \n",
              "VRDeck             -0.207  \n",
              "Transported         1.000  "
            ],
            "text/html": [
              "\n",
              "  <div id=\"df-8a80c088-491e-4e3e-a895-403026507af8\">\n",
              "    <div class=\"colab-df-container\">\n",
              "      <div>\n",
              "<style scoped>\n",
              "    .dataframe tbody tr th:only-of-type {\n",
              "        vertical-align: middle;\n",
              "    }\n",
              "\n",
              "    .dataframe tbody tr th {\n",
              "        vertical-align: top;\n",
              "    }\n",
              "\n",
              "    .dataframe thead th {\n",
              "        text-align: right;\n",
              "    }\n",
              "</style>\n",
              "<table border=\"1\" class=\"dataframe\">\n",
              "  <thead>\n",
              "    <tr style=\"text-align: right;\">\n",
              "      <th></th>\n",
              "      <th>Age</th>\n",
              "      <th>RoomService</th>\n",
              "      <th>FoodCourt</th>\n",
              "      <th>ShoppingMall</th>\n",
              "      <th>Spa</th>\n",
              "      <th>VRDeck</th>\n",
              "      <th>Transported</th>\n",
              "    </tr>\n",
              "  </thead>\n",
              "  <tbody>\n",
              "    <tr>\n",
              "      <th>Age</th>\n",
              "      <td>1.000</td>\n",
              "      <td>0.069</td>\n",
              "      <td>0.130</td>\n",
              "      <td>0.033</td>\n",
              "      <td>0.124</td>\n",
              "      <td>0.101</td>\n",
              "      <td>-0.075</td>\n",
              "    </tr>\n",
              "    <tr>\n",
              "      <th>RoomService</th>\n",
              "      <td>0.069</td>\n",
              "      <td>1.000</td>\n",
              "      <td>-0.016</td>\n",
              "      <td>0.054</td>\n",
              "      <td>0.010</td>\n",
              "      <td>-0.020</td>\n",
              "      <td>-0.245</td>\n",
              "    </tr>\n",
              "    <tr>\n",
              "      <th>FoodCourt</th>\n",
              "      <td>0.130</td>\n",
              "      <td>-0.016</td>\n",
              "      <td>1.000</td>\n",
              "      <td>-0.014</td>\n",
              "      <td>0.222</td>\n",
              "      <td>0.228</td>\n",
              "      <td>0.047</td>\n",
              "    </tr>\n",
              "    <tr>\n",
              "      <th>ShoppingMall</th>\n",
              "      <td>0.033</td>\n",
              "      <td>0.054</td>\n",
              "      <td>-0.014</td>\n",
              "      <td>1.000</td>\n",
              "      <td>0.014</td>\n",
              "      <td>-0.007</td>\n",
              "      <td>0.010</td>\n",
              "    </tr>\n",
              "    <tr>\n",
              "      <th>Spa</th>\n",
              "      <td>0.124</td>\n",
              "      <td>0.010</td>\n",
              "      <td>0.222</td>\n",
              "      <td>0.014</td>\n",
              "      <td>1.000</td>\n",
              "      <td>0.154</td>\n",
              "      <td>-0.221</td>\n",
              "    </tr>\n",
              "    <tr>\n",
              "      <th>VRDeck</th>\n",
              "      <td>0.101</td>\n",
              "      <td>-0.020</td>\n",
              "      <td>0.228</td>\n",
              "      <td>-0.007</td>\n",
              "      <td>0.154</td>\n",
              "      <td>1.000</td>\n",
              "      <td>-0.207</td>\n",
              "    </tr>\n",
              "    <tr>\n",
              "      <th>Transported</th>\n",
              "      <td>-0.075</td>\n",
              "      <td>-0.245</td>\n",
              "      <td>0.047</td>\n",
              "      <td>0.010</td>\n",
              "      <td>-0.221</td>\n",
              "      <td>-0.207</td>\n",
              "      <td>1.000</td>\n",
              "    </tr>\n",
              "  </tbody>\n",
              "</table>\n",
              "</div>\n",
              "      <button class=\"colab-df-convert\" onclick=\"convertToInteractive('df-8a80c088-491e-4e3e-a895-403026507af8')\"\n",
              "              title=\"Convert this dataframe to an interactive table.\"\n",
              "              style=\"display:none;\">\n",
              "        \n",
              "  <svg xmlns=\"http://www.w3.org/2000/svg\" height=\"24px\"viewBox=\"0 0 24 24\"\n",
              "       width=\"24px\">\n",
              "    <path d=\"M0 0h24v24H0V0z\" fill=\"none\"/>\n",
              "    <path d=\"M18.56 5.44l.94 2.06.94-2.06 2.06-.94-2.06-.94-.94-2.06-.94 2.06-2.06.94zm-11 1L8.5 8.5l.94-2.06 2.06-.94-2.06-.94L8.5 2.5l-.94 2.06-2.06.94zm10 10l.94 2.06.94-2.06 2.06-.94-2.06-.94-.94-2.06-.94 2.06-2.06.94z\"/><path d=\"M17.41 7.96l-1.37-1.37c-.4-.4-.92-.59-1.43-.59-.52 0-1.04.2-1.43.59L10.3 9.45l-7.72 7.72c-.78.78-.78 2.05 0 2.83L4 21.41c.39.39.9.59 1.41.59.51 0 1.02-.2 1.41-.59l7.78-7.78 2.81-2.81c.8-.78.8-2.07 0-2.86zM5.41 20L4 18.59l7.72-7.72 1.47 1.35L5.41 20z\"/>\n",
              "  </svg>\n",
              "      </button>\n",
              "      \n",
              "  <style>\n",
              "    .colab-df-container {\n",
              "      display:flex;\n",
              "      flex-wrap:wrap;\n",
              "      gap: 12px;\n",
              "    }\n",
              "\n",
              "    .colab-df-convert {\n",
              "      background-color: #E8F0FE;\n",
              "      border: none;\n",
              "      border-radius: 50%;\n",
              "      cursor: pointer;\n",
              "      display: none;\n",
              "      fill: #1967D2;\n",
              "      height: 32px;\n",
              "      padding: 0 0 0 0;\n",
              "      width: 32px;\n",
              "    }\n",
              "\n",
              "    .colab-df-convert:hover {\n",
              "      background-color: #E2EBFA;\n",
              "      box-shadow: 0px 1px 2px rgba(60, 64, 67, 0.3), 0px 1px 3px 1px rgba(60, 64, 67, 0.15);\n",
              "      fill: #174EA6;\n",
              "    }\n",
              "\n",
              "    [theme=dark] .colab-df-convert {\n",
              "      background-color: #3B4455;\n",
              "      fill: #D2E3FC;\n",
              "    }\n",
              "\n",
              "    [theme=dark] .colab-df-convert:hover {\n",
              "      background-color: #434B5C;\n",
              "      box-shadow: 0px 1px 3px 1px rgba(0, 0, 0, 0.15);\n",
              "      filter: drop-shadow(0px 1px 2px rgba(0, 0, 0, 0.3));\n",
              "      fill: #FFFFFF;\n",
              "    }\n",
              "  </style>\n",
              "\n",
              "      <script>\n",
              "        const buttonEl =\n",
              "          document.querySelector('#df-8a80c088-491e-4e3e-a895-403026507af8 button.colab-df-convert');\n",
              "        buttonEl.style.display =\n",
              "          google.colab.kernel.accessAllowed ? 'block' : 'none';\n",
              "\n",
              "        async function convertToInteractive(key) {\n",
              "          const element = document.querySelector('#df-8a80c088-491e-4e3e-a895-403026507af8');\n",
              "          const dataTable =\n",
              "            await google.colab.kernel.invokeFunction('convertToInteractive',\n",
              "                                                     [key], {});\n",
              "          if (!dataTable) return;\n",
              "\n",
              "          const docLinkHtml = 'Like what you see? Visit the ' +\n",
              "            '<a target=\"_blank\" href=https://colab.research.google.com/notebooks/data_table.ipynb>data table notebook</a>'\n",
              "            + ' to learn more about interactive tables.';\n",
              "          element.innerHTML = '';\n",
              "          dataTable['output_type'] = 'display_data';\n",
              "          await google.colab.output.renderOutput(dataTable, element);\n",
              "          const docLink = document.createElement('div');\n",
              "          docLink.innerHTML = docLinkHtml;\n",
              "          element.appendChild(docLink);\n",
              "        }\n",
              "      </script>\n",
              "    </div>\n",
              "  </div>\n",
              "  "
            ]
          },
          "metadata": {},
          "execution_count": 13
        }
      ]
    },
    {
      "cell_type": "code",
      "source": [
        "# correlation visualization\n",
        "plt.figure(figsize=(16,9))\n",
        "sns.heatmap(df_corr, annot=True)\n",
        "plt.show()"
      ],
      "metadata": {
        "id": "aAgh152j54VJ",
        "colab": {
          "base_uri": "https://localhost:8080/",
          "height": 541
        },
        "outputId": "2efdfdd0-1848-43ef-ba65-20229298ffb7"
      },
      "execution_count": 14,
      "outputs": [
        {
          "output_type": "display_data",
          "data": {
            "text/plain": [
              "<Figure size 1152x648 with 2 Axes>"
            ],
            "image/png": "[encoded data removed]"
          },
          "metadata": {
            "needs_background": "light"
          }
        }
      ]
    },
    {
      "cell_type": "code",
      "source": [
        "heatmap = sns.heatmap(df.corr()[['Transported']].sort_values(by='Transported', ascending=False), vmin=-1, vmax=1, annot=True)"
      ],
      "metadata": {
        "id": "cp5myK4BRY-0",
        "colab": {
          "base_uri": "https://localhost:8080/",
          "height": 269
        },
        "outputId": "a8d41fee-8f4c-40f1-d0d0-83d6584dbdc8"
      },
      "execution_count": 15,
      "outputs": [
        {
          "output_type": "display_data",
          "data": {
            "text/plain": [
              "<Figure size 432x288 with 2 Axes>"
            ],
            "image/png": "[encoded data removed]"
          },
          "metadata": {
            "needs_background": "light"
          }
        }
      ]
    },
    {
      "cell_type": "markdown",
      "source": [
        "### Check if the dataset is balanced (if not think about methods to aquire balance)"
      ],
      "metadata": {
        "id": "6vvE8qHEJ5a1"
      }
    },
    {
      "cell_type": "code",
      "source": [
        "# target = \"Transported\"\n",
        "df['Transported'].value_counts()"
      ],
      "metadata": {
        "id": "rRn4E1DsJ7_m",
        "colab": {
          "base_uri": "https://localhost:8080/"
        },
        "outputId": "6d912b8d-2a45-4adb-d353-5cf5ab24590d"
      },
      "execution_count": 16,
      "outputs": [
        {
          "output_type": "execute_result",
          "data": {
            "text/plain": [
              "True     4378\n",
              "False    4315\n",
              "Name: Transported, dtype: int64"
            ]
          },
          "metadata": {},
          "execution_count": 16
        }
      ]
    },
    {
      "cell_type": "markdown",
      "source": [
        "Target feature balanced"
      ],
      "metadata": {
        "id": "A-_LqatiLV--"
      }
    },
    {
      "cell_type": "markdown",
      "source": [
        "### Use pandas profiler to generate report in html format"
      ],
      "metadata": {
        "id": "c8p7aAgvJ8K9"
      }
    },
    {
      "cell_type": "code",
      "source": [
        "# prof = ProfileReport(df)\n",
        "# prof.to_file(output_file='output.html')"
      ],
      "metadata": {
        "id": "h2g2XURJMJRO"
      },
      "execution_count": 17,
      "outputs": []
    },
    {
      "cell_type": "markdown",
      "source": [
        "## Data preprocessing\n",
        "Prepare data using preprocessing methods."
      ],
      "metadata": {
        "id": "1Rp4C9hmA9H3"
      }
    },
    {
      "cell_type": "code",
      "source": [
        "target_name = \"Transported\"\n",
        "X = df.drop(columns=[target_name])\n",
        "y = df[target_name]\n",
        "# y = df[target_name].astype(str)"
      ],
      "metadata": {
        "id": "NzgnEDsyIVLw"
      },
      "execution_count": 18,
      "outputs": []
    },
    {
      "cell_type": "markdown",
      "source": [
        "### Think and propose how represent categorical values"
      ],
      "metadata": {
        "id": "NWAPkS1lS_w0"
      }
    },
    {
      "cell_type": "markdown",
      "source": [
        "Proposition:\n",
        "\n",
        "1. Impute missing values for df\n",
        "\n",
        "2. Since we are going to use tree-based models (XGB,LGBM, CB):\n",
        "\n",
        "  - encoding categorical data with OrdinalEncoder is OK. \n",
        "\n",
        "  - no need to scale numerical.\n",
        "\n",
        "\n",
        "Source: https://inria.github.io/scikit-learn-mooc/python_scripts/03_categorical_pipeline_column_transformer.html#fitting-a-more-powerful-model\n",
        "\n",
        "___\n",
        "Possible simplier solution is to use pandas replace with intiger values - will be checked.\n",
        "https://www.kaggle.com/code/hussainsheriff/spaceship-titanic-tensor-flow\n",
        "___\n",
        "\n",
        "Alternative encoder: one_hot_encoder or pd.get_dummies. - **careful to do not oversize df!**"
      ],
      "metadata": {
        "id": "DGKVo0PJb4NH"
      }
    },
    {
      "cell_type": "code",
      "source": [
        "# Ordinal encoder use with encoding unknown values with np.value value\n",
        "\n",
        "# categorical_preprocessor = OrdinalEncoder(handle_unknown=\"use_encoded_value\", unknown_value=np.nan)\n",
        "categorical_preprocessor = OrdinalEncoder(handle_unknown='use_encoded_value', unknown_value=-1)\n",
        "numerical_preprocessor = StandardScaler()\n",
        "# numerical_preprocessor = MinMaxScaler()\n",
        "\n",
        "\n",
        "categorical_columns= X.select_dtypes(include=object).columns.tolist()\n",
        "numerical_columns = X.select_dtypes(exclude=object).columns.tolist()"
      ],
      "metadata": {
        "id": "cjYmeR5V86oL"
      },
      "execution_count": 51,
      "outputs": []
    },
    {
      "cell_type": "code",
      "source": [
        "# Defining pipeplines\n",
        "\n",
        "categorical_pipeline = Pipeline(\n",
        "    steps=[\n",
        "        (\"imputer\", SimpleImputer(missing_values=np.nan, strategy='most_frequent')),\n",
        "        (\"OrdEnc\", categorical_preprocessor),\n",
        "        # (\"imputer\", IterativeImputer(random_state=42, skip_complete=True)),\n",
        "        # (\"Scaler\", numerical_preprocessor),\n",
        "    ])\n",
        "\n",
        "numerical_pipeline = Pipeline(\n",
        "    steps=[\n",
        "        # (\"impute\", IterativeImputer(random_state=42, skip_complete=True)),\n",
        "        (\"imputer\", SimpleImputer(missing_values=np.nan, strategy='most_frequent'))\n",
        "        # (\"Scaler\", numerical_preprocessor),\n",
        "    ])"
      ],
      "metadata": {
        "id": "kot_Y9KWA02R"
      },
      "execution_count": 20,
      "outputs": []
    },
    {
      "cell_type": "code",
      "source": [
        "print(f'Before convert:\\n{X.dtypes}\\n')\n",
        "\n",
        "# Convert categorical columns to Pandas category\n",
        "for col in categorical_columns:\n",
        "   X[col] = X[col].astype('category')\n",
        "\n",
        "print(f'After convert:\\n{X.dtypes}\\n')"
      ],
      "metadata": {
        "id": "AUhHcPYCTBsj",
        "colab": {
          "base_uri": "https://localhost:8080/"
        },
        "outputId": "1ba205b5-17a6-4dd4-e840-c08284711045"
      },
      "execution_count": 21,
      "outputs": [
        {
          "output_type": "stream",
          "name": "stdout",
          "text": [
            "Before convert:\n",
            "PassengerId      object\n",
            "HomePlanet       object\n",
            "CryoSleep        object\n",
            "Cabin            object\n",
            "Destination      object\n",
            "Age             float64\n",
            "VIP              object\n",
            "RoomService     float64\n",
            "FoodCourt       float64\n",
            "ShoppingMall    float64\n",
            "Spa             float64\n",
            "VRDeck          float64\n",
            "Name             object\n",
            "dtype: object\n",
            "\n",
            "After convert:\n",
            "PassengerId     category\n",
            "HomePlanet      category\n",
            "CryoSleep       category\n",
            "Cabin           category\n",
            "Destination     category\n",
            "Age              float64\n",
            "VIP             category\n",
            "RoomService      float64\n",
            "FoodCourt        float64\n",
            "ShoppingMall     float64\n",
            "Spa              float64\n",
            "VRDeck           float64\n",
            "Name            category\n",
            "dtype: object\n",
            "\n"
          ]
        }
      ]
    },
    {
      "cell_type": "markdown",
      "source": [
        "### Think and propose how to handle nulls and nan values"
      ],
      "metadata": {
        "id": "WCiR5wd9TCaU"
      }
    },
    {
      "cell_type": "markdown",
      "source": [
        "Proposition:\n",
        "* More pro - pd.replace or pd.fillna or impute (e.g. SimpleImputer) - included in above point and in Pipeline\n",
        "* The simplest approach is to remove. In this case dropping caused dataset reduction: 2324 rows dropped !\n"
      ],
      "metadata": {
        "id": "cOAfD1jp4Jin"
      }
    },
    {
      "cell_type": "markdown",
      "source": [
        "### Divide dataset into train, validation and test subset"
      ],
      "metadata": {
        "id": "pECKH3bJTEZF"
      }
    },
    {
      "cell_type": "markdown",
      "source": [
        "Since we have test dataset our train will be split into train and validation."
      ],
      "metadata": {
        "id": "P7-KKmQXeF4z"
      }
    },
    {
      "cell_type": "code",
      "source": [
        "#Split of train to train and validation ('val') \n",
        "X_train, X_val, y_train, y_val = train_test_split(X, y, test_size = 0.3)\n",
        "\n",
        "print('TRAIN set:\\n', 'X_train:', X_train.shape, '\\n y_train2: ', y_train.shape)\n",
        "print('VAL set:\\n', 'X_val:', X_val.shape, '\\n y_val2: ', y_val.shape)"
      ],
      "metadata": {
        "id": "ob_X5gIQTF0H",
        "colab": {
          "base_uri": "https://localhost:8080/"
        },
        "outputId": "2b83d53f-b373-4bf7-a769-e1ecdece11c4"
      },
      "execution_count": 22,
      "outputs": [
        {
          "output_type": "stream",
          "name": "stdout",
          "text": [
            "TRAIN set:\n",
            " X_train: (6085, 13) \n",
            " y_train2:  (6085,)\n",
            "VAL set:\n",
            " X_val: (2608, 13) \n",
            " y_val2:  (2608,)\n"
          ]
        }
      ]
    },
    {
      "cell_type": "markdown",
      "source": [
        "## Machine learning methods\n",
        "Use standard ML algorithms to classify passengers."
      ],
      "metadata": {
        "id": "kVPBpIzWWdx5"
      }
    },
    {
      "cell_type": "code",
      "source": [
        "#define columntransformer\n",
        "\n",
        "preprocessor = ColumnTransformer([\n",
        "    ('categorical', categorical_preprocessor, categorical_columns),\n",
        "    ('numerical', numerical_pipeline, numerical_columns)],  \n",
        "    # remainder=\"passthrough\"\n",
        "    )\n",
        "\n",
        "preprocessor"
      ],
      "metadata": {
        "id": "-lHZPEF904rM",
        "colab": {
          "base_uri": "https://localhost:8080/",
          "height": 118
        },
        "outputId": "89d4b02c-f3de-4329-bf68-ed1874b88c53"
      },
      "execution_count": 23,
      "outputs": [
        {
          "output_type": "execute_result",
          "data": {
            "text/plain": [
              "ColumnTransformer(transformers=[('categorical',\n",
              "                                 OrdinalEncoder(handle_unknown='use_encoded_value',\n",
              "                                                unknown_value=-1),\n",
              "                                 ['PassengerId', 'HomePlanet', 'CryoSleep',\n",
              "                                  'Cabin', 'Destination', 'VIP', 'Name']),\n",
              "                                ('numerical',\n",
              "                                 Pipeline(steps=[('imputer',\n",
              "                                                  SimpleImputer(strategy='most_frequent'))]),\n",
              "                                 ['Age', 'RoomService', 'FoodCourt',\n",
              "                                  'ShoppingMall', 'Spa', 'VRDeck'])])"
            ],
            "text/html": [
              "<style>#sk-container-id-1 {color: black;background-color: white;}#sk-container-id-1 pre{padding: 0;}#sk-container-id-1 div.sk-toggleable {background-color: white;}#sk-container-id-1 label.sk-toggleable__label {cursor: pointer;display: block;width: 100%;margin-bottom: 0;padding: 0.3em;box-sizing: border-box;text-align: center;}#sk-container-id-1 label.sk-toggleable__label-arrow:before {content: \"▸\";float: left;margin-right: 0.25em;color: #696969;}#sk-container-id-1 label.sk-toggleable__label-arrow:hover:before {color: black;}#sk-container-id-1 div.sk-estimator:hover label.sk-toggleable__label-arrow:before {color: black;}#sk-container-id-1 div.sk-toggleable__content {max-height: 0;max-width: 0;overflow: hidden;text-align: left;background-color: #f0f8ff;}#sk-container-id-1 div.sk-toggleable__content pre {margin: 0.2em;color: black;border-radius: 0.25em;background-color: #f0f8ff;}#sk-container-id-1 input.sk-toggleable__control:checked~div.sk-toggleable__content {max-height: 200px;max-width: 100%;overflow: auto;}#sk-container-id-1 input.sk-toggleable__control:checked~label.sk-toggleable__label-arrow:before {content: \"▾\";}#sk-container-id-1 div.sk-estimator input.sk-toggleable__control:checked~label.sk-toggleable__label {background-color: #d4ebff;}#sk-container-id-1 div.sk-label input.sk-toggleable__control:checked~label.sk-toggleable__label {background-color: #d4ebff;}#sk-container-id-1 input.sk-hidden--visually {border: 0;clip: rect(1px 1px 1px 1px);clip: rect(1px, 1px, 1px, 1px);height: 1px;margin: -1px;overflow: hidden;padding: 0;position: absolute;width: 1px;}#sk-container-id-1 div.sk-estimator {font-family: monospace;background-color: #f0f8ff;border: 1px dotted black;border-radius: 0.25em;box-sizing: border-box;margin-bottom: 0.5em;}#sk-container-id-1 div.sk-estimator:hover {background-color: #d4ebff;}#sk-container-id-1 div.sk-parallel-item::after {content: \"\";width: 100%;border-bottom: 1px solid gray;flex-grow: 1;}#sk-container-id-1 div.sk-label:hover label.sk-toggleable__label {background-color: #d4ebff;}#sk-container-id-1 div.sk-serial::before {content: \"\";position: absolute;border-left: 1px solid gray;box-sizing: border-box;top: 0;bottom: 0;left: 50%;z-index: 0;}#sk-container-id-1 div.sk-serial {display: flex;flex-direction: column;align-items: center;background-color: white;padding-right: 0.2em;padding-left: 0.2em;position: relative;}#sk-container-id-1 div.sk-item {position: relative;z-index: 1;}#sk-container-id-1 div.sk-parallel {display: flex;align-items: stretch;justify-content: center;background-color: white;position: relative;}#sk-container-id-1 div.sk-item::before, #sk-container-id-1 div.sk-parallel-item::before {content: \"\";position: absolute;border-left: 1px solid gray;box-sizing: border-box;top: 0;bottom: 0;left: 50%;z-index: -1;}#sk-container-id-1 div.sk-parallel-item {display: flex;flex-direction: column;z-index: 1;position: relative;background-color: white;}#sk-container-id-1 div.sk-parallel-item:first-child::after {align-self: flex-end;width: 50%;}#sk-container-id-1 div.sk-parallel-item:last-child::after {align-self: flex-start;width: 50%;}#sk-container-id-1 div.sk-parallel-item:only-child::after {width: 0;}#sk-container-id-1 div.sk-dashed-wrapped {border: 1px dashed gray;margin: 0 0.4em 0.5em 0.4em;box-sizing: border-box;padding-bottom: 0.4em;background-color: white;}#sk-container-id-1 div.sk-label label {font-family: monospace;font-weight: bold;display: inline-block;line-height: 1.2em;}#sk-container-id-1 div.sk-label-container {text-align: center;}#sk-container-id-1 div.sk-container {/* jupyter's `normalize.less` sets `[hidden] { display: none; }` but bootstrap.min.css set `[hidden] { display: none !important; }` so we also need the `!important` here to be able to override the default hidden behavior on the sphinx rendered scikit-learn.org. See: https://github.com/scikit-learn/scikit-learn/issues/21755 */display: inline-block !important;position: relative;}#sk-container-id-1 div.sk-text-repr-fallback {display: none;}</style><div id=\"sk-container-id-1\" class=\"sk-top-container\"><div class=\"sk-text-repr-fallback\"><pre>ColumnTransformer(transformers=[(&#x27;categorical&#x27;,\n",
              "                                 OrdinalEncoder(handle_unknown=&#x27;use_encoded_value&#x27;,\n",
              "                                                unknown_value=-1),\n",
              "                                 [&#x27;PassengerId&#x27;, &#x27;HomePlanet&#x27;, &#x27;CryoSleep&#x27;,\n",
              "                                  &#x27;Cabin&#x27;, &#x27;Destination&#x27;, &#x27;VIP&#x27;, &#x27;Name&#x27;]),\n",
              "                                (&#x27;numerical&#x27;,\n",
              "                                 Pipeline(steps=[(&#x27;imputer&#x27;,\n",
              "                                                  SimpleImputer(strategy=&#x27;most_frequent&#x27;))]),\n",
              "                                 [&#x27;Age&#x27;, &#x27;RoomService&#x27;, &#x27;FoodCourt&#x27;,\n",
              "                                  &#x27;ShoppingMall&#x27;, &#x27;Spa&#x27;, &#x27;VRDeck&#x27;])])</pre><b>In a Jupyter environment, please rerun this cell to show the HTML representation or trust the notebook. <br />On GitHub, the HTML representation is unable to render, please try loading this page with nbviewer.org.</b></div><div class=\"sk-container\" hidden><div class=\"sk-item sk-dashed-wrapped\"><div class=\"sk-label-container\"><div class=\"sk-label sk-toggleable\"><input class=\"sk-toggleable__control sk-hidden--visually\" id=\"sk-estimator-id-1\" type=\"checkbox\" ><label for=\"sk-estimator-id-1\" class=\"sk-toggleable__label sk-toggleable__label-arrow\">ColumnTransformer</label><div class=\"sk-toggleable__content\"><pre>ColumnTransformer(transformers=[(&#x27;categorical&#x27;,\n",
              "                                 OrdinalEncoder(handle_unknown=&#x27;use_encoded_value&#x27;,\n",
              "                                                unknown_value=-1),\n",
              "                                 [&#x27;PassengerId&#x27;, &#x27;HomePlanet&#x27;, &#x27;CryoSleep&#x27;,\n",
              "                                  &#x27;Cabin&#x27;, &#x27;Destination&#x27;, &#x27;VIP&#x27;, &#x27;Name&#x27;]),\n",
              "                                (&#x27;numerical&#x27;,\n",
              "                                 Pipeline(steps=[(&#x27;imputer&#x27;,\n",
              "                                                  SimpleImputer(strategy=&#x27;most_frequent&#x27;))]),\n",
              "                                 [&#x27;Age&#x27;, &#x27;RoomService&#x27;, &#x27;FoodCourt&#x27;,\n",
              "                                  &#x27;ShoppingMall&#x27;, &#x27;Spa&#x27;, &#x27;VRDeck&#x27;])])</pre></div></div></div><div class=\"sk-parallel\"><div class=\"sk-parallel-item\"><div class=\"sk-item\"><div class=\"sk-label-container\"><div class=\"sk-label sk-toggleable\"><input class=\"sk-toggleable__control sk-hidden--visually\" id=\"sk-estimator-id-2\" type=\"checkbox\" ><label for=\"sk-estimator-id-2\" class=\"sk-toggleable__label sk-toggleable__label-arrow\">categorical</label><div class=\"sk-toggleable__content\"><pre>[&#x27;PassengerId&#x27;, &#x27;HomePlanet&#x27;, &#x27;CryoSleep&#x27;, &#x27;Cabin&#x27;, &#x27;Destination&#x27;, &#x27;VIP&#x27;, &#x27;Name&#x27;]</pre></div></div></div><div class=\"sk-serial\"><div class=\"sk-item\"><div class=\"sk-estimator sk-toggleable\"><input class=\"sk-toggleable__control sk-hidden--visually\" id=\"sk-estimator-id-3\" type=\"checkbox\" ><label for=\"sk-estimator-id-3\" class=\"sk-toggleable__label sk-toggleable__label-arrow\">OrdinalEncoder</label><div class=\"sk-toggleable__content\"><pre>OrdinalEncoder(handle_unknown=&#x27;use_encoded_value&#x27;, unknown_value=-1)</pre></div></div></div></div></div></div><div class=\"sk-parallel-item\"><div class=\"sk-item\"><div class=\"sk-label-container\"><div class=\"sk-label sk-toggleable\"><input class=\"sk-toggleable__control sk-hidden--visually\" id=\"sk-estimator-id-4\" type=\"checkbox\" ><label for=\"sk-estimator-id-4\" class=\"sk-toggleable__label sk-toggleable__label-arrow\">numerical</label><div class=\"sk-toggleable__content\"><pre>[&#x27;Age&#x27;, &#x27;RoomService&#x27;, &#x27;FoodCourt&#x27;, &#x27;ShoppingMall&#x27;, &#x27;Spa&#x27;, &#x27;VRDeck&#x27;]</pre></div></div></div><div class=\"sk-serial\"><div class=\"sk-item\"><div class=\"sk-serial\"><div class=\"sk-item\"><div class=\"sk-estimator sk-toggleable\"><input class=\"sk-toggleable__control sk-hidden--visually\" id=\"sk-estimator-id-5\" type=\"checkbox\" ><label for=\"sk-estimator-id-5\" class=\"sk-toggleable__label sk-toggleable__label-arrow\">SimpleImputer</label><div class=\"sk-toggleable__content\"><pre>SimpleImputer(strategy=&#x27;most_frequent&#x27;)</pre></div></div></div></div></div></div></div></div></div></div></div></div>"
            ]
          },
          "metadata": {},
          "execution_count": 23
        }
      ]
    },
    {
      "cell_type": "markdown",
      "source": [
        "### Use XGBoost, LightGBM and CatBoost."
      ],
      "metadata": {
        "id": "BAeXjIKvWiOd"
      }
    },
    {
      "cell_type": "code",
      "source": [
        "# Spot-Check Algorithms\n",
        "models = []\n",
        "models.append(('XGB', XGBClassifier()))\n",
        "models.append(('LightGBM', LGBMClassifier()))\n",
        "models.append(('CatBoost', CatBoostClassifier(logging_level='Silent')))"
      ],
      "metadata": {
        "id": "w_J77YqL9v2j"
      },
      "execution_count": 24,
      "outputs": []
    },
    {
      "cell_type": "markdown",
      "source": [
        "### Choose metrics you want to use to evaluate those models,"
      ],
      "metadata": {
        "id": "G9O9mBUxWqbF"
      }
    },
    {
      "cell_type": "markdown",
      "source": [
        "Accuracy by default but in thi scase recall might be more informative"
      ],
      "metadata": {
        "id": "BiipiDQ1musq"
      }
    },
    {
      "cell_type": "code",
      "source": [
        "model_name = []\n",
        "name = []\n",
        "for name, model_name in models:\n",
        "  model = make_pipeline(preprocessor, model_name)\n",
        "  model.fit(X_train, y_train)\n",
        "  model.predict(X_val)\n",
        "  if name =='CatBoost':\n",
        "    print(f'{name} accuracy: {accuracy_score(y_val.astype(str), model.predict(X_val))}')\n",
        "    print(f'{name} recall: {recall_score(y_val.astype(str), model.predict(X_val), average=\"binary\", pos_label=\"False\")}')\n",
        "    # print(f'{name} precision: {precision_score(y_val2.astype(str), model.predict(X_val2), average=\"macro\")}')\n",
        "    print(f'{name} f1_score: {f1_score(y_val.astype(str), model.predict(X_val),average=\"binary\", pos_label=\"False\")}')\n",
        "    print('\\n')\n",
        "  else:\n",
        "    print(f'{name} accuracy: {model.score(X_val, y_val)}')\n",
        "    print(f'{name} recall: {recall_score(y_val, model.predict(X_val))}')\n",
        "    # print(f'{name} precision: {precision_score(y_val2, model.predict(X_val2), average=\"macro\")}')\n",
        "    print(f'{name} f1_score: {f1_score(y_val, model.predict(X_val))}')\n",
        "    print('\\n')"
      ],
      "metadata": {
        "colab": {
          "base_uri": "https://localhost:8080/"
        },
        "id": "_AVXqLgilssw",
        "outputId": "4f8e87a9-f186-4736-d55c-a98c9492fcbc"
      },
      "execution_count": 25,
      "outputs": [
        {
          "output_type": "stream",
          "name": "stdout",
          "text": [
            "XGB accuracy: 0.781441717791411\n",
            "XGB recall: 0.820839580209895\n",
            "XGB f1_score: 0.7934782608695653\n",
            "\n",
            "\n",
            "LightGBM accuracy: 0.75920245398773\n",
            "LightGBM recall: 0.676911544227886\n",
            "LightGBM f1_score: 0.7419884963023828\n",
            "\n",
            "\n",
            "CatBoost accuracy: 0.7776073619631901\n",
            "CatBoost recall: 0.7543171114599686\n",
            "CatBoost f1_score: 0.768185451638689\n",
            "\n",
            "\n"
          ]
        }
      ]
    },
    {
      "cell_type": "code",
      "source": [
        "model"
      ],
      "metadata": {
        "colab": {
          "base_uri": "https://localhost:8080/",
          "height": 192
        },
        "id": "X1L5XPasX-RQ",
        "outputId": "a5021ebf-8485-4ab7-edf3-ba6030b3e086"
      },
      "execution_count": 26,
      "outputs": [
        {
          "output_type": "execute_result",
          "data": {
            "text/plain": [
              "Pipeline(steps=[('columntransformer',\n",
              "                 ColumnTransformer(transformers=[('categorical',\n",
              "                                                  OrdinalEncoder(handle_unknown='use_encoded_value',\n",
              "                                                                 unknown_value=-1),\n",
              "                                                  ['PassengerId', 'HomePlanet',\n",
              "                                                   'CryoSleep', 'Cabin',\n",
              "                                                   'Destination', 'VIP',\n",
              "                                                   'Name']),\n",
              "                                                 ('numerical',\n",
              "                                                  Pipeline(steps=[('imputer',\n",
              "                                                                   SimpleImputer(strategy='most_frequent'))]),\n",
              "                                                  ['Age', 'RoomService',\n",
              "                                                   'FoodCourt', 'ShoppingMall',\n",
              "                                                   'Spa', 'VRDeck'])])),\n",
              "                ('catboostclassifier',\n",
              "                 <catboost.core.CatBoostClassifier object at 0x7efdb040ddf0>)])"
            ],
            "text/html": [
              "<style>#sk-container-id-2 {color: black;background-color: white;}#sk-container-id-2 pre{padding: 0;}#sk-container-id-2 div.sk-toggleable {background-color: white;}#sk-container-id-2 label.sk-toggleable__label {cursor: pointer;display: block;width: 100%;margin-bottom: 0;padding: 0.3em;box-sizing: border-box;text-align: center;}#sk-container-id-2 label.sk-toggleable__label-arrow:before {content: \"▸\";float: left;margin-right: 0.25em;color: #696969;}#sk-container-id-2 label.sk-toggleable__label-arrow:hover:before {color: black;}#sk-container-id-2 div.sk-estimator:hover label.sk-toggleable__label-arrow:before {color: black;}#sk-container-id-2 div.sk-toggleable__content {max-height: 0;max-width: 0;overflow: hidden;text-align: left;background-color: #f0f8ff;}#sk-container-id-2 div.sk-toggleable__content pre {margin: 0.2em;color: black;border-radius: 0.25em;background-color: #f0f8ff;}#sk-container-id-2 input.sk-toggleable__control:checked~div.sk-toggleable__content {max-height: 200px;max-width: 100%;overflow: auto;}#sk-container-id-2 input.sk-toggleable__control:checked~label.sk-toggleable__label-arrow:before {content: \"▾\";}#sk-container-id-2 div.sk-estimator input.sk-toggleable__control:checked~label.sk-toggleable__label {background-color: #d4ebff;}#sk-container-id-2 div.sk-label input.sk-toggleable__control:checked~label.sk-toggleable__label {background-color: #d4ebff;}#sk-container-id-2 input.sk-hidden--visually {border: 0;clip: rect(1px 1px 1px 1px);clip: rect(1px, 1px, 1px, 1px);height: 1px;margin: -1px;overflow: hidden;padding: 0;position: absolute;width: 1px;}#sk-container-id-2 div.sk-estimator {font-family: monospace;background-color: #f0f8ff;border: 1px dotted black;border-radius: 0.25em;box-sizing: border-box;margin-bottom: 0.5em;}#sk-container-id-2 div.sk-estimator:hover {background-color: #d4ebff;}#sk-container-id-2 div.sk-parallel-item::after {content: \"\";width: 100%;border-bottom: 1px solid gray;flex-grow: 1;}#sk-container-id-2 div.sk-label:hover label.sk-toggleable__label {background-color: #d4ebff;}#sk-container-id-2 div.sk-serial::before {content: \"\";position: absolute;border-left: 1px solid gray;box-sizing: border-box;top: 0;bottom: 0;left: 50%;z-index: 0;}#sk-container-id-2 div.sk-serial {display: flex;flex-direction: column;align-items: center;background-color: white;padding-right: 0.2em;padding-left: 0.2em;position: relative;}#sk-container-id-2 div.sk-item {position: relative;z-index: 1;}#sk-container-id-2 div.sk-parallel {display: flex;align-items: stretch;justify-content: center;background-color: white;position: relative;}#sk-container-id-2 div.sk-item::before, #sk-container-id-2 div.sk-parallel-item::before {content: \"\";position: absolute;border-left: 1px solid gray;box-sizing: border-box;top: 0;bottom: 0;left: 50%;z-index: -1;}#sk-container-id-2 div.sk-parallel-item {display: flex;flex-direction: column;z-index: 1;position: relative;background-color: white;}#sk-container-id-2 div.sk-parallel-item:first-child::after {align-self: flex-end;width: 50%;}#sk-container-id-2 div.sk-parallel-item:last-child::after {align-self: flex-start;width: 50%;}#sk-container-id-2 div.sk-parallel-item:only-child::after {width: 0;}#sk-container-id-2 div.sk-dashed-wrapped {border: 1px dashed gray;margin: 0 0.4em 0.5em 0.4em;box-sizing: border-box;padding-bottom: 0.4em;background-color: white;}#sk-container-id-2 div.sk-label label {font-family: monospace;font-weight: bold;display: inline-block;line-height: 1.2em;}#sk-container-id-2 div.sk-label-container {text-align: center;}#sk-container-id-2 div.sk-container {/* jupyter's `normalize.less` sets `[hidden] { display: none; }` but bootstrap.min.css set `[hidden] { display: none !important; }` so we also need the `!important` here to be able to override the default hidden behavior on the sphinx rendered scikit-learn.org. See: https://github.com/scikit-learn/scikit-learn/issues/21755 */display: inline-block !important;position: relative;}#sk-container-id-2 div.sk-text-repr-fallback {display: none;}</style><div id=\"sk-container-id-2\" class=\"sk-top-container\"><div class=\"sk-text-repr-fallback\"><pre>Pipeline(steps=[(&#x27;columntransformer&#x27;,\n",
              "                 ColumnTransformer(transformers=[(&#x27;categorical&#x27;,\n",
              "                                                  OrdinalEncoder(handle_unknown=&#x27;use_encoded_value&#x27;,\n",
              "                                                                 unknown_value=-1),\n",
              "                                                  [&#x27;PassengerId&#x27;, &#x27;HomePlanet&#x27;,\n",
              "                                                   &#x27;CryoSleep&#x27;, &#x27;Cabin&#x27;,\n",
              "                                                   &#x27;Destination&#x27;, &#x27;VIP&#x27;,\n",
              "                                                   &#x27;Name&#x27;]),\n",
              "                                                 (&#x27;numerical&#x27;,\n",
              "                                                  Pipeline(steps=[(&#x27;imputer&#x27;,\n",
              "                                                                   SimpleImputer(strategy=&#x27;most_frequent&#x27;))]),\n",
              "                                                  [&#x27;Age&#x27;, &#x27;RoomService&#x27;,\n",
              "                                                   &#x27;FoodCourt&#x27;, &#x27;ShoppingMall&#x27;,\n",
              "                                                   &#x27;Spa&#x27;, &#x27;VRDeck&#x27;])])),\n",
              "                (&#x27;catboostclassifier&#x27;,\n",
              "                 &lt;catboost.core.CatBoostClassifier object at 0x7efdb040ddf0&gt;)])</pre><b>In a Jupyter environment, please rerun this cell to show the HTML representation or trust the notebook. <br />On GitHub, the HTML representation is unable to render, please try loading this page with nbviewer.org.</b></div><div class=\"sk-container\" hidden><div class=\"sk-item sk-dashed-wrapped\"><div class=\"sk-label-container\"><div class=\"sk-label sk-toggleable\"><input class=\"sk-toggleable__control sk-hidden--visually\" id=\"sk-estimator-id-6\" type=\"checkbox\" ><label for=\"sk-estimator-id-6\" class=\"sk-toggleable__label sk-toggleable__label-arrow\">Pipeline</label><div class=\"sk-toggleable__content\"><pre>Pipeline(steps=[(&#x27;columntransformer&#x27;,\n",
              "                 ColumnTransformer(transformers=[(&#x27;categorical&#x27;,\n",
              "                                                  OrdinalEncoder(handle_unknown=&#x27;use_encoded_value&#x27;,\n",
              "                                                                 unknown_value=-1),\n",
              "                                                  [&#x27;PassengerId&#x27;, &#x27;HomePlanet&#x27;,\n",
              "                                                   &#x27;CryoSleep&#x27;, &#x27;Cabin&#x27;,\n",
              "                                                   &#x27;Destination&#x27;, &#x27;VIP&#x27;,\n",
              "                                                   &#x27;Name&#x27;]),\n",
              "                                                 (&#x27;numerical&#x27;,\n",
              "                                                  Pipeline(steps=[(&#x27;imputer&#x27;,\n",
              "                                                                   SimpleImputer(strategy=&#x27;most_frequent&#x27;))]),\n",
              "                                                  [&#x27;Age&#x27;, &#x27;RoomService&#x27;,\n",
              "                                                   &#x27;FoodCourt&#x27;, &#x27;ShoppingMall&#x27;,\n",
              "                                                   &#x27;Spa&#x27;, &#x27;VRDeck&#x27;])])),\n",
              "                (&#x27;catboostclassifier&#x27;,\n",
              "                 &lt;catboost.core.CatBoostClassifier object at 0x7efdb040ddf0&gt;)])</pre></div></div></div><div class=\"sk-serial\"><div class=\"sk-item sk-dashed-wrapped\"><div class=\"sk-label-container\"><div class=\"sk-label sk-toggleable\"><input class=\"sk-toggleable__control sk-hidden--visually\" id=\"sk-estimator-id-7\" type=\"checkbox\" ><label for=\"sk-estimator-id-7\" class=\"sk-toggleable__label sk-toggleable__label-arrow\">columntransformer: ColumnTransformer</label><div class=\"sk-toggleable__content\"><pre>ColumnTransformer(transformers=[(&#x27;categorical&#x27;,\n",
              "                                 OrdinalEncoder(handle_unknown=&#x27;use_encoded_value&#x27;,\n",
              "                                                unknown_value=-1),\n",
              "                                 [&#x27;PassengerId&#x27;, &#x27;HomePlanet&#x27;, &#x27;CryoSleep&#x27;,\n",
              "                                  &#x27;Cabin&#x27;, &#x27;Destination&#x27;, &#x27;VIP&#x27;, &#x27;Name&#x27;]),\n",
              "                                (&#x27;numerical&#x27;,\n",
              "                                 Pipeline(steps=[(&#x27;imputer&#x27;,\n",
              "                                                  SimpleImputer(strategy=&#x27;most_frequent&#x27;))]),\n",
              "                                 [&#x27;Age&#x27;, &#x27;RoomService&#x27;, &#x27;FoodCourt&#x27;,\n",
              "                                  &#x27;ShoppingMall&#x27;, &#x27;Spa&#x27;, &#x27;VRDeck&#x27;])])</pre></div></div></div><div class=\"sk-parallel\"><div class=\"sk-parallel-item\"><div class=\"sk-item\"><div class=\"sk-label-container\"><div class=\"sk-label sk-toggleable\"><input class=\"sk-toggleable__control sk-hidden--visually\" id=\"sk-estimator-id-8\" type=\"checkbox\" ><label for=\"sk-estimator-id-8\" class=\"sk-toggleable__label sk-toggleable__label-arrow\">categorical</label><div class=\"sk-toggleable__content\"><pre>[&#x27;PassengerId&#x27;, &#x27;HomePlanet&#x27;, &#x27;CryoSleep&#x27;, &#x27;Cabin&#x27;, &#x27;Destination&#x27;, &#x27;VIP&#x27;, &#x27;Name&#x27;]</pre></div></div></div><div class=\"sk-serial\"><div class=\"sk-item\"><div class=\"sk-estimator sk-toggleable\"><input class=\"sk-toggleable__control sk-hidden--visually\" id=\"sk-estimator-id-9\" type=\"checkbox\" ><label for=\"sk-estimator-id-9\" class=\"sk-toggleable__label sk-toggleable__label-arrow\">OrdinalEncoder</label><div class=\"sk-toggleable__content\"><pre>OrdinalEncoder(handle_unknown=&#x27;use_encoded_value&#x27;, unknown_value=-1)</pre></div></div></div></div></div></div><div class=\"sk-parallel-item\"><div class=\"sk-item\"><div class=\"sk-label-container\"><div class=\"sk-label sk-toggleable\"><input class=\"sk-toggleable__control sk-hidden--visually\" id=\"sk-estimator-id-10\" type=\"checkbox\" ><label for=\"sk-estimator-id-10\" class=\"sk-toggleable__label sk-toggleable__label-arrow\">numerical</label><div class=\"sk-toggleable__content\"><pre>[&#x27;Age&#x27;, &#x27;RoomService&#x27;, &#x27;FoodCourt&#x27;, &#x27;ShoppingMall&#x27;, &#x27;Spa&#x27;, &#x27;VRDeck&#x27;]</pre></div></div></div><div class=\"sk-serial\"><div class=\"sk-item\"><div class=\"sk-serial\"><div class=\"sk-item\"><div class=\"sk-estimator sk-toggleable\"><input class=\"sk-toggleable__control sk-hidden--visually\" id=\"sk-estimator-id-11\" type=\"checkbox\" ><label for=\"sk-estimator-id-11\" class=\"sk-toggleable__label sk-toggleable__label-arrow\">SimpleImputer</label><div class=\"sk-toggleable__content\"><pre>SimpleImputer(strategy=&#x27;most_frequent&#x27;)</pre></div></div></div></div></div></div></div></div></div></div><div class=\"sk-item\"><div class=\"sk-estimator sk-toggleable\"><input class=\"sk-toggleable__control sk-hidden--visually\" id=\"sk-estimator-id-12\" type=\"checkbox\" ><label for=\"sk-estimator-id-12\" class=\"sk-toggleable__label sk-toggleable__label-arrow\">CatBoostClassifier</label><div class=\"sk-toggleable__content\"><pre>&lt;catboost.core.CatBoostClassifier object at 0x7efdb040ddf0&gt;</pre></div></div></div></div></div></div></div>"
            ]
          },
          "metadata": {},
          "execution_count": 26
        }
      ]
    },
    {
      "cell_type": "markdown",
      "source": [
        "### Use Optuna to find the best hyperparameters."
      ],
      "metadata": {
        "id": "C4GC3EahWwrM"
      }
    },
    {
      "cell_type": "markdown",
      "source": [
        "#### LGBM"
      ],
      "metadata": {
        "id": "31_OOCYJByMq"
      }
    },
    {
      "cell_type": "code",
      "source": [
        "'''\n",
        "SOURCE: \n",
        "https://colab.research.google.com/drive/1Mj9hF54UESVDRmpA09tWADq9Nbrj6M-2?usp=sharing#scrollTo=9a1haMklJ6X3\n",
        "'''\n",
        "\n",
        "# Define the objective function.\n",
        "def objective(trial):\n",
        "    dtrain = lgb.Dataset(X_train, label=y_train)\n",
        "    dvalid = lgb.Dataset(X_val, label=y_val)\n",
        "    #default parameters dictionary for optimizations(search space)\n",
        "    param = {\n",
        "        \"objective\": \"binary\",\n",
        "        \"metric\": \"auc\",\n",
        "        \"verbosity\": -1,\n",
        "        \"boosting_type\": \"gbdt\",\n",
        "        \"bagging_fraction\": trial.suggest_float(\"bagging_fraction\", 0.4, 1.0),\n",
        "        \"bagging_freq\": trial.suggest_int(\"bagging_freq\", 1, 7),\n",
        "        \"min_child_samples\": trial.suggest_int(\"min_child_samples\", 5, 100),\n",
        "    }\n",
        "\n",
        "    # Add a callback for pruning.\n",
        "    # To turn on the pruning feature, you need to call :func:`~optuna.trial.Trial.report` and :func:`~optuna.trial.Trial.should_prune` after each step of the iterative training.\n",
        "    # :func:`~optuna.trial.Trial.report` periodically monitors the intermediate objective values.\n",
        "    # :func:`~optuna.trial.Trial.should_prune` decides termination of the trial that does not meet a predefined condition.\n",
        "    pruning_callback = optuna.integration.LightGBMPruningCallback(trial, \"auc\")\n",
        "    gbm = lgb.train(param, dtrain, valid_sets=[dvalid], verbose_eval=False, callbacks=[pruning_callback])\n",
        "    #Predict the valid data\n",
        "    preds = gbm.predict(X_val)\n",
        "    #rounding values to its nearest integers\n",
        "    pred_labels = np.rint(preds)\n",
        "    #calculating accuracy\n",
        "    accuracy = accuracy_score(y_val, pred_labels)\n",
        "    return accuracy\n",
        "\n",
        "'''\n",
        "Create an study for that ML model and optimize it\n",
        "'''\n",
        "\n",
        "# Add stream handler of stdout to show the messages\n",
        "optuna.logging.get_logger(\"optuna\").addHandler(logging.StreamHandler(sys.stdout))\n",
        "# Method :func:`~optuna.create_study` returns a study object.\n",
        "# A study object has useful properties for analyzing the optimization outcome.\n",
        "study = optuna.create_study(\n",
        "    direction=\"maximize\",\n",
        "    sampler=optuna.samplers.TPESampler(),\n",
        "    pruner=optuna.pruners.MedianPruner(n_warmup_steps=10),\n",
        ") #Set minimize for minimization and maximize for maximization.\n",
        "#To start the optimization, we create a study object and pass the objective function to method\n",
        "study.optimize(objective, n_trials=100, timeout=600) #add timeout for model not to exceed this time limit\n",
        "\n",
        "\n",
        "# To get the dictionary of parameter name and parameter values:\n",
        "print(\"Return a dictionary of parameter name and parameter values:\\n\",study.best_params)\n",
        "\n",
        "# To get the best observed value of the objective function:\n",
        "print(\"Return the best observed value of the objective function:\\n\",study.best_value)\n",
        "\n",
        "# # To get the best trial:\n",
        "# print(\"Return the best trial:\",study.best_trial)\n",
        "\n",
        "# # To get all trials:\n",
        "# print(\"Return all the trials:\", study.trials)\n",
        "\n",
        "# study.trials_dataframe()"
      ],
      "metadata": {
        "id": "VkatDGg68CoO",
        "colab": {
          "base_uri": "https://localhost:8080/"
        },
        "outputId": "13e14b4e-37c0-415b-b5be-9ba2b7310073"
      },
      "execution_count": 39,
      "outputs": [
        {
          "output_type": "stream",
          "name": "stderr",
          "text": [
            "\u001b[32m[I 2023-03-22 21:26:47,095]\u001b[0m A new study created in memory with name: no-name-e628279e-ca9d-46b1-a3ff-6dfc2196085d\u001b[0m\n"
          ]
        },
        {
          "output_type": "stream",
          "name": "stdout",
          "text": [
            "A new study created in memory with name: no-name-e628279e-ca9d-46b1-a3ff-6dfc2196085d\n",
            "A new study created in memory with name: no-name-e628279e-ca9d-46b1-a3ff-6dfc2196085d\n"
          ]
        },
        {
          "output_type": "stream",
          "name": "stderr",
          "text": [
            "/usr/local/lib/python3.9/dist-packages/lightgbm/engine.py:239: UserWarning:\n",
            "\n",
            "'verbose_eval' argument is deprecated and will be removed in a future release of LightGBM. Pass 'log_evaluation()' callback via 'callbacks' argument instead.\n",
            "\n",
            "/usr/local/lib/python3.9/dist-packages/lightgbm/basic.py:1780: UserWarning:\n",
            "\n",
            "Overriding the parameters from Reference Dataset.\n",
            "\n",
            "/usr/local/lib/python3.9/dist-packages/lightgbm/basic.py:1513: UserWarning:\n",
            "\n",
            "categorical_column in param dict is overridden.\n",
            "\n",
            "\u001b[32m[I 2023-03-22 21:26:47,425]\u001b[0m Trial 0 finished with value: 0.7887269938650306 and parameters: {'bagging_fraction': 0.9478499268249668, 'bagging_freq': 3, 'min_child_samples': 62}. Best is trial 0 with value: 0.7887269938650306.\u001b[0m\n"
          ]
        },
        {
          "output_type": "stream",
          "name": "stdout",
          "text": [
            "Trial 0 finished with value: 0.7887269938650306 and parameters: {'bagging_fraction': 0.9478499268249668, 'bagging_freq': 3, 'min_child_samples': 62}. Best is trial 0 with value: 0.7887269938650306.\n",
            "Trial 0 finished with value: 0.7887269938650306 and parameters: {'bagging_fraction': 0.9478499268249668, 'bagging_freq': 3, 'min_child_samples': 62}. Best is trial 0 with value: 0.7887269938650306.\n"
          ]
        },
        {
          "output_type": "stream",
          "name": "stderr",
          "text": [
            "/usr/local/lib/python3.9/dist-packages/lightgbm/engine.py:239: UserWarning:\n",
            "\n",
            "'verbose_eval' argument is deprecated and will be removed in a future release of LightGBM. Pass 'log_evaluation()' callback via 'callbacks' argument instead.\n",
            "\n",
            "/usr/local/lib/python3.9/dist-packages/lightgbm/basic.py:1780: UserWarning:\n",
            "\n",
            "Overriding the parameters from Reference Dataset.\n",
            "\n",
            "/usr/local/lib/python3.9/dist-packages/lightgbm/basic.py:1513: UserWarning:\n",
            "\n",
            "categorical_column in param dict is overridden.\n",
            "\n",
            "\u001b[32m[I 2023-03-22 21:26:47,709]\u001b[0m Trial 1 finished with value: 0.786042944785276 and parameters: {'bagging_fraction': 0.43650554118135537, 'bagging_freq': 2, 'min_child_samples': 68}. Best is trial 0 with value: 0.7887269938650306.\u001b[0m\n"
          ]
        },
        {
          "output_type": "stream",
          "name": "stdout",
          "text": [
            "Trial 1 finished with value: 0.786042944785276 and parameters: {'bagging_fraction': 0.43650554118135537, 'bagging_freq': 2, 'min_child_samples': 68}. Best is trial 0 with value: 0.7887269938650306.\n",
            "Trial 1 finished with value: 0.786042944785276 and parameters: {'bagging_fraction': 0.43650554118135537, 'bagging_freq': 2, 'min_child_samples': 68}. Best is trial 0 with value: 0.7887269938650306.\n"
          ]
        },
        {
          "output_type": "stream",
          "name": "stderr",
          "text": [
            "/usr/local/lib/python3.9/dist-packages/lightgbm/engine.py:239: UserWarning:\n",
            "\n",
            "'verbose_eval' argument is deprecated and will be removed in a future release of LightGBM. Pass 'log_evaluation()' callback via 'callbacks' argument instead.\n",
            "\n",
            "/usr/local/lib/python3.9/dist-packages/lightgbm/basic.py:1780: UserWarning:\n",
            "\n",
            "Overriding the parameters from Reference Dataset.\n",
            "\n",
            "/usr/local/lib/python3.9/dist-packages/lightgbm/basic.py:1513: UserWarning:\n",
            "\n",
            "categorical_column in param dict is overridden.\n",
            "\n",
            "\u001b[32m[I 2023-03-22 21:26:48,020]\u001b[0m Trial 2 finished with value: 0.7875766871165644 and parameters: {'bagging_fraction': 0.9259316844780396, 'bagging_freq': 4, 'min_child_samples': 18}. Best is trial 0 with value: 0.7887269938650306.\u001b[0m\n"
          ]
        },
        {
          "output_type": "stream",
          "name": "stdout",
          "text": [
            "Trial 2 finished with value: 0.7875766871165644 and parameters: {'bagging_fraction': 0.9259316844780396, 'bagging_freq': 4, 'min_child_samples': 18}. Best is trial 0 with value: 0.7887269938650306.\n",
            "Trial 2 finished with value: 0.7875766871165644 and parameters: {'bagging_fraction': 0.9259316844780396, 'bagging_freq': 4, 'min_child_samples': 18}. Best is trial 0 with value: 0.7887269938650306.\n"
          ]
        },
        {
          "output_type": "stream",
          "name": "stderr",
          "text": [
            "/usr/local/lib/python3.9/dist-packages/lightgbm/engine.py:239: UserWarning:\n",
            "\n",
            "'verbose_eval' argument is deprecated and will be removed in a future release of LightGBM. Pass 'log_evaluation()' callback via 'callbacks' argument instead.\n",
            "\n",
            "/usr/local/lib/python3.9/dist-packages/lightgbm/basic.py:1780: UserWarning:\n",
            "\n",
            "Overriding the parameters from Reference Dataset.\n",
            "\n",
            "/usr/local/lib/python3.9/dist-packages/lightgbm/basic.py:1513: UserWarning:\n",
            "\n",
            "categorical_column in param dict is overridden.\n",
            "\n",
            "\u001b[32m[I 2023-03-22 21:26:48,370]\u001b[0m Trial 3 finished with value: 0.7914110429447853 and parameters: {'bagging_fraction': 0.8785628747284383, 'bagging_freq': 7, 'min_child_samples': 78}. Best is trial 3 with value: 0.7914110429447853.\u001b[0m\n"
          ]
        },
        {
          "output_type": "stream",
          "name": "stdout",
          "text": [
            "Trial 3 finished with value: 0.7914110429447853 and parameters: {'bagging_fraction': 0.8785628747284383, 'bagging_freq': 7, 'min_child_samples': 78}. Best is trial 3 with value: 0.7914110429447853.\n",
            "Trial 3 finished with value: 0.7914110429447853 and parameters: {'bagging_fraction': 0.8785628747284383, 'bagging_freq': 7, 'min_child_samples': 78}. Best is trial 3 with value: 0.7914110429447853.\n"
          ]
        },
        {
          "output_type": "stream",
          "name": "stderr",
          "text": [
            "/usr/local/lib/python3.9/dist-packages/lightgbm/engine.py:239: UserWarning:\n",
            "\n",
            "'verbose_eval' argument is deprecated and will be removed in a future release of LightGBM. Pass 'log_evaluation()' callback via 'callbacks' argument instead.\n",
            "\n",
            "/usr/local/lib/python3.9/dist-packages/lightgbm/basic.py:1780: UserWarning:\n",
            "\n",
            "Overriding the parameters from Reference Dataset.\n",
            "\n",
            "/usr/local/lib/python3.9/dist-packages/lightgbm/basic.py:1513: UserWarning:\n",
            "\n",
            "categorical_column in param dict is overridden.\n",
            "\n",
            "\u001b[32m[I 2023-03-22 21:26:48,685]\u001b[0m Trial 4 finished with value: 0.7883435582822086 and parameters: {'bagging_fraction': 0.8912590810579272, 'bagging_freq': 4, 'min_child_samples': 52}. Best is trial 3 with value: 0.7914110429447853.\u001b[0m\n"
          ]
        },
        {
          "output_type": "stream",
          "name": "stdout",
          "text": [
            "Trial 4 finished with value: 0.7883435582822086 and parameters: {'bagging_fraction': 0.8912590810579272, 'bagging_freq': 4, 'min_child_samples': 52}. Best is trial 3 with value: 0.7914110429447853.\n",
            "Trial 4 finished with value: 0.7883435582822086 and parameters: {'bagging_fraction': 0.8912590810579272, 'bagging_freq': 4, 'min_child_samples': 52}. Best is trial 3 with value: 0.7914110429447853.\n"
          ]
        },
        {
          "output_type": "stream",
          "name": "stderr",
          "text": [
            "/usr/local/lib/python3.9/dist-packages/lightgbm/engine.py:239: UserWarning:\n",
            "\n",
            "'verbose_eval' argument is deprecated and will be removed in a future release of LightGBM. Pass 'log_evaluation()' callback via 'callbacks' argument instead.\n",
            "\n",
            "/usr/local/lib/python3.9/dist-packages/lightgbm/basic.py:1780: UserWarning:\n",
            "\n",
            "Overriding the parameters from Reference Dataset.\n",
            "\n",
            "/usr/local/lib/python3.9/dist-packages/lightgbm/basic.py:1513: UserWarning:\n",
            "\n",
            "categorical_column in param dict is overridden.\n",
            "\n",
            "\u001b[32m[I 2023-03-22 21:26:48,779]\u001b[0m Trial 5 pruned. Trial was pruned at iteration 21.\u001b[0m\n"
          ]
        },
        {
          "output_type": "stream",
          "name": "stdout",
          "text": [
            "Trial 5 pruned. Trial was pruned at iteration 21.\n",
            "Trial 5 pruned. Trial was pruned at iteration 21.\n"
          ]
        },
        {
          "output_type": "stream",
          "name": "stderr",
          "text": [
            "/usr/local/lib/python3.9/dist-packages/lightgbm/engine.py:239: UserWarning:\n",
            "\n",
            "'verbose_eval' argument is deprecated and will be removed in a future release of LightGBM. Pass 'log_evaluation()' callback via 'callbacks' argument instead.\n",
            "\n",
            "/usr/local/lib/python3.9/dist-packages/lightgbm/basic.py:1780: UserWarning:\n",
            "\n",
            "Overriding the parameters from Reference Dataset.\n",
            "\n",
            "/usr/local/lib/python3.9/dist-packages/lightgbm/basic.py:1513: UserWarning:\n",
            "\n",
            "categorical_column in param dict is overridden.\n",
            "\n",
            "\u001b[32m[I 2023-03-22 21:26:48,843]\u001b[0m Trial 6 pruned. Trial was pruned at iteration 11.\u001b[0m\n"
          ]
        },
        {
          "output_type": "stream",
          "name": "stdout",
          "text": [
            "Trial 6 pruned. Trial was pruned at iteration 11.\n",
            "Trial 6 pruned. Trial was pruned at iteration 11.\n"
          ]
        },
        {
          "output_type": "stream",
          "name": "stderr",
          "text": [
            "/usr/local/lib/python3.9/dist-packages/lightgbm/engine.py:239: UserWarning:\n",
            "\n",
            "'verbose_eval' argument is deprecated and will be removed in a future release of LightGBM. Pass 'log_evaluation()' callback via 'callbacks' argument instead.\n",
            "\n",
            "/usr/local/lib/python3.9/dist-packages/lightgbm/basic.py:1780: UserWarning:\n",
            "\n",
            "Overriding the parameters from Reference Dataset.\n",
            "\n",
            "/usr/local/lib/python3.9/dist-packages/lightgbm/basic.py:1513: UserWarning:\n",
            "\n",
            "categorical_column in param dict is overridden.\n",
            "\n",
            "\u001b[32m[I 2023-03-22 21:26:48,900]\u001b[0m Trial 7 pruned. Trial was pruned at iteration 10.\u001b[0m\n"
          ]
        },
        {
          "output_type": "stream",
          "name": "stdout",
          "text": [
            "Trial 7 pruned. Trial was pruned at iteration 10.\n",
            "Trial 7 pruned. Trial was pruned at iteration 10.\n"
          ]
        },
        {
          "output_type": "stream",
          "name": "stderr",
          "text": [
            "/usr/local/lib/python3.9/dist-packages/lightgbm/engine.py:239: UserWarning:\n",
            "\n",
            "'verbose_eval' argument is deprecated and will be removed in a future release of LightGBM. Pass 'log_evaluation()' callback via 'callbacks' argument instead.\n",
            "\n",
            "/usr/local/lib/python3.9/dist-packages/lightgbm/basic.py:1780: UserWarning:\n",
            "\n",
            "Overriding the parameters from Reference Dataset.\n",
            "\n",
            "/usr/local/lib/python3.9/dist-packages/lightgbm/basic.py:1513: UserWarning:\n",
            "\n",
            "categorical_column in param dict is overridden.\n",
            "\n",
            "\u001b[32m[I 2023-03-22 21:26:48,959]\u001b[0m Trial 8 pruned. Trial was pruned at iteration 10.\u001b[0m\n"
          ]
        },
        {
          "output_type": "stream",
          "name": "stdout",
          "text": [
            "Trial 8 pruned. Trial was pruned at iteration 10.\n",
            "Trial 8 pruned. Trial was pruned at iteration 10.\n"
          ]
        },
        {
          "output_type": "stream",
          "name": "stderr",
          "text": [
            "/usr/local/lib/python3.9/dist-packages/lightgbm/engine.py:239: UserWarning:\n",
            "\n",
            "'verbose_eval' argument is deprecated and will be removed in a future release of LightGBM. Pass 'log_evaluation()' callback via 'callbacks' argument instead.\n",
            "\n",
            "/usr/local/lib/python3.9/dist-packages/lightgbm/basic.py:1780: UserWarning:\n",
            "\n",
            "Overriding the parameters from Reference Dataset.\n",
            "\n",
            "/usr/local/lib/python3.9/dist-packages/lightgbm/basic.py:1513: UserWarning:\n",
            "\n",
            "categorical_column in param dict is overridden.\n",
            "\n",
            "\u001b[32m[I 2023-03-22 21:26:49,319]\u001b[0m Trial 9 finished with value: 0.7910276073619632 and parameters: {'bagging_fraction': 0.6426399700687124, 'bagging_freq': 2, 'min_child_samples': 30}. Best is trial 3 with value: 0.7914110429447853.\u001b[0m\n"
          ]
        },
        {
          "output_type": "stream",
          "name": "stdout",
          "text": [
            "Trial 9 finished with value: 0.7910276073619632 and parameters: {'bagging_fraction': 0.6426399700687124, 'bagging_freq': 2, 'min_child_samples': 30}. Best is trial 3 with value: 0.7914110429447853.\n",
            "Trial 9 finished with value: 0.7910276073619632 and parameters: {'bagging_fraction': 0.6426399700687124, 'bagging_freq': 2, 'min_child_samples': 30}. Best is trial 3 with value: 0.7914110429447853.\n"
          ]
        },
        {
          "output_type": "stream",
          "name": "stderr",
          "text": [
            "/usr/local/lib/python3.9/dist-packages/lightgbm/engine.py:239: UserWarning:\n",
            "\n",
            "'verbose_eval' argument is deprecated and will be removed in a future release of LightGBM. Pass 'log_evaluation()' callback via 'callbacks' argument instead.\n",
            "\n",
            "/usr/local/lib/python3.9/dist-packages/lightgbm/basic.py:1780: UserWarning:\n",
            "\n",
            "Overriding the parameters from Reference Dataset.\n",
            "\n",
            "/usr/local/lib/python3.9/dist-packages/lightgbm/basic.py:1513: UserWarning:\n",
            "\n",
            "categorical_column in param dict is overridden.\n",
            "\n",
            "\u001b[32m[I 2023-03-22 21:26:49,391]\u001b[0m Trial 10 pruned. Trial was pruned at iteration 10.\u001b[0m\n"
          ]
        },
        {
          "output_type": "stream",
          "name": "stdout",
          "text": [
            "Trial 10 pruned. Trial was pruned at iteration 10.\n",
            "Trial 10 pruned. Trial was pruned at iteration 10.\n"
          ]
        },
        {
          "output_type": "stream",
          "name": "stderr",
          "text": [
            "/usr/local/lib/python3.9/dist-packages/lightgbm/engine.py:239: UserWarning:\n",
            "\n",
            "'verbose_eval' argument is deprecated and will be removed in a future release of LightGBM. Pass 'log_evaluation()' callback via 'callbacks' argument instead.\n",
            "\n",
            "/usr/local/lib/python3.9/dist-packages/lightgbm/basic.py:1780: UserWarning:\n",
            "\n",
            "Overriding the parameters from Reference Dataset.\n",
            "\n",
            "/usr/local/lib/python3.9/dist-packages/lightgbm/basic.py:1513: UserWarning:\n",
            "\n",
            "categorical_column in param dict is overridden.\n",
            "\n",
            "\u001b[32m[I 2023-03-22 21:26:49,455]\u001b[0m Trial 11 pruned. Trial was pruned at iteration 10.\u001b[0m\n"
          ]
        },
        {
          "output_type": "stream",
          "name": "stdout",
          "text": [
            "Trial 11 pruned. Trial was pruned at iteration 10.\n",
            "Trial 11 pruned. Trial was pruned at iteration 10.\n"
          ]
        },
        {
          "output_type": "stream",
          "name": "stderr",
          "text": [
            "/usr/local/lib/python3.9/dist-packages/lightgbm/engine.py:239: UserWarning:\n",
            "\n",
            "'verbose_eval' argument is deprecated and will be removed in a future release of LightGBM. Pass 'log_evaluation()' callback via 'callbacks' argument instead.\n",
            "\n",
            "/usr/local/lib/python3.9/dist-packages/lightgbm/basic.py:1780: UserWarning:\n",
            "\n",
            "Overriding the parameters from Reference Dataset.\n",
            "\n",
            "/usr/local/lib/python3.9/dist-packages/lightgbm/basic.py:1513: UserWarning:\n",
            "\n",
            "categorical_column in param dict is overridden.\n",
            "\n",
            "\u001b[32m[I 2023-03-22 21:26:49,533]\u001b[0m Trial 12 pruned. Trial was pruned at iteration 10.\u001b[0m\n"
          ]
        },
        {
          "output_type": "stream",
          "name": "stdout",
          "text": [
            "Trial 12 pruned. Trial was pruned at iteration 10.\n",
            "Trial 12 pruned. Trial was pruned at iteration 10.\n"
          ]
        },
        {
          "output_type": "stream",
          "name": "stderr",
          "text": [
            "/usr/local/lib/python3.9/dist-packages/lightgbm/engine.py:239: UserWarning:\n",
            "\n",
            "'verbose_eval' argument is deprecated and will be removed in a future release of LightGBM. Pass 'log_evaluation()' callback via 'callbacks' argument instead.\n",
            "\n",
            "/usr/local/lib/python3.9/dist-packages/lightgbm/basic.py:1780: UserWarning:\n",
            "\n",
            "Overriding the parameters from Reference Dataset.\n",
            "\n",
            "/usr/local/lib/python3.9/dist-packages/lightgbm/basic.py:1513: UserWarning:\n",
            "\n",
            "categorical_column in param dict is overridden.\n",
            "\n",
            "\u001b[32m[I 2023-03-22 21:26:49,603]\u001b[0m Trial 13 pruned. Trial was pruned at iteration 10.\u001b[0m\n"
          ]
        },
        {
          "output_type": "stream",
          "name": "stdout",
          "text": [
            "Trial 13 pruned. Trial was pruned at iteration 10.\n",
            "Trial 13 pruned. Trial was pruned at iteration 10.\n"
          ]
        },
        {
          "output_type": "stream",
          "name": "stderr",
          "text": [
            "/usr/local/lib/python3.9/dist-packages/lightgbm/engine.py:239: UserWarning:\n",
            "\n",
            "'verbose_eval' argument is deprecated and will be removed in a future release of LightGBM. Pass 'log_evaluation()' callback via 'callbacks' argument instead.\n",
            "\n",
            "/usr/local/lib/python3.9/dist-packages/lightgbm/basic.py:1780: UserWarning:\n",
            "\n",
            "Overriding the parameters from Reference Dataset.\n",
            "\n",
            "/usr/local/lib/python3.9/dist-packages/lightgbm/basic.py:1513: UserWarning:\n",
            "\n",
            "categorical_column in param dict is overridden.\n",
            "\n",
            "\u001b[32m[I 2023-03-22 21:26:49,731]\u001b[0m Trial 14 pruned. Trial was pruned at iteration 29.\u001b[0m\n"
          ]
        },
        {
          "output_type": "stream",
          "name": "stdout",
          "text": [
            "Trial 14 pruned. Trial was pruned at iteration 29.\n",
            "Trial 14 pruned. Trial was pruned at iteration 29.\n"
          ]
        },
        {
          "output_type": "stream",
          "name": "stderr",
          "text": [
            "/usr/local/lib/python3.9/dist-packages/lightgbm/engine.py:239: UserWarning:\n",
            "\n",
            "'verbose_eval' argument is deprecated and will be removed in a future release of LightGBM. Pass 'log_evaluation()' callback via 'callbacks' argument instead.\n",
            "\n",
            "/usr/local/lib/python3.9/dist-packages/lightgbm/basic.py:1780: UserWarning:\n",
            "\n",
            "Overriding the parameters from Reference Dataset.\n",
            "\n",
            "/usr/local/lib/python3.9/dist-packages/lightgbm/basic.py:1513: UserWarning:\n",
            "\n",
            "categorical_column in param dict is overridden.\n",
            "\n",
            "\u001b[32m[I 2023-03-22 21:26:50,090]\u001b[0m Trial 15 finished with value: 0.7848926380368099 and parameters: {'bagging_fraction': 0.6426211333304972, 'bagging_freq': 5, 'min_child_samples': 37}. Best is trial 3 with value: 0.7914110429447853.\u001b[0m\n"
          ]
        },
        {
          "output_type": "stream",
          "name": "stdout",
          "text": [
            "Trial 15 finished with value: 0.7848926380368099 and parameters: {'bagging_fraction': 0.6426211333304972, 'bagging_freq': 5, 'min_child_samples': 37}. Best is trial 3 with value: 0.7914110429447853.\n",
            "Trial 15 finished with value: 0.7848926380368099 and parameters: {'bagging_fraction': 0.6426211333304972, 'bagging_freq': 5, 'min_child_samples': 37}. Best is trial 3 with value: 0.7914110429447853.\n"
          ]
        },
        {
          "output_type": "stream",
          "name": "stderr",
          "text": [
            "/usr/local/lib/python3.9/dist-packages/lightgbm/engine.py:239: UserWarning:\n",
            "\n",
            "'verbose_eval' argument is deprecated and will be removed in a future release of LightGBM. Pass 'log_evaluation()' callback via 'callbacks' argument instead.\n",
            "\n",
            "/usr/local/lib/python3.9/dist-packages/lightgbm/basic.py:1780: UserWarning:\n",
            "\n",
            "Overriding the parameters from Reference Dataset.\n",
            "\n",
            "/usr/local/lib/python3.9/dist-packages/lightgbm/basic.py:1513: UserWarning:\n",
            "\n",
            "categorical_column in param dict is overridden.\n",
            "\n",
            "\u001b[32m[I 2023-03-22 21:26:50,161]\u001b[0m Trial 16 pruned. Trial was pruned at iteration 10.\u001b[0m\n"
          ]
        },
        {
          "output_type": "stream",
          "name": "stdout",
          "text": [
            "Trial 16 pruned. Trial was pruned at iteration 10.\n",
            "Trial 16 pruned. Trial was pruned at iteration 10.\n"
          ]
        },
        {
          "output_type": "stream",
          "name": "stderr",
          "text": [
            "/usr/local/lib/python3.9/dist-packages/lightgbm/engine.py:239: UserWarning:\n",
            "\n",
            "'verbose_eval' argument is deprecated and will be removed in a future release of LightGBM. Pass 'log_evaluation()' callback via 'callbacks' argument instead.\n",
            "\n",
            "/usr/local/lib/python3.9/dist-packages/lightgbm/basic.py:1780: UserWarning:\n",
            "\n",
            "Overriding the parameters from Reference Dataset.\n",
            "\n",
            "/usr/local/lib/python3.9/dist-packages/lightgbm/basic.py:1513: UserWarning:\n",
            "\n",
            "categorical_column in param dict is overridden.\n",
            "\n",
            "\u001b[32m[I 2023-03-22 21:26:50,280]\u001b[0m Trial 17 pruned. Trial was pruned at iteration 22.\u001b[0m\n"
          ]
        },
        {
          "output_type": "stream",
          "name": "stdout",
          "text": [
            "Trial 17 pruned. Trial was pruned at iteration 22.\n",
            "Trial 17 pruned. Trial was pruned at iteration 22.\n"
          ]
        },
        {
          "output_type": "stream",
          "name": "stderr",
          "text": [
            "/usr/local/lib/python3.9/dist-packages/lightgbm/engine.py:239: UserWarning:\n",
            "\n",
            "'verbose_eval' argument is deprecated and will be removed in a future release of LightGBM. Pass 'log_evaluation()' callback via 'callbacks' argument instead.\n",
            "\n",
            "/usr/local/lib/python3.9/dist-packages/lightgbm/basic.py:1780: UserWarning:\n",
            "\n",
            "Overriding the parameters from Reference Dataset.\n",
            "\n",
            "/usr/local/lib/python3.9/dist-packages/lightgbm/basic.py:1513: UserWarning:\n",
            "\n",
            "categorical_column in param dict is overridden.\n",
            "\n",
            "\u001b[32m[I 2023-03-22 21:26:50,355]\u001b[0m Trial 18 pruned. Trial was pruned at iteration 10.\u001b[0m\n"
          ]
        },
        {
          "output_type": "stream",
          "name": "stdout",
          "text": [
            "Trial 18 pruned. Trial was pruned at iteration 10.\n",
            "Trial 18 pruned. Trial was pruned at iteration 10.\n"
          ]
        },
        {
          "output_type": "stream",
          "name": "stderr",
          "text": [
            "/usr/local/lib/python3.9/dist-packages/lightgbm/engine.py:239: UserWarning:\n",
            "\n",
            "'verbose_eval' argument is deprecated and will be removed in a future release of LightGBM. Pass 'log_evaluation()' callback via 'callbacks' argument instead.\n",
            "\n",
            "/usr/local/lib/python3.9/dist-packages/lightgbm/basic.py:1780: UserWarning:\n",
            "\n",
            "Overriding the parameters from Reference Dataset.\n",
            "\n",
            "/usr/local/lib/python3.9/dist-packages/lightgbm/basic.py:1513: UserWarning:\n",
            "\n",
            "categorical_column in param dict is overridden.\n",
            "\n",
            "\u001b[32m[I 2023-03-22 21:26:50,749]\u001b[0m Trial 19 finished with value: 0.790260736196319 and parameters: {'bagging_fraction': 0.8592206683214042, 'bagging_freq': 3, 'min_child_samples': 75}. Best is trial 3 with value: 0.7914110429447853.\u001b[0m\n"
          ]
        },
        {
          "output_type": "stream",
          "name": "stdout",
          "text": [
            "Trial 19 finished with value: 0.790260736196319 and parameters: {'bagging_fraction': 0.8592206683214042, 'bagging_freq': 3, 'min_child_samples': 75}. Best is trial 3 with value: 0.7914110429447853.\n",
            "Trial 19 finished with value: 0.790260736196319 and parameters: {'bagging_fraction': 0.8592206683214042, 'bagging_freq': 3, 'min_child_samples': 75}. Best is trial 3 with value: 0.7914110429447853.\n"
          ]
        },
        {
          "output_type": "stream",
          "name": "stderr",
          "text": [
            "/usr/local/lib/python3.9/dist-packages/lightgbm/engine.py:239: UserWarning:\n",
            "\n",
            "'verbose_eval' argument is deprecated and will be removed in a future release of LightGBM. Pass 'log_evaluation()' callback via 'callbacks' argument instead.\n",
            "\n",
            "/usr/local/lib/python3.9/dist-packages/lightgbm/basic.py:1780: UserWarning:\n",
            "\n",
            "Overriding the parameters from Reference Dataset.\n",
            "\n",
            "/usr/local/lib/python3.9/dist-packages/lightgbm/basic.py:1513: UserWarning:\n",
            "\n",
            "categorical_column in param dict is overridden.\n",
            "\n",
            "\u001b[32m[I 2023-03-22 21:26:50,891]\u001b[0m Trial 20 pruned. Trial was pruned at iteration 35.\u001b[0m\n"
          ]
        },
        {
          "output_type": "stream",
          "name": "stdout",
          "text": [
            "Trial 20 pruned. Trial was pruned at iteration 35.\n",
            "Trial 20 pruned. Trial was pruned at iteration 35.\n"
          ]
        },
        {
          "output_type": "stream",
          "name": "stderr",
          "text": [
            "/usr/local/lib/python3.9/dist-packages/lightgbm/engine.py:239: UserWarning:\n",
            "\n",
            "'verbose_eval' argument is deprecated and will be removed in a future release of LightGBM. Pass 'log_evaluation()' callback via 'callbacks' argument instead.\n",
            "\n",
            "/usr/local/lib/python3.9/dist-packages/lightgbm/basic.py:1780: UserWarning:\n",
            "\n",
            "Overriding the parameters from Reference Dataset.\n",
            "\n",
            "/usr/local/lib/python3.9/dist-packages/lightgbm/basic.py:1513: UserWarning:\n",
            "\n",
            "categorical_column in param dict is overridden.\n",
            "\n",
            "\u001b[32m[I 2023-03-22 21:26:51,283]\u001b[0m Trial 21 finished with value: 0.7937116564417178 and parameters: {'bagging_fraction': 0.8627656382198515, 'bagging_freq': 3, 'min_child_samples': 77}. Best is trial 21 with value: 0.7937116564417178.\u001b[0m\n"
          ]
        },
        {
          "output_type": "stream",
          "name": "stdout",
          "text": [
            "Trial 21 finished with value: 0.7937116564417178 and parameters: {'bagging_fraction': 0.8627656382198515, 'bagging_freq': 3, 'min_child_samples': 77}. Best is trial 21 with value: 0.7937116564417178.\n",
            "Trial 21 finished with value: 0.7937116564417178 and parameters: {'bagging_fraction': 0.8627656382198515, 'bagging_freq': 3, 'min_child_samples': 77}. Best is trial 21 with value: 0.7937116564417178.\n"
          ]
        },
        {
          "output_type": "stream",
          "name": "stderr",
          "text": [
            "/usr/local/lib/python3.9/dist-packages/lightgbm/engine.py:239: UserWarning:\n",
            "\n",
            "'verbose_eval' argument is deprecated and will be removed in a future release of LightGBM. Pass 'log_evaluation()' callback via 'callbacks' argument instead.\n",
            "\n",
            "/usr/local/lib/python3.9/dist-packages/lightgbm/basic.py:1780: UserWarning:\n",
            "\n",
            "Overriding the parameters from Reference Dataset.\n",
            "\n",
            "/usr/local/lib/python3.9/dist-packages/lightgbm/basic.py:1513: UserWarning:\n",
            "\n",
            "categorical_column in param dict is overridden.\n",
            "\n",
            "\u001b[32m[I 2023-03-22 21:26:51,360]\u001b[0m Trial 22 pruned. Trial was pruned at iteration 11.\u001b[0m\n"
          ]
        },
        {
          "output_type": "stream",
          "name": "stdout",
          "text": [
            "Trial 22 pruned. Trial was pruned at iteration 11.\n",
            "Trial 22 pruned. Trial was pruned at iteration 11.\n"
          ]
        },
        {
          "output_type": "stream",
          "name": "stderr",
          "text": [
            "/usr/local/lib/python3.9/dist-packages/lightgbm/engine.py:239: UserWarning:\n",
            "\n",
            "'verbose_eval' argument is deprecated and will be removed in a future release of LightGBM. Pass 'log_evaluation()' callback via 'callbacks' argument instead.\n",
            "\n",
            "/usr/local/lib/python3.9/dist-packages/lightgbm/basic.py:1780: UserWarning:\n",
            "\n",
            "Overriding the parameters from Reference Dataset.\n",
            "\n",
            "/usr/local/lib/python3.9/dist-packages/lightgbm/basic.py:1513: UserWarning:\n",
            "\n",
            "categorical_column in param dict is overridden.\n",
            "\n",
            "\u001b[32m[I 2023-03-22 21:26:51,433]\u001b[0m Trial 23 pruned. Trial was pruned at iteration 10.\u001b[0m\n"
          ]
        },
        {
          "output_type": "stream",
          "name": "stdout",
          "text": [
            "Trial 23 pruned. Trial was pruned at iteration 10.\n",
            "Trial 23 pruned. Trial was pruned at iteration 10.\n"
          ]
        },
        {
          "output_type": "stream",
          "name": "stderr",
          "text": [
            "/usr/local/lib/python3.9/dist-packages/lightgbm/engine.py:239: UserWarning:\n",
            "\n",
            "'verbose_eval' argument is deprecated and will be removed in a future release of LightGBM. Pass 'log_evaluation()' callback via 'callbacks' argument instead.\n",
            "\n",
            "/usr/local/lib/python3.9/dist-packages/lightgbm/basic.py:1780: UserWarning:\n",
            "\n",
            "Overriding the parameters from Reference Dataset.\n",
            "\n",
            "/usr/local/lib/python3.9/dist-packages/lightgbm/basic.py:1513: UserWarning:\n",
            "\n",
            "categorical_column in param dict is overridden.\n",
            "\n",
            "\u001b[32m[I 2023-03-22 21:26:51,500]\u001b[0m Trial 24 pruned. Trial was pruned at iteration 10.\u001b[0m\n"
          ]
        },
        {
          "output_type": "stream",
          "name": "stdout",
          "text": [
            "Trial 24 pruned. Trial was pruned at iteration 10.\n",
            "Trial 24 pruned. Trial was pruned at iteration 10.\n"
          ]
        },
        {
          "output_type": "stream",
          "name": "stderr",
          "text": [
            "/usr/local/lib/python3.9/dist-packages/lightgbm/engine.py:239: UserWarning:\n",
            "\n",
            "'verbose_eval' argument is deprecated and will be removed in a future release of LightGBM. Pass 'log_evaluation()' callback via 'callbacks' argument instead.\n",
            "\n",
            "/usr/local/lib/python3.9/dist-packages/lightgbm/basic.py:1780: UserWarning:\n",
            "\n",
            "Overriding the parameters from Reference Dataset.\n",
            "\n",
            "/usr/local/lib/python3.9/dist-packages/lightgbm/basic.py:1513: UserWarning:\n",
            "\n",
            "categorical_column in param dict is overridden.\n",
            "\n",
            "\u001b[32m[I 2023-03-22 21:26:51,571]\u001b[0m Trial 25 pruned. Trial was pruned at iteration 10.\u001b[0m\n"
          ]
        },
        {
          "output_type": "stream",
          "name": "stdout",
          "text": [
            "Trial 25 pruned. Trial was pruned at iteration 10.\n",
            "Trial 25 pruned. Trial was pruned at iteration 10.\n"
          ]
        },
        {
          "output_type": "stream",
          "name": "stderr",
          "text": [
            "/usr/local/lib/python3.9/dist-packages/lightgbm/engine.py:239: UserWarning:\n",
            "\n",
            "'verbose_eval' argument is deprecated and will be removed in a future release of LightGBM. Pass 'log_evaluation()' callback via 'callbacks' argument instead.\n",
            "\n",
            "/usr/local/lib/python3.9/dist-packages/lightgbm/basic.py:1780: UserWarning:\n",
            "\n",
            "Overriding the parameters from Reference Dataset.\n",
            "\n",
            "/usr/local/lib/python3.9/dist-packages/lightgbm/basic.py:1513: UserWarning:\n",
            "\n",
            "categorical_column in param dict is overridden.\n",
            "\n",
            "\u001b[32m[I 2023-03-22 21:26:51,653]\u001b[0m Trial 26 pruned. Trial was pruned at iteration 10.\u001b[0m\n"
          ]
        },
        {
          "output_type": "stream",
          "name": "stdout",
          "text": [
            "Trial 26 pruned. Trial was pruned at iteration 10.\n",
            "Trial 26 pruned. Trial was pruned at iteration 10.\n"
          ]
        },
        {
          "output_type": "stream",
          "name": "stderr",
          "text": [
            "/usr/local/lib/python3.9/dist-packages/lightgbm/engine.py:239: UserWarning:\n",
            "\n",
            "'verbose_eval' argument is deprecated and will be removed in a future release of LightGBM. Pass 'log_evaluation()' callback via 'callbacks' argument instead.\n",
            "\n",
            "/usr/local/lib/python3.9/dist-packages/lightgbm/basic.py:1780: UserWarning:\n",
            "\n",
            "Overriding the parameters from Reference Dataset.\n",
            "\n",
            "/usr/local/lib/python3.9/dist-packages/lightgbm/basic.py:1513: UserWarning:\n",
            "\n",
            "categorical_column in param dict is overridden.\n",
            "\n",
            "\u001b[32m[I 2023-03-22 21:26:51,799]\u001b[0m Trial 27 pruned. Trial was pruned at iteration 33.\u001b[0m\n"
          ]
        },
        {
          "output_type": "stream",
          "name": "stdout",
          "text": [
            "Trial 27 pruned. Trial was pruned at iteration 33.\n",
            "Trial 27 pruned. Trial was pruned at iteration 33.\n"
          ]
        },
        {
          "output_type": "stream",
          "name": "stderr",
          "text": [
            "/usr/local/lib/python3.9/dist-packages/lightgbm/engine.py:239: UserWarning:\n",
            "\n",
            "'verbose_eval' argument is deprecated and will be removed in a future release of LightGBM. Pass 'log_evaluation()' callback via 'callbacks' argument instead.\n",
            "\n",
            "/usr/local/lib/python3.9/dist-packages/lightgbm/basic.py:1780: UserWarning:\n",
            "\n",
            "Overriding the parameters from Reference Dataset.\n",
            "\n",
            "/usr/local/lib/python3.9/dist-packages/lightgbm/basic.py:1513: UserWarning:\n",
            "\n",
            "categorical_column in param dict is overridden.\n",
            "\n",
            "\u001b[32m[I 2023-03-22 21:26:51,872]\u001b[0m Trial 28 pruned. Trial was pruned at iteration 10.\u001b[0m\n"
          ]
        },
        {
          "output_type": "stream",
          "name": "stdout",
          "text": [
            "Trial 28 pruned. Trial was pruned at iteration 10.\n",
            "Trial 28 pruned. Trial was pruned at iteration 10.\n"
          ]
        },
        {
          "output_type": "stream",
          "name": "stderr",
          "text": [
            "/usr/local/lib/python3.9/dist-packages/lightgbm/engine.py:239: UserWarning:\n",
            "\n",
            "'verbose_eval' argument is deprecated and will be removed in a future release of LightGBM. Pass 'log_evaluation()' callback via 'callbacks' argument instead.\n",
            "\n",
            "/usr/local/lib/python3.9/dist-packages/lightgbm/basic.py:1780: UserWarning:\n",
            "\n",
            "Overriding the parameters from Reference Dataset.\n",
            "\n",
            "/usr/local/lib/python3.9/dist-packages/lightgbm/basic.py:1513: UserWarning:\n",
            "\n",
            "categorical_column in param dict is overridden.\n",
            "\n",
            "\u001b[32m[I 2023-03-22 21:26:51,946]\u001b[0m Trial 29 pruned. Trial was pruned at iteration 10.\u001b[0m\n"
          ]
        },
        {
          "output_type": "stream",
          "name": "stdout",
          "text": [
            "Trial 29 pruned. Trial was pruned at iteration 10.\n",
            "Trial 29 pruned. Trial was pruned at iteration 10.\n"
          ]
        },
        {
          "output_type": "stream",
          "name": "stderr",
          "text": [
            "/usr/local/lib/python3.9/dist-packages/lightgbm/engine.py:239: UserWarning:\n",
            "\n",
            "'verbose_eval' argument is deprecated and will be removed in a future release of LightGBM. Pass 'log_evaluation()' callback via 'callbacks' argument instead.\n",
            "\n",
            "/usr/local/lib/python3.9/dist-packages/lightgbm/basic.py:1780: UserWarning:\n",
            "\n",
            "Overriding the parameters from Reference Dataset.\n",
            "\n",
            "/usr/local/lib/python3.9/dist-packages/lightgbm/basic.py:1513: UserWarning:\n",
            "\n",
            "categorical_column in param dict is overridden.\n",
            "\n",
            "\u001b[32m[I 2023-03-22 21:26:52,023]\u001b[0m Trial 30 pruned. Trial was pruned at iteration 11.\u001b[0m\n"
          ]
        },
        {
          "output_type": "stream",
          "name": "stdout",
          "text": [
            "Trial 30 pruned. Trial was pruned at iteration 11.\n",
            "Trial 30 pruned. Trial was pruned at iteration 11.\n"
          ]
        },
        {
          "output_type": "stream",
          "name": "stderr",
          "text": [
            "/usr/local/lib/python3.9/dist-packages/lightgbm/engine.py:239: UserWarning:\n",
            "\n",
            "'verbose_eval' argument is deprecated and will be removed in a future release of LightGBM. Pass 'log_evaluation()' callback via 'callbacks' argument instead.\n",
            "\n",
            "/usr/local/lib/python3.9/dist-packages/lightgbm/basic.py:1780: UserWarning:\n",
            "\n",
            "Overriding the parameters from Reference Dataset.\n",
            "\n",
            "/usr/local/lib/python3.9/dist-packages/lightgbm/basic.py:1513: UserWarning:\n",
            "\n",
            "categorical_column in param dict is overridden.\n",
            "\n",
            "\u001b[32m[I 2023-03-22 21:26:52,112]\u001b[0m Trial 31 pruned. Trial was pruned at iteration 10.\u001b[0m\n"
          ]
        },
        {
          "output_type": "stream",
          "name": "stdout",
          "text": [
            "Trial 31 pruned. Trial was pruned at iteration 10.\n",
            "Trial 31 pruned. Trial was pruned at iteration 10.\n"
          ]
        },
        {
          "output_type": "stream",
          "name": "stderr",
          "text": [
            "/usr/local/lib/python3.9/dist-packages/lightgbm/engine.py:239: UserWarning:\n",
            "\n",
            "'verbose_eval' argument is deprecated and will be removed in a future release of LightGBM. Pass 'log_evaluation()' callback via 'callbacks' argument instead.\n",
            "\n",
            "/usr/local/lib/python3.9/dist-packages/lightgbm/basic.py:1780: UserWarning:\n",
            "\n",
            "Overriding the parameters from Reference Dataset.\n",
            "\n",
            "/usr/local/lib/python3.9/dist-packages/lightgbm/basic.py:1513: UserWarning:\n",
            "\n",
            "categorical_column in param dict is overridden.\n",
            "\n",
            "\u001b[32m[I 2023-03-22 21:26:52,190]\u001b[0m Trial 32 pruned. Trial was pruned at iteration 10.\u001b[0m\n"
          ]
        },
        {
          "output_type": "stream",
          "name": "stdout",
          "text": [
            "Trial 32 pruned. Trial was pruned at iteration 10.\n",
            "Trial 32 pruned. Trial was pruned at iteration 10.\n"
          ]
        },
        {
          "output_type": "stream",
          "name": "stderr",
          "text": [
            "/usr/local/lib/python3.9/dist-packages/lightgbm/engine.py:239: UserWarning:\n",
            "\n",
            "'verbose_eval' argument is deprecated and will be removed in a future release of LightGBM. Pass 'log_evaluation()' callback via 'callbacks' argument instead.\n",
            "\n",
            "/usr/local/lib/python3.9/dist-packages/lightgbm/basic.py:1780: UserWarning:\n",
            "\n",
            "Overriding the parameters from Reference Dataset.\n",
            "\n",
            "/usr/local/lib/python3.9/dist-packages/lightgbm/basic.py:1513: UserWarning:\n",
            "\n",
            "categorical_column in param dict is overridden.\n",
            "\n",
            "\u001b[32m[I 2023-03-22 21:26:52,270]\u001b[0m Trial 33 pruned. Trial was pruned at iteration 12.\u001b[0m\n"
          ]
        },
        {
          "output_type": "stream",
          "name": "stdout",
          "text": [
            "Trial 33 pruned. Trial was pruned at iteration 12.\n",
            "Trial 33 pruned. Trial was pruned at iteration 12.\n"
          ]
        },
        {
          "output_type": "stream",
          "name": "stderr",
          "text": [
            "/usr/local/lib/python3.9/dist-packages/lightgbm/engine.py:239: UserWarning:\n",
            "\n",
            "'verbose_eval' argument is deprecated and will be removed in a future release of LightGBM. Pass 'log_evaluation()' callback via 'callbacks' argument instead.\n",
            "\n",
            "/usr/local/lib/python3.9/dist-packages/lightgbm/basic.py:1780: UserWarning:\n",
            "\n",
            "Overriding the parameters from Reference Dataset.\n",
            "\n",
            "/usr/local/lib/python3.9/dist-packages/lightgbm/basic.py:1513: UserWarning:\n",
            "\n",
            "categorical_column in param dict is overridden.\n",
            "\n",
            "\u001b[32m[I 2023-03-22 21:26:52,349]\u001b[0m Trial 34 pruned. Trial was pruned at iteration 10.\u001b[0m\n"
          ]
        },
        {
          "output_type": "stream",
          "name": "stdout",
          "text": [
            "Trial 34 pruned. Trial was pruned at iteration 10.\n",
            "Trial 34 pruned. Trial was pruned at iteration 10.\n"
          ]
        },
        {
          "output_type": "stream",
          "name": "stderr",
          "text": [
            "/usr/local/lib/python3.9/dist-packages/lightgbm/engine.py:239: UserWarning:\n",
            "\n",
            "'verbose_eval' argument is deprecated and will be removed in a future release of LightGBM. Pass 'log_evaluation()' callback via 'callbacks' argument instead.\n",
            "\n",
            "/usr/local/lib/python3.9/dist-packages/lightgbm/basic.py:1780: UserWarning:\n",
            "\n",
            "Overriding the parameters from Reference Dataset.\n",
            "\n",
            "/usr/local/lib/python3.9/dist-packages/lightgbm/basic.py:1513: UserWarning:\n",
            "\n",
            "categorical_column in param dict is overridden.\n",
            "\n",
            "\u001b[32m[I 2023-03-22 21:26:52,429]\u001b[0m Trial 35 pruned. Trial was pruned at iteration 10.\u001b[0m\n"
          ]
        },
        {
          "output_type": "stream",
          "name": "stdout",
          "text": [
            "Trial 35 pruned. Trial was pruned at iteration 10.\n",
            "Trial 35 pruned. Trial was pruned at iteration 10.\n"
          ]
        },
        {
          "output_type": "stream",
          "name": "stderr",
          "text": [
            "/usr/local/lib/python3.9/dist-packages/lightgbm/engine.py:239: UserWarning:\n",
            "\n",
            "'verbose_eval' argument is deprecated and will be removed in a future release of LightGBM. Pass 'log_evaluation()' callback via 'callbacks' argument instead.\n",
            "\n",
            "/usr/local/lib/python3.9/dist-packages/lightgbm/basic.py:1780: UserWarning:\n",
            "\n",
            "Overriding the parameters from Reference Dataset.\n",
            "\n",
            "/usr/local/lib/python3.9/dist-packages/lightgbm/basic.py:1513: UserWarning:\n",
            "\n",
            "categorical_column in param dict is overridden.\n",
            "\n",
            "\u001b[32m[I 2023-03-22 21:26:52,520]\u001b[0m Trial 36 pruned. Trial was pruned at iteration 10.\u001b[0m\n"
          ]
        },
        {
          "output_type": "stream",
          "name": "stdout",
          "text": [
            "Trial 36 pruned. Trial was pruned at iteration 10.\n",
            "Trial 36 pruned. Trial was pruned at iteration 10.\n"
          ]
        },
        {
          "output_type": "stream",
          "name": "stderr",
          "text": [
            "/usr/local/lib/python3.9/dist-packages/lightgbm/engine.py:239: UserWarning:\n",
            "\n",
            "'verbose_eval' argument is deprecated and will be removed in a future release of LightGBM. Pass 'log_evaluation()' callback via 'callbacks' argument instead.\n",
            "\n",
            "/usr/local/lib/python3.9/dist-packages/lightgbm/basic.py:1780: UserWarning:\n",
            "\n",
            "Overriding the parameters from Reference Dataset.\n",
            "\n",
            "/usr/local/lib/python3.9/dist-packages/lightgbm/basic.py:1513: UserWarning:\n",
            "\n",
            "categorical_column in param dict is overridden.\n",
            "\n",
            "\u001b[32m[I 2023-03-22 21:26:52,611]\u001b[0m Trial 37 pruned. Trial was pruned at iteration 10.\u001b[0m\n"
          ]
        },
        {
          "output_type": "stream",
          "name": "stdout",
          "text": [
            "Trial 37 pruned. Trial was pruned at iteration 10.\n",
            "Trial 37 pruned. Trial was pruned at iteration 10.\n"
          ]
        },
        {
          "output_type": "stream",
          "name": "stderr",
          "text": [
            "/usr/local/lib/python3.9/dist-packages/lightgbm/engine.py:239: UserWarning:\n",
            "\n",
            "'verbose_eval' argument is deprecated and will be removed in a future release of LightGBM. Pass 'log_evaluation()' callback via 'callbacks' argument instead.\n",
            "\n",
            "/usr/local/lib/python3.9/dist-packages/lightgbm/basic.py:1780: UserWarning:\n",
            "\n",
            "Overriding the parameters from Reference Dataset.\n",
            "\n",
            "/usr/local/lib/python3.9/dist-packages/lightgbm/basic.py:1513: UserWarning:\n",
            "\n",
            "categorical_column in param dict is overridden.\n",
            "\n",
            "\u001b[32m[I 2023-03-22 21:26:52,684]\u001b[0m Trial 38 pruned. Trial was pruned at iteration 10.\u001b[0m\n"
          ]
        },
        {
          "output_type": "stream",
          "name": "stdout",
          "text": [
            "Trial 38 pruned. Trial was pruned at iteration 10.\n",
            "Trial 38 pruned. Trial was pruned at iteration 10.\n"
          ]
        },
        {
          "output_type": "stream",
          "name": "stderr",
          "text": [
            "/usr/local/lib/python3.9/dist-packages/lightgbm/engine.py:239: UserWarning:\n",
            "\n",
            "'verbose_eval' argument is deprecated and will be removed in a future release of LightGBM. Pass 'log_evaluation()' callback via 'callbacks' argument instead.\n",
            "\n",
            "/usr/local/lib/python3.9/dist-packages/lightgbm/basic.py:1780: UserWarning:\n",
            "\n",
            "Overriding the parameters from Reference Dataset.\n",
            "\n",
            "/usr/local/lib/python3.9/dist-packages/lightgbm/basic.py:1513: UserWarning:\n",
            "\n",
            "categorical_column in param dict is overridden.\n",
            "\n",
            "\u001b[32m[I 2023-03-22 21:26:52,786]\u001b[0m Trial 39 pruned. Trial was pruned at iteration 17.\u001b[0m\n"
          ]
        },
        {
          "output_type": "stream",
          "name": "stdout",
          "text": [
            "Trial 39 pruned. Trial was pruned at iteration 17.\n",
            "Trial 39 pruned. Trial was pruned at iteration 17.\n"
          ]
        },
        {
          "output_type": "stream",
          "name": "stderr",
          "text": [
            "/usr/local/lib/python3.9/dist-packages/lightgbm/engine.py:239: UserWarning:\n",
            "\n",
            "'verbose_eval' argument is deprecated and will be removed in a future release of LightGBM. Pass 'log_evaluation()' callback via 'callbacks' argument instead.\n",
            "\n",
            "/usr/local/lib/python3.9/dist-packages/lightgbm/basic.py:1780: UserWarning:\n",
            "\n",
            "Overriding the parameters from Reference Dataset.\n",
            "\n",
            "/usr/local/lib/python3.9/dist-packages/lightgbm/basic.py:1513: UserWarning:\n",
            "\n",
            "categorical_column in param dict is overridden.\n",
            "\n",
            "\u001b[32m[I 2023-03-22 21:26:52,923]\u001b[0m Trial 40 pruned. Trial was pruned at iteration 27.\u001b[0m\n"
          ]
        },
        {
          "output_type": "stream",
          "name": "stdout",
          "text": [
            "Trial 40 pruned. Trial was pruned at iteration 27.\n",
            "Trial 40 pruned. Trial was pruned at iteration 27.\n"
          ]
        },
        {
          "output_type": "stream",
          "name": "stderr",
          "text": [
            "/usr/local/lib/python3.9/dist-packages/lightgbm/engine.py:239: UserWarning:\n",
            "\n",
            "'verbose_eval' argument is deprecated and will be removed in a future release of LightGBM. Pass 'log_evaluation()' callback via 'callbacks' argument instead.\n",
            "\n",
            "/usr/local/lib/python3.9/dist-packages/lightgbm/basic.py:1780: UserWarning:\n",
            "\n",
            "Overriding the parameters from Reference Dataset.\n",
            "\n",
            "/usr/local/lib/python3.9/dist-packages/lightgbm/basic.py:1513: UserWarning:\n",
            "\n",
            "categorical_column in param dict is overridden.\n",
            "\n",
            "\u001b[32m[I 2023-03-22 21:26:53,002]\u001b[0m Trial 41 pruned. Trial was pruned at iteration 10.\u001b[0m\n"
          ]
        },
        {
          "output_type": "stream",
          "name": "stdout",
          "text": [
            "Trial 41 pruned. Trial was pruned at iteration 10.\n",
            "Trial 41 pruned. Trial was pruned at iteration 10.\n"
          ]
        },
        {
          "output_type": "stream",
          "name": "stderr",
          "text": [
            "/usr/local/lib/python3.9/dist-packages/lightgbm/engine.py:239: UserWarning:\n",
            "\n",
            "'verbose_eval' argument is deprecated and will be removed in a future release of LightGBM. Pass 'log_evaluation()' callback via 'callbacks' argument instead.\n",
            "\n",
            "/usr/local/lib/python3.9/dist-packages/lightgbm/basic.py:1780: UserWarning:\n",
            "\n",
            "Overriding the parameters from Reference Dataset.\n",
            "\n",
            "/usr/local/lib/python3.9/dist-packages/lightgbm/basic.py:1513: UserWarning:\n",
            "\n",
            "categorical_column in param dict is overridden.\n",
            "\n",
            "\u001b[32m[I 2023-03-22 21:26:53,105]\u001b[0m Trial 42 pruned. Trial was pruned at iteration 11.\u001b[0m\n"
          ]
        },
        {
          "output_type": "stream",
          "name": "stdout",
          "text": [
            "Trial 42 pruned. Trial was pruned at iteration 11.\n",
            "Trial 42 pruned. Trial was pruned at iteration 11.\n"
          ]
        },
        {
          "output_type": "stream",
          "name": "stderr",
          "text": [
            "/usr/local/lib/python3.9/dist-packages/lightgbm/engine.py:239: UserWarning:\n",
            "\n",
            "'verbose_eval' argument is deprecated and will be removed in a future release of LightGBM. Pass 'log_evaluation()' callback via 'callbacks' argument instead.\n",
            "\n",
            "/usr/local/lib/python3.9/dist-packages/lightgbm/basic.py:1780: UserWarning:\n",
            "\n",
            "Overriding the parameters from Reference Dataset.\n",
            "\n",
            "/usr/local/lib/python3.9/dist-packages/lightgbm/basic.py:1513: UserWarning:\n",
            "\n",
            "categorical_column in param dict is overridden.\n",
            "\n",
            "\u001b[32m[I 2023-03-22 21:26:53,194]\u001b[0m Trial 43 pruned. Trial was pruned at iteration 10.\u001b[0m\n"
          ]
        },
        {
          "output_type": "stream",
          "name": "stdout",
          "text": [
            "Trial 43 pruned. Trial was pruned at iteration 10.\n",
            "Trial 43 pruned. Trial was pruned at iteration 10.\n"
          ]
        },
        {
          "output_type": "stream",
          "name": "stderr",
          "text": [
            "/usr/local/lib/python3.9/dist-packages/lightgbm/engine.py:239: UserWarning:\n",
            "\n",
            "'verbose_eval' argument is deprecated and will be removed in a future release of LightGBM. Pass 'log_evaluation()' callback via 'callbacks' argument instead.\n",
            "\n",
            "/usr/local/lib/python3.9/dist-packages/lightgbm/basic.py:1780: UserWarning:\n",
            "\n",
            "Overriding the parameters from Reference Dataset.\n",
            "\n",
            "/usr/local/lib/python3.9/dist-packages/lightgbm/basic.py:1513: UserWarning:\n",
            "\n",
            "categorical_column in param dict is overridden.\n",
            "\n",
            "\u001b[32m[I 2023-03-22 21:26:53,296]\u001b[0m Trial 44 pruned. Trial was pruned at iteration 10.\u001b[0m\n"
          ]
        },
        {
          "output_type": "stream",
          "name": "stdout",
          "text": [
            "Trial 44 pruned. Trial was pruned at iteration 10.\n",
            "Trial 44 pruned. Trial was pruned at iteration 10.\n"
          ]
        },
        {
          "output_type": "stream",
          "name": "stderr",
          "text": [
            "/usr/local/lib/python3.9/dist-packages/lightgbm/engine.py:239: UserWarning:\n",
            "\n",
            "'verbose_eval' argument is deprecated and will be removed in a future release of LightGBM. Pass 'log_evaluation()' callback via 'callbacks' argument instead.\n",
            "\n",
            "/usr/local/lib/python3.9/dist-packages/lightgbm/basic.py:1780: UserWarning:\n",
            "\n",
            "Overriding the parameters from Reference Dataset.\n",
            "\n",
            "/usr/local/lib/python3.9/dist-packages/lightgbm/basic.py:1513: UserWarning:\n",
            "\n",
            "categorical_column in param dict is overridden.\n",
            "\n",
            "\u001b[32m[I 2023-03-22 21:26:53,426]\u001b[0m Trial 45 pruned. Trial was pruned at iteration 12.\u001b[0m\n"
          ]
        },
        {
          "output_type": "stream",
          "name": "stdout",
          "text": [
            "Trial 45 pruned. Trial was pruned at iteration 12.\n",
            "Trial 45 pruned. Trial was pruned at iteration 12.\n"
          ]
        },
        {
          "output_type": "stream",
          "name": "stderr",
          "text": [
            "/usr/local/lib/python3.9/dist-packages/lightgbm/engine.py:239: UserWarning:\n",
            "\n",
            "'verbose_eval' argument is deprecated and will be removed in a future release of LightGBM. Pass 'log_evaluation()' callback via 'callbacks' argument instead.\n",
            "\n",
            "/usr/local/lib/python3.9/dist-packages/lightgbm/basic.py:1780: UserWarning:\n",
            "\n",
            "Overriding the parameters from Reference Dataset.\n",
            "\n",
            "/usr/local/lib/python3.9/dist-packages/lightgbm/basic.py:1513: UserWarning:\n",
            "\n",
            "categorical_column in param dict is overridden.\n",
            "\n",
            "\u001b[32m[I 2023-03-22 21:26:53,538]\u001b[0m Trial 46 pruned. Trial was pruned at iteration 10.\u001b[0m\n"
          ]
        },
        {
          "output_type": "stream",
          "name": "stdout",
          "text": [
            "Trial 46 pruned. Trial was pruned at iteration 10.\n",
            "Trial 46 pruned. Trial was pruned at iteration 10.\n"
          ]
        },
        {
          "output_type": "stream",
          "name": "stderr",
          "text": [
            "/usr/local/lib/python3.9/dist-packages/lightgbm/engine.py:239: UserWarning:\n",
            "\n",
            "'verbose_eval' argument is deprecated and will be removed in a future release of LightGBM. Pass 'log_evaluation()' callback via 'callbacks' argument instead.\n",
            "\n",
            "/usr/local/lib/python3.9/dist-packages/lightgbm/basic.py:1780: UserWarning:\n",
            "\n",
            "Overriding the parameters from Reference Dataset.\n",
            "\n",
            "/usr/local/lib/python3.9/dist-packages/lightgbm/basic.py:1513: UserWarning:\n",
            "\n",
            "categorical_column in param dict is overridden.\n",
            "\n",
            "\u001b[32m[I 2023-03-22 21:26:53,647]\u001b[0m Trial 47 pruned. Trial was pruned at iteration 10.\u001b[0m\n"
          ]
        },
        {
          "output_type": "stream",
          "name": "stdout",
          "text": [
            "Trial 47 pruned. Trial was pruned at iteration 10.\n",
            "Trial 47 pruned. Trial was pruned at iteration 10.\n"
          ]
        },
        {
          "output_type": "stream",
          "name": "stderr",
          "text": [
            "/usr/local/lib/python3.9/dist-packages/lightgbm/engine.py:239: UserWarning:\n",
            "\n",
            "'verbose_eval' argument is deprecated and will be removed in a future release of LightGBM. Pass 'log_evaluation()' callback via 'callbacks' argument instead.\n",
            "\n",
            "/usr/local/lib/python3.9/dist-packages/lightgbm/basic.py:1780: UserWarning:\n",
            "\n",
            "Overriding the parameters from Reference Dataset.\n",
            "\n",
            "/usr/local/lib/python3.9/dist-packages/lightgbm/basic.py:1513: UserWarning:\n",
            "\n",
            "categorical_column in param dict is overridden.\n",
            "\n",
            "\u001b[32m[I 2023-03-22 21:26:53,770]\u001b[0m Trial 48 pruned. Trial was pruned at iteration 17.\u001b[0m\n"
          ]
        },
        {
          "output_type": "stream",
          "name": "stdout",
          "text": [
            "Trial 48 pruned. Trial was pruned at iteration 17.\n",
            "Trial 48 pruned. Trial was pruned at iteration 17.\n"
          ]
        },
        {
          "output_type": "stream",
          "name": "stderr",
          "text": [
            "/usr/local/lib/python3.9/dist-packages/lightgbm/engine.py:239: UserWarning:\n",
            "\n",
            "'verbose_eval' argument is deprecated and will be removed in a future release of LightGBM. Pass 'log_evaluation()' callback via 'callbacks' argument instead.\n",
            "\n",
            "/usr/local/lib/python3.9/dist-packages/lightgbm/basic.py:1780: UserWarning:\n",
            "\n",
            "Overriding the parameters from Reference Dataset.\n",
            "\n",
            "/usr/local/lib/python3.9/dist-packages/lightgbm/basic.py:1513: UserWarning:\n",
            "\n",
            "categorical_column in param dict is overridden.\n",
            "\n",
            "\u001b[32m[I 2023-03-22 21:26:53,883]\u001b[0m Trial 49 pruned. Trial was pruned at iteration 10.\u001b[0m\n"
          ]
        },
        {
          "output_type": "stream",
          "name": "stdout",
          "text": [
            "Trial 49 pruned. Trial was pruned at iteration 10.\n",
            "Trial 49 pruned. Trial was pruned at iteration 10.\n"
          ]
        },
        {
          "output_type": "stream",
          "name": "stderr",
          "text": [
            "/usr/local/lib/python3.9/dist-packages/lightgbm/engine.py:239: UserWarning:\n",
            "\n",
            "'verbose_eval' argument is deprecated and will be removed in a future release of LightGBM. Pass 'log_evaluation()' callback via 'callbacks' argument instead.\n",
            "\n",
            "/usr/local/lib/python3.9/dist-packages/lightgbm/basic.py:1780: UserWarning:\n",
            "\n",
            "Overriding the parameters from Reference Dataset.\n",
            "\n",
            "/usr/local/lib/python3.9/dist-packages/lightgbm/basic.py:1513: UserWarning:\n",
            "\n",
            "categorical_column in param dict is overridden.\n",
            "\n",
            "\u001b[32m[I 2023-03-22 21:26:54,050]\u001b[0m Trial 50 pruned. Trial was pruned at iteration 25.\u001b[0m\n"
          ]
        },
        {
          "output_type": "stream",
          "name": "stdout",
          "text": [
            "Trial 50 pruned. Trial was pruned at iteration 25.\n",
            "Trial 50 pruned. Trial was pruned at iteration 25.\n"
          ]
        },
        {
          "output_type": "stream",
          "name": "stderr",
          "text": [
            "/usr/local/lib/python3.9/dist-packages/lightgbm/engine.py:239: UserWarning:\n",
            "\n",
            "'verbose_eval' argument is deprecated and will be removed in a future release of LightGBM. Pass 'log_evaluation()' callback via 'callbacks' argument instead.\n",
            "\n",
            "/usr/local/lib/python3.9/dist-packages/lightgbm/basic.py:1780: UserWarning:\n",
            "\n",
            "Overriding the parameters from Reference Dataset.\n",
            "\n",
            "/usr/local/lib/python3.9/dist-packages/lightgbm/basic.py:1513: UserWarning:\n",
            "\n",
            "categorical_column in param dict is overridden.\n",
            "\n",
            "\u001b[32m[I 2023-03-22 21:26:54,592]\u001b[0m Trial 51 finished with value: 0.7868098159509203 and parameters: {'bagging_fraction': 0.8432643614951875, 'bagging_freq': 5, 'min_child_samples': 49}. Best is trial 21 with value: 0.7937116564417178.\u001b[0m\n"
          ]
        },
        {
          "output_type": "stream",
          "name": "stdout",
          "text": [
            "Trial 51 finished with value: 0.7868098159509203 and parameters: {'bagging_fraction': 0.8432643614951875, 'bagging_freq': 5, 'min_child_samples': 49}. Best is trial 21 with value: 0.7937116564417178.\n",
            "Trial 51 finished with value: 0.7868098159509203 and parameters: {'bagging_fraction': 0.8432643614951875, 'bagging_freq': 5, 'min_child_samples': 49}. Best is trial 21 with value: 0.7937116564417178.\n"
          ]
        },
        {
          "output_type": "stream",
          "name": "stderr",
          "text": [
            "/usr/local/lib/python3.9/dist-packages/lightgbm/engine.py:239: UserWarning:\n",
            "\n",
            "'verbose_eval' argument is deprecated and will be removed in a future release of LightGBM. Pass 'log_evaluation()' callback via 'callbacks' argument instead.\n",
            "\n",
            "/usr/local/lib/python3.9/dist-packages/lightgbm/basic.py:1780: UserWarning:\n",
            "\n",
            "Overriding the parameters from Reference Dataset.\n",
            "\n",
            "/usr/local/lib/python3.9/dist-packages/lightgbm/basic.py:1513: UserWarning:\n",
            "\n",
            "categorical_column in param dict is overridden.\n",
            "\n",
            "\u001b[32m[I 2023-03-22 21:26:54,701]\u001b[0m Trial 52 pruned. Trial was pruned at iteration 10.\u001b[0m\n"
          ]
        },
        {
          "output_type": "stream",
          "name": "stdout",
          "text": [
            "Trial 52 pruned. Trial was pruned at iteration 10.\n",
            "Trial 52 pruned. Trial was pruned at iteration 10.\n"
          ]
        },
        {
          "output_type": "stream",
          "name": "stderr",
          "text": [
            "/usr/local/lib/python3.9/dist-packages/lightgbm/engine.py:239: UserWarning:\n",
            "\n",
            "'verbose_eval' argument is deprecated and will be removed in a future release of LightGBM. Pass 'log_evaluation()' callback via 'callbacks' argument instead.\n",
            "\n",
            "/usr/local/lib/python3.9/dist-packages/lightgbm/basic.py:1780: UserWarning:\n",
            "\n",
            "Overriding the parameters from Reference Dataset.\n",
            "\n",
            "/usr/local/lib/python3.9/dist-packages/lightgbm/basic.py:1513: UserWarning:\n",
            "\n",
            "categorical_column in param dict is overridden.\n",
            "\n",
            "\u001b[32m[I 2023-03-22 21:26:54,812]\u001b[0m Trial 53 pruned. Trial was pruned at iteration 11.\u001b[0m\n"
          ]
        },
        {
          "output_type": "stream",
          "name": "stdout",
          "text": [
            "Trial 53 pruned. Trial was pruned at iteration 11.\n",
            "Trial 53 pruned. Trial was pruned at iteration 11.\n"
          ]
        },
        {
          "output_type": "stream",
          "name": "stderr",
          "text": [
            "/usr/local/lib/python3.9/dist-packages/lightgbm/engine.py:239: UserWarning:\n",
            "\n",
            "'verbose_eval' argument is deprecated and will be removed in a future release of LightGBM. Pass 'log_evaluation()' callback via 'callbacks' argument instead.\n",
            "\n",
            "/usr/local/lib/python3.9/dist-packages/lightgbm/basic.py:1780: UserWarning:\n",
            "\n",
            "Overriding the parameters from Reference Dataset.\n",
            "\n",
            "/usr/local/lib/python3.9/dist-packages/lightgbm/basic.py:1513: UserWarning:\n",
            "\n",
            "categorical_column in param dict is overridden.\n",
            "\n",
            "\u001b[32m[I 2023-03-22 21:26:54,920]\u001b[0m Trial 54 pruned. Trial was pruned at iteration 10.\u001b[0m\n"
          ]
        },
        {
          "output_type": "stream",
          "name": "stdout",
          "text": [
            "Trial 54 pruned. Trial was pruned at iteration 10.\n",
            "Trial 54 pruned. Trial was pruned at iteration 10.\n"
          ]
        },
        {
          "output_type": "stream",
          "name": "stderr",
          "text": [
            "/usr/local/lib/python3.9/dist-packages/lightgbm/engine.py:239: UserWarning:\n",
            "\n",
            "'verbose_eval' argument is deprecated and will be removed in a future release of LightGBM. Pass 'log_evaluation()' callback via 'callbacks' argument instead.\n",
            "\n",
            "/usr/local/lib/python3.9/dist-packages/lightgbm/basic.py:1780: UserWarning:\n",
            "\n",
            "Overriding the parameters from Reference Dataset.\n",
            "\n",
            "/usr/local/lib/python3.9/dist-packages/lightgbm/basic.py:1513: UserWarning:\n",
            "\n",
            "categorical_column in param dict is overridden.\n",
            "\n",
            "\u001b[32m[I 2023-03-22 21:26:55,026]\u001b[0m Trial 55 pruned. Trial was pruned at iteration 10.\u001b[0m\n"
          ]
        },
        {
          "output_type": "stream",
          "name": "stdout",
          "text": [
            "Trial 55 pruned. Trial was pruned at iteration 10.\n",
            "Trial 55 pruned. Trial was pruned at iteration 10.\n"
          ]
        },
        {
          "output_type": "stream",
          "name": "stderr",
          "text": [
            "/usr/local/lib/python3.9/dist-packages/lightgbm/engine.py:239: UserWarning:\n",
            "\n",
            "'verbose_eval' argument is deprecated and will be removed in a future release of LightGBM. Pass 'log_evaluation()' callback via 'callbacks' argument instead.\n",
            "\n",
            "/usr/local/lib/python3.9/dist-packages/lightgbm/basic.py:1780: UserWarning:\n",
            "\n",
            "Overriding the parameters from Reference Dataset.\n",
            "\n",
            "/usr/local/lib/python3.9/dist-packages/lightgbm/basic.py:1513: UserWarning:\n",
            "\n",
            "categorical_column in param dict is overridden.\n",
            "\n",
            "\u001b[32m[I 2023-03-22 21:26:55,139]\u001b[0m Trial 56 pruned. Trial was pruned at iteration 10.\u001b[0m\n"
          ]
        },
        {
          "output_type": "stream",
          "name": "stdout",
          "text": [
            "Trial 56 pruned. Trial was pruned at iteration 10.\n",
            "Trial 56 pruned. Trial was pruned at iteration 10.\n"
          ]
        },
        {
          "output_type": "stream",
          "name": "stderr",
          "text": [
            "/usr/local/lib/python3.9/dist-packages/lightgbm/engine.py:239: UserWarning:\n",
            "\n",
            "'verbose_eval' argument is deprecated and will be removed in a future release of LightGBM. Pass 'log_evaluation()' callback via 'callbacks' argument instead.\n",
            "\n",
            "/usr/local/lib/python3.9/dist-packages/lightgbm/basic.py:1780: UserWarning:\n",
            "\n",
            "Overriding the parameters from Reference Dataset.\n",
            "\n",
            "/usr/local/lib/python3.9/dist-packages/lightgbm/basic.py:1513: UserWarning:\n",
            "\n",
            "categorical_column in param dict is overridden.\n",
            "\n",
            "\u001b[32m[I 2023-03-22 21:26:55,252]\u001b[0m Trial 57 pruned. Trial was pruned at iteration 10.\u001b[0m\n"
          ]
        },
        {
          "output_type": "stream",
          "name": "stdout",
          "text": [
            "Trial 57 pruned. Trial was pruned at iteration 10.\n",
            "Trial 57 pruned. Trial was pruned at iteration 10.\n"
          ]
        },
        {
          "output_type": "stream",
          "name": "stderr",
          "text": [
            "/usr/local/lib/python3.9/dist-packages/lightgbm/engine.py:239: UserWarning:\n",
            "\n",
            "'verbose_eval' argument is deprecated and will be removed in a future release of LightGBM. Pass 'log_evaluation()' callback via 'callbacks' argument instead.\n",
            "\n",
            "/usr/local/lib/python3.9/dist-packages/lightgbm/basic.py:1780: UserWarning:\n",
            "\n",
            "Overriding the parameters from Reference Dataset.\n",
            "\n",
            "/usr/local/lib/python3.9/dist-packages/lightgbm/basic.py:1513: UserWarning:\n",
            "\n",
            "categorical_column in param dict is overridden.\n",
            "\n",
            "\u001b[32m[I 2023-03-22 21:26:55,356]\u001b[0m Trial 58 pruned. Trial was pruned at iteration 10.\u001b[0m\n"
          ]
        },
        {
          "output_type": "stream",
          "name": "stdout",
          "text": [
            "Trial 58 pruned. Trial was pruned at iteration 10.\n",
            "Trial 58 pruned. Trial was pruned at iteration 10.\n"
          ]
        },
        {
          "output_type": "stream",
          "name": "stderr",
          "text": [
            "/usr/local/lib/python3.9/dist-packages/lightgbm/engine.py:239: UserWarning:\n",
            "\n",
            "'verbose_eval' argument is deprecated and will be removed in a future release of LightGBM. Pass 'log_evaluation()' callback via 'callbacks' argument instead.\n",
            "\n",
            "/usr/local/lib/python3.9/dist-packages/lightgbm/basic.py:1780: UserWarning:\n",
            "\n",
            "Overriding the parameters from Reference Dataset.\n",
            "\n",
            "/usr/local/lib/python3.9/dist-packages/lightgbm/basic.py:1513: UserWarning:\n",
            "\n",
            "categorical_column in param dict is overridden.\n",
            "\n",
            "\u001b[32m[I 2023-03-22 21:26:55,467]\u001b[0m Trial 59 pruned. Trial was pruned at iteration 10.\u001b[0m\n"
          ]
        },
        {
          "output_type": "stream",
          "name": "stdout",
          "text": [
            "Trial 59 pruned. Trial was pruned at iteration 10.\n",
            "Trial 59 pruned. Trial was pruned at iteration 10.\n"
          ]
        },
        {
          "output_type": "stream",
          "name": "stderr",
          "text": [
            "/usr/local/lib/python3.9/dist-packages/lightgbm/engine.py:239: UserWarning:\n",
            "\n",
            "'verbose_eval' argument is deprecated and will be removed in a future release of LightGBM. Pass 'log_evaluation()' callback via 'callbacks' argument instead.\n",
            "\n",
            "/usr/local/lib/python3.9/dist-packages/lightgbm/basic.py:1780: UserWarning:\n",
            "\n",
            "Overriding the parameters from Reference Dataset.\n",
            "\n",
            "/usr/local/lib/python3.9/dist-packages/lightgbm/basic.py:1513: UserWarning:\n",
            "\n",
            "categorical_column in param dict is overridden.\n",
            "\n",
            "\u001b[32m[I 2023-03-22 21:26:55,584]\u001b[0m Trial 60 pruned. Trial was pruned at iteration 11.\u001b[0m\n"
          ]
        },
        {
          "output_type": "stream",
          "name": "stdout",
          "text": [
            "Trial 60 pruned. Trial was pruned at iteration 11.\n",
            "Trial 60 pruned. Trial was pruned at iteration 11.\n"
          ]
        },
        {
          "output_type": "stream",
          "name": "stderr",
          "text": [
            "/usr/local/lib/python3.9/dist-packages/lightgbm/engine.py:239: UserWarning:\n",
            "\n",
            "'verbose_eval' argument is deprecated and will be removed in a future release of LightGBM. Pass 'log_evaluation()' callback via 'callbacks' argument instead.\n",
            "\n",
            "/usr/local/lib/python3.9/dist-packages/lightgbm/basic.py:1780: UserWarning:\n",
            "\n",
            "Overriding the parameters from Reference Dataset.\n",
            "\n",
            "/usr/local/lib/python3.9/dist-packages/lightgbm/basic.py:1513: UserWarning:\n",
            "\n",
            "categorical_column in param dict is overridden.\n",
            "\n",
            "\u001b[32m[I 2023-03-22 21:26:55,730]\u001b[0m Trial 61 pruned. Trial was pruned at iteration 17.\u001b[0m\n"
          ]
        },
        {
          "output_type": "stream",
          "name": "stdout",
          "text": [
            "Trial 61 pruned. Trial was pruned at iteration 17.\n",
            "Trial 61 pruned. Trial was pruned at iteration 17.\n"
          ]
        },
        {
          "output_type": "stream",
          "name": "stderr",
          "text": [
            "/usr/local/lib/python3.9/dist-packages/lightgbm/engine.py:239: UserWarning:\n",
            "\n",
            "'verbose_eval' argument is deprecated and will be removed in a future release of LightGBM. Pass 'log_evaluation()' callback via 'callbacks' argument instead.\n",
            "\n",
            "/usr/local/lib/python3.9/dist-packages/lightgbm/basic.py:1780: UserWarning:\n",
            "\n",
            "Overriding the parameters from Reference Dataset.\n",
            "\n",
            "/usr/local/lib/python3.9/dist-packages/lightgbm/basic.py:1513: UserWarning:\n",
            "\n",
            "categorical_column in param dict is overridden.\n",
            "\n",
            "\u001b[32m[I 2023-03-22 21:26:55,856]\u001b[0m Trial 62 pruned. Trial was pruned at iteration 12.\u001b[0m\n"
          ]
        },
        {
          "output_type": "stream",
          "name": "stdout",
          "text": [
            "Trial 62 pruned. Trial was pruned at iteration 12.\n",
            "Trial 62 pruned. Trial was pruned at iteration 12.\n"
          ]
        },
        {
          "output_type": "stream",
          "name": "stderr",
          "text": [
            "/usr/local/lib/python3.9/dist-packages/lightgbm/engine.py:239: UserWarning:\n",
            "\n",
            "'verbose_eval' argument is deprecated and will be removed in a future release of LightGBM. Pass 'log_evaluation()' callback via 'callbacks' argument instead.\n",
            "\n",
            "/usr/local/lib/python3.9/dist-packages/lightgbm/basic.py:1780: UserWarning:\n",
            "\n",
            "Overriding the parameters from Reference Dataset.\n",
            "\n",
            "/usr/local/lib/python3.9/dist-packages/lightgbm/basic.py:1513: UserWarning:\n",
            "\n",
            "categorical_column in param dict is overridden.\n",
            "\n",
            "\u001b[32m[I 2023-03-22 21:26:56,050]\u001b[0m Trial 63 pruned. Trial was pruned at iteration 27.\u001b[0m\n"
          ]
        },
        {
          "output_type": "stream",
          "name": "stdout",
          "text": [
            "Trial 63 pruned. Trial was pruned at iteration 27.\n",
            "Trial 63 pruned. Trial was pruned at iteration 27.\n"
          ]
        },
        {
          "output_type": "stream",
          "name": "stderr",
          "text": [
            "/usr/local/lib/python3.9/dist-packages/lightgbm/engine.py:239: UserWarning:\n",
            "\n",
            "'verbose_eval' argument is deprecated and will be removed in a future release of LightGBM. Pass 'log_evaluation()' callback via 'callbacks' argument instead.\n",
            "\n",
            "/usr/local/lib/python3.9/dist-packages/lightgbm/basic.py:1780: UserWarning:\n",
            "\n",
            "Overriding the parameters from Reference Dataset.\n",
            "\n",
            "/usr/local/lib/python3.9/dist-packages/lightgbm/basic.py:1513: UserWarning:\n",
            "\n",
            "categorical_column in param dict is overridden.\n",
            "\n",
            "\u001b[32m[I 2023-03-22 21:26:56,248]\u001b[0m Trial 64 pruned. Trial was pruned at iteration 29.\u001b[0m\n"
          ]
        },
        {
          "output_type": "stream",
          "name": "stdout",
          "text": [
            "Trial 64 pruned. Trial was pruned at iteration 29.\n",
            "Trial 64 pruned. Trial was pruned at iteration 29.\n"
          ]
        },
        {
          "output_type": "stream",
          "name": "stderr",
          "text": [
            "/usr/local/lib/python3.9/dist-packages/lightgbm/engine.py:239: UserWarning:\n",
            "\n",
            "'verbose_eval' argument is deprecated and will be removed in a future release of LightGBM. Pass 'log_evaluation()' callback via 'callbacks' argument instead.\n",
            "\n",
            "/usr/local/lib/python3.9/dist-packages/lightgbm/basic.py:1780: UserWarning:\n",
            "\n",
            "Overriding the parameters from Reference Dataset.\n",
            "\n",
            "/usr/local/lib/python3.9/dist-packages/lightgbm/basic.py:1513: UserWarning:\n",
            "\n",
            "categorical_column in param dict is overridden.\n",
            "\n",
            "\u001b[32m[I 2023-03-22 21:26:56,392]\u001b[0m Trial 65 pruned. Trial was pruned at iteration 17.\u001b[0m\n"
          ]
        },
        {
          "output_type": "stream",
          "name": "stdout",
          "text": [
            "Trial 65 pruned. Trial was pruned at iteration 17.\n",
            "Trial 65 pruned. Trial was pruned at iteration 17.\n"
          ]
        },
        {
          "output_type": "stream",
          "name": "stderr",
          "text": [
            "/usr/local/lib/python3.9/dist-packages/lightgbm/engine.py:239: UserWarning:\n",
            "\n",
            "'verbose_eval' argument is deprecated and will be removed in a future release of LightGBM. Pass 'log_evaluation()' callback via 'callbacks' argument instead.\n",
            "\n",
            "/usr/local/lib/python3.9/dist-packages/lightgbm/basic.py:1780: UserWarning:\n",
            "\n",
            "Overriding the parameters from Reference Dataset.\n",
            "\n",
            "/usr/local/lib/python3.9/dist-packages/lightgbm/basic.py:1513: UserWarning:\n",
            "\n",
            "categorical_column in param dict is overridden.\n",
            "\n",
            "\u001b[32m[I 2023-03-22 21:26:56,508]\u001b[0m Trial 66 pruned. Trial was pruned at iteration 10.\u001b[0m\n"
          ]
        },
        {
          "output_type": "stream",
          "name": "stdout",
          "text": [
            "Trial 66 pruned. Trial was pruned at iteration 10.\n",
            "Trial 66 pruned. Trial was pruned at iteration 10.\n"
          ]
        },
        {
          "output_type": "stream",
          "name": "stderr",
          "text": [
            "/usr/local/lib/python3.9/dist-packages/lightgbm/engine.py:239: UserWarning:\n",
            "\n",
            "'verbose_eval' argument is deprecated and will be removed in a future release of LightGBM. Pass 'log_evaluation()' callback via 'callbacks' argument instead.\n",
            "\n",
            "/usr/local/lib/python3.9/dist-packages/lightgbm/basic.py:1780: UserWarning:\n",
            "\n",
            "Overriding the parameters from Reference Dataset.\n",
            "\n",
            "/usr/local/lib/python3.9/dist-packages/lightgbm/basic.py:1513: UserWarning:\n",
            "\n",
            "categorical_column in param dict is overridden.\n",
            "\n",
            "\u001b[32m[I 2023-03-22 21:26:56,610]\u001b[0m Trial 67 pruned. Trial was pruned at iteration 10.\u001b[0m\n"
          ]
        },
        {
          "output_type": "stream",
          "name": "stdout",
          "text": [
            "Trial 67 pruned. Trial was pruned at iteration 10.\n",
            "Trial 67 pruned. Trial was pruned at iteration 10.\n"
          ]
        },
        {
          "output_type": "stream",
          "name": "stderr",
          "text": [
            "/usr/local/lib/python3.9/dist-packages/lightgbm/engine.py:239: UserWarning:\n",
            "\n",
            "'verbose_eval' argument is deprecated and will be removed in a future release of LightGBM. Pass 'log_evaluation()' callback via 'callbacks' argument instead.\n",
            "\n",
            "/usr/local/lib/python3.9/dist-packages/lightgbm/basic.py:1780: UserWarning:\n",
            "\n",
            "Overriding the parameters from Reference Dataset.\n",
            "\n",
            "/usr/local/lib/python3.9/dist-packages/lightgbm/basic.py:1513: UserWarning:\n",
            "\n",
            "categorical_column in param dict is overridden.\n",
            "\n",
            "\u001b[32m[I 2023-03-22 21:26:56,716]\u001b[0m Trial 68 pruned. Trial was pruned at iteration 10.\u001b[0m\n"
          ]
        },
        {
          "output_type": "stream",
          "name": "stdout",
          "text": [
            "Trial 68 pruned. Trial was pruned at iteration 10.\n",
            "Trial 68 pruned. Trial was pruned at iteration 10.\n"
          ]
        },
        {
          "output_type": "stream",
          "name": "stderr",
          "text": [
            "/usr/local/lib/python3.9/dist-packages/lightgbm/engine.py:239: UserWarning:\n",
            "\n",
            "'verbose_eval' argument is deprecated and will be removed in a future release of LightGBM. Pass 'log_evaluation()' callback via 'callbacks' argument instead.\n",
            "\n",
            "/usr/local/lib/python3.9/dist-packages/lightgbm/basic.py:1780: UserWarning:\n",
            "\n",
            "Overriding the parameters from Reference Dataset.\n",
            "\n",
            "/usr/local/lib/python3.9/dist-packages/lightgbm/basic.py:1513: UserWarning:\n",
            "\n",
            "categorical_column in param dict is overridden.\n",
            "\n",
            "\u001b[32m[I 2023-03-22 21:26:56,826]\u001b[0m Trial 69 pruned. Trial was pruned at iteration 10.\u001b[0m\n"
          ]
        },
        {
          "output_type": "stream",
          "name": "stdout",
          "text": [
            "Trial 69 pruned. Trial was pruned at iteration 10.\n",
            "Trial 69 pruned. Trial was pruned at iteration 10.\n"
          ]
        },
        {
          "output_type": "stream",
          "name": "stderr",
          "text": [
            "/usr/local/lib/python3.9/dist-packages/lightgbm/engine.py:239: UserWarning:\n",
            "\n",
            "'verbose_eval' argument is deprecated and will be removed in a future release of LightGBM. Pass 'log_evaluation()' callback via 'callbacks' argument instead.\n",
            "\n",
            "/usr/local/lib/python3.9/dist-packages/lightgbm/basic.py:1780: UserWarning:\n",
            "\n",
            "Overriding the parameters from Reference Dataset.\n",
            "\n",
            "/usr/local/lib/python3.9/dist-packages/lightgbm/basic.py:1513: UserWarning:\n",
            "\n",
            "categorical_column in param dict is overridden.\n",
            "\n",
            "\u001b[32m[I 2023-03-22 21:26:56,937]\u001b[0m Trial 70 pruned. Trial was pruned at iteration 10.\u001b[0m\n"
          ]
        },
        {
          "output_type": "stream",
          "name": "stdout",
          "text": [
            "Trial 70 pruned. Trial was pruned at iteration 10.\n",
            "Trial 70 pruned. Trial was pruned at iteration 10.\n"
          ]
        },
        {
          "output_type": "stream",
          "name": "stderr",
          "text": [
            "/usr/local/lib/python3.9/dist-packages/lightgbm/engine.py:239: UserWarning:\n",
            "\n",
            "'verbose_eval' argument is deprecated and will be removed in a future release of LightGBM. Pass 'log_evaluation()' callback via 'callbacks' argument instead.\n",
            "\n",
            "/usr/local/lib/python3.9/dist-packages/lightgbm/basic.py:1780: UserWarning:\n",
            "\n",
            "Overriding the parameters from Reference Dataset.\n",
            "\n",
            "/usr/local/lib/python3.9/dist-packages/lightgbm/basic.py:1513: UserWarning:\n",
            "\n",
            "categorical_column in param dict is overridden.\n",
            "\n",
            "\u001b[32m[I 2023-03-22 21:26:57,048]\u001b[0m Trial 71 pruned. Trial was pruned at iteration 10.\u001b[0m\n"
          ]
        },
        {
          "output_type": "stream",
          "name": "stdout",
          "text": [
            "Trial 71 pruned. Trial was pruned at iteration 10.\n",
            "Trial 71 pruned. Trial was pruned at iteration 10.\n"
          ]
        },
        {
          "output_type": "stream",
          "name": "stderr",
          "text": [
            "/usr/local/lib/python3.9/dist-packages/lightgbm/engine.py:239: UserWarning:\n",
            "\n",
            "'verbose_eval' argument is deprecated and will be removed in a future release of LightGBM. Pass 'log_evaluation()' callback via 'callbacks' argument instead.\n",
            "\n",
            "/usr/local/lib/python3.9/dist-packages/lightgbm/basic.py:1780: UserWarning:\n",
            "\n",
            "Overriding the parameters from Reference Dataset.\n",
            "\n",
            "/usr/local/lib/python3.9/dist-packages/lightgbm/basic.py:1513: UserWarning:\n",
            "\n",
            "categorical_column in param dict is overridden.\n",
            "\n",
            "\u001b[32m[I 2023-03-22 21:26:57,592]\u001b[0m Trial 72 finished with value: 0.7898773006134969 and parameters: {'bagging_fraction': 0.8429900415696753, 'bagging_freq': 5, 'min_child_samples': 51}. Best is trial 21 with value: 0.7937116564417178.\u001b[0m\n"
          ]
        },
        {
          "output_type": "stream",
          "name": "stdout",
          "text": [
            "Trial 72 finished with value: 0.7898773006134969 and parameters: {'bagging_fraction': 0.8429900415696753, 'bagging_freq': 5, 'min_child_samples': 51}. Best is trial 21 with value: 0.7937116564417178.\n",
            "Trial 72 finished with value: 0.7898773006134969 and parameters: {'bagging_fraction': 0.8429900415696753, 'bagging_freq': 5, 'min_child_samples': 51}. Best is trial 21 with value: 0.7937116564417178.\n"
          ]
        },
        {
          "output_type": "stream",
          "name": "stderr",
          "text": [
            "/usr/local/lib/python3.9/dist-packages/lightgbm/engine.py:239: UserWarning:\n",
            "\n",
            "'verbose_eval' argument is deprecated and will be removed in a future release of LightGBM. Pass 'log_evaluation()' callback via 'callbacks' argument instead.\n",
            "\n",
            "/usr/local/lib/python3.9/dist-packages/lightgbm/basic.py:1780: UserWarning:\n",
            "\n",
            "Overriding the parameters from Reference Dataset.\n",
            "\n",
            "/usr/local/lib/python3.9/dist-packages/lightgbm/basic.py:1513: UserWarning:\n",
            "\n",
            "categorical_column in param dict is overridden.\n",
            "\n",
            "\u001b[32m[I 2023-03-22 21:26:57,707]\u001b[0m Trial 73 pruned. Trial was pruned at iteration 10.\u001b[0m\n"
          ]
        },
        {
          "output_type": "stream",
          "name": "stdout",
          "text": [
            "Trial 73 pruned. Trial was pruned at iteration 10.\n",
            "Trial 73 pruned. Trial was pruned at iteration 10.\n"
          ]
        },
        {
          "output_type": "stream",
          "name": "stderr",
          "text": [
            "/usr/local/lib/python3.9/dist-packages/lightgbm/engine.py:239: UserWarning:\n",
            "\n",
            "'verbose_eval' argument is deprecated and will be removed in a future release of LightGBM. Pass 'log_evaluation()' callback via 'callbacks' argument instead.\n",
            "\n",
            "/usr/local/lib/python3.9/dist-packages/lightgbm/basic.py:1780: UserWarning:\n",
            "\n",
            "Overriding the parameters from Reference Dataset.\n",
            "\n",
            "/usr/local/lib/python3.9/dist-packages/lightgbm/basic.py:1513: UserWarning:\n",
            "\n",
            "categorical_column in param dict is overridden.\n",
            "\n",
            "\u001b[32m[I 2023-03-22 21:26:57,793]\u001b[0m Trial 74 pruned. Trial was pruned at iteration 10.\u001b[0m\n"
          ]
        },
        {
          "output_type": "stream",
          "name": "stdout",
          "text": [
            "Trial 74 pruned. Trial was pruned at iteration 10.\n",
            "Trial 74 pruned. Trial was pruned at iteration 10.\n"
          ]
        },
        {
          "output_type": "stream",
          "name": "stderr",
          "text": [
            "/usr/local/lib/python3.9/dist-packages/lightgbm/engine.py:239: UserWarning:\n",
            "\n",
            "'verbose_eval' argument is deprecated and will be removed in a future release of LightGBM. Pass 'log_evaluation()' callback via 'callbacks' argument instead.\n",
            "\n",
            "/usr/local/lib/python3.9/dist-packages/lightgbm/basic.py:1780: UserWarning:\n",
            "\n",
            "Overriding the parameters from Reference Dataset.\n",
            "\n",
            "/usr/local/lib/python3.9/dist-packages/lightgbm/basic.py:1513: UserWarning:\n",
            "\n",
            "categorical_column in param dict is overridden.\n",
            "\n",
            "\u001b[32m[I 2023-03-22 21:26:57,878]\u001b[0m Trial 75 pruned. Trial was pruned at iteration 12.\u001b[0m\n"
          ]
        },
        {
          "output_type": "stream",
          "name": "stdout",
          "text": [
            "Trial 75 pruned. Trial was pruned at iteration 12.\n",
            "Trial 75 pruned. Trial was pruned at iteration 12.\n"
          ]
        },
        {
          "output_type": "stream",
          "name": "stderr",
          "text": [
            "/usr/local/lib/python3.9/dist-packages/lightgbm/engine.py:239: UserWarning:\n",
            "\n",
            "'verbose_eval' argument is deprecated and will be removed in a future release of LightGBM. Pass 'log_evaluation()' callback via 'callbacks' argument instead.\n",
            "\n",
            "/usr/local/lib/python3.9/dist-packages/lightgbm/basic.py:1780: UserWarning:\n",
            "\n",
            "Overriding the parameters from Reference Dataset.\n",
            "\n",
            "/usr/local/lib/python3.9/dist-packages/lightgbm/basic.py:1513: UserWarning:\n",
            "\n",
            "categorical_column in param dict is overridden.\n",
            "\n",
            "\u001b[32m[I 2023-03-22 21:26:57,957]\u001b[0m Trial 76 pruned. Trial was pruned at iteration 10.\u001b[0m\n"
          ]
        },
        {
          "output_type": "stream",
          "name": "stdout",
          "text": [
            "Trial 76 pruned. Trial was pruned at iteration 10.\n",
            "Trial 76 pruned. Trial was pruned at iteration 10.\n"
          ]
        },
        {
          "output_type": "stream",
          "name": "stderr",
          "text": [
            "/usr/local/lib/python3.9/dist-packages/lightgbm/engine.py:239: UserWarning:\n",
            "\n",
            "'verbose_eval' argument is deprecated and will be removed in a future release of LightGBM. Pass 'log_evaluation()' callback via 'callbacks' argument instead.\n",
            "\n",
            "/usr/local/lib/python3.9/dist-packages/lightgbm/basic.py:1780: UserWarning:\n",
            "\n",
            "Overriding the parameters from Reference Dataset.\n",
            "\n",
            "/usr/local/lib/python3.9/dist-packages/lightgbm/basic.py:1513: UserWarning:\n",
            "\n",
            "categorical_column in param dict is overridden.\n",
            "\n",
            "\u001b[32m[I 2023-03-22 21:26:58,316]\u001b[0m Trial 77 finished with value: 0.7894938650306749 and parameters: {'bagging_fraction': 0.8299358304427462, 'bagging_freq': 7, 'min_child_samples': 25}. Best is trial 21 with value: 0.7937116564417178.\u001b[0m\n"
          ]
        },
        {
          "output_type": "stream",
          "name": "stdout",
          "text": [
            "Trial 77 finished with value: 0.7894938650306749 and parameters: {'bagging_fraction': 0.8299358304427462, 'bagging_freq': 7, 'min_child_samples': 25}. Best is trial 21 with value: 0.7937116564417178.\n",
            "Trial 77 finished with value: 0.7894938650306749 and parameters: {'bagging_fraction': 0.8299358304427462, 'bagging_freq': 7, 'min_child_samples': 25}. Best is trial 21 with value: 0.7937116564417178.\n"
          ]
        },
        {
          "output_type": "stream",
          "name": "stderr",
          "text": [
            "/usr/local/lib/python3.9/dist-packages/lightgbm/engine.py:239: UserWarning:\n",
            "\n",
            "'verbose_eval' argument is deprecated and will be removed in a future release of LightGBM. Pass 'log_evaluation()' callback via 'callbacks' argument instead.\n",
            "\n",
            "/usr/local/lib/python3.9/dist-packages/lightgbm/basic.py:1780: UserWarning:\n",
            "\n",
            "Overriding the parameters from Reference Dataset.\n",
            "\n",
            "/usr/local/lib/python3.9/dist-packages/lightgbm/basic.py:1513: UserWarning:\n",
            "\n",
            "categorical_column in param dict is overridden.\n",
            "\n",
            "\u001b[32m[I 2023-03-22 21:26:58,403]\u001b[0m Trial 78 pruned. Trial was pruned at iteration 13.\u001b[0m\n"
          ]
        },
        {
          "output_type": "stream",
          "name": "stdout",
          "text": [
            "Trial 78 pruned. Trial was pruned at iteration 13.\n",
            "Trial 78 pruned. Trial was pruned at iteration 13.\n"
          ]
        },
        {
          "output_type": "stream",
          "name": "stderr",
          "text": [
            "/usr/local/lib/python3.9/dist-packages/lightgbm/engine.py:239: UserWarning:\n",
            "\n",
            "'verbose_eval' argument is deprecated and will be removed in a future release of LightGBM. Pass 'log_evaluation()' callback via 'callbacks' argument instead.\n",
            "\n",
            "/usr/local/lib/python3.9/dist-packages/lightgbm/basic.py:1780: UserWarning:\n",
            "\n",
            "Overriding the parameters from Reference Dataset.\n",
            "\n",
            "/usr/local/lib/python3.9/dist-packages/lightgbm/basic.py:1513: UserWarning:\n",
            "\n",
            "categorical_column in param dict is overridden.\n",
            "\n",
            "\u001b[32m[I 2023-03-22 21:26:58,482]\u001b[0m Trial 79 pruned. Trial was pruned at iteration 10.\u001b[0m\n"
          ]
        },
        {
          "output_type": "stream",
          "name": "stdout",
          "text": [
            "Trial 79 pruned. Trial was pruned at iteration 10.\n",
            "Trial 79 pruned. Trial was pruned at iteration 10.\n"
          ]
        },
        {
          "output_type": "stream",
          "name": "stderr",
          "text": [
            "/usr/local/lib/python3.9/dist-packages/lightgbm/engine.py:239: UserWarning:\n",
            "\n",
            "'verbose_eval' argument is deprecated and will be removed in a future release of LightGBM. Pass 'log_evaluation()' callback via 'callbacks' argument instead.\n",
            "\n",
            "/usr/local/lib/python3.9/dist-packages/lightgbm/basic.py:1780: UserWarning:\n",
            "\n",
            "Overriding the parameters from Reference Dataset.\n",
            "\n",
            "/usr/local/lib/python3.9/dist-packages/lightgbm/basic.py:1513: UserWarning:\n",
            "\n",
            "categorical_column in param dict is overridden.\n",
            "\n",
            "\u001b[32m[I 2023-03-22 21:26:58,560]\u001b[0m Trial 80 pruned. Trial was pruned at iteration 10.\u001b[0m\n"
          ]
        },
        {
          "output_type": "stream",
          "name": "stdout",
          "text": [
            "Trial 80 pruned. Trial was pruned at iteration 10.\n",
            "Trial 80 pruned. Trial was pruned at iteration 10.\n"
          ]
        },
        {
          "output_type": "stream",
          "name": "stderr",
          "text": [
            "/usr/local/lib/python3.9/dist-packages/lightgbm/engine.py:239: UserWarning:\n",
            "\n",
            "'verbose_eval' argument is deprecated and will be removed in a future release of LightGBM. Pass 'log_evaluation()' callback via 'callbacks' argument instead.\n",
            "\n",
            "/usr/local/lib/python3.9/dist-packages/lightgbm/basic.py:1780: UserWarning:\n",
            "\n",
            "Overriding the parameters from Reference Dataset.\n",
            "\n",
            "/usr/local/lib/python3.9/dist-packages/lightgbm/basic.py:1513: UserWarning:\n",
            "\n",
            "categorical_column in param dict is overridden.\n",
            "\n",
            "\u001b[32m[I 2023-03-22 21:26:58,666]\u001b[0m Trial 81 pruned. Trial was pruned at iteration 17.\u001b[0m\n"
          ]
        },
        {
          "output_type": "stream",
          "name": "stdout",
          "text": [
            "Trial 81 pruned. Trial was pruned at iteration 17.\n",
            "Trial 81 pruned. Trial was pruned at iteration 17.\n"
          ]
        },
        {
          "output_type": "stream",
          "name": "stderr",
          "text": [
            "/usr/local/lib/python3.9/dist-packages/lightgbm/engine.py:239: UserWarning:\n",
            "\n",
            "'verbose_eval' argument is deprecated and will be removed in a future release of LightGBM. Pass 'log_evaluation()' callback via 'callbacks' argument instead.\n",
            "\n",
            "/usr/local/lib/python3.9/dist-packages/lightgbm/basic.py:1780: UserWarning:\n",
            "\n",
            "Overriding the parameters from Reference Dataset.\n",
            "\n",
            "/usr/local/lib/python3.9/dist-packages/lightgbm/basic.py:1513: UserWarning:\n",
            "\n",
            "categorical_column in param dict is overridden.\n",
            "\n",
            "\u001b[32m[I 2023-03-22 21:26:58,773]\u001b[0m Trial 82 pruned. Trial was pruned at iteration 20.\u001b[0m\n"
          ]
        },
        {
          "output_type": "stream",
          "name": "stdout",
          "text": [
            "Trial 82 pruned. Trial was pruned at iteration 20.\n",
            "Trial 82 pruned. Trial was pruned at iteration 20.\n"
          ]
        },
        {
          "output_type": "stream",
          "name": "stderr",
          "text": [
            "/usr/local/lib/python3.9/dist-packages/lightgbm/engine.py:239: UserWarning:\n",
            "\n",
            "'verbose_eval' argument is deprecated and will be removed in a future release of LightGBM. Pass 'log_evaluation()' callback via 'callbacks' argument instead.\n",
            "\n",
            "/usr/local/lib/python3.9/dist-packages/lightgbm/basic.py:1780: UserWarning:\n",
            "\n",
            "Overriding the parameters from Reference Dataset.\n",
            "\n",
            "/usr/local/lib/python3.9/dist-packages/lightgbm/basic.py:1513: UserWarning:\n",
            "\n",
            "categorical_column in param dict is overridden.\n",
            "\n",
            "\u001b[32m[I 2023-03-22 21:26:58,905]\u001b[0m Trial 83 pruned. Trial was pruned at iteration 26.\u001b[0m\n"
          ]
        },
        {
          "output_type": "stream",
          "name": "stdout",
          "text": [
            "Trial 83 pruned. Trial was pruned at iteration 26.\n",
            "Trial 83 pruned. Trial was pruned at iteration 26.\n"
          ]
        },
        {
          "output_type": "stream",
          "name": "stderr",
          "text": [
            "/usr/local/lib/python3.9/dist-packages/lightgbm/engine.py:239: UserWarning:\n",
            "\n",
            "'verbose_eval' argument is deprecated and will be removed in a future release of LightGBM. Pass 'log_evaluation()' callback via 'callbacks' argument instead.\n",
            "\n",
            "/usr/local/lib/python3.9/dist-packages/lightgbm/basic.py:1780: UserWarning:\n",
            "\n",
            "Overriding the parameters from Reference Dataset.\n",
            "\n",
            "/usr/local/lib/python3.9/dist-packages/lightgbm/basic.py:1513: UserWarning:\n",
            "\n",
            "categorical_column in param dict is overridden.\n",
            "\n",
            "\u001b[32m[I 2023-03-22 21:26:58,987]\u001b[0m Trial 84 pruned. Trial was pruned at iteration 10.\u001b[0m\n"
          ]
        },
        {
          "output_type": "stream",
          "name": "stdout",
          "text": [
            "Trial 84 pruned. Trial was pruned at iteration 10.\n",
            "Trial 84 pruned. Trial was pruned at iteration 10.\n"
          ]
        },
        {
          "output_type": "stream",
          "name": "stderr",
          "text": [
            "/usr/local/lib/python3.9/dist-packages/lightgbm/engine.py:239: UserWarning:\n",
            "\n",
            "'verbose_eval' argument is deprecated and will be removed in a future release of LightGBM. Pass 'log_evaluation()' callback via 'callbacks' argument instead.\n",
            "\n",
            "/usr/local/lib/python3.9/dist-packages/lightgbm/basic.py:1780: UserWarning:\n",
            "\n",
            "Overriding the parameters from Reference Dataset.\n",
            "\n",
            "/usr/local/lib/python3.9/dist-packages/lightgbm/basic.py:1513: UserWarning:\n",
            "\n",
            "categorical_column in param dict is overridden.\n",
            "\n",
            "\u001b[32m[I 2023-03-22 21:26:59,094]\u001b[0m Trial 85 pruned. Trial was pruned at iteration 20.\u001b[0m\n"
          ]
        },
        {
          "output_type": "stream",
          "name": "stdout",
          "text": [
            "Trial 85 pruned. Trial was pruned at iteration 20.\n",
            "Trial 85 pruned. Trial was pruned at iteration 20.\n"
          ]
        },
        {
          "output_type": "stream",
          "name": "stderr",
          "text": [
            "/usr/local/lib/python3.9/dist-packages/lightgbm/engine.py:239: UserWarning:\n",
            "\n",
            "'verbose_eval' argument is deprecated and will be removed in a future release of LightGBM. Pass 'log_evaluation()' callback via 'callbacks' argument instead.\n",
            "\n",
            "/usr/local/lib/python3.9/dist-packages/lightgbm/basic.py:1780: UserWarning:\n",
            "\n",
            "Overriding the parameters from Reference Dataset.\n",
            "\n",
            "/usr/local/lib/python3.9/dist-packages/lightgbm/basic.py:1513: UserWarning:\n",
            "\n",
            "categorical_column in param dict is overridden.\n",
            "\n",
            "\u001b[32m[I 2023-03-22 21:26:59,177]\u001b[0m Trial 86 pruned. Trial was pruned at iteration 10.\u001b[0m\n"
          ]
        },
        {
          "output_type": "stream",
          "name": "stdout",
          "text": [
            "Trial 86 pruned. Trial was pruned at iteration 10.\n",
            "Trial 86 pruned. Trial was pruned at iteration 10.\n"
          ]
        },
        {
          "output_type": "stream",
          "name": "stderr",
          "text": [
            "/usr/local/lib/python3.9/dist-packages/lightgbm/engine.py:239: UserWarning:\n",
            "\n",
            "'verbose_eval' argument is deprecated and will be removed in a future release of LightGBM. Pass 'log_evaluation()' callback via 'callbacks' argument instead.\n",
            "\n",
            "/usr/local/lib/python3.9/dist-packages/lightgbm/basic.py:1780: UserWarning:\n",
            "\n",
            "Overriding the parameters from Reference Dataset.\n",
            "\n",
            "/usr/local/lib/python3.9/dist-packages/lightgbm/basic.py:1513: UserWarning:\n",
            "\n",
            "categorical_column in param dict is overridden.\n",
            "\n",
            "\u001b[32m[I 2023-03-22 21:26:59,258]\u001b[0m Trial 87 pruned. Trial was pruned at iteration 11.\u001b[0m\n"
          ]
        },
        {
          "output_type": "stream",
          "name": "stdout",
          "text": [
            "Trial 87 pruned. Trial was pruned at iteration 11.\n",
            "Trial 87 pruned. Trial was pruned at iteration 11.\n"
          ]
        },
        {
          "output_type": "stream",
          "name": "stderr",
          "text": [
            "/usr/local/lib/python3.9/dist-packages/lightgbm/engine.py:239: UserWarning:\n",
            "\n",
            "'verbose_eval' argument is deprecated and will be removed in a future release of LightGBM. Pass 'log_evaluation()' callback via 'callbacks' argument instead.\n",
            "\n",
            "/usr/local/lib/python3.9/dist-packages/lightgbm/basic.py:1780: UserWarning:\n",
            "\n",
            "Overriding the parameters from Reference Dataset.\n",
            "\n",
            "/usr/local/lib/python3.9/dist-packages/lightgbm/basic.py:1513: UserWarning:\n",
            "\n",
            "categorical_column in param dict is overridden.\n",
            "\n",
            "\u001b[32m[I 2023-03-22 21:26:59,359]\u001b[0m Trial 88 pruned. Trial was pruned at iteration 13.\u001b[0m\n"
          ]
        },
        {
          "output_type": "stream",
          "name": "stdout",
          "text": [
            "Trial 88 pruned. Trial was pruned at iteration 13.\n",
            "Trial 88 pruned. Trial was pruned at iteration 13.\n"
          ]
        },
        {
          "output_type": "stream",
          "name": "stderr",
          "text": [
            "/usr/local/lib/python3.9/dist-packages/lightgbm/engine.py:239: UserWarning:\n",
            "\n",
            "'verbose_eval' argument is deprecated and will be removed in a future release of LightGBM. Pass 'log_evaluation()' callback via 'callbacks' argument instead.\n",
            "\n",
            "/usr/local/lib/python3.9/dist-packages/lightgbm/basic.py:1780: UserWarning:\n",
            "\n",
            "Overriding the parameters from Reference Dataset.\n",
            "\n",
            "/usr/local/lib/python3.9/dist-packages/lightgbm/basic.py:1513: UserWarning:\n",
            "\n",
            "categorical_column in param dict is overridden.\n",
            "\n",
            "\u001b[32m[I 2023-03-22 21:26:59,443]\u001b[0m Trial 89 pruned. Trial was pruned at iteration 10.\u001b[0m\n"
          ]
        },
        {
          "output_type": "stream",
          "name": "stdout",
          "text": [
            "Trial 89 pruned. Trial was pruned at iteration 10.\n",
            "Trial 89 pruned. Trial was pruned at iteration 10.\n"
          ]
        },
        {
          "output_type": "stream",
          "name": "stderr",
          "text": [
            "/usr/local/lib/python3.9/dist-packages/lightgbm/engine.py:239: UserWarning:\n",
            "\n",
            "'verbose_eval' argument is deprecated and will be removed in a future release of LightGBM. Pass 'log_evaluation()' callback via 'callbacks' argument instead.\n",
            "\n",
            "/usr/local/lib/python3.9/dist-packages/lightgbm/basic.py:1780: UserWarning:\n",
            "\n",
            "Overriding the parameters from Reference Dataset.\n",
            "\n",
            "/usr/local/lib/python3.9/dist-packages/lightgbm/basic.py:1513: UserWarning:\n",
            "\n",
            "categorical_column in param dict is overridden.\n",
            "\n",
            "\u001b[32m[I 2023-03-22 21:26:59,532]\u001b[0m Trial 90 pruned. Trial was pruned at iteration 10.\u001b[0m\n"
          ]
        },
        {
          "output_type": "stream",
          "name": "stdout",
          "text": [
            "Trial 90 pruned. Trial was pruned at iteration 10.\n",
            "Trial 90 pruned. Trial was pruned at iteration 10.\n"
          ]
        },
        {
          "output_type": "stream",
          "name": "stderr",
          "text": [
            "/usr/local/lib/python3.9/dist-packages/lightgbm/engine.py:239: UserWarning:\n",
            "\n",
            "'verbose_eval' argument is deprecated and will be removed in a future release of LightGBM. Pass 'log_evaluation()' callback via 'callbacks' argument instead.\n",
            "\n",
            "/usr/local/lib/python3.9/dist-packages/lightgbm/basic.py:1780: UserWarning:\n",
            "\n",
            "Overriding the parameters from Reference Dataset.\n",
            "\n",
            "/usr/local/lib/python3.9/dist-packages/lightgbm/basic.py:1513: UserWarning:\n",
            "\n",
            "categorical_column in param dict is overridden.\n",
            "\n",
            "\u001b[32m[I 2023-03-22 21:26:59,626]\u001b[0m Trial 91 pruned. Trial was pruned at iteration 10.\u001b[0m\n"
          ]
        },
        {
          "output_type": "stream",
          "name": "stdout",
          "text": [
            "Trial 91 pruned. Trial was pruned at iteration 10.\n",
            "Trial 91 pruned. Trial was pruned at iteration 10.\n"
          ]
        },
        {
          "output_type": "stream",
          "name": "stderr",
          "text": [
            "/usr/local/lib/python3.9/dist-packages/lightgbm/engine.py:239: UserWarning:\n",
            "\n",
            "'verbose_eval' argument is deprecated and will be removed in a future release of LightGBM. Pass 'log_evaluation()' callback via 'callbacks' argument instead.\n",
            "\n",
            "/usr/local/lib/python3.9/dist-packages/lightgbm/basic.py:1780: UserWarning:\n",
            "\n",
            "Overriding the parameters from Reference Dataset.\n",
            "\n",
            "/usr/local/lib/python3.9/dist-packages/lightgbm/basic.py:1513: UserWarning:\n",
            "\n",
            "categorical_column in param dict is overridden.\n",
            "\n",
            "\u001b[32m[I 2023-03-22 21:26:59,717]\u001b[0m Trial 92 pruned. Trial was pruned at iteration 10.\u001b[0m\n"
          ]
        },
        {
          "output_type": "stream",
          "name": "stdout",
          "text": [
            "Trial 92 pruned. Trial was pruned at iteration 10.\n",
            "Trial 92 pruned. Trial was pruned at iteration 10.\n"
          ]
        },
        {
          "output_type": "stream",
          "name": "stderr",
          "text": [
            "/usr/local/lib/python3.9/dist-packages/lightgbm/engine.py:239: UserWarning:\n",
            "\n",
            "'verbose_eval' argument is deprecated and will be removed in a future release of LightGBM. Pass 'log_evaluation()' callback via 'callbacks' argument instead.\n",
            "\n",
            "/usr/local/lib/python3.9/dist-packages/lightgbm/basic.py:1780: UserWarning:\n",
            "\n",
            "Overriding the parameters from Reference Dataset.\n",
            "\n",
            "/usr/local/lib/python3.9/dist-packages/lightgbm/basic.py:1513: UserWarning:\n",
            "\n",
            "categorical_column in param dict is overridden.\n",
            "\n",
            "\u001b[32m[I 2023-03-22 21:26:59,800]\u001b[0m Trial 93 pruned. Trial was pruned at iteration 10.\u001b[0m\n"
          ]
        },
        {
          "output_type": "stream",
          "name": "stdout",
          "text": [
            "Trial 93 pruned. Trial was pruned at iteration 10.\n",
            "Trial 93 pruned. Trial was pruned at iteration 10.\n"
          ]
        },
        {
          "output_type": "stream",
          "name": "stderr",
          "text": [
            "/usr/local/lib/python3.9/dist-packages/lightgbm/engine.py:239: UserWarning:\n",
            "\n",
            "'verbose_eval' argument is deprecated and will be removed in a future release of LightGBM. Pass 'log_evaluation()' callback via 'callbacks' argument instead.\n",
            "\n",
            "/usr/local/lib/python3.9/dist-packages/lightgbm/basic.py:1780: UserWarning:\n",
            "\n",
            "Overriding the parameters from Reference Dataset.\n",
            "\n",
            "/usr/local/lib/python3.9/dist-packages/lightgbm/basic.py:1513: UserWarning:\n",
            "\n",
            "categorical_column in param dict is overridden.\n",
            "\n",
            "\u001b[32m[I 2023-03-22 21:26:59,882]\u001b[0m Trial 94 pruned. Trial was pruned at iteration 10.\u001b[0m\n"
          ]
        },
        {
          "output_type": "stream",
          "name": "stdout",
          "text": [
            "Trial 94 pruned. Trial was pruned at iteration 10.\n",
            "Trial 94 pruned. Trial was pruned at iteration 10.\n"
          ]
        },
        {
          "output_type": "stream",
          "name": "stderr",
          "text": [
            "/usr/local/lib/python3.9/dist-packages/lightgbm/engine.py:239: UserWarning:\n",
            "\n",
            "'verbose_eval' argument is deprecated and will be removed in a future release of LightGBM. Pass 'log_evaluation()' callback via 'callbacks' argument instead.\n",
            "\n",
            "/usr/local/lib/python3.9/dist-packages/lightgbm/basic.py:1780: UserWarning:\n",
            "\n",
            "Overriding the parameters from Reference Dataset.\n",
            "\n",
            "/usr/local/lib/python3.9/dist-packages/lightgbm/basic.py:1513: UserWarning:\n",
            "\n",
            "categorical_column in param dict is overridden.\n",
            "\n",
            "\u001b[32m[I 2023-03-22 21:26:59,988]\u001b[0m Trial 95 pruned. Trial was pruned at iteration 15.\u001b[0m\n"
          ]
        },
        {
          "output_type": "stream",
          "name": "stdout",
          "text": [
            "Trial 95 pruned. Trial was pruned at iteration 15.\n",
            "Trial 95 pruned. Trial was pruned at iteration 15.\n"
          ]
        },
        {
          "output_type": "stream",
          "name": "stderr",
          "text": [
            "/usr/local/lib/python3.9/dist-packages/lightgbm/engine.py:239: UserWarning:\n",
            "\n",
            "'verbose_eval' argument is deprecated and will be removed in a future release of LightGBM. Pass 'log_evaluation()' callback via 'callbacks' argument instead.\n",
            "\n",
            "/usr/local/lib/python3.9/dist-packages/lightgbm/basic.py:1780: UserWarning:\n",
            "\n",
            "Overriding the parameters from Reference Dataset.\n",
            "\n",
            "/usr/local/lib/python3.9/dist-packages/lightgbm/basic.py:1513: UserWarning:\n",
            "\n",
            "categorical_column in param dict is overridden.\n",
            "\n",
            "\u001b[32m[I 2023-03-22 21:27:00,071]\u001b[0m Trial 96 pruned. Trial was pruned at iteration 10.\u001b[0m\n"
          ]
        },
        {
          "output_type": "stream",
          "name": "stdout",
          "text": [
            "Trial 96 pruned. Trial was pruned at iteration 10.\n",
            "Trial 96 pruned. Trial was pruned at iteration 10.\n"
          ]
        },
        {
          "output_type": "stream",
          "name": "stderr",
          "text": [
            "/usr/local/lib/python3.9/dist-packages/lightgbm/engine.py:239: UserWarning:\n",
            "\n",
            "'verbose_eval' argument is deprecated and will be removed in a future release of LightGBM. Pass 'log_evaluation()' callback via 'callbacks' argument instead.\n",
            "\n",
            "/usr/local/lib/python3.9/dist-packages/lightgbm/basic.py:1780: UserWarning:\n",
            "\n",
            "Overriding the parameters from Reference Dataset.\n",
            "\n",
            "/usr/local/lib/python3.9/dist-packages/lightgbm/basic.py:1513: UserWarning:\n",
            "\n",
            "categorical_column in param dict is overridden.\n",
            "\n",
            "\u001b[32m[I 2023-03-22 21:27:00,165]\u001b[0m Trial 97 pruned. Trial was pruned at iteration 10.\u001b[0m\n"
          ]
        },
        {
          "output_type": "stream",
          "name": "stdout",
          "text": [
            "Trial 97 pruned. Trial was pruned at iteration 10.\n",
            "Trial 97 pruned. Trial was pruned at iteration 10.\n"
          ]
        },
        {
          "output_type": "stream",
          "name": "stderr",
          "text": [
            "/usr/local/lib/python3.9/dist-packages/lightgbm/engine.py:239: UserWarning:\n",
            "\n",
            "'verbose_eval' argument is deprecated and will be removed in a future release of LightGBM. Pass 'log_evaluation()' callback via 'callbacks' argument instead.\n",
            "\n",
            "/usr/local/lib/python3.9/dist-packages/lightgbm/basic.py:1780: UserWarning:\n",
            "\n",
            "Overriding the parameters from Reference Dataset.\n",
            "\n",
            "/usr/local/lib/python3.9/dist-packages/lightgbm/basic.py:1513: UserWarning:\n",
            "\n",
            "categorical_column in param dict is overridden.\n",
            "\n",
            "\u001b[32m[I 2023-03-22 21:27:00,246]\u001b[0m Trial 98 pruned. Trial was pruned at iteration 10.\u001b[0m\n"
          ]
        },
        {
          "output_type": "stream",
          "name": "stdout",
          "text": [
            "Trial 98 pruned. Trial was pruned at iteration 10.\n",
            "Trial 98 pruned. Trial was pruned at iteration 10.\n"
          ]
        },
        {
          "output_type": "stream",
          "name": "stderr",
          "text": [
            "/usr/local/lib/python3.9/dist-packages/lightgbm/engine.py:239: UserWarning:\n",
            "\n",
            "'verbose_eval' argument is deprecated and will be removed in a future release of LightGBM. Pass 'log_evaluation()' callback via 'callbacks' argument instead.\n",
            "\n",
            "/usr/local/lib/python3.9/dist-packages/lightgbm/basic.py:1780: UserWarning:\n",
            "\n",
            "Overriding the parameters from Reference Dataset.\n",
            "\n",
            "/usr/local/lib/python3.9/dist-packages/lightgbm/basic.py:1513: UserWarning:\n",
            "\n",
            "categorical_column in param dict is overridden.\n",
            "\n",
            "\u001b[32m[I 2023-03-22 21:27:00,364]\u001b[0m Trial 99 pruned. Trial was pruned at iteration 20.\u001b[0m\n"
          ]
        },
        {
          "output_type": "stream",
          "name": "stdout",
          "text": [
            "Trial 99 pruned. Trial was pruned at iteration 20.\n",
            "Trial 99 pruned. Trial was pruned at iteration 20.\n",
            "Return a dictionary of parameter name and parameter values:\n",
            " {'bagging_fraction': 0.8627656382198515, 'bagging_freq': 3, 'min_child_samples': 77}\n",
            "Return the best observed value of the objective function:\n",
            " 0.7937116564417178\n"
          ]
        }
      ]
    },
    {
      "cell_type": "code",
      "source": [
        "# Visualize the optimization history. See :func:`~optuna.visualization.plot_optimization_history` for the details.\n",
        "plot_optimization_history(study)"
      ],
      "metadata": {
        "id": "JzfPLyjF_10a",
        "colab": {
          "base_uri": "https://localhost:8080/",
          "height": 542
        },
        "outputId": "27414004-5701-4dd9-f2e3-11a0a3549533"
      },
      "execution_count": 40,
      "outputs": [
        {
          "output_type": "display_data",
          "data": {
            "text/html": [
              "<html>\n",
              "<head><meta charset=\"utf-8\" /></head>\n",
              "<body>\n",
              "    <div>            <script src=\"https://cdnjs.cloudflare.com/ajax/libs/mathjax/2.7.5/MathJax.js?config=TeX-AMS-MML_SVG\"></script><script type=\"text/javascript\">if (window.MathJax && window.MathJax.Hub && window.MathJax.Hub.Config) {window.MathJax.Hub.Config({SVG: {font: \"STIX-Web\"}});}</script>                <script type=\"text/javascript\">window.PlotlyConfig = {MathJaxConfig: 'local'};</script>\n",
              "        <script src=\"https://cdn.plot.ly/plotly-2.18.2.min.js\"></script>                <div id=\"646e4343-ede3-4208-9ecb-fc16f16d4bf2\" class=\"plotly-graph-div\" style=\"height:525px; width:100%;\"></div>            <script type=\"text/javascript\">                                    window.PLOTLYENV=window.PLOTLYENV || {};                                    if (document.getElementById(\"646e4343-ede3-4208-9ecb-fc16f16d4bf2\")) {                    Plotly.newPlot(                        \"646e4343-ede3-4208-9ecb-fc16f16d4bf2\",                        [{\"mode\":\"markers\",\"name\":\"Objective Value\",\"x\":[0,1,2,3,4,9,15,19,21,51,72,77],\"y\":[0.7887269938650306,0.786042944785276,0.7875766871165644,0.7914110429447853,0.7883435582822086,0.7910276073619632,0.7848926380368099,0.790260736196319,0.7937116564417178,0.7868098159509203,0.7898773006134969,0.7894938650306749],\"type\":\"scatter\"},{\"name\":\"Best Value\",\"x\":[0,1,2,3,4,9,15,19,21,51,72,77],\"y\":[0.7887269938650306,0.7887269938650306,0.7887269938650306,0.7914110429447853,0.7914110429447853,0.7914110429447853,0.7914110429447853,0.7914110429447853,0.7937116564417178,0.7937116564417178,0.7937116564417178,0.7937116564417178],\"type\":\"scatter\"}],                        {\"title\":{\"text\":\"Optimization History Plot\"},\"xaxis\":{\"title\":{\"text\":\"Trial\"}},\"yaxis\":{\"title\":{\"text\":\"Objective Value\"}},\"template\":{\"data\":{\"histogram2dcontour\":[{\"type\":\"histogram2dcontour\",\"colorbar\":{\"outlinewidth\":0,\"ticks\":\"\"},\"colorscale\":[[0.0,\"#0d0887\"],[0.1111111111111111,\"#46039f\"],[0.2222222222222222,\"#7201a8\"],[0.3333333333333333,\"#9c179e\"],[0.4444444444444444,\"#bd3786\"],[0.5555555555555556,\"#d8576b\"],[0.6666666666666666,\"#ed7953\"],[0.7777777777777778,\"#fb9f3a\"],[0.8888888888888888,\"#fdca26\"],[1.0,\"#f0f921\"]]}],\"choropleth\":[{\"type\":\"choropleth\",\"colorbar\":{\"outlinewidth\":0,\"ticks\":\"\"}}],\"histogram2d\":[{\"type\":\"histogram2d\",\"colorbar\":{\"outlinewidth\":0,\"ticks\":\"\"},\"colorscale\":[[0.0,\"#0d0887\"],[0.1111111111111111,\"#46039f\"],[0.2222222222222222,\"#7201a8\"],[0.3333333333333333,\"#9c179e\"],[0.4444444444444444,\"#bd3786\"],[0.5555555555555556,\"#d8576b\"],[0.6666666666666666,\"#ed7953\"],[0.7777777777777778,\"#fb9f3a\"],[0.8888888888888888,\"#fdca26\"],[1.0,\"#f0f921\"]]}],\"heatmap\":[{\"type\":\"heatmap\",\"colorbar\":{\"outlinewidth\":0,\"ticks\":\"\"},\"colorscale\":[[0.0,\"#0d0887\"],[0.1111111111111111,\"#46039f\"],[0.2222222222222222,\"#7201a8\"],[0.3333333333333333,\"#9c179e\"],[0.4444444444444444,\"#bd3786\"],[0.5555555555555556,\"#d8576b\"],[0.6666666666666666,\"#ed7953\"],[0.7777777777777778,\"#fb9f3a\"],[0.8888888888888888,\"#fdca26\"],[1.0,\"#f0f921\"]]}],\"heatmapgl\":[{\"type\":\"heatmapgl\",\"colorbar\":{\"outlinewidth\":0,\"ticks\":\"\"},\"colorscale\":[[0.0,\"#0d0887\"],[0.1111111111111111,\"#46039f\"],[0.2222222222222222,\"#7201a8\"],[0.3333333333333333,\"#9c179e\"],[0.4444444444444444,\"#bd3786\"],[0.5555555555555556,\"#d8576b\"],[0.6666666666666666,\"#ed7953\"],[0.7777777777777778,\"#fb9f3a\"],[0.8888888888888888,\"#fdca26\"],[1.0,\"#f0f921\"]]}],\"contourcarpet\":[{\"type\":\"contourcarpet\",\"colorbar\":{\"outlinewidth\":0,\"ticks\":\"\"}}],\"contour\":[{\"type\":\"contour\",\"colorbar\":{\"outlinewidth\":0,\"ticks\":\"\"},\"colorscale\":[[0.0,\"#0d0887\"],[0.1111111111111111,\"#46039f\"],[0.2222222222222222,\"#7201a8\"],[0.3333333333333333,\"#9c179e\"],[0.4444444444444444,\"#bd3786\"],[0.5555555555555556,\"#d8576b\"],[0.6666666666666666,\"#ed7953\"],[0.7777777777777778,\"#fb9f3a\"],[0.8888888888888888,\"#fdca26\"],[1.0,\"#f0f921\"]]}],\"surface\":[{\"type\":\"surface\",\"colorbar\":{\"outlinewidth\":0,\"ticks\":\"\"},\"colorscale\":[[0.0,\"#0d0887\"],[0.1111111111111111,\"#46039f\"],[0.2222222222222222,\"#7201a8\"],[0.3333333333333333,\"#9c179e\"],[0.4444444444444444,\"#bd3786\"],[0.5555555555555556,\"#d8576b\"],[0.6666666666666666,\"#ed7953\"],[0.7777777777777778,\"#fb9f3a\"],[0.8888888888888888,\"#fdca26\"],[1.0,\"#f0f921\"]]}],\"mesh3d\":[{\"type\":\"mesh3d\",\"colorbar\":{\"outlinewidth\":0,\"ticks\":\"\"}}],\"scatter\":[{\"fillpattern\":{\"fillmode\":\"overlay\",\"size\":10,\"solidity\":0.2},\"type\":\"scatter\"}],\"parcoords\":[{\"type\":\"parcoords\",\"line\":{\"colorbar\":{\"outlinewidth\":0,\"ticks\":\"\"}}}],\"scatterpolargl\":[{\"type\":\"scatterpolargl\",\"marker\":{\"colorbar\":{\"outlinewidth\":0,\"ticks\":\"\"}}}],\"bar\":[{\"error_x\":{\"color\":\"#2a3f5f\"},\"error_y\":{\"color\":\"#2a3f5f\"},\"marker\":{\"line\":{\"color\":\"#E5ECF6\",\"width\":0.5},\"pattern\":{\"fillmode\":\"overlay\",\"size\":10,\"solidity\":0.2}},\"type\":\"bar\"}],\"scattergeo\":[{\"type\":\"scattergeo\",\"marker\":{\"colorbar\":{\"outlinewidth\":0,\"ticks\":\"\"}}}],\"scatterpolar\":[{\"type\":\"scatterpolar\",\"marker\":{\"colorbar\":{\"outlinewidth\":0,\"ticks\":\"\"}}}],\"histogram\":[{\"marker\":{\"pattern\":{\"fillmode\":\"overlay\",\"size\":10,\"solidity\":0.2}},\"type\":\"histogram\"}],\"scattergl\":[{\"type\":\"scattergl\",\"marker\":{\"colorbar\":{\"outlinewidth\":0,\"ticks\":\"\"}}}],\"scatter3d\":[{\"type\":\"scatter3d\",\"line\":{\"colorbar\":{\"outlinewidth\":0,\"ticks\":\"\"}},\"marker\":{\"colorbar\":{\"outlinewidth\":0,\"ticks\":\"\"}}}],\"scattermapbox\":[{\"type\":\"scattermapbox\",\"marker\":{\"colorbar\":{\"outlinewidth\":0,\"ticks\":\"\"}}}],\"scatterternary\":[{\"type\":\"scatterternary\",\"marker\":{\"colorbar\":{\"outlinewidth\":0,\"ticks\":\"\"}}}],\"scattercarpet\":[{\"type\":\"scattercarpet\",\"marker\":{\"colorbar\":{\"outlinewidth\":0,\"ticks\":\"\"}}}],\"carpet\":[{\"aaxis\":{\"endlinecolor\":\"#2a3f5f\",\"gridcolor\":\"white\",\"linecolor\":\"white\",\"minorgridcolor\":\"white\",\"startlinecolor\":\"#2a3f5f\"},\"baxis\":{\"endlinecolor\":\"#2a3f5f\",\"gridcolor\":\"white\",\"linecolor\":\"white\",\"minorgridcolor\":\"white\",\"startlinecolor\":\"#2a3f5f\"},\"type\":\"carpet\"}],\"table\":[{\"cells\":{\"fill\":{\"color\":\"#EBF0F8\"},\"line\":{\"color\":\"white\"}},\"header\":{\"fill\":{\"color\":\"#C8D4E3\"},\"line\":{\"color\":\"white\"}},\"type\":\"table\"}],\"barpolar\":[{\"marker\":{\"line\":{\"color\":\"#E5ECF6\",\"width\":0.5},\"pattern\":{\"fillmode\":\"overlay\",\"size\":10,\"solidity\":0.2}},\"type\":\"barpolar\"}],\"pie\":[{\"automargin\":true,\"type\":\"pie\"}]},\"layout\":{\"autotypenumbers\":\"strict\",\"colorway\":[\"#636efa\",\"#EF553B\",\"#00cc96\",\"#ab63fa\",\"#FFA15A\",\"#19d3f3\",\"#FF6692\",\"#B6E880\",\"#FF97FF\",\"#FECB52\"],\"font\":{\"color\":\"#2a3f5f\"},\"hovermode\":\"closest\",\"hoverlabel\":{\"align\":\"left\"},\"paper_bgcolor\":\"white\",\"plot_bgcolor\":\"#E5ECF6\",\"polar\":{\"bgcolor\":\"#E5ECF6\",\"angularaxis\":{\"gridcolor\":\"white\",\"linecolor\":\"white\",\"ticks\":\"\"},\"radialaxis\":{\"gridcolor\":\"white\",\"linecolor\":\"white\",\"ticks\":\"\"}},\"ternary\":{\"bgcolor\":\"#E5ECF6\",\"aaxis\":{\"gridcolor\":\"white\",\"linecolor\":\"white\",\"ticks\":\"\"},\"baxis\":{\"gridcolor\":\"white\",\"linecolor\":\"white\",\"ticks\":\"\"},\"caxis\":{\"gridcolor\":\"white\",\"linecolor\":\"white\",\"ticks\":\"\"}},\"coloraxis\":{\"colorbar\":{\"outlinewidth\":0,\"ticks\":\"\"}},\"colorscale\":{\"sequential\":[[0.0,\"#0d0887\"],[0.1111111111111111,\"#46039f\"],[0.2222222222222222,\"#7201a8\"],[0.3333333333333333,\"#9c179e\"],[0.4444444444444444,\"#bd3786\"],[0.5555555555555556,\"#d8576b\"],[0.6666666666666666,\"#ed7953\"],[0.7777777777777778,\"#fb9f3a\"],[0.8888888888888888,\"#fdca26\"],[1.0,\"#f0f921\"]],\"sequentialminus\":[[0.0,\"#0d0887\"],[0.1111111111111111,\"#46039f\"],[0.2222222222222222,\"#7201a8\"],[0.3333333333333333,\"#9c179e\"],[0.4444444444444444,\"#bd3786\"],[0.5555555555555556,\"#d8576b\"],[0.6666666666666666,\"#ed7953\"],[0.7777777777777778,\"#fb9f3a\"],[0.8888888888888888,\"#fdca26\"],[1.0,\"#f0f921\"]],\"diverging\":[[0,\"#8e0152\"],[0.1,\"#c51b7d\"],[0.2,\"#de77ae\"],[0.3,\"#f1b6da\"],[0.4,\"#fde0ef\"],[0.5,\"#f7f7f7\"],[0.6,\"#e6f5d0\"],[0.7,\"#b8e186\"],[0.8,\"#7fbc41\"],[0.9,\"#4d9221\"],[1,\"#276419\"]]},\"xaxis\":{\"gridcolor\":\"white\",\"linecolor\":\"white\",\"ticks\":\"\",\"title\":{\"standoff\":15},\"zerolinecolor\":\"white\",\"automargin\":true,\"zerolinewidth\":2},\"yaxis\":{\"gridcolor\":\"white\",\"linecolor\":\"white\",\"ticks\":\"\",\"title\":{\"standoff\":15},\"zerolinecolor\":\"white\",\"automargin\":true,\"zerolinewidth\":2},\"scene\":{\"xaxis\":{\"backgroundcolor\":\"#E5ECF6\",\"gridcolor\":\"white\",\"linecolor\":\"white\",\"showbackground\":true,\"ticks\":\"\",\"zerolinecolor\":\"white\",\"gridwidth\":2},\"yaxis\":{\"backgroundcolor\":\"#E5ECF6\",\"gridcolor\":\"white\",\"linecolor\":\"white\",\"showbackground\":true,\"ticks\":\"\",\"zerolinecolor\":\"white\",\"gridwidth\":2},\"zaxis\":{\"backgroundcolor\":\"#E5ECF6\",\"gridcolor\":\"white\",\"linecolor\":\"white\",\"showbackground\":true,\"ticks\":\"\",\"zerolinecolor\":\"white\",\"gridwidth\":2}},\"shapedefaults\":{\"line\":{\"color\":\"#2a3f5f\"}},\"annotationdefaults\":{\"arrowcolor\":\"#2a3f5f\",\"arrowhead\":0,\"arrowwidth\":1},\"geo\":{\"bgcolor\":\"white\",\"landcolor\":\"#E5ECF6\",\"subunitcolor\":\"white\",\"showland\":true,\"showlakes\":true,\"lakecolor\":\"white\"},\"title\":{\"x\":0.05},\"mapbox\":{\"style\":\"light\"}}}},                        {\"responsive\": true}                    ).then(function(){\n",
              "                            \n",
              "var gd = document.getElementById('646e4343-ede3-4208-9ecb-fc16f16d4bf2');\n",
              "var x = new MutationObserver(function (mutations, observer) {{\n",
              "        var display = window.getComputedStyle(gd).display;\n",
              "        if (!display || display === 'none') {{\n",
              "            console.log([gd, 'removed!']);\n",
              "            Plotly.purge(gd);\n",
              "            observer.disconnect();\n",
              "        }}\n",
              "}});\n",
              "\n",
              "// Listen for the removal of the full notebook cells\n",
              "var notebookContainer = gd.closest('#notebook-container');\n",
              "if (notebookContainer) {{\n",
              "    x.observe(notebookContainer, {childList: true});\n",
              "}}\n",
              "\n",
              "// Listen for the clearing of the current output cell\n",
              "var outputEl = gd.closest('.output');\n",
              "if (outputEl) {{\n",
              "    x.observe(outputEl, {childList: true});\n",
              "}}\n",
              "\n",
              "                        })                };                            </script>        </div>\n",
              "</body>\n",
              "</html>"
            ]
          },
          "metadata": {}
        }
      ]
    },
    {
      "cell_type": "code",
      "source": [
        "# Visualize parameter importances. See :func:`~optuna.visualization.plot_param_importances` for the details.\n",
        "plot_param_importances(study)"
      ],
      "metadata": {
        "id": "vUy-F6kT_0_7",
        "colab": {
          "base_uri": "https://localhost:8080/",
          "height": 542
        },
        "outputId": "ca22cdf1-ad48-4353-b5be-f00ff3e05d0d"
      },
      "execution_count": 41,
      "outputs": [
        {
          "output_type": "display_data",
          "data": {
            "text/html": [
              "<html>\n",
              "<head><meta charset=\"utf-8\" /></head>\n",
              "<body>\n",
              "    <div>            <script src=\"https://cdnjs.cloudflare.com/ajax/libs/mathjax/2.7.5/MathJax.js?config=TeX-AMS-MML_SVG\"></script><script type=\"text/javascript\">if (window.MathJax && window.MathJax.Hub && window.MathJax.Hub.Config) {window.MathJax.Hub.Config({SVG: {font: \"STIX-Web\"}});}</script>                <script type=\"text/javascript\">window.PlotlyConfig = {MathJaxConfig: 'local'};</script>\n",
              "        <script src=\"https://cdn.plot.ly/plotly-2.18.2.min.js\"></script>                <div id=\"e919ff79-ff4e-4dc7-b091-f090e8af63bf\" class=\"plotly-graph-div\" style=\"height:525px; width:100%;\"></div>            <script type=\"text/javascript\">                                    window.PLOTLYENV=window.PLOTLYENV || {};                                    if (document.getElementById(\"e919ff79-ff4e-4dc7-b091-f090e8af63bf\")) {                    Plotly.newPlot(                        \"e919ff79-ff4e-4dc7-b091-f090e8af63bf\",                        [{\"cliponaxis\":false,\"hovertemplate\":[\"bagging_freq (IntDistribution): 0.08916186285568067<extra></extra>\",\"min_child_samples (IntDistribution): 0.40973657454404255<extra></extra>\",\"bagging_fraction (FloatDistribution): 0.5011015626002767<extra></extra>\"],\"marker\":{\"color\":\"rgb(66,146,198)\"},\"orientation\":\"h\",\"text\":[\"0.09\",\"0.41\",\"0.50\"],\"textposition\":\"outside\",\"x\":[0.08916186285568067,0.40973657454404255,0.5011015626002767],\"y\":[\"bagging_freq\",\"min_child_samples\",\"bagging_fraction\"],\"type\":\"bar\"}],                        {\"showlegend\":false,\"title\":{\"text\":\"Hyperparameter Importances\"},\"xaxis\":{\"title\":{\"text\":\"Importance for Objective Value\"}},\"yaxis\":{\"title\":{\"text\":\"Hyperparameter\"}},\"template\":{\"data\":{\"histogram2dcontour\":[{\"type\":\"histogram2dcontour\",\"colorbar\":{\"outlinewidth\":0,\"ticks\":\"\"},\"colorscale\":[[0.0,\"#0d0887\"],[0.1111111111111111,\"#46039f\"],[0.2222222222222222,\"#7201a8\"],[0.3333333333333333,\"#9c179e\"],[0.4444444444444444,\"#bd3786\"],[0.5555555555555556,\"#d8576b\"],[0.6666666666666666,\"#ed7953\"],[0.7777777777777778,\"#fb9f3a\"],[0.8888888888888888,\"#fdca26\"],[1.0,\"#f0f921\"]]}],\"choropleth\":[{\"type\":\"choropleth\",\"colorbar\":{\"outlinewidth\":0,\"ticks\":\"\"}}],\"histogram2d\":[{\"type\":\"histogram2d\",\"colorbar\":{\"outlinewidth\":0,\"ticks\":\"\"},\"colorscale\":[[0.0,\"#0d0887\"],[0.1111111111111111,\"#46039f\"],[0.2222222222222222,\"#7201a8\"],[0.3333333333333333,\"#9c179e\"],[0.4444444444444444,\"#bd3786\"],[0.5555555555555556,\"#d8576b\"],[0.6666666666666666,\"#ed7953\"],[0.7777777777777778,\"#fb9f3a\"],[0.8888888888888888,\"#fdca26\"],[1.0,\"#f0f921\"]]}],\"heatmap\":[{\"type\":\"heatmap\",\"colorbar\":{\"outlinewidth\":0,\"ticks\":\"\"},\"colorscale\":[[0.0,\"#0d0887\"],[0.1111111111111111,\"#46039f\"],[0.2222222222222222,\"#7201a8\"],[0.3333333333333333,\"#9c179e\"],[0.4444444444444444,\"#bd3786\"],[0.5555555555555556,\"#d8576b\"],[0.6666666666666666,\"#ed7953\"],[0.7777777777777778,\"#fb9f3a\"],[0.8888888888888888,\"#fdca26\"],[1.0,\"#f0f921\"]]}],\"heatmapgl\":[{\"type\":\"heatmapgl\",\"colorbar\":{\"outlinewidth\":0,\"ticks\":\"\"},\"colorscale\":[[0.0,\"#0d0887\"],[0.1111111111111111,\"#46039f\"],[0.2222222222222222,\"#7201a8\"],[0.3333333333333333,\"#9c179e\"],[0.4444444444444444,\"#bd3786\"],[0.5555555555555556,\"#d8576b\"],[0.6666666666666666,\"#ed7953\"],[0.7777777777777778,\"#fb9f3a\"],[0.8888888888888888,\"#fdca26\"],[1.0,\"#f0f921\"]]}],\"contourcarpet\":[{\"type\":\"contourcarpet\",\"colorbar\":{\"outlinewidth\":0,\"ticks\":\"\"}}],\"contour\":[{\"type\":\"contour\",\"colorbar\":{\"outlinewidth\":0,\"ticks\":\"\"},\"colorscale\":[[0.0,\"#0d0887\"],[0.1111111111111111,\"#46039f\"],[0.2222222222222222,\"#7201a8\"],[0.3333333333333333,\"#9c179e\"],[0.4444444444444444,\"#bd3786\"],[0.5555555555555556,\"#d8576b\"],[0.6666666666666666,\"#ed7953\"],[0.7777777777777778,\"#fb9f3a\"],[0.8888888888888888,\"#fdca26\"],[1.0,\"#f0f921\"]]}],\"surface\":[{\"type\":\"surface\",\"colorbar\":{\"outlinewidth\":0,\"ticks\":\"\"},\"colorscale\":[[0.0,\"#0d0887\"],[0.1111111111111111,\"#46039f\"],[0.2222222222222222,\"#7201a8\"],[0.3333333333333333,\"#9c179e\"],[0.4444444444444444,\"#bd3786\"],[0.5555555555555556,\"#d8576b\"],[0.6666666666666666,\"#ed7953\"],[0.7777777777777778,\"#fb9f3a\"],[0.8888888888888888,\"#fdca26\"],[1.0,\"#f0f921\"]]}],\"mesh3d\":[{\"type\":\"mesh3d\",\"colorbar\":{\"outlinewidth\":0,\"ticks\":\"\"}}],\"scatter\":[{\"fillpattern\":{\"fillmode\":\"overlay\",\"size\":10,\"solidity\":0.2},\"type\":\"scatter\"}],\"parcoords\":[{\"type\":\"parcoords\",\"line\":{\"colorbar\":{\"outlinewidth\":0,\"ticks\":\"\"}}}],\"scatterpolargl\":[{\"type\":\"scatterpolargl\",\"marker\":{\"colorbar\":{\"outlinewidth\":0,\"ticks\":\"\"}}}],\"bar\":[{\"error_x\":{\"color\":\"#2a3f5f\"},\"error_y\":{\"color\":\"#2a3f5f\"},\"marker\":{\"line\":{\"color\":\"#E5ECF6\",\"width\":0.5},\"pattern\":{\"fillmode\":\"overlay\",\"size\":10,\"solidity\":0.2}},\"type\":\"bar\"}],\"scattergeo\":[{\"type\":\"scattergeo\",\"marker\":{\"colorbar\":{\"outlinewidth\":0,\"ticks\":\"\"}}}],\"scatterpolar\":[{\"type\":\"scatterpolar\",\"marker\":{\"colorbar\":{\"outlinewidth\":0,\"ticks\":\"\"}}}],\"histogram\":[{\"marker\":{\"pattern\":{\"fillmode\":\"overlay\",\"size\":10,\"solidity\":0.2}},\"type\":\"histogram\"}],\"scattergl\":[{\"type\":\"scattergl\",\"marker\":{\"colorbar\":{\"outlinewidth\":0,\"ticks\":\"\"}}}],\"scatter3d\":[{\"type\":\"scatter3d\",\"line\":{\"colorbar\":{\"outlinewidth\":0,\"ticks\":\"\"}},\"marker\":{\"colorbar\":{\"outlinewidth\":0,\"ticks\":\"\"}}}],\"scattermapbox\":[{\"type\":\"scattermapbox\",\"marker\":{\"colorbar\":{\"outlinewidth\":0,\"ticks\":\"\"}}}],\"scatterternary\":[{\"type\":\"scatterternary\",\"marker\":{\"colorbar\":{\"outlinewidth\":0,\"ticks\":\"\"}}}],\"scattercarpet\":[{\"type\":\"scattercarpet\",\"marker\":{\"colorbar\":{\"outlinewidth\":0,\"ticks\":\"\"}}}],\"carpet\":[{\"aaxis\":{\"endlinecolor\":\"#2a3f5f\",\"gridcolor\":\"white\",\"linecolor\":\"white\",\"minorgridcolor\":\"white\",\"startlinecolor\":\"#2a3f5f\"},\"baxis\":{\"endlinecolor\":\"#2a3f5f\",\"gridcolor\":\"white\",\"linecolor\":\"white\",\"minorgridcolor\":\"white\",\"startlinecolor\":\"#2a3f5f\"},\"type\":\"carpet\"}],\"table\":[{\"cells\":{\"fill\":{\"color\":\"#EBF0F8\"},\"line\":{\"color\":\"white\"}},\"header\":{\"fill\":{\"color\":\"#C8D4E3\"},\"line\":{\"color\":\"white\"}},\"type\":\"table\"}],\"barpolar\":[{\"marker\":{\"line\":{\"color\":\"#E5ECF6\",\"width\":0.5},\"pattern\":{\"fillmode\":\"overlay\",\"size\":10,\"solidity\":0.2}},\"type\":\"barpolar\"}],\"pie\":[{\"automargin\":true,\"type\":\"pie\"}]},\"layout\":{\"autotypenumbers\":\"strict\",\"colorway\":[\"#636efa\",\"#EF553B\",\"#00cc96\",\"#ab63fa\",\"#FFA15A\",\"#19d3f3\",\"#FF6692\",\"#B6E880\",\"#FF97FF\",\"#FECB52\"],\"font\":{\"color\":\"#2a3f5f\"},\"hovermode\":\"closest\",\"hoverlabel\":{\"align\":\"left\"},\"paper_bgcolor\":\"white\",\"plot_bgcolor\":\"#E5ECF6\",\"polar\":{\"bgcolor\":\"#E5ECF6\",\"angularaxis\":{\"gridcolor\":\"white\",\"linecolor\":\"white\",\"ticks\":\"\"},\"radialaxis\":{\"gridcolor\":\"white\",\"linecolor\":\"white\",\"ticks\":\"\"}},\"ternary\":{\"bgcolor\":\"#E5ECF6\",\"aaxis\":{\"gridcolor\":\"white\",\"linecolor\":\"white\",\"ticks\":\"\"},\"baxis\":{\"gridcolor\":\"white\",\"linecolor\":\"white\",\"ticks\":\"\"},\"caxis\":{\"gridcolor\":\"white\",\"linecolor\":\"white\",\"ticks\":\"\"}},\"coloraxis\":{\"colorbar\":{\"outlinewidth\":0,\"ticks\":\"\"}},\"colorscale\":{\"sequential\":[[0.0,\"#0d0887\"],[0.1111111111111111,\"#46039f\"],[0.2222222222222222,\"#7201a8\"],[0.3333333333333333,\"#9c179e\"],[0.4444444444444444,\"#bd3786\"],[0.5555555555555556,\"#d8576b\"],[0.6666666666666666,\"#ed7953\"],[0.7777777777777778,\"#fb9f3a\"],[0.8888888888888888,\"#fdca26\"],[1.0,\"#f0f921\"]],\"sequentialminus\":[[0.0,\"#0d0887\"],[0.1111111111111111,\"#46039f\"],[0.2222222222222222,\"#7201a8\"],[0.3333333333333333,\"#9c179e\"],[0.4444444444444444,\"#bd3786\"],[0.5555555555555556,\"#d8576b\"],[0.6666666666666666,\"#ed7953\"],[0.7777777777777778,\"#fb9f3a\"],[0.8888888888888888,\"#fdca26\"],[1.0,\"#f0f921\"]],\"diverging\":[[0,\"#8e0152\"],[0.1,\"#c51b7d\"],[0.2,\"#de77ae\"],[0.3,\"#f1b6da\"],[0.4,\"#fde0ef\"],[0.5,\"#f7f7f7\"],[0.6,\"#e6f5d0\"],[0.7,\"#b8e186\"],[0.8,\"#7fbc41\"],[0.9,\"#4d9221\"],[1,\"#276419\"]]},\"xaxis\":{\"gridcolor\":\"white\",\"linecolor\":\"white\",\"ticks\":\"\",\"title\":{\"standoff\":15},\"zerolinecolor\":\"white\",\"automargin\":true,\"zerolinewidth\":2},\"yaxis\":{\"gridcolor\":\"white\",\"linecolor\":\"white\",\"ticks\":\"\",\"title\":{\"standoff\":15},\"zerolinecolor\":\"white\",\"automargin\":true,\"zerolinewidth\":2},\"scene\":{\"xaxis\":{\"backgroundcolor\":\"#E5ECF6\",\"gridcolor\":\"white\",\"linecolor\":\"white\",\"showbackground\":true,\"ticks\":\"\",\"zerolinecolor\":\"white\",\"gridwidth\":2},\"yaxis\":{\"backgroundcolor\":\"#E5ECF6\",\"gridcolor\":\"white\",\"linecolor\":\"white\",\"showbackground\":true,\"ticks\":\"\",\"zerolinecolor\":\"white\",\"gridwidth\":2},\"zaxis\":{\"backgroundcolor\":\"#E5ECF6\",\"gridcolor\":\"white\",\"linecolor\":\"white\",\"showbackground\":true,\"ticks\":\"\",\"zerolinecolor\":\"white\",\"gridwidth\":2}},\"shapedefaults\":{\"line\":{\"color\":\"#2a3f5f\"}},\"annotationdefaults\":{\"arrowcolor\":\"#2a3f5f\",\"arrowhead\":0,\"arrowwidth\":1},\"geo\":{\"bgcolor\":\"white\",\"landcolor\":\"#E5ECF6\",\"subunitcolor\":\"white\",\"showland\":true,\"showlakes\":true,\"lakecolor\":\"white\"},\"title\":{\"x\":0.05},\"mapbox\":{\"style\":\"light\"}}}},                        {\"responsive\": true}                    ).then(function(){\n",
              "                            \n",
              "var gd = document.getElementById('e919ff79-ff4e-4dc7-b091-f090e8af63bf');\n",
              "var x = new MutationObserver(function (mutations, observer) {{\n",
              "        var display = window.getComputedStyle(gd).display;\n",
              "        if (!display || display === 'none') {{\n",
              "            console.log([gd, 'removed!']);\n",
              "            Plotly.purge(gd);\n",
              "            observer.disconnect();\n",
              "        }}\n",
              "}});\n",
              "\n",
              "// Listen for the removal of the full notebook cells\n",
              "var notebookContainer = gd.closest('#notebook-container');\n",
              "if (notebookContainer) {{\n",
              "    x.observe(notebookContainer, {childList: true});\n",
              "}}\n",
              "\n",
              "// Listen for the clearing of the current output cell\n",
              "var outputEl = gd.closest('.output');\n",
              "if (outputEl) {{\n",
              "    x.observe(outputEl, {childList: true});\n",
              "}}\n",
              "\n",
              "                        })                };                            </script>        </div>\n",
              "</body>\n",
              "</html>"
            ]
          },
          "metadata": {}
        }
      ]
    },
    {
      "cell_type": "markdown",
      "source": [
        "#### XGB"
      ],
      "metadata": {
        "id": "zDCWVQ0FBqM8"
      }
    },
    {
      "cell_type": "code",
      "source": [
        "'''\n",
        "SOURCE: \n",
        "https://practicaldatascience.co.uk/machine-learning/how-to-use-optuna-for-xgboost-hyperparameter-tuning\n",
        "+\n",
        "https://medium.com/optuna/using-optuna-to-optimize-xgboost-hyperparameters-63bfcdfd3407\n",
        "'''\n",
        "\n",
        "# Define the objective function.\n",
        "def objective_xgb(trial):\n",
        "    dtrain = xgb.DMatrix(X_train, label=y_train, enable_categorical=True)\n",
        "    dval = xgb.DMatrix(X_val, label=y_val, enable_categorical=True)\n",
        "\n",
        "    param = {\n",
        "        'max_depth': trial.suggest_int('max_depth', 1, 9),\n",
        "        'learning_rate': trial.suggest_loguniform('learning_rate', 0.01, 1.0),\n",
        "        'n_estimators': trial.suggest_int('n_estimators', 50, 500),\n",
        "        'min_child_weight': trial.suggest_int('min_child_weight', 1, 10),\n",
        "        'gamma': trial.suggest_loguniform('gamma', 1e-8, 1.0),\n",
        "        'subsample': trial.suggest_loguniform('subsample', 0.01, 1.0),\n",
        "        'colsample_bytree': trial.suggest_loguniform('colsample_bytree', 0.01, 1.0),\n",
        "        'reg_alpha': trial.suggest_loguniform('reg_alpha', 1e-8, 1.0),\n",
        "        'reg_lambda': trial.suggest_loguniform('reg_lambda', 1e-8, 1.0),\n",
        "        'eval_metric': 'mlogloss',\n",
        "        'use_label_encoder': False,\n",
        "        'predictor': \"gpu_predictor\",\n",
        "        'eval_metric' : 'auc',\n",
        "        'objective' : 'binary:logistic',\n",
        "        'tree_method': 'gpu_hist',\n",
        "    }\n",
        "\n",
        "    # # Fit the model\n",
        "    # optuna_model = XGBClassifier(**params)\n",
        "    # optuna_model.fit(X_train, y_train)\n",
        "\n",
        "    # # Make predictions\n",
        "    # y_pred = optuna_model.predict(X_val)\n",
        "\n",
        "    # # Evaluate predictions\n",
        "    # accuracy = accuracy_score(y_val, y_pred)\n",
        "    # return accuracy\n",
        "\n",
        "# Add a callback for pruning.\n",
        "    pruning_callback = optuna.integration.XGBoostPruningCallback(trial, \"validation-auc\")\n",
        "    bst = xgb.train(param, dtrain, evals=[(dval, \"validation\")], callbacks=[pruning_callback])\n",
        "    preds = bst.predict(dval)\n",
        "    pred_labels = np.rint(preds)\n",
        "    accuracy = accuracy_score(y_val, pred_labels)\n",
        "    return accuracy\n",
        "\n",
        "\n",
        "\n",
        "'''\n",
        "Create an study for that ML model and optimize it\n",
        "'''\n",
        "study = optuna.create_study(\n",
        "    direction=\"maximize\",\n",
        "    sampler=optuna.samplers.TPESampler(),\n",
        "    pruner=optuna.pruners.MedianPruner(n_warmup_steps=10),\n",
        ") #Set minimize for minimization and maximize for maximization.\n",
        "\n",
        "#To start the optimization, we create a study object and pass the objective function to method\n",
        "study.optimize(objective_xgb, n_trials=100, timeout=600) #add timeout for model not to exceed this time limit\n",
        "\n",
        "\n",
        "# To get the dictionary of parameter name and parameter values:\n",
        "print(f\"Return a dictionary of parameter name and parameter values:\\n{study.best_params}\")\n",
        "\n",
        "# To get the best observed value of the objective function:\n",
        "print(\"Return the best observed value of the objective function:\",study.best_value)\n",
        "\n",
        "# # To get the best trial:\n",
        "# print(\"Return the best trial:\",study.best_trial)\n",
        "\n",
        "# # To get all trials:\n",
        "# print(\"Return all the trials:\", study.trials)\n",
        "\n",
        "# study.trials_dataframe()\n",
        "\n",
        "print(2*'\\n')\n",
        "print(\"Number of finished trials: {}\".format(len(study.trials)))\n",
        "\n",
        "print(\"Best trial:\")\n",
        "trial = study.best_trial\n",
        "\n",
        "print(\"  Value: {}\".format(trial.value))\n",
        "\n",
        "print(\"  Params: \")\n",
        "for key, value in trial.params.items():\n",
        "    print(\"    {}: {}\".format(key, value))"
      ],
      "metadata": {
        "id": "HIV0lPAmBopJ",
        "colab": {
          "base_uri": "https://localhost:8080/"
        },
        "outputId": "0b80dd5e-e8f9-483b-d2ae-8affa7d1db38"
      },
      "execution_count": 42,
      "outputs": [
        {
          "output_type": "stream",
          "name": "stderr",
          "text": [
            "\u001b[32m[I 2023-03-22 21:27:00,689]\u001b[0m A new study created in memory with name: no-name-c0b17af8-a492-4be7-bd68-d155ead51ff9\u001b[0m\n"
          ]
        },
        {
          "output_type": "stream",
          "name": "stdout",
          "text": [
            "A new study created in memory with name: no-name-c0b17af8-a492-4be7-bd68-d155ead51ff9\n",
            "A new study created in memory with name: no-name-c0b17af8-a492-4be7-bd68-d155ead51ff9\n",
            "[21:27:00] WARNING: ../src/learner.cc:767: \n",
            "Parameters: { \"n_estimators\", \"use_label_encoder\" } are not used.\n",
            "\n",
            "[0]\tvalidation-auc:0.54001\n",
            "[1]\tvalidation-auc:0.67349\n",
            "[2]\tvalidation-auc:0.68684\n",
            "[3]\tvalidation-auc:0.68684\n",
            "[4]\tvalidation-auc:0.68684\n",
            "[5]\tvalidation-auc:0.68684\n",
            "[6]\tvalidation-auc:0.68684\n",
            "[7]\tvalidation-auc:0.70154\n",
            "[8]\tvalidation-auc:0.70104\n",
            "[9]\tvalidation-auc:0.70104\n"
          ]
        },
        {
          "output_type": "stream",
          "name": "stderr",
          "text": [
            "\u001b[32m[I 2023-03-22 21:27:00,779]\u001b[0m Trial 0 finished with value: 0.6591257668711656 and parameters: {'max_depth': 8, 'learning_rate': 0.06685236045312329, 'n_estimators': 157, 'min_child_weight': 3, 'gamma': 0.32968448616898477, 'subsample': 0.012374521935946821, 'colsample_bytree': 0.027969507361654912, 'reg_alpha': 0.00017269995528401973, 'reg_lambda': 0.08938488677201757}. Best is trial 0 with value: 0.6591257668711656.\u001b[0m\n"
          ]
        },
        {
          "output_type": "stream",
          "name": "stdout",
          "text": [
            "Trial 0 finished with value: 0.6591257668711656 and parameters: {'max_depth': 8, 'learning_rate': 0.06685236045312329, 'n_estimators': 157, 'min_child_weight': 3, 'gamma': 0.32968448616898477, 'subsample': 0.012374521935946821, 'colsample_bytree': 0.027969507361654912, 'reg_alpha': 0.00017269995528401973, 'reg_lambda': 0.08938488677201757}. Best is trial 0 with value: 0.6591257668711656.\n",
            "Trial 0 finished with value: 0.6591257668711656 and parameters: {'max_depth': 8, 'learning_rate': 0.06685236045312329, 'n_estimators': 157, 'min_child_weight': 3, 'gamma': 0.32968448616898477, 'subsample': 0.012374521935946821, 'colsample_bytree': 0.027969507361654912, 'reg_alpha': 0.00017269995528401973, 'reg_lambda': 0.08938488677201757}. Best is trial 0 with value: 0.6591257668711656.\n",
            "[21:27:00] WARNING: ../src/learner.cc:767: \n",
            "Parameters: { \"n_estimators\", \"use_label_encoder\" } are not used.\n",
            "\n",
            "[0]\tvalidation-auc:0.51336\n",
            "[1]\tvalidation-auc:0.66843\n",
            "[2]\tvalidation-auc:0.68476\n",
            "[3]\tvalidation-auc:0.68476\n",
            "[4]\tvalidation-auc:0.68476\n",
            "[5]\tvalidation-auc:0.68506\n",
            "[6]\tvalidation-auc:0.68506\n",
            "[7]\tvalidation-auc:0.71605\n",
            "[8]\tvalidation-auc:0.71922\n",
            "[9]\tvalidation-auc:0.71922\n"
          ]
        },
        {
          "output_type": "stream",
          "name": "stderr",
          "text": [
            "\u001b[32m[I 2023-03-22 21:27:00,885]\u001b[0m Trial 1 finished with value: 0.6993865030674846 and parameters: {'max_depth': 7, 'learning_rate': 0.12627201187281076, 'n_estimators': 487, 'min_child_weight': 4, 'gamma': 0.6698295866481203, 'subsample': 0.03216172335453417, 'colsample_bytree': 0.039362124894781074, 'reg_alpha': 7.50936867295144e-07, 'reg_lambda': 3.1171484338702446e-08}. Best is trial 1 with value: 0.6993865030674846.\u001b[0m\n"
          ]
        },
        {
          "output_type": "stream",
          "name": "stdout",
          "text": [
            "Trial 1 finished with value: 0.6993865030674846 and parameters: {'max_depth': 7, 'learning_rate': 0.12627201187281076, 'n_estimators': 487, 'min_child_weight': 4, 'gamma': 0.6698295866481203, 'subsample': 0.03216172335453417, 'colsample_bytree': 0.039362124894781074, 'reg_alpha': 7.50936867295144e-07, 'reg_lambda': 3.1171484338702446e-08}. Best is trial 1 with value: 0.6993865030674846.\n",
            "Trial 1 finished with value: 0.6993865030674846 and parameters: {'max_depth': 7, 'learning_rate': 0.12627201187281076, 'n_estimators': 487, 'min_child_weight': 4, 'gamma': 0.6698295866481203, 'subsample': 0.03216172335453417, 'colsample_bytree': 0.039362124894781074, 'reg_alpha': 7.50936867295144e-07, 'reg_lambda': 3.1171484338702446e-08}. Best is trial 1 with value: 0.6993865030674846.\n",
            "[21:27:00] WARNING: ../src/learner.cc:767: \n",
            "Parameters: { \"n_estimators\", \"use_label_encoder\" } are not used.\n",
            "\n",
            "[0]\tvalidation-auc:0.74544\n",
            "[1]\tvalidation-auc:0.77266\n",
            "[2]\tvalidation-auc:0.79812\n",
            "[3]\tvalidation-auc:0.79615\n",
            "[4]\tvalidation-auc:0.80655\n",
            "[5]\tvalidation-auc:0.80898\n",
            "[6]\tvalidation-auc:0.82164\n",
            "[7]\tvalidation-auc:0.82034\n",
            "[8]\tvalidation-auc:0.82910\n",
            "[9]\tvalidation-auc:0.82928\n"
          ]
        },
        {
          "output_type": "stream",
          "name": "stderr",
          "text": [
            "\u001b[32m[I 2023-03-22 21:27:00,978]\u001b[0m Trial 2 finished with value: 0.7549846625766872 and parameters: {'max_depth': 2, 'learning_rate': 0.22146699970652184, 'n_estimators': 333, 'min_child_weight': 9, 'gamma': 4.319610552148543e-05, 'subsample': 0.3310317804527192, 'colsample_bytree': 0.394032792813166, 'reg_alpha': 7.115182533891538e-06, 'reg_lambda': 9.464524701074719e-07}. Best is trial 2 with value: 0.7549846625766872.\u001b[0m\n"
          ]
        },
        {
          "output_type": "stream",
          "name": "stdout",
          "text": [
            "Trial 2 finished with value: 0.7549846625766872 and parameters: {'max_depth': 2, 'learning_rate': 0.22146699970652184, 'n_estimators': 333, 'min_child_weight': 9, 'gamma': 4.319610552148543e-05, 'subsample': 0.3310317804527192, 'colsample_bytree': 0.394032792813166, 'reg_alpha': 7.115182533891538e-06, 'reg_lambda': 9.464524701074719e-07}. Best is trial 2 with value: 0.7549846625766872.\n",
            "Trial 2 finished with value: 0.7549846625766872 and parameters: {'max_depth': 2, 'learning_rate': 0.22146699970652184, 'n_estimators': 333, 'min_child_weight': 9, 'gamma': 4.319610552148543e-05, 'subsample': 0.3310317804527192, 'colsample_bytree': 0.394032792813166, 'reg_alpha': 7.115182533891538e-06, 'reg_lambda': 9.464524701074719e-07}. Best is trial 2 with value: 0.7549846625766872.\n",
            "[21:27:00] WARNING: ../src/learner.cc:767: \n",
            "Parameters: { \"n_estimators\", \"use_label_encoder\" } are not used.\n",
            "\n",
            "[0]\tvalidation-auc:0.51889\n",
            "[1]\tvalidation-auc:0.65465\n",
            "[2]\tvalidation-auc:0.68427\n",
            "[3]\tvalidation-auc:0.68427\n",
            "[4]\tvalidation-auc:0.68460\n",
            "[5]\tvalidation-auc:0.68534\n",
            "[6]\tvalidation-auc:0.68534\n",
            "[7]\tvalidation-auc:0.71557\n",
            "[8]\tvalidation-auc:0.72044\n",
            "[9]\tvalidation-auc:0.72044\n"
          ]
        },
        {
          "output_type": "stream",
          "name": "stderr",
          "text": [
            "\u001b[32m[I 2023-03-22 21:27:01,084]\u001b[0m Trial 3 finished with value: 0.6775306748466258 and parameters: {'max_depth': 7, 'learning_rate': 0.05009196957831469, 'n_estimators': 363, 'min_child_weight': 3, 'gamma': 0.24259368690969796, 'subsample': 0.04736865256892801, 'colsample_bytree': 0.025851103098491222, 'reg_alpha': 0.00014488328379111631, 'reg_lambda': 2.973186942887967e-08}. Best is trial 2 with value: 0.7549846625766872.\u001b[0m\n"
          ]
        },
        {
          "output_type": "stream",
          "name": "stdout",
          "text": [
            "Trial 3 finished with value: 0.6775306748466258 and parameters: {'max_depth': 7, 'learning_rate': 0.05009196957831469, 'n_estimators': 363, 'min_child_weight': 3, 'gamma': 0.24259368690969796, 'subsample': 0.04736865256892801, 'colsample_bytree': 0.025851103098491222, 'reg_alpha': 0.00014488328379111631, 'reg_lambda': 2.973186942887967e-08}. Best is trial 2 with value: 0.7549846625766872.\n",
            "Trial 3 finished with value: 0.6775306748466258 and parameters: {'max_depth': 7, 'learning_rate': 0.05009196957831469, 'n_estimators': 363, 'min_child_weight': 3, 'gamma': 0.24259368690969796, 'subsample': 0.04736865256892801, 'colsample_bytree': 0.025851103098491222, 'reg_alpha': 0.00014488328379111631, 'reg_lambda': 2.973186942887967e-08}. Best is trial 2 with value: 0.7549846625766872.\n",
            "[21:27:01] WARNING: ../src/learner.cc:767: \n",
            "Parameters: { \"n_estimators\", \"use_label_encoder\" } are not used.\n",
            "\n",
            "[0]\tvalidation-auc:0.55679\n",
            "[1]\tvalidation-auc:0.69643\n",
            "[2]\tvalidation-auc:0.72926\n",
            "[3]\tvalidation-auc:0.72934\n",
            "[4]\tvalidation-auc:0.72975\n",
            "[5]\tvalidation-auc:0.72900\n",
            "[6]\tvalidation-auc:0.72882\n",
            "[7]\tvalidation-auc:0.74661\n",
            "[8]\tvalidation-auc:0.74753\n",
            "[9]\tvalidation-auc:0.74727\n"
          ]
        },
        {
          "output_type": "stream",
          "name": "stderr",
          "text": [
            "\u001b[32m[I 2023-03-22 21:27:01,192]\u001b[0m Trial 4 finished with value: 0.709739263803681 and parameters: {'max_depth': 3, 'learning_rate': 0.28405099179328935, 'n_estimators': 385, 'min_child_weight': 5, 'gamma': 9.647840735586601e-08, 'subsample': 0.5805631152845213, 'colsample_bytree': 0.01833260605669282, 'reg_alpha': 0.14141259550160906, 'reg_lambda': 2.639876714789051e-07}. Best is trial 2 with value: 0.7549846625766872.\u001b[0m\n"
          ]
        },
        {
          "output_type": "stream",
          "name": "stdout",
          "text": [
            "Trial 4 finished with value: 0.709739263803681 and parameters: {'max_depth': 3, 'learning_rate': 0.28405099179328935, 'n_estimators': 385, 'min_child_weight': 5, 'gamma': 9.647840735586601e-08, 'subsample': 0.5805631152845213, 'colsample_bytree': 0.01833260605669282, 'reg_alpha': 0.14141259550160906, 'reg_lambda': 2.639876714789051e-07}. Best is trial 2 with value: 0.7549846625766872.\n",
            "Trial 4 finished with value: 0.709739263803681 and parameters: {'max_depth': 3, 'learning_rate': 0.28405099179328935, 'n_estimators': 385, 'min_child_weight': 5, 'gamma': 9.647840735586601e-08, 'subsample': 0.5805631152845213, 'colsample_bytree': 0.01833260605669282, 'reg_alpha': 0.14141259550160906, 'reg_lambda': 2.639876714789051e-07}. Best is trial 2 with value: 0.7549846625766872.\n",
            "[21:27:01] WARNING: ../src/learner.cc:767: \n",
            "Parameters: { \"n_estimators\", \"use_label_encoder\" } are not used.\n",
            "\n",
            "[0]\tvalidation-auc:0.53499\n",
            "[1]\tvalidation-auc:0.68308\n",
            "[2]\tvalidation-auc:0.70515\n",
            "[3]\tvalidation-auc:0.70515\n",
            "[4]\tvalidation-auc:0.70565\n",
            "[5]\tvalidation-auc:0.70565\n",
            "[6]\tvalidation-auc:0.70565\n",
            "[7]\tvalidation-auc:0.72887\n",
            "[8]\tvalidation-auc:0.72607\n",
            "[9]\tvalidation-auc:0.72607\n"
          ]
        },
        {
          "output_type": "stream",
          "name": "stderr",
          "text": [
            "\u001b[32m[I 2023-03-22 21:27:01,290]\u001b[0m Trial 5 finished with value: 0.6997699386503068 and parameters: {'max_depth': 8, 'learning_rate': 0.02596546583824143, 'n_estimators': 80, 'min_child_weight': 5, 'gamma': 0.033407395954273375, 'subsample': 0.027879844121901944, 'colsample_bytree': 0.017124933041963872, 'reg_alpha': 7.0505219124401915e-06, 'reg_lambda': 0.06018074981936422}. Best is trial 2 with value: 0.7549846625766872.\u001b[0m\n"
          ]
        },
        {
          "output_type": "stream",
          "name": "stdout",
          "text": [
            "Trial 5 finished with value: 0.6997699386503068 and parameters: {'max_depth': 8, 'learning_rate': 0.02596546583824143, 'n_estimators': 80, 'min_child_weight': 5, 'gamma': 0.033407395954273375, 'subsample': 0.027879844121901944, 'colsample_bytree': 0.017124933041963872, 'reg_alpha': 7.0505219124401915e-06, 'reg_lambda': 0.06018074981936422}. Best is trial 2 with value: 0.7549846625766872.\n",
            "Trial 5 finished with value: 0.6997699386503068 and parameters: {'max_depth': 8, 'learning_rate': 0.02596546583824143, 'n_estimators': 80, 'min_child_weight': 5, 'gamma': 0.033407395954273375, 'subsample': 0.027879844121901944, 'colsample_bytree': 0.017124933041963872, 'reg_alpha': 7.0505219124401915e-06, 'reg_lambda': 0.06018074981936422}. Best is trial 2 with value: 0.7549846625766872.\n",
            "[21:27:01] WARNING: ../src/learner.cc:767: \n",
            "Parameters: { \"n_estimators\", \"use_label_encoder\" } are not used.\n",
            "\n",
            "[0]\tvalidation-auc:0.54236\n",
            "[1]\tvalidation-auc:0.67443\n",
            "[2]\tvalidation-auc:0.69926\n",
            "[3]\tvalidation-auc:0.69926\n",
            "[4]\tvalidation-auc:0.69926\n",
            "[5]\tvalidation-auc:0.69926\n",
            "[6]\tvalidation-auc:0.69926\n",
            "[7]\tvalidation-auc:0.69926\n",
            "[8]\tvalidation-auc:0.71032\n",
            "[9]\tvalidation-auc:0.71032\n"
          ]
        },
        {
          "output_type": "stream",
          "name": "stderr",
          "text": [
            "\u001b[32m[I 2023-03-22 21:27:01,380]\u001b[0m Trial 6 finished with value: 0.6890337423312883 and parameters: {'max_depth': 1, 'learning_rate': 0.08012362485051103, 'n_estimators': 246, 'min_child_weight': 3, 'gamma': 0.009438084426393887, 'subsample': 0.011857471672808926, 'colsample_bytree': 0.011811178504593066, 'reg_alpha': 9.28951109111176e-07, 'reg_lambda': 0.004177082788404457}. Best is trial 2 with value: 0.7549846625766872.\u001b[0m\n"
          ]
        },
        {
          "output_type": "stream",
          "name": "stdout",
          "text": [
            "Trial 6 finished with value: 0.6890337423312883 and parameters: {'max_depth': 1, 'learning_rate': 0.08012362485051103, 'n_estimators': 246, 'min_child_weight': 3, 'gamma': 0.009438084426393887, 'subsample': 0.011857471672808926, 'colsample_bytree': 0.011811178504593066, 'reg_alpha': 9.28951109111176e-07, 'reg_lambda': 0.004177082788404457}. Best is trial 2 with value: 0.7549846625766872.\n",
            "Trial 6 finished with value: 0.6890337423312883 and parameters: {'max_depth': 1, 'learning_rate': 0.08012362485051103, 'n_estimators': 246, 'min_child_weight': 3, 'gamma': 0.009438084426393887, 'subsample': 0.011857471672808926, 'colsample_bytree': 0.011811178504593066, 'reg_alpha': 9.28951109111176e-07, 'reg_lambda': 0.004177082788404457}. Best is trial 2 with value: 0.7549846625766872.\n",
            "[21:27:01] WARNING: ../src/learner.cc:767: \n",
            "Parameters: { \"n_estimators\", \"use_label_encoder\" } are not used.\n",
            "\n",
            "[0]\tvalidation-auc:0.54912\n",
            "[1]\tvalidation-auc:0.69060\n",
            "[2]\tvalidation-auc:0.72532\n",
            "[3]\tvalidation-auc:0.72532\n",
            "[4]\tvalidation-auc:0.72538\n",
            "[5]\tvalidation-auc:0.72519\n",
            "[6]\tvalidation-auc:0.72519\n",
            "[7]\tvalidation-auc:0.74543\n",
            "[8]\tvalidation-auc:0.74541\n",
            "[9]\tvalidation-auc:0.74541\n"
          ]
        },
        {
          "output_type": "stream",
          "name": "stderr",
          "text": [
            "\u001b[32m[I 2023-03-22 21:27:01,494]\u001b[0m Trial 7 finished with value: 0.7039877300613497 and parameters: {'max_depth': 5, 'learning_rate': 0.02836227899745369, 'n_estimators': 374, 'min_child_weight': 8, 'gamma': 3.5833522705837434e-08, 'subsample': 0.6034970185240192, 'colsample_bytree': 0.014508906321084508, 'reg_alpha': 0.003120919862441261, 'reg_lambda': 0.122338166677119}. Best is trial 2 with value: 0.7549846625766872.\u001b[0m\n"
          ]
        },
        {
          "output_type": "stream",
          "name": "stdout",
          "text": [
            "Trial 7 finished with value: 0.7039877300613497 and parameters: {'max_depth': 5, 'learning_rate': 0.02836227899745369, 'n_estimators': 374, 'min_child_weight': 8, 'gamma': 3.5833522705837434e-08, 'subsample': 0.6034970185240192, 'colsample_bytree': 0.014508906321084508, 'reg_alpha': 0.003120919862441261, 'reg_lambda': 0.122338166677119}. Best is trial 2 with value: 0.7549846625766872.\n",
            "Trial 7 finished with value: 0.7039877300613497 and parameters: {'max_depth': 5, 'learning_rate': 0.02836227899745369, 'n_estimators': 374, 'min_child_weight': 8, 'gamma': 3.5833522705837434e-08, 'subsample': 0.6034970185240192, 'colsample_bytree': 0.014508906321084508, 'reg_alpha': 0.003120919862441261, 'reg_lambda': 0.122338166677119}. Best is trial 2 with value: 0.7549846625766872.\n",
            "[21:27:01] WARNING: ../src/learner.cc:767: \n",
            "Parameters: { \"n_estimators\", \"use_label_encoder\" } are not used.\n",
            "\n",
            "[0]\tvalidation-auc:0.53968\n",
            "[1]\tvalidation-auc:0.68268\n",
            "[2]\tvalidation-auc:0.71824\n",
            "[3]\tvalidation-auc:0.71824\n",
            "[4]\tvalidation-auc:0.71806\n",
            "[5]\tvalidation-auc:0.71808\n",
            "[6]\tvalidation-auc:0.71808\n",
            "[7]\tvalidation-auc:0.73115\n",
            "[8]\tvalidation-auc:0.73211\n",
            "[9]\tvalidation-auc:0.73211\n"
          ]
        },
        {
          "output_type": "stream",
          "name": "stderr",
          "text": [
            "\u001b[32m[I 2023-03-22 21:27:01,605]\u001b[0m Trial 8 finished with value: 0.6978527607361963 and parameters: {'max_depth': 7, 'learning_rate': 0.938301540056932, 'n_estimators': 226, 'min_child_weight': 8, 'gamma': 0.004761641186845521, 'subsample': 0.15273103564367563, 'colsample_bytree': 0.046947547030343796, 'reg_alpha': 0.10610827581679377, 'reg_lambda': 0.0016747641167889021}. Best is trial 2 with value: 0.7549846625766872.\u001b[0m\n"
          ]
        },
        {
          "output_type": "stream",
          "name": "stdout",
          "text": [
            "Trial 8 finished with value: 0.6978527607361963 and parameters: {'max_depth': 7, 'learning_rate': 0.938301540056932, 'n_estimators': 226, 'min_child_weight': 8, 'gamma': 0.004761641186845521, 'subsample': 0.15273103564367563, 'colsample_bytree': 0.046947547030343796, 'reg_alpha': 0.10610827581679377, 'reg_lambda': 0.0016747641167889021}. Best is trial 2 with value: 0.7549846625766872.\n",
            "Trial 8 finished with value: 0.6978527607361963 and parameters: {'max_depth': 7, 'learning_rate': 0.938301540056932, 'n_estimators': 226, 'min_child_weight': 8, 'gamma': 0.004761641186845521, 'subsample': 0.15273103564367563, 'colsample_bytree': 0.046947547030343796, 'reg_alpha': 0.10610827581679377, 'reg_lambda': 0.0016747641167889021}. Best is trial 2 with value: 0.7549846625766872.\n",
            "[21:27:01] WARNING: ../src/learner.cc:767: \n",
            "Parameters: { \"n_estimators\", \"use_label_encoder\" } are not used.\n",
            "\n",
            "[0]\tvalidation-auc:0.50467\n",
            "[1]\tvalidation-auc:0.62112\n",
            "[2]\tvalidation-auc:0.65579\n",
            "[3]\tvalidation-auc:0.65579\n",
            "[4]\tvalidation-auc:0.65624\n",
            "[5]\tvalidation-auc:0.65580\n",
            "[6]\tvalidation-auc:0.65580\n",
            "[7]\tvalidation-auc:0.66815\n",
            "[8]\tvalidation-auc:0.69551\n",
            "[9]\tvalidation-auc:0.69551\n"
          ]
        },
        {
          "output_type": "stream",
          "name": "stderr",
          "text": [
            "\u001b[32m[I 2023-03-22 21:27:01,703]\u001b[0m Trial 9 finished with value: 0.6687116564417178 and parameters: {'max_depth': 9, 'learning_rate': 0.38820163525345774, 'n_estimators': 238, 'min_child_weight': 1, 'gamma': 6.205898466482404e-06, 'subsample': 0.011645091291347628, 'colsample_bytree': 0.10338328121660324, 'reg_alpha': 2.5716733569750743e-05, 'reg_lambda': 3.4897982576678933e-07}. Best is trial 2 with value: 0.7549846625766872.\u001b[0m\n"
          ]
        },
        {
          "output_type": "stream",
          "name": "stdout",
          "text": [
            "Trial 9 finished with value: 0.6687116564417178 and parameters: {'max_depth': 9, 'learning_rate': 0.38820163525345774, 'n_estimators': 238, 'min_child_weight': 1, 'gamma': 6.205898466482404e-06, 'subsample': 0.011645091291347628, 'colsample_bytree': 0.10338328121660324, 'reg_alpha': 2.5716733569750743e-05, 'reg_lambda': 3.4897982576678933e-07}. Best is trial 2 with value: 0.7549846625766872.\n",
            "Trial 9 finished with value: 0.6687116564417178 and parameters: {'max_depth': 9, 'learning_rate': 0.38820163525345774, 'n_estimators': 238, 'min_child_weight': 1, 'gamma': 6.205898466482404e-06, 'subsample': 0.011645091291347628, 'colsample_bytree': 0.10338328121660324, 'reg_alpha': 2.5716733569750743e-05, 'reg_lambda': 3.4897982576678933e-07}. Best is trial 2 with value: 0.7549846625766872.\n",
            "[21:27:01] WARNING: ../src/learner.cc:767: \n",
            "Parameters: { \"n_estimators\", \"use_label_encoder\" } are not used.\n",
            "\n",
            "[0]\tvalidation-auc:0.71910\n",
            "[1]\tvalidation-auc:0.72509\n",
            "[2]\tvalidation-auc:0.74653\n",
            "[3]\tvalidation-auc:0.77643\n",
            "[4]\tvalidation-auc:0.78858\n",
            "[5]\tvalidation-auc:0.78112\n",
            "[6]\tvalidation-auc:0.78112\n",
            "[7]\tvalidation-auc:0.78872\n",
            "[8]\tvalidation-auc:0.78664\n",
            "[9]\tvalidation-auc:0.79115\n"
          ]
        },
        {
          "output_type": "stream",
          "name": "stderr",
          "text": [
            "\u001b[32m[I 2023-03-22 21:27:01,832]\u001b[0m Trial 10 finished with value: 0.7427147239263804 and parameters: {'max_depth': 1, 'learning_rate': 0.011058540564241071, 'n_estimators': 497, 'min_child_weight': 10, 'gamma': 7.339931144197596e-05, 'subsample': 0.2094961971297968, 'colsample_bytree': 0.5277908449448871, 'reg_alpha': 2.5602311696559863e-08, 'reg_lambda': 1.1898390619329873e-05}. Best is trial 2 with value: 0.7549846625766872.\u001b[0m\n"
          ]
        },
        {
          "output_type": "stream",
          "name": "stdout",
          "text": [
            "Trial 10 finished with value: 0.7427147239263804 and parameters: {'max_depth': 1, 'learning_rate': 0.011058540564241071, 'n_estimators': 497, 'min_child_weight': 10, 'gamma': 7.339931144197596e-05, 'subsample': 0.2094961971297968, 'colsample_bytree': 0.5277908449448871, 'reg_alpha': 2.5602311696559863e-08, 'reg_lambda': 1.1898390619329873e-05}. Best is trial 2 with value: 0.7549846625766872.\n",
            "Trial 10 finished with value: 0.7427147239263804 and parameters: {'max_depth': 1, 'learning_rate': 0.011058540564241071, 'n_estimators': 497, 'min_child_weight': 10, 'gamma': 7.339931144197596e-05, 'subsample': 0.2094961971297968, 'colsample_bytree': 0.5277908449448871, 'reg_alpha': 2.5602311696559863e-08, 'reg_lambda': 1.1898390619329873e-05}. Best is trial 2 with value: 0.7549846625766872.\n",
            "[21:27:01] WARNING: ../src/learner.cc:767: \n",
            "Parameters: { \"n_estimators\", \"use_label_encoder\" } are not used.\n",
            "\n",
            "[0]\tvalidation-auc:0.71910\n",
            "[1]\tvalidation-auc:0.71910\n",
            "[2]\tvalidation-auc:0.74498\n",
            "[3]\tvalidation-auc:0.77736\n",
            "[4]\tvalidation-auc:0.79059\n",
            "[5]\tvalidation-auc:0.78185\n",
            "[6]\tvalidation-auc:0.78185\n",
            "[7]\tvalidation-auc:0.78959\n",
            "[8]\tvalidation-auc:0.78707\n",
            "[9]\tvalidation-auc:0.78726\n"
          ]
        },
        {
          "output_type": "stream",
          "name": "stderr",
          "text": [
            "\u001b[32m[I 2023-03-22 21:27:01,956]\u001b[0m Trial 11 finished with value: 0.7442484662576687 and parameters: {'max_depth': 1, 'learning_rate': 0.011686681896942374, 'n_estimators': 489, 'min_child_weight': 10, 'gamma': 0.00014491093578658285, 'subsample': 0.22243821807394595, 'colsample_bytree': 0.5568209117871517, 'reg_alpha': 6.078829727556062e-08, 'reg_lambda': 1.9170092093070187e-05}. Best is trial 2 with value: 0.7549846625766872.\u001b[0m\n"
          ]
        },
        {
          "output_type": "stream",
          "name": "stdout",
          "text": [
            "Trial 11 finished with value: 0.7442484662576687 and parameters: {'max_depth': 1, 'learning_rate': 0.011686681896942374, 'n_estimators': 489, 'min_child_weight': 10, 'gamma': 0.00014491093578658285, 'subsample': 0.22243821807394595, 'colsample_bytree': 0.5568209117871517, 'reg_alpha': 6.078829727556062e-08, 'reg_lambda': 1.9170092093070187e-05}. Best is trial 2 with value: 0.7549846625766872.\n",
            "Trial 11 finished with value: 0.7442484662576687 and parameters: {'max_depth': 1, 'learning_rate': 0.011686681896942374, 'n_estimators': 489, 'min_child_weight': 10, 'gamma': 0.00014491093578658285, 'subsample': 0.22243821807394595, 'colsample_bytree': 0.5568209117871517, 'reg_alpha': 6.078829727556062e-08, 'reg_lambda': 1.9170092093070187e-05}. Best is trial 2 with value: 0.7549846625766872.\n",
            "[21:27:02] WARNING: ../src/learner.cc:767: \n",
            "Parameters: { \"n_estimators\", \"use_label_encoder\" } are not used.\n",
            "\n",
            "[0]\tvalidation-auc:0.76672\n",
            "[1]\tvalidation-auc:0.79472\n",
            "[2]\tvalidation-auc:0.81310\n",
            "[3]\tvalidation-auc:0.82711\n",
            "[4]\tvalidation-auc:0.83162\n",
            "[5]\tvalidation-auc:0.83187\n",
            "[6]\tvalidation-auc:0.83388\n",
            "[7]\tvalidation-auc:0.83674\n",
            "[8]\tvalidation-auc:0.83875\n",
            "[9]\tvalidation-auc:0.83805\n"
          ]
        },
        {
          "output_type": "stream",
          "name": "stderr",
          "text": [
            "\u001b[32m[I 2023-03-22 21:27:02,121]\u001b[0m Trial 12 finished with value: 0.7638036809815951 and parameters: {'max_depth': 3, 'learning_rate': 0.011740499877618405, 'n_estimators': 423, 'min_child_weight': 10, 'gamma': 0.0001741482835904033, 'subsample': 0.27624197844365345, 'colsample_bytree': 0.6759330829031583, 'reg_alpha': 1.1699786197594078e-08, 'reg_lambda': 2.628497243901726e-05}. Best is trial 12 with value: 0.7638036809815951.\u001b[0m\n"
          ]
        },
        {
          "output_type": "stream",
          "name": "stdout",
          "text": [
            "Trial 12 finished with value: 0.7638036809815951 and parameters: {'max_depth': 3, 'learning_rate': 0.011740499877618405, 'n_estimators': 423, 'min_child_weight': 10, 'gamma': 0.0001741482835904033, 'subsample': 0.27624197844365345, 'colsample_bytree': 0.6759330829031583, 'reg_alpha': 1.1699786197594078e-08, 'reg_lambda': 2.628497243901726e-05}. Best is trial 12 with value: 0.7638036809815951.\n",
            "Trial 12 finished with value: 0.7638036809815951 and parameters: {'max_depth': 3, 'learning_rate': 0.011740499877618405, 'n_estimators': 423, 'min_child_weight': 10, 'gamma': 0.0001741482835904033, 'subsample': 0.27624197844365345, 'colsample_bytree': 0.6759330829031583, 'reg_alpha': 1.1699786197594078e-08, 'reg_lambda': 2.628497243901726e-05}. Best is trial 12 with value: 0.7638036809815951.\n",
            "[21:27:02] WARNING: ../src/learner.cc:767: \n",
            "Parameters: { \"n_estimators\", \"use_label_encoder\" } are not used.\n",
            "\n",
            "[0]\tvalidation-auc:0.79962\n",
            "[1]\tvalidation-auc:0.80476\n",
            "[2]\tvalidation-auc:0.82579\n",
            "[3]\tvalidation-auc:0.83526\n",
            "[4]\tvalidation-auc:0.83872\n",
            "[5]\tvalidation-auc:0.84007\n",
            "[6]\tvalidation-auc:0.84369\n",
            "[7]\tvalidation-auc:0.84528\n",
            "[8]\tvalidation-auc:0.84546\n",
            "[9]\tvalidation-auc:0.84792\n"
          ]
        },
        {
          "output_type": "stream",
          "name": "stderr",
          "text": [
            "\u001b[32m[I 2023-03-22 21:27:02,275]\u001b[0m Trial 13 finished with value: 0.7776073619631901 and parameters: {'max_depth': 3, 'learning_rate': 0.15186192248699917, 'n_estimators': 328, 'min_child_weight': 8, 'gamma': 0.00036012863858863816, 'subsample': 0.351439360662681, 'colsample_bytree': 0.9099961224793297, 'reg_alpha': 4.088362586068851e-08, 'reg_lambda': 6.66739536920423e-05}. Best is trial 13 with value: 0.7776073619631901.\u001b[0m\n"
          ]
        },
        {
          "output_type": "stream",
          "name": "stdout",
          "text": [
            "Trial 13 finished with value: 0.7776073619631901 and parameters: {'max_depth': 3, 'learning_rate': 0.15186192248699917, 'n_estimators': 328, 'min_child_weight': 8, 'gamma': 0.00036012863858863816, 'subsample': 0.351439360662681, 'colsample_bytree': 0.9099961224793297, 'reg_alpha': 4.088362586068851e-08, 'reg_lambda': 6.66739536920423e-05}. Best is trial 13 with value: 0.7776073619631901.\n",
            "Trial 13 finished with value: 0.7776073619631901 and parameters: {'max_depth': 3, 'learning_rate': 0.15186192248699917, 'n_estimators': 328, 'min_child_weight': 8, 'gamma': 0.00036012863858863816, 'subsample': 0.351439360662681, 'colsample_bytree': 0.9099961224793297, 'reg_alpha': 4.088362586068851e-08, 'reg_lambda': 6.66739536920423e-05}. Best is trial 13 with value: 0.7776073619631901.\n",
            "[21:27:02] WARNING: ../src/learner.cc:767: \n",
            "Parameters: { \"n_estimators\", \"use_label_encoder\" } are not used.\n",
            "\n",
            "[0]\tvalidation-auc:0.81659\n",
            "[1]\tvalidation-auc:0.82978\n",
            "[2]\tvalidation-auc:0.83045\n",
            "[3]\tvalidation-auc:0.83279\n",
            "[4]\tvalidation-auc:0.83705\n",
            "[5]\tvalidation-auc:0.83973\n",
            "[6]\tvalidation-auc:0.84127\n",
            "[7]\tvalidation-auc:0.84562\n",
            "[8]\tvalidation-auc:0.84736\n",
            "[9]\tvalidation-auc:0.84841\n"
          ]
        },
        {
          "output_type": "stream",
          "name": "stderr",
          "text": [
            "\u001b[32m[I 2023-03-22 21:27:02,446]\u001b[0m Trial 14 finished with value: 0.7833588957055214 and parameters: {'max_depth': 4, 'learning_rate': 0.15422695393257538, 'n_estimators': 314, 'min_child_weight': 7, 'gamma': 0.0010358054833152915, 'subsample': 0.11437478047167202, 'colsample_bytree': 0.9514401390381237, 'reg_alpha': 1.9708412713770884e-08, 'reg_lambda': 0.0003422031994241749}. Best is trial 14 with value: 0.7833588957055214.\u001b[0m\n"
          ]
        },
        {
          "output_type": "stream",
          "name": "stdout",
          "text": [
            "Trial 14 finished with value: 0.7833588957055214 and parameters: {'max_depth': 4, 'learning_rate': 0.15422695393257538, 'n_estimators': 314, 'min_child_weight': 7, 'gamma': 0.0010358054833152915, 'subsample': 0.11437478047167202, 'colsample_bytree': 0.9514401390381237, 'reg_alpha': 1.9708412713770884e-08, 'reg_lambda': 0.0003422031994241749}. Best is trial 14 with value: 0.7833588957055214.\n",
            "Trial 14 finished with value: 0.7833588957055214 and parameters: {'max_depth': 4, 'learning_rate': 0.15422695393257538, 'n_estimators': 314, 'min_child_weight': 7, 'gamma': 0.0010358054833152915, 'subsample': 0.11437478047167202, 'colsample_bytree': 0.9514401390381237, 'reg_alpha': 1.9708412713770884e-08, 'reg_lambda': 0.0003422031994241749}. Best is trial 14 with value: 0.7833588957055214.\n",
            "[21:27:02] WARNING: ../src/learner.cc:767: \n",
            "Parameters: { \"n_estimators\", \"use_label_encoder\" } are not used.\n",
            "\n",
            "[0]\tvalidation-auc:0.81950\n",
            "[1]\tvalidation-auc:0.83078\n",
            "[2]\tvalidation-auc:0.83762\n",
            "[3]\tvalidation-auc:0.83730\n",
            "[4]\tvalidation-auc:0.84077\n",
            "[5]\tvalidation-auc:0.84172\n",
            "[6]\tvalidation-auc:0.84149\n",
            "[7]\tvalidation-auc:0.84346\n",
            "[8]\tvalidation-auc:0.84556\n",
            "[9]\tvalidation-auc:0.84542\n"
          ]
        },
        {
          "output_type": "stream",
          "name": "stderr",
          "text": [
            "\u001b[32m[I 2023-03-22 21:27:02,626]\u001b[0m Trial 15 finished with value: 0.7745398773006135 and parameters: {'max_depth': 5, 'learning_rate': 0.14469714733909064, 'n_estimators': 302, 'min_child_weight': 7, 'gamma': 0.001227939465009083, 'subsample': 0.0968943910839748, 'colsample_bytree': 0.9505985564470751, 'reg_alpha': 1.3455600512949484e-07, 'reg_lambda': 0.00037878176461538947}. Best is trial 14 with value: 0.7833588957055214.\u001b[0m\n"
          ]
        },
        {
          "output_type": "stream",
          "name": "stdout",
          "text": [
            "Trial 15 finished with value: 0.7745398773006135 and parameters: {'max_depth': 5, 'learning_rate': 0.14469714733909064, 'n_estimators': 302, 'min_child_weight': 7, 'gamma': 0.001227939465009083, 'subsample': 0.0968943910839748, 'colsample_bytree': 0.9505985564470751, 'reg_alpha': 1.3455600512949484e-07, 'reg_lambda': 0.00037878176461538947}. Best is trial 14 with value: 0.7833588957055214.\n",
            "Trial 15 finished with value: 0.7745398773006135 and parameters: {'max_depth': 5, 'learning_rate': 0.14469714733909064, 'n_estimators': 302, 'min_child_weight': 7, 'gamma': 0.001227939465009083, 'subsample': 0.0968943910839748, 'colsample_bytree': 0.9505985564470751, 'reg_alpha': 1.3455600512949484e-07, 'reg_lambda': 0.00037878176461538947}. Best is trial 14 with value: 0.7833588957055214.\n",
            "[21:27:02] WARNING: ../src/learner.cc:767: \n",
            "Parameters: { \"n_estimators\", \"use_label_encoder\" } are not used.\n",
            "\n",
            "[0]\tvalidation-auc:0.75168\n",
            "[1]\tvalidation-auc:0.78921\n",
            "[2]\tvalidation-auc:0.80718\n",
            "[3]\tvalidation-auc:0.79879\n",
            "[4]\tvalidation-auc:0.80344\n",
            "[5]\tvalidation-auc:0.80592\n",
            "[6]\tvalidation-auc:0.81017\n",
            "[7]\tvalidation-auc:0.81119\n",
            "[8]\tvalidation-auc:0.81885\n",
            "[9]\tvalidation-auc:0.82097\n"
          ]
        },
        {
          "output_type": "stream",
          "name": "stderr",
          "text": [
            "\u001b[32m[I 2023-03-22 21:27:02,794]\u001b[0m Trial 16 finished with value: 0.7618865030674846 and parameters: {'max_depth': 4, 'learning_rate': 0.1706938249450411, 'n_estimators': 290, 'min_child_weight': 7, 'gamma': 0.001130135147757246, 'subsample': 0.9228670778943042, 'colsample_bytree': 0.2750476860527237, 'reg_alpha': 2.2123331556441306e-07, 'reg_lambda': 0.0001715870592019122}. Best is trial 14 with value: 0.7833588957055214.\u001b[0m\n"
          ]
        },
        {
          "output_type": "stream",
          "name": "stdout",
          "text": [
            "Trial 16 finished with value: 0.7618865030674846 and parameters: {'max_depth': 4, 'learning_rate': 0.1706938249450411, 'n_estimators': 290, 'min_child_weight': 7, 'gamma': 0.001130135147757246, 'subsample': 0.9228670778943042, 'colsample_bytree': 0.2750476860527237, 'reg_alpha': 2.2123331556441306e-07, 'reg_lambda': 0.0001715870592019122}. Best is trial 14 with value: 0.7833588957055214.\n",
            "Trial 16 finished with value: 0.7618865030674846 and parameters: {'max_depth': 4, 'learning_rate': 0.1706938249450411, 'n_estimators': 290, 'min_child_weight': 7, 'gamma': 0.001130135147757246, 'subsample': 0.9228670778943042, 'colsample_bytree': 0.2750476860527237, 'reg_alpha': 2.2123331556441306e-07, 'reg_lambda': 0.0001715870592019122}. Best is trial 14 with value: 0.7833588957055214.\n",
            "[21:27:02] WARNING: ../src/learner.cc:767: \n",
            "Parameters: { \"n_estimators\", \"use_label_encoder\" } are not used.\n",
            "\n",
            "[0]\tvalidation-auc:0.81533\n",
            "[1]\tvalidation-auc:0.83017\n",
            "[2]\tvalidation-auc:0.83418\n",
            "[3]\tvalidation-auc:0.83531\n",
            "[4]\tvalidation-auc:0.84101\n",
            "[5]\tvalidation-auc:0.84296\n",
            "[6]\tvalidation-auc:0.84238\n",
            "[7]\tvalidation-auc:0.84456\n",
            "[8]\tvalidation-auc:0.84597\n",
            "[9]\tvalidation-auc:0.84775\n"
          ]
        },
        {
          "output_type": "stream",
          "name": "stderr",
          "text": [
            "\u001b[32m[I 2023-03-22 21:27:02,970]\u001b[0m Trial 17 finished with value: 0.7787576687116564 and parameters: {'max_depth': 4, 'learning_rate': 0.1130462620865906, 'n_estimators': 171, 'min_child_weight': 7, 'gamma': 2.195031236371604e-06, 'subsample': 0.1014702625912765, 'colsample_bytree': 0.9602518513403812, 'reg_alpha': 1.2412534626153855e-08, 'reg_lambda': 0.004021919750155247}. Best is trial 14 with value: 0.7833588957055214.\u001b[0m\n"
          ]
        },
        {
          "output_type": "stream",
          "name": "stdout",
          "text": [
            "Trial 17 finished with value: 0.7787576687116564 and parameters: {'max_depth': 4, 'learning_rate': 0.1130462620865906, 'n_estimators': 171, 'min_child_weight': 7, 'gamma': 2.195031236371604e-06, 'subsample': 0.1014702625912765, 'colsample_bytree': 0.9602518513403812, 'reg_alpha': 1.2412534626153855e-08, 'reg_lambda': 0.004021919750155247}. Best is trial 14 with value: 0.7833588957055214.\n",
            "Trial 17 finished with value: 0.7787576687116564 and parameters: {'max_depth': 4, 'learning_rate': 0.1130462620865906, 'n_estimators': 171, 'min_child_weight': 7, 'gamma': 2.195031236371604e-06, 'subsample': 0.1014702625912765, 'colsample_bytree': 0.9602518513403812, 'reg_alpha': 1.2412534626153855e-08, 'reg_lambda': 0.004021919750155247}. Best is trial 14 with value: 0.7833588957055214.\n",
            "[21:27:03] WARNING: ../src/learner.cc:767: \n",
            "Parameters: { \"n_estimators\", \"use_label_encoder\" } are not used.\n",
            "\n",
            "[0]\tvalidation-auc:0.75591\n",
            "[1]\tvalidation-auc:0.78455\n",
            "[2]\tvalidation-auc:0.79802\n",
            "[3]\tvalidation-auc:0.79236\n",
            "[4]\tvalidation-auc:0.79533\n",
            "[5]\tvalidation-auc:0.79753\n",
            "[6]\tvalidation-auc:0.80211\n",
            "[7]\tvalidation-auc:0.80302\n",
            "[8]\tvalidation-auc:0.80760\n",
            "[9]\tvalidation-auc:0.80990\n"
          ]
        },
        {
          "output_type": "stream",
          "name": "stderr",
          "text": [
            "\u001b[32m[I 2023-03-22 21:27:03,131]\u001b[0m Trial 18 finished with value: 0.7557515337423313 and parameters: {'max_depth': 4, 'learning_rate': 0.09203581337079089, 'n_estimators': 165, 'min_child_weight': 6, 'gamma': 3.047359445132298e-06, 'subsample': 0.11306553113920523, 'colsample_bytree': 0.2789695999197937, 'reg_alpha': 1.6494435296383927e-08, 'reg_lambda': 0.6957854901354313}. Best is trial 14 with value: 0.7833588957055214.\u001b[0m\n"
          ]
        },
        {
          "output_type": "stream",
          "name": "stdout",
          "text": [
            "Trial 18 finished with value: 0.7557515337423313 and parameters: {'max_depth': 4, 'learning_rate': 0.09203581337079089, 'n_estimators': 165, 'min_child_weight': 6, 'gamma': 3.047359445132298e-06, 'subsample': 0.11306553113920523, 'colsample_bytree': 0.2789695999197937, 'reg_alpha': 1.6494435296383927e-08, 'reg_lambda': 0.6957854901354313}. Best is trial 14 with value: 0.7833588957055214.\n",
            "Trial 18 finished with value: 0.7557515337423313 and parameters: {'max_depth': 4, 'learning_rate': 0.09203581337079089, 'n_estimators': 165, 'min_child_weight': 6, 'gamma': 3.047359445132298e-06, 'subsample': 0.11306553113920523, 'colsample_bytree': 0.2789695999197937, 'reg_alpha': 1.6494435296383927e-08, 'reg_lambda': 0.6957854901354313}. Best is trial 14 with value: 0.7833588957055214.\n",
            "[21:27:03] WARNING: ../src/learner.cc:767: \n",
            "Parameters: { \"n_estimators\", \"use_label_encoder\" } are not used.\n",
            "\n",
            "[0]\tvalidation-auc:0.71979\n",
            "[1]\tvalidation-auc:0.76745\n",
            "[2]\tvalidation-auc:0.76903\n",
            "[3]\tvalidation-auc:0.76878\n",
            "[4]\tvalidation-auc:0.76868\n",
            "[5]\tvalidation-auc:0.77849\n",
            "[6]\tvalidation-auc:0.78451\n",
            "[7]\tvalidation-auc:0.78937\n",
            "[8]\tvalidation-auc:0.79818\n",
            "[9]\tvalidation-auc:0.80133\n"
          ]
        },
        {
          "output_type": "stream",
          "name": "stderr",
          "text": [
            "\u001b[32m[I 2023-03-22 21:27:03,278]\u001b[0m Trial 19 finished with value: 0.7496165644171779 and parameters: {'max_depth': 6, 'learning_rate': 0.3632167047835772, 'n_estimators': 66, 'min_child_weight': 6, 'gamma': 2.3380039908754213e-07, 'subsample': 0.07422274001687255, 'colsample_bytree': 0.1910085106028225, 'reg_alpha': 4.6023436278918857e-07, 'reg_lambda': 0.004698920772759904}. Best is trial 14 with value: 0.7833588957055214.\u001b[0m\n"
          ]
        },
        {
          "output_type": "stream",
          "name": "stdout",
          "text": [
            "Trial 19 finished with value: 0.7496165644171779 and parameters: {'max_depth': 6, 'learning_rate': 0.3632167047835772, 'n_estimators': 66, 'min_child_weight': 6, 'gamma': 2.3380039908754213e-07, 'subsample': 0.07422274001687255, 'colsample_bytree': 0.1910085106028225, 'reg_alpha': 4.6023436278918857e-07, 'reg_lambda': 0.004698920772759904}. Best is trial 14 with value: 0.7833588957055214.\n",
            "Trial 19 finished with value: 0.7496165644171779 and parameters: {'max_depth': 6, 'learning_rate': 0.3632167047835772, 'n_estimators': 66, 'min_child_weight': 6, 'gamma': 2.3380039908754213e-07, 'subsample': 0.07422274001687255, 'colsample_bytree': 0.1910085106028225, 'reg_alpha': 4.6023436278918857e-07, 'reg_lambda': 0.004698920772759904}. Best is trial 14 with value: 0.7833588957055214.\n",
            "[21:27:03] WARNING: ../src/learner.cc:767: \n",
            "Parameters: { \"n_estimators\", \"use_label_encoder\" } are not used.\n",
            "\n",
            "[0]\tvalidation-auc:0.79220\n",
            "[1]\tvalidation-auc:0.81712\n",
            "[2]\tvalidation-auc:0.82027\n",
            "[3]\tvalidation-auc:0.82170\n",
            "[4]\tvalidation-auc:0.83014\n",
            "[5]\tvalidation-auc:0.83434\n",
            "[6]\tvalidation-auc:0.83631\n",
            "[7]\tvalidation-auc:0.83491\n",
            "[8]\tvalidation-auc:0.83767\n",
            "[9]\tvalidation-auc:0.83734\n"
          ]
        },
        {
          "output_type": "stream",
          "name": "stderr",
          "text": [
            "\u001b[32m[I 2023-03-22 21:27:03,464]\u001b[0m Trial 20 finished with value: 0.7699386503067485 and parameters: {'max_depth': 6, 'learning_rate': 0.10614842008935371, 'n_estimators': 144, 'min_child_weight': 7, 'gamma': 1.6711571147824664e-06, 'subsample': 0.07585760166900846, 'colsample_bytree': 0.7286076016144573, 'reg_alpha': 1.1599541477503894e-08, 'reg_lambda': 0.0009574501657294024}. Best is trial 14 with value: 0.7833588957055214.\u001b[0m\n"
          ]
        },
        {
          "output_type": "stream",
          "name": "stdout",
          "text": [
            "Trial 20 finished with value: 0.7699386503067485 and parameters: {'max_depth': 6, 'learning_rate': 0.10614842008935371, 'n_estimators': 144, 'min_child_weight': 7, 'gamma': 1.6711571147824664e-06, 'subsample': 0.07585760166900846, 'colsample_bytree': 0.7286076016144573, 'reg_alpha': 1.1599541477503894e-08, 'reg_lambda': 0.0009574501657294024}. Best is trial 14 with value: 0.7833588957055214.\n",
            "Trial 20 finished with value: 0.7699386503067485 and parameters: {'max_depth': 6, 'learning_rate': 0.10614842008935371, 'n_estimators': 144, 'min_child_weight': 7, 'gamma': 1.6711571147824664e-06, 'subsample': 0.07585760166900846, 'colsample_bytree': 0.7286076016144573, 'reg_alpha': 1.1599541477503894e-08, 'reg_lambda': 0.0009574501657294024}. Best is trial 14 with value: 0.7833588957055214.\n",
            "[21:27:03] WARNING: ../src/learner.cc:767: \n",
            "Parameters: { \"n_estimators\", \"use_label_encoder\" } are not used.\n",
            "\n",
            "[0]\tvalidation-auc:0.79757\n",
            "[1]\tvalidation-auc:0.81810\n",
            "[2]\tvalidation-auc:0.82855\n",
            "[3]\tvalidation-auc:0.83473\n",
            "[4]\tvalidation-auc:0.83699\n",
            "[5]\tvalidation-auc:0.84023\n",
            "[6]\tvalidation-auc:0.84312\n",
            "[7]\tvalidation-auc:0.84407\n",
            "[8]\tvalidation-auc:0.84335\n",
            "[9]\tvalidation-auc:0.84581\n"
          ]
        },
        {
          "output_type": "stream",
          "name": "stderr",
          "text": [
            "\u001b[32m[I 2023-03-22 21:27:03,614]\u001b[0m Trial 21 finished with value: 0.7779907975460123 and parameters: {'max_depth': 3, 'learning_rate': 0.1656546601309662, 'n_estimators': 210, 'min_child_weight': 8, 'gamma': 2.0083091880289744e-05, 'subsample': 0.13940967987867253, 'colsample_bytree': 0.990689599486759, 'reg_alpha': 1.3140706728205237e-07, 'reg_lambda': 8.622434436218693e-05}. Best is trial 14 with value: 0.7833588957055214.\u001b[0m\n"
          ]
        },
        {
          "output_type": "stream",
          "name": "stdout",
          "text": [
            "Trial 21 finished with value: 0.7779907975460123 and parameters: {'max_depth': 3, 'learning_rate': 0.1656546601309662, 'n_estimators': 210, 'min_child_weight': 8, 'gamma': 2.0083091880289744e-05, 'subsample': 0.13940967987867253, 'colsample_bytree': 0.990689599486759, 'reg_alpha': 1.3140706728205237e-07, 'reg_lambda': 8.622434436218693e-05}. Best is trial 14 with value: 0.7833588957055214.\n",
            "Trial 21 finished with value: 0.7779907975460123 and parameters: {'max_depth': 3, 'learning_rate': 0.1656546601309662, 'n_estimators': 210, 'min_child_weight': 8, 'gamma': 2.0083091880289744e-05, 'subsample': 0.13940967987867253, 'colsample_bytree': 0.990689599486759, 'reg_alpha': 1.3140706728205237e-07, 'reg_lambda': 8.622434436218693e-05}. Best is trial 14 with value: 0.7833588957055214.\n",
            "[21:27:03] WARNING: ../src/learner.cc:767: \n",
            "Parameters: { \"n_estimators\", \"use_label_encoder\" } are not used.\n",
            "\n",
            "[0]\tvalidation-auc:0.81954\n",
            "[1]\tvalidation-auc:0.83323\n",
            "[2]\tvalidation-auc:0.83571\n",
            "[3]\tvalidation-auc:0.83982\n",
            "[4]\tvalidation-auc:0.84450\n",
            "[5]\tvalidation-auc:0.84453\n",
            "[6]\tvalidation-auc:0.84685\n",
            "[7]\tvalidation-auc:0.84751\n",
            "[8]\tvalidation-auc:0.84886\n",
            "[9]\tvalidation-auc:0.85117\n"
          ]
        },
        {
          "output_type": "stream",
          "name": "stderr",
          "text": [
            "\u001b[32m[I 2023-03-22 21:27:03,773]\u001b[0m Trial 22 finished with value: 0.7806748466257669 and parameters: {'max_depth': 4, 'learning_rate': 0.25645057470351723, 'n_estimators': 210, 'min_child_weight': 9, 'gamma': 1.4193253953210697e-05, 'subsample': 0.1337815512401986, 'colsample_bytree': 0.9485494214008193, 'reg_alpha': 1.128144378099011e-07, 'reg_lambda': 0.00040066639678176076}. Best is trial 14 with value: 0.7833588957055214.\u001b[0m\n"
          ]
        },
        {
          "output_type": "stream",
          "name": "stdout",
          "text": [
            "Trial 22 finished with value: 0.7806748466257669 and parameters: {'max_depth': 4, 'learning_rate': 0.25645057470351723, 'n_estimators': 210, 'min_child_weight': 9, 'gamma': 1.4193253953210697e-05, 'subsample': 0.1337815512401986, 'colsample_bytree': 0.9485494214008193, 'reg_alpha': 1.128144378099011e-07, 'reg_lambda': 0.00040066639678176076}. Best is trial 14 with value: 0.7833588957055214.\n",
            "Trial 22 finished with value: 0.7806748466257669 and parameters: {'max_depth': 4, 'learning_rate': 0.25645057470351723, 'n_estimators': 210, 'min_child_weight': 9, 'gamma': 1.4193253953210697e-05, 'subsample': 0.1337815512401986, 'colsample_bytree': 0.9485494214008193, 'reg_alpha': 1.128144378099011e-07, 'reg_lambda': 0.00040066639678176076}. Best is trial 14 with value: 0.7833588957055214.\n",
            "[21:27:03] WARNING: ../src/learner.cc:767: \n",
            "Parameters: { \"n_estimators\", \"use_label_encoder\" } are not used.\n",
            "\n",
            "[0]\tvalidation-auc:0.77657\n",
            "[1]\tvalidation-auc:0.79140\n",
            "[2]\tvalidation-auc:0.81224\n",
            "[3]\tvalidation-auc:0.81423\n",
            "[4]\tvalidation-auc:0.81566\n",
            "[5]\tvalidation-auc:0.81592\n",
            "[6]\tvalidation-auc:0.82968\n",
            "[7]\tvalidation-auc:0.83216\n",
            "[8]\tvalidation-auc:0.83894\n",
            "[9]\tvalidation-auc:0.83644\n"
          ]
        },
        {
          "output_type": "stream",
          "name": "stderr",
          "text": [
            "\u001b[32m[I 2023-03-22 21:27:03,936]\u001b[0m Trial 23 finished with value: 0.7680214723926381 and parameters: {'max_depth': 4, 'learning_rate': 0.2554241473479289, 'n_estimators': 193, 'min_child_weight': 9, 'gamma': 7.795406012834023e-07, 'subsample': 0.16446958649450297, 'colsample_bytree': 0.4488223399621433, 'reg_alpha': 1.2245350096184234e-07, 'reg_lambda': 0.011232433130117157}. Best is trial 14 with value: 0.7833588957055214.\u001b[0m\n"
          ]
        },
        {
          "output_type": "stream",
          "name": "stdout",
          "text": [
            "Trial 23 finished with value: 0.7680214723926381 and parameters: {'max_depth': 4, 'learning_rate': 0.2554241473479289, 'n_estimators': 193, 'min_child_weight': 9, 'gamma': 7.795406012834023e-07, 'subsample': 0.16446958649450297, 'colsample_bytree': 0.4488223399621433, 'reg_alpha': 1.2245350096184234e-07, 'reg_lambda': 0.011232433130117157}. Best is trial 14 with value: 0.7833588957055214.\n",
            "Trial 23 finished with value: 0.7680214723926381 and parameters: {'max_depth': 4, 'learning_rate': 0.2554241473479289, 'n_estimators': 193, 'min_child_weight': 9, 'gamma': 7.795406012834023e-07, 'subsample': 0.16446958649450297, 'colsample_bytree': 0.4488223399621433, 'reg_alpha': 1.2245350096184234e-07, 'reg_lambda': 0.011232433130117157}. Best is trial 14 with value: 0.7833588957055214.\n",
            "[21:27:04] WARNING: ../src/learner.cc:767: \n",
            "Parameters: { \"n_estimators\", \"use_label_encoder\" } are not used.\n",
            "\n",
            "[0]\tvalidation-auc:0.77639\n",
            "[1]\tvalidation-auc:0.79935\n",
            "[2]\tvalidation-auc:0.81762\n",
            "[3]\tvalidation-auc:0.83685\n",
            "[4]\tvalidation-auc:0.83852\n",
            "[5]\tvalidation-auc:0.83383\n",
            "[6]\tvalidation-auc:0.83869\n",
            "[7]\tvalidation-auc:0.84101\n",
            "[8]\tvalidation-auc:0.84070\n",
            "[9]\tvalidation-auc:0.84020\n"
          ]
        },
        {
          "output_type": "stream",
          "name": "stderr",
          "text": [
            "\u001b[32m[I 2023-03-22 21:27:04,109]\u001b[0m Trial 24 finished with value: 0.7657208588957055 and parameters: {'max_depth': 5, 'learning_rate': 0.4867589708740019, 'n_estimators': 276, 'min_child_weight': 9, 'gamma': 7.159968648298738e-06, 'subsample': 0.09395824737024623, 'colsample_bytree': 0.6457525765495795, 'reg_alpha': 1.2594464622972937e-06, 'reg_lambda': 0.0005519678811961606}. Best is trial 14 with value: 0.7833588957055214.\u001b[0m\n"
          ]
        },
        {
          "output_type": "stream",
          "name": "stdout",
          "text": [
            "Trial 24 finished with value: 0.7657208588957055 and parameters: {'max_depth': 5, 'learning_rate': 0.4867589708740019, 'n_estimators': 276, 'min_child_weight': 9, 'gamma': 7.159968648298738e-06, 'subsample': 0.09395824737024623, 'colsample_bytree': 0.6457525765495795, 'reg_alpha': 1.2594464622972937e-06, 'reg_lambda': 0.0005519678811961606}. Best is trial 14 with value: 0.7833588957055214.\n",
            "Trial 24 finished with value: 0.7657208588957055 and parameters: {'max_depth': 5, 'learning_rate': 0.4867589708740019, 'n_estimators': 276, 'min_child_weight': 9, 'gamma': 7.159968648298738e-06, 'subsample': 0.09395824737024623, 'colsample_bytree': 0.6457525765495795, 'reg_alpha': 1.2594464622972937e-06, 'reg_lambda': 0.0005519678811961606}. Best is trial 14 with value: 0.7833588957055214.\n",
            "[21:27:04] WARNING: ../src/learner.cc:767: \n",
            "Parameters: { \"n_estimators\", \"use_label_encoder\" } are not used.\n",
            "\n",
            "[0]\tvalidation-auc:0.74544\n",
            "[1]\tvalidation-auc:0.76576\n",
            "[2]\tvalidation-auc:0.78284\n",
            "[3]\tvalidation-auc:0.79585\n",
            "[4]\tvalidation-auc:0.79696\n",
            "[5]\tvalidation-auc:0.80607\n",
            "[6]\tvalidation-auc:0.81998\n",
            "[7]\tvalidation-auc:0.82327\n",
            "[8]\tvalidation-auc:0.83333\n",
            "[9]\tvalidation-auc:0.83312\n"
          ]
        },
        {
          "output_type": "stream",
          "name": "stderr",
          "text": [
            "\u001b[32m[I 2023-03-22 21:27:04,261]\u001b[0m Trial 25 finished with value: 0.7645705521472392 and parameters: {'max_depth': 2, 'learning_rate': 0.22082672107510568, 'n_estimators': 133, 'min_child_weight': 6, 'gamma': 1.9184097768463323e-05, 'subsample': 0.12448852826755848, 'colsample_bytree': 0.37518384970861257, 'reg_alpha': 4.787993504064355e-08, 'reg_lambda': 0.012454126360288732}. Best is trial 14 with value: 0.7833588957055214.\u001b[0m\n"
          ]
        },
        {
          "output_type": "stream",
          "name": "stdout",
          "text": [
            "Trial 25 finished with value: 0.7645705521472392 and parameters: {'max_depth': 2, 'learning_rate': 0.22082672107510568, 'n_estimators': 133, 'min_child_weight': 6, 'gamma': 1.9184097768463323e-05, 'subsample': 0.12448852826755848, 'colsample_bytree': 0.37518384970861257, 'reg_alpha': 4.787993504064355e-08, 'reg_lambda': 0.012454126360288732}. Best is trial 14 with value: 0.7833588957055214.\n",
            "Trial 25 finished with value: 0.7645705521472392 and parameters: {'max_depth': 2, 'learning_rate': 0.22082672107510568, 'n_estimators': 133, 'min_child_weight': 6, 'gamma': 1.9184097768463323e-05, 'subsample': 0.12448852826755848, 'colsample_bytree': 0.37518384970861257, 'reg_alpha': 4.787993504064355e-08, 'reg_lambda': 0.012454126360288732}. Best is trial 14 with value: 0.7833588957055214.\n",
            "[21:27:04] WARNING: ../src/learner.cc:767: \n",
            "Parameters: { \"n_estimators\", \"use_label_encoder\" } are not used.\n",
            "\n",
            "[0]\tvalidation-auc:0.80006\n",
            "[1]\tvalidation-auc:0.81600\n",
            "[2]\tvalidation-auc:0.83443\n",
            "[3]\tvalidation-auc:0.83211\n",
            "[4]\tvalidation-auc:0.83844\n",
            "[5]\tvalidation-auc:0.83836\n",
            "[6]\tvalidation-auc:0.83616\n",
            "[7]\tvalidation-auc:0.83735\n",
            "[8]\tvalidation-auc:0.83837\n",
            "[9]\tvalidation-auc:0.84039\n"
          ]
        },
        {
          "output_type": "stream",
          "name": "stderr",
          "text": [
            "\u001b[32m[I 2023-03-22 21:27:04,423]\u001b[0m Trial 26 finished with value: 0.7676380368098159 and parameters: {'max_depth': 4, 'learning_rate': 0.11161821121079593, 'n_estimators': 109, 'min_child_weight': 7, 'gamma': 1.3943348121756157e-08, 'subsample': 0.058411984124418864, 'colsample_bytree': 0.9739416913398224, 'reg_alpha': 4.624737305017351e-08, 'reg_lambda': 0.001128650147080531}. Best is trial 14 with value: 0.7833588957055214.\u001b[0m\n"
          ]
        },
        {
          "output_type": "stream",
          "name": "stdout",
          "text": [
            "Trial 26 finished with value: 0.7676380368098159 and parameters: {'max_depth': 4, 'learning_rate': 0.11161821121079593, 'n_estimators': 109, 'min_child_weight': 7, 'gamma': 1.3943348121756157e-08, 'subsample': 0.058411984124418864, 'colsample_bytree': 0.9739416913398224, 'reg_alpha': 4.624737305017351e-08, 'reg_lambda': 0.001128650147080531}. Best is trial 14 with value: 0.7833588957055214.\n",
            "Trial 26 finished with value: 0.7676380368098159 and parameters: {'max_depth': 4, 'learning_rate': 0.11161821121079593, 'n_estimators': 109, 'min_child_weight': 7, 'gamma': 1.3943348121756157e-08, 'subsample': 0.058411984124418864, 'colsample_bytree': 0.9739416913398224, 'reg_alpha': 4.624737305017351e-08, 'reg_lambda': 0.001128650147080531}. Best is trial 14 with value: 0.7833588957055214.\n",
            "[21:27:04] WARNING: ../src/learner.cc:767: \n",
            "Parameters: { \"n_estimators\", \"use_label_encoder\" } are not used.\n",
            "\n",
            "[0]\tvalidation-auc:0.77934\n",
            "[1]\tvalidation-auc:0.81644\n",
            "[2]\tvalidation-auc:0.82218\n",
            "[3]\tvalidation-auc:0.83418\n",
            "[4]\tvalidation-auc:0.83631\n",
            "[5]\tvalidation-auc:0.83742\n",
            "[6]\tvalidation-auc:0.84013\n",
            "[7]\tvalidation-auc:0.84278\n",
            "[8]\tvalidation-auc:0.84492\n",
            "[9]\tvalidation-auc:0.84253\n"
          ]
        },
        {
          "output_type": "stream",
          "name": "stderr",
          "text": [
            "\u001b[32m[I 2023-03-22 21:27:04,624]\u001b[0m Trial 27 finished with value: 0.7787576687116564 and parameters: {'max_depth': 5, 'learning_rate': 0.06819885353871084, 'n_estimators': 196, 'min_child_weight': 9, 'gamma': 3.3176361375484244e-07, 'subsample': 0.18612325337050564, 'colsample_bytree': 0.560625597785583, 'reg_alpha': 1.247556724149923e-08, 'reg_lambda': 0.00039657090952960826}. Best is trial 14 with value: 0.7833588957055214.\u001b[0m\n"
          ]
        },
        {
          "output_type": "stream",
          "name": "stdout",
          "text": [
            "Trial 27 finished with value: 0.7787576687116564 and parameters: {'max_depth': 5, 'learning_rate': 0.06819885353871084, 'n_estimators': 196, 'min_child_weight': 9, 'gamma': 3.3176361375484244e-07, 'subsample': 0.18612325337050564, 'colsample_bytree': 0.560625597785583, 'reg_alpha': 1.247556724149923e-08, 'reg_lambda': 0.00039657090952960826}. Best is trial 14 with value: 0.7833588957055214.\n",
            "Trial 27 finished with value: 0.7787576687116564 and parameters: {'max_depth': 5, 'learning_rate': 0.06819885353871084, 'n_estimators': 196, 'min_child_weight': 9, 'gamma': 3.3176361375484244e-07, 'subsample': 0.18612325337050564, 'colsample_bytree': 0.560625597785583, 'reg_alpha': 1.247556724149923e-08, 'reg_lambda': 0.00039657090952960826}. Best is trial 14 with value: 0.7833588957055214.\n",
            "[21:27:04] WARNING: ../src/learner.cc:767: \n",
            "Parameters: { \"n_estimators\", \"use_label_encoder\" } are not used.\n",
            "\n",
            "[0]\tvalidation-auc:0.75363\n",
            "[1]\tvalidation-auc:0.77430\n",
            "[2]\tvalidation-auc:0.80649\n",
            "[3]\tvalidation-auc:0.81573\n",
            "[4]\tvalidation-auc:0.82193\n",
            "[5]\tvalidation-auc:0.83282\n",
            "[6]\tvalidation-auc:0.83181\n",
            "[7]\tvalidation-auc:0.83534\n",
            "[8]\tvalidation-auc:0.83925\n",
            "[9]\tvalidation-auc:0.84093\n"
          ]
        },
        {
          "output_type": "stream",
          "name": "stderr",
          "text": [
            "\u001b[32m[I 2023-03-22 21:27:04,768]\u001b[0m Trial 28 finished with value: 0.772239263803681 and parameters: {'max_depth': 2, 'learning_rate': 0.18054320086191977, 'n_estimators': 256, 'min_child_weight': 5, 'gamma': 1.91036752876811e-06, 'subsample': 0.10875108915675057, 'colsample_bytree': 0.7045131782078183, 'reg_alpha': 2.3256777651818014e-07, 'reg_lambda': 0.003377891695597299}. Best is trial 14 with value: 0.7833588957055214.\u001b[0m\n"
          ]
        },
        {
          "output_type": "stream",
          "name": "stdout",
          "text": [
            "Trial 28 finished with value: 0.772239263803681 and parameters: {'max_depth': 2, 'learning_rate': 0.18054320086191977, 'n_estimators': 256, 'min_child_weight': 5, 'gamma': 1.91036752876811e-06, 'subsample': 0.10875108915675057, 'colsample_bytree': 0.7045131782078183, 'reg_alpha': 2.3256777651818014e-07, 'reg_lambda': 0.003377891695597299}. Best is trial 14 with value: 0.7833588957055214.\n",
            "Trial 28 finished with value: 0.772239263803681 and parameters: {'max_depth': 2, 'learning_rate': 0.18054320086191977, 'n_estimators': 256, 'min_child_weight': 5, 'gamma': 1.91036752876811e-06, 'subsample': 0.10875108915675057, 'colsample_bytree': 0.7045131782078183, 'reg_alpha': 2.3256777651818014e-07, 'reg_lambda': 0.003377891695597299}. Best is trial 14 with value: 0.7833588957055214.\n",
            "[21:27:04] WARNING: ../src/learner.cc:767: \n",
            "Parameters: { \"n_estimators\", \"use_label_encoder\" } are not used.\n",
            "\n",
            "[0]\tvalidation-auc:0.73810\n",
            "[1]\tvalidation-auc:0.76748\n",
            "[2]\tvalidation-auc:0.78074\n",
            "[3]\tvalidation-auc:0.78654\n",
            "[4]\tvalidation-auc:0.78406\n",
            "[5]\tvalidation-auc:0.78229\n",
            "[6]\tvalidation-auc:0.79610\n",
            "[7]\tvalidation-auc:0.80465\n",
            "[8]\tvalidation-auc:0.81111\n",
            "[9]\tvalidation-auc:0.81204\n"
          ]
        },
        {
          "output_type": "stream",
          "name": "stderr",
          "text": [
            "\u001b[32m[I 2023-03-22 21:27:04,931]\u001b[0m Trial 29 finished with value: 0.7415644171779141 and parameters: {'max_depth': 6, 'learning_rate': 0.05289409194257693, 'n_estimators': 174, 'min_child_weight': 7, 'gamma': 2.1377920137806635e-05, 'subsample': 0.049097489507162834, 'colsample_bytree': 0.3128735657208513, 'reg_alpha': 3.2494111200506613e-06, 'reg_lambda': 0.00018340015503264225}. Best is trial 14 with value: 0.7833588957055214.\u001b[0m\n"
          ]
        },
        {
          "output_type": "stream",
          "name": "stdout",
          "text": [
            "Trial 29 finished with value: 0.7415644171779141 and parameters: {'max_depth': 6, 'learning_rate': 0.05289409194257693, 'n_estimators': 174, 'min_child_weight': 7, 'gamma': 2.1377920137806635e-05, 'subsample': 0.049097489507162834, 'colsample_bytree': 0.3128735657208513, 'reg_alpha': 3.2494111200506613e-06, 'reg_lambda': 0.00018340015503264225}. Best is trial 14 with value: 0.7833588957055214.\n",
            "Trial 29 finished with value: 0.7415644171779141 and parameters: {'max_depth': 6, 'learning_rate': 0.05289409194257693, 'n_estimators': 174, 'min_child_weight': 7, 'gamma': 2.1377920137806635e-05, 'subsample': 0.049097489507162834, 'colsample_bytree': 0.3128735657208513, 'reg_alpha': 3.2494111200506613e-06, 'reg_lambda': 0.00018340015503264225}. Best is trial 14 with value: 0.7833588957055214.\n",
            "[21:27:04] WARNING: ../src/learner.cc:767: \n",
            "Parameters: { \"n_estimators\", \"use_label_encoder\" } are not used.\n",
            "\n",
            "[0]\tvalidation-auc:0.77925\n",
            "[1]\tvalidation-auc:0.80472\n",
            "[2]\tvalidation-auc:0.81659\n",
            "[3]\tvalidation-auc:0.82570\n",
            "[4]\tvalidation-auc:0.83388\n",
            "[5]\tvalidation-auc:0.83369\n",
            "[6]\tvalidation-auc:0.83606\n",
            "[7]\tvalidation-auc:0.83801\n",
            "[8]\tvalidation-auc:0.84108\n",
            "[9]\tvalidation-auc:0.84122\n"
          ]
        },
        {
          "output_type": "stream",
          "name": "stderr",
          "text": [
            "\u001b[32m[I 2023-03-22 21:27:05,102]\u001b[0m Trial 30 finished with value: 0.7749233128834356 and parameters: {'max_depth': 4, 'learning_rate': 0.0901665712179037, 'n_estimators': 117, 'min_child_weight': 4, 'gamma': 7.638343789586516e-06, 'subsample': 0.1478850798638484, 'colsample_bytree': 0.4669493488976854, 'reg_alpha': 4.980556499214389e-07, 'reg_lambda': 6.646516403294142e-06}. Best is trial 14 with value: 0.7833588957055214.\u001b[0m\n"
          ]
        },
        {
          "output_type": "stream",
          "name": "stdout",
          "text": [
            "Trial 30 finished with value: 0.7749233128834356 and parameters: {'max_depth': 4, 'learning_rate': 0.0901665712179037, 'n_estimators': 117, 'min_child_weight': 4, 'gamma': 7.638343789586516e-06, 'subsample': 0.1478850798638484, 'colsample_bytree': 0.4669493488976854, 'reg_alpha': 4.980556499214389e-07, 'reg_lambda': 6.646516403294142e-06}. Best is trial 14 with value: 0.7833588957055214.\n",
            "Trial 30 finished with value: 0.7749233128834356 and parameters: {'max_depth': 4, 'learning_rate': 0.0901665712179037, 'n_estimators': 117, 'min_child_weight': 4, 'gamma': 7.638343789586516e-06, 'subsample': 0.1478850798638484, 'colsample_bytree': 0.4669493488976854, 'reg_alpha': 4.980556499214389e-07, 'reg_lambda': 6.646516403294142e-06}. Best is trial 14 with value: 0.7833588957055214.\n",
            "[21:27:05] WARNING: ../src/learner.cc:767: \n",
            "Parameters: { \"n_estimators\", \"use_label_encoder\" } are not used.\n",
            "\n",
            "[0]\tvalidation-auc:0.79406\n",
            "[1]\tvalidation-auc:0.82439\n",
            "[2]\tvalidation-auc:0.83336\n",
            "[3]\tvalidation-auc:0.83659\n",
            "[4]\tvalidation-auc:0.84023\n",
            "[5]\tvalidation-auc:0.83910\n",
            "[6]\tvalidation-auc:0.83963\n",
            "[7]\tvalidation-auc:0.84067\n",
            "[8]\tvalidation-auc:0.84236\n",
            "[9]\tvalidation-auc:0.84145\n"
          ]
        },
        {
          "output_type": "stream",
          "name": "stderr",
          "text": [
            "\u001b[32m[I 2023-03-22 21:27:05,299]\u001b[0m Trial 31 finished with value: 0.7772239263803681 and parameters: {'max_depth': 5, 'learning_rate': 0.05991464543007217, 'n_estimators': 184, 'min_child_weight': 9, 'gamma': 4.3371774211984554e-07, 'subsample': 0.18726463435606286, 'colsample_bytree': 0.7029561333725135, 'reg_alpha': 1.8720861482781286e-08, 'reg_lambda': 0.00039940205126308485}. Best is trial 14 with value: 0.7833588957055214.\u001b[0m\n"
          ]
        },
        {
          "output_type": "stream",
          "name": "stdout",
          "text": [
            "Trial 31 finished with value: 0.7772239263803681 and parameters: {'max_depth': 5, 'learning_rate': 0.05991464543007217, 'n_estimators': 184, 'min_child_weight': 9, 'gamma': 4.3371774211984554e-07, 'subsample': 0.18726463435606286, 'colsample_bytree': 0.7029561333725135, 'reg_alpha': 1.8720861482781286e-08, 'reg_lambda': 0.00039940205126308485}. Best is trial 14 with value: 0.7833588957055214.\n",
            "Trial 31 finished with value: 0.7772239263803681 and parameters: {'max_depth': 5, 'learning_rate': 0.05991464543007217, 'n_estimators': 184, 'min_child_weight': 9, 'gamma': 4.3371774211984554e-07, 'subsample': 0.18726463435606286, 'colsample_bytree': 0.7029561333725135, 'reg_alpha': 1.8720861482781286e-08, 'reg_lambda': 0.00039940205126308485}. Best is trial 14 with value: 0.7833588957055214.\n",
            "[21:27:05] WARNING: ../src/learner.cc:767: \n",
            "Parameters: { \"n_estimators\", \"use_label_encoder\" } are not used.\n",
            "\n",
            "[0]\tvalidation-auc:0.77425\n",
            "[1]\tvalidation-auc:0.80185\n",
            "[2]\tvalidation-auc:0.81852\n",
            "[3]\tvalidation-auc:0.83300\n",
            "[4]\tvalidation-auc:0.84054\n",
            "[5]\tvalidation-auc:0.83848\n",
            "[6]\tvalidation-auc:0.84125\n",
            "[7]\tvalidation-auc:0.84351\n",
            "[8]\tvalidation-auc:0.84465\n",
            "[9]\tvalidation-auc:0.84213\n"
          ]
        },
        {
          "output_type": "stream",
          "name": "stderr",
          "text": [
            "\u001b[32m[I 2023-03-22 21:27:05,497]\u001b[0m Trial 32 finished with value: 0.7737730061349694 and parameters: {'max_depth': 5, 'learning_rate': 0.12427762414317525, 'n_estimators': 212, 'min_child_weight': 8, 'gamma': 1.968759708876356e-07, 'subsample': 0.19791716427217995, 'colsample_bytree': 0.5246056951724863, 'reg_alpha': 1.110647653966083e-08, 'reg_lambda': 0.0002363917676230054}. Best is trial 14 with value: 0.7833588957055214.\u001b[0m\n"
          ]
        },
        {
          "output_type": "stream",
          "name": "stdout",
          "text": [
            "Trial 32 finished with value: 0.7737730061349694 and parameters: {'max_depth': 5, 'learning_rate': 0.12427762414317525, 'n_estimators': 212, 'min_child_weight': 8, 'gamma': 1.968759708876356e-07, 'subsample': 0.19791716427217995, 'colsample_bytree': 0.5246056951724863, 'reg_alpha': 1.110647653966083e-08, 'reg_lambda': 0.0002363917676230054}. Best is trial 14 with value: 0.7833588957055214.\n",
            "Trial 32 finished with value: 0.7737730061349694 and parameters: {'max_depth': 5, 'learning_rate': 0.12427762414317525, 'n_estimators': 212, 'min_child_weight': 8, 'gamma': 1.968759708876356e-07, 'subsample': 0.19791716427217995, 'colsample_bytree': 0.5246056951724863, 'reg_alpha': 1.110647653966083e-08, 'reg_lambda': 0.0002363917676230054}. Best is trial 14 with value: 0.7833588957055214.\n",
            "[21:27:05] WARNING: ../src/learner.cc:767: \n",
            "Parameters: { \"n_estimators\", \"use_label_encoder\" } are not used.\n",
            "\n",
            "[0]\tvalidation-auc:0.81108\n",
            "[1]\tvalidation-auc:0.82251\n",
            "[2]\tvalidation-auc:0.83249\n",
            "[3]\tvalidation-auc:0.83539\n",
            "[4]\tvalidation-auc:0.83948\n",
            "[5]\tvalidation-auc:0.83718\n",
            "[6]\tvalidation-auc:0.83830\n",
            "[7]\tvalidation-auc:0.83829\n",
            "[8]\tvalidation-auc:0.83951\n",
            "[9]\tvalidation-auc:0.83921\n"
          ]
        },
        {
          "output_type": "stream",
          "name": "stderr",
          "text": [
            "\u001b[32m[I 2023-03-22 21:27:05,679]\u001b[0m Trial 33 finished with value: 0.772239263803681 and parameters: {'max_depth': 6, 'learning_rate': 0.12005112932147768, 'n_estimators': 315, 'min_child_weight': 9, 'gamma': 6.809149739617382e-07, 'subsample': 0.08541941134437962, 'colsample_bytree': 0.8032686684524416, 'reg_alpha': 5.748558371626514e-08, 'reg_lambda': 5.4848710570188336e-05}. Best is trial 14 with value: 0.7833588957055214.\u001b[0m\n"
          ]
        },
        {
          "output_type": "stream",
          "name": "stdout",
          "text": [
            "Trial 33 finished with value: 0.772239263803681 and parameters: {'max_depth': 6, 'learning_rate': 0.12005112932147768, 'n_estimators': 315, 'min_child_weight': 9, 'gamma': 6.809149739617382e-07, 'subsample': 0.08541941134437962, 'colsample_bytree': 0.8032686684524416, 'reg_alpha': 5.748558371626514e-08, 'reg_lambda': 5.4848710570188336e-05}. Best is trial 14 with value: 0.7833588957055214.\n",
            "Trial 33 finished with value: 0.772239263803681 and parameters: {'max_depth': 6, 'learning_rate': 0.12005112932147768, 'n_estimators': 315, 'min_child_weight': 9, 'gamma': 6.809149739617382e-07, 'subsample': 0.08541941134437962, 'colsample_bytree': 0.8032686684524416, 'reg_alpha': 5.748558371626514e-08, 'reg_lambda': 5.4848710570188336e-05}. Best is trial 14 with value: 0.7833588957055214.\n",
            "[21:27:05] WARNING: ../src/learner.cc:767: \n",
            "Parameters: { \"n_estimators\", \"use_label_encoder\" } are not used.\n",
            "\n",
            "[0]\tvalidation-auc:0.81665\n",
            "[1]\tvalidation-auc:0.82970\n",
            "[2]\tvalidation-auc:0.83058\n",
            "[3]\tvalidation-auc:0.83383\n",
            "[4]\tvalidation-auc:0.84065\n",
            "[5]\tvalidation-auc:0.84010\n",
            "[6]\tvalidation-auc:0.83991\n",
            "[7]\tvalidation-auc:0.84326\n",
            "[8]\tvalidation-auc:0.84247\n",
            "[9]\tvalidation-auc:0.84344\n"
          ]
        },
        {
          "output_type": "stream",
          "name": "stderr",
          "text": [
            "\u001b[32m[I 2023-03-22 21:27:05,870]\u001b[0m Trial 34 finished with value: 0.7753067484662577 and parameters: {'max_depth': 4, 'learning_rate': 0.06823788191966537, 'n_estimators': 259, 'min_child_weight': 10, 'gamma': 1.420083859765782e-06, 'subsample': 0.12483687712184953, 'colsample_bytree': 0.9883232258828487, 'reg_alpha': 1.0511923666863198e-08, 'reg_lambda': 0.0007839401324130053}. Best is trial 14 with value: 0.7833588957055214.\u001b[0m\n"
          ]
        },
        {
          "output_type": "stream",
          "name": "stdout",
          "text": [
            "Trial 34 finished with value: 0.7753067484662577 and parameters: {'max_depth': 4, 'learning_rate': 0.06823788191966537, 'n_estimators': 259, 'min_child_weight': 10, 'gamma': 1.420083859765782e-06, 'subsample': 0.12483687712184953, 'colsample_bytree': 0.9883232258828487, 'reg_alpha': 1.0511923666863198e-08, 'reg_lambda': 0.0007839401324130053}. Best is trial 14 with value: 0.7833588957055214.\n",
            "Trial 34 finished with value: 0.7753067484662577 and parameters: {'max_depth': 4, 'learning_rate': 0.06823788191966537, 'n_estimators': 259, 'min_child_weight': 10, 'gamma': 1.420083859765782e-06, 'subsample': 0.12483687712184953, 'colsample_bytree': 0.9883232258828487, 'reg_alpha': 1.0511923666863198e-08, 'reg_lambda': 0.0007839401324130053}. Best is trial 14 with value: 0.7833588957055214.\n",
            "[21:27:05] WARNING: ../src/learner.cc:767: \n",
            "Parameters: { \"n_estimators\", \"use_label_encoder\" } are not used.\n",
            "\n",
            "[0]\tvalidation-auc:0.76743\n",
            "[1]\tvalidation-auc:0.80272\n",
            "[2]\tvalidation-auc:0.82092\n",
            "[3]\tvalidation-auc:0.83195\n",
            "[4]\tvalidation-auc:0.83906\n",
            "[5]\tvalidation-auc:0.83921\n",
            "[6]\tvalidation-auc:0.84184\n",
            "[7]\tvalidation-auc:0.84404\n",
            "[8]\tvalidation-auc:0.84804\n",
            "[9]\tvalidation-auc:0.84818\n"
          ]
        },
        {
          "output_type": "stream",
          "name": "stderr",
          "text": [
            "\u001b[32m[I 2023-03-22 21:27:06,022]\u001b[0m Trial 35 finished with value: 0.7753067484662577 and parameters: {'max_depth': 3, 'learning_rate': 0.22425675877447132, 'n_estimators': 419, 'min_child_weight': 9, 'gamma': 9.467816394491552e-08, 'subsample': 0.2826671038666171, 'colsample_bytree': 0.5810794300607511, 'reg_alpha': 3.5042053155073246e-07, 'reg_lambda': 0.0001345202141105332}. Best is trial 14 with value: 0.7833588957055214.\u001b[0m\n"
          ]
        },
        {
          "output_type": "stream",
          "name": "stdout",
          "text": [
            "Trial 35 finished with value: 0.7753067484662577 and parameters: {'max_depth': 3, 'learning_rate': 0.22425675877447132, 'n_estimators': 419, 'min_child_weight': 9, 'gamma': 9.467816394491552e-08, 'subsample': 0.2826671038666171, 'colsample_bytree': 0.5810794300607511, 'reg_alpha': 3.5042053155073246e-07, 'reg_lambda': 0.0001345202141105332}. Best is trial 14 with value: 0.7833588957055214.\n",
            "Trial 35 finished with value: 0.7753067484662577 and parameters: {'max_depth': 3, 'learning_rate': 0.22425675877447132, 'n_estimators': 419, 'min_child_weight': 9, 'gamma': 9.467816394491552e-08, 'subsample': 0.2826671038666171, 'colsample_bytree': 0.5810794300607511, 'reg_alpha': 3.5042053155073246e-07, 'reg_lambda': 0.0001345202141105332}. Best is trial 14 with value: 0.7833588957055214.\n",
            "[21:27:06] WARNING: ../src/learner.cc:767: \n",
            "Parameters: { \"n_estimators\", \"use_label_encoder\" } are not used.\n",
            "\n",
            "[0]\tvalidation-auc:0.71618\n",
            "[1]\tvalidation-auc:0.76714\n",
            "[2]\tvalidation-auc:0.78944\n",
            "[3]\tvalidation-auc:0.78784\n",
            "[4]\tvalidation-auc:0.78867\n",
            "[5]\tvalidation-auc:0.78923\n",
            "[6]\tvalidation-auc:0.80558\n",
            "[7]\tvalidation-auc:0.80965\n",
            "[8]\tvalidation-auc:0.81483\n",
            "[9]\tvalidation-auc:0.81447\n"
          ]
        },
        {
          "output_type": "stream",
          "name": "stderr",
          "text": [
            "\u001b[32m[I 2023-03-22 21:27:06,230]\u001b[0m Trial 36 finished with value: 0.7515337423312883 and parameters: {'max_depth': 5, 'learning_rate': 0.07976014249394217, 'n_estimators': 354, 'min_child_weight': 1, 'gamma': 3.8401217813355335e-06, 'subsample': 0.05989319614362027, 'colsample_bytree': 0.37918907005103974, 'reg_alpha': 7.727970483200689e-08, 'reg_lambda': 0.0022433145286638997}. Best is trial 14 with value: 0.7833588957055214.\u001b[0m\n"
          ]
        },
        {
          "output_type": "stream",
          "name": "stdout",
          "text": [
            "Trial 36 finished with value: 0.7515337423312883 and parameters: {'max_depth': 5, 'learning_rate': 0.07976014249394217, 'n_estimators': 354, 'min_child_weight': 1, 'gamma': 3.8401217813355335e-06, 'subsample': 0.05989319614362027, 'colsample_bytree': 0.37918907005103974, 'reg_alpha': 7.727970483200689e-08, 'reg_lambda': 0.0022433145286638997}. Best is trial 14 with value: 0.7833588957055214.\n",
            "Trial 36 finished with value: 0.7515337423312883 and parameters: {'max_depth': 5, 'learning_rate': 0.07976014249394217, 'n_estimators': 354, 'min_child_weight': 1, 'gamma': 3.8401217813355335e-06, 'subsample': 0.05989319614362027, 'colsample_bytree': 0.37918907005103974, 'reg_alpha': 7.727970483200689e-08, 'reg_lambda': 0.0022433145286638997}. Best is trial 14 with value: 0.7833588957055214.\n",
            "[21:27:06] WARNING: ../src/learner.cc:767: \n",
            "Parameters: { \"n_estimators\", \"use_label_encoder\" } are not used.\n",
            "\n",
            "[0]\tvalidation-auc:0.79214\n",
            "[1]\tvalidation-auc:0.81614\n",
            "[2]\tvalidation-auc:0.82045\n",
            "[3]\tvalidation-auc:0.82125\n",
            "[4]\tvalidation-auc:0.82625\n",
            "[5]\tvalidation-auc:0.82379\n",
            "[6]\tvalidation-auc:0.82133\n",
            "[7]\tvalidation-auc:0.82140\n",
            "[8]\tvalidation-auc:0.82229\n",
            "[9]\tvalidation-auc:0.82256\n"
          ]
        },
        {
          "output_type": "stream",
          "name": "stderr",
          "text": [
            "\u001b[32m[I 2023-03-22 21:27:06,386]\u001b[0m Trial 37 finished with value: 0.7446319018404908 and parameters: {'max_depth': 3, 'learning_rate': 0.1280944646009072, 'n_estimators': 93, 'min_child_weight': 6, 'gamma': 4.579188726207112e-05, 'subsample': 0.03582385318661402, 'colsample_bytree': 0.7732226726773133, 'reg_alpha': 1.291930111886001e-06, 'reg_lambda': 3.160031280860782e-06}. Best is trial 14 with value: 0.7833588957055214.\u001b[0m\n"
          ]
        },
        {
          "output_type": "stream",
          "name": "stdout",
          "text": [
            "Trial 37 finished with value: 0.7446319018404908 and parameters: {'max_depth': 3, 'learning_rate': 0.1280944646009072, 'n_estimators': 93, 'min_child_weight': 6, 'gamma': 4.579188726207112e-05, 'subsample': 0.03582385318661402, 'colsample_bytree': 0.7732226726773133, 'reg_alpha': 1.291930111886001e-06, 'reg_lambda': 3.160031280860782e-06}. Best is trial 14 with value: 0.7833588957055214.\n",
            "Trial 37 finished with value: 0.7446319018404908 and parameters: {'max_depth': 3, 'learning_rate': 0.1280944646009072, 'n_estimators': 93, 'min_child_weight': 6, 'gamma': 4.579188726207112e-05, 'subsample': 0.03582385318661402, 'colsample_bytree': 0.7732226726773133, 'reg_alpha': 1.291930111886001e-06, 'reg_lambda': 3.160031280860782e-06}. Best is trial 14 with value: 0.7833588957055214.\n",
            "[21:27:06] WARNING: ../src/learner.cc:767: \n",
            "Parameters: { \"n_estimators\", \"use_label_encoder\" } are not used.\n",
            "\n",
            "[0]\tvalidation-auc:0.73817\n",
            "[1]\tvalidation-auc:0.78689\n",
            "[2]\tvalidation-auc:0.80230\n",
            "[3]\tvalidation-auc:0.82228\n",
            "[4]\tvalidation-auc:0.83099\n",
            "[5]\tvalidation-auc:0.82817\n",
            "[6]\tvalidation-auc:0.83144\n",
            "[7]\tvalidation-auc:0.83414\n",
            "[8]\tvalidation-auc:0.83863\n",
            "[9]\tvalidation-auc:0.84048\n"
          ]
        },
        {
          "output_type": "stream",
          "name": "stderr",
          "text": [
            "\u001b[32m[I 2023-03-22 21:27:06,568]\u001b[0m Trial 38 finished with value: 0.7657208588957055 and parameters: {'max_depth': 4, 'learning_rate': 0.203691018712499, 'n_estimators': 156, 'min_child_weight': 8, 'gamma': 6.548166711160715e-07, 'subsample': 0.0974051260307637, 'colsample_bytree': 0.5831779802235345, 'reg_alpha': 2.5098104222014486e-08, 'reg_lambda': 4.4323205773465456e-05}. Best is trial 14 with value: 0.7833588957055214.\u001b[0m\n"
          ]
        },
        {
          "output_type": "stream",
          "name": "stdout",
          "text": [
            "Trial 38 finished with value: 0.7657208588957055 and parameters: {'max_depth': 4, 'learning_rate': 0.203691018712499, 'n_estimators': 156, 'min_child_weight': 8, 'gamma': 6.548166711160715e-07, 'subsample': 0.0974051260307637, 'colsample_bytree': 0.5831779802235345, 'reg_alpha': 2.5098104222014486e-08, 'reg_lambda': 4.4323205773465456e-05}. Best is trial 14 with value: 0.7833588957055214.\n",
            "Trial 38 finished with value: 0.7657208588957055 and parameters: {'max_depth': 4, 'learning_rate': 0.203691018712499, 'n_estimators': 156, 'min_child_weight': 8, 'gamma': 6.548166711160715e-07, 'subsample': 0.0974051260307637, 'colsample_bytree': 0.5831779802235345, 'reg_alpha': 2.5098104222014486e-08, 'reg_lambda': 4.4323205773465456e-05}. Best is trial 14 with value: 0.7833588957055214.\n",
            "[21:27:06] WARNING: ../src/learner.cc:767: \n",
            "Parameters: { \"n_estimators\", \"use_label_encoder\" } are not used.\n",
            "\n",
            "[0]\tvalidation-auc:0.81075\n",
            "[1]\tvalidation-auc:0.83273\n",
            "[2]\tvalidation-auc:0.84316\n",
            "[3]\tvalidation-auc:0.84587\n",
            "[4]\tvalidation-auc:0.84812\n",
            "[5]\tvalidation-auc:0.84659\n",
            "[6]\tvalidation-auc:0.84904\n",
            "[7]\tvalidation-auc:0.84952\n",
            "[8]\tvalidation-auc:0.85112\n",
            "[9]\tvalidation-auc:0.85292\n"
          ]
        },
        {
          "output_type": "stream",
          "name": "stderr",
          "text": [
            "\u001b[32m[I 2023-03-22 21:27:06,823]\u001b[0m Trial 39 finished with value: 0.7791411042944786 and parameters: {'max_depth': 7, 'learning_rate': 0.06961980823652533, 'n_estimators': 205, 'min_child_weight': 4, 'gamma': 1.203558071965217e-05, 'subsample': 0.16676119925359176, 'colsample_bytree': 0.7973946019894699, 'reg_alpha': 1.6526273871822935e-07, 'reg_lambda': 0.0006672396319928398}. Best is trial 14 with value: 0.7833588957055214.\u001b[0m\n"
          ]
        },
        {
          "output_type": "stream",
          "name": "stdout",
          "text": [
            "Trial 39 finished with value: 0.7791411042944786 and parameters: {'max_depth': 7, 'learning_rate': 0.06961980823652533, 'n_estimators': 205, 'min_child_weight': 4, 'gamma': 1.203558071965217e-05, 'subsample': 0.16676119925359176, 'colsample_bytree': 0.7973946019894699, 'reg_alpha': 1.6526273871822935e-07, 'reg_lambda': 0.0006672396319928398}. Best is trial 14 with value: 0.7833588957055214.\n",
            "Trial 39 finished with value: 0.7791411042944786 and parameters: {'max_depth': 7, 'learning_rate': 0.06961980823652533, 'n_estimators': 205, 'min_child_weight': 4, 'gamma': 1.203558071965217e-05, 'subsample': 0.16676119925359176, 'colsample_bytree': 0.7973946019894699, 'reg_alpha': 1.6526273871822935e-07, 'reg_lambda': 0.0006672396319928398}. Best is trial 14 with value: 0.7833588957055214.\n",
            "[21:27:06] WARNING: ../src/learner.cc:767: \n",
            "Parameters: { \"n_estimators\", \"use_label_encoder\" } are not used.\n",
            "\n",
            "[0]\tvalidation-auc:0.81501\n",
            "[1]\tvalidation-auc:0.82534\n",
            "[2]\tvalidation-auc:0.83373\n",
            "[3]\tvalidation-auc:0.83489\n",
            "[4]\tvalidation-auc:0.83858\n",
            "[5]\tvalidation-auc:0.83643\n",
            "[6]\tvalidation-auc:0.83983\n",
            "[7]\tvalidation-auc:0.84156\n",
            "[8]\tvalidation-auc:0.84397\n",
            "[9]\tvalidation-auc:0.84527\n"
          ]
        },
        {
          "output_type": "stream",
          "name": "stderr",
          "text": [
            "\u001b[32m[I 2023-03-22 21:27:07,029]\u001b[0m Trial 40 finished with value: 0.7726226993865031 and parameters: {'max_depth': 8, 'learning_rate': 0.04103125996209974, 'n_estimators': 228, 'min_child_weight': 4, 'gamma': 3.9768224002335956e-05, 'subsample': 0.13440043862051085, 'colsample_bytree': 0.791849891992399, 'reg_alpha': 1.9016801765397373e-06, 'reg_lambda': 0.010621766395506866}. Best is trial 14 with value: 0.7833588957055214.\u001b[0m\n"
          ]
        },
        {
          "output_type": "stream",
          "name": "stdout",
          "text": [
            "Trial 40 finished with value: 0.7726226993865031 and parameters: {'max_depth': 8, 'learning_rate': 0.04103125996209974, 'n_estimators': 228, 'min_child_weight': 4, 'gamma': 3.9768224002335956e-05, 'subsample': 0.13440043862051085, 'colsample_bytree': 0.791849891992399, 'reg_alpha': 1.9016801765397373e-06, 'reg_lambda': 0.010621766395506866}. Best is trial 14 with value: 0.7833588957055214.\n",
            "Trial 40 finished with value: 0.7726226993865031 and parameters: {'max_depth': 8, 'learning_rate': 0.04103125996209974, 'n_estimators': 228, 'min_child_weight': 4, 'gamma': 3.9768224002335956e-05, 'subsample': 0.13440043862051085, 'colsample_bytree': 0.791849891992399, 'reg_alpha': 1.9016801765397373e-06, 'reg_lambda': 0.010621766395506866}. Best is trial 14 with value: 0.7833588957055214.\n",
            "[21:27:07] WARNING: ../src/learner.cc:767: \n",
            "Parameters: { \"n_estimators\", \"use_label_encoder\" } are not used.\n",
            "\n",
            "[0]\tvalidation-auc:0.80522\n",
            "[1]\tvalidation-auc:0.82635\n",
            "[2]\tvalidation-auc:0.83667\n",
            "[3]\tvalidation-auc:0.84277\n",
            "[4]\tvalidation-auc:0.84730\n",
            "[5]\tvalidation-auc:0.84788\n",
            "[6]\tvalidation-auc:0.85038\n",
            "[7]\tvalidation-auc:0.85189\n",
            "[8]\tvalidation-auc:0.85516\n",
            "[9]\tvalidation-auc:0.85532\n"
          ]
        },
        {
          "output_type": "stream",
          "name": "stderr",
          "text": [
            "\u001b[32m[I 2023-03-22 21:27:07,267]\u001b[0m Trial 41 finished with value: 0.7753067484662577 and parameters: {'max_depth': 7, 'learning_rate': 0.07177838574016408, 'n_estimators': 200, 'min_child_weight': 2, 'gamma': 1.052473267808314e-05, 'subsample': 0.15760879649317627, 'colsample_bytree': 0.8047411566320779, 'reg_alpha': 1.5052768461943435e-07, 'reg_lambda': 0.0005756504408018767}. Best is trial 14 with value: 0.7833588957055214.\u001b[0m\n"
          ]
        },
        {
          "output_type": "stream",
          "name": "stdout",
          "text": [
            "Trial 41 finished with value: 0.7753067484662577 and parameters: {'max_depth': 7, 'learning_rate': 0.07177838574016408, 'n_estimators': 200, 'min_child_weight': 2, 'gamma': 1.052473267808314e-05, 'subsample': 0.15760879649317627, 'colsample_bytree': 0.8047411566320779, 'reg_alpha': 1.5052768461943435e-07, 'reg_lambda': 0.0005756504408018767}. Best is trial 14 with value: 0.7833588957055214.\n",
            "Trial 41 finished with value: 0.7753067484662577 and parameters: {'max_depth': 7, 'learning_rate': 0.07177838574016408, 'n_estimators': 200, 'min_child_weight': 2, 'gamma': 1.052473267808314e-05, 'subsample': 0.15760879649317627, 'colsample_bytree': 0.8047411566320779, 'reg_alpha': 1.5052768461943435e-07, 'reg_lambda': 0.0005756504408018767}. Best is trial 14 with value: 0.7833588957055214.\n",
            "[21:27:07] WARNING: ../src/learner.cc:767: \n",
            "Parameters: { \"n_estimators\", \"use_label_encoder\" } are not used.\n",
            "\n",
            "[0]\tvalidation-auc:0.76692\n",
            "[1]\tvalidation-auc:0.78194\n",
            "[2]\tvalidation-auc:0.80525\n",
            "[3]\tvalidation-auc:0.80539\n",
            "[4]\tvalidation-auc:0.81007\n",
            "[5]\tvalidation-auc:0.80705\n",
            "[6]\tvalidation-auc:0.81848\n",
            "[7]\tvalidation-auc:0.82387\n",
            "[8]\tvalidation-auc:0.82919\n",
            "[9]\tvalidation-auc:0.82784\n"
          ]
        },
        {
          "output_type": "stream",
          "name": "stderr",
          "text": [
            "\u001b[32m[I 2023-03-22 21:27:07,512]\u001b[0m Trial 42 finished with value: 0.7626533742331288 and parameters: {'max_depth': 9, 'learning_rate': 0.09276895611747005, 'n_estimators': 283, 'min_child_weight': 3, 'gamma': 4.049538556471171e-06, 'subsample': 0.22715641074442625, 'colsample_bytree': 0.44755655128934635, 'reg_alpha': 3.440591521972861e-08, 'reg_lambda': 0.0014462064021287767}. Best is trial 14 with value: 0.7833588957055214.\u001b[0m\n"
          ]
        },
        {
          "output_type": "stream",
          "name": "stdout",
          "text": [
            "Trial 42 finished with value: 0.7626533742331288 and parameters: {'max_depth': 9, 'learning_rate': 0.09276895611747005, 'n_estimators': 283, 'min_child_weight': 3, 'gamma': 4.049538556471171e-06, 'subsample': 0.22715641074442625, 'colsample_bytree': 0.44755655128934635, 'reg_alpha': 3.440591521972861e-08, 'reg_lambda': 0.0014462064021287767}. Best is trial 14 with value: 0.7833588957055214.\n",
            "Trial 42 finished with value: 0.7626533742331288 and parameters: {'max_depth': 9, 'learning_rate': 0.09276895611747005, 'n_estimators': 283, 'min_child_weight': 3, 'gamma': 4.049538556471171e-06, 'subsample': 0.22715641074442625, 'colsample_bytree': 0.44755655128934635, 'reg_alpha': 3.440591521972861e-08, 'reg_lambda': 0.0014462064021287767}. Best is trial 14 with value: 0.7833588957055214.\n",
            "[21:27:07] WARNING: ../src/learner.cc:767: \n",
            "Parameters: { \"n_estimators\", \"use_label_encoder\" } are not used.\n",
            "\n",
            "[0]\tvalidation-auc:0.78545\n",
            "[1]\tvalidation-auc:0.80848\n",
            "[2]\tvalidation-auc:0.82253\n",
            "[3]\tvalidation-auc:0.83516\n",
            "[4]\tvalidation-auc:0.83413\n",
            "[5]\tvalidation-auc:0.83319\n",
            "[6]\tvalidation-auc:0.83807\n",
            "[7]\tvalidation-auc:0.83930\n",
            "[8]\tvalidation-auc:0.84279\n",
            "[9]\tvalidation-auc:0.84142\n"
          ]
        },
        {
          "output_type": "stream",
          "name": "stderr",
          "text": [
            "\u001b[32m[I 2023-03-22 21:27:07,676]\u001b[0m Trial 43 finished with value: 0.7779907975460123 and parameters: {'max_depth': 5, 'learning_rate': 0.040600357207773004, 'n_estimators': 228, 'min_child_weight': 5, 'gamma': 1.4437963595992177e-05, 'subsample': 0.11458429573705207, 'colsample_bytree': 0.6296719963749415, 'reg_alpha': 5.467977310595202e-07, 'reg_lambda': 0.00024597092863401894}. Best is trial 14 with value: 0.7833588957055214.\u001b[0m\n"
          ]
        },
        {
          "output_type": "stream",
          "name": "stdout",
          "text": [
            "Trial 43 finished with value: 0.7779907975460123 and parameters: {'max_depth': 5, 'learning_rate': 0.040600357207773004, 'n_estimators': 228, 'min_child_weight': 5, 'gamma': 1.4437963595992177e-05, 'subsample': 0.11458429573705207, 'colsample_bytree': 0.6296719963749415, 'reg_alpha': 5.467977310595202e-07, 'reg_lambda': 0.00024597092863401894}. Best is trial 14 with value: 0.7833588957055214.\n",
            "Trial 43 finished with value: 0.7779907975460123 and parameters: {'max_depth': 5, 'learning_rate': 0.040600357207773004, 'n_estimators': 228, 'min_child_weight': 5, 'gamma': 1.4437963595992177e-05, 'subsample': 0.11458429573705207, 'colsample_bytree': 0.6296719963749415, 'reg_alpha': 5.467977310595202e-07, 'reg_lambda': 0.00024597092863401894}. Best is trial 14 with value: 0.7833588957055214.\n",
            "[21:27:07] WARNING: ../src/learner.cc:767: \n",
            "Parameters: { \"n_estimators\", \"use_label_encoder\" } are not used.\n",
            "\n",
            "[0]\tvalidation-auc:0.83421\n",
            "[1]\tvalidation-auc:0.84300\n",
            "[2]\tvalidation-auc:0.84965\n",
            "[3]\tvalidation-auc:0.84969\n",
            "[4]\tvalidation-auc:0.85122\n",
            "[5]\tvalidation-auc:0.85159\n",
            "[6]\tvalidation-auc:0.85311\n",
            "[7]\tvalidation-auc:0.85365\n",
            "[8]\tvalidation-auc:0.85313\n",
            "[9]\tvalidation-auc:0.85305\n"
          ]
        },
        {
          "output_type": "stream",
          "name": "stderr",
          "text": [
            "\u001b[32m[I 2023-03-22 21:27:07,899]\u001b[0m Trial 44 finished with value: 0.7802914110429447 and parameters: {'max_depth': 7, 'learning_rate': 0.0708665959904517, 'n_estimators': 258, 'min_child_weight': 4, 'gamma': 9.745359791217778e-05, 'subsample': 0.18762006931540653, 'colsample_bytree': 0.993596201231457, 'reg_alpha': 7.853969182709595e-08, 'reg_lambda': 0.00010863071542908258}. Best is trial 14 with value: 0.7833588957055214.\u001b[0m\n"
          ]
        },
        {
          "output_type": "stream",
          "name": "stdout",
          "text": [
            "Trial 44 finished with value: 0.7802914110429447 and parameters: {'max_depth': 7, 'learning_rate': 0.0708665959904517, 'n_estimators': 258, 'min_child_weight': 4, 'gamma': 9.745359791217778e-05, 'subsample': 0.18762006931540653, 'colsample_bytree': 0.993596201231457, 'reg_alpha': 7.853969182709595e-08, 'reg_lambda': 0.00010863071542908258}. Best is trial 14 with value: 0.7833588957055214.\n",
            "Trial 44 finished with value: 0.7802914110429447 and parameters: {'max_depth': 7, 'learning_rate': 0.0708665959904517, 'n_estimators': 258, 'min_child_weight': 4, 'gamma': 9.745359791217778e-05, 'subsample': 0.18762006931540653, 'colsample_bytree': 0.993596201231457, 'reg_alpha': 7.853969182709595e-08, 'reg_lambda': 0.00010863071542908258}. Best is trial 14 with value: 0.7833588957055214.\n",
            "[21:27:07] WARNING: ../src/learner.cc:767: \n",
            "Parameters: { \"n_estimators\", \"use_label_encoder\" } are not used.\n",
            "\n",
            "[0]\tvalidation-auc:0.77048\n",
            "[1]\tvalidation-auc:0.81502\n",
            "[2]\tvalidation-auc:0.82953\n",
            "[3]\tvalidation-auc:0.83228\n",
            "[4]\tvalidation-auc:0.84127\n",
            "[5]\tvalidation-auc:0.84039\n",
            "[6]\tvalidation-auc:0.84182\n",
            "[7]\tvalidation-auc:0.84569\n",
            "[8]\tvalidation-auc:0.84852\n",
            "[9]\tvalidation-auc:0.85006\n"
          ]
        },
        {
          "output_type": "stream",
          "name": "stderr",
          "text": [
            "\u001b[32m[I 2023-03-22 21:27:08,115]\u001b[0m Trial 45 finished with value: 0.7779907975460123 and parameters: {'max_depth': 7, 'learning_rate': 0.13754456892993344, 'n_estimators': 261, 'min_child_weight': 4, 'gamma': 5.712896364360012e-05, 'subsample': 0.07108808129509028, 'colsample_bytree': 0.8115907808113935, 'reg_alpha': 8.91314112988561e-08, 'reg_lambda': 8.951594681872299e-05}. Best is trial 14 with value: 0.7833588957055214.\u001b[0m\n"
          ]
        },
        {
          "output_type": "stream",
          "name": "stdout",
          "text": [
            "Trial 45 finished with value: 0.7779907975460123 and parameters: {'max_depth': 7, 'learning_rate': 0.13754456892993344, 'n_estimators': 261, 'min_child_weight': 4, 'gamma': 5.712896364360012e-05, 'subsample': 0.07108808129509028, 'colsample_bytree': 0.8115907808113935, 'reg_alpha': 8.91314112988561e-08, 'reg_lambda': 8.951594681872299e-05}. Best is trial 14 with value: 0.7833588957055214.\n",
            "Trial 45 finished with value: 0.7779907975460123 and parameters: {'max_depth': 7, 'learning_rate': 0.13754456892993344, 'n_estimators': 261, 'min_child_weight': 4, 'gamma': 5.712896364360012e-05, 'subsample': 0.07108808129509028, 'colsample_bytree': 0.8115907808113935, 'reg_alpha': 8.91314112988561e-08, 'reg_lambda': 8.951594681872299e-05}. Best is trial 14 with value: 0.7833588957055214.\n",
            "[21:27:08] WARNING: ../src/learner.cc:767: \n",
            "Parameters: { \"n_estimators\", \"use_label_encoder\" } are not used.\n",
            "\n",
            "[0]\tvalidation-auc:0.82661\n",
            "[1]\tvalidation-auc:0.84256\n",
            "[2]\tvalidation-auc:0.85273\n",
            "[3]\tvalidation-auc:0.85336\n",
            "[4]\tvalidation-auc:0.85735\n",
            "[5]\tvalidation-auc:0.85758\n",
            "[6]\tvalidation-auc:0.85825\n",
            "[7]\tvalidation-auc:0.86099\n",
            "[8]\tvalidation-auc:0.86146\n",
            "[9]\tvalidation-auc:0.86106\n"
          ]
        },
        {
          "output_type": "stream",
          "name": "stderr",
          "text": [
            "\u001b[32m[I 2023-03-22 21:27:08,405]\u001b[0m Trial 46 finished with value: 0.7891104294478528 and parameters: {'max_depth': 8, 'learning_rate': 0.10413594849250694, 'n_estimators': 353, 'min_child_weight': 3, 'gamma': 0.00017755279222997068, 'subsample': 0.25274194697577174, 'colsample_bytree': 0.966122426018291, 'reg_alpha': 9.917153527682685e-06, 'reg_lambda': 2.8732879146535832e-05}. Best is trial 46 with value: 0.7891104294478528.\u001b[0m\n"
          ]
        },
        {
          "output_type": "stream",
          "name": "stdout",
          "text": [
            "Trial 46 finished with value: 0.7891104294478528 and parameters: {'max_depth': 8, 'learning_rate': 0.10413594849250694, 'n_estimators': 353, 'min_child_weight': 3, 'gamma': 0.00017755279222997068, 'subsample': 0.25274194697577174, 'colsample_bytree': 0.966122426018291, 'reg_alpha': 9.917153527682685e-06, 'reg_lambda': 2.8732879146535832e-05}. Best is trial 46 with value: 0.7891104294478528.\n",
            "Trial 46 finished with value: 0.7891104294478528 and parameters: {'max_depth': 8, 'learning_rate': 0.10413594849250694, 'n_estimators': 353, 'min_child_weight': 3, 'gamma': 0.00017755279222997068, 'subsample': 0.25274194697577174, 'colsample_bytree': 0.966122426018291, 'reg_alpha': 9.917153527682685e-06, 'reg_lambda': 2.8732879146535832e-05}. Best is trial 46 with value: 0.7891104294478528.\n",
            "[21:27:08] WARNING: ../src/learner.cc:767: \n",
            "Parameters: { \"n_estimators\", \"use_label_encoder\" } are not used.\n",
            "\n",
            "[0]\tvalidation-auc:0.77269\n",
            "[1]\tvalidation-auc:0.80800\n",
            "[2]\tvalidation-auc:0.82625\n",
            "[3]\tvalidation-auc:0.84286\n",
            "[4]\tvalidation-auc:0.84519\n",
            "[5]\tvalidation-auc:0.84582\n",
            "[6]\tvalidation-auc:0.85260\n",
            "[7]\tvalidation-auc:0.85522\n",
            "[8]\tvalidation-auc:0.85830\n",
            "[9]\tvalidation-auc:0.85711\n"
          ]
        },
        {
          "output_type": "stream",
          "name": "stderr",
          "text": [
            "\u001b[32m[I 2023-03-22 21:27:08,710]\u001b[0m Trial 47 finished with value: 0.7871932515337423 and parameters: {'max_depth': 8, 'learning_rate': 0.07941076047024764, 'n_estimators': 426, 'min_child_weight': 3, 'gamma': 0.00022562157824956812, 'subsample': 0.37279037504180396, 'colsample_bytree': 0.6644463725369273, 'reg_alpha': 1.2679819099693503e-05, 'reg_lambda': 2.604475975106284e-05}. Best is trial 46 with value: 0.7891104294478528.\u001b[0m\n"
          ]
        },
        {
          "output_type": "stream",
          "name": "stdout",
          "text": [
            "Trial 47 finished with value: 0.7871932515337423 and parameters: {'max_depth': 8, 'learning_rate': 0.07941076047024764, 'n_estimators': 426, 'min_child_weight': 3, 'gamma': 0.00022562157824956812, 'subsample': 0.37279037504180396, 'colsample_bytree': 0.6644463725369273, 'reg_alpha': 1.2679819099693503e-05, 'reg_lambda': 2.604475975106284e-05}. Best is trial 46 with value: 0.7891104294478528.\n",
            "Trial 47 finished with value: 0.7871932515337423 and parameters: {'max_depth': 8, 'learning_rate': 0.07941076047024764, 'n_estimators': 426, 'min_child_weight': 3, 'gamma': 0.00022562157824956812, 'subsample': 0.37279037504180396, 'colsample_bytree': 0.6644463725369273, 'reg_alpha': 1.2679819099693503e-05, 'reg_lambda': 2.604475975106284e-05}. Best is trial 46 with value: 0.7891104294478528.\n",
            "[21:27:08] WARNING: ../src/learner.cc:767: \n",
            "Parameters: { \"n_estimators\", \"use_label_encoder\" } are not used.\n",
            "\n",
            "[0]\tvalidation-auc:0.76546\n",
            "[1]\tvalidation-auc:0.81146\n",
            "[2]\tvalidation-auc:0.82933\n",
            "[3]\tvalidation-auc:0.84332\n",
            "[4]\tvalidation-auc:0.84752\n",
            "[5]\tvalidation-auc:0.84783\n",
            "[6]\tvalidation-auc:0.85338\n",
            "[7]\tvalidation-auc:0.85572\n",
            "[8]\tvalidation-auc:0.85788\n",
            "[9]\tvalidation-auc:0.85643\n"
          ]
        },
        {
          "output_type": "stream",
          "name": "stderr",
          "text": [
            "\u001b[32m[I 2023-03-22 21:27:09,090]\u001b[0m Trial 48 finished with value: 0.7852760736196319 and parameters: {'max_depth': 9, 'learning_rate': 0.09357366223613346, 'n_estimators': 409, 'min_child_weight': 2, 'gamma': 0.00024846086648210806, 'subsample': 0.44942690452686557, 'colsample_bytree': 0.6496641378051022, 'reg_alpha': 1.8147449672706973e-05, 'reg_lambda': 2.848461297478338e-05}. Best is trial 46 with value: 0.7891104294478528.\u001b[0m\n"
          ]
        },
        {
          "output_type": "stream",
          "name": "stdout",
          "text": [
            "Trial 48 finished with value: 0.7852760736196319 and parameters: {'max_depth': 9, 'learning_rate': 0.09357366223613346, 'n_estimators': 409, 'min_child_weight': 2, 'gamma': 0.00024846086648210806, 'subsample': 0.44942690452686557, 'colsample_bytree': 0.6496641378051022, 'reg_alpha': 1.8147449672706973e-05, 'reg_lambda': 2.848461297478338e-05}. Best is trial 46 with value: 0.7891104294478528.\n",
            "Trial 48 finished with value: 0.7852760736196319 and parameters: {'max_depth': 9, 'learning_rate': 0.09357366223613346, 'n_estimators': 409, 'min_child_weight': 2, 'gamma': 0.00024846086648210806, 'subsample': 0.44942690452686557, 'colsample_bytree': 0.6496641378051022, 'reg_alpha': 1.8147449672706973e-05, 'reg_lambda': 2.848461297478338e-05}. Best is trial 46 with value: 0.7891104294478528.\n",
            "[21:27:09] WARNING: ../src/learner.cc:767: \n",
            "Parameters: { \"n_estimators\", \"use_label_encoder\" } are not used.\n",
            "\n",
            "[0]\tvalidation-auc:0.76593\n",
            "[1]\tvalidation-auc:0.80116\n",
            "[2]\tvalidation-auc:0.81594\n",
            "[3]\tvalidation-auc:0.82931\n",
            "[4]\tvalidation-auc:0.83661\n",
            "[5]\tvalidation-auc:0.83694\n",
            "[6]\tvalidation-auc:0.84154\n",
            "[7]\tvalidation-auc:0.84414\n",
            "[8]\tvalidation-auc:0.84866\n",
            "[9]\tvalidation-auc:0.84783\n"
          ]
        },
        {
          "output_type": "stream",
          "name": "stderr",
          "text": [
            "\u001b[32m[I 2023-03-22 21:27:09,430]\u001b[0m Trial 49 finished with value: 0.776457055214724 and parameters: {'max_depth': 9, 'learning_rate': 0.14612307866477678, 'n_estimators': 454, 'min_child_weight': 2, 'gamma': 0.00022096538605341455, 'subsample': 0.37889407283747717, 'colsample_bytree': 0.48019966540908066, 'reg_alpha': 1.187368656305232e-05, 'reg_lambda': 2.6699007040021052e-05}. Best is trial 46 with value: 0.7891104294478528.\u001b[0m\n"
          ]
        },
        {
          "output_type": "stream",
          "name": "stdout",
          "text": [
            "Trial 49 finished with value: 0.776457055214724 and parameters: {'max_depth': 9, 'learning_rate': 0.14612307866477678, 'n_estimators': 454, 'min_child_weight': 2, 'gamma': 0.00022096538605341455, 'subsample': 0.37889407283747717, 'colsample_bytree': 0.48019966540908066, 'reg_alpha': 1.187368656305232e-05, 'reg_lambda': 2.6699007040021052e-05}. Best is trial 46 with value: 0.7891104294478528.\n",
            "Trial 49 finished with value: 0.776457055214724 and parameters: {'max_depth': 9, 'learning_rate': 0.14612307866477678, 'n_estimators': 454, 'min_child_weight': 2, 'gamma': 0.00022096538605341455, 'subsample': 0.37889407283747717, 'colsample_bytree': 0.48019966540908066, 'reg_alpha': 1.187368656305232e-05, 'reg_lambda': 2.6699007040021052e-05}. Best is trial 46 with value: 0.7891104294478528.\n",
            "[21:27:09] WARNING: ../src/learner.cc:767: \n",
            "Parameters: { \"n_estimators\", \"use_label_encoder\" } are not used.\n",
            "\n",
            "[0]\tvalidation-auc:0.76816\n",
            "[1]\tvalidation-auc:0.81498\n",
            "[2]\tvalidation-auc:0.83195\n",
            "[3]\tvalidation-auc:0.84656\n",
            "[4]\tvalidation-auc:0.85075\n",
            "[5]\tvalidation-auc:0.84890\n",
            "[6]\tvalidation-auc:0.85364\n",
            "[7]\tvalidation-auc:0.85603\n",
            "[8]\tvalidation-auc:0.85835\n",
            "[9]\tvalidation-auc:0.85781\n"
          ]
        },
        {
          "output_type": "stream",
          "name": "stderr",
          "text": [
            "\u001b[32m[I 2023-03-22 21:27:09,773]\u001b[0m Trial 50 finished with value: 0.7841257668711656 and parameters: {'max_depth': 8, 'learning_rate': 0.09112297534543116, 'n_estimators': 398, 'min_child_weight': 2, 'gamma': 0.0007060779755922535, 'subsample': 0.41302468160200007, 'colsample_bytree': 0.6260946582823349, 'reg_alpha': 5.302135979143337e-05, 'reg_lambda': 1.0581261548454595e-05}. Best is trial 46 with value: 0.7891104294478528.\u001b[0m\n"
          ]
        },
        {
          "output_type": "stream",
          "name": "stdout",
          "text": [
            "Trial 50 finished with value: 0.7841257668711656 and parameters: {'max_depth': 8, 'learning_rate': 0.09112297534543116, 'n_estimators': 398, 'min_child_weight': 2, 'gamma': 0.0007060779755922535, 'subsample': 0.41302468160200007, 'colsample_bytree': 0.6260946582823349, 'reg_alpha': 5.302135979143337e-05, 'reg_lambda': 1.0581261548454595e-05}. Best is trial 46 with value: 0.7891104294478528.\n",
            "Trial 50 finished with value: 0.7841257668711656 and parameters: {'max_depth': 8, 'learning_rate': 0.09112297534543116, 'n_estimators': 398, 'min_child_weight': 2, 'gamma': 0.0007060779755922535, 'subsample': 0.41302468160200007, 'colsample_bytree': 0.6260946582823349, 'reg_alpha': 5.302135979143337e-05, 'reg_lambda': 1.0581261548454595e-05}. Best is trial 46 with value: 0.7891104294478528.\n",
            "[21:27:09] WARNING: ../src/learner.cc:767: \n",
            "Parameters: { \"n_estimators\", \"use_label_encoder\" } are not used.\n",
            "\n",
            "[0]\tvalidation-auc:0.77194\n",
            "[1]\tvalidation-auc:0.81007\n",
            "[2]\tvalidation-auc:0.82990\n",
            "[3]\tvalidation-auc:0.84512\n",
            "[4]\tvalidation-auc:0.84784\n",
            "[5]\tvalidation-auc:0.84737\n",
            "[6]\tvalidation-auc:0.85287\n",
            "[7]\tvalidation-auc:0.85469\n",
            "[8]\tvalidation-auc:0.85720\n",
            "[9]\tvalidation-auc:0.85682\n"
          ]
        },
        {
          "output_type": "stream",
          "name": "stderr",
          "text": [
            "\u001b[32m[I 2023-03-22 21:27:10,109]\u001b[0m Trial 51 finished with value: 0.7802914110429447 and parameters: {'max_depth': 8, 'learning_rate': 0.09739265457186558, 'n_estimators': 403, 'min_child_weight': 2, 'gamma': 0.000573207559187266, 'subsample': 0.46178365026801804, 'colsample_bytree': 0.6414748368864052, 'reg_alpha': 8.129868679506061e-05, 'reg_lambda': 1.2189075788509777e-05}. Best is trial 46 with value: 0.7891104294478528.\u001b[0m\n"
          ]
        },
        {
          "output_type": "stream",
          "name": "stdout",
          "text": [
            "Trial 51 finished with value: 0.7802914110429447 and parameters: {'max_depth': 8, 'learning_rate': 0.09739265457186558, 'n_estimators': 403, 'min_child_weight': 2, 'gamma': 0.000573207559187266, 'subsample': 0.46178365026801804, 'colsample_bytree': 0.6414748368864052, 'reg_alpha': 8.129868679506061e-05, 'reg_lambda': 1.2189075788509777e-05}. Best is trial 46 with value: 0.7891104294478528.\n",
            "Trial 51 finished with value: 0.7802914110429447 and parameters: {'max_depth': 8, 'learning_rate': 0.09739265457186558, 'n_estimators': 403, 'min_child_weight': 2, 'gamma': 0.000573207559187266, 'subsample': 0.46178365026801804, 'colsample_bytree': 0.6414748368864052, 'reg_alpha': 8.129868679506061e-05, 'reg_lambda': 1.2189075788509777e-05}. Best is trial 46 with value: 0.7891104294478528.\n",
            "[21:27:10] WARNING: ../src/learner.cc:767: \n",
            "Parameters: { \"n_estimators\", \"use_label_encoder\" } are not used.\n",
            "\n",
            "[0]\tvalidation-auc:0.75604\n",
            "[1]\tvalidation-auc:0.80543\n",
            "[2]\tvalidation-auc:0.82642\n",
            "[3]\tvalidation-auc:0.84306\n",
            "[4]\tvalidation-auc:0.84536\n",
            "[5]\tvalidation-auc:0.84327\n",
            "[6]\tvalidation-auc:0.84973\n",
            "[7]\tvalidation-auc:0.85283\n",
            "[8]\tvalidation-auc:0.85527\n",
            "[9]\tvalidation-auc:0.85587\n"
          ]
        },
        {
          "output_type": "stream",
          "name": "stderr",
          "text": [
            "\u001b[32m[I 2023-03-22 21:27:10,513]\u001b[0m Trial 52 finished with value: 0.7756901840490797 and parameters: {'max_depth': 9, 'learning_rate': 0.0840761470468966, 'n_estimators': 353, 'min_child_weight': 1, 'gamma': 0.0031235015417307183, 'subsample': 0.4457951345198327, 'colsample_bytree': 0.6344075993572784, 'reg_alpha': 3.890179855411256e-05, 'reg_lambda': 3.0427352237770725e-05}. Best is trial 46 with value: 0.7891104294478528.\u001b[0m\n"
          ]
        },
        {
          "output_type": "stream",
          "name": "stdout",
          "text": [
            "Trial 52 finished with value: 0.7756901840490797 and parameters: {'max_depth': 9, 'learning_rate': 0.0840761470468966, 'n_estimators': 353, 'min_child_weight': 1, 'gamma': 0.0031235015417307183, 'subsample': 0.4457951345198327, 'colsample_bytree': 0.6344075993572784, 'reg_alpha': 3.890179855411256e-05, 'reg_lambda': 3.0427352237770725e-05}. Best is trial 46 with value: 0.7891104294478528.\n",
            "Trial 52 finished with value: 0.7756901840490797 and parameters: {'max_depth': 9, 'learning_rate': 0.0840761470468966, 'n_estimators': 353, 'min_child_weight': 1, 'gamma': 0.0031235015417307183, 'subsample': 0.4457951345198327, 'colsample_bytree': 0.6344075993572784, 'reg_alpha': 3.890179855411256e-05, 'reg_lambda': 3.0427352237770725e-05}. Best is trial 46 with value: 0.7891104294478528.\n",
            "[21:27:10] WARNING: ../src/learner.cc:767: \n",
            "Parameters: { \"n_estimators\", \"use_label_encoder\" } are not used.\n",
            "\n",
            "[0]\tvalidation-auc:0.76486\n",
            "[1]\tvalidation-auc:0.79933\n",
            "[2]\tvalidation-auc:0.81620\n",
            "[3]\tvalidation-auc:0.83040\n",
            "[4]\tvalidation-auc:0.83602\n",
            "[5]\tvalidation-auc:0.83555\n",
            "[6]\tvalidation-auc:0.84152\n",
            "[7]\tvalidation-auc:0.84383\n",
            "[8]\tvalidation-auc:0.84760\n",
            "[9]\tvalidation-auc:0.84606\n"
          ]
        },
        {
          "output_type": "stream",
          "name": "stderr",
          "text": [
            "\u001b[32m[I 2023-03-22 21:27:10,818]\u001b[0m Trial 53 finished with value: 0.7707055214723927 and parameters: {'max_depth': 8, 'learning_rate': 0.1052646605894666, 'n_estimators': 450, 'min_child_weight': 2, 'gamma': 0.0003395731023594655, 'subsample': 0.24926426361295675, 'colsample_bytree': 0.5340137624475934, 'reg_alpha': 7.6012836785906046e-06, 'reg_lambda': 2.8630751648784573e-06}. Best is trial 46 with value: 0.7891104294478528.\u001b[0m\n"
          ]
        },
        {
          "output_type": "stream",
          "name": "stdout",
          "text": [
            "Trial 53 finished with value: 0.7707055214723927 and parameters: {'max_depth': 8, 'learning_rate': 0.1052646605894666, 'n_estimators': 450, 'min_child_weight': 2, 'gamma': 0.0003395731023594655, 'subsample': 0.24926426361295675, 'colsample_bytree': 0.5340137624475934, 'reg_alpha': 7.6012836785906046e-06, 'reg_lambda': 2.8630751648784573e-06}. Best is trial 46 with value: 0.7891104294478528.\n",
            "Trial 53 finished with value: 0.7707055214723927 and parameters: {'max_depth': 8, 'learning_rate': 0.1052646605894666, 'n_estimators': 450, 'min_child_weight': 2, 'gamma': 0.0003395731023594655, 'subsample': 0.24926426361295675, 'colsample_bytree': 0.5340137624475934, 'reg_alpha': 7.6012836785906046e-06, 'reg_lambda': 2.8630751648784573e-06}. Best is trial 46 with value: 0.7891104294478528.\n",
            "[21:27:10] WARNING: ../src/learner.cc:767: \n",
            "Parameters: { \"n_estimators\", \"use_label_encoder\" } are not used.\n",
            "\n",
            "[0]\tvalidation-auc:0.78030\n",
            "[1]\tvalidation-auc:0.78585\n",
            "[2]\tvalidation-auc:0.81270\n",
            "[3]\tvalidation-auc:0.81543\n",
            "[4]\tvalidation-auc:0.81890\n",
            "[5]\tvalidation-auc:0.81819\n",
            "[6]\tvalidation-auc:0.82915\n",
            "[7]\tvalidation-auc:0.83159\n",
            "[8]\tvalidation-auc:0.83769\n",
            "[9]\tvalidation-auc:0.83684\n"
          ]
        },
        {
          "output_type": "stream",
          "name": "stderr",
          "text": [
            "\u001b[32m[I 2023-03-22 21:27:11,108]\u001b[0m Trial 54 finished with value: 0.772239263803681 and parameters: {'max_depth': 8, 'learning_rate': 0.18033944625485498, 'n_estimators': 387, 'min_child_weight': 3, 'gamma': 0.00012360315173728597, 'subsample': 0.27507777488426777, 'colsample_bytree': 0.40176648990894304, 'reg_alpha': 0.0003621509508455234, 'reg_lambda': 1.4698415317550601e-05}. Best is trial 46 with value: 0.7891104294478528.\u001b[0m\n"
          ]
        },
        {
          "output_type": "stream",
          "name": "stdout",
          "text": [
            "Trial 54 finished with value: 0.772239263803681 and parameters: {'max_depth': 8, 'learning_rate': 0.18033944625485498, 'n_estimators': 387, 'min_child_weight': 3, 'gamma': 0.00012360315173728597, 'subsample': 0.27507777488426777, 'colsample_bytree': 0.40176648990894304, 'reg_alpha': 0.0003621509508455234, 'reg_lambda': 1.4698415317550601e-05}. Best is trial 46 with value: 0.7891104294478528.\n",
            "Trial 54 finished with value: 0.772239263803681 and parameters: {'max_depth': 8, 'learning_rate': 0.18033944625485498, 'n_estimators': 387, 'min_child_weight': 3, 'gamma': 0.00012360315173728597, 'subsample': 0.27507777488426777, 'colsample_bytree': 0.40176648990894304, 'reg_alpha': 0.0003621509508455234, 'reg_lambda': 1.4698415317550601e-05}. Best is trial 46 with value: 0.7891104294478528.\n",
            "[21:27:11] WARNING: ../src/learner.cc:767: \n",
            "Parameters: { \"n_estimators\", \"use_label_encoder\" } are not used.\n",
            "\n",
            "[0]\tvalidation-auc:0.83946\n",
            "[1]\tvalidation-auc:0.84773\n",
            "[2]\tvalidation-auc:0.85007\n",
            "[3]\tvalidation-auc:0.85508\n",
            "[4]\tvalidation-auc:0.85692\n",
            "[5]\tvalidation-auc:0.85496\n",
            "[6]\tvalidation-auc:0.85898\n",
            "[7]\tvalidation-auc:0.86060\n",
            "[8]\tvalidation-auc:0.86120\n",
            "[9]\tvalidation-auc:0.86127\n"
          ]
        },
        {
          "output_type": "stream",
          "name": "stderr",
          "text": [
            "\u001b[32m[I 2023-03-22 21:27:11,430]\u001b[0m Trial 55 finished with value: 0.7848926380368099 and parameters: {'max_depth': 9, 'learning_rate': 0.14241150879270198, 'n_estimators': 461, 'min_child_weight': 3, 'gamma': 0.0007739947129398863, 'subsample': 0.3449632938804047, 'colsample_bytree': 0.858140273424662, 'reg_alpha': 3.1246423988648706e-06, 'reg_lambda': 5.888663165011826e-05}. Best is trial 46 with value: 0.7891104294478528.\u001b[0m\n"
          ]
        },
        {
          "output_type": "stream",
          "name": "stdout",
          "text": [
            "Trial 55 finished with value: 0.7848926380368099 and parameters: {'max_depth': 9, 'learning_rate': 0.14241150879270198, 'n_estimators': 461, 'min_child_weight': 3, 'gamma': 0.0007739947129398863, 'subsample': 0.3449632938804047, 'colsample_bytree': 0.858140273424662, 'reg_alpha': 3.1246423988648706e-06, 'reg_lambda': 5.888663165011826e-05}. Best is trial 46 with value: 0.7891104294478528.\n",
            "Trial 55 finished with value: 0.7848926380368099 and parameters: {'max_depth': 9, 'learning_rate': 0.14241150879270198, 'n_estimators': 461, 'min_child_weight': 3, 'gamma': 0.0007739947129398863, 'subsample': 0.3449632938804047, 'colsample_bytree': 0.858140273424662, 'reg_alpha': 3.1246423988648706e-06, 'reg_lambda': 5.888663165011826e-05}. Best is trial 46 with value: 0.7891104294478528.\n",
            "[21:27:11] WARNING: ../src/learner.cc:767: \n",
            "Parameters: { \"n_estimators\", \"use_label_encoder\" } are not used.\n",
            "\n",
            "[0]\tvalidation-auc:0.79825\n",
            "[1]\tvalidation-auc:0.83024\n",
            "[2]\tvalidation-auc:0.84497\n",
            "[3]\tvalidation-auc:0.85281\n",
            "[4]\tvalidation-auc:0.85378\n",
            "[5]\tvalidation-auc:0.85463\n",
            "[6]\tvalidation-auc:0.85780\n",
            "[7]\tvalidation-auc:0.85807\n",
            "[8]\tvalidation-auc:0.86031\n",
            "[9]\tvalidation-auc:0.86021\n"
          ]
        },
        {
          "output_type": "stream",
          "name": "stderr",
          "text": [
            "\u001b[32m[I 2023-03-22 21:27:11,782]\u001b[0m Trial 56 finished with value: 0.7879601226993865 and parameters: {'max_depth': 9, 'learning_rate': 0.1479306011472942, 'n_estimators': 465, 'min_child_weight': 3, 'gamma': 0.0010504744284774961, 'subsample': 0.6122891594121646, 'colsample_bytree': 0.6999207277602568, 'reg_alpha': 3.702047134479157e-06, 'reg_lambda': 5.172598967791754e-06}. Best is trial 46 with value: 0.7891104294478528.\u001b[0m\n"
          ]
        },
        {
          "output_type": "stream",
          "name": "stdout",
          "text": [
            "Trial 56 finished with value: 0.7879601226993865 and parameters: {'max_depth': 9, 'learning_rate': 0.1479306011472942, 'n_estimators': 465, 'min_child_weight': 3, 'gamma': 0.0010504744284774961, 'subsample': 0.6122891594121646, 'colsample_bytree': 0.6999207277602568, 'reg_alpha': 3.702047134479157e-06, 'reg_lambda': 5.172598967791754e-06}. Best is trial 46 with value: 0.7891104294478528.\n",
            "Trial 56 finished with value: 0.7879601226993865 and parameters: {'max_depth': 9, 'learning_rate': 0.1479306011472942, 'n_estimators': 465, 'min_child_weight': 3, 'gamma': 0.0010504744284774961, 'subsample': 0.6122891594121646, 'colsample_bytree': 0.6999207277602568, 'reg_alpha': 3.702047134479157e-06, 'reg_lambda': 5.172598967791754e-06}. Best is trial 46 with value: 0.7891104294478528.\n",
            "[21:27:11] WARNING: ../src/learner.cc:767: \n",
            "Parameters: { \"n_estimators\", \"use_label_encoder\" } are not used.\n",
            "\n",
            "[0]\tvalidation-auc:0.74536\n",
            "[1]\tvalidation-auc:0.77440\n",
            "[2]\tvalidation-auc:0.76732\n",
            "[3]\tvalidation-auc:0.76373\n",
            "[4]\tvalidation-auc:0.76410\n",
            "[5]\tvalidation-auc:0.77232\n",
            "[6]\tvalidation-auc:0.77697\n",
            "[7]\tvalidation-auc:0.78150\n",
            "[8]\tvalidation-auc:0.78881\n",
            "[9]\tvalidation-auc:0.79375\n"
          ]
        },
        {
          "output_type": "stream",
          "name": "stderr",
          "text": [
            "\u001b[32m[I 2023-03-22 21:27:12,117]\u001b[0m Trial 57 finished with value: 0.745782208588957 and parameters: {'max_depth': 9, 'learning_rate': 0.13093338737916707, 'n_estimators': 470, 'min_child_weight': 3, 'gamma': 0.0006103200025274852, 'subsample': 0.6217685090618981, 'colsample_bytree': 0.18973836302674854, 'reg_alpha': 1.7548759055195128e-05, 'reg_lambda': 5.289559251692656e-06}. Best is trial 46 with value: 0.7891104294478528.\u001b[0m\n"
          ]
        },
        {
          "output_type": "stream",
          "name": "stdout",
          "text": [
            "Trial 57 finished with value: 0.745782208588957 and parameters: {'max_depth': 9, 'learning_rate': 0.13093338737916707, 'n_estimators': 470, 'min_child_weight': 3, 'gamma': 0.0006103200025274852, 'subsample': 0.6217685090618981, 'colsample_bytree': 0.18973836302674854, 'reg_alpha': 1.7548759055195128e-05, 'reg_lambda': 5.289559251692656e-06}. Best is trial 46 with value: 0.7891104294478528.\n",
            "Trial 57 finished with value: 0.745782208588957 and parameters: {'max_depth': 9, 'learning_rate': 0.13093338737916707, 'n_estimators': 470, 'min_child_weight': 3, 'gamma': 0.0006103200025274852, 'subsample': 0.6217685090618981, 'colsample_bytree': 0.18973836302674854, 'reg_alpha': 1.7548759055195128e-05, 'reg_lambda': 5.289559251692656e-06}. Best is trial 46 with value: 0.7891104294478528.\n",
            "[21:27:12] WARNING: ../src/learner.cc:767: \n",
            "Parameters: { \"n_estimators\", \"use_label_encoder\" } are not used.\n",
            "\n",
            "[0]\tvalidation-auc:0.80215\n",
            "[1]\tvalidation-auc:0.82751\n",
            "[2]\tvalidation-auc:0.83964\n",
            "[3]\tvalidation-auc:0.84903\n",
            "[4]\tvalidation-auc:0.85124\n",
            "[5]\tvalidation-auc:0.85057\n",
            "[6]\tvalidation-auc:0.85593\n",
            "[7]\tvalidation-auc:0.85676\n",
            "[8]\tvalidation-auc:0.85901\n",
            "[9]\tvalidation-auc:0.85780\n"
          ]
        },
        {
          "output_type": "stream",
          "name": "stderr",
          "text": [
            "\u001b[32m[I 2023-03-22 21:27:12,440]\u001b[0m Trial 58 finished with value: 0.7898773006134969 and parameters: {'max_depth': 9, 'learning_rate': 0.09919222993495677, 'n_estimators': 440, 'min_child_weight': 3, 'gamma': 0.0024537892625929947, 'subsample': 0.34782123961586275, 'colsample_bytree': 0.6983968051645275, 'reg_alpha': 4.532564166434153e-06, 'reg_lambda': 1.0034502758569696e-06}. Best is trial 58 with value: 0.7898773006134969.\u001b[0m\n"
          ]
        },
        {
          "output_type": "stream",
          "name": "stdout",
          "text": [
            "Trial 58 finished with value: 0.7898773006134969 and parameters: {'max_depth': 9, 'learning_rate': 0.09919222993495677, 'n_estimators': 440, 'min_child_weight': 3, 'gamma': 0.0024537892625929947, 'subsample': 0.34782123961586275, 'colsample_bytree': 0.6983968051645275, 'reg_alpha': 4.532564166434153e-06, 'reg_lambda': 1.0034502758569696e-06}. Best is trial 58 with value: 0.7898773006134969.\n",
            "Trial 58 finished with value: 0.7898773006134969 and parameters: {'max_depth': 9, 'learning_rate': 0.09919222993495677, 'n_estimators': 440, 'min_child_weight': 3, 'gamma': 0.0024537892625929947, 'subsample': 0.34782123961586275, 'colsample_bytree': 0.6983968051645275, 'reg_alpha': 4.532564166434153e-06, 'reg_lambda': 1.0034502758569696e-06}. Best is trial 58 with value: 0.7898773006134969.\n",
            "[21:27:12] WARNING: ../src/learner.cc:767: \n",
            "Parameters: { \"n_estimators\", \"use_label_encoder\" } are not used.\n",
            "\n",
            "[0]\tvalidation-auc:0.79927\n",
            "[1]\tvalidation-auc:0.82762\n",
            "[2]\tvalidation-auc:0.84005\n",
            "[3]\tvalidation-auc:0.84940\n",
            "[4]\tvalidation-auc:0.85354\n",
            "[5]\tvalidation-auc:0.85374\n",
            "[6]\tvalidation-auc:0.85727\n",
            "[7]\tvalidation-auc:0.85787\n",
            "[8]\tvalidation-auc:0.86026\n",
            "[9]\tvalidation-auc:0.85992\n"
          ]
        },
        {
          "output_type": "stream",
          "name": "stderr",
          "text": [
            "\u001b[32m[I 2023-03-22 21:27:12,699]\u001b[0m Trial 59 finished with value: 0.7871932515337423 and parameters: {'max_depth': 9, 'learning_rate': 0.15396040287845245, 'n_estimators': 436, 'min_child_weight': 3, 'gamma': 0.002108989601157911, 'subsample': 0.31568232414050174, 'colsample_bytree': 0.7462208424337043, 'reg_alpha': 3.720344229385509e-06, 'reg_lambda': 1.069794577863049e-06}. Best is trial 58 with value: 0.7898773006134969.\u001b[0m\n"
          ]
        },
        {
          "output_type": "stream",
          "name": "stdout",
          "text": [
            "Trial 59 finished with value: 0.7871932515337423 and parameters: {'max_depth': 9, 'learning_rate': 0.15396040287845245, 'n_estimators': 436, 'min_child_weight': 3, 'gamma': 0.002108989601157911, 'subsample': 0.31568232414050174, 'colsample_bytree': 0.7462208424337043, 'reg_alpha': 3.720344229385509e-06, 'reg_lambda': 1.069794577863049e-06}. Best is trial 58 with value: 0.7898773006134969.\n",
            "Trial 59 finished with value: 0.7871932515337423 and parameters: {'max_depth': 9, 'learning_rate': 0.15396040287845245, 'n_estimators': 436, 'min_child_weight': 3, 'gamma': 0.002108989601157911, 'subsample': 0.31568232414050174, 'colsample_bytree': 0.7462208424337043, 'reg_alpha': 3.720344229385509e-06, 'reg_lambda': 1.069794577863049e-06}. Best is trial 58 with value: 0.7898773006134969.\n",
            "[21:27:12] WARNING: ../src/learner.cc:767: \n",
            "Parameters: { \"n_estimators\", \"use_label_encoder\" } are not used.\n",
            "\n",
            "[0]\tvalidation-auc:0.80077\n",
            "[1]\tvalidation-auc:0.83405\n",
            "[2]\tvalidation-auc:0.84724\n",
            "[3]\tvalidation-auc:0.85305\n",
            "[4]\tvalidation-auc:0.85425\n",
            "[5]\tvalidation-auc:0.85325\n",
            "[6]\tvalidation-auc:0.85578\n",
            "[7]\tvalidation-auc:0.85777\n",
            "[8]\tvalidation-auc:0.86008\n",
            "[9]\tvalidation-auc:0.85879\n"
          ]
        },
        {
          "output_type": "stream",
          "name": "stderr",
          "text": [
            "\u001b[32m[I 2023-03-22 21:27:12,982]\u001b[0m Trial 60 finished with value: 0.785659509202454 and parameters: {'max_depth': 9, 'learning_rate': 0.10048072617614409, 'n_estimators': 426, 'min_child_weight': 3, 'gamma': 0.0027825920706169675, 'subsample': 0.4972560395392736, 'colsample_bytree': 0.7076762098266396, 'reg_alpha': 5.895444236737566e-06, 'reg_lambda': 1.01230658021058e-06}. Best is trial 58 with value: 0.7898773006134969.\u001b[0m\n"
          ]
        },
        {
          "output_type": "stream",
          "name": "stdout",
          "text": [
            "Trial 60 finished with value: 0.785659509202454 and parameters: {'max_depth': 9, 'learning_rate': 0.10048072617614409, 'n_estimators': 426, 'min_child_weight': 3, 'gamma': 0.0027825920706169675, 'subsample': 0.4972560395392736, 'colsample_bytree': 0.7076762098266396, 'reg_alpha': 5.895444236737566e-06, 'reg_lambda': 1.01230658021058e-06}. Best is trial 58 with value: 0.7898773006134969.\n",
            "Trial 60 finished with value: 0.785659509202454 and parameters: {'max_depth': 9, 'learning_rate': 0.10048072617614409, 'n_estimators': 426, 'min_child_weight': 3, 'gamma': 0.0027825920706169675, 'subsample': 0.4972560395392736, 'colsample_bytree': 0.7076762098266396, 'reg_alpha': 5.895444236737566e-06, 'reg_lambda': 1.01230658021058e-06}. Best is trial 58 with value: 0.7898773006134969.\n",
            "[21:27:13] WARNING: ../src/learner.cc:767: \n",
            "Parameters: { \"n_estimators\", \"use_label_encoder\" } are not used.\n",
            "\n",
            "[0]\tvalidation-auc:0.80016\n",
            "[1]\tvalidation-auc:0.83390\n",
            "[2]\tvalidation-auc:0.84705\n",
            "[3]\tvalidation-auc:0.85444\n",
            "[4]\tvalidation-auc:0.85691\n",
            "[5]\tvalidation-auc:0.85627\n",
            "[6]\tvalidation-auc:0.85818\n",
            "[7]\tvalidation-auc:0.85830\n",
            "[8]\tvalidation-auc:0.86114\n",
            "[9]\tvalidation-auc:0.86021\n"
          ]
        },
        {
          "output_type": "stream",
          "name": "stderr",
          "text": [
            "\u001b[32m[I 2023-03-22 21:27:13,274]\u001b[0m Trial 61 finished with value: 0.7852760736196319 and parameters: {'max_depth': 9, 'learning_rate': 0.10086780407449554, 'n_estimators': 428, 'min_child_weight': 3, 'gamma': 0.0020000311123274266, 'subsample': 0.5202507351335451, 'colsample_bytree': 0.720041641273407, 'reg_alpha': 5.3008714229343555e-06, 'reg_lambda': 9.264053462031466e-07}. Best is trial 58 with value: 0.7898773006134969.\u001b[0m\n"
          ]
        },
        {
          "output_type": "stream",
          "name": "stdout",
          "text": [
            "Trial 61 finished with value: 0.7852760736196319 and parameters: {'max_depth': 9, 'learning_rate': 0.10086780407449554, 'n_estimators': 428, 'min_child_weight': 3, 'gamma': 0.0020000311123274266, 'subsample': 0.5202507351335451, 'colsample_bytree': 0.720041641273407, 'reg_alpha': 5.3008714229343555e-06, 'reg_lambda': 9.264053462031466e-07}. Best is trial 58 with value: 0.7898773006134969.\n",
            "Trial 61 finished with value: 0.7852760736196319 and parameters: {'max_depth': 9, 'learning_rate': 0.10086780407449554, 'n_estimators': 428, 'min_child_weight': 3, 'gamma': 0.0020000311123274266, 'subsample': 0.5202507351335451, 'colsample_bytree': 0.720041641273407, 'reg_alpha': 5.3008714229343555e-06, 'reg_lambda': 9.264053462031466e-07}. Best is trial 58 with value: 0.7898773006134969.\n",
            "[21:27:13] WARNING: ../src/learner.cc:767: \n",
            "Parameters: { \"n_estimators\", \"use_label_encoder\" } are not used.\n",
            "\n",
            "[0]\tvalidation-auc:0.80561\n",
            "[1]\tvalidation-auc:0.83763\n",
            "[2]\tvalidation-auc:0.84717\n",
            "[3]\tvalidation-auc:0.85418\n",
            "[4]\tvalidation-auc:0.85554\n",
            "[5]\tvalidation-auc:0.85417\n",
            "[6]\tvalidation-auc:0.85651\n",
            "[7]\tvalidation-auc:0.85800\n",
            "[8]\tvalidation-auc:0.85975\n",
            "[9]\tvalidation-auc:0.85897\n"
          ]
        },
        {
          "output_type": "stream",
          "name": "stderr",
          "text": [
            "\u001b[32m[I 2023-03-22 21:27:13,575]\u001b[0m Trial 62 finished with value: 0.7783742331288344 and parameters: {'max_depth': 9, 'learning_rate': 0.11887454884728106, 'n_estimators': 431, 'min_child_weight': 3, 'gamma': 0.007310749825800071, 'subsample': 0.6651921953651888, 'colsample_bytree': 0.7028826960391124, 'reg_alpha': 1.2690569190770846e-05, 'reg_lambda': 2.842372356465813e-07}. Best is trial 58 with value: 0.7898773006134969.\u001b[0m\n"
          ]
        },
        {
          "output_type": "stream",
          "name": "stdout",
          "text": [
            "Trial 62 finished with value: 0.7783742331288344 and parameters: {'max_depth': 9, 'learning_rate': 0.11887454884728106, 'n_estimators': 431, 'min_child_weight': 3, 'gamma': 0.007310749825800071, 'subsample': 0.6651921953651888, 'colsample_bytree': 0.7028826960391124, 'reg_alpha': 1.2690569190770846e-05, 'reg_lambda': 2.842372356465813e-07}. Best is trial 58 with value: 0.7898773006134969.\n",
            "Trial 62 finished with value: 0.7783742331288344 and parameters: {'max_depth': 9, 'learning_rate': 0.11887454884728106, 'n_estimators': 431, 'min_child_weight': 3, 'gamma': 0.007310749825800071, 'subsample': 0.6651921953651888, 'colsample_bytree': 0.7028826960391124, 'reg_alpha': 1.2690569190770846e-05, 'reg_lambda': 2.842372356465813e-07}. Best is trial 58 with value: 0.7898773006134969.\n",
            "[21:27:13] WARNING: ../src/learner.cc:767: \n",
            "Parameters: { \"n_estimators\", \"use_label_encoder\" } are not used.\n",
            "\n",
            "[0]\tvalidation-auc:0.77508\n",
            "[1]\tvalidation-auc:0.80662\n",
            "[2]\tvalidation-auc:0.81829\n",
            "[3]\tvalidation-auc:0.82961\n",
            "[4]\tvalidation-auc:0.83731\n",
            "[5]\tvalidation-auc:0.83462\n",
            "[6]\tvalidation-auc:0.83877\n",
            "[7]\tvalidation-auc:0.84124\n",
            "[8]\tvalidation-auc:0.84714\n",
            "[9]\tvalidation-auc:0.84525\n"
          ]
        },
        {
          "output_type": "stream",
          "name": "stderr",
          "text": [
            "\u001b[32m[I 2023-03-22 21:27:13,822]\u001b[0m Trial 63 finished with value: 0.7703220858895705 and parameters: {'max_depth': 8, 'learning_rate': 0.10843878120160512, 'n_estimators': 478, 'min_child_weight': 2, 'gamma': 0.015140771352923499, 'subsample': 0.30208563726489535, 'colsample_bytree': 0.48208186176700113, 'reg_alpha': 2.1874953960713352e-05, 'reg_lambda': 1.1171766899636426e-06}. Best is trial 58 with value: 0.7898773006134969.\u001b[0m\n"
          ]
        },
        {
          "output_type": "stream",
          "name": "stdout",
          "text": [
            "Trial 63 finished with value: 0.7703220858895705 and parameters: {'max_depth': 8, 'learning_rate': 0.10843878120160512, 'n_estimators': 478, 'min_child_weight': 2, 'gamma': 0.015140771352923499, 'subsample': 0.30208563726489535, 'colsample_bytree': 0.48208186176700113, 'reg_alpha': 2.1874953960713352e-05, 'reg_lambda': 1.1171766899636426e-06}. Best is trial 58 with value: 0.7898773006134969.\n",
            "Trial 63 finished with value: 0.7703220858895705 and parameters: {'max_depth': 8, 'learning_rate': 0.10843878120160512, 'n_estimators': 478, 'min_child_weight': 2, 'gamma': 0.015140771352923499, 'subsample': 0.30208563726489535, 'colsample_bytree': 0.48208186176700113, 'reg_alpha': 2.1874953960713352e-05, 'reg_lambda': 1.1171766899636426e-06}. Best is trial 58 with value: 0.7898773006134969.\n",
            "[21:27:13] WARNING: ../src/learner.cc:767: \n",
            "Parameters: { \"n_estimators\", \"use_label_encoder\" } are not used.\n",
            "\n",
            "[0]\tvalidation-auc:0.76724\n",
            "[1]\tvalidation-auc:0.80959\n",
            "[2]\tvalidation-auc:0.82039\n",
            "[3]\tvalidation-auc:0.83630\n",
            "[4]\tvalidation-auc:0.83920\n",
            "[5]\tvalidation-auc:0.83792\n",
            "[6]\tvalidation-auc:0.84291\n",
            "[7]\tvalidation-auc:0.84639\n",
            "[8]\tvalidation-auc:0.85012\n",
            "[9]\tvalidation-auc:0.84951\n"
          ]
        },
        {
          "output_type": "stream",
          "name": "stderr",
          "text": [
            "\u001b[32m[I 2023-03-22 21:27:14,095]\u001b[0m Trial 64 finished with value: 0.7733895705521472 and parameters: {'max_depth': 9, 'learning_rate': 0.07996672903010205, 'n_estimators': 439, 'min_child_weight': 2, 'gamma': 0.002717428177820576, 'subsample': 0.3289171524811318, 'colsample_bytree': 0.5427730992045345, 'reg_alpha': 6.102083534104129e-06, 'reg_lambda': 1.352819523408012e-07}. Best is trial 58 with value: 0.7898773006134969.\u001b[0m\n"
          ]
        },
        {
          "output_type": "stream",
          "name": "stdout",
          "text": [
            "Trial 64 finished with value: 0.7733895705521472 and parameters: {'max_depth': 9, 'learning_rate': 0.07996672903010205, 'n_estimators': 439, 'min_child_weight': 2, 'gamma': 0.002717428177820576, 'subsample': 0.3289171524811318, 'colsample_bytree': 0.5427730992045345, 'reg_alpha': 6.102083534104129e-06, 'reg_lambda': 1.352819523408012e-07}. Best is trial 58 with value: 0.7898773006134969.\n",
            "Trial 64 finished with value: 0.7733895705521472 and parameters: {'max_depth': 9, 'learning_rate': 0.07996672903010205, 'n_estimators': 439, 'min_child_weight': 2, 'gamma': 0.002717428177820576, 'subsample': 0.3289171524811318, 'colsample_bytree': 0.5427730992045345, 'reg_alpha': 6.102083534104129e-06, 'reg_lambda': 1.352819523408012e-07}. Best is trial 58 with value: 0.7898773006134969.\n",
            "[21:27:14] WARNING: ../src/learner.cc:767: \n",
            "Parameters: { \"n_estimators\", \"use_label_encoder\" } are not used.\n",
            "\n",
            "[0]\tvalidation-auc:0.83574\n",
            "[1]\tvalidation-auc:0.84657\n",
            "[2]\tvalidation-auc:0.85547\n",
            "[3]\tvalidation-auc:0.85982\n",
            "[4]\tvalidation-auc:0.86152\n",
            "[5]\tvalidation-auc:0.85938\n",
            "[6]\tvalidation-auc:0.86270\n",
            "[7]\tvalidation-auc:0.86325\n",
            "[8]\tvalidation-auc:0.86473\n",
            "[9]\tvalidation-auc:0.86464\n"
          ]
        },
        {
          "output_type": "stream",
          "name": "stderr",
          "text": [
            "\u001b[32m[I 2023-03-22 21:27:14,350]\u001b[0m Trial 65 finished with value: 0.785659509202454 and parameters: {'max_depth': 8, 'learning_rate': 0.15876752910022712, 'n_estimators': 415, 'min_child_weight': 3, 'gamma': 0.001719978691489421, 'subsample': 0.5317515031897342, 'colsample_bytree': 0.8680846740700774, 'reg_alpha': 2.5639723246964672e-06, 'reg_lambda': 1.4349396561613927e-06}. Best is trial 58 with value: 0.7898773006134969.\u001b[0m\n"
          ]
        },
        {
          "output_type": "stream",
          "name": "stdout",
          "text": [
            "Trial 65 finished with value: 0.785659509202454 and parameters: {'max_depth': 8, 'learning_rate': 0.15876752910022712, 'n_estimators': 415, 'min_child_weight': 3, 'gamma': 0.001719978691489421, 'subsample': 0.5317515031897342, 'colsample_bytree': 0.8680846740700774, 'reg_alpha': 2.5639723246964672e-06, 'reg_lambda': 1.4349396561613927e-06}. Best is trial 58 with value: 0.7898773006134969.\n",
            "Trial 65 finished with value: 0.785659509202454 and parameters: {'max_depth': 8, 'learning_rate': 0.15876752910022712, 'n_estimators': 415, 'min_child_weight': 3, 'gamma': 0.001719978691489421, 'subsample': 0.5317515031897342, 'colsample_bytree': 0.8680846740700774, 'reg_alpha': 2.5639723246964672e-06, 'reg_lambda': 1.4349396561613927e-06}. Best is trial 58 with value: 0.7898773006134969.\n",
            "[21:27:14] WARNING: ../src/learner.cc:767: \n",
            "Parameters: { \"n_estimators\", \"use_label_encoder\" } are not used.\n",
            "\n",
            "[0]\tvalidation-auc:0.84164\n",
            "[1]\tvalidation-auc:0.85531\n",
            "[2]\tvalidation-auc:0.86088\n",
            "[3]\tvalidation-auc:0.86277\n",
            "[4]\tvalidation-auc:0.86308\n",
            "[5]\tvalidation-auc:0.86350\n",
            "[6]\tvalidation-auc:0.86534\n",
            "[7]\tvalidation-auc:0.86722\n",
            "[8]\tvalidation-auc:0.86748\n",
            "[9]\tvalidation-auc:0.86715\n"
          ]
        },
        {
          "output_type": "stream",
          "name": "stderr",
          "text": [
            "\u001b[32m[I 2023-03-22 21:27:14,608]\u001b[0m Trial 66 finished with value: 0.785659509202454 and parameters: {'max_depth': 8, 'learning_rate': 0.16787115967203978, 'n_estimators': 497, 'min_child_weight': 4, 'gamma': 0.0013376676074711717, 'subsample': 0.7822152769566285, 'colsample_bytree': 0.8578305539795407, 'reg_alpha': 2.3379325242591856e-06, 'reg_lambda': 1.2475096346038677e-06}. Best is trial 58 with value: 0.7898773006134969.\u001b[0m\n"
          ]
        },
        {
          "output_type": "stream",
          "name": "stdout",
          "text": [
            "Trial 66 finished with value: 0.785659509202454 and parameters: {'max_depth': 8, 'learning_rate': 0.16787115967203978, 'n_estimators': 497, 'min_child_weight': 4, 'gamma': 0.0013376676074711717, 'subsample': 0.7822152769566285, 'colsample_bytree': 0.8578305539795407, 'reg_alpha': 2.3379325242591856e-06, 'reg_lambda': 1.2475096346038677e-06}. Best is trial 58 with value: 0.7898773006134969.\n",
            "Trial 66 finished with value: 0.785659509202454 and parameters: {'max_depth': 8, 'learning_rate': 0.16787115967203978, 'n_estimators': 497, 'min_child_weight': 4, 'gamma': 0.0013376676074711717, 'subsample': 0.7822152769566285, 'colsample_bytree': 0.8578305539795407, 'reg_alpha': 2.3379325242591856e-06, 'reg_lambda': 1.2475096346038677e-06}. Best is trial 58 with value: 0.7898773006134969.\n",
            "[21:27:14] WARNING: ../src/learner.cc:767: \n",
            "Parameters: { \"n_estimators\", \"use_label_encoder\" } are not used.\n",
            "\n",
            "[0]\tvalidation-auc:0.84110\n",
            "[1]\tvalidation-auc:0.84959\n",
            "[2]\tvalidation-auc:0.85487\n",
            "[3]\tvalidation-auc:0.85932\n",
            "[4]\tvalidation-auc:0.85994\n",
            "[5]\tvalidation-auc:0.85958\n",
            "[6]\tvalidation-auc:0.86190\n",
            "[7]\tvalidation-auc:0.86298\n",
            "[8]\tvalidation-auc:0.86410\n",
            "[9]\tvalidation-auc:0.86489\n"
          ]
        },
        {
          "output_type": "stream",
          "name": "stderr",
          "text": [
            "\u001b[32m[I 2023-03-22 21:27:14,867]\u001b[0m Trial 67 finished with value: 0.786042944785276 and parameters: {'max_depth': 8, 'learning_rate': 0.15527718914837507, 'n_estimators': 364, 'min_child_weight': 3, 'gamma': 0.0046120650669267205, 'subsample': 0.5628673097749374, 'colsample_bytree': 0.8661733504725305, 'reg_alpha': 9.376933768356343e-07, 'reg_lambda': 5.598179322100013e-07}. Best is trial 58 with value: 0.7898773006134969.\u001b[0m\n"
          ]
        },
        {
          "output_type": "stream",
          "name": "stdout",
          "text": [
            "Trial 67 finished with value: 0.786042944785276 and parameters: {'max_depth': 8, 'learning_rate': 0.15527718914837507, 'n_estimators': 364, 'min_child_weight': 3, 'gamma': 0.0046120650669267205, 'subsample': 0.5628673097749374, 'colsample_bytree': 0.8661733504725305, 'reg_alpha': 9.376933768356343e-07, 'reg_lambda': 5.598179322100013e-07}. Best is trial 58 with value: 0.7898773006134969.\n",
            "Trial 67 finished with value: 0.786042944785276 and parameters: {'max_depth': 8, 'learning_rate': 0.15527718914837507, 'n_estimators': 364, 'min_child_weight': 3, 'gamma': 0.0046120650669267205, 'subsample': 0.5628673097749374, 'colsample_bytree': 0.8661733504725305, 'reg_alpha': 9.376933768356343e-07, 'reg_lambda': 5.598179322100013e-07}. Best is trial 58 with value: 0.7898773006134969.\n",
            "[21:27:14] WARNING: ../src/learner.cc:767: \n",
            "Parameters: { \"n_estimators\", \"use_label_encoder\" } are not used.\n",
            "\n",
            "[0]\tvalidation-auc:0.79865\n",
            "[1]\tvalidation-auc:0.82168\n",
            "[2]\tvalidation-auc:0.83736\n",
            "[3]\tvalidation-auc:0.84805\n",
            "[4]\tvalidation-auc:0.85059\n",
            "[5]\tvalidation-auc:0.85180\n",
            "[6]\tvalidation-auc:0.85514\n",
            "[7]\tvalidation-auc:0.85627\n",
            "[8]\tvalidation-auc:0.85912\n",
            "[9]\tvalidation-auc:0.85854\n"
          ]
        },
        {
          "output_type": "stream",
          "name": "stderr",
          "text": [
            "\u001b[32m[I 2023-03-22 21:27:15,102]\u001b[0m Trial 68 finished with value: 0.7848926380368099 and parameters: {'max_depth': 8, 'learning_rate': 0.11830502186286769, 'n_estimators': 368, 'min_child_weight': 3, 'gamma': 0.0047003408833535204, 'subsample': 0.3718042349827423, 'colsample_bytree': 0.7322401038459312, 'reg_alpha': 9.016598587415654e-07, 'reg_lambda': 4.3438523628296474e-07}. Best is trial 58 with value: 0.7898773006134969.\u001b[0m\n"
          ]
        },
        {
          "output_type": "stream",
          "name": "stdout",
          "text": [
            "Trial 68 finished with value: 0.7848926380368099 and parameters: {'max_depth': 8, 'learning_rate': 0.11830502186286769, 'n_estimators': 368, 'min_child_weight': 3, 'gamma': 0.0047003408833535204, 'subsample': 0.3718042349827423, 'colsample_bytree': 0.7322401038459312, 'reg_alpha': 9.016598587415654e-07, 'reg_lambda': 4.3438523628296474e-07}. Best is trial 58 with value: 0.7898773006134969.\n",
            "Trial 68 finished with value: 0.7848926380368099 and parameters: {'max_depth': 8, 'learning_rate': 0.11830502186286769, 'n_estimators': 368, 'min_child_weight': 3, 'gamma': 0.0047003408833535204, 'subsample': 0.3718042349827423, 'colsample_bytree': 0.7322401038459312, 'reg_alpha': 9.016598587415654e-07, 'reg_lambda': 4.3438523628296474e-07}. Best is trial 58 with value: 0.7898773006134969.\n",
            "[21:27:15] WARNING: ../src/learner.cc:767: \n",
            "Parameters: { \"n_estimators\", \"use_label_encoder\" } are not used.\n",
            "\n",
            "[0]\tvalidation-auc:0.78030\n",
            "[1]\tvalidation-auc:0.82014\n",
            "[2]\tvalidation-auc:0.83107\n",
            "[3]\tvalidation-auc:0.84638\n",
            "[4]\tvalidation-auc:0.84789\n",
            "[5]\tvalidation-auc:0.84836\n",
            "[6]\tvalidation-auc:0.85009\n",
            "[7]\tvalidation-auc:0.85128\n",
            "[8]\tvalidation-auc:0.85440\n",
            "[9]\tvalidation-auc:0.85543\n"
          ]
        },
        {
          "output_type": "stream",
          "name": "stderr",
          "text": [
            "\u001b[32m[I 2023-03-22 21:27:15,365]\u001b[0m Trial 69 finished with value: 0.781058282208589 and parameters: {'max_depth': 9, 'learning_rate': 0.19508714143836936, 'n_estimators': 384, 'min_child_weight': 4, 'gamma': 0.015684275622030692, 'subsample': 0.5313250234818283, 'colsample_bytree': 0.5577726762633488, 'reg_alpha': 4.308136600876267e-06, 'reg_lambda': 1.565313106109814e-07}. Best is trial 58 with value: 0.7898773006134969.\u001b[0m\n"
          ]
        },
        {
          "output_type": "stream",
          "name": "stdout",
          "text": [
            "Trial 69 finished with value: 0.781058282208589 and parameters: {'max_depth': 9, 'learning_rate': 0.19508714143836936, 'n_estimators': 384, 'min_child_weight': 4, 'gamma': 0.015684275622030692, 'subsample': 0.5313250234818283, 'colsample_bytree': 0.5577726762633488, 'reg_alpha': 4.308136600876267e-06, 'reg_lambda': 1.565313106109814e-07}. Best is trial 58 with value: 0.7898773006134969.\n",
            "Trial 69 finished with value: 0.781058282208589 and parameters: {'max_depth': 9, 'learning_rate': 0.19508714143836936, 'n_estimators': 384, 'min_child_weight': 4, 'gamma': 0.015684275622030692, 'subsample': 0.5313250234818283, 'colsample_bytree': 0.5577726762633488, 'reg_alpha': 4.308136600876267e-06, 'reg_lambda': 1.565313106109814e-07}. Best is trial 58 with value: 0.7898773006134969.\n",
            "[21:27:15] WARNING: ../src/learner.cc:767: \n",
            "Parameters: { \"n_estimators\", \"use_label_encoder\" } are not used.\n",
            "\n",
            "[0]\tvalidation-auc:0.77753\n",
            "[1]\tvalidation-auc:0.78546\n",
            "[2]\tvalidation-auc:0.80966\n",
            "[3]\tvalidation-auc:0.80986\n",
            "[4]\tvalidation-auc:0.81482\n",
            "[5]\tvalidation-auc:0.81770\n",
            "[6]\tvalidation-auc:0.82907\n",
            "[7]\tvalidation-auc:0.83275\n",
            "[8]\tvalidation-auc:0.83784\n",
            "[9]\tvalidation-auc:0.83677\n"
          ]
        },
        {
          "output_type": "stream",
          "name": "stderr",
          "text": [
            "\u001b[32m[I 2023-03-22 21:27:15,676]\u001b[0m Trial 70 finished with value: 0.7657208588957055 and parameters: {'max_depth': 9, 'learning_rate': 0.14771459482604166, 'n_estimators': 438, 'min_child_weight': 3, 'gamma': 0.0004097661186328997, 'subsample': 0.6706328111348135, 'colsample_bytree': 0.4086445077544569, 'reg_alpha': 9.318982726735277e-06, 'reg_lambda': 5.571018552408549e-07}. Best is trial 58 with value: 0.7898773006134969.\u001b[0m\n"
          ]
        },
        {
          "output_type": "stream",
          "name": "stdout",
          "text": [
            "Trial 70 finished with value: 0.7657208588957055 and parameters: {'max_depth': 9, 'learning_rate': 0.14771459482604166, 'n_estimators': 438, 'min_child_weight': 3, 'gamma': 0.0004097661186328997, 'subsample': 0.6706328111348135, 'colsample_bytree': 0.4086445077544569, 'reg_alpha': 9.318982726735277e-06, 'reg_lambda': 5.571018552408549e-07}. Best is trial 58 with value: 0.7898773006134969.\n",
            "Trial 70 finished with value: 0.7657208588957055 and parameters: {'max_depth': 9, 'learning_rate': 0.14771459482604166, 'n_estimators': 438, 'min_child_weight': 3, 'gamma': 0.0004097661186328997, 'subsample': 0.6706328111348135, 'colsample_bytree': 0.4086445077544569, 'reg_alpha': 9.318982726735277e-06, 'reg_lambda': 5.571018552408549e-07}. Best is trial 58 with value: 0.7898773006134969.\n",
            "[21:27:15] WARNING: ../src/learner.cc:767: \n",
            "Parameters: { \"n_estimators\", \"use_label_encoder\" } are not used.\n",
            "\n",
            "[0]\tvalidation-auc:0.83516\n",
            "[1]\tvalidation-auc:0.84450\n",
            "[2]\tvalidation-auc:0.85183\n",
            "[3]\tvalidation-auc:0.85664\n",
            "[4]\tvalidation-auc:0.85877\n",
            "[5]\tvalidation-auc:0.85854\n",
            "[6]\tvalidation-auc:0.86111\n",
            "[7]\tvalidation-auc:0.86322\n",
            "[8]\tvalidation-auc:0.86447\n",
            "[9]\tvalidation-auc:0.86430\n"
          ]
        },
        {
          "output_type": "stream",
          "name": "stderr",
          "text": [
            "\u001b[32m[I 2023-03-22 21:27:15,937]\u001b[0m Trial 71 finished with value: 0.7891104294478528 and parameters: {'max_depth': 8, 'learning_rate': 0.16067875901479484, 'n_estimators': 412, 'min_child_weight': 3, 'gamma': 0.0015661762544187513, 'subsample': 0.4866885334597501, 'colsample_bytree': 0.8519728735117146, 'reg_alpha': 2.6457530122090807e-06, 'reg_lambda': 2.580009560998453e-06}. Best is trial 58 with value: 0.7898773006134969.\u001b[0m\n"
          ]
        },
        {
          "output_type": "stream",
          "name": "stdout",
          "text": [
            "Trial 71 finished with value: 0.7891104294478528 and parameters: {'max_depth': 8, 'learning_rate': 0.16067875901479484, 'n_estimators': 412, 'min_child_weight': 3, 'gamma': 0.0015661762544187513, 'subsample': 0.4866885334597501, 'colsample_bytree': 0.8519728735117146, 'reg_alpha': 2.6457530122090807e-06, 'reg_lambda': 2.580009560998453e-06}. Best is trial 58 with value: 0.7898773006134969.\n",
            "Trial 71 finished with value: 0.7891104294478528 and parameters: {'max_depth': 8, 'learning_rate': 0.16067875901479484, 'n_estimators': 412, 'min_child_weight': 3, 'gamma': 0.0015661762544187513, 'subsample': 0.4866885334597501, 'colsample_bytree': 0.8519728735117146, 'reg_alpha': 2.6457530122090807e-06, 'reg_lambda': 2.580009560998453e-06}. Best is trial 58 with value: 0.7898773006134969.\n",
            "[21:27:16] WARNING: ../src/learner.cc:767: \n",
            "Parameters: { \"n_estimators\", \"use_label_encoder\" } are not used.\n",
            "\n",
            "[0]\tvalidation-auc:0.85050\n",
            "[1]\tvalidation-auc:0.85055\n",
            "[2]\tvalidation-auc:0.85475\n",
            "[3]\tvalidation-auc:0.85902\n",
            "[4]\tvalidation-auc:0.86067\n",
            "[5]\tvalidation-auc:0.85921\n",
            "[6]\tvalidation-auc:0.86313\n",
            "[7]\tvalidation-auc:0.86460\n",
            "[8]\tvalidation-auc:0.86434\n",
            "[9]\tvalidation-auc:0.86537\n"
          ]
        },
        {
          "output_type": "stream",
          "name": "stderr",
          "text": [
            "\u001b[32m[I 2023-03-22 21:27:16,175]\u001b[0m Trial 72 finished with value: 0.7906441717791411 and parameters: {'max_depth': 8, 'learning_rate': 0.16900537066772994, 'n_estimators': 481, 'min_child_weight': 3, 'gamma': 0.0013272289099317811, 'subsample': 0.37982463643438236, 'colsample_bytree': 0.9027083919768277, 'reg_alpha': 1.4707060737866828e-06, 'reg_lambda': 2.5431897960421855e-06}. Best is trial 72 with value: 0.7906441717791411.\u001b[0m\n"
          ]
        },
        {
          "output_type": "stream",
          "name": "stdout",
          "text": [
            "Trial 72 finished with value: 0.7906441717791411 and parameters: {'max_depth': 8, 'learning_rate': 0.16900537066772994, 'n_estimators': 481, 'min_child_weight': 3, 'gamma': 0.0013272289099317811, 'subsample': 0.37982463643438236, 'colsample_bytree': 0.9027083919768277, 'reg_alpha': 1.4707060737866828e-06, 'reg_lambda': 2.5431897960421855e-06}. Best is trial 72 with value: 0.7906441717791411.\n",
            "Trial 72 finished with value: 0.7906441717791411 and parameters: {'max_depth': 8, 'learning_rate': 0.16900537066772994, 'n_estimators': 481, 'min_child_weight': 3, 'gamma': 0.0013272289099317811, 'subsample': 0.37982463643438236, 'colsample_bytree': 0.9027083919768277, 'reg_alpha': 1.4707060737866828e-06, 'reg_lambda': 2.5431897960421855e-06}. Best is trial 72 with value: 0.7906441717791411.\n",
            "[21:27:16] WARNING: ../src/learner.cc:767: \n",
            "Parameters: { \"n_estimators\", \"use_label_encoder\" } are not used.\n",
            "\n",
            "[0]\tvalidation-auc:0.83801\n",
            "[1]\tvalidation-auc:0.84535\n",
            "[2]\tvalidation-auc:0.85208\n",
            "[3]\tvalidation-auc:0.85705\n",
            "[4]\tvalidation-auc:0.85975\n",
            "[5]\tvalidation-auc:0.85891\n",
            "[6]\tvalidation-auc:0.86187\n",
            "[7]\tvalidation-auc:0.86374\n",
            "[8]\tvalidation-auc:0.86407\n",
            "[9]\tvalidation-auc:0.86434\n"
          ]
        },
        {
          "output_type": "stream",
          "name": "stderr",
          "text": [
            "\u001b[32m[I 2023-03-22 21:27:16,393]\u001b[0m Trial 73 finished with value: 0.785659509202454 and parameters: {'max_depth': 7, 'learning_rate': 0.17781358906730055, 'n_estimators': 480, 'min_child_weight': 4, 'gamma': 0.0014475529410999564, 'subsample': 0.4115667214297796, 'colsample_bytree': 0.8741993552077578, 'reg_alpha': 1.5577840335837943e-06, 'reg_lambda': 2.1403697906086467e-06}. Best is trial 72 with value: 0.7906441717791411.\u001b[0m\n"
          ]
        },
        {
          "output_type": "stream",
          "name": "stdout",
          "text": [
            "Trial 73 finished with value: 0.785659509202454 and parameters: {'max_depth': 7, 'learning_rate': 0.17781358906730055, 'n_estimators': 480, 'min_child_weight': 4, 'gamma': 0.0014475529410999564, 'subsample': 0.4115667214297796, 'colsample_bytree': 0.8741993552077578, 'reg_alpha': 1.5577840335837943e-06, 'reg_lambda': 2.1403697906086467e-06}. Best is trial 72 with value: 0.7906441717791411.\n",
            "Trial 73 finished with value: 0.785659509202454 and parameters: {'max_depth': 7, 'learning_rate': 0.17781358906730055, 'n_estimators': 480, 'min_child_weight': 4, 'gamma': 0.0014475529410999564, 'subsample': 0.4115667214297796, 'colsample_bytree': 0.8741993552077578, 'reg_alpha': 1.5577840335837943e-06, 'reg_lambda': 2.1403697906086467e-06}. Best is trial 72 with value: 0.7906441717791411.\n",
            "[21:27:16] WARNING: ../src/learner.cc:767: \n",
            "Parameters: { \"n_estimators\", \"use_label_encoder\" } are not used.\n",
            "\n",
            "[0]\tvalidation-auc:0.83110\n",
            "[1]\tvalidation-auc:0.84527\n",
            "[2]\tvalidation-auc:0.85144\n",
            "[3]\tvalidation-auc:0.85412\n",
            "[4]\tvalidation-auc:0.85574\n",
            "[5]\tvalidation-auc:0.85556\n",
            "[6]\tvalidation-auc:0.86022\n",
            "[7]\tvalidation-auc:0.86148\n",
            "[8]\tvalidation-auc:0.86236\n",
            "[9]\tvalidation-auc:0.86341\n"
          ]
        },
        {
          "output_type": "stream",
          "name": "stderr",
          "text": [
            "\u001b[32m[I 2023-03-22 21:27:16,627]\u001b[0m Trial 74 finished with value: 0.781058282208589 and parameters: {'max_depth': 8, 'learning_rate': 0.2050091114402307, 'n_estimators': 338, 'min_child_weight': 3, 'gamma': 0.0010749448120611264, 'subsample': 0.31409357859923265, 'colsample_bytree': 0.8872059566876632, 'reg_alpha': 7.46222904508249e-07, 'reg_lambda': 7.324683292260817e-06}. Best is trial 72 with value: 0.7906441717791411.\u001b[0m\n"
          ]
        },
        {
          "output_type": "stream",
          "name": "stdout",
          "text": [
            "Trial 74 finished with value: 0.781058282208589 and parameters: {'max_depth': 8, 'learning_rate': 0.2050091114402307, 'n_estimators': 338, 'min_child_weight': 3, 'gamma': 0.0010749448120611264, 'subsample': 0.31409357859923265, 'colsample_bytree': 0.8872059566876632, 'reg_alpha': 7.46222904508249e-07, 'reg_lambda': 7.324683292260817e-06}. Best is trial 72 with value: 0.7906441717791411.\n",
            "Trial 74 finished with value: 0.781058282208589 and parameters: {'max_depth': 8, 'learning_rate': 0.2050091114402307, 'n_estimators': 338, 'min_child_weight': 3, 'gamma': 0.0010749448120611264, 'subsample': 0.31409357859923265, 'colsample_bytree': 0.8872059566876632, 'reg_alpha': 7.46222904508249e-07, 'reg_lambda': 7.324683292260817e-06}. Best is trial 72 with value: 0.7906441717791411.\n",
            "[21:27:16] WARNING: ../src/learner.cc:767: \n",
            "Parameters: { \"n_estimators\", \"use_label_encoder\" } are not used.\n",
            "\n",
            "[0]\tvalidation-auc:0.84754\n",
            "[1]\tvalidation-auc:0.85313\n",
            "[2]\tvalidation-auc:0.85755\n",
            "[3]\tvalidation-auc:0.86199\n",
            "[4]\tvalidation-auc:0.86215\n",
            "[5]\tvalidation-auc:0.85963\n",
            "[6]\tvalidation-auc:0.86196\n",
            "[7]\tvalidation-auc:0.86380\n",
            "[8]\tvalidation-auc:0.86334\n",
            "[9]\tvalidation-auc:0.86366\n"
          ]
        },
        {
          "output_type": "stream",
          "name": "stderr",
          "text": [
            "\u001b[32m[I 2023-03-22 21:27:16,870]\u001b[0m Trial 75 finished with value: 0.7879601226993865 and parameters: {'max_depth': 8, 'learning_rate': 0.13551619864766945, 'n_estimators': 460, 'min_child_weight': 5, 'gamma': 0.0004497319574715678, 'subsample': 0.38289766013918114, 'colsample_bytree': 0.9788746241396133, 'reg_alpha': 3.6658461200396104e-06, 'reg_lambda': 4.0175796229814125e-06}. Best is trial 72 with value: 0.7906441717791411.\u001b[0m\n"
          ]
        },
        {
          "output_type": "stream",
          "name": "stdout",
          "text": [
            "Trial 75 finished with value: 0.7879601226993865 and parameters: {'max_depth': 8, 'learning_rate': 0.13551619864766945, 'n_estimators': 460, 'min_child_weight': 5, 'gamma': 0.0004497319574715678, 'subsample': 0.38289766013918114, 'colsample_bytree': 0.9788746241396133, 'reg_alpha': 3.6658461200396104e-06, 'reg_lambda': 4.0175796229814125e-06}. Best is trial 72 with value: 0.7906441717791411.\n",
            "Trial 75 finished with value: 0.7879601226993865 and parameters: {'max_depth': 8, 'learning_rate': 0.13551619864766945, 'n_estimators': 460, 'min_child_weight': 5, 'gamma': 0.0004497319574715678, 'subsample': 0.38289766013918114, 'colsample_bytree': 0.9788746241396133, 'reg_alpha': 3.6658461200396104e-06, 'reg_lambda': 4.0175796229814125e-06}. Best is trial 72 with value: 0.7906441717791411.\n",
            "[21:27:16] WARNING: ../src/learner.cc:767: \n",
            "Parameters: { \"n_estimators\", \"use_label_encoder\" } are not used.\n",
            "\n",
            "[0]\tvalidation-auc:0.81657\n",
            "[1]\tvalidation-auc:0.83691\n",
            "[2]\tvalidation-auc:0.84895\n",
            "[3]\tvalidation-auc:0.85477\n",
            "[4]\tvalidation-auc:0.85796\n",
            "[5]\tvalidation-auc:0.85803\n",
            "[6]\tvalidation-auc:0.86154\n",
            "[7]\tvalidation-auc:0.86222\n",
            "[8]\tvalidation-auc:0.86410\n",
            "[9]\tvalidation-auc:0.86514\n"
          ]
        },
        {
          "output_type": "stream",
          "name": "stderr",
          "text": [
            "\u001b[32m[I 2023-03-22 21:27:17,089]\u001b[0m Trial 76 finished with value: 0.7875766871165644 and parameters: {'max_depth': 7, 'learning_rate': 0.12563997492246293, 'n_estimators': 464, 'min_child_weight': 5, 'gamma': 0.0002149658762979346, 'subsample': 0.3517056579513072, 'colsample_bytree': 0.7725679303902941, 'reg_alpha': 4.157233898111585e-06, 'reg_lambda': 3.913371481307145e-06}. Best is trial 72 with value: 0.7906441717791411.\u001b[0m\n"
          ]
        },
        {
          "output_type": "stream",
          "name": "stdout",
          "text": [
            "Trial 76 finished with value: 0.7875766871165644 and parameters: {'max_depth': 7, 'learning_rate': 0.12563997492246293, 'n_estimators': 464, 'min_child_weight': 5, 'gamma': 0.0002149658762979346, 'subsample': 0.3517056579513072, 'colsample_bytree': 0.7725679303902941, 'reg_alpha': 4.157233898111585e-06, 'reg_lambda': 3.913371481307145e-06}. Best is trial 72 with value: 0.7906441717791411.\n",
            "Trial 76 finished with value: 0.7875766871165644 and parameters: {'max_depth': 7, 'learning_rate': 0.12563997492246293, 'n_estimators': 464, 'min_child_weight': 5, 'gamma': 0.0002149658762979346, 'subsample': 0.3517056579513072, 'colsample_bytree': 0.7725679303902941, 'reg_alpha': 4.157233898111585e-06, 'reg_lambda': 3.913371481307145e-06}. Best is trial 72 with value: 0.7906441717791411.\n",
            "[21:27:17] WARNING: ../src/learner.cc:767: \n",
            "Parameters: { \"n_estimators\", \"use_label_encoder\" } are not used.\n",
            "\n",
            "[0]\tvalidation-auc:0.84843\n",
            "[1]\tvalidation-auc:0.85113\n",
            "[2]\tvalidation-auc:0.85516\n",
            "[3]\tvalidation-auc:0.85880\n",
            "[4]\tvalidation-auc:0.86114\n",
            "[5]\tvalidation-auc:0.85968\n",
            "[6]\tvalidation-auc:0.86185\n",
            "[7]\tvalidation-auc:0.86317\n",
            "[8]\tvalidation-auc:0.86360\n",
            "[9]\tvalidation-auc:0.86389\n"
          ]
        },
        {
          "output_type": "stream",
          "name": "stderr",
          "text": [
            "\u001b[32m[I 2023-03-22 21:27:17,299]\u001b[0m Trial 77 finished with value: 0.7883435582822086 and parameters: {'max_depth': 7, 'learning_rate': 0.1306549358182572, 'n_estimators': 468, 'min_child_weight': 5, 'gamma': 0.00018939679783646612, 'subsample': 0.37309808698708935, 'colsample_bytree': 0.9851474761177883, 'reg_alpha': 1.5980048870341986e-06, 'reg_lambda': 3.864771298846298e-06}. Best is trial 72 with value: 0.7906441717791411.\u001b[0m\n"
          ]
        },
        {
          "output_type": "stream",
          "name": "stdout",
          "text": [
            "Trial 77 finished with value: 0.7883435582822086 and parameters: {'max_depth': 7, 'learning_rate': 0.1306549358182572, 'n_estimators': 468, 'min_child_weight': 5, 'gamma': 0.00018939679783646612, 'subsample': 0.37309808698708935, 'colsample_bytree': 0.9851474761177883, 'reg_alpha': 1.5980048870341986e-06, 'reg_lambda': 3.864771298846298e-06}. Best is trial 72 with value: 0.7906441717791411.\n",
            "Trial 77 finished with value: 0.7883435582822086 and parameters: {'max_depth': 7, 'learning_rate': 0.1306549358182572, 'n_estimators': 468, 'min_child_weight': 5, 'gamma': 0.00018939679783646612, 'subsample': 0.37309808698708935, 'colsample_bytree': 0.9851474761177883, 'reg_alpha': 1.5980048870341986e-06, 'reg_lambda': 3.864771298846298e-06}. Best is trial 72 with value: 0.7906441717791411.\n",
            "[21:27:17] WARNING: ../src/learner.cc:767: \n",
            "Parameters: { \"n_estimators\", \"use_label_encoder\" } are not used.\n",
            "\n",
            "[0]\tvalidation-auc:0.83203\n",
            "[1]\tvalidation-auc:0.84300\n",
            "[2]\tvalidation-auc:0.85029\n",
            "[3]\tvalidation-auc:0.85110\n",
            "[4]\tvalidation-auc:0.85314\n",
            "[5]\tvalidation-auc:0.85172\n",
            "[6]\tvalidation-auc:0.85403\n",
            "[7]\tvalidation-auc:0.85643\n",
            "[8]\tvalidation-auc:0.85807\n",
            "[9]\tvalidation-auc:0.85824\n"
          ]
        },
        {
          "output_type": "stream",
          "name": "stderr",
          "text": [
            "\u001b[32m[I 2023-03-22 21:27:17,501]\u001b[0m Trial 78 finished with value: 0.7841257668711656 and parameters: {'max_depth': 7, 'learning_rate': 0.13101912459602472, 'n_estimators': 464, 'min_child_weight': 5, 'gamma': 0.00014837223173991534, 'subsample': 0.25304900946866, 'colsample_bytree': 0.8817133954309824, 'reg_alpha': 1.775799197187373e-06, 'reg_lambda': 4.682568666356142e-06}. Best is trial 72 with value: 0.7906441717791411.\u001b[0m\n"
          ]
        },
        {
          "output_type": "stream",
          "name": "stdout",
          "text": [
            "Trial 78 finished with value: 0.7841257668711656 and parameters: {'max_depth': 7, 'learning_rate': 0.13101912459602472, 'n_estimators': 464, 'min_child_weight': 5, 'gamma': 0.00014837223173991534, 'subsample': 0.25304900946866, 'colsample_bytree': 0.8817133954309824, 'reg_alpha': 1.775799197187373e-06, 'reg_lambda': 4.682568666356142e-06}. Best is trial 72 with value: 0.7906441717791411.\n",
            "Trial 78 finished with value: 0.7841257668711656 and parameters: {'max_depth': 7, 'learning_rate': 0.13101912459602472, 'n_estimators': 464, 'min_child_weight': 5, 'gamma': 0.00014837223173991534, 'subsample': 0.25304900946866, 'colsample_bytree': 0.8817133954309824, 'reg_alpha': 1.775799197187373e-06, 'reg_lambda': 4.682568666356142e-06}. Best is trial 72 with value: 0.7906441717791411.\n",
            "[21:27:17] WARNING: ../src/learner.cc:767: \n",
            "Parameters: { \"n_estimators\", \"use_label_encoder\" } are not used.\n",
            "\n",
            "[0]\tvalidation-auc:0.82676\n",
            "[1]\tvalidation-auc:0.84610\n",
            "[2]\tvalidation-auc:0.85295\n",
            "[3]\tvalidation-auc:0.85721\n",
            "[4]\tvalidation-auc:0.85994\n",
            "[5]\tvalidation-auc:0.86055\n",
            "[6]\tvalidation-auc:0.86219\n",
            "[7]\tvalidation-auc:0.86420\n",
            "[8]\tvalidation-auc:0.86524\n",
            "[9]\tvalidation-auc:0.86612\n"
          ]
        },
        {
          "output_type": "stream",
          "name": "stderr",
          "text": [
            "\u001b[32m[I 2023-03-22 21:27:17,701]\u001b[0m Trial 79 finished with value: 0.7875766871165644 and parameters: {'max_depth': 6, 'learning_rate': 0.2373837722622094, 'n_estimators': 491, 'min_child_weight': 5, 'gamma': 0.00038297787110704186, 'subsample': 0.4277789080429218, 'colsample_bytree': 0.9337464674876026, 'reg_alpha': 3.5496917464187362e-06, 'reg_lambda': 2.5332493764713176e-06}. Best is trial 72 with value: 0.7906441717791411.\u001b[0m\n"
          ]
        },
        {
          "output_type": "stream",
          "name": "stdout",
          "text": [
            "Trial 79 finished with value: 0.7875766871165644 and parameters: {'max_depth': 6, 'learning_rate': 0.2373837722622094, 'n_estimators': 491, 'min_child_weight': 5, 'gamma': 0.00038297787110704186, 'subsample': 0.4277789080429218, 'colsample_bytree': 0.9337464674876026, 'reg_alpha': 3.5496917464187362e-06, 'reg_lambda': 2.5332493764713176e-06}. Best is trial 72 with value: 0.7906441717791411.\n",
            "Trial 79 finished with value: 0.7875766871165644 and parameters: {'max_depth': 6, 'learning_rate': 0.2373837722622094, 'n_estimators': 491, 'min_child_weight': 5, 'gamma': 0.00038297787110704186, 'subsample': 0.4277789080429218, 'colsample_bytree': 0.9337464674876026, 'reg_alpha': 3.5496917464187362e-06, 'reg_lambda': 2.5332493764713176e-06}. Best is trial 72 with value: 0.7906441717791411.\n",
            "[21:27:17] WARNING: ../src/learner.cc:767: \n",
            "Parameters: { \"n_estimators\", \"use_label_encoder\" } are not used.\n",
            "\n",
            "[0]\tvalidation-auc:0.84280\n",
            "[1]\tvalidation-auc:0.84759\n",
            "[2]\tvalidation-auc:0.85043\n",
            "[3]\tvalidation-auc:0.85536\n",
            "[4]\tvalidation-auc:0.85812\n",
            "[5]\tvalidation-auc:0.85618\n",
            "[6]\tvalidation-auc:0.85887\n",
            "[7]\tvalidation-auc:0.86073\n",
            "[8]\tvalidation-auc:0.86131\n",
            "[9]\tvalidation-auc:0.86185\n"
          ]
        },
        {
          "output_type": "stream",
          "name": "stderr",
          "text": [
            "\u001b[32m[I 2023-03-22 21:27:17,914]\u001b[0m Trial 80 finished with value: 0.7868098159509203 and parameters: {'max_depth': 7, 'learning_rate': 0.11200005130809342, 'n_estimators': 446, 'min_child_weight': 6, 'gamma': 0.0001453461344795941, 'subsample': 0.3668832563742182, 'colsample_bytree': 0.9904282264471042, 'reg_alpha': 1.3502672081144984e-06, 'reg_lambda': 7.75868725822776e-06}. Best is trial 72 with value: 0.7906441717791411.\u001b[0m\n"
          ]
        },
        {
          "output_type": "stream",
          "name": "stdout",
          "text": [
            "Trial 80 finished with value: 0.7868098159509203 and parameters: {'max_depth': 7, 'learning_rate': 0.11200005130809342, 'n_estimators': 446, 'min_child_weight': 6, 'gamma': 0.0001453461344795941, 'subsample': 0.3668832563742182, 'colsample_bytree': 0.9904282264471042, 'reg_alpha': 1.3502672081144984e-06, 'reg_lambda': 7.75868725822776e-06}. Best is trial 72 with value: 0.7906441717791411.\n",
            "Trial 80 finished with value: 0.7868098159509203 and parameters: {'max_depth': 7, 'learning_rate': 0.11200005130809342, 'n_estimators': 446, 'min_child_weight': 6, 'gamma': 0.0001453461344795941, 'subsample': 0.3668832563742182, 'colsample_bytree': 0.9904282264471042, 'reg_alpha': 1.3502672081144984e-06, 'reg_lambda': 7.75868725822776e-06}. Best is trial 72 with value: 0.7906441717791411.\n",
            "[21:27:17] WARNING: ../src/learner.cc:767: \n",
            "Parameters: { \"n_estimators\", \"use_label_encoder\" } are not used.\n",
            "\n",
            "[0]\tvalidation-auc:0.79919\n",
            "[1]\tvalidation-auc:0.83149\n",
            "[2]\tvalidation-auc:0.84744\n",
            "[3]\tvalidation-auc:0.85588\n",
            "[4]\tvalidation-auc:0.85958\n",
            "[5]\tvalidation-auc:0.85733\n",
            "[6]\tvalidation-auc:0.85997\n",
            "[7]\tvalidation-auc:0.86067\n",
            "[8]\tvalidation-auc:0.86455\n",
            "[9]\tvalidation-auc:0.86438\n"
          ]
        },
        {
          "output_type": "stream",
          "name": "stderr",
          "text": [
            "\u001b[32m[I 2023-03-22 21:27:18,105]\u001b[0m Trial 81 finished with value: 0.7841257668711656 and parameters: {'max_depth': 6, 'learning_rate': 0.27136497589005265, 'n_estimators': 487, 'min_child_weight': 5, 'gamma': 0.0003548659038455277, 'subsample': 0.4144854255674281, 'colsample_bytree': 0.7509334256337381, 'reg_alpha': 5.836646340934264e-06, 'reg_lambda': 3.574898138811032e-06}. Best is trial 72 with value: 0.7906441717791411.\u001b[0m\n"
          ]
        },
        {
          "output_type": "stream",
          "name": "stdout",
          "text": [
            "Trial 81 finished with value: 0.7841257668711656 and parameters: {'max_depth': 6, 'learning_rate': 0.27136497589005265, 'n_estimators': 487, 'min_child_weight': 5, 'gamma': 0.0003548659038455277, 'subsample': 0.4144854255674281, 'colsample_bytree': 0.7509334256337381, 'reg_alpha': 5.836646340934264e-06, 'reg_lambda': 3.574898138811032e-06}. Best is trial 72 with value: 0.7906441717791411.\n",
            "Trial 81 finished with value: 0.7841257668711656 and parameters: {'max_depth': 6, 'learning_rate': 0.27136497589005265, 'n_estimators': 487, 'min_child_weight': 5, 'gamma': 0.0003548659038455277, 'subsample': 0.4144854255674281, 'colsample_bytree': 0.7509334256337381, 'reg_alpha': 5.836646340934264e-06, 'reg_lambda': 3.574898138811032e-06}. Best is trial 72 with value: 0.7906441717791411.\n",
            "[21:27:18] WARNING: ../src/learner.cc:767: \n",
            "Parameters: { \"n_estimators\", \"use_label_encoder\" } are not used.\n",
            "\n",
            "[0]\tvalidation-auc:0.83164\n",
            "[1]\tvalidation-auc:0.84241\n",
            "[2]\tvalidation-auc:0.84939\n",
            "[3]\tvalidation-auc:0.85361\n",
            "[4]\tvalidation-auc:0.85608\n",
            "[5]\tvalidation-auc:0.85661\n",
            "[6]\tvalidation-auc:0.85959\n",
            "[7]\tvalidation-auc:0.86188\n",
            "[8]\tvalidation-auc:0.86256\n",
            "[9]\tvalidation-auc:0.86325\n"
          ]
        },
        {
          "output_type": "stream",
          "name": "stderr",
          "text": [
            "\u001b[32m[I 2023-03-22 21:27:18,289]\u001b[0m Trial 82 finished with value: 0.7783742331288344 and parameters: {'max_depth': 6, 'learning_rate': 0.24006587204092053, 'n_estimators': 471, 'min_child_weight': 5, 'gamma': 0.000546267967122959, 'subsample': 0.47657401124032167, 'colsample_bytree': 0.981985657103466, 'reg_alpha': 2.8265490425764175e-06, 'reg_lambda': 2.021486599029955e-06}. Best is trial 72 with value: 0.7906441717791411.\u001b[0m\n"
          ]
        },
        {
          "output_type": "stream",
          "name": "stdout",
          "text": [
            "Trial 82 finished with value: 0.7783742331288344 and parameters: {'max_depth': 6, 'learning_rate': 0.24006587204092053, 'n_estimators': 471, 'min_child_weight': 5, 'gamma': 0.000546267967122959, 'subsample': 0.47657401124032167, 'colsample_bytree': 0.981985657103466, 'reg_alpha': 2.8265490425764175e-06, 'reg_lambda': 2.021486599029955e-06}. Best is trial 72 with value: 0.7906441717791411.\n",
            "Trial 82 finished with value: 0.7783742331288344 and parameters: {'max_depth': 6, 'learning_rate': 0.24006587204092053, 'n_estimators': 471, 'min_child_weight': 5, 'gamma': 0.000546267967122959, 'subsample': 0.47657401124032167, 'colsample_bytree': 0.981985657103466, 'reg_alpha': 2.8265490425764175e-06, 'reg_lambda': 2.021486599029955e-06}. Best is trial 72 with value: 0.7906441717791411.\n",
            "[21:27:18] WARNING: ../src/learner.cc:767: \n",
            "Parameters: { \"n_estimators\", \"use_label_encoder\" } are not used.\n",
            "\n",
            "[0]\tvalidation-auc:0.83375\n",
            "[1]\tvalidation-auc:0.84323\n",
            "[2]\tvalidation-auc:0.85565\n",
            "[3]\tvalidation-auc:0.85975\n",
            "[4]\tvalidation-auc:0.86202\n",
            "[5]\tvalidation-auc:0.86186\n",
            "[6]\tvalidation-auc:0.86373\n",
            "[7]\tvalidation-auc:0.86376\n",
            "[8]\tvalidation-auc:0.86596\n",
            "[9]\tvalidation-auc:0.86552\n"
          ]
        },
        {
          "output_type": "stream",
          "name": "stderr",
          "text": [
            "\u001b[32m[I 2023-03-22 21:27:18,500]\u001b[0m Trial 83 finished with value: 0.7891104294478528 and parameters: {'max_depth': 7, 'learning_rate': 0.20031319956175797, 'n_estimators': 495, 'min_child_weight': 5, 'gamma': 8.82843828156354e-05, 'subsample': 0.6108564956565308, 'colsample_bytree': 0.8057826237986506, 'reg_alpha': 3.5415619128013694e-06, 'reg_lambda': 4.326721428592458e-06}. Best is trial 72 with value: 0.7906441717791411.\u001b[0m\n"
          ]
        },
        {
          "output_type": "stream",
          "name": "stdout",
          "text": [
            "Trial 83 finished with value: 0.7891104294478528 and parameters: {'max_depth': 7, 'learning_rate': 0.20031319956175797, 'n_estimators': 495, 'min_child_weight': 5, 'gamma': 8.82843828156354e-05, 'subsample': 0.6108564956565308, 'colsample_bytree': 0.8057826237986506, 'reg_alpha': 3.5415619128013694e-06, 'reg_lambda': 4.326721428592458e-06}. Best is trial 72 with value: 0.7906441717791411.\n",
            "Trial 83 finished with value: 0.7891104294478528 and parameters: {'max_depth': 7, 'learning_rate': 0.20031319956175797, 'n_estimators': 495, 'min_child_weight': 5, 'gamma': 8.82843828156354e-05, 'subsample': 0.6108564956565308, 'colsample_bytree': 0.8057826237986506, 'reg_alpha': 3.5415619128013694e-06, 'reg_lambda': 4.326721428592458e-06}. Best is trial 72 with value: 0.7906441717791411.\n",
            "[21:27:18] WARNING: ../src/learner.cc:767: \n",
            "Parameters: { \"n_estimators\", \"use_label_encoder\" } are not used.\n",
            "\n",
            "[0]\tvalidation-auc:0.78257\n",
            "[1]\tvalidation-auc:0.81858\n",
            "[2]\tvalidation-auc:0.83009\n",
            "[3]\tvalidation-auc:0.84688\n",
            "[4]\tvalidation-auc:0.84910\n",
            "[5]\tvalidation-auc:0.84860\n",
            "[6]\tvalidation-auc:0.85172\n",
            "[7]\tvalidation-auc:0.85428\n",
            "[8]\tvalidation-auc:0.85723\n",
            "[9]\tvalidation-auc:0.85742\n"
          ]
        },
        {
          "output_type": "stream",
          "name": "stderr",
          "text": [
            "\u001b[32m[I 2023-03-22 21:27:18,720]\u001b[0m Trial 84 finished with value: 0.7791411042944786 and parameters: {'max_depth': 7, 'learning_rate': 0.1954809075002547, 'n_estimators': 454, 'min_child_weight': 6, 'gamma': 8.64942060548119e-05, 'subsample': 0.5822650476174172, 'colsample_bytree': 0.5879129565311729, 'reg_alpha': 2.9636200183336516e-07, 'reg_lambda': 4.734569247790766e-06}. Best is trial 72 with value: 0.7906441717791411.\u001b[0m\n"
          ]
        },
        {
          "output_type": "stream",
          "name": "stdout",
          "text": [
            "Trial 84 finished with value: 0.7791411042944786 and parameters: {'max_depth': 7, 'learning_rate': 0.1954809075002547, 'n_estimators': 454, 'min_child_weight': 6, 'gamma': 8.64942060548119e-05, 'subsample': 0.5822650476174172, 'colsample_bytree': 0.5879129565311729, 'reg_alpha': 2.9636200183336516e-07, 'reg_lambda': 4.734569247790766e-06}. Best is trial 72 with value: 0.7906441717791411.\n",
            "Trial 84 finished with value: 0.7791411042944786 and parameters: {'max_depth': 7, 'learning_rate': 0.1954809075002547, 'n_estimators': 454, 'min_child_weight': 6, 'gamma': 8.64942060548119e-05, 'subsample': 0.5822650476174172, 'colsample_bytree': 0.5879129565311729, 'reg_alpha': 2.9636200183336516e-07, 'reg_lambda': 4.734569247790766e-06}. Best is trial 72 with value: 0.7906441717791411.\n",
            "[21:27:18] WARNING: ../src/learner.cc:767: \n",
            "Parameters: { \"n_estimators\", \"use_label_encoder\" } are not used.\n",
            "\n",
            "[0]\tvalidation-auc:0.83592\n",
            "[1]\tvalidation-auc:0.84472\n",
            "[2]\tvalidation-auc:0.85497\n",
            "[3]\tvalidation-auc:0.85892\n",
            "[4]\tvalidation-auc:0.86273\n",
            "[5]\tvalidation-auc:0.86264\n",
            "[6]\tvalidation-auc:0.86394\n",
            "[7]\tvalidation-auc:0.86464\n",
            "[8]\tvalidation-auc:0.86645\n",
            "[9]\tvalidation-auc:0.86691\n"
          ]
        },
        {
          "output_type": "stream",
          "name": "stderr",
          "text": [
            "\u001b[32m[I 2023-03-22 21:27:18,965]\u001b[0m Trial 85 finished with value: 0.7879601226993865 and parameters: {'max_depth': 7, 'learning_rate': 0.13230199193089123, 'n_estimators': 498, 'min_child_weight': 5, 'gamma': 0.000924516794594294, 'subsample': 0.7364245201731552, 'colsample_bytree': 0.7860512357618326, 'reg_alpha': 7.497916905479596e-07, 'reg_lambda': 1.0293648200726155e-05}. Best is trial 72 with value: 0.7906441717791411.\u001b[0m\n"
          ]
        },
        {
          "output_type": "stream",
          "name": "stdout",
          "text": [
            "Trial 85 finished with value: 0.7879601226993865 and parameters: {'max_depth': 7, 'learning_rate': 0.13230199193089123, 'n_estimators': 498, 'min_child_weight': 5, 'gamma': 0.000924516794594294, 'subsample': 0.7364245201731552, 'colsample_bytree': 0.7860512357618326, 'reg_alpha': 7.497916905479596e-07, 'reg_lambda': 1.0293648200726155e-05}. Best is trial 72 with value: 0.7906441717791411.\n",
            "Trial 85 finished with value: 0.7879601226993865 and parameters: {'max_depth': 7, 'learning_rate': 0.13230199193089123, 'n_estimators': 498, 'min_child_weight': 5, 'gamma': 0.000924516794594294, 'subsample': 0.7364245201731552, 'colsample_bytree': 0.7860512357618326, 'reg_alpha': 7.497916905479596e-07, 'reg_lambda': 1.0293648200726155e-05}. Best is trial 72 with value: 0.7906441717791411.\n",
            "[21:27:19] WARNING: ../src/learner.cc:767: \n",
            "Parameters: { \"n_estimators\", \"use_label_encoder\" } are not used.\n",
            "\n",
            "[0]\tvalidation-auc:0.83289\n",
            "[1]\tvalidation-auc:0.84702\n",
            "[2]\tvalidation-auc:0.85844\n",
            "[3]\tvalidation-auc:0.86148\n",
            "[4]\tvalidation-auc:0.86340\n",
            "[5]\tvalidation-auc:0.86253\n",
            "[6]\tvalidation-auc:0.86386\n",
            "[7]\tvalidation-auc:0.86423\n",
            "[8]\tvalidation-auc:0.86555\n",
            "[9]\tvalidation-auc:0.86512\n"
          ]
        },
        {
          "output_type": "stream",
          "name": "stderr",
          "text": [
            "\u001b[32m[I 2023-03-22 21:27:19,225]\u001b[0m Trial 86 finished with value: 0.7871932515337423 and parameters: {'max_depth': 8, 'learning_rate': 0.17195872512237945, 'n_estimators': 480, 'min_child_weight': 4, 'gamma': 0.0008458626938988013, 'subsample': 0.7648841798345059, 'colsample_bytree': 0.8138383891694024, 'reg_alpha': 5.546916625003397e-07, 'reg_lambda': 1.5422182958006413e-05}. Best is trial 72 with value: 0.7906441717791411.\u001b[0m\n"
          ]
        },
        {
          "output_type": "stream",
          "name": "stdout",
          "text": [
            "Trial 86 finished with value: 0.7871932515337423 and parameters: {'max_depth': 8, 'learning_rate': 0.17195872512237945, 'n_estimators': 480, 'min_child_weight': 4, 'gamma': 0.0008458626938988013, 'subsample': 0.7648841798345059, 'colsample_bytree': 0.8138383891694024, 'reg_alpha': 5.546916625003397e-07, 'reg_lambda': 1.5422182958006413e-05}. Best is trial 72 with value: 0.7906441717791411.\n",
            "Trial 86 finished with value: 0.7871932515337423 and parameters: {'max_depth': 8, 'learning_rate': 0.17195872512237945, 'n_estimators': 480, 'min_child_weight': 4, 'gamma': 0.0008458626938988013, 'subsample': 0.7648841798345059, 'colsample_bytree': 0.8138383891694024, 'reg_alpha': 5.546916625003397e-07, 'reg_lambda': 1.5422182958006413e-05}. Best is trial 72 with value: 0.7906441717791411.\n",
            "[21:27:19] WARNING: ../src/learner.cc:767: \n",
            "Parameters: { \"n_estimators\", \"use_label_encoder\" } are not used.\n",
            "\n",
            "[0]\tvalidation-auc:0.79632\n",
            "[1]\tvalidation-auc:0.83272\n",
            "[2]\tvalidation-auc:0.84662\n",
            "[3]\tvalidation-auc:0.85348\n",
            "[4]\tvalidation-auc:0.85653\n",
            "[5]\tvalidation-auc:0.85676\n",
            "[6]\tvalidation-auc:0.86279\n",
            "[7]\tvalidation-auc:0.86221\n",
            "[8]\tvalidation-auc:0.86493\n",
            "[9]\tvalidation-auc:0.86301\n"
          ]
        },
        {
          "output_type": "stream",
          "name": "stderr",
          "text": [
            "\u001b[32m[I 2023-03-22 21:27:19,438]\u001b[0m Trial 87 finished with value: 0.7806748466257669 and parameters: {'max_depth': 7, 'learning_rate': 0.3028381125131905, 'n_estimators': 497, 'min_child_weight': 5, 'gamma': 0.0009887389017003833, 'subsample': 0.49154748181971536, 'colsample_bytree': 0.7040166026203611, 'reg_alpha': 1.7840400224799228e-06, 'reg_lambda': 8.09972046037554e-06}. Best is trial 72 with value: 0.7906441717791411.\u001b[0m\n"
          ]
        },
        {
          "output_type": "stream",
          "name": "stdout",
          "text": [
            "Trial 87 finished with value: 0.7806748466257669 and parameters: {'max_depth': 7, 'learning_rate': 0.3028381125131905, 'n_estimators': 497, 'min_child_weight': 5, 'gamma': 0.0009887389017003833, 'subsample': 0.49154748181971536, 'colsample_bytree': 0.7040166026203611, 'reg_alpha': 1.7840400224799228e-06, 'reg_lambda': 8.09972046037554e-06}. Best is trial 72 with value: 0.7906441717791411.\n",
            "Trial 87 finished with value: 0.7806748466257669 and parameters: {'max_depth': 7, 'learning_rate': 0.3028381125131905, 'n_estimators': 497, 'min_child_weight': 5, 'gamma': 0.0009887389017003833, 'subsample': 0.49154748181971536, 'colsample_bytree': 0.7040166026203611, 'reg_alpha': 1.7840400224799228e-06, 'reg_lambda': 8.09972046037554e-06}. Best is trial 72 with value: 0.7906441717791411.\n",
            "[21:27:19] WARNING: ../src/learner.cc:767: \n",
            "Parameters: { \"n_estimators\", \"use_label_encoder\" } are not used.\n",
            "\n",
            "[0]\tvalidation-auc:0.78271\n",
            "[1]\tvalidation-auc:0.81496\n",
            "[2]\tvalidation-auc:0.83470\n",
            "[3]\tvalidation-auc:0.84878\n",
            "[4]\tvalidation-auc:0.85145\n",
            "[5]\tvalidation-auc:0.85180\n",
            "[6]\tvalidation-auc:0.85731\n",
            "[7]\tvalidation-auc:0.85856\n",
            "[8]\tvalidation-auc:0.86144\n",
            "[9]\tvalidation-auc:0.86068\n"
          ]
        },
        {
          "output_type": "stream",
          "name": "stderr",
          "text": [
            "\u001b[32m[I 2023-03-22 21:27:19,698]\u001b[0m Trial 88 finished with value: 0.7845092024539877 and parameters: {'max_depth': 8, 'learning_rate': 0.13855747915462238, 'n_estimators': 477, 'min_child_weight': 4, 'gamma': 6.407538395646657e-05, 'subsample': 0.6226319617099748, 'colsample_bytree': 0.6341799560316889, 'reg_alpha': 1.0039027762968568e-06, 'reg_lambda': 9.723405330783304e-06}. Best is trial 72 with value: 0.7906441717791411.\u001b[0m\n"
          ]
        },
        {
          "output_type": "stream",
          "name": "stdout",
          "text": [
            "Trial 88 finished with value: 0.7845092024539877 and parameters: {'max_depth': 8, 'learning_rate': 0.13855747915462238, 'n_estimators': 477, 'min_child_weight': 4, 'gamma': 6.407538395646657e-05, 'subsample': 0.6226319617099748, 'colsample_bytree': 0.6341799560316889, 'reg_alpha': 1.0039027762968568e-06, 'reg_lambda': 9.723405330783304e-06}. Best is trial 72 with value: 0.7906441717791411.\n",
            "Trial 88 finished with value: 0.7845092024539877 and parameters: {'max_depth': 8, 'learning_rate': 0.13855747915462238, 'n_estimators': 477, 'min_child_weight': 4, 'gamma': 6.407538395646657e-05, 'subsample': 0.6226319617099748, 'colsample_bytree': 0.6341799560316889, 'reg_alpha': 1.0039027762968568e-06, 'reg_lambda': 9.723405330783304e-06}. Best is trial 72 with value: 0.7906441717791411.\n",
            "[21:27:19] WARNING: ../src/learner.cc:767: \n",
            "Parameters: { \"n_estimators\", \"use_label_encoder\" } are not used.\n",
            "\n",
            "[0]\tvalidation-auc:0.78044\n",
            "[1]\tvalidation-auc:0.80339\n",
            "[2]\tvalidation-auc:0.82217\n",
            "[3]\tvalidation-auc:0.83356\n",
            "[4]\tvalidation-auc:0.84087\n",
            "[5]\tvalidation-auc:0.84271\n",
            "[6]\tvalidation-auc:0.84645\n",
            "[7]\tvalidation-auc:0.84830\n",
            "[8]\tvalidation-auc:0.85231\n",
            "[9]\tvalidation-auc:0.85223\n"
          ]
        },
        {
          "output_type": "stream",
          "name": "stderr",
          "text": [
            "\u001b[32m[I 2023-03-22 21:27:19,920]\u001b[0m Trial 89 finished with value: 0.7745398773006135 and parameters: {'max_depth': 7, 'learning_rate': 0.21045665872803884, 'n_estimators': 446, 'min_child_weight': 6, 'gamma': 0.0004800730586095815, 'subsample': 0.571037054960827, 'colsample_bytree': 0.5106161614183672, 'reg_alpha': 2.1195805016365447e-06, 'reg_lambda': 1.8490019348900965e-05}. Best is trial 72 with value: 0.7906441717791411.\u001b[0m\n"
          ]
        },
        {
          "output_type": "stream",
          "name": "stdout",
          "text": [
            "Trial 89 finished with value: 0.7745398773006135 and parameters: {'max_depth': 7, 'learning_rate': 0.21045665872803884, 'n_estimators': 446, 'min_child_weight': 6, 'gamma': 0.0004800730586095815, 'subsample': 0.571037054960827, 'colsample_bytree': 0.5106161614183672, 'reg_alpha': 2.1195805016365447e-06, 'reg_lambda': 1.8490019348900965e-05}. Best is trial 72 with value: 0.7906441717791411.\n",
            "Trial 89 finished with value: 0.7745398773006135 and parameters: {'max_depth': 7, 'learning_rate': 0.21045665872803884, 'n_estimators': 446, 'min_child_weight': 6, 'gamma': 0.0004800730586095815, 'subsample': 0.571037054960827, 'colsample_bytree': 0.5106161614183672, 'reg_alpha': 2.1195805016365447e-06, 'reg_lambda': 1.8490019348900965e-05}. Best is trial 72 with value: 0.7906441717791411.\n",
            "[21:27:19] WARNING: ../src/learner.cc:767: \n",
            "Parameters: { \"n_estimators\", \"use_label_encoder\" } are not used.\n",
            "\n",
            "[0]\tvalidation-auc:0.84405\n",
            "[1]\tvalidation-auc:0.85481\n",
            "[2]\tvalidation-auc:0.85822\n",
            "[3]\tvalidation-auc:0.86251\n",
            "[4]\tvalidation-auc:0.86355\n",
            "[5]\tvalidation-auc:0.86585\n",
            "[6]\tvalidation-auc:0.86702\n",
            "[7]\tvalidation-auc:0.86845\n",
            "[8]\tvalidation-auc:0.86933\n",
            "[9]\tvalidation-auc:0.86959\n"
          ]
        },
        {
          "output_type": "stream",
          "name": "stderr",
          "text": [
            "\u001b[32m[I 2023-03-22 21:27:20,176]\u001b[0m Trial 90 finished with value: 0.7940950920245399 and parameters: {'max_depth': 8, 'learning_rate': 0.18536083367148742, 'n_estimators': 458, 'min_child_weight': 5, 'gamma': 9.544925109205606e-05, 'subsample': 0.7974462828223154, 'colsample_bytree': 0.9942680771008808, 'reg_alpha': 3.8516196553472594e-07, 'reg_lambda': 6.069049036079966e-06}. Best is trial 90 with value: 0.7940950920245399.\u001b[0m\n"
          ]
        },
        {
          "output_type": "stream",
          "name": "stdout",
          "text": [
            "Trial 90 finished with value: 0.7940950920245399 and parameters: {'max_depth': 8, 'learning_rate': 0.18536083367148742, 'n_estimators': 458, 'min_child_weight': 5, 'gamma': 9.544925109205606e-05, 'subsample': 0.7974462828223154, 'colsample_bytree': 0.9942680771008808, 'reg_alpha': 3.8516196553472594e-07, 'reg_lambda': 6.069049036079966e-06}. Best is trial 90 with value: 0.7940950920245399.\n",
            "Trial 90 finished with value: 0.7940950920245399 and parameters: {'max_depth': 8, 'learning_rate': 0.18536083367148742, 'n_estimators': 458, 'min_child_weight': 5, 'gamma': 9.544925109205606e-05, 'subsample': 0.7974462828223154, 'colsample_bytree': 0.9942680771008808, 'reg_alpha': 3.8516196553472594e-07, 'reg_lambda': 6.069049036079966e-06}. Best is trial 90 with value: 0.7940950920245399.\n",
            "[21:27:20] WARNING: ../src/learner.cc:767: \n",
            "Parameters: { \"n_estimators\", \"use_label_encoder\" } are not used.\n",
            "\n",
            "[0]\tvalidation-auc:0.85179\n",
            "[1]\tvalidation-auc:0.85595\n",
            "[2]\tvalidation-auc:0.86000\n",
            "[3]\tvalidation-auc:0.86191\n",
            "[4]\tvalidation-auc:0.86218\n",
            "[5]\tvalidation-auc:0.86278\n",
            "[6]\tvalidation-auc:0.86469\n",
            "[7]\tvalidation-auc:0.86573\n",
            "[8]\tvalidation-auc:0.86715\n",
            "[9]\tvalidation-auc:0.86792\n"
          ]
        },
        {
          "output_type": "stream",
          "name": "stderr",
          "text": [
            "\u001b[32m[I 2023-03-22 21:27:20,446]\u001b[0m Trial 91 finished with value: 0.7891104294478528 and parameters: {'max_depth': 8, 'learning_rate': 0.18474726229077237, 'n_estimators': 498, 'min_child_weight': 5, 'gamma': 0.00010578399666692773, 'subsample': 0.9391275101257305, 'colsample_bytree': 0.8769044275026464, 'reg_alpha': 3.421573566315762e-07, 'reg_lambda': 6.760428692114081e-06}. Best is trial 90 with value: 0.7940950920245399.\u001b[0m\n"
          ]
        },
        {
          "output_type": "stream",
          "name": "stdout",
          "text": [
            "Trial 91 finished with value: 0.7891104294478528 and parameters: {'max_depth': 8, 'learning_rate': 0.18474726229077237, 'n_estimators': 498, 'min_child_weight': 5, 'gamma': 0.00010578399666692773, 'subsample': 0.9391275101257305, 'colsample_bytree': 0.8769044275026464, 'reg_alpha': 3.421573566315762e-07, 'reg_lambda': 6.760428692114081e-06}. Best is trial 90 with value: 0.7940950920245399.\n",
            "Trial 91 finished with value: 0.7891104294478528 and parameters: {'max_depth': 8, 'learning_rate': 0.18474726229077237, 'n_estimators': 498, 'min_child_weight': 5, 'gamma': 0.00010578399666692773, 'subsample': 0.9391275101257305, 'colsample_bytree': 0.8769044275026464, 'reg_alpha': 3.421573566315762e-07, 'reg_lambda': 6.760428692114081e-06}. Best is trial 90 with value: 0.7940950920245399.\n",
            "[21:27:20] WARNING: ../src/learner.cc:767: \n",
            "Parameters: { \"n_estimators\", \"use_label_encoder\" } are not used.\n",
            "\n",
            "[0]\tvalidation-auc:0.84954\n",
            "[1]\tvalidation-auc:0.85639\n",
            "[2]\tvalidation-auc:0.85894\n",
            "[3]\tvalidation-auc:0.86223\n",
            "[4]\tvalidation-auc:0.86300\n",
            "[5]\tvalidation-auc:0.86318\n",
            "[6]\tvalidation-auc:0.86357\n",
            "[7]\tvalidation-auc:0.86518\n",
            "[8]\tvalidation-auc:0.86571\n",
            "[9]\tvalidation-auc:0.86647\n"
          ]
        },
        {
          "output_type": "stream",
          "name": "stderr",
          "text": [
            "\u001b[32m[I 2023-03-22 21:27:20,726]\u001b[0m Trial 92 finished with value: 0.7845092024539877 and parameters: {'max_depth': 8, 'learning_rate': 0.1870044156876958, 'n_estimators': 460, 'min_child_weight': 5, 'gamma': 3.45577251588167e-05, 'subsample': 0.9327217763719955, 'colsample_bytree': 0.8919989944148673, 'reg_alpha': 4.996286974962916e-07, 'reg_lambda': 5.547251043995012e-06}. Best is trial 90 with value: 0.7940950920245399.\u001b[0m\n"
          ]
        },
        {
          "output_type": "stream",
          "name": "stdout",
          "text": [
            "Trial 92 finished with value: 0.7845092024539877 and parameters: {'max_depth': 8, 'learning_rate': 0.1870044156876958, 'n_estimators': 460, 'min_child_weight': 5, 'gamma': 3.45577251588167e-05, 'subsample': 0.9327217763719955, 'colsample_bytree': 0.8919989944148673, 'reg_alpha': 4.996286974962916e-07, 'reg_lambda': 5.547251043995012e-06}. Best is trial 90 with value: 0.7940950920245399.\n",
            "Trial 92 finished with value: 0.7845092024539877 and parameters: {'max_depth': 8, 'learning_rate': 0.1870044156876958, 'n_estimators': 460, 'min_child_weight': 5, 'gamma': 3.45577251588167e-05, 'subsample': 0.9327217763719955, 'colsample_bytree': 0.8919989944148673, 'reg_alpha': 4.996286974962916e-07, 'reg_lambda': 5.547251043995012e-06}. Best is trial 90 with value: 0.7940950920245399.\n",
            "[21:27:20] WARNING: ../src/learner.cc:767: \n",
            "Parameters: { \"n_estimators\", \"use_label_encoder\" } are not used.\n",
            "\n",
            "[0]\tvalidation-auc:0.85058\n",
            "[1]\tvalidation-auc:0.85548\n",
            "[2]\tvalidation-auc:0.86076\n",
            "[3]\tvalidation-auc:0.86280\n",
            "[4]\tvalidation-auc:0.86557\n",
            "[5]\tvalidation-auc:0.86725\n",
            "[6]\tvalidation-auc:0.86755\n",
            "[7]\tvalidation-auc:0.86752\n",
            "[8]\tvalidation-auc:0.86778\n",
            "[9]\tvalidation-auc:0.86814\n"
          ]
        },
        {
          "output_type": "stream",
          "name": "stderr",
          "text": [
            "\u001b[32m[I 2023-03-22 21:27:20,987]\u001b[0m Trial 93 finished with value: 0.7917944785276073 and parameters: {'max_depth': 8, 'learning_rate': 0.17034635673770357, 'n_estimators': 486, 'min_child_weight': 6, 'gamma': 7.184651436093e-05, 'subsample': 0.8910504386431191, 'colsample_bytree': 0.979966935400092, 'reg_alpha': 9.116491856355951e-06, 'reg_lambda': 2.070134174870869e-06}. Best is trial 90 with value: 0.7940950920245399.\u001b[0m\n"
          ]
        },
        {
          "output_type": "stream",
          "name": "stdout",
          "text": [
            "Trial 93 finished with value: 0.7917944785276073 and parameters: {'max_depth': 8, 'learning_rate': 0.17034635673770357, 'n_estimators': 486, 'min_child_weight': 6, 'gamma': 7.184651436093e-05, 'subsample': 0.8910504386431191, 'colsample_bytree': 0.979966935400092, 'reg_alpha': 9.116491856355951e-06, 'reg_lambda': 2.070134174870869e-06}. Best is trial 90 with value: 0.7940950920245399.\n",
            "Trial 93 finished with value: 0.7917944785276073 and parameters: {'max_depth': 8, 'learning_rate': 0.17034635673770357, 'n_estimators': 486, 'min_child_weight': 6, 'gamma': 7.184651436093e-05, 'subsample': 0.8910504386431191, 'colsample_bytree': 0.979966935400092, 'reg_alpha': 9.116491856355951e-06, 'reg_lambda': 2.070134174870869e-06}. Best is trial 90 with value: 0.7940950920245399.\n",
            "[21:27:21] WARNING: ../src/learner.cc:767: \n",
            "Parameters: { \"n_estimators\", \"use_label_encoder\" } are not used.\n",
            "\n",
            "[0]\tvalidation-auc:0.83174\n",
            "[1]\tvalidation-auc:0.84660\n",
            "[2]\tvalidation-auc:0.85738\n",
            "[3]\tvalidation-auc:0.86145\n",
            "[4]\tvalidation-auc:0.86519\n",
            "[5]\tvalidation-auc:0.86471\n",
            "[6]\tvalidation-auc:0.86591\n",
            "[7]\tvalidation-auc:0.86579\n",
            "[8]\tvalidation-auc:0.86756\n",
            "[9]\tvalidation-auc:0.86726\n"
          ]
        },
        {
          "output_type": "stream",
          "name": "stderr",
          "text": [
            "\u001b[32m[I 2023-03-22 21:27:21,242]\u001b[0m Trial 94 finished with value: 0.786042944785276 and parameters: {'max_depth': 8, 'learning_rate': 0.16069821553708924, 'n_estimators': 486, 'min_child_weight': 6, 'gamma': 8.929526068891969e-05, 'subsample': 0.9767384407962463, 'colsample_bytree': 0.835099586459511, 'reg_alpha': 3.171607352294399e-07, 'reg_lambda': 2.3750236477097993e-06}. Best is trial 90 with value: 0.7940950920245399.\u001b[0m\n"
          ]
        },
        {
          "output_type": "stream",
          "name": "stdout",
          "text": [
            "Trial 94 finished with value: 0.786042944785276 and parameters: {'max_depth': 8, 'learning_rate': 0.16069821553708924, 'n_estimators': 486, 'min_child_weight': 6, 'gamma': 8.929526068891969e-05, 'subsample': 0.9767384407962463, 'colsample_bytree': 0.835099586459511, 'reg_alpha': 3.171607352294399e-07, 'reg_lambda': 2.3750236477097993e-06}. Best is trial 90 with value: 0.7940950920245399.\n",
            "Trial 94 finished with value: 0.786042944785276 and parameters: {'max_depth': 8, 'learning_rate': 0.16069821553708924, 'n_estimators': 486, 'min_child_weight': 6, 'gamma': 8.929526068891969e-05, 'subsample': 0.9767384407962463, 'colsample_bytree': 0.835099586459511, 'reg_alpha': 3.171607352294399e-07, 'reg_lambda': 2.3750236477097993e-06}. Best is trial 90 with value: 0.7940950920245399.\n",
            "[21:27:21] WARNING: ../src/learner.cc:767: \n",
            "Parameters: { \"n_estimators\", \"use_label_encoder\" } are not used.\n",
            "\n",
            "[0]\tvalidation-auc:0.78067\n",
            "[1]\tvalidation-auc:0.82134\n",
            "[2]\tvalidation-auc:0.83338\n",
            "[3]\tvalidation-auc:0.84841\n",
            "[4]\tvalidation-auc:0.84908\n",
            "[5]\tvalidation-auc:0.84879\n",
            "[6]\tvalidation-auc:0.85254\n",
            "[7]\tvalidation-auc:0.85538\n",
            "[8]\tvalidation-auc:0.85994\n",
            "[9]\tvalidation-auc:0.85909\n"
          ]
        },
        {
          "output_type": "stream",
          "name": "stderr",
          "text": [
            "\u001b[32m[I 2023-03-22 21:27:21,499]\u001b[0m Trial 95 finished with value: 0.7841257668711656 and parameters: {'max_depth': 8, 'learning_rate': 0.18472602140073222, 'n_estimators': 474, 'min_child_weight': 6, 'gamma': 0.00010832763116899201, 'subsample': 0.9115702671200562, 'colsample_bytree': 0.6036924481562442, 'reg_alpha': 8.194313576342049e-06, 'reg_lambda': 1.7312839862629387e-06}. Best is trial 90 with value: 0.7940950920245399.\u001b[0m\n"
          ]
        },
        {
          "output_type": "stream",
          "name": "stdout",
          "text": [
            "Trial 95 finished with value: 0.7841257668711656 and parameters: {'max_depth': 8, 'learning_rate': 0.18472602140073222, 'n_estimators': 474, 'min_child_weight': 6, 'gamma': 0.00010832763116899201, 'subsample': 0.9115702671200562, 'colsample_bytree': 0.6036924481562442, 'reg_alpha': 8.194313576342049e-06, 'reg_lambda': 1.7312839862629387e-06}. Best is trial 90 with value: 0.7940950920245399.\n",
            "Trial 95 finished with value: 0.7841257668711656 and parameters: {'max_depth': 8, 'learning_rate': 0.18472602140073222, 'n_estimators': 474, 'min_child_weight': 6, 'gamma': 0.00010832763116899201, 'subsample': 0.9115702671200562, 'colsample_bytree': 0.6036924481562442, 'reg_alpha': 8.194313576342049e-06, 'reg_lambda': 1.7312839862629387e-06}. Best is trial 90 with value: 0.7940950920245399.\n",
            "[21:27:21] WARNING: ../src/learner.cc:767: \n",
            "Parameters: { \"n_estimators\", \"use_label_encoder\" } are not used.\n",
            "\n",
            "[0]\tvalidation-auc:0.78934\n",
            "[1]\tvalidation-auc:0.82182\n",
            "[2]\tvalidation-auc:0.83660\n",
            "[3]\tvalidation-auc:0.85171\n",
            "[4]\tvalidation-auc:0.85520\n",
            "[5]\tvalidation-auc:0.85256\n",
            "[6]\tvalidation-auc:0.85857\n",
            "[7]\tvalidation-auc:0.85916\n",
            "[8]\tvalidation-auc:0.86258\n",
            "[9]\tvalidation-auc:0.86246\n"
          ]
        },
        {
          "output_type": "stream",
          "name": "stderr",
          "text": [
            "\u001b[32m[I 2023-03-22 21:27:21,793]\u001b[0m Trial 96 finished with value: 0.7795245398773006 and parameters: {'max_depth': 9, 'learning_rate': 0.22502970163901262, 'n_estimators': 487, 'min_child_weight': 4, 'gamma': 2.8126666113594243e-05, 'subsample': 0.8742440133331388, 'colsample_bytree': 0.6832959771362959, 'reg_alpha': 2.0946829476571947e-07, 'reg_lambda': 3.3152341337256473e-06}. Best is trial 90 with value: 0.7940950920245399.\u001b[0m\n"
          ]
        },
        {
          "output_type": "stream",
          "name": "stdout",
          "text": [
            "Trial 96 finished with value: 0.7795245398773006 and parameters: {'max_depth': 9, 'learning_rate': 0.22502970163901262, 'n_estimators': 487, 'min_child_weight': 4, 'gamma': 2.8126666113594243e-05, 'subsample': 0.8742440133331388, 'colsample_bytree': 0.6832959771362959, 'reg_alpha': 2.0946829476571947e-07, 'reg_lambda': 3.3152341337256473e-06}. Best is trial 90 with value: 0.7940950920245399.\n",
            "Trial 96 finished with value: 0.7795245398773006 and parameters: {'max_depth': 9, 'learning_rate': 0.22502970163901262, 'n_estimators': 487, 'min_child_weight': 4, 'gamma': 2.8126666113594243e-05, 'subsample': 0.8742440133331388, 'colsample_bytree': 0.6832959771362959, 'reg_alpha': 2.0946829476571947e-07, 'reg_lambda': 3.3152341337256473e-06}. Best is trial 90 with value: 0.7940950920245399.\n",
            "[21:27:21] WARNING: ../src/learner.cc:767: \n",
            "Parameters: { \"n_estimators\", \"use_label_encoder\" } are not used.\n",
            "\n",
            "[0]\tvalidation-auc:0.84312\n",
            "[1]\tvalidation-auc:0.85195\n",
            "[2]\tvalidation-auc:0.85669\n",
            "[3]\tvalidation-auc:0.86042\n",
            "[4]\tvalidation-auc:0.86302\n",
            "[5]\tvalidation-auc:0.86331\n",
            "[6]\tvalidation-auc:0.86483\n",
            "[7]\tvalidation-auc:0.86578\n",
            "[8]\tvalidation-auc:0.86651\n",
            "[9]\tvalidation-auc:0.86644\n"
          ]
        },
        {
          "output_type": "stream",
          "name": "stderr",
          "text": [
            "\u001b[32m[I 2023-03-22 21:27:22,074]\u001b[0m Trial 97 finished with value: 0.7848926380368099 and parameters: {'max_depth': 8, 'learning_rate': 0.1525343213807522, 'n_estimators': 500, 'min_child_weight': 4, 'gamma': 0.00016303686434194508, 'subsample': 0.7002686266539616, 'colsample_bytree': 0.9184536704013863, 'reg_alpha': 1.1821311260170153e-06, 'reg_lambda': 1.780745512159555e-06}. Best is trial 90 with value: 0.7940950920245399.\u001b[0m\n"
          ]
        },
        {
          "output_type": "stream",
          "name": "stdout",
          "text": [
            "Trial 97 finished with value: 0.7848926380368099 and parameters: {'max_depth': 8, 'learning_rate': 0.1525343213807522, 'n_estimators': 500, 'min_child_weight': 4, 'gamma': 0.00016303686434194508, 'subsample': 0.7002686266539616, 'colsample_bytree': 0.9184536704013863, 'reg_alpha': 1.1821311260170153e-06, 'reg_lambda': 1.780745512159555e-06}. Best is trial 90 with value: 0.7940950920245399.\n",
            "Trial 97 finished with value: 0.7848926380368099 and parameters: {'max_depth': 8, 'learning_rate': 0.1525343213807522, 'n_estimators': 500, 'min_child_weight': 4, 'gamma': 0.00016303686434194508, 'subsample': 0.7002686266539616, 'colsample_bytree': 0.9184536704013863, 'reg_alpha': 1.1821311260170153e-06, 'reg_lambda': 1.780745512159555e-06}. Best is trial 90 with value: 0.7940950920245399.\n",
            "[21:27:22] WARNING: ../src/learner.cc:767: \n",
            "Parameters: { \"n_estimators\", \"use_label_encoder\" } are not used.\n",
            "\n",
            "[0]\tvalidation-auc:0.84781\n",
            "[1]\tvalidation-auc:0.85792\n",
            "[2]\tvalidation-auc:0.85922\n",
            "[3]\tvalidation-auc:0.86188\n",
            "[4]\tvalidation-auc:0.86313\n",
            "[5]\tvalidation-auc:0.86438\n",
            "[6]\tvalidation-auc:0.86598\n",
            "[7]\tvalidation-auc:0.86724\n",
            "[8]\tvalidation-auc:0.86784\n",
            "[9]\tvalidation-auc:0.86785\n"
          ]
        },
        {
          "output_type": "stream",
          "name": "stderr",
          "text": [
            "\u001b[32m[I 2023-03-22 21:27:22,311]\u001b[0m Trial 98 finished with value: 0.7894938650306749 and parameters: {'max_depth': 8, 'learning_rate': 0.2094736278733151, 'n_estimators': 445, 'min_child_weight': 7, 'gamma': 6.303448703865408e-05, 'subsample': 0.8341983424197805, 'colsample_bytree': 0.9930433766748321, 'reg_alpha': 2.2488519243286935e-06, 'reg_lambda': 7.443436792696664e-06}. Best is trial 90 with value: 0.7940950920245399.\u001b[0m\n"
          ]
        },
        {
          "output_type": "stream",
          "name": "stdout",
          "text": [
            "Trial 98 finished with value: 0.7894938650306749 and parameters: {'max_depth': 8, 'learning_rate': 0.2094736278733151, 'n_estimators': 445, 'min_child_weight': 7, 'gamma': 6.303448703865408e-05, 'subsample': 0.8341983424197805, 'colsample_bytree': 0.9930433766748321, 'reg_alpha': 2.2488519243286935e-06, 'reg_lambda': 7.443436792696664e-06}. Best is trial 90 with value: 0.7940950920245399.\n",
            "Trial 98 finished with value: 0.7894938650306749 and parameters: {'max_depth': 8, 'learning_rate': 0.2094736278733151, 'n_estimators': 445, 'min_child_weight': 7, 'gamma': 6.303448703865408e-05, 'subsample': 0.8341983424197805, 'colsample_bytree': 0.9930433766748321, 'reg_alpha': 2.2488519243286935e-06, 'reg_lambda': 7.443436792696664e-06}. Best is trial 90 with value: 0.7940950920245399.\n",
            "[21:27:22] WARNING: ../src/learner.cc:767: \n",
            "Parameters: { \"n_estimators\", \"use_label_encoder\" } are not used.\n",
            "\n",
            "[0]\tvalidation-auc:0.84618\n",
            "[1]\tvalidation-auc:0.85532\n",
            "[2]\tvalidation-auc:0.85748\n",
            "[3]\tvalidation-auc:0.86102\n",
            "[4]\tvalidation-auc:0.86454\n",
            "[5]\tvalidation-auc:0.86629\n",
            "[6]\tvalidation-auc:0.86743\n",
            "[7]\tvalidation-auc:0.86835\n",
            "[8]\tvalidation-auc:0.86814\n",
            "[9]\tvalidation-auc:0.86864\n"
          ]
        },
        {
          "output_type": "stream",
          "name": "stderr",
          "text": [
            "\u001b[32m[I 2023-03-22 21:27:22,579]\u001b[0m Trial 99 finished with value: 0.7910276073619632 and parameters: {'max_depth': 8, 'learning_rate': 0.21111400917370804, 'n_estimators': 397, 'min_child_weight': 7, 'gamma': 6.104646037141258e-05, 'subsample': 0.720923832463871, 'colsample_bytree': 0.993075422653308, 'reg_alpha': 2.2802952058641577e-06, 'reg_lambda': 1.532560324070245e-05}. Best is trial 90 with value: 0.7940950920245399.\u001b[0m\n"
          ]
        },
        {
          "output_type": "stream",
          "name": "stdout",
          "text": [
            "Trial 99 finished with value: 0.7910276073619632 and parameters: {'max_depth': 8, 'learning_rate': 0.21111400917370804, 'n_estimators': 397, 'min_child_weight': 7, 'gamma': 6.104646037141258e-05, 'subsample': 0.720923832463871, 'colsample_bytree': 0.993075422653308, 'reg_alpha': 2.2802952058641577e-06, 'reg_lambda': 1.532560324070245e-05}. Best is trial 90 with value: 0.7940950920245399.\n",
            "Trial 99 finished with value: 0.7910276073619632 and parameters: {'max_depth': 8, 'learning_rate': 0.21111400917370804, 'n_estimators': 397, 'min_child_weight': 7, 'gamma': 6.104646037141258e-05, 'subsample': 0.720923832463871, 'colsample_bytree': 0.993075422653308, 'reg_alpha': 2.2802952058641577e-06, 'reg_lambda': 1.532560324070245e-05}. Best is trial 90 with value: 0.7940950920245399.\n",
            "Return a dictionary of parameter name and parameter values:\n",
            "{'max_depth': 8, 'learning_rate': 0.18536083367148742, 'n_estimators': 458, 'min_child_weight': 5, 'gamma': 9.544925109205606e-05, 'subsample': 0.7974462828223154, 'colsample_bytree': 0.9942680771008808, 'reg_alpha': 3.8516196553472594e-07, 'reg_lambda': 6.069049036079966e-06}\n",
            "Return the best observed value of the objective function: 0.7940950920245399\n"
          ]
        }
      ]
    },
    {
      "cell_type": "code",
      "source": [
        "# Visualize the optimization history. See :func:`~optuna.visualization.plot_optimization_history` for the details.\n",
        "plot_optimization_history(study)"
      ],
      "metadata": {
        "colab": {
          "base_uri": "https://localhost:8080/",
          "height": 542
        },
        "id": "TzAJnwnzNmAB",
        "outputId": "e09907c0-23af-4b80-8b02-5cc7cd6c2dba"
      },
      "execution_count": 43,
      "outputs": [
        {
          "output_type": "display_data",
          "data": {
            "text/html": [
              "<html>\n",
              "<head><meta charset=\"utf-8\" /></head>\n",
              "<body>\n",
              "    <div>            <script src=\"https://cdnjs.cloudflare.com/ajax/libs/mathjax/2.7.5/MathJax.js?config=TeX-AMS-MML_SVG\"></script><script type=\"text/javascript\">if (window.MathJax && window.MathJax.Hub && window.MathJax.Hub.Config) {window.MathJax.Hub.Config({SVG: {font: \"STIX-Web\"}});}</script>                <script type=\"text/javascript\">window.PlotlyConfig = {MathJaxConfig: 'local'};</script>\n",
              "        <script src=\"https://cdn.plot.ly/plotly-2.18.2.min.js\"></script>                <div id=\"eb97b8a3-e062-4d82-99d7-4dd94138b6ad\" class=\"plotly-graph-div\" style=\"height:525px; width:100%;\"></div>            <script type=\"text/javascript\">                                    window.PLOTLYENV=window.PLOTLYENV || {};                                    if (document.getElementById(\"eb97b8a3-e062-4d82-99d7-4dd94138b6ad\")) {                    Plotly.newPlot(                        \"eb97b8a3-e062-4d82-99d7-4dd94138b6ad\",                        [{\"mode\":\"markers\",\"name\":\"Objective Value\",\"x\":[0,1,2,3,4,5,6,7,8,9,10,11,12,13,14,15,16,17,18,19,20,21,22,23,24,25,26,27,28,29,30,31,32,33,34,35,36,37,38,39,40,41,42,43,44,45,46,47,48,49,50,51,52,53,54,55,56,57,58,59,60,61,62,63,64,65,66,67,68,69,70,71,72,73,74,75,76,77,78,79,80,81,82,83,84,85,86,87,88,89,90,91,92,93,94,95,96,97,98,99],\"y\":[0.6591257668711656,0.6993865030674846,0.7549846625766872,0.6775306748466258,0.709739263803681,0.6997699386503068,0.6890337423312883,0.7039877300613497,0.6978527607361963,0.6687116564417178,0.7427147239263804,0.7442484662576687,0.7638036809815951,0.7776073619631901,0.7833588957055214,0.7745398773006135,0.7618865030674846,0.7787576687116564,0.7557515337423313,0.7496165644171779,0.7699386503067485,0.7779907975460123,0.7806748466257669,0.7680214723926381,0.7657208588957055,0.7645705521472392,0.7676380368098159,0.7787576687116564,0.772239263803681,0.7415644171779141,0.7749233128834356,0.7772239263803681,0.7737730061349694,0.772239263803681,0.7753067484662577,0.7753067484662577,0.7515337423312883,0.7446319018404908,0.7657208588957055,0.7791411042944786,0.7726226993865031,0.7753067484662577,0.7626533742331288,0.7779907975460123,0.7802914110429447,0.7779907975460123,0.7891104294478528,0.7871932515337423,0.7852760736196319,0.776457055214724,0.7841257668711656,0.7802914110429447,0.7756901840490797,0.7707055214723927,0.772239263803681,0.7848926380368099,0.7879601226993865,0.745782208588957,0.7898773006134969,0.7871932515337423,0.785659509202454,0.7852760736196319,0.7783742331288344,0.7703220858895705,0.7733895705521472,0.785659509202454,0.785659509202454,0.786042944785276,0.7848926380368099,0.781058282208589,0.7657208588957055,0.7891104294478528,0.7906441717791411,0.785659509202454,0.781058282208589,0.7879601226993865,0.7875766871165644,0.7883435582822086,0.7841257668711656,0.7875766871165644,0.7868098159509203,0.7841257668711656,0.7783742331288344,0.7891104294478528,0.7791411042944786,0.7879601226993865,0.7871932515337423,0.7806748466257669,0.7845092024539877,0.7745398773006135,0.7940950920245399,0.7891104294478528,0.7845092024539877,0.7917944785276073,0.786042944785276,0.7841257668711656,0.7795245398773006,0.7848926380368099,0.7894938650306749,0.7910276073619632],\"type\":\"scatter\"},{\"name\":\"Best Value\",\"x\":[0,1,2,3,4,5,6,7,8,9,10,11,12,13,14,15,16,17,18,19,20,21,22,23,24,25,26,27,28,29,30,31,32,33,34,35,36,37,38,39,40,41,42,43,44,45,46,47,48,49,50,51,52,53,54,55,56,57,58,59,60,61,62,63,64,65,66,67,68,69,70,71,72,73,74,75,76,77,78,79,80,81,82,83,84,85,86,87,88,89,90,91,92,93,94,95,96,97,98,99],\"y\":[0.6591257668711656,0.6993865030674846,0.7549846625766872,0.7549846625766872,0.7549846625766872,0.7549846625766872,0.7549846625766872,0.7549846625766872,0.7549846625766872,0.7549846625766872,0.7549846625766872,0.7549846625766872,0.7638036809815951,0.7776073619631901,0.7833588957055214,0.7833588957055214,0.7833588957055214,0.7833588957055214,0.7833588957055214,0.7833588957055214,0.7833588957055214,0.7833588957055214,0.7833588957055214,0.7833588957055214,0.7833588957055214,0.7833588957055214,0.7833588957055214,0.7833588957055214,0.7833588957055214,0.7833588957055214,0.7833588957055214,0.7833588957055214,0.7833588957055214,0.7833588957055214,0.7833588957055214,0.7833588957055214,0.7833588957055214,0.7833588957055214,0.7833588957055214,0.7833588957055214,0.7833588957055214,0.7833588957055214,0.7833588957055214,0.7833588957055214,0.7833588957055214,0.7833588957055214,0.7891104294478528,0.7891104294478528,0.7891104294478528,0.7891104294478528,0.7891104294478528,0.7891104294478528,0.7891104294478528,0.7891104294478528,0.7891104294478528,0.7891104294478528,0.7891104294478528,0.7891104294478528,0.7898773006134969,0.7898773006134969,0.7898773006134969,0.7898773006134969,0.7898773006134969,0.7898773006134969,0.7898773006134969,0.7898773006134969,0.7898773006134969,0.7898773006134969,0.7898773006134969,0.7898773006134969,0.7898773006134969,0.7898773006134969,0.7906441717791411,0.7906441717791411,0.7906441717791411,0.7906441717791411,0.7906441717791411,0.7906441717791411,0.7906441717791411,0.7906441717791411,0.7906441717791411,0.7906441717791411,0.7906441717791411,0.7906441717791411,0.7906441717791411,0.7906441717791411,0.7906441717791411,0.7906441717791411,0.7906441717791411,0.7906441717791411,0.7940950920245399,0.7940950920245399,0.7940950920245399,0.7940950920245399,0.7940950920245399,0.7940950920245399,0.7940950920245399,0.7940950920245399,0.7940950920245399,0.7940950920245399],\"type\":\"scatter\"}],                        {\"title\":{\"text\":\"Optimization History Plot\"},\"xaxis\":{\"title\":{\"text\":\"Trial\"}},\"yaxis\":{\"title\":{\"text\":\"Objective Value\"}},\"template\":{\"data\":{\"histogram2dcontour\":[{\"type\":\"histogram2dcontour\",\"colorbar\":{\"outlinewidth\":0,\"ticks\":\"\"},\"colorscale\":[[0.0,\"#0d0887\"],[0.1111111111111111,\"#46039f\"],[0.2222222222222222,\"#7201a8\"],[0.3333333333333333,\"#9c179e\"],[0.4444444444444444,\"#bd3786\"],[0.5555555555555556,\"#d8576b\"],[0.6666666666666666,\"#ed7953\"],[0.7777777777777778,\"#fb9f3a\"],[0.8888888888888888,\"#fdca26\"],[1.0,\"#f0f921\"]]}],\"choropleth\":[{\"type\":\"choropleth\",\"colorbar\":{\"outlinewidth\":0,\"ticks\":\"\"}}],\"histogram2d\":[{\"type\":\"histogram2d\",\"colorbar\":{\"outlinewidth\":0,\"ticks\":\"\"},\"colorscale\":[[0.0,\"#0d0887\"],[0.1111111111111111,\"#46039f\"],[0.2222222222222222,\"#7201a8\"],[0.3333333333333333,\"#9c179e\"],[0.4444444444444444,\"#bd3786\"],[0.5555555555555556,\"#d8576b\"],[0.6666666666666666,\"#ed7953\"],[0.7777777777777778,\"#fb9f3a\"],[0.8888888888888888,\"#fdca26\"],[1.0,\"#f0f921\"]]}],\"heatmap\":[{\"type\":\"heatmap\",\"colorbar\":{\"outlinewidth\":0,\"ticks\":\"\"},\"colorscale\":[[0.0,\"#0d0887\"],[0.1111111111111111,\"#46039f\"],[0.2222222222222222,\"#7201a8\"],[0.3333333333333333,\"#9c179e\"],[0.4444444444444444,\"#bd3786\"],[0.5555555555555556,\"#d8576b\"],[0.6666666666666666,\"#ed7953\"],[0.7777777777777778,\"#fb9f3a\"],[0.8888888888888888,\"#fdca26\"],[1.0,\"#f0f921\"]]}],\"heatmapgl\":[{\"type\":\"heatmapgl\",\"colorbar\":{\"outlinewidth\":0,\"ticks\":\"\"},\"colorscale\":[[0.0,\"#0d0887\"],[0.1111111111111111,\"#46039f\"],[0.2222222222222222,\"#7201a8\"],[0.3333333333333333,\"#9c179e\"],[0.4444444444444444,\"#bd3786\"],[0.5555555555555556,\"#d8576b\"],[0.6666666666666666,\"#ed7953\"],[0.7777777777777778,\"#fb9f3a\"],[0.8888888888888888,\"#fdca26\"],[1.0,\"#f0f921\"]]}],\"contourcarpet\":[{\"type\":\"contourcarpet\",\"colorbar\":{\"outlinewidth\":0,\"ticks\":\"\"}}],\"contour\":[{\"type\":\"contour\",\"colorbar\":{\"outlinewidth\":0,\"ticks\":\"\"},\"colorscale\":[[0.0,\"#0d0887\"],[0.1111111111111111,\"#46039f\"],[0.2222222222222222,\"#7201a8\"],[0.3333333333333333,\"#9c179e\"],[0.4444444444444444,\"#bd3786\"],[0.5555555555555556,\"#d8576b\"],[0.6666666666666666,\"#ed7953\"],[0.7777777777777778,\"#fb9f3a\"],[0.8888888888888888,\"#fdca26\"],[1.0,\"#f0f921\"]]}],\"surface\":[{\"type\":\"surface\",\"colorbar\":{\"outlinewidth\":0,\"ticks\":\"\"},\"colorscale\":[[0.0,\"#0d0887\"],[0.1111111111111111,\"#46039f\"],[0.2222222222222222,\"#7201a8\"],[0.3333333333333333,\"#9c179e\"],[0.4444444444444444,\"#bd3786\"],[0.5555555555555556,\"#d8576b\"],[0.6666666666666666,\"#ed7953\"],[0.7777777777777778,\"#fb9f3a\"],[0.8888888888888888,\"#fdca26\"],[1.0,\"#f0f921\"]]}],\"mesh3d\":[{\"type\":\"mesh3d\",\"colorbar\":{\"outlinewidth\":0,\"ticks\":\"\"}}],\"scatter\":[{\"fillpattern\":{\"fillmode\":\"overlay\",\"size\":10,\"solidity\":0.2},\"type\":\"scatter\"}],\"parcoords\":[{\"type\":\"parcoords\",\"line\":{\"colorbar\":{\"outlinewidth\":0,\"ticks\":\"\"}}}],\"scatterpolargl\":[{\"type\":\"scatterpolargl\",\"marker\":{\"colorbar\":{\"outlinewidth\":0,\"ticks\":\"\"}}}],\"bar\":[{\"error_x\":{\"color\":\"#2a3f5f\"},\"error_y\":{\"color\":\"#2a3f5f\"},\"marker\":{\"line\":{\"color\":\"#E5ECF6\",\"width\":0.5},\"pattern\":{\"fillmode\":\"overlay\",\"size\":10,\"solidity\":0.2}},\"type\":\"bar\"}],\"scattergeo\":[{\"type\":\"scattergeo\",\"marker\":{\"colorbar\":{\"outlinewidth\":0,\"ticks\":\"\"}}}],\"scatterpolar\":[{\"type\":\"scatterpolar\",\"marker\":{\"colorbar\":{\"outlinewidth\":0,\"ticks\":\"\"}}}],\"histogram\":[{\"marker\":{\"pattern\":{\"fillmode\":\"overlay\",\"size\":10,\"solidity\":0.2}},\"type\":\"histogram\"}],\"scattergl\":[{\"type\":\"scattergl\",\"marker\":{\"colorbar\":{\"outlinewidth\":0,\"ticks\":\"\"}}}],\"scatter3d\":[{\"type\":\"scatter3d\",\"line\":{\"colorbar\":{\"outlinewidth\":0,\"ticks\":\"\"}},\"marker\":{\"colorbar\":{\"outlinewidth\":0,\"ticks\":\"\"}}}],\"scattermapbox\":[{\"type\":\"scattermapbox\",\"marker\":{\"colorbar\":{\"outlinewidth\":0,\"ticks\":\"\"}}}],\"scatterternary\":[{\"type\":\"scatterternary\",\"marker\":{\"colorbar\":{\"outlinewidth\":0,\"ticks\":\"\"}}}],\"scattercarpet\":[{\"type\":\"scattercarpet\",\"marker\":{\"colorbar\":{\"outlinewidth\":0,\"ticks\":\"\"}}}],\"carpet\":[{\"aaxis\":{\"endlinecolor\":\"#2a3f5f\",\"gridcolor\":\"white\",\"linecolor\":\"white\",\"minorgridcolor\":\"white\",\"startlinecolor\":\"#2a3f5f\"},\"baxis\":{\"endlinecolor\":\"#2a3f5f\",\"gridcolor\":\"white\",\"linecolor\":\"white\",\"minorgridcolor\":\"white\",\"startlinecolor\":\"#2a3f5f\"},\"type\":\"carpet\"}],\"table\":[{\"cells\":{\"fill\":{\"color\":\"#EBF0F8\"},\"line\":{\"color\":\"white\"}},\"header\":{\"fill\":{\"color\":\"#C8D4E3\"},\"line\":{\"color\":\"white\"}},\"type\":\"table\"}],\"barpolar\":[{\"marker\":{\"line\":{\"color\":\"#E5ECF6\",\"width\":0.5},\"pattern\":{\"fillmode\":\"overlay\",\"size\":10,\"solidity\":0.2}},\"type\":\"barpolar\"}],\"pie\":[{\"automargin\":true,\"type\":\"pie\"}]},\"layout\":{\"autotypenumbers\":\"strict\",\"colorway\":[\"#636efa\",\"#EF553B\",\"#00cc96\",\"#ab63fa\",\"#FFA15A\",\"#19d3f3\",\"#FF6692\",\"#B6E880\",\"#FF97FF\",\"#FECB52\"],\"font\":{\"color\":\"#2a3f5f\"},\"hovermode\":\"closest\",\"hoverlabel\":{\"align\":\"left\"},\"paper_bgcolor\":\"white\",\"plot_bgcolor\":\"#E5ECF6\",\"polar\":{\"bgcolor\":\"#E5ECF6\",\"angularaxis\":{\"gridcolor\":\"white\",\"linecolor\":\"white\",\"ticks\":\"\"},\"radialaxis\":{\"gridcolor\":\"white\",\"linecolor\":\"white\",\"ticks\":\"\"}},\"ternary\":{\"bgcolor\":\"#E5ECF6\",\"aaxis\":{\"gridcolor\":\"white\",\"linecolor\":\"white\",\"ticks\":\"\"},\"baxis\":{\"gridcolor\":\"white\",\"linecolor\":\"white\",\"ticks\":\"\"},\"caxis\":{\"gridcolor\":\"white\",\"linecolor\":\"white\",\"ticks\":\"\"}},\"coloraxis\":{\"colorbar\":{\"outlinewidth\":0,\"ticks\":\"\"}},\"colorscale\":{\"sequential\":[[0.0,\"#0d0887\"],[0.1111111111111111,\"#46039f\"],[0.2222222222222222,\"#7201a8\"],[0.3333333333333333,\"#9c179e\"],[0.4444444444444444,\"#bd3786\"],[0.5555555555555556,\"#d8576b\"],[0.6666666666666666,\"#ed7953\"],[0.7777777777777778,\"#fb9f3a\"],[0.8888888888888888,\"#fdca26\"],[1.0,\"#f0f921\"]],\"sequentialminus\":[[0.0,\"#0d0887\"],[0.1111111111111111,\"#46039f\"],[0.2222222222222222,\"#7201a8\"],[0.3333333333333333,\"#9c179e\"],[0.4444444444444444,\"#bd3786\"],[0.5555555555555556,\"#d8576b\"],[0.6666666666666666,\"#ed7953\"],[0.7777777777777778,\"#fb9f3a\"],[0.8888888888888888,\"#fdca26\"],[1.0,\"#f0f921\"]],\"diverging\":[[0,\"#8e0152\"],[0.1,\"#c51b7d\"],[0.2,\"#de77ae\"],[0.3,\"#f1b6da\"],[0.4,\"#fde0ef\"],[0.5,\"#f7f7f7\"],[0.6,\"#e6f5d0\"],[0.7,\"#b8e186\"],[0.8,\"#7fbc41\"],[0.9,\"#4d9221\"],[1,\"#276419\"]]},\"xaxis\":{\"gridcolor\":\"white\",\"linecolor\":\"white\",\"ticks\":\"\",\"title\":{\"standoff\":15},\"zerolinecolor\":\"white\",\"automargin\":true,\"zerolinewidth\":2},\"yaxis\":{\"gridcolor\":\"white\",\"linecolor\":\"white\",\"ticks\":\"\",\"title\":{\"standoff\":15},\"zerolinecolor\":\"white\",\"automargin\":true,\"zerolinewidth\":2},\"scene\":{\"xaxis\":{\"backgroundcolor\":\"#E5ECF6\",\"gridcolor\":\"white\",\"linecolor\":\"white\",\"showbackground\":true,\"ticks\":\"\",\"zerolinecolor\":\"white\",\"gridwidth\":2},\"yaxis\":{\"backgroundcolor\":\"#E5ECF6\",\"gridcolor\":\"white\",\"linecolor\":\"white\",\"showbackground\":true,\"ticks\":\"\",\"zerolinecolor\":\"white\",\"gridwidth\":2},\"zaxis\":{\"backgroundcolor\":\"#E5ECF6\",\"gridcolor\":\"white\",\"linecolor\":\"white\",\"showbackground\":true,\"ticks\":\"\",\"zerolinecolor\":\"white\",\"gridwidth\":2}},\"shapedefaults\":{\"line\":{\"color\":\"#2a3f5f\"}},\"annotationdefaults\":{\"arrowcolor\":\"#2a3f5f\",\"arrowhead\":0,\"arrowwidth\":1},\"geo\":{\"bgcolor\":\"white\",\"landcolor\":\"#E5ECF6\",\"subunitcolor\":\"white\",\"showland\":true,\"showlakes\":true,\"lakecolor\":\"white\"},\"title\":{\"x\":0.05},\"mapbox\":{\"style\":\"light\"}}}},                        {\"responsive\": true}                    ).then(function(){\n",
              "                            \n",
              "var gd = document.getElementById('eb97b8a3-e062-4d82-99d7-4dd94138b6ad');\n",
              "var x = new MutationObserver(function (mutations, observer) {{\n",
              "        var display = window.getComputedStyle(gd).display;\n",
              "        if (!display || display === 'none') {{\n",
              "            console.log([gd, 'removed!']);\n",
              "            Plotly.purge(gd);\n",
              "            observer.disconnect();\n",
              "        }}\n",
              "}});\n",
              "\n",
              "// Listen for the removal of the full notebook cells\n",
              "var notebookContainer = gd.closest('#notebook-container');\n",
              "if (notebookContainer) {{\n",
              "    x.observe(notebookContainer, {childList: true});\n",
              "}}\n",
              "\n",
              "// Listen for the clearing of the current output cell\n",
              "var outputEl = gd.closest('.output');\n",
              "if (outputEl) {{\n",
              "    x.observe(outputEl, {childList: true});\n",
              "}}\n",
              "\n",
              "                        })                };                            </script>        </div>\n",
              "</body>\n",
              "</html>"
            ]
          },
          "metadata": {}
        }
      ]
    },
    {
      "cell_type": "markdown",
      "source": [
        "#### CB"
      ],
      "metadata": {
        "id": "wfb0tCtoFaQn"
      }
    },
    {
      "cell_type": "code",
      "source": [
        "def CatBoostObjective(trial, x_train = X_train, y_train = y_train):\n",
        "        param = {\n",
        "            'iterations':trial.suggest_int(\"iterations\", 1000, 20000),\n",
        "            'objective': trial.suggest_categorical('objective', ['Logloss', 'CrossEntropy']),\n",
        "            'bootstrap_type': trial.suggest_categorical('bootstrap_type', ['Bayesian', 'Bernoulli', 'MVS']),\n",
        "            'od_wait':trial.suggest_int('od_wait', 500, 2000),\n",
        "            'learning_rate' : trial.suggest_uniform('learning_rate',0.02,1),\n",
        "            'reg_lambda': trial.suggest_uniform('reg_lambda',1e-5,100),\n",
        "            'random_strength': trial.suggest_uniform('random_strength',10,50),\n",
        "            'depth': trial.suggest_int('depth',1,15),\n",
        "            'min_data_in_leaf': trial.suggest_int('min_data_in_leaf',1,30),\n",
        "            'leaf_estimation_iterations': trial.suggest_int('leaf_estimation_iterations',1,15),\n",
        "            'verbose': False,\n",
        "            'task_type' : 'GPU',\n",
        "            'devices' : '0',\n",
        "            'eval_metric':'AUC',\n",
        "            'od_type': 'IncToDec',\n",
        "            'od_pval': 1e-7, \n",
        "            'od_wait' : 100,\n",
        "        }\n",
        "        if param['bootstrap_type'] == 'Bayesian':\n",
        "            param['bagging_temperature'] = trial.suggest_float('bagging_temperature', 0, 10)\n",
        "        elif param['bootstrap_type'] == 'Bernoulli':\n",
        "            param['subsample'] = trial.suggest_float('subsample', 0.1, 1)\n",
        "        cv = StratifiedKFold(n_splits=5, shuffle=True)\n",
        "        cv_scores = np.empty(5)\n",
        "        for idx, (train_idx, test_idx) in enumerate(cv.split(X_train, y_train)):\n",
        "            X_train, X_valid = X_train.iloc[train_idx], X_train.iloc[test_idx]\n",
        "            y_train, y_valid = y_train[train_idx], y_train[test_idx]\n",
        "            model = CatBoostClassifier(**param)\n",
        "            #Notice: Optuna Callback not supported on CatBoost\n",
        "            model.fit(X_train, y_train, eval_set=[(X_valid, y_valid)])\n",
        "            preds = model.predict_proba(X_valid)\n",
        "            cv_scores[idx] = roc_auc_score(y_valid, preds[:,1])\n",
        "        return np.mean(cv_scores)\n",
        "\n",
        "study = optuna.create_study(direction=\"maximize\")\n",
        "study.optimize(objective, n_trials=100, timeout=600)\n",
        "\n",
        "print(2*'\\n')\n",
        "print(\"Number of finished trials: {}\".format(len(study.trials)))\n",
        "\n",
        "print(\"Best trial:\")\n",
        "trial = study.best_trial\n",
        "\n",
        "print(\"  Value: {}\".format(trial.value))\n",
        "\n",
        "print(\"  Params: \")\n",
        "for key, value in trial.params.items():\n",
        "    print(\"    {}: {}\".format(key, value))\n",
        "\n",
        "# To get the dictionary of parameter name and parameter values:\n",
        "print(\"Return a dictionary of parameter name and parameter values:\\n\",study.best_params)\n",
        "\n",
        "# To get the best observed value of the objective function:\n",
        "print(\"Return the best observed value of the objective function:\\n\",study.best_value)"
      ],
      "metadata": {
        "colab": {
          "base_uri": "https://localhost:8080/"
        },
        "id": "RZFCifSqFa7M",
        "outputId": "948a68c7-80c8-4f2c-e94d-dd54eba02053"
      },
      "execution_count": 77,
      "outputs": [
        {
          "output_type": "stream",
          "name": "stderr",
          "text": [
            "\u001b[32m[I 2023-03-22 22:22:12,644]\u001b[0m A new study created in memory with name: no-name-a1634419-78c5-4d97-ba2e-8f6d4d45a884\u001b[0m\n"
          ]
        },
        {
          "output_type": "stream",
          "name": "stdout",
          "text": [
            "A new study created in memory with name: no-name-a1634419-78c5-4d97-ba2e-8f6d4d45a884\n",
            "A new study created in memory with name: no-name-a1634419-78c5-4d97-ba2e-8f6d4d45a884\n"
          ]
        },
        {
          "output_type": "stream",
          "name": "stderr",
          "text": [
            "/usr/local/lib/python3.9/dist-packages/lightgbm/engine.py:239: UserWarning:\n",
            "\n",
            "'verbose_eval' argument is deprecated and will be removed in a future release of LightGBM. Pass 'log_evaluation()' callback via 'callbacks' argument instead.\n",
            "\n",
            "/usr/local/lib/python3.9/dist-packages/lightgbm/basic.py:1780: UserWarning:\n",
            "\n",
            "Overriding the parameters from Reference Dataset.\n",
            "\n",
            "/usr/local/lib/python3.9/dist-packages/lightgbm/basic.py:1513: UserWarning:\n",
            "\n",
            "categorical_column in param dict is overridden.\n",
            "\n",
            "\u001b[32m[I 2023-03-22 22:22:12,963]\u001b[0m Trial 0 finished with value: 0.7898773006134969 and parameters: {'bagging_fraction': 0.7283510942497551, 'bagging_freq': 3, 'min_child_samples': 81}. Best is trial 0 with value: 0.7898773006134969.\u001b[0m\n"
          ]
        },
        {
          "output_type": "stream",
          "name": "stdout",
          "text": [
            "Trial 0 finished with value: 0.7898773006134969 and parameters: {'bagging_fraction': 0.7283510942497551, 'bagging_freq': 3, 'min_child_samples': 81}. Best is trial 0 with value: 0.7898773006134969.\n",
            "Trial 0 finished with value: 0.7898773006134969 and parameters: {'bagging_fraction': 0.7283510942497551, 'bagging_freq': 3, 'min_child_samples': 81}. Best is trial 0 with value: 0.7898773006134969.\n"
          ]
        },
        {
          "output_type": "stream",
          "name": "stderr",
          "text": [
            "/usr/local/lib/python3.9/dist-packages/lightgbm/engine.py:239: UserWarning:\n",
            "\n",
            "'verbose_eval' argument is deprecated and will be removed in a future release of LightGBM. Pass 'log_evaluation()' callback via 'callbacks' argument instead.\n",
            "\n",
            "/usr/local/lib/python3.9/dist-packages/lightgbm/basic.py:1780: UserWarning:\n",
            "\n",
            "Overriding the parameters from Reference Dataset.\n",
            "\n",
            "/usr/local/lib/python3.9/dist-packages/lightgbm/basic.py:1513: UserWarning:\n",
            "\n",
            "categorical_column in param dict is overridden.\n",
            "\n",
            "\u001b[32m[I 2023-03-22 22:22:13,254]\u001b[0m Trial 1 finished with value: 0.7848926380368099 and parameters: {'bagging_fraction': 0.41177096090720544, 'bagging_freq': 5, 'min_child_samples': 12}. Best is trial 0 with value: 0.7898773006134969.\u001b[0m\n"
          ]
        },
        {
          "output_type": "stream",
          "name": "stdout",
          "text": [
            "Trial 1 finished with value: 0.7848926380368099 and parameters: {'bagging_fraction': 0.41177096090720544, 'bagging_freq': 5, 'min_child_samples': 12}. Best is trial 0 with value: 0.7898773006134969.\n",
            "Trial 1 finished with value: 0.7848926380368099 and parameters: {'bagging_fraction': 0.41177096090720544, 'bagging_freq': 5, 'min_child_samples': 12}. Best is trial 0 with value: 0.7898773006134969.\n"
          ]
        },
        {
          "output_type": "stream",
          "name": "stderr",
          "text": [
            "/usr/local/lib/python3.9/dist-packages/lightgbm/engine.py:239: UserWarning:\n",
            "\n",
            "'verbose_eval' argument is deprecated and will be removed in a future release of LightGBM. Pass 'log_evaluation()' callback via 'callbacks' argument instead.\n",
            "\n",
            "/usr/local/lib/python3.9/dist-packages/lightgbm/basic.py:1780: UserWarning:\n",
            "\n",
            "Overriding the parameters from Reference Dataset.\n",
            "\n",
            "/usr/local/lib/python3.9/dist-packages/lightgbm/basic.py:1513: UserWarning:\n",
            "\n",
            "categorical_column in param dict is overridden.\n",
            "\n",
            "\u001b[32m[I 2023-03-22 22:22:13,558]\u001b[0m Trial 2 finished with value: 0.7891104294478528 and parameters: {'bagging_fraction': 0.43249382411257004, 'bagging_freq': 4, 'min_child_samples': 20}. Best is trial 0 with value: 0.7898773006134969.\u001b[0m\n"
          ]
        },
        {
          "output_type": "stream",
          "name": "stdout",
          "text": [
            "Trial 2 finished with value: 0.7891104294478528 and parameters: {'bagging_fraction': 0.43249382411257004, 'bagging_freq': 4, 'min_child_samples': 20}. Best is trial 0 with value: 0.7898773006134969.\n",
            "Trial 2 finished with value: 0.7891104294478528 and parameters: {'bagging_fraction': 0.43249382411257004, 'bagging_freq': 4, 'min_child_samples': 20}. Best is trial 0 with value: 0.7898773006134969.\n"
          ]
        },
        {
          "output_type": "stream",
          "name": "stderr",
          "text": [
            "/usr/local/lib/python3.9/dist-packages/lightgbm/engine.py:239: UserWarning:\n",
            "\n",
            "'verbose_eval' argument is deprecated and will be removed in a future release of LightGBM. Pass 'log_evaluation()' callback via 'callbacks' argument instead.\n",
            "\n",
            "/usr/local/lib/python3.9/dist-packages/lightgbm/basic.py:1780: UserWarning:\n",
            "\n",
            "Overriding the parameters from Reference Dataset.\n",
            "\n",
            "/usr/local/lib/python3.9/dist-packages/lightgbm/basic.py:1513: UserWarning:\n",
            "\n",
            "categorical_column in param dict is overridden.\n",
            "\n",
            "\u001b[32m[I 2023-03-22 22:22:13,888]\u001b[0m Trial 3 finished with value: 0.7944785276073619 and parameters: {'bagging_fraction': 0.9753109502877655, 'bagging_freq': 6, 'min_child_samples': 92}. Best is trial 3 with value: 0.7944785276073619.\u001b[0m\n"
          ]
        },
        {
          "output_type": "stream",
          "name": "stdout",
          "text": [
            "Trial 3 finished with value: 0.7944785276073619 and parameters: {'bagging_fraction': 0.9753109502877655, 'bagging_freq': 6, 'min_child_samples': 92}. Best is trial 3 with value: 0.7944785276073619.\n",
            "Trial 3 finished with value: 0.7944785276073619 and parameters: {'bagging_fraction': 0.9753109502877655, 'bagging_freq': 6, 'min_child_samples': 92}. Best is trial 3 with value: 0.7944785276073619.\n"
          ]
        },
        {
          "output_type": "stream",
          "name": "stderr",
          "text": [
            "/usr/local/lib/python3.9/dist-packages/lightgbm/engine.py:239: UserWarning:\n",
            "\n",
            "'verbose_eval' argument is deprecated and will be removed in a future release of LightGBM. Pass 'log_evaluation()' callback via 'callbacks' argument instead.\n",
            "\n",
            "/usr/local/lib/python3.9/dist-packages/lightgbm/basic.py:1780: UserWarning:\n",
            "\n",
            "Overriding the parameters from Reference Dataset.\n",
            "\n",
            "/usr/local/lib/python3.9/dist-packages/lightgbm/basic.py:1513: UserWarning:\n",
            "\n",
            "categorical_column in param dict is overridden.\n",
            "\n",
            "\u001b[32m[I 2023-03-22 22:22:14,191]\u001b[0m Trial 4 finished with value: 0.7906441717791411 and parameters: {'bagging_fraction': 0.6205203363244103, 'bagging_freq': 7, 'min_child_samples': 90}. Best is trial 3 with value: 0.7944785276073619.\u001b[0m\n"
          ]
        },
        {
          "output_type": "stream",
          "name": "stdout",
          "text": [
            "Trial 4 finished with value: 0.7906441717791411 and parameters: {'bagging_fraction': 0.6205203363244103, 'bagging_freq': 7, 'min_child_samples': 90}. Best is trial 3 with value: 0.7944785276073619.\n",
            "Trial 4 finished with value: 0.7906441717791411 and parameters: {'bagging_fraction': 0.6205203363244103, 'bagging_freq': 7, 'min_child_samples': 90}. Best is trial 3 with value: 0.7944785276073619.\n"
          ]
        },
        {
          "output_type": "stream",
          "name": "stderr",
          "text": [
            "/usr/local/lib/python3.9/dist-packages/lightgbm/engine.py:239: UserWarning:\n",
            "\n",
            "'verbose_eval' argument is deprecated and will be removed in a future release of LightGBM. Pass 'log_evaluation()' callback via 'callbacks' argument instead.\n",
            "\n",
            "/usr/local/lib/python3.9/dist-packages/lightgbm/basic.py:1780: UserWarning:\n",
            "\n",
            "Overriding the parameters from Reference Dataset.\n",
            "\n",
            "/usr/local/lib/python3.9/dist-packages/lightgbm/basic.py:1513: UserWarning:\n",
            "\n",
            "categorical_column in param dict is overridden.\n",
            "\n",
            "\u001b[32m[I 2023-03-22 22:22:14,553]\u001b[0m Trial 5 finished with value: 0.7875766871165644 and parameters: {'bagging_fraction': 0.9557624699449092, 'bagging_freq': 7, 'min_child_samples': 37}. Best is trial 3 with value: 0.7944785276073619.\u001b[0m\n"
          ]
        },
        {
          "output_type": "stream",
          "name": "stdout",
          "text": [
            "Trial 5 finished with value: 0.7875766871165644 and parameters: {'bagging_fraction': 0.9557624699449092, 'bagging_freq': 7, 'min_child_samples': 37}. Best is trial 3 with value: 0.7944785276073619.\n",
            "Trial 5 finished with value: 0.7875766871165644 and parameters: {'bagging_fraction': 0.9557624699449092, 'bagging_freq': 7, 'min_child_samples': 37}. Best is trial 3 with value: 0.7944785276073619.\n"
          ]
        },
        {
          "output_type": "stream",
          "name": "stderr",
          "text": [
            "/usr/local/lib/python3.9/dist-packages/lightgbm/engine.py:239: UserWarning:\n",
            "\n",
            "'verbose_eval' argument is deprecated and will be removed in a future release of LightGBM. Pass 'log_evaluation()' callback via 'callbacks' argument instead.\n",
            "\n",
            "/usr/local/lib/python3.9/dist-packages/lightgbm/basic.py:1780: UserWarning:\n",
            "\n",
            "Overriding the parameters from Reference Dataset.\n",
            "\n",
            "/usr/local/lib/python3.9/dist-packages/lightgbm/basic.py:1513: UserWarning:\n",
            "\n",
            "categorical_column in param dict is overridden.\n",
            "\n",
            "\u001b[32m[I 2023-03-22 22:22:14,594]\u001b[0m Trial 6 pruned. Trial was pruned at iteration 2.\u001b[0m\n"
          ]
        },
        {
          "output_type": "stream",
          "name": "stdout",
          "text": [
            "Trial 6 pruned. Trial was pruned at iteration 2.\n",
            "Trial 6 pruned. Trial was pruned at iteration 2.\n"
          ]
        },
        {
          "output_type": "stream",
          "name": "stderr",
          "text": [
            "/usr/local/lib/python3.9/dist-packages/lightgbm/engine.py:239: UserWarning:\n",
            "\n",
            "'verbose_eval' argument is deprecated and will be removed in a future release of LightGBM. Pass 'log_evaluation()' callback via 'callbacks' argument instead.\n",
            "\n",
            "/usr/local/lib/python3.9/dist-packages/lightgbm/basic.py:1780: UserWarning:\n",
            "\n",
            "Overriding the parameters from Reference Dataset.\n",
            "\n",
            "/usr/local/lib/python3.9/dist-packages/lightgbm/basic.py:1513: UserWarning:\n",
            "\n",
            "categorical_column in param dict is overridden.\n",
            "\n",
            "\u001b[32m[I 2023-03-22 22:22:14,701]\u001b[0m Trial 7 pruned. Trial was pruned at iteration 31.\u001b[0m\n"
          ]
        },
        {
          "output_type": "stream",
          "name": "stdout",
          "text": [
            "Trial 7 pruned. Trial was pruned at iteration 31.\n",
            "Trial 7 pruned. Trial was pruned at iteration 31.\n"
          ]
        },
        {
          "output_type": "stream",
          "name": "stderr",
          "text": [
            "/usr/local/lib/python3.9/dist-packages/lightgbm/engine.py:239: UserWarning:\n",
            "\n",
            "'verbose_eval' argument is deprecated and will be removed in a future release of LightGBM. Pass 'log_evaluation()' callback via 'callbacks' argument instead.\n",
            "\n",
            "/usr/local/lib/python3.9/dist-packages/lightgbm/basic.py:1780: UserWarning:\n",
            "\n",
            "Overriding the parameters from Reference Dataset.\n",
            "\n",
            "/usr/local/lib/python3.9/dist-packages/lightgbm/basic.py:1513: UserWarning:\n",
            "\n",
            "categorical_column in param dict is overridden.\n",
            "\n",
            "\u001b[32m[I 2023-03-22 22:22:15,045]\u001b[0m Trial 8 finished with value: 0.7871932515337423 and parameters: {'bagging_fraction': 0.5920901479955305, 'bagging_freq': 3, 'min_child_samples': 31}. Best is trial 3 with value: 0.7944785276073619.\u001b[0m\n"
          ]
        },
        {
          "output_type": "stream",
          "name": "stdout",
          "text": [
            "Trial 8 finished with value: 0.7871932515337423 and parameters: {'bagging_fraction': 0.5920901479955305, 'bagging_freq': 3, 'min_child_samples': 31}. Best is trial 3 with value: 0.7944785276073619.\n",
            "Trial 8 finished with value: 0.7871932515337423 and parameters: {'bagging_fraction': 0.5920901479955305, 'bagging_freq': 3, 'min_child_samples': 31}. Best is trial 3 with value: 0.7944785276073619.\n"
          ]
        },
        {
          "output_type": "stream",
          "name": "stderr",
          "text": [
            "/usr/local/lib/python3.9/dist-packages/lightgbm/engine.py:239: UserWarning:\n",
            "\n",
            "'verbose_eval' argument is deprecated and will be removed in a future release of LightGBM. Pass 'log_evaluation()' callback via 'callbacks' argument instead.\n",
            "\n",
            "/usr/local/lib/python3.9/dist-packages/lightgbm/basic.py:1780: UserWarning:\n",
            "\n",
            "Overriding the parameters from Reference Dataset.\n",
            "\n",
            "/usr/local/lib/python3.9/dist-packages/lightgbm/basic.py:1513: UserWarning:\n",
            "\n",
            "categorical_column in param dict is overridden.\n",
            "\n",
            "\u001b[32m[I 2023-03-22 22:22:15,083]\u001b[0m Trial 9 pruned. Trial was pruned at iteration 1.\u001b[0m\n"
          ]
        },
        {
          "output_type": "stream",
          "name": "stdout",
          "text": [
            "Trial 9 pruned. Trial was pruned at iteration 1.\n",
            "Trial 9 pruned. Trial was pruned at iteration 1.\n"
          ]
        },
        {
          "output_type": "stream",
          "name": "stderr",
          "text": [
            "/usr/local/lib/python3.9/dist-packages/lightgbm/engine.py:239: UserWarning:\n",
            "\n",
            "'verbose_eval' argument is deprecated and will be removed in a future release of LightGBM. Pass 'log_evaluation()' callback via 'callbacks' argument instead.\n",
            "\n",
            "/usr/local/lib/python3.9/dist-packages/lightgbm/basic.py:1780: UserWarning:\n",
            "\n",
            "Overriding the parameters from Reference Dataset.\n",
            "\n",
            "/usr/local/lib/python3.9/dist-packages/lightgbm/basic.py:1513: UserWarning:\n",
            "\n",
            "categorical_column in param dict is overridden.\n",
            "\n",
            "\u001b[32m[I 2023-03-22 22:22:15,156]\u001b[0m Trial 10 pruned. Trial was pruned at iteration 8.\u001b[0m\n"
          ]
        },
        {
          "output_type": "stream",
          "name": "stdout",
          "text": [
            "Trial 10 pruned. Trial was pruned at iteration 8.\n",
            "Trial 10 pruned. Trial was pruned at iteration 8.\n"
          ]
        },
        {
          "output_type": "stream",
          "name": "stderr",
          "text": [
            "/usr/local/lib/python3.9/dist-packages/lightgbm/engine.py:239: UserWarning:\n",
            "\n",
            "'verbose_eval' argument is deprecated and will be removed in a future release of LightGBM. Pass 'log_evaluation()' callback via 'callbacks' argument instead.\n",
            "\n",
            "/usr/local/lib/python3.9/dist-packages/lightgbm/basic.py:1780: UserWarning:\n",
            "\n",
            "Overriding the parameters from Reference Dataset.\n",
            "\n",
            "/usr/local/lib/python3.9/dist-packages/lightgbm/basic.py:1513: UserWarning:\n",
            "\n",
            "categorical_column in param dict is overridden.\n",
            "\n",
            "\u001b[32m[I 2023-03-22 22:22:15,205]\u001b[0m Trial 11 pruned. Trial was pruned at iteration 1.\u001b[0m\n"
          ]
        },
        {
          "output_type": "stream",
          "name": "stdout",
          "text": [
            "Trial 11 pruned. Trial was pruned at iteration 1.\n",
            "Trial 11 pruned. Trial was pruned at iteration 1.\n"
          ]
        },
        {
          "output_type": "stream",
          "name": "stderr",
          "text": [
            "/usr/local/lib/python3.9/dist-packages/lightgbm/engine.py:239: UserWarning:\n",
            "\n",
            "'verbose_eval' argument is deprecated and will be removed in a future release of LightGBM. Pass 'log_evaluation()' callback via 'callbacks' argument instead.\n",
            "\n",
            "/usr/local/lib/python3.9/dist-packages/lightgbm/basic.py:1780: UserWarning:\n",
            "\n",
            "Overriding the parameters from Reference Dataset.\n",
            "\n",
            "/usr/local/lib/python3.9/dist-packages/lightgbm/basic.py:1513: UserWarning:\n",
            "\n",
            "categorical_column in param dict is overridden.\n",
            "\n",
            "\u001b[32m[I 2023-03-22 22:22:15,258]\u001b[0m Trial 12 pruned. Trial was pruned at iteration 1.\u001b[0m\n"
          ]
        },
        {
          "output_type": "stream",
          "name": "stdout",
          "text": [
            "Trial 12 pruned. Trial was pruned at iteration 1.\n",
            "Trial 12 pruned. Trial was pruned at iteration 1.\n"
          ]
        },
        {
          "output_type": "stream",
          "name": "stderr",
          "text": [
            "/usr/local/lib/python3.9/dist-packages/lightgbm/engine.py:239: UserWarning:\n",
            "\n",
            "'verbose_eval' argument is deprecated and will be removed in a future release of LightGBM. Pass 'log_evaluation()' callback via 'callbacks' argument instead.\n",
            "\n",
            "/usr/local/lib/python3.9/dist-packages/lightgbm/basic.py:1780: UserWarning:\n",
            "\n",
            "Overriding the parameters from Reference Dataset.\n",
            "\n",
            "/usr/local/lib/python3.9/dist-packages/lightgbm/basic.py:1513: UserWarning:\n",
            "\n",
            "categorical_column in param dict is overridden.\n",
            "\n",
            "\u001b[32m[I 2023-03-22 22:22:15,328]\u001b[0m Trial 13 pruned. Trial was pruned at iteration 9.\u001b[0m\n"
          ]
        },
        {
          "output_type": "stream",
          "name": "stdout",
          "text": [
            "Trial 13 pruned. Trial was pruned at iteration 9.\n",
            "Trial 13 pruned. Trial was pruned at iteration 9.\n"
          ]
        },
        {
          "output_type": "stream",
          "name": "stderr",
          "text": [
            "/usr/local/lib/python3.9/dist-packages/lightgbm/engine.py:239: UserWarning:\n",
            "\n",
            "'verbose_eval' argument is deprecated and will be removed in a future release of LightGBM. Pass 'log_evaluation()' callback via 'callbacks' argument instead.\n",
            "\n",
            "/usr/local/lib/python3.9/dist-packages/lightgbm/basic.py:1780: UserWarning:\n",
            "\n",
            "Overriding the parameters from Reference Dataset.\n",
            "\n",
            "/usr/local/lib/python3.9/dist-packages/lightgbm/basic.py:1513: UserWarning:\n",
            "\n",
            "categorical_column in param dict is overridden.\n",
            "\n",
            "\u001b[32m[I 2023-03-22 22:22:15,383]\u001b[0m Trial 14 pruned. Trial was pruned at iteration 2.\u001b[0m\n"
          ]
        },
        {
          "output_type": "stream",
          "name": "stdout",
          "text": [
            "Trial 14 pruned. Trial was pruned at iteration 2.\n",
            "Trial 14 pruned. Trial was pruned at iteration 2.\n"
          ]
        },
        {
          "output_type": "stream",
          "name": "stderr",
          "text": [
            "/usr/local/lib/python3.9/dist-packages/lightgbm/engine.py:239: UserWarning:\n",
            "\n",
            "'verbose_eval' argument is deprecated and will be removed in a future release of LightGBM. Pass 'log_evaluation()' callback via 'callbacks' argument instead.\n",
            "\n",
            "/usr/local/lib/python3.9/dist-packages/lightgbm/basic.py:1780: UserWarning:\n",
            "\n",
            "Overriding the parameters from Reference Dataset.\n",
            "\n",
            "/usr/local/lib/python3.9/dist-packages/lightgbm/basic.py:1513: UserWarning:\n",
            "\n",
            "categorical_column in param dict is overridden.\n",
            "\n",
            "\u001b[32m[I 2023-03-22 22:22:15,430]\u001b[0m Trial 15 pruned. Trial was pruned at iteration 0.\u001b[0m\n"
          ]
        },
        {
          "output_type": "stream",
          "name": "stdout",
          "text": [
            "Trial 15 pruned. Trial was pruned at iteration 0.\n",
            "Trial 15 pruned. Trial was pruned at iteration 0.\n"
          ]
        },
        {
          "output_type": "stream",
          "name": "stderr",
          "text": [
            "/usr/local/lib/python3.9/dist-packages/lightgbm/engine.py:239: UserWarning:\n",
            "\n",
            "'verbose_eval' argument is deprecated and will be removed in a future release of LightGBM. Pass 'log_evaluation()' callback via 'callbacks' argument instead.\n",
            "\n",
            "/usr/local/lib/python3.9/dist-packages/lightgbm/basic.py:1780: UserWarning:\n",
            "\n",
            "Overriding the parameters from Reference Dataset.\n",
            "\n",
            "/usr/local/lib/python3.9/dist-packages/lightgbm/basic.py:1513: UserWarning:\n",
            "\n",
            "categorical_column in param dict is overridden.\n",
            "\n",
            "\u001b[32m[I 2023-03-22 22:22:15,758]\u001b[0m Trial 16 finished with value: 0.7887269938650306 and parameters: {'bagging_fraction': 0.7753988605335791, 'bagging_freq': 1, 'min_child_samples': 48}. Best is trial 3 with value: 0.7944785276073619.\u001b[0m\n"
          ]
        },
        {
          "output_type": "stream",
          "name": "stdout",
          "text": [
            "Trial 16 finished with value: 0.7887269938650306 and parameters: {'bagging_fraction': 0.7753988605335791, 'bagging_freq': 1, 'min_child_samples': 48}. Best is trial 3 with value: 0.7944785276073619.\n",
            "Trial 16 finished with value: 0.7887269938650306 and parameters: {'bagging_fraction': 0.7753988605335791, 'bagging_freq': 1, 'min_child_samples': 48}. Best is trial 3 with value: 0.7944785276073619.\n"
          ]
        },
        {
          "output_type": "stream",
          "name": "stderr",
          "text": [
            "/usr/local/lib/python3.9/dist-packages/lightgbm/engine.py:239: UserWarning:\n",
            "\n",
            "'verbose_eval' argument is deprecated and will be removed in a future release of LightGBM. Pass 'log_evaluation()' callback via 'callbacks' argument instead.\n",
            "\n",
            "/usr/local/lib/python3.9/dist-packages/lightgbm/basic.py:1780: UserWarning:\n",
            "\n",
            "Overriding the parameters from Reference Dataset.\n",
            "\n",
            "/usr/local/lib/python3.9/dist-packages/lightgbm/basic.py:1513: UserWarning:\n",
            "\n",
            "categorical_column in param dict is overridden.\n",
            "\n",
            "\u001b[32m[I 2023-03-22 22:22:15,811]\u001b[0m Trial 17 pruned. Trial was pruned at iteration 1.\u001b[0m\n"
          ]
        },
        {
          "output_type": "stream",
          "name": "stdout",
          "text": [
            "Trial 17 pruned. Trial was pruned at iteration 1.\n",
            "Trial 17 pruned. Trial was pruned at iteration 1.\n"
          ]
        },
        {
          "output_type": "stream",
          "name": "stderr",
          "text": [
            "/usr/local/lib/python3.9/dist-packages/lightgbm/engine.py:239: UserWarning:\n",
            "\n",
            "'verbose_eval' argument is deprecated and will be removed in a future release of LightGBM. Pass 'log_evaluation()' callback via 'callbacks' argument instead.\n",
            "\n",
            "/usr/local/lib/python3.9/dist-packages/lightgbm/basic.py:1780: UserWarning:\n",
            "\n",
            "Overriding the parameters from Reference Dataset.\n",
            "\n",
            "/usr/local/lib/python3.9/dist-packages/lightgbm/basic.py:1513: UserWarning:\n",
            "\n",
            "categorical_column in param dict is overridden.\n",
            "\n",
            "\u001b[32m[I 2023-03-22 22:22:15,871]\u001b[0m Trial 18 pruned. Trial was pruned at iteration 3.\u001b[0m\n"
          ]
        },
        {
          "output_type": "stream",
          "name": "stdout",
          "text": [
            "Trial 18 pruned. Trial was pruned at iteration 3.\n",
            "Trial 18 pruned. Trial was pruned at iteration 3.\n"
          ]
        },
        {
          "output_type": "stream",
          "name": "stderr",
          "text": [
            "/usr/local/lib/python3.9/dist-packages/lightgbm/engine.py:239: UserWarning:\n",
            "\n",
            "'verbose_eval' argument is deprecated and will be removed in a future release of LightGBM. Pass 'log_evaluation()' callback via 'callbacks' argument instead.\n",
            "\n",
            "/usr/local/lib/python3.9/dist-packages/lightgbm/basic.py:1780: UserWarning:\n",
            "\n",
            "Overriding the parameters from Reference Dataset.\n",
            "\n",
            "/usr/local/lib/python3.9/dist-packages/lightgbm/basic.py:1513: UserWarning:\n",
            "\n",
            "categorical_column in param dict is overridden.\n",
            "\n",
            "\u001b[32m[I 2023-03-22 22:22:15,926]\u001b[0m Trial 19 pruned. Trial was pruned at iteration 1.\u001b[0m\n"
          ]
        },
        {
          "output_type": "stream",
          "name": "stdout",
          "text": [
            "Trial 19 pruned. Trial was pruned at iteration 1.\n",
            "Trial 19 pruned. Trial was pruned at iteration 1.\n"
          ]
        },
        {
          "output_type": "stream",
          "name": "stderr",
          "text": [
            "/usr/local/lib/python3.9/dist-packages/lightgbm/engine.py:239: UserWarning:\n",
            "\n",
            "'verbose_eval' argument is deprecated and will be removed in a future release of LightGBM. Pass 'log_evaluation()' callback via 'callbacks' argument instead.\n",
            "\n",
            "/usr/local/lib/python3.9/dist-packages/lightgbm/basic.py:1780: UserWarning:\n",
            "\n",
            "Overriding the parameters from Reference Dataset.\n",
            "\n",
            "/usr/local/lib/python3.9/dist-packages/lightgbm/basic.py:1513: UserWarning:\n",
            "\n",
            "categorical_column in param dict is overridden.\n",
            "\n",
            "\u001b[32m[I 2023-03-22 22:22:15,977]\u001b[0m Trial 20 pruned. Trial was pruned at iteration 0.\u001b[0m\n"
          ]
        },
        {
          "output_type": "stream",
          "name": "stdout",
          "text": [
            "Trial 20 pruned. Trial was pruned at iteration 0.\n",
            "Trial 20 pruned. Trial was pruned at iteration 0.\n"
          ]
        },
        {
          "output_type": "stream",
          "name": "stderr",
          "text": [
            "/usr/local/lib/python3.9/dist-packages/lightgbm/engine.py:239: UserWarning:\n",
            "\n",
            "'verbose_eval' argument is deprecated and will be removed in a future release of LightGBM. Pass 'log_evaluation()' callback via 'callbacks' argument instead.\n",
            "\n",
            "/usr/local/lib/python3.9/dist-packages/lightgbm/basic.py:1780: UserWarning:\n",
            "\n",
            "Overriding the parameters from Reference Dataset.\n",
            "\n",
            "/usr/local/lib/python3.9/dist-packages/lightgbm/basic.py:1513: UserWarning:\n",
            "\n",
            "categorical_column in param dict is overridden.\n",
            "\n",
            "\u001b[32m[I 2023-03-22 22:22:16,024]\u001b[0m Trial 21 pruned. Trial was pruned at iteration 0.\u001b[0m\n"
          ]
        },
        {
          "output_type": "stream",
          "name": "stdout",
          "text": [
            "Trial 21 pruned. Trial was pruned at iteration 0.\n",
            "Trial 21 pruned. Trial was pruned at iteration 0.\n"
          ]
        },
        {
          "output_type": "stream",
          "name": "stderr",
          "text": [
            "/usr/local/lib/python3.9/dist-packages/lightgbm/engine.py:239: UserWarning:\n",
            "\n",
            "'verbose_eval' argument is deprecated and will be removed in a future release of LightGBM. Pass 'log_evaluation()' callback via 'callbacks' argument instead.\n",
            "\n",
            "/usr/local/lib/python3.9/dist-packages/lightgbm/basic.py:1780: UserWarning:\n",
            "\n",
            "Overriding the parameters from Reference Dataset.\n",
            "\n",
            "/usr/local/lib/python3.9/dist-packages/lightgbm/basic.py:1513: UserWarning:\n",
            "\n",
            "categorical_column in param dict is overridden.\n",
            "\n",
            "\u001b[32m[I 2023-03-22 22:22:16,081]\u001b[0m Trial 22 pruned. Trial was pruned at iteration 0.\u001b[0m\n"
          ]
        },
        {
          "output_type": "stream",
          "name": "stdout",
          "text": [
            "Trial 22 pruned. Trial was pruned at iteration 0.\n",
            "Trial 22 pruned. Trial was pruned at iteration 0.\n"
          ]
        },
        {
          "output_type": "stream",
          "name": "stderr",
          "text": [
            "/usr/local/lib/python3.9/dist-packages/lightgbm/engine.py:239: UserWarning:\n",
            "\n",
            "'verbose_eval' argument is deprecated and will be removed in a future release of LightGBM. Pass 'log_evaluation()' callback via 'callbacks' argument instead.\n",
            "\n",
            "/usr/local/lib/python3.9/dist-packages/lightgbm/basic.py:1780: UserWarning:\n",
            "\n",
            "Overriding the parameters from Reference Dataset.\n",
            "\n",
            "/usr/local/lib/python3.9/dist-packages/lightgbm/basic.py:1513: UserWarning:\n",
            "\n",
            "categorical_column in param dict is overridden.\n",
            "\n",
            "\u001b[32m[I 2023-03-22 22:22:16,133]\u001b[0m Trial 23 pruned. Trial was pruned at iteration 0.\u001b[0m\n"
          ]
        },
        {
          "output_type": "stream",
          "name": "stdout",
          "text": [
            "Trial 23 pruned. Trial was pruned at iteration 0.\n",
            "Trial 23 pruned. Trial was pruned at iteration 0.\n"
          ]
        },
        {
          "output_type": "stream",
          "name": "stderr",
          "text": [
            "/usr/local/lib/python3.9/dist-packages/lightgbm/engine.py:239: UserWarning:\n",
            "\n",
            "'verbose_eval' argument is deprecated and will be removed in a future release of LightGBM. Pass 'log_evaluation()' callback via 'callbacks' argument instead.\n",
            "\n",
            "/usr/local/lib/python3.9/dist-packages/lightgbm/basic.py:1780: UserWarning:\n",
            "\n",
            "Overriding the parameters from Reference Dataset.\n",
            "\n",
            "/usr/local/lib/python3.9/dist-packages/lightgbm/basic.py:1513: UserWarning:\n",
            "\n",
            "categorical_column in param dict is overridden.\n",
            "\n",
            "\u001b[32m[I 2023-03-22 22:22:16,191]\u001b[0m Trial 24 pruned. Trial was pruned at iteration 0.\u001b[0m\n"
          ]
        },
        {
          "output_type": "stream",
          "name": "stdout",
          "text": [
            "Trial 24 pruned. Trial was pruned at iteration 0.\n",
            "Trial 24 pruned. Trial was pruned at iteration 0.\n"
          ]
        },
        {
          "output_type": "stream",
          "name": "stderr",
          "text": [
            "/usr/local/lib/python3.9/dist-packages/lightgbm/engine.py:239: UserWarning:\n",
            "\n",
            "'verbose_eval' argument is deprecated and will be removed in a future release of LightGBM. Pass 'log_evaluation()' callback via 'callbacks' argument instead.\n",
            "\n",
            "/usr/local/lib/python3.9/dist-packages/lightgbm/basic.py:1780: UserWarning:\n",
            "\n",
            "Overriding the parameters from Reference Dataset.\n",
            "\n",
            "/usr/local/lib/python3.9/dist-packages/lightgbm/basic.py:1513: UserWarning:\n",
            "\n",
            "categorical_column in param dict is overridden.\n",
            "\n",
            "\u001b[32m[I 2023-03-22 22:22:16,248]\u001b[0m Trial 25 pruned. Trial was pruned at iteration 0.\u001b[0m\n"
          ]
        },
        {
          "output_type": "stream",
          "name": "stdout",
          "text": [
            "Trial 25 pruned. Trial was pruned at iteration 0.\n",
            "Trial 25 pruned. Trial was pruned at iteration 0.\n"
          ]
        },
        {
          "output_type": "stream",
          "name": "stderr",
          "text": [
            "/usr/local/lib/python3.9/dist-packages/lightgbm/engine.py:239: UserWarning:\n",
            "\n",
            "'verbose_eval' argument is deprecated and will be removed in a future release of LightGBM. Pass 'log_evaluation()' callback via 'callbacks' argument instead.\n",
            "\n",
            "/usr/local/lib/python3.9/dist-packages/lightgbm/basic.py:1780: UserWarning:\n",
            "\n",
            "Overriding the parameters from Reference Dataset.\n",
            "\n",
            "/usr/local/lib/python3.9/dist-packages/lightgbm/basic.py:1513: UserWarning:\n",
            "\n",
            "categorical_column in param dict is overridden.\n",
            "\n",
            "\u001b[32m[I 2023-03-22 22:22:16,296]\u001b[0m Trial 26 pruned. Trial was pruned at iteration 0.\u001b[0m\n"
          ]
        },
        {
          "output_type": "stream",
          "name": "stdout",
          "text": [
            "Trial 26 pruned. Trial was pruned at iteration 0.\n",
            "Trial 26 pruned. Trial was pruned at iteration 0.\n"
          ]
        },
        {
          "output_type": "stream",
          "name": "stderr",
          "text": [
            "/usr/local/lib/python3.9/dist-packages/lightgbm/engine.py:239: UserWarning:\n",
            "\n",
            "'verbose_eval' argument is deprecated and will be removed in a future release of LightGBM. Pass 'log_evaluation()' callback via 'callbacks' argument instead.\n",
            "\n",
            "/usr/local/lib/python3.9/dist-packages/lightgbm/basic.py:1780: UserWarning:\n",
            "\n",
            "Overriding the parameters from Reference Dataset.\n",
            "\n",
            "/usr/local/lib/python3.9/dist-packages/lightgbm/basic.py:1513: UserWarning:\n",
            "\n",
            "categorical_column in param dict is overridden.\n",
            "\n",
            "\u001b[32m[I 2023-03-22 22:22:16,377]\u001b[0m Trial 27 pruned. Trial was pruned at iteration 9.\u001b[0m\n"
          ]
        },
        {
          "output_type": "stream",
          "name": "stdout",
          "text": [
            "Trial 27 pruned. Trial was pruned at iteration 9.\n",
            "Trial 27 pruned. Trial was pruned at iteration 9.\n"
          ]
        },
        {
          "output_type": "stream",
          "name": "stderr",
          "text": [
            "/usr/local/lib/python3.9/dist-packages/lightgbm/engine.py:239: UserWarning:\n",
            "\n",
            "'verbose_eval' argument is deprecated and will be removed in a future release of LightGBM. Pass 'log_evaluation()' callback via 'callbacks' argument instead.\n",
            "\n",
            "/usr/local/lib/python3.9/dist-packages/lightgbm/basic.py:1780: UserWarning:\n",
            "\n",
            "Overriding the parameters from Reference Dataset.\n",
            "\n",
            "/usr/local/lib/python3.9/dist-packages/lightgbm/basic.py:1513: UserWarning:\n",
            "\n",
            "categorical_column in param dict is overridden.\n",
            "\n",
            "\u001b[32m[I 2023-03-22 22:22:16,453]\u001b[0m Trial 28 pruned. Trial was pruned at iteration 7.\u001b[0m\n"
          ]
        },
        {
          "output_type": "stream",
          "name": "stdout",
          "text": [
            "Trial 28 pruned. Trial was pruned at iteration 7.\n",
            "Trial 28 pruned. Trial was pruned at iteration 7.\n"
          ]
        },
        {
          "output_type": "stream",
          "name": "stderr",
          "text": [
            "/usr/local/lib/python3.9/dist-packages/lightgbm/engine.py:239: UserWarning:\n",
            "\n",
            "'verbose_eval' argument is deprecated and will be removed in a future release of LightGBM. Pass 'log_evaluation()' callback via 'callbacks' argument instead.\n",
            "\n",
            "/usr/local/lib/python3.9/dist-packages/lightgbm/basic.py:1780: UserWarning:\n",
            "\n",
            "Overriding the parameters from Reference Dataset.\n",
            "\n",
            "/usr/local/lib/python3.9/dist-packages/lightgbm/basic.py:1513: UserWarning:\n",
            "\n",
            "categorical_column in param dict is overridden.\n",
            "\n",
            "\u001b[32m[I 2023-03-22 22:22:16,590]\u001b[0m Trial 29 pruned. Trial was pruned at iteration 24.\u001b[0m\n"
          ]
        },
        {
          "output_type": "stream",
          "name": "stdout",
          "text": [
            "Trial 29 pruned. Trial was pruned at iteration 24.\n",
            "Trial 29 pruned. Trial was pruned at iteration 24.\n"
          ]
        },
        {
          "output_type": "stream",
          "name": "stderr",
          "text": [
            "/usr/local/lib/python3.9/dist-packages/lightgbm/engine.py:239: UserWarning:\n",
            "\n",
            "'verbose_eval' argument is deprecated and will be removed in a future release of LightGBM. Pass 'log_evaluation()' callback via 'callbacks' argument instead.\n",
            "\n",
            "/usr/local/lib/python3.9/dist-packages/lightgbm/basic.py:1780: UserWarning:\n",
            "\n",
            "Overriding the parameters from Reference Dataset.\n",
            "\n",
            "/usr/local/lib/python3.9/dist-packages/lightgbm/basic.py:1513: UserWarning:\n",
            "\n",
            "categorical_column in param dict is overridden.\n",
            "\n",
            "\u001b[32m[I 2023-03-22 22:22:16,654]\u001b[0m Trial 30 pruned. Trial was pruned at iteration 4.\u001b[0m\n"
          ]
        },
        {
          "output_type": "stream",
          "name": "stdout",
          "text": [
            "Trial 30 pruned. Trial was pruned at iteration 4.\n",
            "Trial 30 pruned. Trial was pruned at iteration 4.\n"
          ]
        },
        {
          "output_type": "stream",
          "name": "stderr",
          "text": [
            "/usr/local/lib/python3.9/dist-packages/lightgbm/engine.py:239: UserWarning:\n",
            "\n",
            "'verbose_eval' argument is deprecated and will be removed in a future release of LightGBM. Pass 'log_evaluation()' callback via 'callbacks' argument instead.\n",
            "\n",
            "/usr/local/lib/python3.9/dist-packages/lightgbm/basic.py:1780: UserWarning:\n",
            "\n",
            "Overriding the parameters from Reference Dataset.\n",
            "\n",
            "/usr/local/lib/python3.9/dist-packages/lightgbm/basic.py:1513: UserWarning:\n",
            "\n",
            "categorical_column in param dict is overridden.\n",
            "\n",
            "\u001b[32m[I 2023-03-22 22:22:16,702]\u001b[0m Trial 31 pruned. Trial was pruned at iteration 0.\u001b[0m\n"
          ]
        },
        {
          "output_type": "stream",
          "name": "stdout",
          "text": [
            "Trial 31 pruned. Trial was pruned at iteration 0.\n",
            "Trial 31 pruned. Trial was pruned at iteration 0.\n"
          ]
        },
        {
          "output_type": "stream",
          "name": "stderr",
          "text": [
            "/usr/local/lib/python3.9/dist-packages/lightgbm/engine.py:239: UserWarning:\n",
            "\n",
            "'verbose_eval' argument is deprecated and will be removed in a future release of LightGBM. Pass 'log_evaluation()' callback via 'callbacks' argument instead.\n",
            "\n",
            "/usr/local/lib/python3.9/dist-packages/lightgbm/basic.py:1780: UserWarning:\n",
            "\n",
            "Overriding the parameters from Reference Dataset.\n",
            "\n",
            "/usr/local/lib/python3.9/dist-packages/lightgbm/basic.py:1513: UserWarning:\n",
            "\n",
            "categorical_column in param dict is overridden.\n",
            "\n",
            "\u001b[32m[I 2023-03-22 22:22:16,753]\u001b[0m Trial 32 pruned. Trial was pruned at iteration 0.\u001b[0m\n"
          ]
        },
        {
          "output_type": "stream",
          "name": "stdout",
          "text": [
            "Trial 32 pruned. Trial was pruned at iteration 0.\n",
            "Trial 32 pruned. Trial was pruned at iteration 0.\n"
          ]
        },
        {
          "output_type": "stream",
          "name": "stderr",
          "text": [
            "/usr/local/lib/python3.9/dist-packages/lightgbm/engine.py:239: UserWarning:\n",
            "\n",
            "'verbose_eval' argument is deprecated and will be removed in a future release of LightGBM. Pass 'log_evaluation()' callback via 'callbacks' argument instead.\n",
            "\n",
            "/usr/local/lib/python3.9/dist-packages/lightgbm/basic.py:1780: UserWarning:\n",
            "\n",
            "Overriding the parameters from Reference Dataset.\n",
            "\n",
            "/usr/local/lib/python3.9/dist-packages/lightgbm/basic.py:1513: UserWarning:\n",
            "\n",
            "categorical_column in param dict is overridden.\n",
            "\n",
            "\u001b[32m[I 2023-03-22 22:22:16,806]\u001b[0m Trial 33 pruned. Trial was pruned at iteration 0.\u001b[0m\n"
          ]
        },
        {
          "output_type": "stream",
          "name": "stdout",
          "text": [
            "Trial 33 pruned. Trial was pruned at iteration 0.\n",
            "Trial 33 pruned. Trial was pruned at iteration 0.\n"
          ]
        },
        {
          "output_type": "stream",
          "name": "stderr",
          "text": [
            "/usr/local/lib/python3.9/dist-packages/lightgbm/engine.py:239: UserWarning:\n",
            "\n",
            "'verbose_eval' argument is deprecated and will be removed in a future release of LightGBM. Pass 'log_evaluation()' callback via 'callbacks' argument instead.\n",
            "\n",
            "/usr/local/lib/python3.9/dist-packages/lightgbm/basic.py:1780: UserWarning:\n",
            "\n",
            "Overriding the parameters from Reference Dataset.\n",
            "\n",
            "/usr/local/lib/python3.9/dist-packages/lightgbm/basic.py:1513: UserWarning:\n",
            "\n",
            "categorical_column in param dict is overridden.\n",
            "\n",
            "\u001b[32m[I 2023-03-22 22:22:16,865]\u001b[0m Trial 34 pruned. Trial was pruned at iteration 1.\u001b[0m\n"
          ]
        },
        {
          "output_type": "stream",
          "name": "stdout",
          "text": [
            "Trial 34 pruned. Trial was pruned at iteration 1.\n",
            "Trial 34 pruned. Trial was pruned at iteration 1.\n"
          ]
        },
        {
          "output_type": "stream",
          "name": "stderr",
          "text": [
            "/usr/local/lib/python3.9/dist-packages/lightgbm/engine.py:239: UserWarning:\n",
            "\n",
            "'verbose_eval' argument is deprecated and will be removed in a future release of LightGBM. Pass 'log_evaluation()' callback via 'callbacks' argument instead.\n",
            "\n",
            "/usr/local/lib/python3.9/dist-packages/lightgbm/basic.py:1780: UserWarning:\n",
            "\n",
            "Overriding the parameters from Reference Dataset.\n",
            "\n",
            "/usr/local/lib/python3.9/dist-packages/lightgbm/basic.py:1513: UserWarning:\n",
            "\n",
            "categorical_column in param dict is overridden.\n",
            "\n",
            "\u001b[32m[I 2023-03-22 22:22:16,920]\u001b[0m Trial 35 pruned. Trial was pruned at iteration 0.\u001b[0m\n"
          ]
        },
        {
          "output_type": "stream",
          "name": "stdout",
          "text": [
            "Trial 35 pruned. Trial was pruned at iteration 0.\n",
            "Trial 35 pruned. Trial was pruned at iteration 0.\n"
          ]
        },
        {
          "output_type": "stream",
          "name": "stderr",
          "text": [
            "/usr/local/lib/python3.9/dist-packages/lightgbm/engine.py:239: UserWarning:\n",
            "\n",
            "'verbose_eval' argument is deprecated and will be removed in a future release of LightGBM. Pass 'log_evaluation()' callback via 'callbacks' argument instead.\n",
            "\n",
            "/usr/local/lib/python3.9/dist-packages/lightgbm/basic.py:1780: UserWarning:\n",
            "\n",
            "Overriding the parameters from Reference Dataset.\n",
            "\n",
            "/usr/local/lib/python3.9/dist-packages/lightgbm/basic.py:1513: UserWarning:\n",
            "\n",
            "categorical_column in param dict is overridden.\n",
            "\n",
            "\u001b[32m[I 2023-03-22 22:22:16,969]\u001b[0m Trial 36 pruned. Trial was pruned at iteration 0.\u001b[0m\n"
          ]
        },
        {
          "output_type": "stream",
          "name": "stdout",
          "text": [
            "Trial 36 pruned. Trial was pruned at iteration 0.\n",
            "Trial 36 pruned. Trial was pruned at iteration 0.\n"
          ]
        },
        {
          "output_type": "stream",
          "name": "stderr",
          "text": [
            "/usr/local/lib/python3.9/dist-packages/lightgbm/engine.py:239: UserWarning:\n",
            "\n",
            "'verbose_eval' argument is deprecated and will be removed in a future release of LightGBM. Pass 'log_evaluation()' callback via 'callbacks' argument instead.\n",
            "\n",
            "/usr/local/lib/python3.9/dist-packages/lightgbm/basic.py:1780: UserWarning:\n",
            "\n",
            "Overriding the parameters from Reference Dataset.\n",
            "\n",
            "/usr/local/lib/python3.9/dist-packages/lightgbm/basic.py:1513: UserWarning:\n",
            "\n",
            "categorical_column in param dict is overridden.\n",
            "\n",
            "\u001b[32m[I 2023-03-22 22:22:17,020]\u001b[0m Trial 37 pruned. Trial was pruned at iteration 0.\u001b[0m\n"
          ]
        },
        {
          "output_type": "stream",
          "name": "stdout",
          "text": [
            "Trial 37 pruned. Trial was pruned at iteration 0.\n",
            "Trial 37 pruned. Trial was pruned at iteration 0.\n"
          ]
        },
        {
          "output_type": "stream",
          "name": "stderr",
          "text": [
            "/usr/local/lib/python3.9/dist-packages/lightgbm/engine.py:239: UserWarning:\n",
            "\n",
            "'verbose_eval' argument is deprecated and will be removed in a future release of LightGBM. Pass 'log_evaluation()' callback via 'callbacks' argument instead.\n",
            "\n",
            "/usr/local/lib/python3.9/dist-packages/lightgbm/basic.py:1780: UserWarning:\n",
            "\n",
            "Overriding the parameters from Reference Dataset.\n",
            "\n",
            "/usr/local/lib/python3.9/dist-packages/lightgbm/basic.py:1513: UserWarning:\n",
            "\n",
            "categorical_column in param dict is overridden.\n",
            "\n",
            "\u001b[32m[I 2023-03-22 22:22:17,078]\u001b[0m Trial 38 pruned. Trial was pruned at iteration 0.\u001b[0m\n"
          ]
        },
        {
          "output_type": "stream",
          "name": "stdout",
          "text": [
            "Trial 38 pruned. Trial was pruned at iteration 0.\n",
            "Trial 38 pruned. Trial was pruned at iteration 0.\n"
          ]
        },
        {
          "output_type": "stream",
          "name": "stderr",
          "text": [
            "/usr/local/lib/python3.9/dist-packages/lightgbm/engine.py:239: UserWarning:\n",
            "\n",
            "'verbose_eval' argument is deprecated and will be removed in a future release of LightGBM. Pass 'log_evaluation()' callback via 'callbacks' argument instead.\n",
            "\n",
            "/usr/local/lib/python3.9/dist-packages/lightgbm/basic.py:1780: UserWarning:\n",
            "\n",
            "Overriding the parameters from Reference Dataset.\n",
            "\n",
            "/usr/local/lib/python3.9/dist-packages/lightgbm/basic.py:1513: UserWarning:\n",
            "\n",
            "categorical_column in param dict is overridden.\n",
            "\n",
            "\u001b[32m[I 2023-03-22 22:22:17,137]\u001b[0m Trial 39 pruned. Trial was pruned at iteration 0.\u001b[0m\n"
          ]
        },
        {
          "output_type": "stream",
          "name": "stdout",
          "text": [
            "Trial 39 pruned. Trial was pruned at iteration 0.\n",
            "Trial 39 pruned. Trial was pruned at iteration 0.\n"
          ]
        },
        {
          "output_type": "stream",
          "name": "stderr",
          "text": [
            "/usr/local/lib/python3.9/dist-packages/lightgbm/engine.py:239: UserWarning:\n",
            "\n",
            "'verbose_eval' argument is deprecated and will be removed in a future release of LightGBM. Pass 'log_evaluation()' callback via 'callbacks' argument instead.\n",
            "\n",
            "/usr/local/lib/python3.9/dist-packages/lightgbm/basic.py:1780: UserWarning:\n",
            "\n",
            "Overriding the parameters from Reference Dataset.\n",
            "\n",
            "/usr/local/lib/python3.9/dist-packages/lightgbm/basic.py:1513: UserWarning:\n",
            "\n",
            "categorical_column in param dict is overridden.\n",
            "\n",
            "\u001b[32m[I 2023-03-22 22:22:17,194]\u001b[0m Trial 40 pruned. Trial was pruned at iteration 0.\u001b[0m\n"
          ]
        },
        {
          "output_type": "stream",
          "name": "stdout",
          "text": [
            "Trial 40 pruned. Trial was pruned at iteration 0.\n",
            "Trial 40 pruned. Trial was pruned at iteration 0.\n"
          ]
        },
        {
          "output_type": "stream",
          "name": "stderr",
          "text": [
            "/usr/local/lib/python3.9/dist-packages/lightgbm/engine.py:239: UserWarning:\n",
            "\n",
            "'verbose_eval' argument is deprecated and will be removed in a future release of LightGBM. Pass 'log_evaluation()' callback via 'callbacks' argument instead.\n",
            "\n",
            "/usr/local/lib/python3.9/dist-packages/lightgbm/basic.py:1780: UserWarning:\n",
            "\n",
            "Overriding the parameters from Reference Dataset.\n",
            "\n",
            "/usr/local/lib/python3.9/dist-packages/lightgbm/basic.py:1513: UserWarning:\n",
            "\n",
            "categorical_column in param dict is overridden.\n",
            "\n",
            "\u001b[32m[I 2023-03-22 22:22:17,330]\u001b[0m Trial 41 pruned. Trial was pruned at iteration 33.\u001b[0m\n"
          ]
        },
        {
          "output_type": "stream",
          "name": "stdout",
          "text": [
            "Trial 41 pruned. Trial was pruned at iteration 33.\n",
            "Trial 41 pruned. Trial was pruned at iteration 33.\n"
          ]
        },
        {
          "output_type": "stream",
          "name": "stderr",
          "text": [
            "/usr/local/lib/python3.9/dist-packages/lightgbm/engine.py:239: UserWarning:\n",
            "\n",
            "'verbose_eval' argument is deprecated and will be removed in a future release of LightGBM. Pass 'log_evaluation()' callback via 'callbacks' argument instead.\n",
            "\n",
            "/usr/local/lib/python3.9/dist-packages/lightgbm/basic.py:1780: UserWarning:\n",
            "\n",
            "Overriding the parameters from Reference Dataset.\n",
            "\n",
            "/usr/local/lib/python3.9/dist-packages/lightgbm/basic.py:1513: UserWarning:\n",
            "\n",
            "categorical_column in param dict is overridden.\n",
            "\n",
            "\u001b[32m[I 2023-03-22 22:22:17,384]\u001b[0m Trial 42 pruned. Trial was pruned at iteration 0.\u001b[0m\n"
          ]
        },
        {
          "output_type": "stream",
          "name": "stdout",
          "text": [
            "Trial 42 pruned. Trial was pruned at iteration 0.\n",
            "Trial 42 pruned. Trial was pruned at iteration 0.\n"
          ]
        },
        {
          "output_type": "stream",
          "name": "stderr",
          "text": [
            "/usr/local/lib/python3.9/dist-packages/lightgbm/engine.py:239: UserWarning:\n",
            "\n",
            "'verbose_eval' argument is deprecated and will be removed in a future release of LightGBM. Pass 'log_evaluation()' callback via 'callbacks' argument instead.\n",
            "\n",
            "/usr/local/lib/python3.9/dist-packages/lightgbm/basic.py:1780: UserWarning:\n",
            "\n",
            "Overriding the parameters from Reference Dataset.\n",
            "\n",
            "/usr/local/lib/python3.9/dist-packages/lightgbm/basic.py:1513: UserWarning:\n",
            "\n",
            "categorical_column in param dict is overridden.\n",
            "\n",
            "\u001b[32m[I 2023-03-22 22:22:17,438]\u001b[0m Trial 43 pruned. Trial was pruned at iteration 0.\u001b[0m\n"
          ]
        },
        {
          "output_type": "stream",
          "name": "stdout",
          "text": [
            "Trial 43 pruned. Trial was pruned at iteration 0.\n",
            "Trial 43 pruned. Trial was pruned at iteration 0.\n"
          ]
        },
        {
          "output_type": "stream",
          "name": "stderr",
          "text": [
            "/usr/local/lib/python3.9/dist-packages/lightgbm/engine.py:239: UserWarning:\n",
            "\n",
            "'verbose_eval' argument is deprecated and will be removed in a future release of LightGBM. Pass 'log_evaluation()' callback via 'callbacks' argument instead.\n",
            "\n",
            "/usr/local/lib/python3.9/dist-packages/lightgbm/basic.py:1780: UserWarning:\n",
            "\n",
            "Overriding the parameters from Reference Dataset.\n",
            "\n",
            "/usr/local/lib/python3.9/dist-packages/lightgbm/basic.py:1513: UserWarning:\n",
            "\n",
            "categorical_column in param dict is overridden.\n",
            "\n",
            "\u001b[32m[I 2023-03-22 22:22:17,507]\u001b[0m Trial 44 pruned. Trial was pruned at iteration 5.\u001b[0m\n"
          ]
        },
        {
          "output_type": "stream",
          "name": "stdout",
          "text": [
            "Trial 44 pruned. Trial was pruned at iteration 5.\n",
            "Trial 44 pruned. Trial was pruned at iteration 5.\n"
          ]
        },
        {
          "output_type": "stream",
          "name": "stderr",
          "text": [
            "/usr/local/lib/python3.9/dist-packages/lightgbm/engine.py:239: UserWarning:\n",
            "\n",
            "'verbose_eval' argument is deprecated and will be removed in a future release of LightGBM. Pass 'log_evaluation()' callback via 'callbacks' argument instead.\n",
            "\n",
            "/usr/local/lib/python3.9/dist-packages/lightgbm/basic.py:1780: UserWarning:\n",
            "\n",
            "Overriding the parameters from Reference Dataset.\n",
            "\n",
            "/usr/local/lib/python3.9/dist-packages/lightgbm/basic.py:1513: UserWarning:\n",
            "\n",
            "categorical_column in param dict is overridden.\n",
            "\n",
            "\u001b[32m[I 2023-03-22 22:22:17,592]\u001b[0m Trial 45 pruned. Trial was pruned at iteration 0.\u001b[0m\n"
          ]
        },
        {
          "output_type": "stream",
          "name": "stdout",
          "text": [
            "Trial 45 pruned. Trial was pruned at iteration 0.\n",
            "Trial 45 pruned. Trial was pruned at iteration 0.\n"
          ]
        },
        {
          "output_type": "stream",
          "name": "stderr",
          "text": [
            "/usr/local/lib/python3.9/dist-packages/lightgbm/engine.py:239: UserWarning:\n",
            "\n",
            "'verbose_eval' argument is deprecated and will be removed in a future release of LightGBM. Pass 'log_evaluation()' callback via 'callbacks' argument instead.\n",
            "\n",
            "/usr/local/lib/python3.9/dist-packages/lightgbm/basic.py:1780: UserWarning:\n",
            "\n",
            "Overriding the parameters from Reference Dataset.\n",
            "\n",
            "/usr/local/lib/python3.9/dist-packages/lightgbm/basic.py:1513: UserWarning:\n",
            "\n",
            "categorical_column in param dict is overridden.\n",
            "\n",
            "\u001b[32m[I 2023-03-22 22:22:17,689]\u001b[0m Trial 46 pruned. Trial was pruned at iteration 1.\u001b[0m\n"
          ]
        },
        {
          "output_type": "stream",
          "name": "stdout",
          "text": [
            "Trial 46 pruned. Trial was pruned at iteration 1.\n",
            "Trial 46 pruned. Trial was pruned at iteration 1.\n"
          ]
        },
        {
          "output_type": "stream",
          "name": "stderr",
          "text": [
            "/usr/local/lib/python3.9/dist-packages/lightgbm/engine.py:239: UserWarning:\n",
            "\n",
            "'verbose_eval' argument is deprecated and will be removed in a future release of LightGBM. Pass 'log_evaluation()' callback via 'callbacks' argument instead.\n",
            "\n",
            "/usr/local/lib/python3.9/dist-packages/lightgbm/basic.py:1780: UserWarning:\n",
            "\n",
            "Overriding the parameters from Reference Dataset.\n",
            "\n",
            "/usr/local/lib/python3.9/dist-packages/lightgbm/basic.py:1513: UserWarning:\n",
            "\n",
            "categorical_column in param dict is overridden.\n",
            "\n",
            "\u001b[32m[I 2023-03-22 22:22:17,783]\u001b[0m Trial 47 pruned. Trial was pruned at iteration 5.\u001b[0m\n"
          ]
        },
        {
          "output_type": "stream",
          "name": "stdout",
          "text": [
            "Trial 47 pruned. Trial was pruned at iteration 5.\n",
            "Trial 47 pruned. Trial was pruned at iteration 5.\n"
          ]
        },
        {
          "output_type": "stream",
          "name": "stderr",
          "text": [
            "/usr/local/lib/python3.9/dist-packages/lightgbm/engine.py:239: UserWarning:\n",
            "\n",
            "'verbose_eval' argument is deprecated and will be removed in a future release of LightGBM. Pass 'log_evaluation()' callback via 'callbacks' argument instead.\n",
            "\n",
            "/usr/local/lib/python3.9/dist-packages/lightgbm/basic.py:1780: UserWarning:\n",
            "\n",
            "Overriding the parameters from Reference Dataset.\n",
            "\n",
            "/usr/local/lib/python3.9/dist-packages/lightgbm/basic.py:1513: UserWarning:\n",
            "\n",
            "categorical_column in param dict is overridden.\n",
            "\n",
            "\u001b[32m[I 2023-03-22 22:22:17,872]\u001b[0m Trial 48 pruned. Trial was pruned at iteration 3.\u001b[0m\n"
          ]
        },
        {
          "output_type": "stream",
          "name": "stdout",
          "text": [
            "Trial 48 pruned. Trial was pruned at iteration 3.\n",
            "Trial 48 pruned. Trial was pruned at iteration 3.\n"
          ]
        },
        {
          "output_type": "stream",
          "name": "stderr",
          "text": [
            "/usr/local/lib/python3.9/dist-packages/lightgbm/engine.py:239: UserWarning:\n",
            "\n",
            "'verbose_eval' argument is deprecated and will be removed in a future release of LightGBM. Pass 'log_evaluation()' callback via 'callbacks' argument instead.\n",
            "\n",
            "/usr/local/lib/python3.9/dist-packages/lightgbm/basic.py:1780: UserWarning:\n",
            "\n",
            "Overriding the parameters from Reference Dataset.\n",
            "\n",
            "/usr/local/lib/python3.9/dist-packages/lightgbm/basic.py:1513: UserWarning:\n",
            "\n",
            "categorical_column in param dict is overridden.\n",
            "\n",
            "\u001b[32m[I 2023-03-22 22:22:17,949]\u001b[0m Trial 49 pruned. Trial was pruned at iteration 0.\u001b[0m\n"
          ]
        },
        {
          "output_type": "stream",
          "name": "stdout",
          "text": [
            "Trial 49 pruned. Trial was pruned at iteration 0.\n",
            "Trial 49 pruned. Trial was pruned at iteration 0.\n"
          ]
        },
        {
          "output_type": "stream",
          "name": "stderr",
          "text": [
            "/usr/local/lib/python3.9/dist-packages/lightgbm/engine.py:239: UserWarning:\n",
            "\n",
            "'verbose_eval' argument is deprecated and will be removed in a future release of LightGBM. Pass 'log_evaluation()' callback via 'callbacks' argument instead.\n",
            "\n",
            "/usr/local/lib/python3.9/dist-packages/lightgbm/basic.py:1780: UserWarning:\n",
            "\n",
            "Overriding the parameters from Reference Dataset.\n",
            "\n",
            "/usr/local/lib/python3.9/dist-packages/lightgbm/basic.py:1513: UserWarning:\n",
            "\n",
            "categorical_column in param dict is overridden.\n",
            "\n",
            "\u001b[32m[I 2023-03-22 22:22:18,125]\u001b[0m Trial 50 pruned. Trial was pruned at iteration 28.\u001b[0m\n"
          ]
        },
        {
          "output_type": "stream",
          "name": "stdout",
          "text": [
            "Trial 50 pruned. Trial was pruned at iteration 28.\n",
            "Trial 50 pruned. Trial was pruned at iteration 28.\n"
          ]
        },
        {
          "output_type": "stream",
          "name": "stderr",
          "text": [
            "/usr/local/lib/python3.9/dist-packages/lightgbm/engine.py:239: UserWarning:\n",
            "\n",
            "'verbose_eval' argument is deprecated and will be removed in a future release of LightGBM. Pass 'log_evaluation()' callback via 'callbacks' argument instead.\n",
            "\n",
            "/usr/local/lib/python3.9/dist-packages/lightgbm/basic.py:1780: UserWarning:\n",
            "\n",
            "Overriding the parameters from Reference Dataset.\n",
            "\n",
            "/usr/local/lib/python3.9/dist-packages/lightgbm/basic.py:1513: UserWarning:\n",
            "\n",
            "categorical_column in param dict is overridden.\n",
            "\n",
            "\u001b[32m[I 2023-03-22 22:22:18,650]\u001b[0m Trial 51 finished with value: 0.7898773006134969 and parameters: {'bagging_fraction': 0.8735460709607787, 'bagging_freq': 7, 'min_child_samples': 46}. Best is trial 3 with value: 0.7944785276073619.\u001b[0m\n"
          ]
        },
        {
          "output_type": "stream",
          "name": "stdout",
          "text": [
            "Trial 51 finished with value: 0.7898773006134969 and parameters: {'bagging_fraction': 0.8735460709607787, 'bagging_freq': 7, 'min_child_samples': 46}. Best is trial 3 with value: 0.7944785276073619.\n",
            "Trial 51 finished with value: 0.7898773006134969 and parameters: {'bagging_fraction': 0.8735460709607787, 'bagging_freq': 7, 'min_child_samples': 46}. Best is trial 3 with value: 0.7944785276073619.\n"
          ]
        },
        {
          "output_type": "stream",
          "name": "stderr",
          "text": [
            "/usr/local/lib/python3.9/dist-packages/lightgbm/engine.py:239: UserWarning:\n",
            "\n",
            "'verbose_eval' argument is deprecated and will be removed in a future release of LightGBM. Pass 'log_evaluation()' callback via 'callbacks' argument instead.\n",
            "\n",
            "/usr/local/lib/python3.9/dist-packages/lightgbm/basic.py:1780: UserWarning:\n",
            "\n",
            "Overriding the parameters from Reference Dataset.\n",
            "\n",
            "/usr/local/lib/python3.9/dist-packages/lightgbm/basic.py:1513: UserWarning:\n",
            "\n",
            "categorical_column in param dict is overridden.\n",
            "\n",
            "\u001b[32m[I 2023-03-22 22:22:18,744]\u001b[0m Trial 52 pruned. Trial was pruned at iteration 6.\u001b[0m\n"
          ]
        },
        {
          "output_type": "stream",
          "name": "stdout",
          "text": [
            "Trial 52 pruned. Trial was pruned at iteration 6.\n",
            "Trial 52 pruned. Trial was pruned at iteration 6.\n"
          ]
        },
        {
          "output_type": "stream",
          "name": "stderr",
          "text": [
            "/usr/local/lib/python3.9/dist-packages/lightgbm/engine.py:239: UserWarning:\n",
            "\n",
            "'verbose_eval' argument is deprecated and will be removed in a future release of LightGBM. Pass 'log_evaluation()' callback via 'callbacks' argument instead.\n",
            "\n",
            "/usr/local/lib/python3.9/dist-packages/lightgbm/basic.py:1780: UserWarning:\n",
            "\n",
            "Overriding the parameters from Reference Dataset.\n",
            "\n",
            "/usr/local/lib/python3.9/dist-packages/lightgbm/basic.py:1513: UserWarning:\n",
            "\n",
            "categorical_column in param dict is overridden.\n",
            "\n",
            "\u001b[32m[I 2023-03-22 22:22:18,842]\u001b[0m Trial 53 pruned. Trial was pruned at iteration 6.\u001b[0m\n"
          ]
        },
        {
          "output_type": "stream",
          "name": "stdout",
          "text": [
            "Trial 53 pruned. Trial was pruned at iteration 6.\n",
            "Trial 53 pruned. Trial was pruned at iteration 6.\n"
          ]
        },
        {
          "output_type": "stream",
          "name": "stderr",
          "text": [
            "/usr/local/lib/python3.9/dist-packages/lightgbm/engine.py:239: UserWarning:\n",
            "\n",
            "'verbose_eval' argument is deprecated and will be removed in a future release of LightGBM. Pass 'log_evaluation()' callback via 'callbacks' argument instead.\n",
            "\n",
            "/usr/local/lib/python3.9/dist-packages/lightgbm/basic.py:1780: UserWarning:\n",
            "\n",
            "Overriding the parameters from Reference Dataset.\n",
            "\n",
            "/usr/local/lib/python3.9/dist-packages/lightgbm/basic.py:1513: UserWarning:\n",
            "\n",
            "categorical_column in param dict is overridden.\n",
            "\n",
            "\u001b[32m[I 2023-03-22 22:22:18,952]\u001b[0m Trial 54 pruned. Trial was pruned at iteration 5.\u001b[0m\n"
          ]
        },
        {
          "output_type": "stream",
          "name": "stdout",
          "text": [
            "Trial 54 pruned. Trial was pruned at iteration 5.\n",
            "Trial 54 pruned. Trial was pruned at iteration 5.\n"
          ]
        },
        {
          "output_type": "stream",
          "name": "stderr",
          "text": [
            "/usr/local/lib/python3.9/dist-packages/lightgbm/engine.py:239: UserWarning:\n",
            "\n",
            "'verbose_eval' argument is deprecated and will be removed in a future release of LightGBM. Pass 'log_evaluation()' callback via 'callbacks' argument instead.\n",
            "\n",
            "/usr/local/lib/python3.9/dist-packages/lightgbm/basic.py:1780: UserWarning:\n",
            "\n",
            "Overriding the parameters from Reference Dataset.\n",
            "\n",
            "/usr/local/lib/python3.9/dist-packages/lightgbm/basic.py:1513: UserWarning:\n",
            "\n",
            "categorical_column in param dict is overridden.\n",
            "\n",
            "\u001b[32m[I 2023-03-22 22:22:19,052]\u001b[0m Trial 55 pruned. Trial was pruned at iteration 5.\u001b[0m\n"
          ]
        },
        {
          "output_type": "stream",
          "name": "stdout",
          "text": [
            "Trial 55 pruned. Trial was pruned at iteration 5.\n",
            "Trial 55 pruned. Trial was pruned at iteration 5.\n"
          ]
        },
        {
          "output_type": "stream",
          "name": "stderr",
          "text": [
            "/usr/local/lib/python3.9/dist-packages/lightgbm/engine.py:239: UserWarning:\n",
            "\n",
            "'verbose_eval' argument is deprecated and will be removed in a future release of LightGBM. Pass 'log_evaluation()' callback via 'callbacks' argument instead.\n",
            "\n",
            "/usr/local/lib/python3.9/dist-packages/lightgbm/basic.py:1780: UserWarning:\n",
            "\n",
            "Overriding the parameters from Reference Dataset.\n",
            "\n",
            "/usr/local/lib/python3.9/dist-packages/lightgbm/basic.py:1513: UserWarning:\n",
            "\n",
            "categorical_column in param dict is overridden.\n",
            "\n",
            "\u001b[32m[I 2023-03-22 22:22:19,245]\u001b[0m Trial 56 pruned. Trial was pruned at iteration 28.\u001b[0m\n"
          ]
        },
        {
          "output_type": "stream",
          "name": "stdout",
          "text": [
            "Trial 56 pruned. Trial was pruned at iteration 28.\n",
            "Trial 56 pruned. Trial was pruned at iteration 28.\n"
          ]
        },
        {
          "output_type": "stream",
          "name": "stderr",
          "text": [
            "/usr/local/lib/python3.9/dist-packages/lightgbm/engine.py:239: UserWarning:\n",
            "\n",
            "'verbose_eval' argument is deprecated and will be removed in a future release of LightGBM. Pass 'log_evaluation()' callback via 'callbacks' argument instead.\n",
            "\n",
            "/usr/local/lib/python3.9/dist-packages/lightgbm/basic.py:1780: UserWarning:\n",
            "\n",
            "Overriding the parameters from Reference Dataset.\n",
            "\n",
            "/usr/local/lib/python3.9/dist-packages/lightgbm/basic.py:1513: UserWarning:\n",
            "\n",
            "categorical_column in param dict is overridden.\n",
            "\n",
            "\u001b[32m[I 2023-03-22 22:22:19,342]\u001b[0m Trial 57 pruned. Trial was pruned at iteration 0.\u001b[0m\n"
          ]
        },
        {
          "output_type": "stream",
          "name": "stdout",
          "text": [
            "Trial 57 pruned. Trial was pruned at iteration 0.\n",
            "Trial 57 pruned. Trial was pruned at iteration 0.\n"
          ]
        },
        {
          "output_type": "stream",
          "name": "stderr",
          "text": [
            "/usr/local/lib/python3.9/dist-packages/lightgbm/engine.py:239: UserWarning:\n",
            "\n",
            "'verbose_eval' argument is deprecated and will be removed in a future release of LightGBM. Pass 'log_evaluation()' callback via 'callbacks' argument instead.\n",
            "\n",
            "/usr/local/lib/python3.9/dist-packages/lightgbm/basic.py:1780: UserWarning:\n",
            "\n",
            "Overriding the parameters from Reference Dataset.\n",
            "\n",
            "/usr/local/lib/python3.9/dist-packages/lightgbm/basic.py:1513: UserWarning:\n",
            "\n",
            "categorical_column in param dict is overridden.\n",
            "\n",
            "\u001b[32m[I 2023-03-22 22:22:19,452]\u001b[0m Trial 58 pruned. Trial was pruned at iteration 6.\u001b[0m\n"
          ]
        },
        {
          "output_type": "stream",
          "name": "stdout",
          "text": [
            "Trial 58 pruned. Trial was pruned at iteration 6.\n",
            "Trial 58 pruned. Trial was pruned at iteration 6.\n"
          ]
        },
        {
          "output_type": "stream",
          "name": "stderr",
          "text": [
            "/usr/local/lib/python3.9/dist-packages/lightgbm/engine.py:239: UserWarning:\n",
            "\n",
            "'verbose_eval' argument is deprecated and will be removed in a future release of LightGBM. Pass 'log_evaluation()' callback via 'callbacks' argument instead.\n",
            "\n",
            "/usr/local/lib/python3.9/dist-packages/lightgbm/basic.py:1780: UserWarning:\n",
            "\n",
            "Overriding the parameters from Reference Dataset.\n",
            "\n",
            "/usr/local/lib/python3.9/dist-packages/lightgbm/basic.py:1513: UserWarning:\n",
            "\n",
            "categorical_column in param dict is overridden.\n",
            "\n",
            "\u001b[32m[I 2023-03-22 22:22:19,542]\u001b[0m Trial 59 pruned. Trial was pruned at iteration 0.\u001b[0m\n"
          ]
        },
        {
          "output_type": "stream",
          "name": "stdout",
          "text": [
            "Trial 59 pruned. Trial was pruned at iteration 0.\n",
            "Trial 59 pruned. Trial was pruned at iteration 0.\n"
          ]
        },
        {
          "output_type": "stream",
          "name": "stderr",
          "text": [
            "/usr/local/lib/python3.9/dist-packages/lightgbm/engine.py:239: UserWarning:\n",
            "\n",
            "'verbose_eval' argument is deprecated and will be removed in a future release of LightGBM. Pass 'log_evaluation()' callback via 'callbacks' argument instead.\n",
            "\n",
            "/usr/local/lib/python3.9/dist-packages/lightgbm/basic.py:1780: UserWarning:\n",
            "\n",
            "Overriding the parameters from Reference Dataset.\n",
            "\n",
            "/usr/local/lib/python3.9/dist-packages/lightgbm/basic.py:1513: UserWarning:\n",
            "\n",
            "categorical_column in param dict is overridden.\n",
            "\n",
            "\u001b[32m[I 2023-03-22 22:22:19,627]\u001b[0m Trial 60 pruned. Trial was pruned at iteration 0.\u001b[0m\n"
          ]
        },
        {
          "output_type": "stream",
          "name": "stdout",
          "text": [
            "Trial 60 pruned. Trial was pruned at iteration 0.\n",
            "Trial 60 pruned. Trial was pruned at iteration 0.\n"
          ]
        },
        {
          "output_type": "stream",
          "name": "stderr",
          "text": [
            "/usr/local/lib/python3.9/dist-packages/lightgbm/engine.py:239: UserWarning:\n",
            "\n",
            "'verbose_eval' argument is deprecated and will be removed in a future release of LightGBM. Pass 'log_evaluation()' callback via 'callbacks' argument instead.\n",
            "\n",
            "/usr/local/lib/python3.9/dist-packages/lightgbm/basic.py:1780: UserWarning:\n",
            "\n",
            "Overriding the parameters from Reference Dataset.\n",
            "\n",
            "/usr/local/lib/python3.9/dist-packages/lightgbm/basic.py:1513: UserWarning:\n",
            "\n",
            "categorical_column in param dict is overridden.\n",
            "\n",
            "\u001b[32m[I 2023-03-22 22:22:19,761]\u001b[0m Trial 61 pruned. Trial was pruned at iteration 9.\u001b[0m\n"
          ]
        },
        {
          "output_type": "stream",
          "name": "stdout",
          "text": [
            "Trial 61 pruned. Trial was pruned at iteration 9.\n",
            "Trial 61 pruned. Trial was pruned at iteration 9.\n"
          ]
        },
        {
          "output_type": "stream",
          "name": "stderr",
          "text": [
            "/usr/local/lib/python3.9/dist-packages/lightgbm/engine.py:239: UserWarning:\n",
            "\n",
            "'verbose_eval' argument is deprecated and will be removed in a future release of LightGBM. Pass 'log_evaluation()' callback via 'callbacks' argument instead.\n",
            "\n",
            "/usr/local/lib/python3.9/dist-packages/lightgbm/basic.py:1780: UserWarning:\n",
            "\n",
            "Overriding the parameters from Reference Dataset.\n",
            "\n",
            "/usr/local/lib/python3.9/dist-packages/lightgbm/basic.py:1513: UserWarning:\n",
            "\n",
            "categorical_column in param dict is overridden.\n",
            "\n",
            "\u001b[32m[I 2023-03-22 22:22:19,857]\u001b[0m Trial 62 pruned. Trial was pruned at iteration 4.\u001b[0m\n"
          ]
        },
        {
          "output_type": "stream",
          "name": "stdout",
          "text": [
            "Trial 62 pruned. Trial was pruned at iteration 4.\n",
            "Trial 62 pruned. Trial was pruned at iteration 4.\n"
          ]
        },
        {
          "output_type": "stream",
          "name": "stderr",
          "text": [
            "/usr/local/lib/python3.9/dist-packages/lightgbm/engine.py:239: UserWarning:\n",
            "\n",
            "'verbose_eval' argument is deprecated and will be removed in a future release of LightGBM. Pass 'log_evaluation()' callback via 'callbacks' argument instead.\n",
            "\n",
            "/usr/local/lib/python3.9/dist-packages/lightgbm/basic.py:1780: UserWarning:\n",
            "\n",
            "Overriding the parameters from Reference Dataset.\n",
            "\n",
            "/usr/local/lib/python3.9/dist-packages/lightgbm/basic.py:1513: UserWarning:\n",
            "\n",
            "categorical_column in param dict is overridden.\n",
            "\n",
            "\u001b[32m[I 2023-03-22 22:22:20,050]\u001b[0m Trial 63 pruned. Trial was pruned at iteration 23.\u001b[0m\n"
          ]
        },
        {
          "output_type": "stream",
          "name": "stdout",
          "text": [
            "Trial 63 pruned. Trial was pruned at iteration 23.\n",
            "Trial 63 pruned. Trial was pruned at iteration 23.\n"
          ]
        },
        {
          "output_type": "stream",
          "name": "stderr",
          "text": [
            "/usr/local/lib/python3.9/dist-packages/lightgbm/engine.py:239: UserWarning:\n",
            "\n",
            "'verbose_eval' argument is deprecated and will be removed in a future release of LightGBM. Pass 'log_evaluation()' callback via 'callbacks' argument instead.\n",
            "\n",
            "/usr/local/lib/python3.9/dist-packages/lightgbm/basic.py:1780: UserWarning:\n",
            "\n",
            "Overriding the parameters from Reference Dataset.\n",
            "\n",
            "/usr/local/lib/python3.9/dist-packages/lightgbm/basic.py:1513: UserWarning:\n",
            "\n",
            "categorical_column in param dict is overridden.\n",
            "\n",
            "\u001b[32m[I 2023-03-22 22:22:20,587]\u001b[0m Trial 64 finished with value: 0.7883435582822086 and parameters: {'bagging_fraction': 0.8913339158779432, 'bagging_freq': 3, 'min_child_samples': 34}. Best is trial 3 with value: 0.7944785276073619.\u001b[0m\n"
          ]
        },
        {
          "output_type": "stream",
          "name": "stdout",
          "text": [
            "Trial 64 finished with value: 0.7883435582822086 and parameters: {'bagging_fraction': 0.8913339158779432, 'bagging_freq': 3, 'min_child_samples': 34}. Best is trial 3 with value: 0.7944785276073619.\n",
            "Trial 64 finished with value: 0.7883435582822086 and parameters: {'bagging_fraction': 0.8913339158779432, 'bagging_freq': 3, 'min_child_samples': 34}. Best is trial 3 with value: 0.7944785276073619.\n"
          ]
        },
        {
          "output_type": "stream",
          "name": "stderr",
          "text": [
            "/usr/local/lib/python3.9/dist-packages/lightgbm/engine.py:239: UserWarning:\n",
            "\n",
            "'verbose_eval' argument is deprecated and will be removed in a future release of LightGBM. Pass 'log_evaluation()' callback via 'callbacks' argument instead.\n",
            "\n",
            "/usr/local/lib/python3.9/dist-packages/lightgbm/basic.py:1780: UserWarning:\n",
            "\n",
            "Overriding the parameters from Reference Dataset.\n",
            "\n",
            "/usr/local/lib/python3.9/dist-packages/lightgbm/basic.py:1513: UserWarning:\n",
            "\n",
            "categorical_column in param dict is overridden.\n",
            "\n",
            "\u001b[32m[I 2023-03-22 22:22:20,727]\u001b[0m Trial 65 pruned. Trial was pruned at iteration 14.\u001b[0m\n"
          ]
        },
        {
          "output_type": "stream",
          "name": "stdout",
          "text": [
            "Trial 65 pruned. Trial was pruned at iteration 14.\n",
            "Trial 65 pruned. Trial was pruned at iteration 14.\n"
          ]
        },
        {
          "output_type": "stream",
          "name": "stderr",
          "text": [
            "/usr/local/lib/python3.9/dist-packages/lightgbm/engine.py:239: UserWarning:\n",
            "\n",
            "'verbose_eval' argument is deprecated and will be removed in a future release of LightGBM. Pass 'log_evaluation()' callback via 'callbacks' argument instead.\n",
            "\n",
            "/usr/local/lib/python3.9/dist-packages/lightgbm/basic.py:1780: UserWarning:\n",
            "\n",
            "Overriding the parameters from Reference Dataset.\n",
            "\n",
            "/usr/local/lib/python3.9/dist-packages/lightgbm/basic.py:1513: UserWarning:\n",
            "\n",
            "categorical_column in param dict is overridden.\n",
            "\n",
            "\u001b[32m[I 2023-03-22 22:22:20,962]\u001b[0m Trial 66 pruned. Trial was pruned at iteration 33.\u001b[0m\n"
          ]
        },
        {
          "output_type": "stream",
          "name": "stdout",
          "text": [
            "Trial 66 pruned. Trial was pruned at iteration 33.\n",
            "Trial 66 pruned. Trial was pruned at iteration 33.\n"
          ]
        },
        {
          "output_type": "stream",
          "name": "stderr",
          "text": [
            "/usr/local/lib/python3.9/dist-packages/lightgbm/engine.py:239: UserWarning:\n",
            "\n",
            "'verbose_eval' argument is deprecated and will be removed in a future release of LightGBM. Pass 'log_evaluation()' callback via 'callbacks' argument instead.\n",
            "\n",
            "/usr/local/lib/python3.9/dist-packages/lightgbm/basic.py:1780: UserWarning:\n",
            "\n",
            "Overriding the parameters from Reference Dataset.\n",
            "\n",
            "/usr/local/lib/python3.9/dist-packages/lightgbm/basic.py:1513: UserWarning:\n",
            "\n",
            "categorical_column in param dict is overridden.\n",
            "\n",
            "\u001b[32m[I 2023-03-22 22:22:21,068]\u001b[0m Trial 67 pruned. Trial was pruned at iteration 7.\u001b[0m\n"
          ]
        },
        {
          "output_type": "stream",
          "name": "stdout",
          "text": [
            "Trial 67 pruned. Trial was pruned at iteration 7.\n",
            "Trial 67 pruned. Trial was pruned at iteration 7.\n"
          ]
        },
        {
          "output_type": "stream",
          "name": "stderr",
          "text": [
            "/usr/local/lib/python3.9/dist-packages/lightgbm/engine.py:239: UserWarning:\n",
            "\n",
            "'verbose_eval' argument is deprecated and will be removed in a future release of LightGBM. Pass 'log_evaluation()' callback via 'callbacks' argument instead.\n",
            "\n",
            "/usr/local/lib/python3.9/dist-packages/lightgbm/basic.py:1780: UserWarning:\n",
            "\n",
            "Overriding the parameters from Reference Dataset.\n",
            "\n",
            "/usr/local/lib/python3.9/dist-packages/lightgbm/basic.py:1513: UserWarning:\n",
            "\n",
            "categorical_column in param dict is overridden.\n",
            "\n",
            "\u001b[32m[I 2023-03-22 22:22:21,139]\u001b[0m Trial 68 pruned. Trial was pruned at iteration 0.\u001b[0m\n"
          ]
        },
        {
          "output_type": "stream",
          "name": "stdout",
          "text": [
            "Trial 68 pruned. Trial was pruned at iteration 0.\n",
            "Trial 68 pruned. Trial was pruned at iteration 0.\n"
          ]
        },
        {
          "output_type": "stream",
          "name": "stderr",
          "text": [
            "/usr/local/lib/python3.9/dist-packages/lightgbm/engine.py:239: UserWarning:\n",
            "\n",
            "'verbose_eval' argument is deprecated and will be removed in a future release of LightGBM. Pass 'log_evaluation()' callback via 'callbacks' argument instead.\n",
            "\n",
            "/usr/local/lib/python3.9/dist-packages/lightgbm/basic.py:1780: UserWarning:\n",
            "\n",
            "Overriding the parameters from Reference Dataset.\n",
            "\n",
            "/usr/local/lib/python3.9/dist-packages/lightgbm/basic.py:1513: UserWarning:\n",
            "\n",
            "categorical_column in param dict is overridden.\n",
            "\n",
            "\u001b[32m[I 2023-03-22 22:22:21,236]\u001b[0m Trial 69 pruned. Trial was pruned at iteration 5.\u001b[0m\n"
          ]
        },
        {
          "output_type": "stream",
          "name": "stdout",
          "text": [
            "Trial 69 pruned. Trial was pruned at iteration 5.\n",
            "Trial 69 pruned. Trial was pruned at iteration 5.\n"
          ]
        },
        {
          "output_type": "stream",
          "name": "stderr",
          "text": [
            "/usr/local/lib/python3.9/dist-packages/lightgbm/engine.py:239: UserWarning:\n",
            "\n",
            "'verbose_eval' argument is deprecated and will be removed in a future release of LightGBM. Pass 'log_evaluation()' callback via 'callbacks' argument instead.\n",
            "\n",
            "/usr/local/lib/python3.9/dist-packages/lightgbm/basic.py:1780: UserWarning:\n",
            "\n",
            "Overriding the parameters from Reference Dataset.\n",
            "\n",
            "/usr/local/lib/python3.9/dist-packages/lightgbm/basic.py:1513: UserWarning:\n",
            "\n",
            "categorical_column in param dict is overridden.\n",
            "\n",
            "\u001b[32m[I 2023-03-22 22:22:21,338]\u001b[0m Trial 70 pruned. Trial was pruned at iteration 5.\u001b[0m\n"
          ]
        },
        {
          "output_type": "stream",
          "name": "stdout",
          "text": [
            "Trial 70 pruned. Trial was pruned at iteration 5.\n",
            "Trial 70 pruned. Trial was pruned at iteration 5.\n"
          ]
        },
        {
          "output_type": "stream",
          "name": "stderr",
          "text": [
            "/usr/local/lib/python3.9/dist-packages/lightgbm/engine.py:239: UserWarning:\n",
            "\n",
            "'verbose_eval' argument is deprecated and will be removed in a future release of LightGBM. Pass 'log_evaluation()' callback via 'callbacks' argument instead.\n",
            "\n",
            "/usr/local/lib/python3.9/dist-packages/lightgbm/basic.py:1780: UserWarning:\n",
            "\n",
            "Overriding the parameters from Reference Dataset.\n",
            "\n",
            "/usr/local/lib/python3.9/dist-packages/lightgbm/basic.py:1513: UserWarning:\n",
            "\n",
            "categorical_column in param dict is overridden.\n",
            "\n",
            "\u001b[32m[I 2023-03-22 22:22:21,516]\u001b[0m Trial 71 pruned. Trial was pruned at iteration 24.\u001b[0m\n"
          ]
        },
        {
          "output_type": "stream",
          "name": "stdout",
          "text": [
            "Trial 71 pruned. Trial was pruned at iteration 24.\n",
            "Trial 71 pruned. Trial was pruned at iteration 24.\n"
          ]
        },
        {
          "output_type": "stream",
          "name": "stderr",
          "text": [
            "/usr/local/lib/python3.9/dist-packages/lightgbm/engine.py:239: UserWarning:\n",
            "\n",
            "'verbose_eval' argument is deprecated and will be removed in a future release of LightGBM. Pass 'log_evaluation()' callback via 'callbacks' argument instead.\n",
            "\n",
            "/usr/local/lib/python3.9/dist-packages/lightgbm/basic.py:1780: UserWarning:\n",
            "\n",
            "Overriding the parameters from Reference Dataset.\n",
            "\n",
            "/usr/local/lib/python3.9/dist-packages/lightgbm/basic.py:1513: UserWarning:\n",
            "\n",
            "categorical_column in param dict is overridden.\n",
            "\n",
            "\u001b[32m[I 2023-03-22 22:22:21,628]\u001b[0m Trial 72 pruned. Trial was pruned at iteration 7.\u001b[0m\n"
          ]
        },
        {
          "output_type": "stream",
          "name": "stdout",
          "text": [
            "Trial 72 pruned. Trial was pruned at iteration 7.\n",
            "Trial 72 pruned. Trial was pruned at iteration 7.\n"
          ]
        },
        {
          "output_type": "stream",
          "name": "stderr",
          "text": [
            "/usr/local/lib/python3.9/dist-packages/lightgbm/engine.py:239: UserWarning:\n",
            "\n",
            "'verbose_eval' argument is deprecated and will be removed in a future release of LightGBM. Pass 'log_evaluation()' callback via 'callbacks' argument instead.\n",
            "\n",
            "/usr/local/lib/python3.9/dist-packages/lightgbm/basic.py:1780: UserWarning:\n",
            "\n",
            "Overriding the parameters from Reference Dataset.\n",
            "\n",
            "/usr/local/lib/python3.9/dist-packages/lightgbm/basic.py:1513: UserWarning:\n",
            "\n",
            "categorical_column in param dict is overridden.\n",
            "\n",
            "\u001b[32m[I 2023-03-22 22:22:21,741]\u001b[0m Trial 73 pruned. Trial was pruned at iteration 5.\u001b[0m\n"
          ]
        },
        {
          "output_type": "stream",
          "name": "stdout",
          "text": [
            "Trial 73 pruned. Trial was pruned at iteration 5.\n",
            "Trial 73 pruned. Trial was pruned at iteration 5.\n"
          ]
        },
        {
          "output_type": "stream",
          "name": "stderr",
          "text": [
            "/usr/local/lib/python3.9/dist-packages/lightgbm/engine.py:239: UserWarning:\n",
            "\n",
            "'verbose_eval' argument is deprecated and will be removed in a future release of LightGBM. Pass 'log_evaluation()' callback via 'callbacks' argument instead.\n",
            "\n",
            "/usr/local/lib/python3.9/dist-packages/lightgbm/basic.py:1780: UserWarning:\n",
            "\n",
            "Overriding the parameters from Reference Dataset.\n",
            "\n",
            "/usr/local/lib/python3.9/dist-packages/lightgbm/basic.py:1513: UserWarning:\n",
            "\n",
            "categorical_column in param dict is overridden.\n",
            "\n",
            "\u001b[32m[I 2023-03-22 22:22:21,858]\u001b[0m Trial 74 pruned. Trial was pruned at iteration 7.\u001b[0m\n"
          ]
        },
        {
          "output_type": "stream",
          "name": "stdout",
          "text": [
            "Trial 74 pruned. Trial was pruned at iteration 7.\n",
            "Trial 74 pruned. Trial was pruned at iteration 7.\n"
          ]
        },
        {
          "output_type": "stream",
          "name": "stderr",
          "text": [
            "/usr/local/lib/python3.9/dist-packages/lightgbm/engine.py:239: UserWarning:\n",
            "\n",
            "'verbose_eval' argument is deprecated and will be removed in a future release of LightGBM. Pass 'log_evaluation()' callback via 'callbacks' argument instead.\n",
            "\n",
            "/usr/local/lib/python3.9/dist-packages/lightgbm/basic.py:1780: UserWarning:\n",
            "\n",
            "Overriding the parameters from Reference Dataset.\n",
            "\n",
            "/usr/local/lib/python3.9/dist-packages/lightgbm/basic.py:1513: UserWarning:\n",
            "\n",
            "categorical_column in param dict is overridden.\n",
            "\n",
            "\u001b[32m[I 2023-03-22 22:22:21,975]\u001b[0m Trial 75 pruned. Trial was pruned at iteration 5.\u001b[0m\n"
          ]
        },
        {
          "output_type": "stream",
          "name": "stdout",
          "text": [
            "Trial 75 pruned. Trial was pruned at iteration 5.\n",
            "Trial 75 pruned. Trial was pruned at iteration 5.\n"
          ]
        },
        {
          "output_type": "stream",
          "name": "stderr",
          "text": [
            "/usr/local/lib/python3.9/dist-packages/lightgbm/engine.py:239: UserWarning:\n",
            "\n",
            "'verbose_eval' argument is deprecated and will be removed in a future release of LightGBM. Pass 'log_evaluation()' callback via 'callbacks' argument instead.\n",
            "\n",
            "/usr/local/lib/python3.9/dist-packages/lightgbm/basic.py:1780: UserWarning:\n",
            "\n",
            "Overriding the parameters from Reference Dataset.\n",
            "\n",
            "/usr/local/lib/python3.9/dist-packages/lightgbm/basic.py:1513: UserWarning:\n",
            "\n",
            "categorical_column in param dict is overridden.\n",
            "\n",
            "\u001b[32m[I 2023-03-22 22:22:22,087]\u001b[0m Trial 76 pruned. Trial was pruned at iteration 7.\u001b[0m\n"
          ]
        },
        {
          "output_type": "stream",
          "name": "stdout",
          "text": [
            "Trial 76 pruned. Trial was pruned at iteration 7.\n",
            "Trial 76 pruned. Trial was pruned at iteration 7.\n"
          ]
        },
        {
          "output_type": "stream",
          "name": "stderr",
          "text": [
            "/usr/local/lib/python3.9/dist-packages/lightgbm/engine.py:239: UserWarning:\n",
            "\n",
            "'verbose_eval' argument is deprecated and will be removed in a future release of LightGBM. Pass 'log_evaluation()' callback via 'callbacks' argument instead.\n",
            "\n",
            "/usr/local/lib/python3.9/dist-packages/lightgbm/basic.py:1780: UserWarning:\n",
            "\n",
            "Overriding the parameters from Reference Dataset.\n",
            "\n",
            "/usr/local/lib/python3.9/dist-packages/lightgbm/basic.py:1513: UserWarning:\n",
            "\n",
            "categorical_column in param dict is overridden.\n",
            "\n",
            "\u001b[32m[I 2023-03-22 22:22:22,162]\u001b[0m Trial 77 pruned. Trial was pruned at iteration 0.\u001b[0m\n"
          ]
        },
        {
          "output_type": "stream",
          "name": "stdout",
          "text": [
            "Trial 77 pruned. Trial was pruned at iteration 0.\n",
            "Trial 77 pruned. Trial was pruned at iteration 0.\n"
          ]
        },
        {
          "output_type": "stream",
          "name": "stderr",
          "text": [
            "/usr/local/lib/python3.9/dist-packages/lightgbm/engine.py:239: UserWarning:\n",
            "\n",
            "'verbose_eval' argument is deprecated and will be removed in a future release of LightGBM. Pass 'log_evaluation()' callback via 'callbacks' argument instead.\n",
            "\n",
            "/usr/local/lib/python3.9/dist-packages/lightgbm/basic.py:1780: UserWarning:\n",
            "\n",
            "Overriding the parameters from Reference Dataset.\n",
            "\n",
            "/usr/local/lib/python3.9/dist-packages/lightgbm/basic.py:1513: UserWarning:\n",
            "\n",
            "categorical_column in param dict is overridden.\n",
            "\n",
            "\u001b[32m[I 2023-03-22 22:22:22,243]\u001b[0m Trial 78 pruned. Trial was pruned at iteration 7.\u001b[0m\n"
          ]
        },
        {
          "output_type": "stream",
          "name": "stdout",
          "text": [
            "Trial 78 pruned. Trial was pruned at iteration 7.\n",
            "Trial 78 pruned. Trial was pruned at iteration 7.\n"
          ]
        },
        {
          "output_type": "stream",
          "name": "stderr",
          "text": [
            "/usr/local/lib/python3.9/dist-packages/lightgbm/engine.py:239: UserWarning:\n",
            "\n",
            "'verbose_eval' argument is deprecated and will be removed in a future release of LightGBM. Pass 'log_evaluation()' callback via 'callbacks' argument instead.\n",
            "\n",
            "/usr/local/lib/python3.9/dist-packages/lightgbm/basic.py:1780: UserWarning:\n",
            "\n",
            "Overriding the parameters from Reference Dataset.\n",
            "\n",
            "/usr/local/lib/python3.9/dist-packages/lightgbm/basic.py:1513: UserWarning:\n",
            "\n",
            "categorical_column in param dict is overridden.\n",
            "\n",
            "\u001b[32m[I 2023-03-22 22:22:22,308]\u001b[0m Trial 79 pruned. Trial was pruned at iteration 0.\u001b[0m\n"
          ]
        },
        {
          "output_type": "stream",
          "name": "stdout",
          "text": [
            "Trial 79 pruned. Trial was pruned at iteration 0.\n",
            "Trial 79 pruned. Trial was pruned at iteration 0.\n"
          ]
        },
        {
          "output_type": "stream",
          "name": "stderr",
          "text": [
            "/usr/local/lib/python3.9/dist-packages/lightgbm/engine.py:239: UserWarning:\n",
            "\n",
            "'verbose_eval' argument is deprecated and will be removed in a future release of LightGBM. Pass 'log_evaluation()' callback via 'callbacks' argument instead.\n",
            "\n",
            "/usr/local/lib/python3.9/dist-packages/lightgbm/basic.py:1780: UserWarning:\n",
            "\n",
            "Overriding the parameters from Reference Dataset.\n",
            "\n",
            "/usr/local/lib/python3.9/dist-packages/lightgbm/basic.py:1513: UserWarning:\n",
            "\n",
            "categorical_column in param dict is overridden.\n",
            "\n",
            "\u001b[32m[I 2023-03-22 22:22:22,365]\u001b[0m Trial 80 pruned. Trial was pruned at iteration 1.\u001b[0m\n"
          ]
        },
        {
          "output_type": "stream",
          "name": "stdout",
          "text": [
            "Trial 80 pruned. Trial was pruned at iteration 1.\n",
            "Trial 80 pruned. Trial was pruned at iteration 1.\n"
          ]
        },
        {
          "output_type": "stream",
          "name": "stderr",
          "text": [
            "/usr/local/lib/python3.9/dist-packages/lightgbm/engine.py:239: UserWarning:\n",
            "\n",
            "'verbose_eval' argument is deprecated and will be removed in a future release of LightGBM. Pass 'log_evaluation()' callback via 'callbacks' argument instead.\n",
            "\n",
            "/usr/local/lib/python3.9/dist-packages/lightgbm/basic.py:1780: UserWarning:\n",
            "\n",
            "Overriding the parameters from Reference Dataset.\n",
            "\n",
            "/usr/local/lib/python3.9/dist-packages/lightgbm/basic.py:1513: UserWarning:\n",
            "\n",
            "categorical_column in param dict is overridden.\n",
            "\n",
            "\u001b[32m[I 2023-03-22 22:22:22,424]\u001b[0m Trial 81 pruned. Trial was pruned at iteration 0.\u001b[0m\n"
          ]
        },
        {
          "output_type": "stream",
          "name": "stdout",
          "text": [
            "Trial 81 pruned. Trial was pruned at iteration 0.\n",
            "Trial 81 pruned. Trial was pruned at iteration 0.\n"
          ]
        },
        {
          "output_type": "stream",
          "name": "stderr",
          "text": [
            "/usr/local/lib/python3.9/dist-packages/lightgbm/engine.py:239: UserWarning:\n",
            "\n",
            "'verbose_eval' argument is deprecated and will be removed in a future release of LightGBM. Pass 'log_evaluation()' callback via 'callbacks' argument instead.\n",
            "\n",
            "/usr/local/lib/python3.9/dist-packages/lightgbm/basic.py:1780: UserWarning:\n",
            "\n",
            "Overriding the parameters from Reference Dataset.\n",
            "\n",
            "/usr/local/lib/python3.9/dist-packages/lightgbm/basic.py:1513: UserWarning:\n",
            "\n",
            "categorical_column in param dict is overridden.\n",
            "\n",
            "\u001b[32m[I 2023-03-22 22:22:22,488]\u001b[0m Trial 82 pruned. Trial was pruned at iteration 0.\u001b[0m\n"
          ]
        },
        {
          "output_type": "stream",
          "name": "stdout",
          "text": [
            "Trial 82 pruned. Trial was pruned at iteration 0.\n",
            "Trial 82 pruned. Trial was pruned at iteration 0.\n"
          ]
        },
        {
          "output_type": "stream",
          "name": "stderr",
          "text": [
            "/usr/local/lib/python3.9/dist-packages/lightgbm/engine.py:239: UserWarning:\n",
            "\n",
            "'verbose_eval' argument is deprecated and will be removed in a future release of LightGBM. Pass 'log_evaluation()' callback via 'callbacks' argument instead.\n",
            "\n",
            "/usr/local/lib/python3.9/dist-packages/lightgbm/basic.py:1780: UserWarning:\n",
            "\n",
            "Overriding the parameters from Reference Dataset.\n",
            "\n",
            "/usr/local/lib/python3.9/dist-packages/lightgbm/basic.py:1513: UserWarning:\n",
            "\n",
            "categorical_column in param dict is overridden.\n",
            "\n",
            "\u001b[32m[I 2023-03-22 22:22:22,550]\u001b[0m Trial 83 pruned. Trial was pruned at iteration 0.\u001b[0m\n"
          ]
        },
        {
          "output_type": "stream",
          "name": "stdout",
          "text": [
            "Trial 83 pruned. Trial was pruned at iteration 0.\n",
            "Trial 83 pruned. Trial was pruned at iteration 0.\n"
          ]
        },
        {
          "output_type": "stream",
          "name": "stderr",
          "text": [
            "/usr/local/lib/python3.9/dist-packages/lightgbm/engine.py:239: UserWarning:\n",
            "\n",
            "'verbose_eval' argument is deprecated and will be removed in a future release of LightGBM. Pass 'log_evaluation()' callback via 'callbacks' argument instead.\n",
            "\n",
            "/usr/local/lib/python3.9/dist-packages/lightgbm/basic.py:1780: UserWarning:\n",
            "\n",
            "Overriding the parameters from Reference Dataset.\n",
            "\n",
            "/usr/local/lib/python3.9/dist-packages/lightgbm/basic.py:1513: UserWarning:\n",
            "\n",
            "categorical_column in param dict is overridden.\n",
            "\n",
            "\u001b[32m[I 2023-03-22 22:22:22,607]\u001b[0m Trial 84 pruned. Trial was pruned at iteration 0.\u001b[0m\n"
          ]
        },
        {
          "output_type": "stream",
          "name": "stdout",
          "text": [
            "Trial 84 pruned. Trial was pruned at iteration 0.\n",
            "Trial 84 pruned. Trial was pruned at iteration 0.\n"
          ]
        },
        {
          "output_type": "stream",
          "name": "stderr",
          "text": [
            "/usr/local/lib/python3.9/dist-packages/lightgbm/engine.py:239: UserWarning:\n",
            "\n",
            "'verbose_eval' argument is deprecated and will be removed in a future release of LightGBM. Pass 'log_evaluation()' callback via 'callbacks' argument instead.\n",
            "\n",
            "/usr/local/lib/python3.9/dist-packages/lightgbm/basic.py:1780: UserWarning:\n",
            "\n",
            "Overriding the parameters from Reference Dataset.\n",
            "\n",
            "/usr/local/lib/python3.9/dist-packages/lightgbm/basic.py:1513: UserWarning:\n",
            "\n",
            "categorical_column in param dict is overridden.\n",
            "\n",
            "\u001b[32m[I 2023-03-22 22:22:22,667]\u001b[0m Trial 85 pruned. Trial was pruned at iteration 0.\u001b[0m\n"
          ]
        },
        {
          "output_type": "stream",
          "name": "stdout",
          "text": [
            "Trial 85 pruned. Trial was pruned at iteration 0.\n",
            "Trial 85 pruned. Trial was pruned at iteration 0.\n"
          ]
        },
        {
          "output_type": "stream",
          "name": "stderr",
          "text": [
            "/usr/local/lib/python3.9/dist-packages/lightgbm/engine.py:239: UserWarning:\n",
            "\n",
            "'verbose_eval' argument is deprecated and will be removed in a future release of LightGBM. Pass 'log_evaluation()' callback via 'callbacks' argument instead.\n",
            "\n",
            "/usr/local/lib/python3.9/dist-packages/lightgbm/basic.py:1780: UserWarning:\n",
            "\n",
            "Overriding the parameters from Reference Dataset.\n",
            "\n",
            "/usr/local/lib/python3.9/dist-packages/lightgbm/basic.py:1513: UserWarning:\n",
            "\n",
            "categorical_column in param dict is overridden.\n",
            "\n",
            "\u001b[32m[I 2023-03-22 22:22:22,724]\u001b[0m Trial 86 pruned. Trial was pruned at iteration 0.\u001b[0m\n"
          ]
        },
        {
          "output_type": "stream",
          "name": "stdout",
          "text": [
            "Trial 86 pruned. Trial was pruned at iteration 0.\n",
            "Trial 86 pruned. Trial was pruned at iteration 0.\n"
          ]
        },
        {
          "output_type": "stream",
          "name": "stderr",
          "text": [
            "/usr/local/lib/python3.9/dist-packages/lightgbm/engine.py:239: UserWarning:\n",
            "\n",
            "'verbose_eval' argument is deprecated and will be removed in a future release of LightGBM. Pass 'log_evaluation()' callback via 'callbacks' argument instead.\n",
            "\n",
            "/usr/local/lib/python3.9/dist-packages/lightgbm/basic.py:1780: UserWarning:\n",
            "\n",
            "Overriding the parameters from Reference Dataset.\n",
            "\n",
            "/usr/local/lib/python3.9/dist-packages/lightgbm/basic.py:1513: UserWarning:\n",
            "\n",
            "categorical_column in param dict is overridden.\n",
            "\n",
            "\u001b[32m[I 2023-03-22 22:22:22,783]\u001b[0m Trial 87 pruned. Trial was pruned at iteration 0.\u001b[0m\n"
          ]
        },
        {
          "output_type": "stream",
          "name": "stdout",
          "text": [
            "Trial 87 pruned. Trial was pruned at iteration 0.\n",
            "Trial 87 pruned. Trial was pruned at iteration 0.\n"
          ]
        },
        {
          "output_type": "stream",
          "name": "stderr",
          "text": [
            "/usr/local/lib/python3.9/dist-packages/lightgbm/engine.py:239: UserWarning:\n",
            "\n",
            "'verbose_eval' argument is deprecated and will be removed in a future release of LightGBM. Pass 'log_evaluation()' callback via 'callbacks' argument instead.\n",
            "\n",
            "/usr/local/lib/python3.9/dist-packages/lightgbm/basic.py:1780: UserWarning:\n",
            "\n",
            "Overriding the parameters from Reference Dataset.\n",
            "\n",
            "/usr/local/lib/python3.9/dist-packages/lightgbm/basic.py:1513: UserWarning:\n",
            "\n",
            "categorical_column in param dict is overridden.\n",
            "\n",
            "\u001b[32m[I 2023-03-22 22:22:22,852]\u001b[0m Trial 88 pruned. Trial was pruned at iteration 1.\u001b[0m\n"
          ]
        },
        {
          "output_type": "stream",
          "name": "stdout",
          "text": [
            "Trial 88 pruned. Trial was pruned at iteration 1.\n",
            "Trial 88 pruned. Trial was pruned at iteration 1.\n"
          ]
        },
        {
          "output_type": "stream",
          "name": "stderr",
          "text": [
            "/usr/local/lib/python3.9/dist-packages/lightgbm/engine.py:239: UserWarning:\n",
            "\n",
            "'verbose_eval' argument is deprecated and will be removed in a future release of LightGBM. Pass 'log_evaluation()' callback via 'callbacks' argument instead.\n",
            "\n",
            "/usr/local/lib/python3.9/dist-packages/lightgbm/basic.py:1780: UserWarning:\n",
            "\n",
            "Overriding the parameters from Reference Dataset.\n",
            "\n",
            "/usr/local/lib/python3.9/dist-packages/lightgbm/basic.py:1513: UserWarning:\n",
            "\n",
            "categorical_column in param dict is overridden.\n",
            "\n",
            "\u001b[32m[I 2023-03-22 22:22:22,912]\u001b[0m Trial 89 pruned. Trial was pruned at iteration 1.\u001b[0m\n"
          ]
        },
        {
          "output_type": "stream",
          "name": "stdout",
          "text": [
            "Trial 89 pruned. Trial was pruned at iteration 1.\n",
            "Trial 89 pruned. Trial was pruned at iteration 1.\n"
          ]
        },
        {
          "output_type": "stream",
          "name": "stderr",
          "text": [
            "/usr/local/lib/python3.9/dist-packages/lightgbm/engine.py:239: UserWarning:\n",
            "\n",
            "'verbose_eval' argument is deprecated and will be removed in a future release of LightGBM. Pass 'log_evaluation()' callback via 'callbacks' argument instead.\n",
            "\n",
            "/usr/local/lib/python3.9/dist-packages/lightgbm/basic.py:1780: UserWarning:\n",
            "\n",
            "Overriding the parameters from Reference Dataset.\n",
            "\n",
            "/usr/local/lib/python3.9/dist-packages/lightgbm/basic.py:1513: UserWarning:\n",
            "\n",
            "categorical_column in param dict is overridden.\n",
            "\n",
            "\u001b[32m[I 2023-03-22 22:22:23,010]\u001b[0m Trial 90 pruned. Trial was pruned at iteration 10.\u001b[0m\n"
          ]
        },
        {
          "output_type": "stream",
          "name": "stdout",
          "text": [
            "Trial 90 pruned. Trial was pruned at iteration 10.\n",
            "Trial 90 pruned. Trial was pruned at iteration 10.\n"
          ]
        },
        {
          "output_type": "stream",
          "name": "stderr",
          "text": [
            "/usr/local/lib/python3.9/dist-packages/lightgbm/engine.py:239: UserWarning:\n",
            "\n",
            "'verbose_eval' argument is deprecated and will be removed in a future release of LightGBM. Pass 'log_evaluation()' callback via 'callbacks' argument instead.\n",
            "\n",
            "/usr/local/lib/python3.9/dist-packages/lightgbm/basic.py:1780: UserWarning:\n",
            "\n",
            "Overriding the parameters from Reference Dataset.\n",
            "\n",
            "/usr/local/lib/python3.9/dist-packages/lightgbm/basic.py:1513: UserWarning:\n",
            "\n",
            "categorical_column in param dict is overridden.\n",
            "\n",
            "\u001b[32m[I 2023-03-22 22:22:23,069]\u001b[0m Trial 91 pruned. Trial was pruned at iteration 0.\u001b[0m\n"
          ]
        },
        {
          "output_type": "stream",
          "name": "stdout",
          "text": [
            "Trial 91 pruned. Trial was pruned at iteration 0.\n",
            "Trial 91 pruned. Trial was pruned at iteration 0.\n"
          ]
        },
        {
          "output_type": "stream",
          "name": "stderr",
          "text": [
            "/usr/local/lib/python3.9/dist-packages/lightgbm/engine.py:239: UserWarning:\n",
            "\n",
            "'verbose_eval' argument is deprecated and will be removed in a future release of LightGBM. Pass 'log_evaluation()' callback via 'callbacks' argument instead.\n",
            "\n",
            "/usr/local/lib/python3.9/dist-packages/lightgbm/basic.py:1780: UserWarning:\n",
            "\n",
            "Overriding the parameters from Reference Dataset.\n",
            "\n",
            "/usr/local/lib/python3.9/dist-packages/lightgbm/basic.py:1513: UserWarning:\n",
            "\n",
            "categorical_column in param dict is overridden.\n",
            "\n",
            "\u001b[32m[I 2023-03-22 22:22:23,125]\u001b[0m Trial 92 pruned. Trial was pruned at iteration 0.\u001b[0m\n"
          ]
        },
        {
          "output_type": "stream",
          "name": "stdout",
          "text": [
            "Trial 92 pruned. Trial was pruned at iteration 0.\n",
            "Trial 92 pruned. Trial was pruned at iteration 0.\n"
          ]
        },
        {
          "output_type": "stream",
          "name": "stderr",
          "text": [
            "/usr/local/lib/python3.9/dist-packages/lightgbm/engine.py:239: UserWarning:\n",
            "\n",
            "'verbose_eval' argument is deprecated and will be removed in a future release of LightGBM. Pass 'log_evaluation()' callback via 'callbacks' argument instead.\n",
            "\n",
            "/usr/local/lib/python3.9/dist-packages/lightgbm/basic.py:1780: UserWarning:\n",
            "\n",
            "Overriding the parameters from Reference Dataset.\n",
            "\n",
            "/usr/local/lib/python3.9/dist-packages/lightgbm/basic.py:1513: UserWarning:\n",
            "\n",
            "categorical_column in param dict is overridden.\n",
            "\n",
            "\u001b[32m[I 2023-03-22 22:22:23,184]\u001b[0m Trial 93 pruned. Trial was pruned at iteration 0.\u001b[0m\n"
          ]
        },
        {
          "output_type": "stream",
          "name": "stdout",
          "text": [
            "Trial 93 pruned. Trial was pruned at iteration 0.\n",
            "Trial 93 pruned. Trial was pruned at iteration 0.\n"
          ]
        },
        {
          "output_type": "stream",
          "name": "stderr",
          "text": [
            "/usr/local/lib/python3.9/dist-packages/lightgbm/engine.py:239: UserWarning:\n",
            "\n",
            "'verbose_eval' argument is deprecated and will be removed in a future release of LightGBM. Pass 'log_evaluation()' callback via 'callbacks' argument instead.\n",
            "\n",
            "/usr/local/lib/python3.9/dist-packages/lightgbm/basic.py:1780: UserWarning:\n",
            "\n",
            "Overriding the parameters from Reference Dataset.\n",
            "\n",
            "/usr/local/lib/python3.9/dist-packages/lightgbm/basic.py:1513: UserWarning:\n",
            "\n",
            "categorical_column in param dict is overridden.\n",
            "\n",
            "\u001b[32m[I 2023-03-22 22:22:23,245]\u001b[0m Trial 94 pruned. Trial was pruned at iteration 0.\u001b[0m\n"
          ]
        },
        {
          "output_type": "stream",
          "name": "stdout",
          "text": [
            "Trial 94 pruned. Trial was pruned at iteration 0.\n",
            "Trial 94 pruned. Trial was pruned at iteration 0.\n"
          ]
        },
        {
          "output_type": "stream",
          "name": "stderr",
          "text": [
            "/usr/local/lib/python3.9/dist-packages/lightgbm/engine.py:239: UserWarning:\n",
            "\n",
            "'verbose_eval' argument is deprecated and will be removed in a future release of LightGBM. Pass 'log_evaluation()' callback via 'callbacks' argument instead.\n",
            "\n",
            "/usr/local/lib/python3.9/dist-packages/lightgbm/basic.py:1780: UserWarning:\n",
            "\n",
            "Overriding the parameters from Reference Dataset.\n",
            "\n",
            "/usr/local/lib/python3.9/dist-packages/lightgbm/basic.py:1513: UserWarning:\n",
            "\n",
            "categorical_column in param dict is overridden.\n",
            "\n",
            "\u001b[32m[I 2023-03-22 22:22:23,307]\u001b[0m Trial 95 pruned. Trial was pruned at iteration 0.\u001b[0m\n"
          ]
        },
        {
          "output_type": "stream",
          "name": "stdout",
          "text": [
            "Trial 95 pruned. Trial was pruned at iteration 0.\n",
            "Trial 95 pruned. Trial was pruned at iteration 0.\n"
          ]
        },
        {
          "output_type": "stream",
          "name": "stderr",
          "text": [
            "/usr/local/lib/python3.9/dist-packages/lightgbm/engine.py:239: UserWarning:\n",
            "\n",
            "'verbose_eval' argument is deprecated and will be removed in a future release of LightGBM. Pass 'log_evaluation()' callback via 'callbacks' argument instead.\n",
            "\n",
            "/usr/local/lib/python3.9/dist-packages/lightgbm/basic.py:1780: UserWarning:\n",
            "\n",
            "Overriding the parameters from Reference Dataset.\n",
            "\n",
            "/usr/local/lib/python3.9/dist-packages/lightgbm/basic.py:1513: UserWarning:\n",
            "\n",
            "categorical_column in param dict is overridden.\n",
            "\n",
            "\u001b[32m[I 2023-03-22 22:22:23,375]\u001b[0m Trial 96 pruned. Trial was pruned at iteration 0.\u001b[0m\n"
          ]
        },
        {
          "output_type": "stream",
          "name": "stdout",
          "text": [
            "Trial 96 pruned. Trial was pruned at iteration 0.\n",
            "Trial 96 pruned. Trial was pruned at iteration 0.\n"
          ]
        },
        {
          "output_type": "stream",
          "name": "stderr",
          "text": [
            "/usr/local/lib/python3.9/dist-packages/lightgbm/engine.py:239: UserWarning:\n",
            "\n",
            "'verbose_eval' argument is deprecated and will be removed in a future release of LightGBM. Pass 'log_evaluation()' callback via 'callbacks' argument instead.\n",
            "\n",
            "/usr/local/lib/python3.9/dist-packages/lightgbm/basic.py:1780: UserWarning:\n",
            "\n",
            "Overriding the parameters from Reference Dataset.\n",
            "\n",
            "/usr/local/lib/python3.9/dist-packages/lightgbm/basic.py:1513: UserWarning:\n",
            "\n",
            "categorical_column in param dict is overridden.\n",
            "\n",
            "\u001b[32m[I 2023-03-22 22:22:23,433]\u001b[0m Trial 97 pruned. Trial was pruned at iteration 0.\u001b[0m\n"
          ]
        },
        {
          "output_type": "stream",
          "name": "stdout",
          "text": [
            "Trial 97 pruned. Trial was pruned at iteration 0.\n",
            "Trial 97 pruned. Trial was pruned at iteration 0.\n"
          ]
        },
        {
          "output_type": "stream",
          "name": "stderr",
          "text": [
            "/usr/local/lib/python3.9/dist-packages/lightgbm/engine.py:239: UserWarning:\n",
            "\n",
            "'verbose_eval' argument is deprecated and will be removed in a future release of LightGBM. Pass 'log_evaluation()' callback via 'callbacks' argument instead.\n",
            "\n",
            "/usr/local/lib/python3.9/dist-packages/lightgbm/basic.py:1780: UserWarning:\n",
            "\n",
            "Overriding the parameters from Reference Dataset.\n",
            "\n",
            "/usr/local/lib/python3.9/dist-packages/lightgbm/basic.py:1513: UserWarning:\n",
            "\n",
            "categorical_column in param dict is overridden.\n",
            "\n",
            "\u001b[32m[I 2023-03-22 22:22:23,488]\u001b[0m Trial 98 pruned. Trial was pruned at iteration 0.\u001b[0m\n"
          ]
        },
        {
          "output_type": "stream",
          "name": "stdout",
          "text": [
            "Trial 98 pruned. Trial was pruned at iteration 0.\n",
            "Trial 98 pruned. Trial was pruned at iteration 0.\n"
          ]
        },
        {
          "output_type": "stream",
          "name": "stderr",
          "text": [
            "/usr/local/lib/python3.9/dist-packages/lightgbm/engine.py:239: UserWarning:\n",
            "\n",
            "'verbose_eval' argument is deprecated and will be removed in a future release of LightGBM. Pass 'log_evaluation()' callback via 'callbacks' argument instead.\n",
            "\n",
            "/usr/local/lib/python3.9/dist-packages/lightgbm/basic.py:1780: UserWarning:\n",
            "\n",
            "Overriding the parameters from Reference Dataset.\n",
            "\n",
            "/usr/local/lib/python3.9/dist-packages/lightgbm/basic.py:1513: UserWarning:\n",
            "\n",
            "categorical_column in param dict is overridden.\n",
            "\n",
            "\u001b[32m[I 2023-03-22 22:22:23,547]\u001b[0m Trial 99 pruned. Trial was pruned at iteration 0.\u001b[0m\n"
          ]
        },
        {
          "output_type": "stream",
          "name": "stdout",
          "text": [
            "Trial 99 pruned. Trial was pruned at iteration 0.\n",
            "Trial 99 pruned. Trial was pruned at iteration 0.\n",
            "\n",
            "\n",
            "\n",
            "Number of finished trials: 100\n",
            "Best trial:\n",
            "  Value: 0.7944785276073619\n",
            "  Params: \n",
            "    bagging_fraction: 0.9753109502877655\n",
            "    bagging_freq: 6\n",
            "    min_child_samples: 92\n",
            "Return a dictionary of parameter name and parameter values:\n",
            " {'bagging_fraction': 0.9753109502877655, 'bagging_freq': 6, 'min_child_samples': 92}\n",
            "Return the best observed value of the objective function:\n",
            " 0.7944785276073619\n"
          ]
        }
      ]
    },
    {
      "cell_type": "code",
      "source": [
        "# Visualize the optimization history. See :func:`~optuna.visualization.plot_optimization_history` for the details.\n",
        "plot_optimization_history(study)"
      ],
      "metadata": {
        "colab": {
          "base_uri": "https://localhost:8080/",
          "height": 542
        },
        "id": "dQsoMVMXNuRy",
        "outputId": "1ceb2719-ef48-4ac5-f1b1-95de253d1184"
      },
      "execution_count": 45,
      "outputs": [
        {
          "output_type": "display_data",
          "data": {
            "text/html": [
              "<html>\n",
              "<head><meta charset=\"utf-8\" /></head>\n",
              "<body>\n",
              "    <div>            <script src=\"https://cdnjs.cloudflare.com/ajax/libs/mathjax/2.7.5/MathJax.js?config=TeX-AMS-MML_SVG\"></script><script type=\"text/javascript\">if (window.MathJax && window.MathJax.Hub && window.MathJax.Hub.Config) {window.MathJax.Hub.Config({SVG: {font: \"STIX-Web\"}});}</script>                <script type=\"text/javascript\">window.PlotlyConfig = {MathJaxConfig: 'local'};</script>\n",
              "        <script src=\"https://cdn.plot.ly/plotly-2.18.2.min.js\"></script>                <div id=\"803cfffe-ca4e-4fe5-b6ef-eab4ac9a61fe\" class=\"plotly-graph-div\" style=\"height:525px; width:100%;\"></div>            <script type=\"text/javascript\">                                    window.PLOTLYENV=window.PLOTLYENV || {};                                    if (document.getElementById(\"803cfffe-ca4e-4fe5-b6ef-eab4ac9a61fe\")) {                    Plotly.newPlot(                        \"803cfffe-ca4e-4fe5-b6ef-eab4ac9a61fe\",                        [{\"mode\":\"markers\",\"name\":\"Objective Value\",\"x\":[0,1,2,3,4,8,24,78],\"y\":[0.7891104294478528,0.7891104294478528,0.7883435582822086,0.7864263803680982,0.7887269938650306,0.7879601226993865,0.7879601226993865,0.7864263803680982],\"type\":\"scatter\"},{\"name\":\"Best Value\",\"x\":[0,1,2,3,4,8,24,78],\"y\":[0.7891104294478528,0.7891104294478528,0.7891104294478528,0.7891104294478528,0.7891104294478528,0.7891104294478528,0.7891104294478528,0.7891104294478528],\"type\":\"scatter\"}],                        {\"title\":{\"text\":\"Optimization History Plot\"},\"xaxis\":{\"title\":{\"text\":\"Trial\"}},\"yaxis\":{\"title\":{\"text\":\"Objective Value\"}},\"template\":{\"data\":{\"histogram2dcontour\":[{\"type\":\"histogram2dcontour\",\"colorbar\":{\"outlinewidth\":0,\"ticks\":\"\"},\"colorscale\":[[0.0,\"#0d0887\"],[0.1111111111111111,\"#46039f\"],[0.2222222222222222,\"#7201a8\"],[0.3333333333333333,\"#9c179e\"],[0.4444444444444444,\"#bd3786\"],[0.5555555555555556,\"#d8576b\"],[0.6666666666666666,\"#ed7953\"],[0.7777777777777778,\"#fb9f3a\"],[0.8888888888888888,\"#fdca26\"],[1.0,\"#f0f921\"]]}],\"choropleth\":[{\"type\":\"choropleth\",\"colorbar\":{\"outlinewidth\":0,\"ticks\":\"\"}}],\"histogram2d\":[{\"type\":\"histogram2d\",\"colorbar\":{\"outlinewidth\":0,\"ticks\":\"\"},\"colorscale\":[[0.0,\"#0d0887\"],[0.1111111111111111,\"#46039f\"],[0.2222222222222222,\"#7201a8\"],[0.3333333333333333,\"#9c179e\"],[0.4444444444444444,\"#bd3786\"],[0.5555555555555556,\"#d8576b\"],[0.6666666666666666,\"#ed7953\"],[0.7777777777777778,\"#fb9f3a\"],[0.8888888888888888,\"#fdca26\"],[1.0,\"#f0f921\"]]}],\"heatmap\":[{\"type\":\"heatmap\",\"colorbar\":{\"outlinewidth\":0,\"ticks\":\"\"},\"colorscale\":[[0.0,\"#0d0887\"],[0.1111111111111111,\"#46039f\"],[0.2222222222222222,\"#7201a8\"],[0.3333333333333333,\"#9c179e\"],[0.4444444444444444,\"#bd3786\"],[0.5555555555555556,\"#d8576b\"],[0.6666666666666666,\"#ed7953\"],[0.7777777777777778,\"#fb9f3a\"],[0.8888888888888888,\"#fdca26\"],[1.0,\"#f0f921\"]]}],\"heatmapgl\":[{\"type\":\"heatmapgl\",\"colorbar\":{\"outlinewidth\":0,\"ticks\":\"\"},\"colorscale\":[[0.0,\"#0d0887\"],[0.1111111111111111,\"#46039f\"],[0.2222222222222222,\"#7201a8\"],[0.3333333333333333,\"#9c179e\"],[0.4444444444444444,\"#bd3786\"],[0.5555555555555556,\"#d8576b\"],[0.6666666666666666,\"#ed7953\"],[0.7777777777777778,\"#fb9f3a\"],[0.8888888888888888,\"#fdca26\"],[1.0,\"#f0f921\"]]}],\"contourcarpet\":[{\"type\":\"contourcarpet\",\"colorbar\":{\"outlinewidth\":0,\"ticks\":\"\"}}],\"contour\":[{\"type\":\"contour\",\"colorbar\":{\"outlinewidth\":0,\"ticks\":\"\"},\"colorscale\":[[0.0,\"#0d0887\"],[0.1111111111111111,\"#46039f\"],[0.2222222222222222,\"#7201a8\"],[0.3333333333333333,\"#9c179e\"],[0.4444444444444444,\"#bd3786\"],[0.5555555555555556,\"#d8576b\"],[0.6666666666666666,\"#ed7953\"],[0.7777777777777778,\"#fb9f3a\"],[0.8888888888888888,\"#fdca26\"],[1.0,\"#f0f921\"]]}],\"surface\":[{\"type\":\"surface\",\"colorbar\":{\"outlinewidth\":0,\"ticks\":\"\"},\"colorscale\":[[0.0,\"#0d0887\"],[0.1111111111111111,\"#46039f\"],[0.2222222222222222,\"#7201a8\"],[0.3333333333333333,\"#9c179e\"],[0.4444444444444444,\"#bd3786\"],[0.5555555555555556,\"#d8576b\"],[0.6666666666666666,\"#ed7953\"],[0.7777777777777778,\"#fb9f3a\"],[0.8888888888888888,\"#fdca26\"],[1.0,\"#f0f921\"]]}],\"mesh3d\":[{\"type\":\"mesh3d\",\"colorbar\":{\"outlinewidth\":0,\"ticks\":\"\"}}],\"scatter\":[{\"fillpattern\":{\"fillmode\":\"overlay\",\"size\":10,\"solidity\":0.2},\"type\":\"scatter\"}],\"parcoords\":[{\"type\":\"parcoords\",\"line\":{\"colorbar\":{\"outlinewidth\":0,\"ticks\":\"\"}}}],\"scatterpolargl\":[{\"type\":\"scatterpolargl\",\"marker\":{\"colorbar\":{\"outlinewidth\":0,\"ticks\":\"\"}}}],\"bar\":[{\"error_x\":{\"color\":\"#2a3f5f\"},\"error_y\":{\"color\":\"#2a3f5f\"},\"marker\":{\"line\":{\"color\":\"#E5ECF6\",\"width\":0.5},\"pattern\":{\"fillmode\":\"overlay\",\"size\":10,\"solidity\":0.2}},\"type\":\"bar\"}],\"scattergeo\":[{\"type\":\"scattergeo\",\"marker\":{\"colorbar\":{\"outlinewidth\":0,\"ticks\":\"\"}}}],\"scatterpolar\":[{\"type\":\"scatterpolar\",\"marker\":{\"colorbar\":{\"outlinewidth\":0,\"ticks\":\"\"}}}],\"histogram\":[{\"marker\":{\"pattern\":{\"fillmode\":\"overlay\",\"size\":10,\"solidity\":0.2}},\"type\":\"histogram\"}],\"scattergl\":[{\"type\":\"scattergl\",\"marker\":{\"colorbar\":{\"outlinewidth\":0,\"ticks\":\"\"}}}],\"scatter3d\":[{\"type\":\"scatter3d\",\"line\":{\"colorbar\":{\"outlinewidth\":0,\"ticks\":\"\"}},\"marker\":{\"colorbar\":{\"outlinewidth\":0,\"ticks\":\"\"}}}],\"scattermapbox\":[{\"type\":\"scattermapbox\",\"marker\":{\"colorbar\":{\"outlinewidth\":0,\"ticks\":\"\"}}}],\"scatterternary\":[{\"type\":\"scatterternary\",\"marker\":{\"colorbar\":{\"outlinewidth\":0,\"ticks\":\"\"}}}],\"scattercarpet\":[{\"type\":\"scattercarpet\",\"marker\":{\"colorbar\":{\"outlinewidth\":0,\"ticks\":\"\"}}}],\"carpet\":[{\"aaxis\":{\"endlinecolor\":\"#2a3f5f\",\"gridcolor\":\"white\",\"linecolor\":\"white\",\"minorgridcolor\":\"white\",\"startlinecolor\":\"#2a3f5f\"},\"baxis\":{\"endlinecolor\":\"#2a3f5f\",\"gridcolor\":\"white\",\"linecolor\":\"white\",\"minorgridcolor\":\"white\",\"startlinecolor\":\"#2a3f5f\"},\"type\":\"carpet\"}],\"table\":[{\"cells\":{\"fill\":{\"color\":\"#EBF0F8\"},\"line\":{\"color\":\"white\"}},\"header\":{\"fill\":{\"color\":\"#C8D4E3\"},\"line\":{\"color\":\"white\"}},\"type\":\"table\"}],\"barpolar\":[{\"marker\":{\"line\":{\"color\":\"#E5ECF6\",\"width\":0.5},\"pattern\":{\"fillmode\":\"overlay\",\"size\":10,\"solidity\":0.2}},\"type\":\"barpolar\"}],\"pie\":[{\"automargin\":true,\"type\":\"pie\"}]},\"layout\":{\"autotypenumbers\":\"strict\",\"colorway\":[\"#636efa\",\"#EF553B\",\"#00cc96\",\"#ab63fa\",\"#FFA15A\",\"#19d3f3\",\"#FF6692\",\"#B6E880\",\"#FF97FF\",\"#FECB52\"],\"font\":{\"color\":\"#2a3f5f\"},\"hovermode\":\"closest\",\"hoverlabel\":{\"align\":\"left\"},\"paper_bgcolor\":\"white\",\"plot_bgcolor\":\"#E5ECF6\",\"polar\":{\"bgcolor\":\"#E5ECF6\",\"angularaxis\":{\"gridcolor\":\"white\",\"linecolor\":\"white\",\"ticks\":\"\"},\"radialaxis\":{\"gridcolor\":\"white\",\"linecolor\":\"white\",\"ticks\":\"\"}},\"ternary\":{\"bgcolor\":\"#E5ECF6\",\"aaxis\":{\"gridcolor\":\"white\",\"linecolor\":\"white\",\"ticks\":\"\"},\"baxis\":{\"gridcolor\":\"white\",\"linecolor\":\"white\",\"ticks\":\"\"},\"caxis\":{\"gridcolor\":\"white\",\"linecolor\":\"white\",\"ticks\":\"\"}},\"coloraxis\":{\"colorbar\":{\"outlinewidth\":0,\"ticks\":\"\"}},\"colorscale\":{\"sequential\":[[0.0,\"#0d0887\"],[0.1111111111111111,\"#46039f\"],[0.2222222222222222,\"#7201a8\"],[0.3333333333333333,\"#9c179e\"],[0.4444444444444444,\"#bd3786\"],[0.5555555555555556,\"#d8576b\"],[0.6666666666666666,\"#ed7953\"],[0.7777777777777778,\"#fb9f3a\"],[0.8888888888888888,\"#fdca26\"],[1.0,\"#f0f921\"]],\"sequentialminus\":[[0.0,\"#0d0887\"],[0.1111111111111111,\"#46039f\"],[0.2222222222222222,\"#7201a8\"],[0.3333333333333333,\"#9c179e\"],[0.4444444444444444,\"#bd3786\"],[0.5555555555555556,\"#d8576b\"],[0.6666666666666666,\"#ed7953\"],[0.7777777777777778,\"#fb9f3a\"],[0.8888888888888888,\"#fdca26\"],[1.0,\"#f0f921\"]],\"diverging\":[[0,\"#8e0152\"],[0.1,\"#c51b7d\"],[0.2,\"#de77ae\"],[0.3,\"#f1b6da\"],[0.4,\"#fde0ef\"],[0.5,\"#f7f7f7\"],[0.6,\"#e6f5d0\"],[0.7,\"#b8e186\"],[0.8,\"#7fbc41\"],[0.9,\"#4d9221\"],[1,\"#276419\"]]},\"xaxis\":{\"gridcolor\":\"white\",\"linecolor\":\"white\",\"ticks\":\"\",\"title\":{\"standoff\":15},\"zerolinecolor\":\"white\",\"automargin\":true,\"zerolinewidth\":2},\"yaxis\":{\"gridcolor\":\"white\",\"linecolor\":\"white\",\"ticks\":\"\",\"title\":{\"standoff\":15},\"zerolinecolor\":\"white\",\"automargin\":true,\"zerolinewidth\":2},\"scene\":{\"xaxis\":{\"backgroundcolor\":\"#E5ECF6\",\"gridcolor\":\"white\",\"linecolor\":\"white\",\"showbackground\":true,\"ticks\":\"\",\"zerolinecolor\":\"white\",\"gridwidth\":2},\"yaxis\":{\"backgroundcolor\":\"#E5ECF6\",\"gridcolor\":\"white\",\"linecolor\":\"white\",\"showbackground\":true,\"ticks\":\"\",\"zerolinecolor\":\"white\",\"gridwidth\":2},\"zaxis\":{\"backgroundcolor\":\"#E5ECF6\",\"gridcolor\":\"white\",\"linecolor\":\"white\",\"showbackground\":true,\"ticks\":\"\",\"zerolinecolor\":\"white\",\"gridwidth\":2}},\"shapedefaults\":{\"line\":{\"color\":\"#2a3f5f\"}},\"annotationdefaults\":{\"arrowcolor\":\"#2a3f5f\",\"arrowhead\":0,\"arrowwidth\":1},\"geo\":{\"bgcolor\":\"white\",\"landcolor\":\"#E5ECF6\",\"subunitcolor\":\"white\",\"showland\":true,\"showlakes\":true,\"lakecolor\":\"white\"},\"title\":{\"x\":0.05},\"mapbox\":{\"style\":\"light\"}}}},                        {\"responsive\": true}                    ).then(function(){\n",
              "                            \n",
              "var gd = document.getElementById('803cfffe-ca4e-4fe5-b6ef-eab4ac9a61fe');\n",
              "var x = new MutationObserver(function (mutations, observer) {{\n",
              "        var display = window.getComputedStyle(gd).display;\n",
              "        if (!display || display === 'none') {{\n",
              "            console.log([gd, 'removed!']);\n",
              "            Plotly.purge(gd);\n",
              "            observer.disconnect();\n",
              "        }}\n",
              "}});\n",
              "\n",
              "// Listen for the removal of the full notebook cells\n",
              "var notebookContainer = gd.closest('#notebook-container');\n",
              "if (notebookContainer) {{\n",
              "    x.observe(notebookContainer, {childList: true});\n",
              "}}\n",
              "\n",
              "// Listen for the clearing of the current output cell\n",
              "var outputEl = gd.closest('.output');\n",
              "if (outputEl) {{\n",
              "    x.observe(outputEl, {childList: true});\n",
              "}}\n",
              "\n",
              "                        })                };                            </script>        </div>\n",
              "</body>\n",
              "</html>"
            ]
          },
          "metadata": {}
        }
      ]
    },
    {
      "cell_type": "markdown",
      "source": [
        "## Experiment evaluation\n",
        "Prepare a summary of your work, choose the best model and discuss your choices with other groups."
      ],
      "metadata": {
        "id": "_yFYx-x1mJhx"
      }
    },
    {
      "cell_type": "markdown",
      "source": [
        "- The best model XGB. Gives the best/highest chosen metric Recall almost in each run. \n",
        "\n",
        "- Optuna gives very similar results for all 3 algorithms."
      ],
      "metadata": {
        "id": "nD39rhfqZeWj"
      }
    },
    {
      "cell_type": "markdown",
      "source": [
        "\n",
        "### Prepare demonstration of the research phase of this project. Describe algorithms that you used.\n"
      ],
      "metadata": {
        "id": "diC39_aUmNZ3"
      }
    },
    {
      "cell_type": "markdown",
      "source": [
        "From data preprocessing:\n",
        "- nulls imputed\n",
        "- categorical features encoded with OrdinalEncoder\n",
        "- no standardization of numerical"
      ],
      "metadata": {
        "id": "nNc57zaQpbQq"
      }
    },
    {
      "cell_type": "code",
      "source": [
        "model"
      ],
      "metadata": {
        "colab": {
          "base_uri": "https://localhost:8080/",
          "height": 192
        },
        "id": "GzMxYfbApYRD",
        "outputId": "7dea28e8-b1f4-42cb-dffa-ecb88229899e"
      },
      "execution_count": 46,
      "outputs": [
        {
          "output_type": "execute_result",
          "data": {
            "text/plain": [
              "Pipeline(steps=[('columntransformer',\n",
              "                 ColumnTransformer(transformers=[('categorical',\n",
              "                                                  OrdinalEncoder(handle_unknown='use_encoded_value',\n",
              "                                                                 unknown_value=-1),\n",
              "                                                  ['PassengerId', 'HomePlanet',\n",
              "                                                   'CryoSleep', 'Cabin',\n",
              "                                                   'Destination', 'VIP',\n",
              "                                                   'Name']),\n",
              "                                                 ('numerical',\n",
              "                                                  Pipeline(steps=[('imputer',\n",
              "                                                                   SimpleImputer(strategy='most_frequent'))]),\n",
              "                                                  ['Age', 'RoomService',\n",
              "                                                   'FoodCourt', 'ShoppingMall',\n",
              "                                                   'Spa', 'VRDeck'])])),\n",
              "                ('catboostclassifier',\n",
              "                 <catboost.core.CatBoostClassifier object at 0x7efdb040ddf0>)])"
            ],
            "text/html": [
              "<style>#sk-container-id-4 {color: black;background-color: white;}#sk-container-id-4 pre{padding: 0;}#sk-container-id-4 div.sk-toggleable {background-color: white;}#sk-container-id-4 label.sk-toggleable__label {cursor: pointer;display: block;width: 100%;margin-bottom: 0;padding: 0.3em;box-sizing: border-box;text-align: center;}#sk-container-id-4 label.sk-toggleable__label-arrow:before {content: \"▸\";float: left;margin-right: 0.25em;color: #696969;}#sk-container-id-4 label.sk-toggleable__label-arrow:hover:before {color: black;}#sk-container-id-4 div.sk-estimator:hover label.sk-toggleable__label-arrow:before {color: black;}#sk-container-id-4 div.sk-toggleable__content {max-height: 0;max-width: 0;overflow: hidden;text-align: left;background-color: #f0f8ff;}#sk-container-id-4 div.sk-toggleable__content pre {margin: 0.2em;color: black;border-radius: 0.25em;background-color: #f0f8ff;}#sk-container-id-4 input.sk-toggleable__control:checked~div.sk-toggleable__content {max-height: 200px;max-width: 100%;overflow: auto;}#sk-container-id-4 input.sk-toggleable__control:checked~label.sk-toggleable__label-arrow:before {content: \"▾\";}#sk-container-id-4 div.sk-estimator input.sk-toggleable__control:checked~label.sk-toggleable__label {background-color: #d4ebff;}#sk-container-id-4 div.sk-label input.sk-toggleable__control:checked~label.sk-toggleable__label {background-color: #d4ebff;}#sk-container-id-4 input.sk-hidden--visually {border: 0;clip: rect(1px 1px 1px 1px);clip: rect(1px, 1px, 1px, 1px);height: 1px;margin: -1px;overflow: hidden;padding: 0;position: absolute;width: 1px;}#sk-container-id-4 div.sk-estimator {font-family: monospace;background-color: #f0f8ff;border: 1px dotted black;border-radius: 0.25em;box-sizing: border-box;margin-bottom: 0.5em;}#sk-container-id-4 div.sk-estimator:hover {background-color: #d4ebff;}#sk-container-id-4 div.sk-parallel-item::after {content: \"\";width: 100%;border-bottom: 1px solid gray;flex-grow: 1;}#sk-container-id-4 div.sk-label:hover label.sk-toggleable__label {background-color: #d4ebff;}#sk-container-id-4 div.sk-serial::before {content: \"\";position: absolute;border-left: 1px solid gray;box-sizing: border-box;top: 0;bottom: 0;left: 50%;z-index: 0;}#sk-container-id-4 div.sk-serial {display: flex;flex-direction: column;align-items: center;background-color: white;padding-right: 0.2em;padding-left: 0.2em;position: relative;}#sk-container-id-4 div.sk-item {position: relative;z-index: 1;}#sk-container-id-4 div.sk-parallel {display: flex;align-items: stretch;justify-content: center;background-color: white;position: relative;}#sk-container-id-4 div.sk-item::before, #sk-container-id-4 div.sk-parallel-item::before {content: \"\";position: absolute;border-left: 1px solid gray;box-sizing: border-box;top: 0;bottom: 0;left: 50%;z-index: -1;}#sk-container-id-4 div.sk-parallel-item {display: flex;flex-direction: column;z-index: 1;position: relative;background-color: white;}#sk-container-id-4 div.sk-parallel-item:first-child::after {align-self: flex-end;width: 50%;}#sk-container-id-4 div.sk-parallel-item:last-child::after {align-self: flex-start;width: 50%;}#sk-container-id-4 div.sk-parallel-item:only-child::after {width: 0;}#sk-container-id-4 div.sk-dashed-wrapped {border: 1px dashed gray;margin: 0 0.4em 0.5em 0.4em;box-sizing: border-box;padding-bottom: 0.4em;background-color: white;}#sk-container-id-4 div.sk-label label {font-family: monospace;font-weight: bold;display: inline-block;line-height: 1.2em;}#sk-container-id-4 div.sk-label-container {text-align: center;}#sk-container-id-4 div.sk-container {/* jupyter's `normalize.less` sets `[hidden] { display: none; }` but bootstrap.min.css set `[hidden] { display: none !important; }` so we also need the `!important` here to be able to override the default hidden behavior on the sphinx rendered scikit-learn.org. See: https://github.com/scikit-learn/scikit-learn/issues/21755 */display: inline-block !important;position: relative;}#sk-container-id-4 div.sk-text-repr-fallback {display: none;}</style><div id=\"sk-container-id-4\" class=\"sk-top-container\"><div class=\"sk-text-repr-fallback\"><pre>Pipeline(steps=[(&#x27;columntransformer&#x27;,\n",
              "                 ColumnTransformer(transformers=[(&#x27;categorical&#x27;,\n",
              "                                                  OrdinalEncoder(handle_unknown=&#x27;use_encoded_value&#x27;,\n",
              "                                                                 unknown_value=-1),\n",
              "                                                  [&#x27;PassengerId&#x27;, &#x27;HomePlanet&#x27;,\n",
              "                                                   &#x27;CryoSleep&#x27;, &#x27;Cabin&#x27;,\n",
              "                                                   &#x27;Destination&#x27;, &#x27;VIP&#x27;,\n",
              "                                                   &#x27;Name&#x27;]),\n",
              "                                                 (&#x27;numerical&#x27;,\n",
              "                                                  Pipeline(steps=[(&#x27;imputer&#x27;,\n",
              "                                                                   SimpleImputer(strategy=&#x27;most_frequent&#x27;))]),\n",
              "                                                  [&#x27;Age&#x27;, &#x27;RoomService&#x27;,\n",
              "                                                   &#x27;FoodCourt&#x27;, &#x27;ShoppingMall&#x27;,\n",
              "                                                   &#x27;Spa&#x27;, &#x27;VRDeck&#x27;])])),\n",
              "                (&#x27;catboostclassifier&#x27;,\n",
              "                 &lt;catboost.core.CatBoostClassifier object at 0x7efdb040ddf0&gt;)])</pre><b>In a Jupyter environment, please rerun this cell to show the HTML representation or trust the notebook. <br />On GitHub, the HTML representation is unable to render, please try loading this page with nbviewer.org.</b></div><div class=\"sk-container\" hidden><div class=\"sk-item sk-dashed-wrapped\"><div class=\"sk-label-container\"><div class=\"sk-label sk-toggleable\"><input class=\"sk-toggleable__control sk-hidden--visually\" id=\"sk-estimator-id-20\" type=\"checkbox\" ><label for=\"sk-estimator-id-20\" class=\"sk-toggleable__label sk-toggleable__label-arrow\">Pipeline</label><div class=\"sk-toggleable__content\"><pre>Pipeline(steps=[(&#x27;columntransformer&#x27;,\n",
              "                 ColumnTransformer(transformers=[(&#x27;categorical&#x27;,\n",
              "                                                  OrdinalEncoder(handle_unknown=&#x27;use_encoded_value&#x27;,\n",
              "                                                                 unknown_value=-1),\n",
              "                                                  [&#x27;PassengerId&#x27;, &#x27;HomePlanet&#x27;,\n",
              "                                                   &#x27;CryoSleep&#x27;, &#x27;Cabin&#x27;,\n",
              "                                                   &#x27;Destination&#x27;, &#x27;VIP&#x27;,\n",
              "                                                   &#x27;Name&#x27;]),\n",
              "                                                 (&#x27;numerical&#x27;,\n",
              "                                                  Pipeline(steps=[(&#x27;imputer&#x27;,\n",
              "                                                                   SimpleImputer(strategy=&#x27;most_frequent&#x27;))]),\n",
              "                                                  [&#x27;Age&#x27;, &#x27;RoomService&#x27;,\n",
              "                                                   &#x27;FoodCourt&#x27;, &#x27;ShoppingMall&#x27;,\n",
              "                                                   &#x27;Spa&#x27;, &#x27;VRDeck&#x27;])])),\n",
              "                (&#x27;catboostclassifier&#x27;,\n",
              "                 &lt;catboost.core.CatBoostClassifier object at 0x7efdb040ddf0&gt;)])</pre></div></div></div><div class=\"sk-serial\"><div class=\"sk-item sk-dashed-wrapped\"><div class=\"sk-label-container\"><div class=\"sk-label sk-toggleable\"><input class=\"sk-toggleable__control sk-hidden--visually\" id=\"sk-estimator-id-21\" type=\"checkbox\" ><label for=\"sk-estimator-id-21\" class=\"sk-toggleable__label sk-toggleable__label-arrow\">columntransformer: ColumnTransformer</label><div class=\"sk-toggleable__content\"><pre>ColumnTransformer(transformers=[(&#x27;categorical&#x27;,\n",
              "                                 OrdinalEncoder(handle_unknown=&#x27;use_encoded_value&#x27;,\n",
              "                                                unknown_value=-1),\n",
              "                                 [&#x27;PassengerId&#x27;, &#x27;HomePlanet&#x27;, &#x27;CryoSleep&#x27;,\n",
              "                                  &#x27;Cabin&#x27;, &#x27;Destination&#x27;, &#x27;VIP&#x27;, &#x27;Name&#x27;]),\n",
              "                                (&#x27;numerical&#x27;,\n",
              "                                 Pipeline(steps=[(&#x27;imputer&#x27;,\n",
              "                                                  SimpleImputer(strategy=&#x27;most_frequent&#x27;))]),\n",
              "                                 [&#x27;Age&#x27;, &#x27;RoomService&#x27;, &#x27;FoodCourt&#x27;,\n",
              "                                  &#x27;ShoppingMall&#x27;, &#x27;Spa&#x27;, &#x27;VRDeck&#x27;])])</pre></div></div></div><div class=\"sk-parallel\"><div class=\"sk-parallel-item\"><div class=\"sk-item\"><div class=\"sk-label-container\"><div class=\"sk-label sk-toggleable\"><input class=\"sk-toggleable__control sk-hidden--visually\" id=\"sk-estimator-id-22\" type=\"checkbox\" ><label for=\"sk-estimator-id-22\" class=\"sk-toggleable__label sk-toggleable__label-arrow\">categorical</label><div class=\"sk-toggleable__content\"><pre>[&#x27;PassengerId&#x27;, &#x27;HomePlanet&#x27;, &#x27;CryoSleep&#x27;, &#x27;Cabin&#x27;, &#x27;Destination&#x27;, &#x27;VIP&#x27;, &#x27;Name&#x27;]</pre></div></div></div><div class=\"sk-serial\"><div class=\"sk-item\"><div class=\"sk-estimator sk-toggleable\"><input class=\"sk-toggleable__control sk-hidden--visually\" id=\"sk-estimator-id-23\" type=\"checkbox\" ><label for=\"sk-estimator-id-23\" class=\"sk-toggleable__label sk-toggleable__label-arrow\">OrdinalEncoder</label><div class=\"sk-toggleable__content\"><pre>OrdinalEncoder(handle_unknown=&#x27;use_encoded_value&#x27;, unknown_value=-1)</pre></div></div></div></div></div></div><div class=\"sk-parallel-item\"><div class=\"sk-item\"><div class=\"sk-label-container\"><div class=\"sk-label sk-toggleable\"><input class=\"sk-toggleable__control sk-hidden--visually\" id=\"sk-estimator-id-24\" type=\"checkbox\" ><label for=\"sk-estimator-id-24\" class=\"sk-toggleable__label sk-toggleable__label-arrow\">numerical</label><div class=\"sk-toggleable__content\"><pre>[&#x27;Age&#x27;, &#x27;RoomService&#x27;, &#x27;FoodCourt&#x27;, &#x27;ShoppingMall&#x27;, &#x27;Spa&#x27;, &#x27;VRDeck&#x27;]</pre></div></div></div><div class=\"sk-serial\"><div class=\"sk-item\"><div class=\"sk-serial\"><div class=\"sk-item\"><div class=\"sk-estimator sk-toggleable\"><input class=\"sk-toggleable__control sk-hidden--visually\" id=\"sk-estimator-id-25\" type=\"checkbox\" ><label for=\"sk-estimator-id-25\" class=\"sk-toggleable__label sk-toggleable__label-arrow\">SimpleImputer</label><div class=\"sk-toggleable__content\"><pre>SimpleImputer(strategy=&#x27;most_frequent&#x27;)</pre></div></div></div></div></div></div></div></div></div></div><div class=\"sk-item\"><div class=\"sk-estimator sk-toggleable\"><input class=\"sk-toggleable__control sk-hidden--visually\" id=\"sk-estimator-id-26\" type=\"checkbox\" ><label for=\"sk-estimator-id-26\" class=\"sk-toggleable__label sk-toggleable__label-arrow\">CatBoostClassifier</label><div class=\"sk-toggleable__content\"><pre>&lt;catboost.core.CatBoostClassifier object at 0x7efdb040ddf0&gt;</pre></div></div></div></div></div></div></div>"
            ]
          },
          "metadata": {},
          "execution_count": 46
        }
      ]
    },
    {
      "cell_type": "markdown",
      "source": [
        "\n",
        "### Present all of your results. Don't forget to demonstrate comparison of selected methods and approaches used in this project.\n",
        "\n",
        "Spot-check algorithms results with default parameters:\n",
        "\n",
        "\n",
        "- XGB accuracy: 0.7664877300613497\n",
        "- XGB recall: 0.7989337395277989\n",
        "- XGB f1_score: 0.7750277059475434\n",
        "\n",
        "\n",
        "- LightGBM accuracy: 0.7845092024539877\n",
        "- LightGBM recall: 0.7789032749428789\n",
        "- LightGBM f1_score: 0.8041811846689895\n",
        "\n",
        "\n",
        "- CatBoost accuracy: 0.785659509202454\n",
        "- CatBoost recall: 0.7320463320463321\n",
        "- CatBoost f1_score: 0.7723014256619145\n",
        "\n",
        "___\n",
        "OPTUNA:\n",
        "- LGBM\n",
        "\n",
        "Return a dictionary of parameter name and parameter values:\n",
        "\n",
        " {\n",
        "\n",
        " 'bagging_fraction': 0.457903950039216, \n",
        "\n",
        " 'bagging_freq': 3, \n",
        "\n",
        " 'min_child_samples': 66\n",
        " \n",
        " }\n",
        "\n",
        "\n",
        "Return the best observed value of the objective function:\n",
        " 0.8025306748466258\n",
        "\n",
        "- XGB\n",
        "\n",
        "Return a dictionary of parameter name and parameter values:\n",
        "\n",
        "\n",
        "{\n",
        "  'max_depth': 9, \n",
        "\n",
        "  'learning_rate': 0.1699607699828165, \n",
        "\n",
        "  'n_estimators': 256, \n",
        "\n",
        "  'min_child_weight': 9, \n",
        "\n",
        "  'gamma': 0.018298408171734715, \n",
        "\n",
        "  'subsample': 0.8586025588776682, \n",
        "\n",
        "  'colsample_bytree': 0.9966205486897511, \n",
        "\n",
        "  'reg_alpha': 0.23515692182124337, \n",
        "\n",
        "  'reg_lambda': 3.861750650247784e-07\n",
        "  \n",
        "  }\n",
        "\n",
        "\n",
        "Return the best observed value of the objective function: 0.8044478527607362"
      ],
      "metadata": {
        "id": "mHODoneEmdnX"
      }
    },
    {
      "cell_type": "markdown",
      "source": [
        "\n",
        "### Beautify your notebook - it will be one of your aces during the interview"
      ],
      "metadata": {
        "id": "M6cJhDMimfqs"
      }
    },
    {
      "cell_type": "markdown",
      "source": [
        "### Publish your repository on GitHub or GitLab. Don't remember add README file with description of this project."
      ],
      "metadata": {
        "id": "anjnc1iLmhiO"
      }
    }
  ]
}