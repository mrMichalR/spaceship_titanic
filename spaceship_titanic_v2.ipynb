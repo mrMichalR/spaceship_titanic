{
  "nbformat": 4,
  "nbformat_minor": 0,
  "metadata": {
    "colab": {
      "provenance": [],
      "toc_visible": true,
      "mount_file_id": "16MlCxrKKJsOHhP9fxQuhAJNF4Ycm6hwU",
      "authorship_tag": "ABX9TyPNt98v7Xh1BBzQY5dnY44h",
      "include_colab_link": true
    },
    "kernelspec": {
      "name": "python3",
      "display_name": "Python 3"
    },
    "language_info": {
      "name": "python"
    },
    "accelerator": "GPU",
    "gpuClass": "standard"
  },
  "cells": [
    {
      "cell_type": "markdown",
      "metadata": {
        "id": "view-in-github",
        "colab_type": "text"
      },
      "source": [
        "<a href=\"https://colab.research.google.com/github/mrMichalR/spaceship_titanic/blob/main/spaceship_titanic_v2.ipynb\" target=\"_parent\"><img src=\"https://colab.research.google.com/assets/colab-badge.svg\" alt=\"Open In Colab\"/></a>"
      ]
    },
    {
      "cell_type": "markdown",
      "source": [
        "# Spaceship Titanic project\n",
        "\n",
        "Welcome to the year 2912, where your data science skills are needed to solve a cosmic mystery. We've received a transmission from four lightyears away and things aren't looking good. The Spaceship Titanic was an interstellar passenger liner launched a month ago. With almost 13,000 passengers on board, the vessel set out on its maiden voyage transporting emigrants from our solar system to three newly habitable exoplanets orbiting nearby stars. While rounding Alpha Centauri en route to its first destination—the torrid 55 Cancri E—the unwary Spaceship Titanic collided with a spacetime anomaly hidden within a dust cloud. Sadly, it met a similar fate as its namesake from 1000 years before. Though the ship stayed intact, almost half of the passengers were transported to an alternate dimension! To help rescue crews and retrieve the lost passengers, you are challenged to predict which passengers were transported by the anomaly using records recovered from the spaceship’s damaged computer system. Help save them and change history!"
      ],
      "metadata": {
        "id": "ObHsFt9A2buA"
      }
    },
    {
      "cell_type": "code",
      "source": [
        "# !pip install opendatasets\n",
        "# !pip install ydata-profiling\n",
        "!pip install catboost\n",
        "!pip install optuna"
      ],
      "metadata": {
        "id": "z4Age1QqTm7s",
        "colab": {
          "base_uri": "https://localhost:8080/"
        },
        "outputId": "36e32a47-5eb3-401d-db3f-b96f4e550a0c"
      },
      "execution_count": null,
      "outputs": [
        {
          "output_type": "stream",
          "name": "stdout",
          "text": [
            "Looking in indexes: https://pypi.org/simple, https://us-python.pkg.dev/colab-wheels/public/simple/\n",
            "Requirement already satisfied: catboost in /usr/local/lib/python3.9/dist-packages (1.1.1)\n",
            "Requirement already satisfied: plotly in /usr/local/lib/python3.9/dist-packages (from catboost) (5.5.0)\n",
            "Requirement already satisfied: scipy in /usr/local/lib/python3.9/dist-packages (from catboost) (1.10.1)\n",
            "Requirement already satisfied: six in /usr/local/lib/python3.9/dist-packages (from catboost) (1.15.0)\n",
            "Requirement already satisfied: graphviz in /usr/local/lib/python3.9/dist-packages (from catboost) (0.10.1)\n",
            "Requirement already satisfied: numpy>=1.16.0 in /usr/local/lib/python3.9/dist-packages (from catboost) (1.22.4)\n",
            "Requirement already satisfied: matplotlib in /usr/local/lib/python3.9/dist-packages (from catboost) (3.7.1)\n",
            "Requirement already satisfied: pandas>=0.24.0 in /usr/local/lib/python3.9/dist-packages (from catboost) (1.4.4)\n",
            "Requirement already satisfied: pytz>=2020.1 in /usr/local/lib/python3.9/dist-packages (from pandas>=0.24.0->catboost) (2022.7.1)\n",
            "Requirement already satisfied: python-dateutil>=2.8.1 in /usr/local/lib/python3.9/dist-packages (from pandas>=0.24.0->catboost) (2.8.2)\n",
            "Requirement already satisfied: packaging>=20.0 in /usr/local/lib/python3.9/dist-packages (from matplotlib->catboost) (23.0)\n",
            "Requirement already satisfied: pyparsing>=2.3.1 in /usr/local/lib/python3.9/dist-packages (from matplotlib->catboost) (3.0.9)\n",
            "Requirement already satisfied: importlib-resources>=3.2.0 in /usr/local/lib/python3.9/dist-packages (from matplotlib->catboost) (5.12.0)\n",
            "Requirement already satisfied: cycler>=0.10 in /usr/local/lib/python3.9/dist-packages (from matplotlib->catboost) (0.11.0)\n",
            "Requirement already satisfied: contourpy>=1.0.1 in /usr/local/lib/python3.9/dist-packages (from matplotlib->catboost) (1.0.7)\n",
            "Requirement already satisfied: pillow>=6.2.0 in /usr/local/lib/python3.9/dist-packages (from matplotlib->catboost) (8.4.0)\n",
            "Requirement already satisfied: fonttools>=4.22.0 in /usr/local/lib/python3.9/dist-packages (from matplotlib->catboost) (4.39.0)\n",
            "Requirement already satisfied: kiwisolver>=1.0.1 in /usr/local/lib/python3.9/dist-packages (from matplotlib->catboost) (1.4.4)\n",
            "Requirement already satisfied: tenacity>=6.2.0 in /usr/local/lib/python3.9/dist-packages (from plotly->catboost) (8.2.2)\n",
            "Requirement already satisfied: zipp>=3.1.0 in /usr/local/lib/python3.9/dist-packages (from importlib-resources>=3.2.0->matplotlib->catboost) (3.15.0)\n",
            "Looking in indexes: https://pypi.org/simple, https://us-python.pkg.dev/colab-wheels/public/simple/\n",
            "Requirement already satisfied: optuna in /usr/local/lib/python3.9/dist-packages (3.1.0)\n",
            "Requirement already satisfied: sqlalchemy>=1.3.0 in /usr/local/lib/python3.9/dist-packages (from optuna) (1.4.46)\n",
            "Requirement already satisfied: packaging>=20.0 in /usr/local/lib/python3.9/dist-packages (from optuna) (23.0)\n",
            "Requirement already satisfied: numpy in /usr/local/lib/python3.9/dist-packages (from optuna) (1.22.4)\n",
            "Requirement already satisfied: cmaes>=0.9.1 in /usr/local/lib/python3.9/dist-packages (from optuna) (0.9.1)\n",
            "Requirement already satisfied: tqdm in /usr/local/lib/python3.9/dist-packages (from optuna) (4.65.0)\n",
            "Requirement already satisfied: alembic>=1.5.0 in /usr/local/lib/python3.9/dist-packages (from optuna) (1.10.2)\n",
            "Requirement already satisfied: colorlog in /usr/local/lib/python3.9/dist-packages (from optuna) (6.7.0)\n",
            "Requirement already satisfied: PyYAML in /usr/local/lib/python3.9/dist-packages (from optuna) (6.0)\n",
            "Requirement already satisfied: typing-extensions>=4 in /usr/local/lib/python3.9/dist-packages (from alembic>=1.5.0->optuna) (4.5.0)\n",
            "Requirement already satisfied: Mako in /usr/local/lib/python3.9/dist-packages (from alembic>=1.5.0->optuna) (1.2.4)\n",
            "Requirement already satisfied: greenlet!=0.4.17 in /usr/local/lib/python3.9/dist-packages (from sqlalchemy>=1.3.0->optuna) (2.0.2)\n",
            "Requirement already satisfied: MarkupSafe>=0.9.2 in /usr/local/lib/python3.9/dist-packages (from Mako->alembic>=1.5.0->optuna) (2.1.2)\n"
          ]
        }
      ]
    },
    {
      "cell_type": "code",
      "execution_count": null,
      "metadata": {
        "id": "ktrFV0zITcT8"
      },
      "outputs": [],
      "source": [
        "# import opendatasets as od\n",
        "import seaborn as sns\n",
        "import pandas as pd\n",
        "import numpy as np\n",
        "import optuna\n",
        "import logging\n",
        "import sys\n",
        "from optuna.visualization import plot_optimization_history\n",
        "from optuna.visualization import plot_param_importances\n",
        "from numpy import std, mean\n",
        "import matplotlib.pyplot as plt\n",
        "from tqdm.notebook import tqdm\n",
        "from pandas import set_option\n",
        "from pandas_profiling import ProfileReport\n",
        "from sklearn.model_selection import train_test_split\n",
        "from sklearn.metrics import accuracy_score\n",
        "from sklearn.pipeline import Pipeline\n",
        "from sklearn.pipeline import make_pipeline\n",
        "from sklearn.experimental import enable_iterative_imputer\n",
        "from sklearn.impute import IterativeImputer\n",
        "from sklearn.preprocessing import OrdinalEncoder\n",
        "from sklearn.preprocessing import OneHotEncoder\n",
        "from sklearn.preprocessing import StandardScaler\n",
        "from sklearn.compose import ColumnTransformer\n",
        "from sklearn.model_selection import cross_val_score\n",
        "from sklearn.model_selection import RepeatedStratifiedKFold\n",
        "from sklearn.model_selection import KFold, cross_validate\n",
        "from sklearn.metrics import recall_score, accuracy_score, precision_score, f1_score\n",
        "import xgboost as xgb\n",
        "from xgboost import XGBClassifier\n",
        "from lightgbm import LGBMClassifier\n",
        "import lightgbm as lgb\n",
        "from catboost import CatBoostClassifier\n",
        "import catboost as cb\n",
        "from sklearn.feature_extraction import DictVectorizer\n",
        "import warnings\n",
        "warnings.filterwarnings(\"ignore\", category=FutureWarning)\n",
        "\n",
        "from optuna.integration import LightGBMPruningCallback, XGBoostPruningCallback, CatBoostPruningCallback"
      ]
    },
    {
      "cell_type": "code",
      "source": [
        "from google.colab import drive\n",
        "drive.mount('/content/drive', force_remount=True)\n",
        "# %cd drive/MyDrive/spaceship_titanic/"
      ],
      "metadata": {
        "colab": {
          "base_uri": "https://localhost:8080/"
        },
        "id": "Qcwx7UNGYcnN",
        "outputId": "ca9f093e-8fb0-4255-a4cd-63c91acfb7ec"
      },
      "execution_count": null,
      "outputs": [
        {
          "output_type": "stream",
          "name": "stdout",
          "text": [
            "Mounted at /content/drive\n"
          ]
        }
      ]
    },
    {
      "cell_type": "markdown",
      "source": [
        "## Get data \n",
        "Get data from link: https://www.kaggle.com/competitions/spaceship-titanic/data and read to your notebook."
      ],
      "metadata": {
        "id": "rmWpcWK16F_E"
      }
    },
    {
      "cell_type": "code",
      "source": [
        "# dataset_url = 'https://www.kaggle.com/competitions/spaceship-titanic/data'\n",
        "# od.download(dataset_url)"
      ],
      "metadata": {
        "id": "YFHylcx91soB"
      },
      "execution_count": null,
      "outputs": []
    },
    {
      "cell_type": "code",
      "source": [
        "\n",
        "# df = pd.read_csv('/content/spaceship-titanic/train.csv')\n",
        "# df"
      ],
      "metadata": {
        "id": "BM9RaJeRWqTa"
      },
      "execution_count": null,
      "outputs": []
    },
    {
      "cell_type": "code",
      "source": [
        "df = pd.read_csv('/content/drive/MyDrive/spaceship_titanic/train.csv')\n",
        "df_test = pd.read_csv('/content/drive/MyDrive/spaceship_titanic/test.csv')\n",
        "df"
      ],
      "metadata": {
        "id": "NlaJBPHDbEXw",
        "colab": {
          "base_uri": "https://localhost:8080/",
          "height": 424
        },
        "outputId": "08ae74f7-a34e-4248-f058-b72106cbb06e"
      },
      "execution_count": null,
      "outputs": [
        {
          "output_type": "execute_result",
          "data": {
            "text/plain": [
              "     PassengerId HomePlanet CryoSleep     Cabin    Destination   Age    VIP  \\\n",
              "0        0001_01     Europa     False     B/0/P    TRAPPIST-1e  39.0  False   \n",
              "1        0002_01      Earth     False     F/0/S    TRAPPIST-1e  24.0  False   \n",
              "2        0003_01     Europa     False     A/0/S    TRAPPIST-1e  58.0   True   \n",
              "3        0003_02     Europa     False     A/0/S    TRAPPIST-1e  33.0  False   \n",
              "4        0004_01      Earth     False     F/1/S    TRAPPIST-1e  16.0  False   \n",
              "...          ...        ...       ...       ...            ...   ...    ...   \n",
              "8688     9276_01     Europa     False    A/98/P    55 Cancri e  41.0   True   \n",
              "8689     9278_01      Earth      True  G/1499/S  PSO J318.5-22  18.0  False   \n",
              "8690     9279_01      Earth     False  G/1500/S    TRAPPIST-1e  26.0  False   \n",
              "8691     9280_01     Europa     False   E/608/S    55 Cancri e  32.0  False   \n",
              "8692     9280_02     Europa     False   E/608/S    TRAPPIST-1e  44.0  False   \n",
              "\n",
              "      RoomService  FoodCourt  ShoppingMall     Spa  VRDeck               Name  \\\n",
              "0             0.0        0.0           0.0     0.0     0.0    Maham Ofracculy   \n",
              "1           109.0        9.0          25.0   549.0    44.0       Juanna Vines   \n",
              "2            43.0     3576.0           0.0  6715.0    49.0      Altark Susent   \n",
              "3             0.0     1283.0         371.0  3329.0   193.0       Solam Susent   \n",
              "4           303.0       70.0         151.0   565.0     2.0  Willy Santantines   \n",
              "...           ...        ...           ...     ...     ...                ...   \n",
              "8688          0.0     6819.0           0.0  1643.0    74.0  Gravior Noxnuther   \n",
              "8689          0.0        0.0           0.0     0.0     0.0    Kurta Mondalley   \n",
              "8690          0.0        0.0        1872.0     1.0     0.0       Fayey Connon   \n",
              "8691          0.0     1049.0           0.0   353.0  3235.0   Celeon Hontichre   \n",
              "8692        126.0     4688.0           0.0     0.0    12.0   Propsh Hontichre   \n",
              "\n",
              "      Transported  \n",
              "0           False  \n",
              "1            True  \n",
              "2           False  \n",
              "3           False  \n",
              "4            True  \n",
              "...           ...  \n",
              "8688        False  \n",
              "8689        False  \n",
              "8690         True  \n",
              "8691        False  \n",
              "8692         True  \n",
              "\n",
              "[8693 rows x 14 columns]"
            ],
            "text/html": [
              "\n",
              "  <div id=\"df-f6917704-da8d-4dd3-9c17-bd57f2780b36\">\n",
              "    <div class=\"colab-df-container\">\n",
              "      <div>\n",
              "<style scoped>\n",
              "    .dataframe tbody tr th:only-of-type {\n",
              "        vertical-align: middle;\n",
              "    }\n",
              "\n",
              "    .dataframe tbody tr th {\n",
              "        vertical-align: top;\n",
              "    }\n",
              "\n",
              "    .dataframe thead th {\n",
              "        text-align: right;\n",
              "    }\n",
              "</style>\n",
              "<table border=\"1\" class=\"dataframe\">\n",
              "  <thead>\n",
              "    <tr style=\"text-align: right;\">\n",
              "      <th></th>\n",
              "      <th>PassengerId</th>\n",
              "      <th>HomePlanet</th>\n",
              "      <th>CryoSleep</th>\n",
              "      <th>Cabin</th>\n",
              "      <th>Destination</th>\n",
              "      <th>Age</th>\n",
              "      <th>VIP</th>\n",
              "      <th>RoomService</th>\n",
              "      <th>FoodCourt</th>\n",
              "      <th>ShoppingMall</th>\n",
              "      <th>Spa</th>\n",
              "      <th>VRDeck</th>\n",
              "      <th>Name</th>\n",
              "      <th>Transported</th>\n",
              "    </tr>\n",
              "  </thead>\n",
              "  <tbody>\n",
              "    <tr>\n",
              "      <th>0</th>\n",
              "      <td>0001_01</td>\n",
              "      <td>Europa</td>\n",
              "      <td>False</td>\n",
              "      <td>B/0/P</td>\n",
              "      <td>TRAPPIST-1e</td>\n",
              "      <td>39.0</td>\n",
              "      <td>False</td>\n",
              "      <td>0.0</td>\n",
              "      <td>0.0</td>\n",
              "      <td>0.0</td>\n",
              "      <td>0.0</td>\n",
              "      <td>0.0</td>\n",
              "      <td>Maham Ofracculy</td>\n",
              "      <td>False</td>\n",
              "    </tr>\n",
              "    <tr>\n",
              "      <th>1</th>\n",
              "      <td>0002_01</td>\n",
              "      <td>Earth</td>\n",
              "      <td>False</td>\n",
              "      <td>F/0/S</td>\n",
              "      <td>TRAPPIST-1e</td>\n",
              "      <td>24.0</td>\n",
              "      <td>False</td>\n",
              "      <td>109.0</td>\n",
              "      <td>9.0</td>\n",
              "      <td>25.0</td>\n",
              "      <td>549.0</td>\n",
              "      <td>44.0</td>\n",
              "      <td>Juanna Vines</td>\n",
              "      <td>True</td>\n",
              "    </tr>\n",
              "    <tr>\n",
              "      <th>2</th>\n",
              "      <td>0003_01</td>\n",
              "      <td>Europa</td>\n",
              "      <td>False</td>\n",
              "      <td>A/0/S</td>\n",
              "      <td>TRAPPIST-1e</td>\n",
              "      <td>58.0</td>\n",
              "      <td>True</td>\n",
              "      <td>43.0</td>\n",
              "      <td>3576.0</td>\n",
              "      <td>0.0</td>\n",
              "      <td>6715.0</td>\n",
              "      <td>49.0</td>\n",
              "      <td>Altark Susent</td>\n",
              "      <td>False</td>\n",
              "    </tr>\n",
              "    <tr>\n",
              "      <th>3</th>\n",
              "      <td>0003_02</td>\n",
              "      <td>Europa</td>\n",
              "      <td>False</td>\n",
              "      <td>A/0/S</td>\n",
              "      <td>TRAPPIST-1e</td>\n",
              "      <td>33.0</td>\n",
              "      <td>False</td>\n",
              "      <td>0.0</td>\n",
              "      <td>1283.0</td>\n",
              "      <td>371.0</td>\n",
              "      <td>3329.0</td>\n",
              "      <td>193.0</td>\n",
              "      <td>Solam Susent</td>\n",
              "      <td>False</td>\n",
              "    </tr>\n",
              "    <tr>\n",
              "      <th>4</th>\n",
              "      <td>0004_01</td>\n",
              "      <td>Earth</td>\n",
              "      <td>False</td>\n",
              "      <td>F/1/S</td>\n",
              "      <td>TRAPPIST-1e</td>\n",
              "      <td>16.0</td>\n",
              "      <td>False</td>\n",
              "      <td>303.0</td>\n",
              "      <td>70.0</td>\n",
              "      <td>151.0</td>\n",
              "      <td>565.0</td>\n",
              "      <td>2.0</td>\n",
              "      <td>Willy Santantines</td>\n",
              "      <td>True</td>\n",
              "    </tr>\n",
              "    <tr>\n",
              "      <th>...</th>\n",
              "      <td>...</td>\n",
              "      <td>...</td>\n",
              "      <td>...</td>\n",
              "      <td>...</td>\n",
              "      <td>...</td>\n",
              "      <td>...</td>\n",
              "      <td>...</td>\n",
              "      <td>...</td>\n",
              "      <td>...</td>\n",
              "      <td>...</td>\n",
              "      <td>...</td>\n",
              "      <td>...</td>\n",
              "      <td>...</td>\n",
              "      <td>...</td>\n",
              "    </tr>\n",
              "    <tr>\n",
              "      <th>8688</th>\n",
              "      <td>9276_01</td>\n",
              "      <td>Europa</td>\n",
              "      <td>False</td>\n",
              "      <td>A/98/P</td>\n",
              "      <td>55 Cancri e</td>\n",
              "      <td>41.0</td>\n",
              "      <td>True</td>\n",
              "      <td>0.0</td>\n",
              "      <td>6819.0</td>\n",
              "      <td>0.0</td>\n",
              "      <td>1643.0</td>\n",
              "      <td>74.0</td>\n",
              "      <td>Gravior Noxnuther</td>\n",
              "      <td>False</td>\n",
              "    </tr>\n",
              "    <tr>\n",
              "      <th>8689</th>\n",
              "      <td>9278_01</td>\n",
              "      <td>Earth</td>\n",
              "      <td>True</td>\n",
              "      <td>G/1499/S</td>\n",
              "      <td>PSO J318.5-22</td>\n",
              "      <td>18.0</td>\n",
              "      <td>False</td>\n",
              "      <td>0.0</td>\n",
              "      <td>0.0</td>\n",
              "      <td>0.0</td>\n",
              "      <td>0.0</td>\n",
              "      <td>0.0</td>\n",
              "      <td>Kurta Mondalley</td>\n",
              "      <td>False</td>\n",
              "    </tr>\n",
              "    <tr>\n",
              "      <th>8690</th>\n",
              "      <td>9279_01</td>\n",
              "      <td>Earth</td>\n",
              "      <td>False</td>\n",
              "      <td>G/1500/S</td>\n",
              "      <td>TRAPPIST-1e</td>\n",
              "      <td>26.0</td>\n",
              "      <td>False</td>\n",
              "      <td>0.0</td>\n",
              "      <td>0.0</td>\n",
              "      <td>1872.0</td>\n",
              "      <td>1.0</td>\n",
              "      <td>0.0</td>\n",
              "      <td>Fayey Connon</td>\n",
              "      <td>True</td>\n",
              "    </tr>\n",
              "    <tr>\n",
              "      <th>8691</th>\n",
              "      <td>9280_01</td>\n",
              "      <td>Europa</td>\n",
              "      <td>False</td>\n",
              "      <td>E/608/S</td>\n",
              "      <td>55 Cancri e</td>\n",
              "      <td>32.0</td>\n",
              "      <td>False</td>\n",
              "      <td>0.0</td>\n",
              "      <td>1049.0</td>\n",
              "      <td>0.0</td>\n",
              "      <td>353.0</td>\n",
              "      <td>3235.0</td>\n",
              "      <td>Celeon Hontichre</td>\n",
              "      <td>False</td>\n",
              "    </tr>\n",
              "    <tr>\n",
              "      <th>8692</th>\n",
              "      <td>9280_02</td>\n",
              "      <td>Europa</td>\n",
              "      <td>False</td>\n",
              "      <td>E/608/S</td>\n",
              "      <td>TRAPPIST-1e</td>\n",
              "      <td>44.0</td>\n",
              "      <td>False</td>\n",
              "      <td>126.0</td>\n",
              "      <td>4688.0</td>\n",
              "      <td>0.0</td>\n",
              "      <td>0.0</td>\n",
              "      <td>12.0</td>\n",
              "      <td>Propsh Hontichre</td>\n",
              "      <td>True</td>\n",
              "    </tr>\n",
              "  </tbody>\n",
              "</table>\n",
              "<p>8693 rows × 14 columns</p>\n",
              "</div>\n",
              "      <button class=\"colab-df-convert\" onclick=\"convertToInteractive('df-f6917704-da8d-4dd3-9c17-bd57f2780b36')\"\n",
              "              title=\"Convert this dataframe to an interactive table.\"\n",
              "              style=\"display:none;\">\n",
              "        \n",
              "  <svg xmlns=\"http://www.w3.org/2000/svg\" height=\"24px\"viewBox=\"0 0 24 24\"\n",
              "       width=\"24px\">\n",
              "    <path d=\"M0 0h24v24H0V0z\" fill=\"none\"/>\n",
              "    <path d=\"M18.56 5.44l.94 2.06.94-2.06 2.06-.94-2.06-.94-.94-2.06-.94 2.06-2.06.94zm-11 1L8.5 8.5l.94-2.06 2.06-.94-2.06-.94L8.5 2.5l-.94 2.06-2.06.94zm10 10l.94 2.06.94-2.06 2.06-.94-2.06-.94-.94-2.06-.94 2.06-2.06.94z\"/><path d=\"M17.41 7.96l-1.37-1.37c-.4-.4-.92-.59-1.43-.59-.52 0-1.04.2-1.43.59L10.3 9.45l-7.72 7.72c-.78.78-.78 2.05 0 2.83L4 21.41c.39.39.9.59 1.41.59.51 0 1.02-.2 1.41-.59l7.78-7.78 2.81-2.81c.8-.78.8-2.07 0-2.86zM5.41 20L4 18.59l7.72-7.72 1.47 1.35L5.41 20z\"/>\n",
              "  </svg>\n",
              "      </button>\n",
              "      \n",
              "  <style>\n",
              "    .colab-df-container {\n",
              "      display:flex;\n",
              "      flex-wrap:wrap;\n",
              "      gap: 12px;\n",
              "    }\n",
              "\n",
              "    .colab-df-convert {\n",
              "      background-color: #E8F0FE;\n",
              "      border: none;\n",
              "      border-radius: 50%;\n",
              "      cursor: pointer;\n",
              "      display: none;\n",
              "      fill: #1967D2;\n",
              "      height: 32px;\n",
              "      padding: 0 0 0 0;\n",
              "      width: 32px;\n",
              "    }\n",
              "\n",
              "    .colab-df-convert:hover {\n",
              "      background-color: #E2EBFA;\n",
              "      box-shadow: 0px 1px 2px rgba(60, 64, 67, 0.3), 0px 1px 3px 1px rgba(60, 64, 67, 0.15);\n",
              "      fill: #174EA6;\n",
              "    }\n",
              "\n",
              "    [theme=dark] .colab-df-convert {\n",
              "      background-color: #3B4455;\n",
              "      fill: #D2E3FC;\n",
              "    }\n",
              "\n",
              "    [theme=dark] .colab-df-convert:hover {\n",
              "      background-color: #434B5C;\n",
              "      box-shadow: 0px 1px 3px 1px rgba(0, 0, 0, 0.15);\n",
              "      filter: drop-shadow(0px 1px 2px rgba(0, 0, 0, 0.3));\n",
              "      fill: #FFFFFF;\n",
              "    }\n",
              "  </style>\n",
              "\n",
              "      <script>\n",
              "        const buttonEl =\n",
              "          document.querySelector('#df-f6917704-da8d-4dd3-9c17-bd57f2780b36 button.colab-df-convert');\n",
              "        buttonEl.style.display =\n",
              "          google.colab.kernel.accessAllowed ? 'block' : 'none';\n",
              "\n",
              "        async function convertToInteractive(key) {\n",
              "          const element = document.querySelector('#df-f6917704-da8d-4dd3-9c17-bd57f2780b36');\n",
              "          const dataTable =\n",
              "            await google.colab.kernel.invokeFunction('convertToInteractive',\n",
              "                                                     [key], {});\n",
              "          if (!dataTable) return;\n",
              "\n",
              "          const docLinkHtml = 'Like what you see? Visit the ' +\n",
              "            '<a target=\"_blank\" href=https://colab.research.google.com/notebooks/data_table.ipynb>data table notebook</a>'\n",
              "            + ' to learn more about interactive tables.';\n",
              "          element.innerHTML = '';\n",
              "          dataTable['output_type'] = 'display_data';\n",
              "          await google.colab.output.renderOutput(dataTable, element);\n",
              "          const docLink = document.createElement('div');\n",
              "          docLink.innerHTML = docLinkHtml;\n",
              "          element.appendChild(docLink);\n",
              "        }\n",
              "      </script>\n",
              "    </div>\n",
              "  </div>\n",
              "  "
            ]
          },
          "metadata": {},
          "execution_count": 4
        }
      ]
    },
    {
      "cell_type": "code",
      "source": [
        "df_test"
      ],
      "metadata": {
        "colab": {
          "base_uri": "https://localhost:8080/",
          "height": 424
        },
        "id": "N-EnhX_VymWo",
        "outputId": "f4d6c284-755c-43af-a81e-3a7a6485fa6b"
      },
      "execution_count": null,
      "outputs": [
        {
          "output_type": "execute_result",
          "data": {
            "text/plain": [
              "     PassengerId HomePlanet CryoSleep     Cabin    Destination   Age    VIP  \\\n",
              "0        0013_01      Earth      True     G/3/S    TRAPPIST-1e  27.0  False   \n",
              "1        0018_01      Earth     False     F/4/S    TRAPPIST-1e  19.0  False   \n",
              "2        0019_01     Europa      True     C/0/S    55 Cancri e  31.0  False   \n",
              "3        0021_01     Europa     False     C/1/S    TRAPPIST-1e  38.0  False   \n",
              "4        0023_01      Earth     False     F/5/S    TRAPPIST-1e  20.0  False   \n",
              "...          ...        ...       ...       ...            ...   ...    ...   \n",
              "4272     9266_02      Earth      True  G/1496/S    TRAPPIST-1e  34.0  False   \n",
              "4273     9269_01      Earth     False       NaN    TRAPPIST-1e  42.0  False   \n",
              "4274     9271_01       Mars      True   D/296/P    55 Cancri e   NaN  False   \n",
              "4275     9273_01     Europa     False   D/297/P            NaN   NaN  False   \n",
              "4276     9277_01      Earth      True  G/1498/S  PSO J318.5-22  43.0  False   \n",
              "\n",
              "      RoomService  FoodCourt  ShoppingMall     Spa  VRDeck              Name  \n",
              "0             0.0        0.0           0.0     0.0     0.0   Nelly Carsoning  \n",
              "1             0.0        9.0           0.0  2823.0     0.0    Lerome Peckers  \n",
              "2             0.0        0.0           0.0     0.0     0.0   Sabih Unhearfus  \n",
              "3             0.0     6652.0           0.0   181.0   585.0  Meratz Caltilter  \n",
              "4            10.0        0.0         635.0     0.0     0.0   Brence Harperez  \n",
              "...           ...        ...           ...     ...     ...               ...  \n",
              "4272          0.0        0.0           0.0     0.0     0.0       Jeron Peter  \n",
              "4273          0.0      847.0          17.0    10.0   144.0     Matty Scheron  \n",
              "4274          0.0        0.0           0.0     0.0     0.0       Jayrin Pore  \n",
              "4275          0.0     2680.0           0.0     0.0   523.0    Kitakan Conale  \n",
              "4276          0.0        0.0           0.0     0.0     0.0  Lilace Leonzaley  \n",
              "\n",
              "[4277 rows x 13 columns]"
            ],
            "text/html": [
              "\n",
              "  <div id=\"df-eee34d75-8d29-44bd-8e1c-06e6b7485436\">\n",
              "    <div class=\"colab-df-container\">\n",
              "      <div>\n",
              "<style scoped>\n",
              "    .dataframe tbody tr th:only-of-type {\n",
              "        vertical-align: middle;\n",
              "    }\n",
              "\n",
              "    .dataframe tbody tr th {\n",
              "        vertical-align: top;\n",
              "    }\n",
              "\n",
              "    .dataframe thead th {\n",
              "        text-align: right;\n",
              "    }\n",
              "</style>\n",
              "<table border=\"1\" class=\"dataframe\">\n",
              "  <thead>\n",
              "    <tr style=\"text-align: right;\">\n",
              "      <th></th>\n",
              "      <th>PassengerId</th>\n",
              "      <th>HomePlanet</th>\n",
              "      <th>CryoSleep</th>\n",
              "      <th>Cabin</th>\n",
              "      <th>Destination</th>\n",
              "      <th>Age</th>\n",
              "      <th>VIP</th>\n",
              "      <th>RoomService</th>\n",
              "      <th>FoodCourt</th>\n",
              "      <th>ShoppingMall</th>\n",
              "      <th>Spa</th>\n",
              "      <th>VRDeck</th>\n",
              "      <th>Name</th>\n",
              "    </tr>\n",
              "  </thead>\n",
              "  <tbody>\n",
              "    <tr>\n",
              "      <th>0</th>\n",
              "      <td>0013_01</td>\n",
              "      <td>Earth</td>\n",
              "      <td>True</td>\n",
              "      <td>G/3/S</td>\n",
              "      <td>TRAPPIST-1e</td>\n",
              "      <td>27.0</td>\n",
              "      <td>False</td>\n",
              "      <td>0.0</td>\n",
              "      <td>0.0</td>\n",
              "      <td>0.0</td>\n",
              "      <td>0.0</td>\n",
              "      <td>0.0</td>\n",
              "      <td>Nelly Carsoning</td>\n",
              "    </tr>\n",
              "    <tr>\n",
              "      <th>1</th>\n",
              "      <td>0018_01</td>\n",
              "      <td>Earth</td>\n",
              "      <td>False</td>\n",
              "      <td>F/4/S</td>\n",
              "      <td>TRAPPIST-1e</td>\n",
              "      <td>19.0</td>\n",
              "      <td>False</td>\n",
              "      <td>0.0</td>\n",
              "      <td>9.0</td>\n",
              "      <td>0.0</td>\n",
              "      <td>2823.0</td>\n",
              "      <td>0.0</td>\n",
              "      <td>Lerome Peckers</td>\n",
              "    </tr>\n",
              "    <tr>\n",
              "      <th>2</th>\n",
              "      <td>0019_01</td>\n",
              "      <td>Europa</td>\n",
              "      <td>True</td>\n",
              "      <td>C/0/S</td>\n",
              "      <td>55 Cancri e</td>\n",
              "      <td>31.0</td>\n",
              "      <td>False</td>\n",
              "      <td>0.0</td>\n",
              "      <td>0.0</td>\n",
              "      <td>0.0</td>\n",
              "      <td>0.0</td>\n",
              "      <td>0.0</td>\n",
              "      <td>Sabih Unhearfus</td>\n",
              "    </tr>\n",
              "    <tr>\n",
              "      <th>3</th>\n",
              "      <td>0021_01</td>\n",
              "      <td>Europa</td>\n",
              "      <td>False</td>\n",
              "      <td>C/1/S</td>\n",
              "      <td>TRAPPIST-1e</td>\n",
              "      <td>38.0</td>\n",
              "      <td>False</td>\n",
              "      <td>0.0</td>\n",
              "      <td>6652.0</td>\n",
              "      <td>0.0</td>\n",
              "      <td>181.0</td>\n",
              "      <td>585.0</td>\n",
              "      <td>Meratz Caltilter</td>\n",
              "    </tr>\n",
              "    <tr>\n",
              "      <th>4</th>\n",
              "      <td>0023_01</td>\n",
              "      <td>Earth</td>\n",
              "      <td>False</td>\n",
              "      <td>F/5/S</td>\n",
              "      <td>TRAPPIST-1e</td>\n",
              "      <td>20.0</td>\n",
              "      <td>False</td>\n",
              "      <td>10.0</td>\n",
              "      <td>0.0</td>\n",
              "      <td>635.0</td>\n",
              "      <td>0.0</td>\n",
              "      <td>0.0</td>\n",
              "      <td>Brence Harperez</td>\n",
              "    </tr>\n",
              "    <tr>\n",
              "      <th>...</th>\n",
              "      <td>...</td>\n",
              "      <td>...</td>\n",
              "      <td>...</td>\n",
              "      <td>...</td>\n",
              "      <td>...</td>\n",
              "      <td>...</td>\n",
              "      <td>...</td>\n",
              "      <td>...</td>\n",
              "      <td>...</td>\n",
              "      <td>...</td>\n",
              "      <td>...</td>\n",
              "      <td>...</td>\n",
              "      <td>...</td>\n",
              "    </tr>\n",
              "    <tr>\n",
              "      <th>4272</th>\n",
              "      <td>9266_02</td>\n",
              "      <td>Earth</td>\n",
              "      <td>True</td>\n",
              "      <td>G/1496/S</td>\n",
              "      <td>TRAPPIST-1e</td>\n",
              "      <td>34.0</td>\n",
              "      <td>False</td>\n",
              "      <td>0.0</td>\n",
              "      <td>0.0</td>\n",
              "      <td>0.0</td>\n",
              "      <td>0.0</td>\n",
              "      <td>0.0</td>\n",
              "      <td>Jeron Peter</td>\n",
              "    </tr>\n",
              "    <tr>\n",
              "      <th>4273</th>\n",
              "      <td>9269_01</td>\n",
              "      <td>Earth</td>\n",
              "      <td>False</td>\n",
              "      <td>NaN</td>\n",
              "      <td>TRAPPIST-1e</td>\n",
              "      <td>42.0</td>\n",
              "      <td>False</td>\n",
              "      <td>0.0</td>\n",
              "      <td>847.0</td>\n",
              "      <td>17.0</td>\n",
              "      <td>10.0</td>\n",
              "      <td>144.0</td>\n",
              "      <td>Matty Scheron</td>\n",
              "    </tr>\n",
              "    <tr>\n",
              "      <th>4274</th>\n",
              "      <td>9271_01</td>\n",
              "      <td>Mars</td>\n",
              "      <td>True</td>\n",
              "      <td>D/296/P</td>\n",
              "      <td>55 Cancri e</td>\n",
              "      <td>NaN</td>\n",
              "      <td>False</td>\n",
              "      <td>0.0</td>\n",
              "      <td>0.0</td>\n",
              "      <td>0.0</td>\n",
              "      <td>0.0</td>\n",
              "      <td>0.0</td>\n",
              "      <td>Jayrin Pore</td>\n",
              "    </tr>\n",
              "    <tr>\n",
              "      <th>4275</th>\n",
              "      <td>9273_01</td>\n",
              "      <td>Europa</td>\n",
              "      <td>False</td>\n",
              "      <td>D/297/P</td>\n",
              "      <td>NaN</td>\n",
              "      <td>NaN</td>\n",
              "      <td>False</td>\n",
              "      <td>0.0</td>\n",
              "      <td>2680.0</td>\n",
              "      <td>0.0</td>\n",
              "      <td>0.0</td>\n",
              "      <td>523.0</td>\n",
              "      <td>Kitakan Conale</td>\n",
              "    </tr>\n",
              "    <tr>\n",
              "      <th>4276</th>\n",
              "      <td>9277_01</td>\n",
              "      <td>Earth</td>\n",
              "      <td>True</td>\n",
              "      <td>G/1498/S</td>\n",
              "      <td>PSO J318.5-22</td>\n",
              "      <td>43.0</td>\n",
              "      <td>False</td>\n",
              "      <td>0.0</td>\n",
              "      <td>0.0</td>\n",
              "      <td>0.0</td>\n",
              "      <td>0.0</td>\n",
              "      <td>0.0</td>\n",
              "      <td>Lilace Leonzaley</td>\n",
              "    </tr>\n",
              "  </tbody>\n",
              "</table>\n",
              "<p>4277 rows × 13 columns</p>\n",
              "</div>\n",
              "      <button class=\"colab-df-convert\" onclick=\"convertToInteractive('df-eee34d75-8d29-44bd-8e1c-06e6b7485436')\"\n",
              "              title=\"Convert this dataframe to an interactive table.\"\n",
              "              style=\"display:none;\">\n",
              "        \n",
              "  <svg xmlns=\"http://www.w3.org/2000/svg\" height=\"24px\"viewBox=\"0 0 24 24\"\n",
              "       width=\"24px\">\n",
              "    <path d=\"M0 0h24v24H0V0z\" fill=\"none\"/>\n",
              "    <path d=\"M18.56 5.44l.94 2.06.94-2.06 2.06-.94-2.06-.94-.94-2.06-.94 2.06-2.06.94zm-11 1L8.5 8.5l.94-2.06 2.06-.94-2.06-.94L8.5 2.5l-.94 2.06-2.06.94zm10 10l.94 2.06.94-2.06 2.06-.94-2.06-.94-.94-2.06-.94 2.06-2.06.94z\"/><path d=\"M17.41 7.96l-1.37-1.37c-.4-.4-.92-.59-1.43-.59-.52 0-1.04.2-1.43.59L10.3 9.45l-7.72 7.72c-.78.78-.78 2.05 0 2.83L4 21.41c.39.39.9.59 1.41.59.51 0 1.02-.2 1.41-.59l7.78-7.78 2.81-2.81c.8-.78.8-2.07 0-2.86zM5.41 20L4 18.59l7.72-7.72 1.47 1.35L5.41 20z\"/>\n",
              "  </svg>\n",
              "      </button>\n",
              "      \n",
              "  <style>\n",
              "    .colab-df-container {\n",
              "      display:flex;\n",
              "      flex-wrap:wrap;\n",
              "      gap: 12px;\n",
              "    }\n",
              "\n",
              "    .colab-df-convert {\n",
              "      background-color: #E8F0FE;\n",
              "      border: none;\n",
              "      border-radius: 50%;\n",
              "      cursor: pointer;\n",
              "      display: none;\n",
              "      fill: #1967D2;\n",
              "      height: 32px;\n",
              "      padding: 0 0 0 0;\n",
              "      width: 32px;\n",
              "    }\n",
              "\n",
              "    .colab-df-convert:hover {\n",
              "      background-color: #E2EBFA;\n",
              "      box-shadow: 0px 1px 2px rgba(60, 64, 67, 0.3), 0px 1px 3px 1px rgba(60, 64, 67, 0.15);\n",
              "      fill: #174EA6;\n",
              "    }\n",
              "\n",
              "    [theme=dark] .colab-df-convert {\n",
              "      background-color: #3B4455;\n",
              "      fill: #D2E3FC;\n",
              "    }\n",
              "\n",
              "    [theme=dark] .colab-df-convert:hover {\n",
              "      background-color: #434B5C;\n",
              "      box-shadow: 0px 1px 3px 1px rgba(0, 0, 0, 0.15);\n",
              "      filter: drop-shadow(0px 1px 2px rgba(0, 0, 0, 0.3));\n",
              "      fill: #FFFFFF;\n",
              "    }\n",
              "  </style>\n",
              "\n",
              "      <script>\n",
              "        const buttonEl =\n",
              "          document.querySelector('#df-eee34d75-8d29-44bd-8e1c-06e6b7485436 button.colab-df-convert');\n",
              "        buttonEl.style.display =\n",
              "          google.colab.kernel.accessAllowed ? 'block' : 'none';\n",
              "\n",
              "        async function convertToInteractive(key) {\n",
              "          const element = document.querySelector('#df-eee34d75-8d29-44bd-8e1c-06e6b7485436');\n",
              "          const dataTable =\n",
              "            await google.colab.kernel.invokeFunction('convertToInteractive',\n",
              "                                                     [key], {});\n",
              "          if (!dataTable) return;\n",
              "\n",
              "          const docLinkHtml = 'Like what you see? Visit the ' +\n",
              "            '<a target=\"_blank\" href=https://colab.research.google.com/notebooks/data_table.ipynb>data table notebook</a>'\n",
              "            + ' to learn more about interactive tables.';\n",
              "          element.innerHTML = '';\n",
              "          dataTable['output_type'] = 'display_data';\n",
              "          await google.colab.output.renderOutput(dataTable, element);\n",
              "          const docLink = document.createElement('div');\n",
              "          docLink.innerHTML = docLinkHtml;\n",
              "          element.appendChild(docLink);\n",
              "        }\n",
              "      </script>\n",
              "    </div>\n",
              "  </div>\n",
              "  "
            ]
          },
          "metadata": {},
          "execution_count": 7
        }
      ]
    },
    {
      "cell_type": "code",
      "source": [
        "df.info()"
      ],
      "metadata": {
        "id": "cbEVHJwY51l-",
        "colab": {
          "base_uri": "https://localhost:8080/"
        },
        "outputId": "6a115048-96ed-4afd-ab95-82e297582a66"
      },
      "execution_count": null,
      "outputs": [
        {
          "output_type": "stream",
          "name": "stdout",
          "text": [
            "<class 'pandas.core.frame.DataFrame'>\n",
            "RangeIndex: 8693 entries, 0 to 8692\n",
            "Data columns (total 14 columns):\n",
            " #   Column        Non-Null Count  Dtype  \n",
            "---  ------        --------------  -----  \n",
            " 0   PassengerId   8693 non-null   object \n",
            " 1   HomePlanet    8492 non-null   object \n",
            " 2   CryoSleep     8476 non-null   object \n",
            " 3   Cabin         8494 non-null   object \n",
            " 4   Destination   8511 non-null   object \n",
            " 5   Age           8514 non-null   float64\n",
            " 6   VIP           8490 non-null   object \n",
            " 7   RoomService   8512 non-null   float64\n",
            " 8   FoodCourt     8510 non-null   float64\n",
            " 9   ShoppingMall  8485 non-null   float64\n",
            " 10  Spa           8510 non-null   float64\n",
            " 11  VRDeck        8505 non-null   float64\n",
            " 12  Name          8493 non-null   object \n",
            " 13  Transported   8693 non-null   bool   \n",
            "dtypes: bool(1), float64(6), object(7)\n",
            "memory usage: 891.5+ KB\n"
          ]
        }
      ]
    },
    {
      "cell_type": "code",
      "source": [
        "df[df.isnull().any(axis=1)]"
      ],
      "metadata": {
        "colab": {
          "base_uri": "https://localhost:8080/",
          "height": 424
        },
        "id": "3SYtEzoL1aeo",
        "outputId": "4a65c134-320e-4088-838f-7657863a5ecb"
      },
      "execution_count": null,
      "outputs": [
        {
          "output_type": "execute_result",
          "data": {
            "text/plain": [
              "     PassengerId HomePlanet CryoSleep     Cabin  Destination   Age    VIP  \\\n",
              "7        0006_02      Earth      True     G/0/S  TRAPPIST-1e  28.0  False   \n",
              "10       0008_02     Europa      True     B/1/P  TRAPPIST-1e  34.0  False   \n",
              "15       0012_01      Earth     False       NaN  TRAPPIST-1e  31.0  False   \n",
              "16       0014_01       Mars     False     F/3/P  55 Cancri e  27.0  False   \n",
              "23       0020_03      Earth      True     E/0/S  55 Cancri e  29.0  False   \n",
              "...          ...        ...       ...       ...          ...   ...    ...   \n",
              "8667     9250_01     Europa     False   E/597/P  TRAPPIST-1e  29.0  False   \n",
              "8674     9257_01        NaN     False  F/1892/P  TRAPPIST-1e  13.0  False   \n",
              "8675     9259_01      Earth       NaN  F/1893/P  TRAPPIST-1e  44.0  False   \n",
              "8684     9274_01        NaN      True  G/1508/P  TRAPPIST-1e  23.0  False   \n",
              "8687     9275_03     Europa       NaN    A/97/P  TRAPPIST-1e  30.0  False   \n",
              "\n",
              "      RoomService  FoodCourt  ShoppingMall   Spa  VRDeck                Name  \\\n",
              "7             0.0        0.0           0.0   0.0     NaN  Candra Jacostaffey   \n",
              "10            0.0        0.0           NaN   0.0     0.0      Altardr Flatic   \n",
              "15           32.0        0.0         876.0   0.0     0.0       Justie Pooles   \n",
              "16         1286.0      122.0           NaN   0.0     0.0         Flats Eccle   \n",
              "23            0.0        0.0           NaN   0.0     0.0  Mollen Mcfaddennon   \n",
              "...           ...        ...           ...   ...     ...                 ...   \n",
              "8667          0.0     2972.0           NaN  28.0   188.0    Chain Reedectied   \n",
              "8674         39.0        0.0        1085.0  24.0     0.0          Ties Apple   \n",
              "8675       1030.0     1015.0           0.0  11.0     NaN     Annah Gilleyons   \n",
              "8684          0.0        0.0           0.0   0.0     0.0     Chelsa Bullisey   \n",
              "8687          0.0     3208.0           0.0   2.0   330.0     Atlasym Conable   \n",
              "\n",
              "      Transported  \n",
              "7            True  \n",
              "10           True  \n",
              "15          False  \n",
              "16          False  \n",
              "23          False  \n",
              "...           ...  \n",
              "8667         True  \n",
              "8674        False  \n",
              "8675         True  \n",
              "8684         True  \n",
              "8687         True  \n",
              "\n",
              "[2087 rows x 14 columns]"
            ],
            "text/html": [
              "\n",
              "  <div id=\"df-5cf1c9fc-66ae-4f6b-9669-a60f87d3178b\">\n",
              "    <div class=\"colab-df-container\">\n",
              "      <div>\n",
              "<style scoped>\n",
              "    .dataframe tbody tr th:only-of-type {\n",
              "        vertical-align: middle;\n",
              "    }\n",
              "\n",
              "    .dataframe tbody tr th {\n",
              "        vertical-align: top;\n",
              "    }\n",
              "\n",
              "    .dataframe thead th {\n",
              "        text-align: right;\n",
              "    }\n",
              "</style>\n",
              "<table border=\"1\" class=\"dataframe\">\n",
              "  <thead>\n",
              "    <tr style=\"text-align: right;\">\n",
              "      <th></th>\n",
              "      <th>PassengerId</th>\n",
              "      <th>HomePlanet</th>\n",
              "      <th>CryoSleep</th>\n",
              "      <th>Cabin</th>\n",
              "      <th>Destination</th>\n",
              "      <th>Age</th>\n",
              "      <th>VIP</th>\n",
              "      <th>RoomService</th>\n",
              "      <th>FoodCourt</th>\n",
              "      <th>ShoppingMall</th>\n",
              "      <th>Spa</th>\n",
              "      <th>VRDeck</th>\n",
              "      <th>Name</th>\n",
              "      <th>Transported</th>\n",
              "    </tr>\n",
              "  </thead>\n",
              "  <tbody>\n",
              "    <tr>\n",
              "      <th>7</th>\n",
              "      <td>0006_02</td>\n",
              "      <td>Earth</td>\n",
              "      <td>True</td>\n",
              "      <td>G/0/S</td>\n",
              "      <td>TRAPPIST-1e</td>\n",
              "      <td>28.0</td>\n",
              "      <td>False</td>\n",
              "      <td>0.0</td>\n",
              "      <td>0.0</td>\n",
              "      <td>0.0</td>\n",
              "      <td>0.0</td>\n",
              "      <td>NaN</td>\n",
              "      <td>Candra Jacostaffey</td>\n",
              "      <td>True</td>\n",
              "    </tr>\n",
              "    <tr>\n",
              "      <th>10</th>\n",
              "      <td>0008_02</td>\n",
              "      <td>Europa</td>\n",
              "      <td>True</td>\n",
              "      <td>B/1/P</td>\n",
              "      <td>TRAPPIST-1e</td>\n",
              "      <td>34.0</td>\n",
              "      <td>False</td>\n",
              "      <td>0.0</td>\n",
              "      <td>0.0</td>\n",
              "      <td>NaN</td>\n",
              "      <td>0.0</td>\n",
              "      <td>0.0</td>\n",
              "      <td>Altardr Flatic</td>\n",
              "      <td>True</td>\n",
              "    </tr>\n",
              "    <tr>\n",
              "      <th>15</th>\n",
              "      <td>0012_01</td>\n",
              "      <td>Earth</td>\n",
              "      <td>False</td>\n",
              "      <td>NaN</td>\n",
              "      <td>TRAPPIST-1e</td>\n",
              "      <td>31.0</td>\n",
              "      <td>False</td>\n",
              "      <td>32.0</td>\n",
              "      <td>0.0</td>\n",
              "      <td>876.0</td>\n",
              "      <td>0.0</td>\n",
              "      <td>0.0</td>\n",
              "      <td>Justie Pooles</td>\n",
              "      <td>False</td>\n",
              "    </tr>\n",
              "    <tr>\n",
              "      <th>16</th>\n",
              "      <td>0014_01</td>\n",
              "      <td>Mars</td>\n",
              "      <td>False</td>\n",
              "      <td>F/3/P</td>\n",
              "      <td>55 Cancri e</td>\n",
              "      <td>27.0</td>\n",
              "      <td>False</td>\n",
              "      <td>1286.0</td>\n",
              "      <td>122.0</td>\n",
              "      <td>NaN</td>\n",
              "      <td>0.0</td>\n",
              "      <td>0.0</td>\n",
              "      <td>Flats Eccle</td>\n",
              "      <td>False</td>\n",
              "    </tr>\n",
              "    <tr>\n",
              "      <th>23</th>\n",
              "      <td>0020_03</td>\n",
              "      <td>Earth</td>\n",
              "      <td>True</td>\n",
              "      <td>E/0/S</td>\n",
              "      <td>55 Cancri e</td>\n",
              "      <td>29.0</td>\n",
              "      <td>False</td>\n",
              "      <td>0.0</td>\n",
              "      <td>0.0</td>\n",
              "      <td>NaN</td>\n",
              "      <td>0.0</td>\n",
              "      <td>0.0</td>\n",
              "      <td>Mollen Mcfaddennon</td>\n",
              "      <td>False</td>\n",
              "    </tr>\n",
              "    <tr>\n",
              "      <th>...</th>\n",
              "      <td>...</td>\n",
              "      <td>...</td>\n",
              "      <td>...</td>\n",
              "      <td>...</td>\n",
              "      <td>...</td>\n",
              "      <td>...</td>\n",
              "      <td>...</td>\n",
              "      <td>...</td>\n",
              "      <td>...</td>\n",
              "      <td>...</td>\n",
              "      <td>...</td>\n",
              "      <td>...</td>\n",
              "      <td>...</td>\n",
              "      <td>...</td>\n",
              "    </tr>\n",
              "    <tr>\n",
              "      <th>8667</th>\n",
              "      <td>9250_01</td>\n",
              "      <td>Europa</td>\n",
              "      <td>False</td>\n",
              "      <td>E/597/P</td>\n",
              "      <td>TRAPPIST-1e</td>\n",
              "      <td>29.0</td>\n",
              "      <td>False</td>\n",
              "      <td>0.0</td>\n",
              "      <td>2972.0</td>\n",
              "      <td>NaN</td>\n",
              "      <td>28.0</td>\n",
              "      <td>188.0</td>\n",
              "      <td>Chain Reedectied</td>\n",
              "      <td>True</td>\n",
              "    </tr>\n",
              "    <tr>\n",
              "      <th>8674</th>\n",
              "      <td>9257_01</td>\n",
              "      <td>NaN</td>\n",
              "      <td>False</td>\n",
              "      <td>F/1892/P</td>\n",
              "      <td>TRAPPIST-1e</td>\n",
              "      <td>13.0</td>\n",
              "      <td>False</td>\n",
              "      <td>39.0</td>\n",
              "      <td>0.0</td>\n",
              "      <td>1085.0</td>\n",
              "      <td>24.0</td>\n",
              "      <td>0.0</td>\n",
              "      <td>Ties Apple</td>\n",
              "      <td>False</td>\n",
              "    </tr>\n",
              "    <tr>\n",
              "      <th>8675</th>\n",
              "      <td>9259_01</td>\n",
              "      <td>Earth</td>\n",
              "      <td>NaN</td>\n",
              "      <td>F/1893/P</td>\n",
              "      <td>TRAPPIST-1e</td>\n",
              "      <td>44.0</td>\n",
              "      <td>False</td>\n",
              "      <td>1030.0</td>\n",
              "      <td>1015.0</td>\n",
              "      <td>0.0</td>\n",
              "      <td>11.0</td>\n",
              "      <td>NaN</td>\n",
              "      <td>Annah Gilleyons</td>\n",
              "      <td>True</td>\n",
              "    </tr>\n",
              "    <tr>\n",
              "      <th>8684</th>\n",
              "      <td>9274_01</td>\n",
              "      <td>NaN</td>\n",
              "      <td>True</td>\n",
              "      <td>G/1508/P</td>\n",
              "      <td>TRAPPIST-1e</td>\n",
              "      <td>23.0</td>\n",
              "      <td>False</td>\n",
              "      <td>0.0</td>\n",
              "      <td>0.0</td>\n",
              "      <td>0.0</td>\n",
              "      <td>0.0</td>\n",
              "      <td>0.0</td>\n",
              "      <td>Chelsa Bullisey</td>\n",
              "      <td>True</td>\n",
              "    </tr>\n",
              "    <tr>\n",
              "      <th>8687</th>\n",
              "      <td>9275_03</td>\n",
              "      <td>Europa</td>\n",
              "      <td>NaN</td>\n",
              "      <td>A/97/P</td>\n",
              "      <td>TRAPPIST-1e</td>\n",
              "      <td>30.0</td>\n",
              "      <td>False</td>\n",
              "      <td>0.0</td>\n",
              "      <td>3208.0</td>\n",
              "      <td>0.0</td>\n",
              "      <td>2.0</td>\n",
              "      <td>330.0</td>\n",
              "      <td>Atlasym Conable</td>\n",
              "      <td>True</td>\n",
              "    </tr>\n",
              "  </tbody>\n",
              "</table>\n",
              "<p>2087 rows × 14 columns</p>\n",
              "</div>\n",
              "      <button class=\"colab-df-convert\" onclick=\"convertToInteractive('df-5cf1c9fc-66ae-4f6b-9669-a60f87d3178b')\"\n",
              "              title=\"Convert this dataframe to an interactive table.\"\n",
              "              style=\"display:none;\">\n",
              "        \n",
              "  <svg xmlns=\"http://www.w3.org/2000/svg\" height=\"24px\"viewBox=\"0 0 24 24\"\n",
              "       width=\"24px\">\n",
              "    <path d=\"M0 0h24v24H0V0z\" fill=\"none\"/>\n",
              "    <path d=\"M18.56 5.44l.94 2.06.94-2.06 2.06-.94-2.06-.94-.94-2.06-.94 2.06-2.06.94zm-11 1L8.5 8.5l.94-2.06 2.06-.94-2.06-.94L8.5 2.5l-.94 2.06-2.06.94zm10 10l.94 2.06.94-2.06 2.06-.94-2.06-.94-.94-2.06-.94 2.06-2.06.94z\"/><path d=\"M17.41 7.96l-1.37-1.37c-.4-.4-.92-.59-1.43-.59-.52 0-1.04.2-1.43.59L10.3 9.45l-7.72 7.72c-.78.78-.78 2.05 0 2.83L4 21.41c.39.39.9.59 1.41.59.51 0 1.02-.2 1.41-.59l7.78-7.78 2.81-2.81c.8-.78.8-2.07 0-2.86zM5.41 20L4 18.59l7.72-7.72 1.47 1.35L5.41 20z\"/>\n",
              "  </svg>\n",
              "      </button>\n",
              "      \n",
              "  <style>\n",
              "    .colab-df-container {\n",
              "      display:flex;\n",
              "      flex-wrap:wrap;\n",
              "      gap: 12px;\n",
              "    }\n",
              "\n",
              "    .colab-df-convert {\n",
              "      background-color: #E8F0FE;\n",
              "      border: none;\n",
              "      border-radius: 50%;\n",
              "      cursor: pointer;\n",
              "      display: none;\n",
              "      fill: #1967D2;\n",
              "      height: 32px;\n",
              "      padding: 0 0 0 0;\n",
              "      width: 32px;\n",
              "    }\n",
              "\n",
              "    .colab-df-convert:hover {\n",
              "      background-color: #E2EBFA;\n",
              "      box-shadow: 0px 1px 2px rgba(60, 64, 67, 0.3), 0px 1px 3px 1px rgba(60, 64, 67, 0.15);\n",
              "      fill: #174EA6;\n",
              "    }\n",
              "\n",
              "    [theme=dark] .colab-df-convert {\n",
              "      background-color: #3B4455;\n",
              "      fill: #D2E3FC;\n",
              "    }\n",
              "\n",
              "    [theme=dark] .colab-df-convert:hover {\n",
              "      background-color: #434B5C;\n",
              "      box-shadow: 0px 1px 3px 1px rgba(0, 0, 0, 0.15);\n",
              "      filter: drop-shadow(0px 1px 2px rgba(0, 0, 0, 0.3));\n",
              "      fill: #FFFFFF;\n",
              "    }\n",
              "  </style>\n",
              "\n",
              "      <script>\n",
              "        const buttonEl =\n",
              "          document.querySelector('#df-5cf1c9fc-66ae-4f6b-9669-a60f87d3178b button.colab-df-convert');\n",
              "        buttonEl.style.display =\n",
              "          google.colab.kernel.accessAllowed ? 'block' : 'none';\n",
              "\n",
              "        async function convertToInteractive(key) {\n",
              "          const element = document.querySelector('#df-5cf1c9fc-66ae-4f6b-9669-a60f87d3178b');\n",
              "          const dataTable =\n",
              "            await google.colab.kernel.invokeFunction('convertToInteractive',\n",
              "                                                     [key], {});\n",
              "          if (!dataTable) return;\n",
              "\n",
              "          const docLinkHtml = 'Like what you see? Visit the ' +\n",
              "            '<a target=\"_blank\" href=https://colab.research.google.com/notebooks/data_table.ipynb>data table notebook</a>'\n",
              "            + ' to learn more about interactive tables.';\n",
              "          element.innerHTML = '';\n",
              "          dataTable['output_type'] = 'display_data';\n",
              "          await google.colab.output.renderOutput(dataTable, element);\n",
              "          const docLink = document.createElement('div');\n",
              "          docLink.innerHTML = docLinkHtml;\n",
              "          element.appendChild(docLink);\n",
              "        }\n",
              "      </script>\n",
              "    </div>\n",
              "  </div>\n",
              "  "
            ]
          },
          "metadata": {},
          "execution_count": 9
        }
      ]
    },
    {
      "cell_type": "code",
      "source": [
        "df.nunique()"
      ],
      "metadata": {
        "colab": {
          "base_uri": "https://localhost:8080/"
        },
        "id": "KO_jnGbouD3T",
        "outputId": "4125971f-1d7f-4b31-c5d1-4e751a9f5abb"
      },
      "execution_count": null,
      "outputs": [
        {
          "output_type": "execute_result",
          "data": {
            "text/plain": [
              "PassengerId     8693\n",
              "HomePlanet         3\n",
              "CryoSleep          2\n",
              "Cabin           6560\n",
              "Destination        3\n",
              "Age               80\n",
              "VIP                2\n",
              "RoomService     1273\n",
              "FoodCourt       1507\n",
              "ShoppingMall    1115\n",
              "Spa             1327\n",
              "VRDeck          1306\n",
              "Name            8473\n",
              "Transported        2\n",
              "dtype: int64"
            ]
          },
          "metadata": {},
          "execution_count": 10
        }
      ]
    },
    {
      "cell_type": "markdown",
      "source": [
        "## Data analysis\n",
        "\n",
        "Analyze the data and perform exploratory data analysis"
      ],
      "metadata": {
        "id": "L3S5a8uP6WqF"
      }
    },
    {
      "cell_type": "markdown",
      "source": [
        "### Plot histograms"
      ],
      "metadata": {
        "id": "2FVlYwzFJvg7"
      }
    },
    {
      "cell_type": "code",
      "source": [
        "# histogram\n",
        "df.hist(figsize=(15,15))\n",
        "plt.tight_layout()\n",
        "plt.show()"
      ],
      "metadata": {
        "id": "2L0qhBAvByEN",
        "colab": {
          "base_uri": "https://localhost:8080/",
          "height": 1000
        },
        "outputId": "86b90dd7-96f1-4255-fd09-afb0cc9f8ff6"
      },
      "execution_count": null,
      "outputs": [
        {
          "output_type": "display_data",
          "data": {
            "text/plain": [
              "<Figure size 1080x1080 with 6 Axes>"
            ],
            "image/png": "[encoded data removed]"
          },
          "metadata": {
            "needs_background": "light"
          }
        }
      ]
    },
    {
      "cell_type": "markdown",
      "source": [
        "### Identify correlations of data features and propose visual representation of the correlations."
      ],
      "metadata": {
        "id": "HNZ2K6CrJ2YX"
      }
    },
    {
      "cell_type": "code",
      "source": [
        "# correlation\n",
        "# set_option('precision', 3)\n",
        "df_corr = df.corr(method='pearson')\n",
        "print(df_corr)"
      ],
      "metadata": {
        "id": "bpdhjNhnCOIO",
        "colab": {
          "base_uri": "https://localhost:8080/"
        },
        "outputId": "b70c4bcc-e327-4dcf-8400-e8152023de50"
      },
      "execution_count": null,
      "outputs": [
        {
          "output_type": "stream",
          "name": "stdout",
          "text": [
            "                   Age  RoomService  FoodCourt  ShoppingMall       Spa  \\\n",
            "Age           1.000000     0.068723   0.130421      0.033133  0.123970   \n",
            "RoomService   0.068723     1.000000  -0.015889      0.054480  0.010080   \n",
            "FoodCourt     0.130421    -0.015889   1.000000     -0.014228  0.221891   \n",
            "ShoppingMall  0.033133     0.054480  -0.014228      1.000000  0.013879   \n",
            "Spa           0.123970     0.010080   0.221891      0.013879  1.000000   \n",
            "VRDeck        0.101007    -0.019581   0.227995     -0.007322  0.153821   \n",
            "Transported  -0.075026    -0.244611   0.046566      0.010141 -0.221131   \n",
            "\n",
            "                VRDeck  Transported  \n",
            "Age           0.101007    -0.075026  \n",
            "RoomService  -0.019581    -0.244611  \n",
            "FoodCourt     0.227995     0.046566  \n",
            "ShoppingMall -0.007322     0.010141  \n",
            "Spa           0.153821    -0.221131  \n",
            "VRDeck        1.000000    -0.207075  \n",
            "Transported  -0.207075     1.000000  \n"
          ]
        }
      ]
    },
    {
      "cell_type": "code",
      "source": [
        "# correlation visualization\n",
        "plt.figure(figsize=(16,9))\n",
        "sns.heatmap(df_corr, annot=True)\n",
        "plt.show()"
      ],
      "metadata": {
        "id": "aAgh152j54VJ",
        "colab": {
          "base_uri": "https://localhost:8080/",
          "height": 541
        },
        "outputId": "52b96c57-6226-4630-863f-5ee39eab3307"
      },
      "execution_count": null,
      "outputs": [
        {
          "output_type": "display_data",
          "data": {
            "text/plain": [
              "<Figure size 1152x648 with 2 Axes>"
            ],
            "image/png": "[encoded data removed]"
          },
          "metadata": {
            "needs_background": "light"
          }
        }
      ]
    },
    {
      "cell_type": "code",
      "source": [
        "heatmap = sns.heatmap(df.corr()[['Transported']].sort_values(by='Transported', ascending=False), vmin=-1, vmax=1, annot=True)"
      ],
      "metadata": {
        "id": "cp5myK4BRY-0",
        "colab": {
          "base_uri": "https://localhost:8080/",
          "height": 269
        },
        "outputId": "b07baec4-8d5a-4655-8250-80477c338ac3"
      },
      "execution_count": null,
      "outputs": [
        {
          "output_type": "display_data",
          "data": {
            "text/plain": [
              "<Figure size 432x288 with 2 Axes>"
            ],
            "image/png": "[encoded data removed]"
          },
          "metadata": {
            "needs_background": "light"
          }
        }
      ]
    },
    {
      "cell_type": "markdown",
      "source": [
        "### Check if the dataset is balanced (if not think about methods to aquire balance)"
      ],
      "metadata": {
        "id": "6vvE8qHEJ5a1"
      }
    },
    {
      "cell_type": "code",
      "source": [
        "# target = \"Transported\"\n",
        "df['Transported'].value_counts()"
      ],
      "metadata": {
        "id": "rRn4E1DsJ7_m",
        "colab": {
          "base_uri": "https://localhost:8080/"
        },
        "outputId": "67f2b9bb-35c5-4779-b3c5-a9be73460089"
      },
      "execution_count": null,
      "outputs": [
        {
          "output_type": "execute_result",
          "data": {
            "text/plain": [
              "True     4378\n",
              "False    4315\n",
              "Name: Transported, dtype: int64"
            ]
          },
          "metadata": {},
          "execution_count": 15
        }
      ]
    },
    {
      "cell_type": "markdown",
      "source": [
        "Target feature balanced"
      ],
      "metadata": {
        "id": "A-_LqatiLV--"
      }
    },
    {
      "cell_type": "markdown",
      "source": [
        "### Use pandas profiler to generate report in html format"
      ],
      "metadata": {
        "id": "c8p7aAgvJ8K9"
      }
    },
    {
      "cell_type": "code",
      "source": [
        "# prof = ProfileReport(df)\n",
        "# prof.to_file(output_file='output.html')"
      ],
      "metadata": {
        "id": "h2g2XURJMJRO"
      },
      "execution_count": null,
      "outputs": []
    },
    {
      "cell_type": "markdown",
      "source": [
        "## Data preprocessing\n",
        "Prepare data using preprocessing methods."
      ],
      "metadata": {
        "id": "1Rp4C9hmA9H3"
      }
    },
    {
      "cell_type": "code",
      "source": [
        "target_name = \"Transported\"\n",
        "X = df.drop(columns=[target_name])\n",
        "y = df[target_name]\n",
        "# y = df[target_name].astype(str)"
      ],
      "metadata": {
        "id": "NzgnEDsyIVLw"
      },
      "execution_count": null,
      "outputs": []
    },
    {
      "cell_type": "code",
      "source": [
        "print(y,2*'\\n')\n",
        "print(X)"
      ],
      "metadata": {
        "colab": {
          "base_uri": "https://localhost:8080/"
        },
        "id": "XV7EnlzqIu20",
        "outputId": "d7d8810f-8faf-4bc1-a562-77b1be5a2e59"
      },
      "execution_count": null,
      "outputs": [
        {
          "output_type": "stream",
          "name": "stdout",
          "text": [
            "0       False\n",
            "1        True\n",
            "2       False\n",
            "3       False\n",
            "4        True\n",
            "        ...  \n",
            "8688    False\n",
            "8689    False\n",
            "8690     True\n",
            "8691    False\n",
            "8692     True\n",
            "Name: Transported, Length: 8693, dtype: bool \n",
            "\n",
            "\n",
            "     PassengerId HomePlanet CryoSleep     Cabin    Destination   Age    VIP  \\\n",
            "0        0001_01     Europa     False     B/0/P    TRAPPIST-1e  39.0  False   \n",
            "1        0002_01      Earth     False     F/0/S    TRAPPIST-1e  24.0  False   \n",
            "2        0003_01     Europa     False     A/0/S    TRAPPIST-1e  58.0   True   \n",
            "3        0003_02     Europa     False     A/0/S    TRAPPIST-1e  33.0  False   \n",
            "4        0004_01      Earth     False     F/1/S    TRAPPIST-1e  16.0  False   \n",
            "...          ...        ...       ...       ...            ...   ...    ...   \n",
            "8688     9276_01     Europa     False    A/98/P    55 Cancri e  41.0   True   \n",
            "8689     9278_01      Earth      True  G/1499/S  PSO J318.5-22  18.0  False   \n",
            "8690     9279_01      Earth     False  G/1500/S    TRAPPIST-1e  26.0  False   \n",
            "8691     9280_01     Europa     False   E/608/S    55 Cancri e  32.0  False   \n",
            "8692     9280_02     Europa     False   E/608/S    TRAPPIST-1e  44.0  False   \n",
            "\n",
            "      RoomService  FoodCourt  ShoppingMall     Spa  VRDeck               Name  \n",
            "0             0.0        0.0           0.0     0.0     0.0    Maham Ofracculy  \n",
            "1           109.0        9.0          25.0   549.0    44.0       Juanna Vines  \n",
            "2            43.0     3576.0           0.0  6715.0    49.0      Altark Susent  \n",
            "3             0.0     1283.0         371.0  3329.0   193.0       Solam Susent  \n",
            "4           303.0       70.0         151.0   565.0     2.0  Willy Santantines  \n",
            "...           ...        ...           ...     ...     ...                ...  \n",
            "8688          0.0     6819.0           0.0  1643.0    74.0  Gravior Noxnuther  \n",
            "8689          0.0        0.0           0.0     0.0     0.0    Kurta Mondalley  \n",
            "8690          0.0        0.0        1872.0     1.0     0.0       Fayey Connon  \n",
            "8691          0.0     1049.0           0.0   353.0  3235.0   Celeon Hontichre  \n",
            "8692        126.0     4688.0           0.0     0.0    12.0   Propsh Hontichre  \n",
            "\n",
            "[8693 rows x 13 columns]\n"
          ]
        }
      ]
    },
    {
      "cell_type": "code",
      "source": [
        "X"
      ],
      "metadata": {
        "colab": {
          "base_uri": "https://localhost:8080/",
          "height": 424
        },
        "id": "_bM_G0pDJwnm",
        "outputId": "df8b9a96-37ca-44ae-816a-5368981593b9"
      },
      "execution_count": null,
      "outputs": [
        {
          "output_type": "execute_result",
          "data": {
            "text/plain": [
              "     PassengerId HomePlanet CryoSleep     Cabin    Destination   Age    VIP  \\\n",
              "0        0001_01     Europa     False     B/0/P    TRAPPIST-1e  39.0  False   \n",
              "1        0002_01      Earth     False     F/0/S    TRAPPIST-1e  24.0  False   \n",
              "2        0003_01     Europa     False     A/0/S    TRAPPIST-1e  58.0   True   \n",
              "3        0003_02     Europa     False     A/0/S    TRAPPIST-1e  33.0  False   \n",
              "4        0004_01      Earth     False     F/1/S    TRAPPIST-1e  16.0  False   \n",
              "...          ...        ...       ...       ...            ...   ...    ...   \n",
              "8688     9276_01     Europa     False    A/98/P    55 Cancri e  41.0   True   \n",
              "8689     9278_01      Earth      True  G/1499/S  PSO J318.5-22  18.0  False   \n",
              "8690     9279_01      Earth     False  G/1500/S    TRAPPIST-1e  26.0  False   \n",
              "8691     9280_01     Europa     False   E/608/S    55 Cancri e  32.0  False   \n",
              "8692     9280_02     Europa     False   E/608/S    TRAPPIST-1e  44.0  False   \n",
              "\n",
              "      RoomService  FoodCourt  ShoppingMall     Spa  VRDeck               Name  \n",
              "0             0.0        0.0           0.0     0.0     0.0    Maham Ofracculy  \n",
              "1           109.0        9.0          25.0   549.0    44.0       Juanna Vines  \n",
              "2            43.0     3576.0           0.0  6715.0    49.0      Altark Susent  \n",
              "3             0.0     1283.0         371.0  3329.0   193.0       Solam Susent  \n",
              "4           303.0       70.0         151.0   565.0     2.0  Willy Santantines  \n",
              "...           ...        ...           ...     ...     ...                ...  \n",
              "8688          0.0     6819.0           0.0  1643.0    74.0  Gravior Noxnuther  \n",
              "8689          0.0        0.0           0.0     0.0     0.0    Kurta Mondalley  \n",
              "8690          0.0        0.0        1872.0     1.0     0.0       Fayey Connon  \n",
              "8691          0.0     1049.0           0.0   353.0  3235.0   Celeon Hontichre  \n",
              "8692        126.0     4688.0           0.0     0.0    12.0   Propsh Hontichre  \n",
              "\n",
              "[8693 rows x 13 columns]"
            ],
            "text/html": [
              "\n",
              "  <div id=\"df-0b7f8374-9933-4ab7-83eb-5cf9280be513\">\n",
              "    <div class=\"colab-df-container\">\n",
              "      <div>\n",
              "<style scoped>\n",
              "    .dataframe tbody tr th:only-of-type {\n",
              "        vertical-align: middle;\n",
              "    }\n",
              "\n",
              "    .dataframe tbody tr th {\n",
              "        vertical-align: top;\n",
              "    }\n",
              "\n",
              "    .dataframe thead th {\n",
              "        text-align: right;\n",
              "    }\n",
              "</style>\n",
              "<table border=\"1\" class=\"dataframe\">\n",
              "  <thead>\n",
              "    <tr style=\"text-align: right;\">\n",
              "      <th></th>\n",
              "      <th>PassengerId</th>\n",
              "      <th>HomePlanet</th>\n",
              "      <th>CryoSleep</th>\n",
              "      <th>Cabin</th>\n",
              "      <th>Destination</th>\n",
              "      <th>Age</th>\n",
              "      <th>VIP</th>\n",
              "      <th>RoomService</th>\n",
              "      <th>FoodCourt</th>\n",
              "      <th>ShoppingMall</th>\n",
              "      <th>Spa</th>\n",
              "      <th>VRDeck</th>\n",
              "      <th>Name</th>\n",
              "    </tr>\n",
              "  </thead>\n",
              "  <tbody>\n",
              "    <tr>\n",
              "      <th>0</th>\n",
              "      <td>0001_01</td>\n",
              "      <td>Europa</td>\n",
              "      <td>False</td>\n",
              "      <td>B/0/P</td>\n",
              "      <td>TRAPPIST-1e</td>\n",
              "      <td>39.0</td>\n",
              "      <td>False</td>\n",
              "      <td>0.0</td>\n",
              "      <td>0.0</td>\n",
              "      <td>0.0</td>\n",
              "      <td>0.0</td>\n",
              "      <td>0.0</td>\n",
              "      <td>Maham Ofracculy</td>\n",
              "    </tr>\n",
              "    <tr>\n",
              "      <th>1</th>\n",
              "      <td>0002_01</td>\n",
              "      <td>Earth</td>\n",
              "      <td>False</td>\n",
              "      <td>F/0/S</td>\n",
              "      <td>TRAPPIST-1e</td>\n",
              "      <td>24.0</td>\n",
              "      <td>False</td>\n",
              "      <td>109.0</td>\n",
              "      <td>9.0</td>\n",
              "      <td>25.0</td>\n",
              "      <td>549.0</td>\n",
              "      <td>44.0</td>\n",
              "      <td>Juanna Vines</td>\n",
              "    </tr>\n",
              "    <tr>\n",
              "      <th>2</th>\n",
              "      <td>0003_01</td>\n",
              "      <td>Europa</td>\n",
              "      <td>False</td>\n",
              "      <td>A/0/S</td>\n",
              "      <td>TRAPPIST-1e</td>\n",
              "      <td>58.0</td>\n",
              "      <td>True</td>\n",
              "      <td>43.0</td>\n",
              "      <td>3576.0</td>\n",
              "      <td>0.0</td>\n",
              "      <td>6715.0</td>\n",
              "      <td>49.0</td>\n",
              "      <td>Altark Susent</td>\n",
              "    </tr>\n",
              "    <tr>\n",
              "      <th>3</th>\n",
              "      <td>0003_02</td>\n",
              "      <td>Europa</td>\n",
              "      <td>False</td>\n",
              "      <td>A/0/S</td>\n",
              "      <td>TRAPPIST-1e</td>\n",
              "      <td>33.0</td>\n",
              "      <td>False</td>\n",
              "      <td>0.0</td>\n",
              "      <td>1283.0</td>\n",
              "      <td>371.0</td>\n",
              "      <td>3329.0</td>\n",
              "      <td>193.0</td>\n",
              "      <td>Solam Susent</td>\n",
              "    </tr>\n",
              "    <tr>\n",
              "      <th>4</th>\n",
              "      <td>0004_01</td>\n",
              "      <td>Earth</td>\n",
              "      <td>False</td>\n",
              "      <td>F/1/S</td>\n",
              "      <td>TRAPPIST-1e</td>\n",
              "      <td>16.0</td>\n",
              "      <td>False</td>\n",
              "      <td>303.0</td>\n",
              "      <td>70.0</td>\n",
              "      <td>151.0</td>\n",
              "      <td>565.0</td>\n",
              "      <td>2.0</td>\n",
              "      <td>Willy Santantines</td>\n",
              "    </tr>\n",
              "    <tr>\n",
              "      <th>...</th>\n",
              "      <td>...</td>\n",
              "      <td>...</td>\n",
              "      <td>...</td>\n",
              "      <td>...</td>\n",
              "      <td>...</td>\n",
              "      <td>...</td>\n",
              "      <td>...</td>\n",
              "      <td>...</td>\n",
              "      <td>...</td>\n",
              "      <td>...</td>\n",
              "      <td>...</td>\n",
              "      <td>...</td>\n",
              "      <td>...</td>\n",
              "    </tr>\n",
              "    <tr>\n",
              "      <th>8688</th>\n",
              "      <td>9276_01</td>\n",
              "      <td>Europa</td>\n",
              "      <td>False</td>\n",
              "      <td>A/98/P</td>\n",
              "      <td>55 Cancri e</td>\n",
              "      <td>41.0</td>\n",
              "      <td>True</td>\n",
              "      <td>0.0</td>\n",
              "      <td>6819.0</td>\n",
              "      <td>0.0</td>\n",
              "      <td>1643.0</td>\n",
              "      <td>74.0</td>\n",
              "      <td>Gravior Noxnuther</td>\n",
              "    </tr>\n",
              "    <tr>\n",
              "      <th>8689</th>\n",
              "      <td>9278_01</td>\n",
              "      <td>Earth</td>\n",
              "      <td>True</td>\n",
              "      <td>G/1499/S</td>\n",
              "      <td>PSO J318.5-22</td>\n",
              "      <td>18.0</td>\n",
              "      <td>False</td>\n",
              "      <td>0.0</td>\n",
              "      <td>0.0</td>\n",
              "      <td>0.0</td>\n",
              "      <td>0.0</td>\n",
              "      <td>0.0</td>\n",
              "      <td>Kurta Mondalley</td>\n",
              "    </tr>\n",
              "    <tr>\n",
              "      <th>8690</th>\n",
              "      <td>9279_01</td>\n",
              "      <td>Earth</td>\n",
              "      <td>False</td>\n",
              "      <td>G/1500/S</td>\n",
              "      <td>TRAPPIST-1e</td>\n",
              "      <td>26.0</td>\n",
              "      <td>False</td>\n",
              "      <td>0.0</td>\n",
              "      <td>0.0</td>\n",
              "      <td>1872.0</td>\n",
              "      <td>1.0</td>\n",
              "      <td>0.0</td>\n",
              "      <td>Fayey Connon</td>\n",
              "    </tr>\n",
              "    <tr>\n",
              "      <th>8691</th>\n",
              "      <td>9280_01</td>\n",
              "      <td>Europa</td>\n",
              "      <td>False</td>\n",
              "      <td>E/608/S</td>\n",
              "      <td>55 Cancri e</td>\n",
              "      <td>32.0</td>\n",
              "      <td>False</td>\n",
              "      <td>0.0</td>\n",
              "      <td>1049.0</td>\n",
              "      <td>0.0</td>\n",
              "      <td>353.0</td>\n",
              "      <td>3235.0</td>\n",
              "      <td>Celeon Hontichre</td>\n",
              "    </tr>\n",
              "    <tr>\n",
              "      <th>8692</th>\n",
              "      <td>9280_02</td>\n",
              "      <td>Europa</td>\n",
              "      <td>False</td>\n",
              "      <td>E/608/S</td>\n",
              "      <td>TRAPPIST-1e</td>\n",
              "      <td>44.0</td>\n",
              "      <td>False</td>\n",
              "      <td>126.0</td>\n",
              "      <td>4688.0</td>\n",
              "      <td>0.0</td>\n",
              "      <td>0.0</td>\n",
              "      <td>12.0</td>\n",
              "      <td>Propsh Hontichre</td>\n",
              "    </tr>\n",
              "  </tbody>\n",
              "</table>\n",
              "<p>8693 rows × 13 columns</p>\n",
              "</div>\n",
              "      <button class=\"colab-df-convert\" onclick=\"convertToInteractive('df-0b7f8374-9933-4ab7-83eb-5cf9280be513')\"\n",
              "              title=\"Convert this dataframe to an interactive table.\"\n",
              "              style=\"display:none;\">\n",
              "        \n",
              "  <svg xmlns=\"http://www.w3.org/2000/svg\" height=\"24px\"viewBox=\"0 0 24 24\"\n",
              "       width=\"24px\">\n",
              "    <path d=\"M0 0h24v24H0V0z\" fill=\"none\"/>\n",
              "    <path d=\"M18.56 5.44l.94 2.06.94-2.06 2.06-.94-2.06-.94-.94-2.06-.94 2.06-2.06.94zm-11 1L8.5 8.5l.94-2.06 2.06-.94-2.06-.94L8.5 2.5l-.94 2.06-2.06.94zm10 10l.94 2.06.94-2.06 2.06-.94-2.06-.94-.94-2.06-.94 2.06-2.06.94z\"/><path d=\"M17.41 7.96l-1.37-1.37c-.4-.4-.92-.59-1.43-.59-.52 0-1.04.2-1.43.59L10.3 9.45l-7.72 7.72c-.78.78-.78 2.05 0 2.83L4 21.41c.39.39.9.59 1.41.59.51 0 1.02-.2 1.41-.59l7.78-7.78 2.81-2.81c.8-.78.8-2.07 0-2.86zM5.41 20L4 18.59l7.72-7.72 1.47 1.35L5.41 20z\"/>\n",
              "  </svg>\n",
              "      </button>\n",
              "      \n",
              "  <style>\n",
              "    .colab-df-container {\n",
              "      display:flex;\n",
              "      flex-wrap:wrap;\n",
              "      gap: 12px;\n",
              "    }\n",
              "\n",
              "    .colab-df-convert {\n",
              "      background-color: #E8F0FE;\n",
              "      border: none;\n",
              "      border-radius: 50%;\n",
              "      cursor: pointer;\n",
              "      display: none;\n",
              "      fill: #1967D2;\n",
              "      height: 32px;\n",
              "      padding: 0 0 0 0;\n",
              "      width: 32px;\n",
              "    }\n",
              "\n",
              "    .colab-df-convert:hover {\n",
              "      background-color: #E2EBFA;\n",
              "      box-shadow: 0px 1px 2px rgba(60, 64, 67, 0.3), 0px 1px 3px 1px rgba(60, 64, 67, 0.15);\n",
              "      fill: #174EA6;\n",
              "    }\n",
              "\n",
              "    [theme=dark] .colab-df-convert {\n",
              "      background-color: #3B4455;\n",
              "      fill: #D2E3FC;\n",
              "    }\n",
              "\n",
              "    [theme=dark] .colab-df-convert:hover {\n",
              "      background-color: #434B5C;\n",
              "      box-shadow: 0px 1px 3px 1px rgba(0, 0, 0, 0.15);\n",
              "      filter: drop-shadow(0px 1px 2px rgba(0, 0, 0, 0.3));\n",
              "      fill: #FFFFFF;\n",
              "    }\n",
              "  </style>\n",
              "\n",
              "      <script>\n",
              "        const buttonEl =\n",
              "          document.querySelector('#df-0b7f8374-9933-4ab7-83eb-5cf9280be513 button.colab-df-convert');\n",
              "        buttonEl.style.display =\n",
              "          google.colab.kernel.accessAllowed ? 'block' : 'none';\n",
              "\n",
              "        async function convertToInteractive(key) {\n",
              "          const element = document.querySelector('#df-0b7f8374-9933-4ab7-83eb-5cf9280be513');\n",
              "          const dataTable =\n",
              "            await google.colab.kernel.invokeFunction('convertToInteractive',\n",
              "                                                     [key], {});\n",
              "          if (!dataTable) return;\n",
              "\n",
              "          const docLinkHtml = 'Like what you see? Visit the ' +\n",
              "            '<a target=\"_blank\" href=https://colab.research.google.com/notebooks/data_table.ipynb>data table notebook</a>'\n",
              "            + ' to learn more about interactive tables.';\n",
              "          element.innerHTML = '';\n",
              "          dataTable['output_type'] = 'display_data';\n",
              "          await google.colab.output.renderOutput(dataTable, element);\n",
              "          const docLink = document.createElement('div');\n",
              "          docLink.innerHTML = docLinkHtml;\n",
              "          element.appendChild(docLink);\n",
              "        }\n",
              "      </script>\n",
              "    </div>\n",
              "  </div>\n",
              "  "
            ]
          },
          "metadata": {},
          "execution_count": 19
        }
      ]
    },
    {
      "cell_type": "markdown",
      "source": [
        "### Think and propose how represent categorical values"
      ],
      "metadata": {
        "id": "NWAPkS1lS_w0"
      }
    },
    {
      "cell_type": "markdown",
      "source": [
        "Proposition:\n",
        "Since we are going to use tree-based models (XGB,LGBM, CB):\n",
        "- encoding data with OrdinalEncoder is OK. \n",
        "- no need to endoce numerical.\n",
        "\n",
        "Source: https://inria.github.io/scikit-learn-mooc/python_scripts/03_categorical_pipeline_column_transformer.html#fitting-a-more-powerful-model\n",
        "\n",
        "___\n",
        "Possible simplier solution is to use pandas replace with intiger values - will be checked.\n",
        "https://www.kaggle.com/code/hussainsheriff/spaceship-titanic-tensor-flow\n",
        "___\n",
        "\n",
        "Alternative encoder one_hot_encoder or pd.get_dummies.\n",
        "\n",
        "Encode categorical columns and check corr?"
      ],
      "metadata": {
        "id": "DGKVo0PJb4NH"
      }
    },
    {
      "cell_type": "code",
      "source": [
        "# Ordinal encoder use with encoding unknown values woith -1 value\n",
        "\n",
        "categorical_preprocessor = OrdinalEncoder(handle_unknown=\"use_encoded_value\", unknown_value=-1)\n",
        "# numerical_preprocessor = StandardScaler()\n",
        "\n",
        "\n",
        "categorical_columns= X.select_dtypes(include=object).columns.tolist()\n",
        "# numerical_columns = X.select_dtypes(exclude=object).columns.tolist()"
      ],
      "metadata": {
        "id": "cjYmeR5V86oL"
      },
      "execution_count": null,
      "outputs": []
    },
    {
      "cell_type": "code",
      "source": [
        "# Defining pipepline with prior iteration for missing values\n",
        "categorical_pipeline = Pipeline(\n",
        "    steps=[\n",
        "        (\"impute\", IterativeImputer(random_state=42)),\n",
        "        (\"OrdEnc\", categorical_preprocessor),\n",
        "    ]\n",
        ")\n",
        "\n",
        "# numerical_pipeline = Pipeline(\n",
        "#     steps=[\n",
        "#         (\"impute\", IterativeImputer(random_state=42)),\n",
        "#         # (\"SS\", numerical_preprocessor),\n",
        "#     ]\n",
        "# )"
      ],
      "metadata": {
        "id": "kot_Y9KWA02R"
      },
      "execution_count": null,
      "outputs": []
    },
    {
      "cell_type": "code",
      "source": [
        "print(f'Before convert:\\n{X.dtypes}\\n')\n",
        "\n",
        "# Convert categorical columns to Pandas category\n",
        "for col in categorical_columns:\n",
        "   X[col] = X[col].astype('category')\n",
        "\n",
        "print(f'After convert:\\n{X.dtypes}\\n')"
      ],
      "metadata": {
        "id": "AUhHcPYCTBsj",
        "colab": {
          "base_uri": "https://localhost:8080/"
        },
        "outputId": "90c46268-a1f5-48ff-982b-55c609d07dbb"
      },
      "execution_count": null,
      "outputs": [
        {
          "output_type": "stream",
          "name": "stdout",
          "text": [
            "Before convert:\n",
            "PassengerId      object\n",
            "HomePlanet       object\n",
            "CryoSleep        object\n",
            "Cabin            object\n",
            "Destination      object\n",
            "Age             float64\n",
            "VIP              object\n",
            "RoomService     float64\n",
            "FoodCourt       float64\n",
            "ShoppingMall    float64\n",
            "Spa             float64\n",
            "VRDeck          float64\n",
            "Name             object\n",
            "dtype: object\n",
            "\n",
            "After convert:\n",
            "PassengerId     category\n",
            "HomePlanet      category\n",
            "CryoSleep       category\n",
            "Cabin           category\n",
            "Destination     category\n",
            "Age              float64\n",
            "VIP             category\n",
            "RoomService      float64\n",
            "FoodCourt        float64\n",
            "ShoppingMall     float64\n",
            "Spa              float64\n",
            "VRDeck           float64\n",
            "Name            category\n",
            "dtype: object\n",
            "\n"
          ]
        }
      ]
    },
    {
      "cell_type": "code",
      "source": [
        "# feature_names = categorical_preprocessor.get_feature_names_out()\n",
        "# df_enc = pd.DataFrame(categorical_columns, columns=feature_names)\n",
        "# df_enc_col=df_enc.columns.tolist()\n",
        "# df_enc_col"
      ],
      "metadata": {
        "id": "Wufn67gd4VX0"
      },
      "execution_count": null,
      "outputs": []
    },
    {
      "cell_type": "code",
      "source": [
        "# df_enc.dtypes"
      ],
      "metadata": {
        "id": "Qi3ug0Ah5-Ze"
      },
      "execution_count": null,
      "outputs": []
    },
    {
      "cell_type": "code",
      "source": [
        "# df_cat = df[cat_col]\n",
        "# # df_cat\n",
        "\n",
        "# encoder=OrdinalEncoder(handle_unknown=\"use_encoded_value\", unknown_value=-1)\n",
        "# df_encoded = encoder.fit_transform(df_cat)\n",
        "# print(df_encoded)\n",
        "\n",
        "# columns_encoded = encoder.get_feature_names_out(df_cat.columns)\n",
        "# print(pd.DataFrame(df_encoded, columns=columns_encoded).head())"
      ],
      "metadata": {
        "id": "sU-luNysi1c4"
      },
      "execution_count": null,
      "outputs": []
    },
    {
      "cell_type": "markdown",
      "source": [
        "### Think and propose how to handle nulls and nan values"
      ],
      "metadata": {
        "id": "WCiR5wd9TCaU"
      }
    },
    {
      "cell_type": "markdown",
      "source": [
        "Proposition:\n",
        "* More pro - impute (e.g. IterativeImputer) - included in above point\n",
        "* The simplest approach is to remove. In this case dropping caused dataset reduction from 8693 to 6606 -> 2087 rows dropped ! -below\n"
      ],
      "metadata": {
        "id": "cOAfD1jp4Jin"
      }
    },
    {
      "cell_type": "code",
      "source": [
        "# #Drop missing values\n",
        "# X.dropna(inplace=True)\n",
        "# print(f'Numeric nulls:\\n{X.select_dtypes(include=np.number).isnull().sum()}\\n')\n",
        "# print(f'Categorical nulls:\\n{X.select_dtypes(exclude=np.number).isna().sum()}\\n')\n",
        "\n",
        "# # Convert to intigers\n",
        "# X=X.astype(int)\n",
        "# X.isnull().sum()"
      ],
      "metadata": {
        "id": "vEY_u3pAdG7m"
      },
      "execution_count": null,
      "outputs": []
    },
    {
      "cell_type": "markdown",
      "source": [
        "### Divide dataset into train, validation and test subset"
      ],
      "metadata": {
        "id": "pECKH3bJTEZF"
      }
    },
    {
      "cell_type": "markdown",
      "source": [
        "Since we have test dataset our train will be split into train and validation."
      ],
      "metadata": {
        "id": "P7-KKmQXeF4z"
      }
    },
    {
      "cell_type": "code",
      "source": [
        "# #Split of dataset to train, validation ('val') and test \n",
        "# X_train, X_test_temp, y_train, y_test_temp = train_test_split(X, y, test_size=0.4, train_size=0.6)\n",
        "# X_test, X_val, y_test, y_val = train_test_split(X_test_temp,y_test_temp, test_size = 0.5, train_size =0.5)\n",
        "\n",
        "# print('TRAIN set:\\n', 'X_train:', X_train.shape, '\\n y_train: ', y_train.shape)\n",
        "# print('VAL set:\\n', 'X_val:', X_val.shape, '\\n y_val: ', y_val.shape)\n",
        "# print('TEST set:\\n', 'X_test:', X_test.shape, '\\n y_test: ', y_test.shape)\n",
        "\n",
        "\n",
        "#Split of train to train and validation ('val') \n",
        "X_train, X_val, y_train, y_val = train_test_split(X, y, test_size = 0.3)\n",
        "\n",
        "print(2*'\\n')\n",
        "print('TRAIN set:\\n', 'X_train:', X_train.shape, '\\n y_train2: ', y_train.shape)\n",
        "print('VAL set:\\n', 'X_val:', X_val.shape, '\\n y_val2: ', y_val.shape)"
      ],
      "metadata": {
        "id": "ob_X5gIQTF0H",
        "colab": {
          "base_uri": "https://localhost:8080/"
        },
        "outputId": "eabcf148-84a3-4da2-902b-d113a7b26e9e"
      },
      "execution_count": null,
      "outputs": [
        {
          "output_type": "stream",
          "name": "stdout",
          "text": [
            "\n",
            "\n",
            "\n",
            "TRAIN set:\n",
            " X_train: (6085, 13) \n",
            " y_train2:  (6085,)\n",
            "VAL set:\n",
            " X_val: (2608, 13) \n",
            " y_val2:  (2608,)\n"
          ]
        }
      ]
    },
    {
      "cell_type": "markdown",
      "source": [
        "## Machine learning methods\n",
        "Use standard ML algorithms to classify passengers."
      ],
      "metadata": {
        "id": "kVPBpIzWWdx5"
      }
    },
    {
      "cell_type": "code",
      "source": [
        "# enc_col = categorical_preprocessor.fit_transform(df[cat_col])\n",
        "\n",
        "# preprocessor = ColumnTransformer([\n",
        "#     ('one-hot-encoder', categorical_preprocessor, categorical_columns),\n",
        "#     ('standard_scaler', numerical_preprocessor, numerical_columns)])\n",
        "\n",
        "preprocessor = ColumnTransformer([('categorical', categorical_preprocessor, categorical_columns)], remainder=\"passthrough\")\n",
        "# preprocessor"
      ],
      "metadata": {
        "id": "-lHZPEF904rM"
      },
      "execution_count": null,
      "outputs": []
    },
    {
      "cell_type": "markdown",
      "source": [
        "### Use XGBoost, LightGBM and CatBoost."
      ],
      "metadata": {
        "id": "BAeXjIKvWiOd"
      }
    },
    {
      "cell_type": "code",
      "source": [
        "# Spot-Check Algorithms\n",
        "models = []\n",
        "models.append(('XGB', XGBClassifier()))\n",
        "models.append(('LightGBM', LGBMClassifier()))\n",
        "models.append(('CatBoost', CatBoostClassifier(logging_level='Silent')))"
      ],
      "metadata": {
        "id": "w_J77YqL9v2j"
      },
      "execution_count": null,
      "outputs": []
    },
    {
      "cell_type": "markdown",
      "source": [
        "### Choose metrics you want to use to evaluate those models,"
      ],
      "metadata": {
        "id": "G9O9mBUxWqbF"
      }
    },
    {
      "cell_type": "markdown",
      "source": [
        "Accuracy by default but in thi scase recall might be more informative"
      ],
      "metadata": {
        "id": "BiipiDQ1musq"
      }
    },
    {
      "cell_type": "code",
      "source": [
        "# model_name = []\n",
        "# name = []\n",
        "# for name, model_name in models:\n",
        "#   model = make_pipeline(preprocessor, model_name)\n",
        "#   model.fit(X_train, y_train)\n",
        "#   model.predict(X_test)\n",
        "#   if name =='CatBoost':\n",
        "#     print(f'{name} accuracy: {accuracy_score(y_test.astype(str), model.predict(X_test))}')\n",
        "#     print(f'{name} recall: {recall_score(y_test.astype(str), model.predict(X_test))}')\n",
        "#     # print(f'{name} precision: {precision_score(y_test.astype(str), model.predict(X_test), average=\"macro\")}')\n",
        "#     print(f'{name} f1_score: {f1_score(y_test.astype(str), model.predict(X_test))}')\n",
        "#   else:\n",
        "#     print(f'{name} accuracy: {model.score(X_test, y_test)}')\n",
        "#     print(f'{name} recall: {recall_score(y_test, model.predict(X_test))}')\n",
        "#     # print(f'{name} precision: {precision_score(y_test, model.predict(X_test), average=\"macro\")}')\n",
        "#     print(f'{name} f1_score: {f1_score(y_test, model.predict(X_test))}')"
      ],
      "metadata": {
        "id": "T4LrOFIalnG5"
      },
      "execution_count": null,
      "outputs": []
    },
    {
      "cell_type": "code",
      "source": [
        "model_name = []\n",
        "name = []\n",
        "for name, model_name in models:\n",
        "  model = make_pipeline(preprocessor, model_name)\n",
        "  model.fit(X_train, y_train)\n",
        "  model.predict(X_val)\n",
        "  if name =='CatBoost':\n",
        "    print(f'{name} accuracy: {accuracy_score(y_val.astype(str), model.predict(X_val).3f)}')\n",
        "    print(f'{name} recall: {recall_score(y_val.astype(str), model.predict(X_val), average=\"binary\", pos_label=\"False\").3f}')\n",
        "    # print(f'{name} precision: {precision_score(y_val2.astype(str), model.predict(X_val2), average=\"macro\")}')\n",
        "    print(f'{name} f1_score: {f1_score(y_val.astype(str), model.predict(X_val),average=\"binary\", pos_label=\"False\").3f}')\n",
        "    print('\\n')\n",
        "  else:\n",
        "    print(f'{name} accuracy: {model.score(X_val, y_val).3f}')\n",
        "    print(f'{name} recall: {recall_score(y_val, model.predict(X_val)).3f}')\n",
        "    # print(f'{name} precision: {precision_score(y_val2, model.predict(X_val2), average=\"macro\")}')\n",
        "    print(f'{name} f1_score: {f1_score(y_val, model.predict(X_val)).3f}')\n",
        "    print('\\n')"
      ],
      "metadata": {
        "colab": {
          "base_uri": "https://localhost:8080/"
        },
        "id": "_AVXqLgilssw",
        "outputId": "fecfc615-5f83-4462-8ea6-e03ff626c412"
      },
      "execution_count": null,
      "outputs": [
        {
          "output_type": "stream",
          "name": "stdout",
          "text": [
            "XGB accuracy: 0.7664877300613497\n",
            "XGB recall: 0.7989337395277989\n",
            "XGB f1_score: 0.7750277059475434\n",
            "\n",
            "\n",
            "LightGBM accuracy: 0.7845092024539877\n",
            "LightGBM recall: 0.8789032749428789\n",
            "LightGBM f1_score: 0.8041811846689895\n",
            "\n",
            "\n",
            "CatBoost accuracy: 0.785659509202454\n",
            "CatBoost recall: 0.7320463320463321\n",
            "CatBoost f1_score: 0.7723014256619145\n",
            "\n",
            "\n"
          ]
        }
      ]
    },
    {
      "cell_type": "markdown",
      "source": [
        "### Use Optuna to find the best hyperparameters."
      ],
      "metadata": {
        "id": "C4GC3EahWwrM"
      }
    },
    {
      "cell_type": "markdown",
      "source": [
        "#### LGBM"
      ],
      "metadata": {
        "id": "31_OOCYJByMq"
      }
    },
    {
      "cell_type": "code",
      "source": [
        "'''\n",
        "SOURCE: \n",
        "https://colab.research.google.com/drive/1Mj9hF54UESVDRmpA09tWADq9Nbrj6M-2?usp=sharing#scrollTo=9a1haMklJ6X3\n",
        "'''\n",
        "\n",
        "# Define the objective function.\n",
        "def objective(trial):\n",
        "    dtrain = lgb.Dataset(X_train, label=y_train)\n",
        "    dvalid = lgb.Dataset(X_val, label=y_val)\n",
        "    #default parameters dictionary for optimizations(search space)\n",
        "    param = {\n",
        "        \"objective\": \"binary\",\n",
        "        \"metric\": \"auc\",\n",
        "        \"verbosity\": -1,\n",
        "        \"boosting_type\": \"gbdt\",\n",
        "        \"bagging_fraction\": trial.suggest_float(\"bagging_fraction\", 0.4, 1.0),\n",
        "        \"bagging_freq\": trial.suggest_int(\"bagging_freq\", 1, 7),\n",
        "        \"min_child_samples\": trial.suggest_int(\"min_child_samples\", 5, 100),\n",
        "    }\n",
        "\n",
        "    # Add a callback for pruning.\n",
        "    # To turn on the pruning feature, you need to call :func:`~optuna.trial.Trial.report` and :func:`~optuna.trial.Trial.should_prune` after each step of the iterative training.\n",
        "    # :func:`~optuna.trial.Trial.report` periodically monitors the intermediate objective values.\n",
        "    # :func:`~optuna.trial.Trial.should_prune` decides termination of the trial that does not meet a predefined condition.\n",
        "    pruning_callback = optuna.integration.LightGBMPruningCallback(trial, \"auc\")\n",
        "    gbm = lgb.train(param, dtrain, valid_sets=[dvalid], verbose_eval=False, callbacks=[pruning_callback])\n",
        "    #Predict the valid data\n",
        "    preds = gbm.predict(X_val)\n",
        "    #rounding values to its nearest integers\n",
        "    pred_labels = np.rint(preds)\n",
        "    #calculating accuracy\n",
        "    accuracy = accuracy_score(y_val, pred_labels)\n",
        "    return accuracy\n",
        "\n",
        "'''\n",
        "Create an study for that ML model and optimize it\n",
        "'''\n",
        "\n",
        "# Add stream handler of stdout to show the messages\n",
        "optuna.logging.get_logger(\"optuna\").addHandler(logging.StreamHandler(sys.stdout))\n",
        "# Method :func:`~optuna.create_study` returns a study object.\n",
        "# A study object has useful properties for analyzing the optimization outcome.\n",
        "study = optuna.create_study(\n",
        "    direction=\"maximize\",\n",
        "    sampler=optuna.samplers.TPESampler(),\n",
        "    pruner=optuna.pruners.MedianPruner(n_warmup_steps=10),\n",
        ") #Set minimize for minimization and maximize for maximization.\n",
        "#To start the optimization, we create a study object and pass the objective function to method\n",
        "study.optimize(objective, n_trials=100, timeout=600) #add timeout for model not to exceed this time limit\n",
        "\n",
        "\n",
        "# To get the dictionary of parameter name and parameter values:\n",
        "print(\"Return a dictionary of parameter name and parameter values:\\n\",study.best_params)\n",
        "\n",
        "# To get the best observed value of the objective function:\n",
        "print(\"Return the best observed value of the objective function:\\n\",study.best_value)\n",
        "\n",
        "# # To get the best trial:\n",
        "# print(\"Return the best trial:\",study.best_trial)\n",
        "\n",
        "# # To get all trials:\n",
        "# print(\"Return all the trials:\", study.trials)\n",
        "\n",
        "# study.trials_dataframe()"
      ],
      "metadata": {
        "colab": {
          "base_uri": "https://localhost:8080/"
        },
        "id": "VkatDGg68CoO",
        "outputId": "555033c4-8ed4-4a1c-eab4-f5aa18fbc223"
      },
      "execution_count": null,
      "outputs": [
        {
          "output_type": "stream",
          "name": "stderr",
          "text": [
            "\u001b[32m[I 2023-03-20 00:03:06,114]\u001b[0m A new study created in memory with name: no-name-88774871-a804-46ee-8264-5371815f6ac4\u001b[0m\n"
          ]
        },
        {
          "output_type": "stream",
          "name": "stdout",
          "text": [
            "A new study created in memory with name: no-name-88774871-a804-46ee-8264-5371815f6ac4\n"
          ]
        },
        {
          "output_type": "stream",
          "name": "stderr",
          "text": [
            "/usr/local/lib/python3.9/dist-packages/lightgbm/engine.py:239: UserWarning: 'verbose_eval' argument is deprecated and will be removed in a future release of LightGBM. Pass 'log_evaluation()' callback via 'callbacks' argument instead.\n",
            "  _log_warning(\"'verbose_eval' argument is deprecated and will be removed in a future release of LightGBM. \"\n",
            "/usr/local/lib/python3.9/dist-packages/lightgbm/basic.py:1780: UserWarning: Overriding the parameters from Reference Dataset.\n",
            "  _log_warning('Overriding the parameters from Reference Dataset.')\n",
            "/usr/local/lib/python3.9/dist-packages/lightgbm/basic.py:1513: UserWarning: categorical_column in param dict is overridden.\n",
            "  _log_warning(f'{cat_alias} in param dict is overridden.')\n",
            "\u001b[32m[I 2023-03-20 00:03:07,505]\u001b[0m Trial 0 finished with value: 0.7910276073619632 and parameters: {'bagging_fraction': 0.4955611908580424, 'bagging_freq': 4, 'min_child_samples': 56}. Best is trial 0 with value: 0.7910276073619632.\u001b[0m\n"
          ]
        },
        {
          "output_type": "stream",
          "name": "stdout",
          "text": [
            "Trial 0 finished with value: 0.7910276073619632 and parameters: {'bagging_fraction': 0.4955611908580424, 'bagging_freq': 4, 'min_child_samples': 56}. Best is trial 0 with value: 0.7910276073619632.\n"
          ]
        },
        {
          "output_type": "stream",
          "name": "stderr",
          "text": [
            "/usr/local/lib/python3.9/dist-packages/lightgbm/engine.py:239: UserWarning: 'verbose_eval' argument is deprecated and will be removed in a future release of LightGBM. Pass 'log_evaluation()' callback via 'callbacks' argument instead.\n",
            "  _log_warning(\"'verbose_eval' argument is deprecated and will be removed in a future release of LightGBM. \"\n",
            "/usr/local/lib/python3.9/dist-packages/lightgbm/basic.py:1780: UserWarning: Overriding the parameters from Reference Dataset.\n",
            "  _log_warning('Overriding the parameters from Reference Dataset.')\n",
            "/usr/local/lib/python3.9/dist-packages/lightgbm/basic.py:1513: UserWarning: categorical_column in param dict is overridden.\n",
            "  _log_warning(f'{cat_alias} in param dict is overridden.')\n",
            "\u001b[32m[I 2023-03-20 00:03:08,686]\u001b[0m Trial 1 finished with value: 0.8002300613496932 and parameters: {'bagging_fraction': 0.8045493228788212, 'bagging_freq': 4, 'min_child_samples': 91}. Best is trial 1 with value: 0.8002300613496932.\u001b[0m\n"
          ]
        },
        {
          "output_type": "stream",
          "name": "stdout",
          "text": [
            "Trial 1 finished with value: 0.8002300613496932 and parameters: {'bagging_fraction': 0.8045493228788212, 'bagging_freq': 4, 'min_child_samples': 91}. Best is trial 1 with value: 0.8002300613496932.\n"
          ]
        },
        {
          "output_type": "stream",
          "name": "stderr",
          "text": [
            "/usr/local/lib/python3.9/dist-packages/lightgbm/engine.py:239: UserWarning: 'verbose_eval' argument is deprecated and will be removed in a future release of LightGBM. Pass 'log_evaluation()' callback via 'callbacks' argument instead.\n",
            "  _log_warning(\"'verbose_eval' argument is deprecated and will be removed in a future release of LightGBM. \"\n",
            "/usr/local/lib/python3.9/dist-packages/lightgbm/basic.py:1780: UserWarning: Overriding the parameters from Reference Dataset.\n",
            "  _log_warning('Overriding the parameters from Reference Dataset.')\n",
            "/usr/local/lib/python3.9/dist-packages/lightgbm/basic.py:1513: UserWarning: categorical_column in param dict is overridden.\n",
            "  _log_warning(f'{cat_alias} in param dict is overridden.')\n",
            "\u001b[32m[I 2023-03-20 00:03:08,982]\u001b[0m Trial 2 finished with value: 0.7975460122699386 and parameters: {'bagging_fraction': 0.8558373798785077, 'bagging_freq': 2, 'min_child_samples': 62}. Best is trial 1 with value: 0.8002300613496932.\u001b[0m\n"
          ]
        },
        {
          "output_type": "stream",
          "name": "stdout",
          "text": [
            "Trial 2 finished with value: 0.7975460122699386 and parameters: {'bagging_fraction': 0.8558373798785077, 'bagging_freq': 2, 'min_child_samples': 62}. Best is trial 1 with value: 0.8002300613496932.\n"
          ]
        },
        {
          "output_type": "stream",
          "name": "stderr",
          "text": [
            "/usr/local/lib/python3.9/dist-packages/lightgbm/engine.py:239: UserWarning: 'verbose_eval' argument is deprecated and will be removed in a future release of LightGBM. Pass 'log_evaluation()' callback via 'callbacks' argument instead.\n",
            "  _log_warning(\"'verbose_eval' argument is deprecated and will be removed in a future release of LightGBM. \"\n",
            "/usr/local/lib/python3.9/dist-packages/lightgbm/basic.py:1780: UserWarning: Overriding the parameters from Reference Dataset.\n",
            "  _log_warning('Overriding the parameters from Reference Dataset.')\n",
            "/usr/local/lib/python3.9/dist-packages/lightgbm/basic.py:1513: UserWarning: categorical_column in param dict is overridden.\n",
            "  _log_warning(f'{cat_alias} in param dict is overridden.')\n",
            "\u001b[32m[I 2023-03-20 00:03:09,308]\u001b[0m Trial 3 finished with value: 0.7917944785276073 and parameters: {'bagging_fraction': 0.8747014442278773, 'bagging_freq': 3, 'min_child_samples': 39}. Best is trial 1 with value: 0.8002300613496932.\u001b[0m\n"
          ]
        },
        {
          "output_type": "stream",
          "name": "stdout",
          "text": [
            "Trial 3 finished with value: 0.7917944785276073 and parameters: {'bagging_fraction': 0.8747014442278773, 'bagging_freq': 3, 'min_child_samples': 39}. Best is trial 1 with value: 0.8002300613496932.\n"
          ]
        },
        {
          "output_type": "stream",
          "name": "stderr",
          "text": [
            "/usr/local/lib/python3.9/dist-packages/lightgbm/engine.py:239: UserWarning: 'verbose_eval' argument is deprecated and will be removed in a future release of LightGBM. Pass 'log_evaluation()' callback via 'callbacks' argument instead.\n",
            "  _log_warning(\"'verbose_eval' argument is deprecated and will be removed in a future release of LightGBM. \"\n",
            "/usr/local/lib/python3.9/dist-packages/lightgbm/basic.py:1780: UserWarning: Overriding the parameters from Reference Dataset.\n",
            "  _log_warning('Overriding the parameters from Reference Dataset.')\n",
            "/usr/local/lib/python3.9/dist-packages/lightgbm/basic.py:1513: UserWarning: categorical_column in param dict is overridden.\n",
            "  _log_warning(f'{cat_alias} in param dict is overridden.')\n",
            "\u001b[32m[I 2023-03-20 00:03:09,585]\u001b[0m Trial 4 finished with value: 0.8025306748466258 and parameters: {'bagging_fraction': 0.457903950039216, 'bagging_freq': 3, 'min_child_samples': 66}. Best is trial 4 with value: 0.8025306748466258.\u001b[0m\n"
          ]
        },
        {
          "output_type": "stream",
          "name": "stdout",
          "text": [
            "Trial 4 finished with value: 0.8025306748466258 and parameters: {'bagging_fraction': 0.457903950039216, 'bagging_freq': 3, 'min_child_samples': 66}. Best is trial 4 with value: 0.8025306748466258.\n"
          ]
        },
        {
          "output_type": "stream",
          "name": "stderr",
          "text": [
            "/usr/local/lib/python3.9/dist-packages/lightgbm/engine.py:239: UserWarning: 'verbose_eval' argument is deprecated and will be removed in a future release of LightGBM. Pass 'log_evaluation()' callback via 'callbacks' argument instead.\n",
            "  _log_warning(\"'verbose_eval' argument is deprecated and will be removed in a future release of LightGBM. \"\n",
            "/usr/local/lib/python3.9/dist-packages/lightgbm/basic.py:1780: UserWarning: Overriding the parameters from Reference Dataset.\n",
            "  _log_warning('Overriding the parameters from Reference Dataset.')\n",
            "/usr/local/lib/python3.9/dist-packages/lightgbm/basic.py:1513: UserWarning: categorical_column in param dict is overridden.\n",
            "  _log_warning(f'{cat_alias} in param dict is overridden.')\n",
            "\u001b[32m[I 2023-03-20 00:03:09,642]\u001b[0m Trial 5 pruned. Trial was pruned at iteration 12.\u001b[0m\n"
          ]
        },
        {
          "output_type": "stream",
          "name": "stdout",
          "text": [
            "Trial 5 pruned. Trial was pruned at iteration 12.\n"
          ]
        },
        {
          "output_type": "stream",
          "name": "stderr",
          "text": [
            "/usr/local/lib/python3.9/dist-packages/lightgbm/engine.py:239: UserWarning: 'verbose_eval' argument is deprecated and will be removed in a future release of LightGBM. Pass 'log_evaluation()' callback via 'callbacks' argument instead.\n",
            "  _log_warning(\"'verbose_eval' argument is deprecated and will be removed in a future release of LightGBM. \"\n",
            "/usr/local/lib/python3.9/dist-packages/lightgbm/basic.py:1780: UserWarning: Overriding the parameters from Reference Dataset.\n",
            "  _log_warning('Overriding the parameters from Reference Dataset.')\n",
            "/usr/local/lib/python3.9/dist-packages/lightgbm/basic.py:1513: UserWarning: categorical_column in param dict is overridden.\n",
            "  _log_warning(f'{cat_alias} in param dict is overridden.')\n",
            "\u001b[32m[I 2023-03-20 00:03:09,696]\u001b[0m Trial 6 pruned. Trial was pruned at iteration 12.\u001b[0m\n"
          ]
        },
        {
          "output_type": "stream",
          "name": "stdout",
          "text": [
            "Trial 6 pruned. Trial was pruned at iteration 12.\n"
          ]
        },
        {
          "output_type": "stream",
          "name": "stderr",
          "text": [
            "/usr/local/lib/python3.9/dist-packages/lightgbm/engine.py:239: UserWarning: 'verbose_eval' argument is deprecated and will be removed in a future release of LightGBM. Pass 'log_evaluation()' callback via 'callbacks' argument instead.\n",
            "  _log_warning(\"'verbose_eval' argument is deprecated and will be removed in a future release of LightGBM. \"\n",
            "/usr/local/lib/python3.9/dist-packages/lightgbm/basic.py:1780: UserWarning: Overriding the parameters from Reference Dataset.\n",
            "  _log_warning('Overriding the parameters from Reference Dataset.')\n",
            "/usr/local/lib/python3.9/dist-packages/lightgbm/basic.py:1513: UserWarning: categorical_column in param dict is overridden.\n",
            "  _log_warning(f'{cat_alias} in param dict is overridden.')\n",
            "\u001b[32m[I 2023-03-20 00:03:09,766]\u001b[0m Trial 7 pruned. Trial was pruned at iteration 12.\u001b[0m\n"
          ]
        },
        {
          "output_type": "stream",
          "name": "stdout",
          "text": [
            "Trial 7 pruned. Trial was pruned at iteration 12.\n"
          ]
        },
        {
          "output_type": "stream",
          "name": "stderr",
          "text": [
            "/usr/local/lib/python3.9/dist-packages/lightgbm/engine.py:239: UserWarning: 'verbose_eval' argument is deprecated and will be removed in a future release of LightGBM. Pass 'log_evaluation()' callback via 'callbacks' argument instead.\n",
            "  _log_warning(\"'verbose_eval' argument is deprecated and will be removed in a future release of LightGBM. \"\n",
            "/usr/local/lib/python3.9/dist-packages/lightgbm/basic.py:1780: UserWarning: Overriding the parameters from Reference Dataset.\n",
            "  _log_warning('Overriding the parameters from Reference Dataset.')\n",
            "/usr/local/lib/python3.9/dist-packages/lightgbm/basic.py:1513: UserWarning: categorical_column in param dict is overridden.\n",
            "  _log_warning(f'{cat_alias} in param dict is overridden.')\n",
            "\u001b[32m[I 2023-03-20 00:03:10,083]\u001b[0m Trial 8 finished with value: 0.7998466257668712 and parameters: {'bagging_fraction': 0.9302514897204057, 'bagging_freq': 5, 'min_child_samples': 32}. Best is trial 4 with value: 0.8025306748466258.\u001b[0m\n"
          ]
        },
        {
          "output_type": "stream",
          "name": "stdout",
          "text": [
            "Trial 8 finished with value: 0.7998466257668712 and parameters: {'bagging_fraction': 0.9302514897204057, 'bagging_freq': 5, 'min_child_samples': 32}. Best is trial 4 with value: 0.8025306748466258.\n"
          ]
        },
        {
          "output_type": "stream",
          "name": "stderr",
          "text": [
            "/usr/local/lib/python3.9/dist-packages/lightgbm/engine.py:239: UserWarning: 'verbose_eval' argument is deprecated and will be removed in a future release of LightGBM. Pass 'log_evaluation()' callback via 'callbacks' argument instead.\n",
            "  _log_warning(\"'verbose_eval' argument is deprecated and will be removed in a future release of LightGBM. \"\n",
            "/usr/local/lib/python3.9/dist-packages/lightgbm/basic.py:1780: UserWarning: Overriding the parameters from Reference Dataset.\n",
            "  _log_warning('Overriding the parameters from Reference Dataset.')\n",
            "/usr/local/lib/python3.9/dist-packages/lightgbm/basic.py:1513: UserWarning: categorical_column in param dict is overridden.\n",
            "  _log_warning(f'{cat_alias} in param dict is overridden.')\n",
            "\u001b[32m[I 2023-03-20 00:03:10,157]\u001b[0m Trial 9 pruned. Trial was pruned at iteration 18.\u001b[0m\n"
          ]
        },
        {
          "output_type": "stream",
          "name": "stdout",
          "text": [
            "Trial 9 pruned. Trial was pruned at iteration 18.\n"
          ]
        },
        {
          "output_type": "stream",
          "name": "stderr",
          "text": [
            "/usr/local/lib/python3.9/dist-packages/lightgbm/engine.py:239: UserWarning: 'verbose_eval' argument is deprecated and will be removed in a future release of LightGBM. Pass 'log_evaluation()' callback via 'callbacks' argument instead.\n",
            "  _log_warning(\"'verbose_eval' argument is deprecated and will be removed in a future release of LightGBM. \"\n",
            "/usr/local/lib/python3.9/dist-packages/lightgbm/basic.py:1780: UserWarning: Overriding the parameters from Reference Dataset.\n",
            "  _log_warning('Overriding the parameters from Reference Dataset.')\n",
            "/usr/local/lib/python3.9/dist-packages/lightgbm/basic.py:1513: UserWarning: categorical_column in param dict is overridden.\n",
            "  _log_warning(f'{cat_alias} in param dict is overridden.')\n",
            "\u001b[32m[I 2023-03-20 00:03:10,221]\u001b[0m Trial 10 pruned. Trial was pruned at iteration 10.\u001b[0m\n"
          ]
        },
        {
          "output_type": "stream",
          "name": "stdout",
          "text": [
            "Trial 10 pruned. Trial was pruned at iteration 10.\n"
          ]
        },
        {
          "output_type": "stream",
          "name": "stderr",
          "text": [
            "/usr/local/lib/python3.9/dist-packages/lightgbm/engine.py:239: UserWarning: 'verbose_eval' argument is deprecated and will be removed in a future release of LightGBM. Pass 'log_evaluation()' callback via 'callbacks' argument instead.\n",
            "  _log_warning(\"'verbose_eval' argument is deprecated and will be removed in a future release of LightGBM. \"\n",
            "/usr/local/lib/python3.9/dist-packages/lightgbm/basic.py:1780: UserWarning: Overriding the parameters from Reference Dataset.\n",
            "  _log_warning('Overriding the parameters from Reference Dataset.')\n",
            "/usr/local/lib/python3.9/dist-packages/lightgbm/basic.py:1513: UserWarning: categorical_column in param dict is overridden.\n",
            "  _log_warning(f'{cat_alias} in param dict is overridden.')\n",
            "\u001b[32m[I 2023-03-20 00:03:10,290]\u001b[0m Trial 11 pruned. Trial was pruned at iteration 10.\u001b[0m\n"
          ]
        },
        {
          "output_type": "stream",
          "name": "stdout",
          "text": [
            "Trial 11 pruned. Trial was pruned at iteration 10.\n"
          ]
        },
        {
          "output_type": "stream",
          "name": "stderr",
          "text": [
            "/usr/local/lib/python3.9/dist-packages/lightgbm/engine.py:239: UserWarning: 'verbose_eval' argument is deprecated and will be removed in a future release of LightGBM. Pass 'log_evaluation()' callback via 'callbacks' argument instead.\n",
            "  _log_warning(\"'verbose_eval' argument is deprecated and will be removed in a future release of LightGBM. \"\n",
            "/usr/local/lib/python3.9/dist-packages/lightgbm/basic.py:1780: UserWarning: Overriding the parameters from Reference Dataset.\n",
            "  _log_warning('Overriding the parameters from Reference Dataset.')\n",
            "/usr/local/lib/python3.9/dist-packages/lightgbm/basic.py:1513: UserWarning: categorical_column in param dict is overridden.\n",
            "  _log_warning(f'{cat_alias} in param dict is overridden.')\n",
            "\u001b[32m[I 2023-03-20 00:03:10,355]\u001b[0m Trial 12 pruned. Trial was pruned at iteration 10.\u001b[0m\n"
          ]
        },
        {
          "output_type": "stream",
          "name": "stdout",
          "text": [
            "Trial 12 pruned. Trial was pruned at iteration 10.\n"
          ]
        },
        {
          "output_type": "stream",
          "name": "stderr",
          "text": [
            "/usr/local/lib/python3.9/dist-packages/lightgbm/engine.py:239: UserWarning: 'verbose_eval' argument is deprecated and will be removed in a future release of LightGBM. Pass 'log_evaluation()' callback via 'callbacks' argument instead.\n",
            "  _log_warning(\"'verbose_eval' argument is deprecated and will be removed in a future release of LightGBM. \"\n",
            "/usr/local/lib/python3.9/dist-packages/lightgbm/basic.py:1780: UserWarning: Overriding the parameters from Reference Dataset.\n",
            "  _log_warning('Overriding the parameters from Reference Dataset.')\n",
            "/usr/local/lib/python3.9/dist-packages/lightgbm/basic.py:1513: UserWarning: categorical_column in param dict is overridden.\n",
            "  _log_warning(f'{cat_alias} in param dict is overridden.')\n",
            "\u001b[32m[I 2023-03-20 00:03:10,423]\u001b[0m Trial 13 pruned. Trial was pruned at iteration 10.\u001b[0m\n"
          ]
        },
        {
          "output_type": "stream",
          "name": "stdout",
          "text": [
            "Trial 13 pruned. Trial was pruned at iteration 10.\n"
          ]
        },
        {
          "output_type": "stream",
          "name": "stderr",
          "text": [
            "/usr/local/lib/python3.9/dist-packages/lightgbm/engine.py:239: UserWarning: 'verbose_eval' argument is deprecated and will be removed in a future release of LightGBM. Pass 'log_evaluation()' callback via 'callbacks' argument instead.\n",
            "  _log_warning(\"'verbose_eval' argument is deprecated and will be removed in a future release of LightGBM. \"\n",
            "/usr/local/lib/python3.9/dist-packages/lightgbm/basic.py:1780: UserWarning: Overriding the parameters from Reference Dataset.\n",
            "  _log_warning('Overriding the parameters from Reference Dataset.')\n",
            "/usr/local/lib/python3.9/dist-packages/lightgbm/basic.py:1513: UserWarning: categorical_column in param dict is overridden.\n",
            "  _log_warning(f'{cat_alias} in param dict is overridden.')\n",
            "\u001b[32m[I 2023-03-20 00:03:10,533]\u001b[0m Trial 14 pruned. Trial was pruned at iteration 11.\u001b[0m\n"
          ]
        },
        {
          "output_type": "stream",
          "name": "stdout",
          "text": [
            "Trial 14 pruned. Trial was pruned at iteration 11.\n"
          ]
        },
        {
          "output_type": "stream",
          "name": "stderr",
          "text": [
            "/usr/local/lib/python3.9/dist-packages/lightgbm/engine.py:239: UserWarning: 'verbose_eval' argument is deprecated and will be removed in a future release of LightGBM. Pass 'log_evaluation()' callback via 'callbacks' argument instead.\n",
            "  _log_warning(\"'verbose_eval' argument is deprecated and will be removed in a future release of LightGBM. \"\n",
            "/usr/local/lib/python3.9/dist-packages/lightgbm/basic.py:1780: UserWarning: Overriding the parameters from Reference Dataset.\n",
            "  _log_warning('Overriding the parameters from Reference Dataset.')\n",
            "/usr/local/lib/python3.9/dist-packages/lightgbm/basic.py:1513: UserWarning: categorical_column in param dict is overridden.\n",
            "  _log_warning(f'{cat_alias} in param dict is overridden.')\n",
            "\u001b[32m[I 2023-03-20 00:03:10,616]\u001b[0m Trial 15 pruned. Trial was pruned at iteration 10.\u001b[0m\n"
          ]
        },
        {
          "output_type": "stream",
          "name": "stdout",
          "text": [
            "Trial 15 pruned. Trial was pruned at iteration 10.\n"
          ]
        },
        {
          "output_type": "stream",
          "name": "stderr",
          "text": [
            "/usr/local/lib/python3.9/dist-packages/lightgbm/engine.py:239: UserWarning: 'verbose_eval' argument is deprecated and will be removed in a future release of LightGBM. Pass 'log_evaluation()' callback via 'callbacks' argument instead.\n",
            "  _log_warning(\"'verbose_eval' argument is deprecated and will be removed in a future release of LightGBM. \"\n",
            "/usr/local/lib/python3.9/dist-packages/lightgbm/basic.py:1780: UserWarning: Overriding the parameters from Reference Dataset.\n",
            "  _log_warning('Overriding the parameters from Reference Dataset.')\n",
            "/usr/local/lib/python3.9/dist-packages/lightgbm/basic.py:1513: UserWarning: categorical_column in param dict is overridden.\n",
            "  _log_warning(f'{cat_alias} in param dict is overridden.')\n",
            "\u001b[32m[I 2023-03-20 00:03:10,685]\u001b[0m Trial 16 pruned. Trial was pruned at iteration 10.\u001b[0m\n"
          ]
        },
        {
          "output_type": "stream",
          "name": "stdout",
          "text": [
            "Trial 16 pruned. Trial was pruned at iteration 10.\n"
          ]
        },
        {
          "output_type": "stream",
          "name": "stderr",
          "text": [
            "/usr/local/lib/python3.9/dist-packages/lightgbm/engine.py:239: UserWarning: 'verbose_eval' argument is deprecated and will be removed in a future release of LightGBM. Pass 'log_evaluation()' callback via 'callbacks' argument instead.\n",
            "  _log_warning(\"'verbose_eval' argument is deprecated and will be removed in a future release of LightGBM. \"\n",
            "/usr/local/lib/python3.9/dist-packages/lightgbm/basic.py:1780: UserWarning: Overriding the parameters from Reference Dataset.\n",
            "  _log_warning('Overriding the parameters from Reference Dataset.')\n",
            "/usr/local/lib/python3.9/dist-packages/lightgbm/basic.py:1513: UserWarning: categorical_column in param dict is overridden.\n",
            "  _log_warning(f'{cat_alias} in param dict is overridden.')\n",
            "\u001b[32m[I 2023-03-20 00:03:10,756]\u001b[0m Trial 17 pruned. Trial was pruned at iteration 10.\u001b[0m\n"
          ]
        },
        {
          "output_type": "stream",
          "name": "stdout",
          "text": [
            "Trial 17 pruned. Trial was pruned at iteration 10.\n"
          ]
        },
        {
          "output_type": "stream",
          "name": "stderr",
          "text": [
            "/usr/local/lib/python3.9/dist-packages/lightgbm/engine.py:239: UserWarning: 'verbose_eval' argument is deprecated and will be removed in a future release of LightGBM. Pass 'log_evaluation()' callback via 'callbacks' argument instead.\n",
            "  _log_warning(\"'verbose_eval' argument is deprecated and will be removed in a future release of LightGBM. \"\n",
            "/usr/local/lib/python3.9/dist-packages/lightgbm/basic.py:1780: UserWarning: Overriding the parameters from Reference Dataset.\n",
            "  _log_warning('Overriding the parameters from Reference Dataset.')\n",
            "/usr/local/lib/python3.9/dist-packages/lightgbm/basic.py:1513: UserWarning: categorical_column in param dict is overridden.\n",
            "  _log_warning(f'{cat_alias} in param dict is overridden.')\n",
            "\u001b[32m[I 2023-03-20 00:03:10,839]\u001b[0m Trial 18 pruned. Trial was pruned at iteration 12.\u001b[0m\n"
          ]
        },
        {
          "output_type": "stream",
          "name": "stdout",
          "text": [
            "Trial 18 pruned. Trial was pruned at iteration 12.\n"
          ]
        },
        {
          "output_type": "stream",
          "name": "stderr",
          "text": [
            "/usr/local/lib/python3.9/dist-packages/lightgbm/engine.py:239: UserWarning: 'verbose_eval' argument is deprecated and will be removed in a future release of LightGBM. Pass 'log_evaluation()' callback via 'callbacks' argument instead.\n",
            "  _log_warning(\"'verbose_eval' argument is deprecated and will be removed in a future release of LightGBM. \"\n",
            "/usr/local/lib/python3.9/dist-packages/lightgbm/basic.py:1780: UserWarning: Overriding the parameters from Reference Dataset.\n",
            "  _log_warning('Overriding the parameters from Reference Dataset.')\n",
            "/usr/local/lib/python3.9/dist-packages/lightgbm/basic.py:1513: UserWarning: categorical_column in param dict is overridden.\n",
            "  _log_warning(f'{cat_alias} in param dict is overridden.')\n",
            "\u001b[32m[I 2023-03-20 00:03:10,912]\u001b[0m Trial 19 pruned. Trial was pruned at iteration 10.\u001b[0m\n"
          ]
        },
        {
          "output_type": "stream",
          "name": "stdout",
          "text": [
            "Trial 19 pruned. Trial was pruned at iteration 10.\n"
          ]
        },
        {
          "output_type": "stream",
          "name": "stderr",
          "text": [
            "/usr/local/lib/python3.9/dist-packages/lightgbm/engine.py:239: UserWarning: 'verbose_eval' argument is deprecated and will be removed in a future release of LightGBM. Pass 'log_evaluation()' callback via 'callbacks' argument instead.\n",
            "  _log_warning(\"'verbose_eval' argument is deprecated and will be removed in a future release of LightGBM. \"\n",
            "/usr/local/lib/python3.9/dist-packages/lightgbm/basic.py:1780: UserWarning: Overriding the parameters from Reference Dataset.\n",
            "  _log_warning('Overriding the parameters from Reference Dataset.')\n",
            "/usr/local/lib/python3.9/dist-packages/lightgbm/basic.py:1513: UserWarning: categorical_column in param dict is overridden.\n",
            "  _log_warning(f'{cat_alias} in param dict is overridden.')\n",
            "\u001b[32m[I 2023-03-20 00:03:11,010]\u001b[0m Trial 20 pruned. Trial was pruned at iteration 20.\u001b[0m\n"
          ]
        },
        {
          "output_type": "stream",
          "name": "stdout",
          "text": [
            "Trial 20 pruned. Trial was pruned at iteration 20.\n"
          ]
        },
        {
          "output_type": "stream",
          "name": "stderr",
          "text": [
            "/usr/local/lib/python3.9/dist-packages/lightgbm/engine.py:239: UserWarning: 'verbose_eval' argument is deprecated and will be removed in a future release of LightGBM. Pass 'log_evaluation()' callback via 'callbacks' argument instead.\n",
            "  _log_warning(\"'verbose_eval' argument is deprecated and will be removed in a future release of LightGBM. \"\n",
            "/usr/local/lib/python3.9/dist-packages/lightgbm/basic.py:1780: UserWarning: Overriding the parameters from Reference Dataset.\n",
            "  _log_warning('Overriding the parameters from Reference Dataset.')\n",
            "/usr/local/lib/python3.9/dist-packages/lightgbm/basic.py:1513: UserWarning: categorical_column in param dict is overridden.\n",
            "  _log_warning(f'{cat_alias} in param dict is overridden.')\n",
            "\u001b[32m[I 2023-03-20 00:03:11,104]\u001b[0m Trial 21 pruned. Trial was pruned at iteration 14.\u001b[0m\n"
          ]
        },
        {
          "output_type": "stream",
          "name": "stdout",
          "text": [
            "Trial 21 pruned. Trial was pruned at iteration 14.\n"
          ]
        },
        {
          "output_type": "stream",
          "name": "stderr",
          "text": [
            "/usr/local/lib/python3.9/dist-packages/lightgbm/engine.py:239: UserWarning: 'verbose_eval' argument is deprecated and will be removed in a future release of LightGBM. Pass 'log_evaluation()' callback via 'callbacks' argument instead.\n",
            "  _log_warning(\"'verbose_eval' argument is deprecated and will be removed in a future release of LightGBM. \"\n",
            "/usr/local/lib/python3.9/dist-packages/lightgbm/basic.py:1780: UserWarning: Overriding the parameters from Reference Dataset.\n",
            "  _log_warning('Overriding the parameters from Reference Dataset.')\n",
            "/usr/local/lib/python3.9/dist-packages/lightgbm/basic.py:1513: UserWarning: categorical_column in param dict is overridden.\n",
            "  _log_warning(f'{cat_alias} in param dict is overridden.')\n",
            "\u001b[32m[I 2023-03-20 00:03:11,770]\u001b[0m Trial 22 finished with value: 0.7979294478527608 and parameters: {'bagging_fraction': 0.8669204760018057, 'bagging_freq': 5, 'min_child_samples': 22}. Best is trial 4 with value: 0.8025306748466258.\u001b[0m\n"
          ]
        },
        {
          "output_type": "stream",
          "name": "stdout",
          "text": [
            "Trial 22 finished with value: 0.7979294478527608 and parameters: {'bagging_fraction': 0.8669204760018057, 'bagging_freq': 5, 'min_child_samples': 22}. Best is trial 4 with value: 0.8025306748466258.\n"
          ]
        },
        {
          "output_type": "stream",
          "name": "stderr",
          "text": [
            "/usr/local/lib/python3.9/dist-packages/lightgbm/engine.py:239: UserWarning: 'verbose_eval' argument is deprecated and will be removed in a future release of LightGBM. Pass 'log_evaluation()' callback via 'callbacks' argument instead.\n",
            "  _log_warning(\"'verbose_eval' argument is deprecated and will be removed in a future release of LightGBM. \"\n",
            "/usr/local/lib/python3.9/dist-packages/lightgbm/basic.py:1780: UserWarning: Overriding the parameters from Reference Dataset.\n",
            "  _log_warning('Overriding the parameters from Reference Dataset.')\n",
            "/usr/local/lib/python3.9/dist-packages/lightgbm/basic.py:1513: UserWarning: categorical_column in param dict is overridden.\n",
            "  _log_warning(f'{cat_alias} in param dict is overridden.')\n",
            "\u001b[32m[I 2023-03-20 00:03:13,881]\u001b[0m Trial 23 finished with value: 0.8017638036809815 and parameters: {'bagging_fraction': 0.8110920302131476, 'bagging_freq': 4, 'min_child_samples': 48}. Best is trial 4 with value: 0.8025306748466258.\u001b[0m\n"
          ]
        },
        {
          "output_type": "stream",
          "name": "stdout",
          "text": [
            "Trial 23 finished with value: 0.8017638036809815 and parameters: {'bagging_fraction': 0.8110920302131476, 'bagging_freq': 4, 'min_child_samples': 48}. Best is trial 4 with value: 0.8025306748466258.\n"
          ]
        },
        {
          "output_type": "stream",
          "name": "stderr",
          "text": [
            "/usr/local/lib/python3.9/dist-packages/lightgbm/engine.py:239: UserWarning: 'verbose_eval' argument is deprecated and will be removed in a future release of LightGBM. Pass 'log_evaluation()' callback via 'callbacks' argument instead.\n",
            "  _log_warning(\"'verbose_eval' argument is deprecated and will be removed in a future release of LightGBM. \"\n",
            "/usr/local/lib/python3.9/dist-packages/lightgbm/basic.py:1780: UserWarning: Overriding the parameters from Reference Dataset.\n",
            "  _log_warning('Overriding the parameters from Reference Dataset.')\n",
            "/usr/local/lib/python3.9/dist-packages/lightgbm/basic.py:1513: UserWarning: categorical_column in param dict is overridden.\n",
            "  _log_warning(f'{cat_alias} in param dict is overridden.')\n",
            "\u001b[32m[I 2023-03-20 00:03:14,210]\u001b[0m Trial 24 pruned. Trial was pruned at iteration 24.\u001b[0m\n"
          ]
        },
        {
          "output_type": "stream",
          "name": "stdout",
          "text": [
            "Trial 24 pruned. Trial was pruned at iteration 24.\n"
          ]
        },
        {
          "output_type": "stream",
          "name": "stderr",
          "text": [
            "/usr/local/lib/python3.9/dist-packages/lightgbm/engine.py:239: UserWarning: 'verbose_eval' argument is deprecated and will be removed in a future release of LightGBM. Pass 'log_evaluation()' callback via 'callbacks' argument instead.\n",
            "  _log_warning(\"'verbose_eval' argument is deprecated and will be removed in a future release of LightGBM. \"\n",
            "/usr/local/lib/python3.9/dist-packages/lightgbm/basic.py:1780: UserWarning: Overriding the parameters from Reference Dataset.\n",
            "  _log_warning('Overriding the parameters from Reference Dataset.')\n",
            "/usr/local/lib/python3.9/dist-packages/lightgbm/basic.py:1513: UserWarning: categorical_column in param dict is overridden.\n",
            "  _log_warning(f'{cat_alias} in param dict is overridden.')\n",
            "\u001b[32m[I 2023-03-20 00:03:14,453]\u001b[0m Trial 25 pruned. Trial was pruned at iteration 11.\u001b[0m\n"
          ]
        },
        {
          "output_type": "stream",
          "name": "stdout",
          "text": [
            "Trial 25 pruned. Trial was pruned at iteration 11.\n"
          ]
        },
        {
          "output_type": "stream",
          "name": "stderr",
          "text": [
            "/usr/local/lib/python3.9/dist-packages/lightgbm/engine.py:239: UserWarning: 'verbose_eval' argument is deprecated and will be removed in a future release of LightGBM. Pass 'log_evaluation()' callback via 'callbacks' argument instead.\n",
            "  _log_warning(\"'verbose_eval' argument is deprecated and will be removed in a future release of LightGBM. \"\n",
            "/usr/local/lib/python3.9/dist-packages/lightgbm/basic.py:1780: UserWarning: Overriding the parameters from Reference Dataset.\n",
            "  _log_warning('Overriding the parameters from Reference Dataset.')\n",
            "/usr/local/lib/python3.9/dist-packages/lightgbm/basic.py:1513: UserWarning: categorical_column in param dict is overridden.\n",
            "  _log_warning(f'{cat_alias} in param dict is overridden.')\n",
            "\u001b[32m[I 2023-03-20 00:03:14,985]\u001b[0m Trial 26 pruned. Trial was pruned at iteration 10.\u001b[0m\n"
          ]
        },
        {
          "output_type": "stream",
          "name": "stdout",
          "text": [
            "Trial 26 pruned. Trial was pruned at iteration 10.\n"
          ]
        },
        {
          "output_type": "stream",
          "name": "stderr",
          "text": [
            "/usr/local/lib/python3.9/dist-packages/lightgbm/engine.py:239: UserWarning: 'verbose_eval' argument is deprecated and will be removed in a future release of LightGBM. Pass 'log_evaluation()' callback via 'callbacks' argument instead.\n",
            "  _log_warning(\"'verbose_eval' argument is deprecated and will be removed in a future release of LightGBM. \"\n",
            "/usr/local/lib/python3.9/dist-packages/lightgbm/basic.py:1780: UserWarning: Overriding the parameters from Reference Dataset.\n",
            "  _log_warning('Overriding the parameters from Reference Dataset.')\n",
            "/usr/local/lib/python3.9/dist-packages/lightgbm/basic.py:1513: UserWarning: categorical_column in param dict is overridden.\n",
            "  _log_warning(f'{cat_alias} in param dict is overridden.')\n",
            "\u001b[32m[I 2023-03-20 00:03:15,185]\u001b[0m Trial 27 pruned. Trial was pruned at iteration 10.\u001b[0m\n"
          ]
        },
        {
          "output_type": "stream",
          "name": "stdout",
          "text": [
            "Trial 27 pruned. Trial was pruned at iteration 10.\n"
          ]
        },
        {
          "output_type": "stream",
          "name": "stderr",
          "text": [
            "/usr/local/lib/python3.9/dist-packages/lightgbm/engine.py:239: UserWarning: 'verbose_eval' argument is deprecated and will be removed in a future release of LightGBM. Pass 'log_evaluation()' callback via 'callbacks' argument instead.\n",
            "  _log_warning(\"'verbose_eval' argument is deprecated and will be removed in a future release of LightGBM. \"\n",
            "/usr/local/lib/python3.9/dist-packages/lightgbm/basic.py:1780: UserWarning: Overriding the parameters from Reference Dataset.\n",
            "  _log_warning('Overriding the parameters from Reference Dataset.')\n",
            "/usr/local/lib/python3.9/dist-packages/lightgbm/basic.py:1513: UserWarning: categorical_column in param dict is overridden.\n",
            "  _log_warning(f'{cat_alias} in param dict is overridden.')\n",
            "\u001b[32m[I 2023-03-20 00:03:16,671]\u001b[0m Trial 28 finished with value: 0.799079754601227 and parameters: {'bagging_fraction': 0.8338037446439429, 'bagging_freq': 3, 'min_child_samples': 43}. Best is trial 4 with value: 0.8025306748466258.\u001b[0m\n"
          ]
        },
        {
          "output_type": "stream",
          "name": "stdout",
          "text": [
            "Trial 28 finished with value: 0.799079754601227 and parameters: {'bagging_fraction': 0.8338037446439429, 'bagging_freq': 3, 'min_child_samples': 43}. Best is trial 4 with value: 0.8025306748466258.\n"
          ]
        },
        {
          "output_type": "stream",
          "name": "stderr",
          "text": [
            "/usr/local/lib/python3.9/dist-packages/lightgbm/engine.py:239: UserWarning: 'verbose_eval' argument is deprecated and will be removed in a future release of LightGBM. Pass 'log_evaluation()' callback via 'callbacks' argument instead.\n",
            "  _log_warning(\"'verbose_eval' argument is deprecated and will be removed in a future release of LightGBM. \"\n",
            "/usr/local/lib/python3.9/dist-packages/lightgbm/basic.py:1780: UserWarning: Overriding the parameters from Reference Dataset.\n",
            "  _log_warning('Overriding the parameters from Reference Dataset.')\n",
            "/usr/local/lib/python3.9/dist-packages/lightgbm/basic.py:1513: UserWarning: categorical_column in param dict is overridden.\n",
            "  _log_warning(f'{cat_alias} in param dict is overridden.')\n",
            "\u001b[32m[I 2023-03-20 00:03:16,741]\u001b[0m Trial 29 pruned. Trial was pruned at iteration 10.\u001b[0m\n"
          ]
        },
        {
          "output_type": "stream",
          "name": "stdout",
          "text": [
            "Trial 29 pruned. Trial was pruned at iteration 10.\n"
          ]
        },
        {
          "output_type": "stream",
          "name": "stderr",
          "text": [
            "/usr/local/lib/python3.9/dist-packages/lightgbm/engine.py:239: UserWarning: 'verbose_eval' argument is deprecated and will be removed in a future release of LightGBM. Pass 'log_evaluation()' callback via 'callbacks' argument instead.\n",
            "  _log_warning(\"'verbose_eval' argument is deprecated and will be removed in a future release of LightGBM. \"\n",
            "/usr/local/lib/python3.9/dist-packages/lightgbm/basic.py:1780: UserWarning: Overriding the parameters from Reference Dataset.\n",
            "  _log_warning('Overriding the parameters from Reference Dataset.')\n",
            "/usr/local/lib/python3.9/dist-packages/lightgbm/basic.py:1513: UserWarning: categorical_column in param dict is overridden.\n",
            "  _log_warning(f'{cat_alias} in param dict is overridden.')\n",
            "\u001b[32m[I 2023-03-20 00:03:16,813]\u001b[0m Trial 30 pruned. Trial was pruned at iteration 11.\u001b[0m\n"
          ]
        },
        {
          "output_type": "stream",
          "name": "stdout",
          "text": [
            "Trial 30 pruned. Trial was pruned at iteration 11.\n"
          ]
        },
        {
          "output_type": "stream",
          "name": "stderr",
          "text": [
            "/usr/local/lib/python3.9/dist-packages/lightgbm/engine.py:239: UserWarning: 'verbose_eval' argument is deprecated and will be removed in a future release of LightGBM. Pass 'log_evaluation()' callback via 'callbacks' argument instead.\n",
            "  _log_warning(\"'verbose_eval' argument is deprecated and will be removed in a future release of LightGBM. \"\n",
            "/usr/local/lib/python3.9/dist-packages/lightgbm/basic.py:1780: UserWarning: Overriding the parameters from Reference Dataset.\n",
            "  _log_warning('Overriding the parameters from Reference Dataset.')\n",
            "/usr/local/lib/python3.9/dist-packages/lightgbm/basic.py:1513: UserWarning: categorical_column in param dict is overridden.\n",
            "  _log_warning(f'{cat_alias} in param dict is overridden.')\n",
            "\u001b[32m[I 2023-03-20 00:03:16,889]\u001b[0m Trial 31 pruned. Trial was pruned at iteration 10.\u001b[0m\n"
          ]
        },
        {
          "output_type": "stream",
          "name": "stdout",
          "text": [
            "Trial 31 pruned. Trial was pruned at iteration 10.\n"
          ]
        },
        {
          "output_type": "stream",
          "name": "stderr",
          "text": [
            "/usr/local/lib/python3.9/dist-packages/lightgbm/engine.py:239: UserWarning: 'verbose_eval' argument is deprecated and will be removed in a future release of LightGBM. Pass 'log_evaluation()' callback via 'callbacks' argument instead.\n",
            "  _log_warning(\"'verbose_eval' argument is deprecated and will be removed in a future release of LightGBM. \"\n",
            "/usr/local/lib/python3.9/dist-packages/lightgbm/basic.py:1780: UserWarning: Overriding the parameters from Reference Dataset.\n",
            "  _log_warning('Overriding the parameters from Reference Dataset.')\n",
            "/usr/local/lib/python3.9/dist-packages/lightgbm/basic.py:1513: UserWarning: categorical_column in param dict is overridden.\n",
            "  _log_warning(f'{cat_alias} in param dict is overridden.')\n",
            "\u001b[32m[I 2023-03-20 00:03:16,971]\u001b[0m Trial 32 pruned. Trial was pruned at iteration 10.\u001b[0m\n"
          ]
        },
        {
          "output_type": "stream",
          "name": "stdout",
          "text": [
            "Trial 32 pruned. Trial was pruned at iteration 10.\n"
          ]
        },
        {
          "output_type": "stream",
          "name": "stderr",
          "text": [
            "/usr/local/lib/python3.9/dist-packages/lightgbm/engine.py:239: UserWarning: 'verbose_eval' argument is deprecated and will be removed in a future release of LightGBM. Pass 'log_evaluation()' callback via 'callbacks' argument instead.\n",
            "  _log_warning(\"'verbose_eval' argument is deprecated and will be removed in a future release of LightGBM. \"\n",
            "/usr/local/lib/python3.9/dist-packages/lightgbm/basic.py:1780: UserWarning: Overriding the parameters from Reference Dataset.\n",
            "  _log_warning('Overriding the parameters from Reference Dataset.')\n",
            "/usr/local/lib/python3.9/dist-packages/lightgbm/basic.py:1513: UserWarning: categorical_column in param dict is overridden.\n",
            "  _log_warning(f'{cat_alias} in param dict is overridden.')\n",
            "\u001b[32m[I 2023-03-20 00:03:17,064]\u001b[0m Trial 33 pruned. Trial was pruned at iteration 10.\u001b[0m\n"
          ]
        },
        {
          "output_type": "stream",
          "name": "stdout",
          "text": [
            "Trial 33 pruned. Trial was pruned at iteration 10.\n"
          ]
        },
        {
          "output_type": "stream",
          "name": "stderr",
          "text": [
            "/usr/local/lib/python3.9/dist-packages/lightgbm/engine.py:239: UserWarning: 'verbose_eval' argument is deprecated and will be removed in a future release of LightGBM. Pass 'log_evaluation()' callback via 'callbacks' argument instead.\n",
            "  _log_warning(\"'verbose_eval' argument is deprecated and will be removed in a future release of LightGBM. \"\n",
            "/usr/local/lib/python3.9/dist-packages/lightgbm/basic.py:1780: UserWarning: Overriding the parameters from Reference Dataset.\n",
            "  _log_warning('Overriding the parameters from Reference Dataset.')\n",
            "/usr/local/lib/python3.9/dist-packages/lightgbm/basic.py:1513: UserWarning: categorical_column in param dict is overridden.\n",
            "  _log_warning(f'{cat_alias} in param dict is overridden.')\n",
            "\u001b[32m[I 2023-03-20 00:03:17,160]\u001b[0m Trial 34 pruned. Trial was pruned at iteration 15.\u001b[0m\n"
          ]
        },
        {
          "output_type": "stream",
          "name": "stdout",
          "text": [
            "Trial 34 pruned. Trial was pruned at iteration 15.\n"
          ]
        },
        {
          "output_type": "stream",
          "name": "stderr",
          "text": [
            "/usr/local/lib/python3.9/dist-packages/lightgbm/engine.py:239: UserWarning: 'verbose_eval' argument is deprecated and will be removed in a future release of LightGBM. Pass 'log_evaluation()' callback via 'callbacks' argument instead.\n",
            "  _log_warning(\"'verbose_eval' argument is deprecated and will be removed in a future release of LightGBM. \"\n",
            "/usr/local/lib/python3.9/dist-packages/lightgbm/basic.py:1780: UserWarning: Overriding the parameters from Reference Dataset.\n",
            "  _log_warning('Overriding the parameters from Reference Dataset.')\n",
            "/usr/local/lib/python3.9/dist-packages/lightgbm/basic.py:1513: UserWarning: categorical_column in param dict is overridden.\n",
            "  _log_warning(f'{cat_alias} in param dict is overridden.')\n",
            "\u001b[32m[I 2023-03-20 00:03:17,238]\u001b[0m Trial 35 pruned. Trial was pruned at iteration 10.\u001b[0m\n"
          ]
        },
        {
          "output_type": "stream",
          "name": "stdout",
          "text": [
            "Trial 35 pruned. Trial was pruned at iteration 10.\n"
          ]
        },
        {
          "output_type": "stream",
          "name": "stderr",
          "text": [
            "/usr/local/lib/python3.9/dist-packages/lightgbm/engine.py:239: UserWarning: 'verbose_eval' argument is deprecated and will be removed in a future release of LightGBM. Pass 'log_evaluation()' callback via 'callbacks' argument instead.\n",
            "  _log_warning(\"'verbose_eval' argument is deprecated and will be removed in a future release of LightGBM. \"\n",
            "/usr/local/lib/python3.9/dist-packages/lightgbm/basic.py:1780: UserWarning: Overriding the parameters from Reference Dataset.\n",
            "  _log_warning('Overriding the parameters from Reference Dataset.')\n",
            "/usr/local/lib/python3.9/dist-packages/lightgbm/basic.py:1513: UserWarning: categorical_column in param dict is overridden.\n",
            "  _log_warning(f'{cat_alias} in param dict is overridden.')\n",
            "\u001b[32m[I 2023-03-20 00:03:17,326]\u001b[0m Trial 36 pruned. Trial was pruned at iteration 11.\u001b[0m\n"
          ]
        },
        {
          "output_type": "stream",
          "name": "stdout",
          "text": [
            "Trial 36 pruned. Trial was pruned at iteration 11.\n"
          ]
        },
        {
          "output_type": "stream",
          "name": "stderr",
          "text": [
            "/usr/local/lib/python3.9/dist-packages/lightgbm/engine.py:239: UserWarning: 'verbose_eval' argument is deprecated and will be removed in a future release of LightGBM. Pass 'log_evaluation()' callback via 'callbacks' argument instead.\n",
            "  _log_warning(\"'verbose_eval' argument is deprecated and will be removed in a future release of LightGBM. \"\n",
            "/usr/local/lib/python3.9/dist-packages/lightgbm/basic.py:1780: UserWarning: Overriding the parameters from Reference Dataset.\n",
            "  _log_warning('Overriding the parameters from Reference Dataset.')\n",
            "/usr/local/lib/python3.9/dist-packages/lightgbm/basic.py:1513: UserWarning: categorical_column in param dict is overridden.\n",
            "  _log_warning(f'{cat_alias} in param dict is overridden.')\n",
            "\u001b[32m[I 2023-03-20 00:03:17,398]\u001b[0m Trial 37 pruned. Trial was pruned at iteration 10.\u001b[0m\n"
          ]
        },
        {
          "output_type": "stream",
          "name": "stdout",
          "text": [
            "Trial 37 pruned. Trial was pruned at iteration 10.\n"
          ]
        },
        {
          "output_type": "stream",
          "name": "stderr",
          "text": [
            "/usr/local/lib/python3.9/dist-packages/lightgbm/engine.py:239: UserWarning: 'verbose_eval' argument is deprecated and will be removed in a future release of LightGBM. Pass 'log_evaluation()' callback via 'callbacks' argument instead.\n",
            "  _log_warning(\"'verbose_eval' argument is deprecated and will be removed in a future release of LightGBM. \"\n",
            "/usr/local/lib/python3.9/dist-packages/lightgbm/basic.py:1780: UserWarning: Overriding the parameters from Reference Dataset.\n",
            "  _log_warning('Overriding the parameters from Reference Dataset.')\n",
            "/usr/local/lib/python3.9/dist-packages/lightgbm/basic.py:1513: UserWarning: categorical_column in param dict is overridden.\n",
            "  _log_warning(f'{cat_alias} in param dict is overridden.')\n",
            "\u001b[32m[I 2023-03-20 00:03:17,494]\u001b[0m Trial 38 pruned. Trial was pruned at iteration 18.\u001b[0m\n"
          ]
        },
        {
          "output_type": "stream",
          "name": "stdout",
          "text": [
            "Trial 38 pruned. Trial was pruned at iteration 18.\n"
          ]
        },
        {
          "output_type": "stream",
          "name": "stderr",
          "text": [
            "/usr/local/lib/python3.9/dist-packages/lightgbm/engine.py:239: UserWarning: 'verbose_eval' argument is deprecated and will be removed in a future release of LightGBM. Pass 'log_evaluation()' callback via 'callbacks' argument instead.\n",
            "  _log_warning(\"'verbose_eval' argument is deprecated and will be removed in a future release of LightGBM. \"\n",
            "/usr/local/lib/python3.9/dist-packages/lightgbm/basic.py:1780: UserWarning: Overriding the parameters from Reference Dataset.\n",
            "  _log_warning('Overriding the parameters from Reference Dataset.')\n",
            "/usr/local/lib/python3.9/dist-packages/lightgbm/basic.py:1513: UserWarning: categorical_column in param dict is overridden.\n",
            "  _log_warning(f'{cat_alias} in param dict is overridden.')\n",
            "\u001b[32m[I 2023-03-20 00:03:17,572]\u001b[0m Trial 39 pruned. Trial was pruned at iteration 10.\u001b[0m\n"
          ]
        },
        {
          "output_type": "stream",
          "name": "stdout",
          "text": [
            "Trial 39 pruned. Trial was pruned at iteration 10.\n"
          ]
        },
        {
          "output_type": "stream",
          "name": "stderr",
          "text": [
            "/usr/local/lib/python3.9/dist-packages/lightgbm/engine.py:239: UserWarning: 'verbose_eval' argument is deprecated and will be removed in a future release of LightGBM. Pass 'log_evaluation()' callback via 'callbacks' argument instead.\n",
            "  _log_warning(\"'verbose_eval' argument is deprecated and will be removed in a future release of LightGBM. \"\n",
            "/usr/local/lib/python3.9/dist-packages/lightgbm/basic.py:1780: UserWarning: Overriding the parameters from Reference Dataset.\n",
            "  _log_warning('Overriding the parameters from Reference Dataset.')\n",
            "/usr/local/lib/python3.9/dist-packages/lightgbm/basic.py:1513: UserWarning: categorical_column in param dict is overridden.\n",
            "  _log_warning(f'{cat_alias} in param dict is overridden.')\n",
            "\u001b[32m[I 2023-03-20 00:03:17,658]\u001b[0m Trial 40 pruned. Trial was pruned at iteration 10.\u001b[0m\n"
          ]
        },
        {
          "output_type": "stream",
          "name": "stdout",
          "text": [
            "Trial 40 pruned. Trial was pruned at iteration 10.\n"
          ]
        },
        {
          "output_type": "stream",
          "name": "stderr",
          "text": [
            "/usr/local/lib/python3.9/dist-packages/lightgbm/engine.py:239: UserWarning: 'verbose_eval' argument is deprecated and will be removed in a future release of LightGBM. Pass 'log_evaluation()' callback via 'callbacks' argument instead.\n",
            "  _log_warning(\"'verbose_eval' argument is deprecated and will be removed in a future release of LightGBM. \"\n",
            "/usr/local/lib/python3.9/dist-packages/lightgbm/basic.py:1780: UserWarning: Overriding the parameters from Reference Dataset.\n",
            "  _log_warning('Overriding the parameters from Reference Dataset.')\n",
            "/usr/local/lib/python3.9/dist-packages/lightgbm/basic.py:1513: UserWarning: categorical_column in param dict is overridden.\n",
            "  _log_warning(f'{cat_alias} in param dict is overridden.')\n",
            "\u001b[32m[I 2023-03-20 00:03:17,737]\u001b[0m Trial 41 pruned. Trial was pruned at iteration 10.\u001b[0m\n"
          ]
        },
        {
          "output_type": "stream",
          "name": "stdout",
          "text": [
            "Trial 41 pruned. Trial was pruned at iteration 10.\n"
          ]
        },
        {
          "output_type": "stream",
          "name": "stderr",
          "text": [
            "/usr/local/lib/python3.9/dist-packages/lightgbm/engine.py:239: UserWarning: 'verbose_eval' argument is deprecated and will be removed in a future release of LightGBM. Pass 'log_evaluation()' callback via 'callbacks' argument instead.\n",
            "  _log_warning(\"'verbose_eval' argument is deprecated and will be removed in a future release of LightGBM. \"\n",
            "/usr/local/lib/python3.9/dist-packages/lightgbm/basic.py:1780: UserWarning: Overriding the parameters from Reference Dataset.\n",
            "  _log_warning('Overriding the parameters from Reference Dataset.')\n",
            "/usr/local/lib/python3.9/dist-packages/lightgbm/basic.py:1513: UserWarning: categorical_column in param dict is overridden.\n",
            "  _log_warning(f'{cat_alias} in param dict is overridden.')\n",
            "\u001b[32m[I 2023-03-20 00:03:18,112]\u001b[0m Trial 42 finished with value: 0.7998466257668712 and parameters: {'bagging_fraction': 0.8456094898133372, 'bagging_freq': 2, 'min_child_samples': 45}. Best is trial 4 with value: 0.8025306748466258.\u001b[0m\n"
          ]
        },
        {
          "output_type": "stream",
          "name": "stdout",
          "text": [
            "Trial 42 finished with value: 0.7998466257668712 and parameters: {'bagging_fraction': 0.8456094898133372, 'bagging_freq': 2, 'min_child_samples': 45}. Best is trial 4 with value: 0.8025306748466258.\n"
          ]
        },
        {
          "output_type": "stream",
          "name": "stderr",
          "text": [
            "/usr/local/lib/python3.9/dist-packages/lightgbm/engine.py:239: UserWarning: 'verbose_eval' argument is deprecated and will be removed in a future release of LightGBM. Pass 'log_evaluation()' callback via 'callbacks' argument instead.\n",
            "  _log_warning(\"'verbose_eval' argument is deprecated and will be removed in a future release of LightGBM. \"\n",
            "/usr/local/lib/python3.9/dist-packages/lightgbm/basic.py:1780: UserWarning: Overriding the parameters from Reference Dataset.\n",
            "  _log_warning('Overriding the parameters from Reference Dataset.')\n",
            "/usr/local/lib/python3.9/dist-packages/lightgbm/basic.py:1513: UserWarning: categorical_column in param dict is overridden.\n",
            "  _log_warning(f'{cat_alias} in param dict is overridden.')\n",
            "\u001b[32m[I 2023-03-20 00:03:18,203]\u001b[0m Trial 43 pruned. Trial was pruned at iteration 20.\u001b[0m\n"
          ]
        },
        {
          "output_type": "stream",
          "name": "stdout",
          "text": [
            "Trial 43 pruned. Trial was pruned at iteration 20.\n"
          ]
        },
        {
          "output_type": "stream",
          "name": "stderr",
          "text": [
            "/usr/local/lib/python3.9/dist-packages/lightgbm/engine.py:239: UserWarning: 'verbose_eval' argument is deprecated and will be removed in a future release of LightGBM. Pass 'log_evaluation()' callback via 'callbacks' argument instead.\n",
            "  _log_warning(\"'verbose_eval' argument is deprecated and will be removed in a future release of LightGBM. \"\n",
            "/usr/local/lib/python3.9/dist-packages/lightgbm/basic.py:1780: UserWarning: Overriding the parameters from Reference Dataset.\n",
            "  _log_warning('Overriding the parameters from Reference Dataset.')\n",
            "/usr/local/lib/python3.9/dist-packages/lightgbm/basic.py:1513: UserWarning: categorical_column in param dict is overridden.\n",
            "  _log_warning(f'{cat_alias} in param dict is overridden.')\n",
            "\u001b[32m[I 2023-03-20 00:03:18,290]\u001b[0m Trial 44 pruned. Trial was pruned at iteration 11.\u001b[0m\n"
          ]
        },
        {
          "output_type": "stream",
          "name": "stdout",
          "text": [
            "Trial 44 pruned. Trial was pruned at iteration 11.\n"
          ]
        },
        {
          "output_type": "stream",
          "name": "stderr",
          "text": [
            "/usr/local/lib/python3.9/dist-packages/lightgbm/engine.py:239: UserWarning: 'verbose_eval' argument is deprecated and will be removed in a future release of LightGBM. Pass 'log_evaluation()' callback via 'callbacks' argument instead.\n",
            "  _log_warning(\"'verbose_eval' argument is deprecated and will be removed in a future release of LightGBM. \"\n",
            "/usr/local/lib/python3.9/dist-packages/lightgbm/basic.py:1780: UserWarning: Overriding the parameters from Reference Dataset.\n",
            "  _log_warning('Overriding the parameters from Reference Dataset.')\n",
            "/usr/local/lib/python3.9/dist-packages/lightgbm/basic.py:1513: UserWarning: categorical_column in param dict is overridden.\n",
            "  _log_warning(f'{cat_alias} in param dict is overridden.')\n",
            "\u001b[32m[I 2023-03-20 00:03:18,372]\u001b[0m Trial 45 pruned. Trial was pruned at iteration 11.\u001b[0m\n"
          ]
        },
        {
          "output_type": "stream",
          "name": "stdout",
          "text": [
            "Trial 45 pruned. Trial was pruned at iteration 11.\n"
          ]
        },
        {
          "output_type": "stream",
          "name": "stderr",
          "text": [
            "/usr/local/lib/python3.9/dist-packages/lightgbm/engine.py:239: UserWarning: 'verbose_eval' argument is deprecated and will be removed in a future release of LightGBM. Pass 'log_evaluation()' callback via 'callbacks' argument instead.\n",
            "  _log_warning(\"'verbose_eval' argument is deprecated and will be removed in a future release of LightGBM. \"\n",
            "/usr/local/lib/python3.9/dist-packages/lightgbm/basic.py:1780: UserWarning: Overriding the parameters from Reference Dataset.\n",
            "  _log_warning('Overriding the parameters from Reference Dataset.')\n",
            "/usr/local/lib/python3.9/dist-packages/lightgbm/basic.py:1513: UserWarning: categorical_column in param dict is overridden.\n",
            "  _log_warning(f'{cat_alias} in param dict is overridden.')\n",
            "\u001b[32m[I 2023-03-20 00:03:18,451]\u001b[0m Trial 46 pruned. Trial was pruned at iteration 10.\u001b[0m\n"
          ]
        },
        {
          "output_type": "stream",
          "name": "stdout",
          "text": [
            "Trial 46 pruned. Trial was pruned at iteration 10.\n"
          ]
        },
        {
          "output_type": "stream",
          "name": "stderr",
          "text": [
            "/usr/local/lib/python3.9/dist-packages/lightgbm/engine.py:239: UserWarning: 'verbose_eval' argument is deprecated and will be removed in a future release of LightGBM. Pass 'log_evaluation()' callback via 'callbacks' argument instead.\n",
            "  _log_warning(\"'verbose_eval' argument is deprecated and will be removed in a future release of LightGBM. \"\n",
            "/usr/local/lib/python3.9/dist-packages/lightgbm/basic.py:1780: UserWarning: Overriding the parameters from Reference Dataset.\n",
            "  _log_warning('Overriding the parameters from Reference Dataset.')\n",
            "/usr/local/lib/python3.9/dist-packages/lightgbm/basic.py:1513: UserWarning: categorical_column in param dict is overridden.\n",
            "  _log_warning(f'{cat_alias} in param dict is overridden.')\n",
            "\u001b[32m[I 2023-03-20 00:03:18,524]\u001b[0m Trial 47 pruned. Trial was pruned at iteration 10.\u001b[0m\n"
          ]
        },
        {
          "output_type": "stream",
          "name": "stdout",
          "text": [
            "Trial 47 pruned. Trial was pruned at iteration 10.\n"
          ]
        },
        {
          "output_type": "stream",
          "name": "stderr",
          "text": [
            "/usr/local/lib/python3.9/dist-packages/lightgbm/engine.py:239: UserWarning: 'verbose_eval' argument is deprecated and will be removed in a future release of LightGBM. Pass 'log_evaluation()' callback via 'callbacks' argument instead.\n",
            "  _log_warning(\"'verbose_eval' argument is deprecated and will be removed in a future release of LightGBM. \"\n",
            "/usr/local/lib/python3.9/dist-packages/lightgbm/basic.py:1780: UserWarning: Overriding the parameters from Reference Dataset.\n",
            "  _log_warning('Overriding the parameters from Reference Dataset.')\n",
            "/usr/local/lib/python3.9/dist-packages/lightgbm/basic.py:1513: UserWarning: categorical_column in param dict is overridden.\n",
            "  _log_warning(f'{cat_alias} in param dict is overridden.')\n",
            "\u001b[32m[I 2023-03-20 00:03:18,624]\u001b[0m Trial 48 pruned. Trial was pruned at iteration 10.\u001b[0m\n"
          ]
        },
        {
          "output_type": "stream",
          "name": "stdout",
          "text": [
            "Trial 48 pruned. Trial was pruned at iteration 10.\n"
          ]
        },
        {
          "output_type": "stream",
          "name": "stderr",
          "text": [
            "/usr/local/lib/python3.9/dist-packages/lightgbm/engine.py:239: UserWarning: 'verbose_eval' argument is deprecated and will be removed in a future release of LightGBM. Pass 'log_evaluation()' callback via 'callbacks' argument instead.\n",
            "  _log_warning(\"'verbose_eval' argument is deprecated and will be removed in a future release of LightGBM. \"\n",
            "/usr/local/lib/python3.9/dist-packages/lightgbm/basic.py:1780: UserWarning: Overriding the parameters from Reference Dataset.\n",
            "  _log_warning('Overriding the parameters from Reference Dataset.')\n",
            "/usr/local/lib/python3.9/dist-packages/lightgbm/basic.py:1513: UserWarning: categorical_column in param dict is overridden.\n",
            "  _log_warning(f'{cat_alias} in param dict is overridden.')\n",
            "\u001b[32m[I 2023-03-20 00:03:19,672]\u001b[0m Trial 49 pruned. Trial was pruned at iteration 19.\u001b[0m\n"
          ]
        },
        {
          "output_type": "stream",
          "name": "stdout",
          "text": [
            "Trial 49 pruned. Trial was pruned at iteration 19.\n"
          ]
        },
        {
          "output_type": "stream",
          "name": "stderr",
          "text": [
            "/usr/local/lib/python3.9/dist-packages/lightgbm/engine.py:239: UserWarning: 'verbose_eval' argument is deprecated and will be removed in a future release of LightGBM. Pass 'log_evaluation()' callback via 'callbacks' argument instead.\n",
            "  _log_warning(\"'verbose_eval' argument is deprecated and will be removed in a future release of LightGBM. \"\n",
            "/usr/local/lib/python3.9/dist-packages/lightgbm/basic.py:1780: UserWarning: Overriding the parameters from Reference Dataset.\n",
            "  _log_warning('Overriding the parameters from Reference Dataset.')\n",
            "/usr/local/lib/python3.9/dist-packages/lightgbm/basic.py:1513: UserWarning: categorical_column in param dict is overridden.\n",
            "  _log_warning(f'{cat_alias} in param dict is overridden.')\n",
            "\u001b[32m[I 2023-03-20 00:03:19,810]\u001b[0m Trial 50 pruned. Trial was pruned at iteration 10.\u001b[0m\n"
          ]
        },
        {
          "output_type": "stream",
          "name": "stdout",
          "text": [
            "Trial 50 pruned. Trial was pruned at iteration 10.\n"
          ]
        },
        {
          "output_type": "stream",
          "name": "stderr",
          "text": [
            "/usr/local/lib/python3.9/dist-packages/lightgbm/engine.py:239: UserWarning: 'verbose_eval' argument is deprecated and will be removed in a future release of LightGBM. Pass 'log_evaluation()' callback via 'callbacks' argument instead.\n",
            "  _log_warning(\"'verbose_eval' argument is deprecated and will be removed in a future release of LightGBM. \"\n",
            "/usr/local/lib/python3.9/dist-packages/lightgbm/basic.py:1780: UserWarning: Overriding the parameters from Reference Dataset.\n",
            "  _log_warning('Overriding the parameters from Reference Dataset.')\n",
            "/usr/local/lib/python3.9/dist-packages/lightgbm/basic.py:1513: UserWarning: categorical_column in param dict is overridden.\n",
            "  _log_warning(f'{cat_alias} in param dict is overridden.')\n",
            "\u001b[32m[I 2023-03-20 00:03:20,147]\u001b[0m Trial 51 pruned. Trial was pruned at iteration 10.\u001b[0m\n"
          ]
        },
        {
          "output_type": "stream",
          "name": "stdout",
          "text": [
            "Trial 51 pruned. Trial was pruned at iteration 10.\n"
          ]
        },
        {
          "output_type": "stream",
          "name": "stderr",
          "text": [
            "/usr/local/lib/python3.9/dist-packages/lightgbm/engine.py:239: UserWarning: 'verbose_eval' argument is deprecated and will be removed in a future release of LightGBM. Pass 'log_evaluation()' callback via 'callbacks' argument instead.\n",
            "  _log_warning(\"'verbose_eval' argument is deprecated and will be removed in a future release of LightGBM. \"\n",
            "/usr/local/lib/python3.9/dist-packages/lightgbm/basic.py:1780: UserWarning: Overriding the parameters from Reference Dataset.\n",
            "  _log_warning('Overriding the parameters from Reference Dataset.')\n",
            "/usr/local/lib/python3.9/dist-packages/lightgbm/basic.py:1513: UserWarning: categorical_column in param dict is overridden.\n",
            "  _log_warning(f'{cat_alias} in param dict is overridden.')\n",
            "\u001b[32m[I 2023-03-20 00:03:20,442]\u001b[0m Trial 52 pruned. Trial was pruned at iteration 20.\u001b[0m\n"
          ]
        },
        {
          "output_type": "stream",
          "name": "stdout",
          "text": [
            "Trial 52 pruned. Trial was pruned at iteration 20.\n"
          ]
        },
        {
          "output_type": "stream",
          "name": "stderr",
          "text": [
            "/usr/local/lib/python3.9/dist-packages/lightgbm/engine.py:239: UserWarning: 'verbose_eval' argument is deprecated and will be removed in a future release of LightGBM. Pass 'log_evaluation()' callback via 'callbacks' argument instead.\n",
            "  _log_warning(\"'verbose_eval' argument is deprecated and will be removed in a future release of LightGBM. \"\n",
            "/usr/local/lib/python3.9/dist-packages/lightgbm/basic.py:1780: UserWarning: Overriding the parameters from Reference Dataset.\n",
            "  _log_warning('Overriding the parameters from Reference Dataset.')\n",
            "/usr/local/lib/python3.9/dist-packages/lightgbm/basic.py:1513: UserWarning: categorical_column in param dict is overridden.\n",
            "  _log_warning(f'{cat_alias} in param dict is overridden.')\n",
            "\u001b[32m[I 2023-03-20 00:03:21,889]\u001b[0m Trial 53 finished with value: 0.8009969325153374 and parameters: {'bagging_fraction': 0.7799538556171393, 'bagging_freq': 2, 'min_child_samples': 50}. Best is trial 4 with value: 0.8025306748466258.\u001b[0m\n"
          ]
        },
        {
          "output_type": "stream",
          "name": "stdout",
          "text": [
            "Trial 53 finished with value: 0.8009969325153374 and parameters: {'bagging_fraction': 0.7799538556171393, 'bagging_freq': 2, 'min_child_samples': 50}. Best is trial 4 with value: 0.8025306748466258.\n"
          ]
        },
        {
          "output_type": "stream",
          "name": "stderr",
          "text": [
            "/usr/local/lib/python3.9/dist-packages/lightgbm/engine.py:239: UserWarning: 'verbose_eval' argument is deprecated and will be removed in a future release of LightGBM. Pass 'log_evaluation()' callback via 'callbacks' argument instead.\n",
            "  _log_warning(\"'verbose_eval' argument is deprecated and will be removed in a future release of LightGBM. \"\n",
            "/usr/local/lib/python3.9/dist-packages/lightgbm/basic.py:1780: UserWarning: Overriding the parameters from Reference Dataset.\n",
            "  _log_warning('Overriding the parameters from Reference Dataset.')\n",
            "/usr/local/lib/python3.9/dist-packages/lightgbm/basic.py:1513: UserWarning: categorical_column in param dict is overridden.\n",
            "  _log_warning(f'{cat_alias} in param dict is overridden.')\n",
            "\u001b[32m[I 2023-03-20 00:03:22,226]\u001b[0m Trial 54 pruned. Trial was pruned at iteration 11.\u001b[0m\n"
          ]
        },
        {
          "output_type": "stream",
          "name": "stdout",
          "text": [
            "Trial 54 pruned. Trial was pruned at iteration 11.\n"
          ]
        },
        {
          "output_type": "stream",
          "name": "stderr",
          "text": [
            "/usr/local/lib/python3.9/dist-packages/lightgbm/engine.py:239: UserWarning: 'verbose_eval' argument is deprecated and will be removed in a future release of LightGBM. Pass 'log_evaluation()' callback via 'callbacks' argument instead.\n",
            "  _log_warning(\"'verbose_eval' argument is deprecated and will be removed in a future release of LightGBM. \"\n",
            "/usr/local/lib/python3.9/dist-packages/lightgbm/basic.py:1780: UserWarning: Overriding the parameters from Reference Dataset.\n",
            "  _log_warning('Overriding the parameters from Reference Dataset.')\n",
            "/usr/local/lib/python3.9/dist-packages/lightgbm/basic.py:1513: UserWarning: categorical_column in param dict is overridden.\n",
            "  _log_warning(f'{cat_alias} in param dict is overridden.')\n",
            "\u001b[32m[I 2023-03-20 00:03:22,311]\u001b[0m Trial 55 pruned. Trial was pruned at iteration 12.\u001b[0m\n"
          ]
        },
        {
          "output_type": "stream",
          "name": "stdout",
          "text": [
            "Trial 55 pruned. Trial was pruned at iteration 12.\n"
          ]
        },
        {
          "output_type": "stream",
          "name": "stderr",
          "text": [
            "/usr/local/lib/python3.9/dist-packages/lightgbm/engine.py:239: UserWarning: 'verbose_eval' argument is deprecated and will be removed in a future release of LightGBM. Pass 'log_evaluation()' callback via 'callbacks' argument instead.\n",
            "  _log_warning(\"'verbose_eval' argument is deprecated and will be removed in a future release of LightGBM. \"\n",
            "/usr/local/lib/python3.9/dist-packages/lightgbm/basic.py:1780: UserWarning: Overriding the parameters from Reference Dataset.\n",
            "  _log_warning('Overriding the parameters from Reference Dataset.')\n",
            "/usr/local/lib/python3.9/dist-packages/lightgbm/basic.py:1513: UserWarning: categorical_column in param dict is overridden.\n",
            "  _log_warning(f'{cat_alias} in param dict is overridden.')\n",
            "\u001b[32m[I 2023-03-20 00:03:22,400]\u001b[0m Trial 56 pruned. Trial was pruned at iteration 17.\u001b[0m\n"
          ]
        },
        {
          "output_type": "stream",
          "name": "stdout",
          "text": [
            "Trial 56 pruned. Trial was pruned at iteration 17.\n"
          ]
        },
        {
          "output_type": "stream",
          "name": "stderr",
          "text": [
            "/usr/local/lib/python3.9/dist-packages/lightgbm/engine.py:239: UserWarning: 'verbose_eval' argument is deprecated and will be removed in a future release of LightGBM. Pass 'log_evaluation()' callback via 'callbacks' argument instead.\n",
            "  _log_warning(\"'verbose_eval' argument is deprecated and will be removed in a future release of LightGBM. \"\n",
            "/usr/local/lib/python3.9/dist-packages/lightgbm/basic.py:1780: UserWarning: Overriding the parameters from Reference Dataset.\n",
            "  _log_warning('Overriding the parameters from Reference Dataset.')\n",
            "/usr/local/lib/python3.9/dist-packages/lightgbm/basic.py:1513: UserWarning: categorical_column in param dict is overridden.\n",
            "  _log_warning(f'{cat_alias} in param dict is overridden.')\n",
            "\u001b[32m[I 2023-03-20 00:03:22,510]\u001b[0m Trial 57 pruned. Trial was pruned at iteration 18.\u001b[0m\n"
          ]
        },
        {
          "output_type": "stream",
          "name": "stdout",
          "text": [
            "Trial 57 pruned. Trial was pruned at iteration 18.\n"
          ]
        },
        {
          "output_type": "stream",
          "name": "stderr",
          "text": [
            "/usr/local/lib/python3.9/dist-packages/lightgbm/engine.py:239: UserWarning: 'verbose_eval' argument is deprecated and will be removed in a future release of LightGBM. Pass 'log_evaluation()' callback via 'callbacks' argument instead.\n",
            "  _log_warning(\"'verbose_eval' argument is deprecated and will be removed in a future release of LightGBM. \"\n",
            "/usr/local/lib/python3.9/dist-packages/lightgbm/basic.py:1780: UserWarning: Overriding the parameters from Reference Dataset.\n",
            "  _log_warning('Overriding the parameters from Reference Dataset.')\n",
            "/usr/local/lib/python3.9/dist-packages/lightgbm/basic.py:1513: UserWarning: categorical_column in param dict is overridden.\n",
            "  _log_warning(f'{cat_alias} in param dict is overridden.')\n",
            "\u001b[32m[I 2023-03-20 00:03:22,589]\u001b[0m Trial 58 pruned. Trial was pruned at iteration 10.\u001b[0m\n"
          ]
        },
        {
          "output_type": "stream",
          "name": "stdout",
          "text": [
            "Trial 58 pruned. Trial was pruned at iteration 10.\n"
          ]
        },
        {
          "output_type": "stream",
          "name": "stderr",
          "text": [
            "/usr/local/lib/python3.9/dist-packages/lightgbm/engine.py:239: UserWarning: 'verbose_eval' argument is deprecated and will be removed in a future release of LightGBM. Pass 'log_evaluation()' callback via 'callbacks' argument instead.\n",
            "  _log_warning(\"'verbose_eval' argument is deprecated and will be removed in a future release of LightGBM. \"\n",
            "/usr/local/lib/python3.9/dist-packages/lightgbm/basic.py:1780: UserWarning: Overriding the parameters from Reference Dataset.\n",
            "  _log_warning('Overriding the parameters from Reference Dataset.')\n",
            "/usr/local/lib/python3.9/dist-packages/lightgbm/basic.py:1513: UserWarning: categorical_column in param dict is overridden.\n",
            "  _log_warning(f'{cat_alias} in param dict is overridden.')\n",
            "\u001b[32m[I 2023-03-20 00:03:22,670]\u001b[0m Trial 59 pruned. Trial was pruned at iteration 11.\u001b[0m\n"
          ]
        },
        {
          "output_type": "stream",
          "name": "stdout",
          "text": [
            "Trial 59 pruned. Trial was pruned at iteration 11.\n"
          ]
        },
        {
          "output_type": "stream",
          "name": "stderr",
          "text": [
            "/usr/local/lib/python3.9/dist-packages/lightgbm/engine.py:239: UserWarning: 'verbose_eval' argument is deprecated and will be removed in a future release of LightGBM. Pass 'log_evaluation()' callback via 'callbacks' argument instead.\n",
            "  _log_warning(\"'verbose_eval' argument is deprecated and will be removed in a future release of LightGBM. \"\n",
            "/usr/local/lib/python3.9/dist-packages/lightgbm/basic.py:1780: UserWarning: Overriding the parameters from Reference Dataset.\n",
            "  _log_warning('Overriding the parameters from Reference Dataset.')\n",
            "/usr/local/lib/python3.9/dist-packages/lightgbm/basic.py:1513: UserWarning: categorical_column in param dict is overridden.\n",
            "  _log_warning(f'{cat_alias} in param dict is overridden.')\n",
            "\u001b[32m[I 2023-03-20 00:03:22,751]\u001b[0m Trial 60 pruned. Trial was pruned at iteration 10.\u001b[0m\n"
          ]
        },
        {
          "output_type": "stream",
          "name": "stdout",
          "text": [
            "Trial 60 pruned. Trial was pruned at iteration 10.\n"
          ]
        },
        {
          "output_type": "stream",
          "name": "stderr",
          "text": [
            "/usr/local/lib/python3.9/dist-packages/lightgbm/engine.py:239: UserWarning: 'verbose_eval' argument is deprecated and will be removed in a future release of LightGBM. Pass 'log_evaluation()' callback via 'callbacks' argument instead.\n",
            "  _log_warning(\"'verbose_eval' argument is deprecated and will be removed in a future release of LightGBM. \"\n",
            "/usr/local/lib/python3.9/dist-packages/lightgbm/basic.py:1780: UserWarning: Overriding the parameters from Reference Dataset.\n",
            "  _log_warning('Overriding the parameters from Reference Dataset.')\n",
            "/usr/local/lib/python3.9/dist-packages/lightgbm/basic.py:1513: UserWarning: categorical_column in param dict is overridden.\n",
            "  _log_warning(f'{cat_alias} in param dict is overridden.')\n",
            "\u001b[32m[I 2023-03-20 00:03:22,835]\u001b[0m Trial 61 pruned. Trial was pruned at iteration 10.\u001b[0m\n"
          ]
        },
        {
          "output_type": "stream",
          "name": "stdout",
          "text": [
            "Trial 61 pruned. Trial was pruned at iteration 10.\n"
          ]
        },
        {
          "output_type": "stream",
          "name": "stderr",
          "text": [
            "/usr/local/lib/python3.9/dist-packages/lightgbm/engine.py:239: UserWarning: 'verbose_eval' argument is deprecated and will be removed in a future release of LightGBM. Pass 'log_evaluation()' callback via 'callbacks' argument instead.\n",
            "  _log_warning(\"'verbose_eval' argument is deprecated and will be removed in a future release of LightGBM. \"\n",
            "/usr/local/lib/python3.9/dist-packages/lightgbm/basic.py:1780: UserWarning: Overriding the parameters from Reference Dataset.\n",
            "  _log_warning('Overriding the parameters from Reference Dataset.')\n",
            "/usr/local/lib/python3.9/dist-packages/lightgbm/basic.py:1513: UserWarning: categorical_column in param dict is overridden.\n",
            "  _log_warning(f'{cat_alias} in param dict is overridden.')\n",
            "\u001b[32m[I 2023-03-20 00:03:22,924]\u001b[0m Trial 62 pruned. Trial was pruned at iteration 10.\u001b[0m\n"
          ]
        },
        {
          "output_type": "stream",
          "name": "stdout",
          "text": [
            "Trial 62 pruned. Trial was pruned at iteration 10.\n"
          ]
        },
        {
          "output_type": "stream",
          "name": "stderr",
          "text": [
            "/usr/local/lib/python3.9/dist-packages/lightgbm/engine.py:239: UserWarning: 'verbose_eval' argument is deprecated and will be removed in a future release of LightGBM. Pass 'log_evaluation()' callback via 'callbacks' argument instead.\n",
            "  _log_warning(\"'verbose_eval' argument is deprecated and will be removed in a future release of LightGBM. \"\n",
            "/usr/local/lib/python3.9/dist-packages/lightgbm/basic.py:1780: UserWarning: Overriding the parameters from Reference Dataset.\n",
            "  _log_warning('Overriding the parameters from Reference Dataset.')\n",
            "/usr/local/lib/python3.9/dist-packages/lightgbm/basic.py:1513: UserWarning: categorical_column in param dict is overridden.\n",
            "  _log_warning(f'{cat_alias} in param dict is overridden.')\n",
            "\u001b[32m[I 2023-03-20 00:03:23,004]\u001b[0m Trial 63 pruned. Trial was pruned at iteration 10.\u001b[0m\n"
          ]
        },
        {
          "output_type": "stream",
          "name": "stdout",
          "text": [
            "Trial 63 pruned. Trial was pruned at iteration 10.\n"
          ]
        },
        {
          "output_type": "stream",
          "name": "stderr",
          "text": [
            "/usr/local/lib/python3.9/dist-packages/lightgbm/engine.py:239: UserWarning: 'verbose_eval' argument is deprecated and will be removed in a future release of LightGBM. Pass 'log_evaluation()' callback via 'callbacks' argument instead.\n",
            "  _log_warning(\"'verbose_eval' argument is deprecated and will be removed in a future release of LightGBM. \"\n",
            "/usr/local/lib/python3.9/dist-packages/lightgbm/basic.py:1780: UserWarning: Overriding the parameters from Reference Dataset.\n",
            "  _log_warning('Overriding the parameters from Reference Dataset.')\n",
            "/usr/local/lib/python3.9/dist-packages/lightgbm/basic.py:1513: UserWarning: categorical_column in param dict is overridden.\n",
            "  _log_warning(f'{cat_alias} in param dict is overridden.')\n",
            "\u001b[32m[I 2023-03-20 00:03:23,363]\u001b[0m Trial 64 finished with value: 0.7979294478527608 and parameters: {'bagging_fraction': 0.7749203964834794, 'bagging_freq': 4, 'min_child_samples': 37}. Best is trial 4 with value: 0.8025306748466258.\u001b[0m\n"
          ]
        },
        {
          "output_type": "stream",
          "name": "stdout",
          "text": [
            "Trial 64 finished with value: 0.7979294478527608 and parameters: {'bagging_fraction': 0.7749203964834794, 'bagging_freq': 4, 'min_child_samples': 37}. Best is trial 4 with value: 0.8025306748466258.\n"
          ]
        },
        {
          "output_type": "stream",
          "name": "stderr",
          "text": [
            "/usr/local/lib/python3.9/dist-packages/lightgbm/engine.py:239: UserWarning: 'verbose_eval' argument is deprecated and will be removed in a future release of LightGBM. Pass 'log_evaluation()' callback via 'callbacks' argument instead.\n",
            "  _log_warning(\"'verbose_eval' argument is deprecated and will be removed in a future release of LightGBM. \"\n",
            "/usr/local/lib/python3.9/dist-packages/lightgbm/basic.py:1780: UserWarning: Overriding the parameters from Reference Dataset.\n",
            "  _log_warning('Overriding the parameters from Reference Dataset.')\n",
            "/usr/local/lib/python3.9/dist-packages/lightgbm/basic.py:1513: UserWarning: categorical_column in param dict is overridden.\n",
            "  _log_warning(f'{cat_alias} in param dict is overridden.')\n",
            "\u001b[32m[I 2023-03-20 00:03:23,442]\u001b[0m Trial 65 pruned. Trial was pruned at iteration 10.\u001b[0m\n"
          ]
        },
        {
          "output_type": "stream",
          "name": "stdout",
          "text": [
            "Trial 65 pruned. Trial was pruned at iteration 10.\n"
          ]
        },
        {
          "output_type": "stream",
          "name": "stderr",
          "text": [
            "/usr/local/lib/python3.9/dist-packages/lightgbm/engine.py:239: UserWarning: 'verbose_eval' argument is deprecated and will be removed in a future release of LightGBM. Pass 'log_evaluation()' callback via 'callbacks' argument instead.\n",
            "  _log_warning(\"'verbose_eval' argument is deprecated and will be removed in a future release of LightGBM. \"\n",
            "/usr/local/lib/python3.9/dist-packages/lightgbm/basic.py:1780: UserWarning: Overriding the parameters from Reference Dataset.\n",
            "  _log_warning('Overriding the parameters from Reference Dataset.')\n",
            "/usr/local/lib/python3.9/dist-packages/lightgbm/basic.py:1513: UserWarning: categorical_column in param dict is overridden.\n",
            "  _log_warning(f'{cat_alias} in param dict is overridden.')\n",
            "\u001b[32m[I 2023-03-20 00:03:23,515]\u001b[0m Trial 66 pruned. Trial was pruned at iteration 10.\u001b[0m\n"
          ]
        },
        {
          "output_type": "stream",
          "name": "stdout",
          "text": [
            "Trial 66 pruned. Trial was pruned at iteration 10.\n"
          ]
        },
        {
          "output_type": "stream",
          "name": "stderr",
          "text": [
            "/usr/local/lib/python3.9/dist-packages/lightgbm/engine.py:239: UserWarning: 'verbose_eval' argument is deprecated and will be removed in a future release of LightGBM. Pass 'log_evaluation()' callback via 'callbacks' argument instead.\n",
            "  _log_warning(\"'verbose_eval' argument is deprecated and will be removed in a future release of LightGBM. \"\n",
            "/usr/local/lib/python3.9/dist-packages/lightgbm/basic.py:1780: UserWarning: Overriding the parameters from Reference Dataset.\n",
            "  _log_warning('Overriding the parameters from Reference Dataset.')\n",
            "/usr/local/lib/python3.9/dist-packages/lightgbm/basic.py:1513: UserWarning: categorical_column in param dict is overridden.\n",
            "  _log_warning(f'{cat_alias} in param dict is overridden.')\n",
            "\u001b[32m[I 2023-03-20 00:03:23,638]\u001b[0m Trial 67 pruned. Trial was pruned at iteration 25.\u001b[0m\n"
          ]
        },
        {
          "output_type": "stream",
          "name": "stdout",
          "text": [
            "Trial 67 pruned. Trial was pruned at iteration 25.\n"
          ]
        },
        {
          "output_type": "stream",
          "name": "stderr",
          "text": [
            "/usr/local/lib/python3.9/dist-packages/lightgbm/engine.py:239: UserWarning: 'verbose_eval' argument is deprecated and will be removed in a future release of LightGBM. Pass 'log_evaluation()' callback via 'callbacks' argument instead.\n",
            "  _log_warning(\"'verbose_eval' argument is deprecated and will be removed in a future release of LightGBM. \"\n",
            "/usr/local/lib/python3.9/dist-packages/lightgbm/basic.py:1780: UserWarning: Overriding the parameters from Reference Dataset.\n",
            "  _log_warning('Overriding the parameters from Reference Dataset.')\n",
            "/usr/local/lib/python3.9/dist-packages/lightgbm/basic.py:1513: UserWarning: categorical_column in param dict is overridden.\n",
            "  _log_warning(f'{cat_alias} in param dict is overridden.')\n",
            "\u001b[32m[I 2023-03-20 00:03:23,735]\u001b[0m Trial 68 pruned. Trial was pruned at iteration 19.\u001b[0m\n"
          ]
        },
        {
          "output_type": "stream",
          "name": "stdout",
          "text": [
            "Trial 68 pruned. Trial was pruned at iteration 19.\n"
          ]
        },
        {
          "output_type": "stream",
          "name": "stderr",
          "text": [
            "/usr/local/lib/python3.9/dist-packages/lightgbm/engine.py:239: UserWarning: 'verbose_eval' argument is deprecated and will be removed in a future release of LightGBM. Pass 'log_evaluation()' callback via 'callbacks' argument instead.\n",
            "  _log_warning(\"'verbose_eval' argument is deprecated and will be removed in a future release of LightGBM. \"\n",
            "/usr/local/lib/python3.9/dist-packages/lightgbm/basic.py:1780: UserWarning: Overriding the parameters from Reference Dataset.\n",
            "  _log_warning('Overriding the parameters from Reference Dataset.')\n",
            "/usr/local/lib/python3.9/dist-packages/lightgbm/basic.py:1513: UserWarning: categorical_column in param dict is overridden.\n",
            "  _log_warning(f'{cat_alias} in param dict is overridden.')\n",
            "\u001b[32m[I 2023-03-20 00:03:23,829]\u001b[0m Trial 69 pruned. Trial was pruned at iteration 10.\u001b[0m\n"
          ]
        },
        {
          "output_type": "stream",
          "name": "stdout",
          "text": [
            "Trial 69 pruned. Trial was pruned at iteration 10.\n"
          ]
        },
        {
          "output_type": "stream",
          "name": "stderr",
          "text": [
            "/usr/local/lib/python3.9/dist-packages/lightgbm/engine.py:239: UserWarning: 'verbose_eval' argument is deprecated and will be removed in a future release of LightGBM. Pass 'log_evaluation()' callback via 'callbacks' argument instead.\n",
            "  _log_warning(\"'verbose_eval' argument is deprecated and will be removed in a future release of LightGBM. \"\n",
            "/usr/local/lib/python3.9/dist-packages/lightgbm/basic.py:1780: UserWarning: Overriding the parameters from Reference Dataset.\n",
            "  _log_warning('Overriding the parameters from Reference Dataset.')\n",
            "/usr/local/lib/python3.9/dist-packages/lightgbm/basic.py:1513: UserWarning: categorical_column in param dict is overridden.\n",
            "  _log_warning(f'{cat_alias} in param dict is overridden.')\n",
            "\u001b[32m[I 2023-03-20 00:03:23,914]\u001b[0m Trial 70 pruned. Trial was pruned at iteration 10.\u001b[0m\n"
          ]
        },
        {
          "output_type": "stream",
          "name": "stdout",
          "text": [
            "Trial 70 pruned. Trial was pruned at iteration 10.\n"
          ]
        },
        {
          "output_type": "stream",
          "name": "stderr",
          "text": [
            "/usr/local/lib/python3.9/dist-packages/lightgbm/engine.py:239: UserWarning: 'verbose_eval' argument is deprecated and will be removed in a future release of LightGBM. Pass 'log_evaluation()' callback via 'callbacks' argument instead.\n",
            "  _log_warning(\"'verbose_eval' argument is deprecated and will be removed in a future release of LightGBM. \"\n",
            "/usr/local/lib/python3.9/dist-packages/lightgbm/basic.py:1780: UserWarning: Overriding the parameters from Reference Dataset.\n",
            "  _log_warning('Overriding the parameters from Reference Dataset.')\n",
            "/usr/local/lib/python3.9/dist-packages/lightgbm/basic.py:1513: UserWarning: categorical_column in param dict is overridden.\n",
            "  _log_warning(f'{cat_alias} in param dict is overridden.')\n",
            "\u001b[32m[I 2023-03-20 00:03:24,003]\u001b[0m Trial 71 pruned. Trial was pruned at iteration 10.\u001b[0m\n"
          ]
        },
        {
          "output_type": "stream",
          "name": "stdout",
          "text": [
            "Trial 71 pruned. Trial was pruned at iteration 10.\n"
          ]
        },
        {
          "output_type": "stream",
          "name": "stderr",
          "text": [
            "/usr/local/lib/python3.9/dist-packages/lightgbm/engine.py:239: UserWarning: 'verbose_eval' argument is deprecated and will be removed in a future release of LightGBM. Pass 'log_evaluation()' callback via 'callbacks' argument instead.\n",
            "  _log_warning(\"'verbose_eval' argument is deprecated and will be removed in a future release of LightGBM. \"\n",
            "/usr/local/lib/python3.9/dist-packages/lightgbm/basic.py:1780: UserWarning: Overriding the parameters from Reference Dataset.\n",
            "  _log_warning('Overriding the parameters from Reference Dataset.')\n",
            "/usr/local/lib/python3.9/dist-packages/lightgbm/basic.py:1513: UserWarning: categorical_column in param dict is overridden.\n",
            "  _log_warning(f'{cat_alias} in param dict is overridden.')\n",
            "\u001b[32m[I 2023-03-20 00:03:24,091]\u001b[0m Trial 72 pruned. Trial was pruned at iteration 10.\u001b[0m\n"
          ]
        },
        {
          "output_type": "stream",
          "name": "stdout",
          "text": [
            "Trial 72 pruned. Trial was pruned at iteration 10.\n"
          ]
        },
        {
          "output_type": "stream",
          "name": "stderr",
          "text": [
            "/usr/local/lib/python3.9/dist-packages/lightgbm/engine.py:239: UserWarning: 'verbose_eval' argument is deprecated and will be removed in a future release of LightGBM. Pass 'log_evaluation()' callback via 'callbacks' argument instead.\n",
            "  _log_warning(\"'verbose_eval' argument is deprecated and will be removed in a future release of LightGBM. \"\n",
            "/usr/local/lib/python3.9/dist-packages/lightgbm/basic.py:1780: UserWarning: Overriding the parameters from Reference Dataset.\n",
            "  _log_warning('Overriding the parameters from Reference Dataset.')\n",
            "/usr/local/lib/python3.9/dist-packages/lightgbm/basic.py:1513: UserWarning: categorical_column in param dict is overridden.\n",
            "  _log_warning(f'{cat_alias} in param dict is overridden.')\n",
            "\u001b[32m[I 2023-03-20 00:03:24,166]\u001b[0m Trial 73 pruned. Trial was pruned at iteration 10.\u001b[0m\n"
          ]
        },
        {
          "output_type": "stream",
          "name": "stdout",
          "text": [
            "Trial 73 pruned. Trial was pruned at iteration 10.\n"
          ]
        },
        {
          "output_type": "stream",
          "name": "stderr",
          "text": [
            "/usr/local/lib/python3.9/dist-packages/lightgbm/engine.py:239: UserWarning: 'verbose_eval' argument is deprecated and will be removed in a future release of LightGBM. Pass 'log_evaluation()' callback via 'callbacks' argument instead.\n",
            "  _log_warning(\"'verbose_eval' argument is deprecated and will be removed in a future release of LightGBM. \"\n",
            "/usr/local/lib/python3.9/dist-packages/lightgbm/basic.py:1780: UserWarning: Overriding the parameters from Reference Dataset.\n",
            "  _log_warning('Overriding the parameters from Reference Dataset.')\n",
            "/usr/local/lib/python3.9/dist-packages/lightgbm/basic.py:1513: UserWarning: categorical_column in param dict is overridden.\n",
            "  _log_warning(f'{cat_alias} in param dict is overridden.')\n",
            "\u001b[32m[I 2023-03-20 00:03:24,259]\u001b[0m Trial 74 pruned. Trial was pruned at iteration 12.\u001b[0m\n"
          ]
        },
        {
          "output_type": "stream",
          "name": "stdout",
          "text": [
            "Trial 74 pruned. Trial was pruned at iteration 12.\n"
          ]
        },
        {
          "output_type": "stream",
          "name": "stderr",
          "text": [
            "/usr/local/lib/python3.9/dist-packages/lightgbm/engine.py:239: UserWarning: 'verbose_eval' argument is deprecated and will be removed in a future release of LightGBM. Pass 'log_evaluation()' callback via 'callbacks' argument instead.\n",
            "  _log_warning(\"'verbose_eval' argument is deprecated and will be removed in a future release of LightGBM. \"\n",
            "/usr/local/lib/python3.9/dist-packages/lightgbm/basic.py:1780: UserWarning: Overriding the parameters from Reference Dataset.\n",
            "  _log_warning('Overriding the parameters from Reference Dataset.')\n",
            "/usr/local/lib/python3.9/dist-packages/lightgbm/basic.py:1513: UserWarning: categorical_column in param dict is overridden.\n",
            "  _log_warning(f'{cat_alias} in param dict is overridden.')\n",
            "\u001b[32m[I 2023-03-20 00:03:24,357]\u001b[0m Trial 75 pruned. Trial was pruned at iteration 11.\u001b[0m\n"
          ]
        },
        {
          "output_type": "stream",
          "name": "stdout",
          "text": [
            "Trial 75 pruned. Trial was pruned at iteration 11.\n"
          ]
        },
        {
          "output_type": "stream",
          "name": "stderr",
          "text": [
            "/usr/local/lib/python3.9/dist-packages/lightgbm/engine.py:239: UserWarning: 'verbose_eval' argument is deprecated and will be removed in a future release of LightGBM. Pass 'log_evaluation()' callback via 'callbacks' argument instead.\n",
            "  _log_warning(\"'verbose_eval' argument is deprecated and will be removed in a future release of LightGBM. \"\n",
            "/usr/local/lib/python3.9/dist-packages/lightgbm/basic.py:1780: UserWarning: Overriding the parameters from Reference Dataset.\n",
            "  _log_warning('Overriding the parameters from Reference Dataset.')\n",
            "/usr/local/lib/python3.9/dist-packages/lightgbm/basic.py:1513: UserWarning: categorical_column in param dict is overridden.\n",
            "  _log_warning(f'{cat_alias} in param dict is overridden.')\n",
            "\u001b[32m[I 2023-03-20 00:03:24,443]\u001b[0m Trial 76 pruned. Trial was pruned at iteration 11.\u001b[0m\n"
          ]
        },
        {
          "output_type": "stream",
          "name": "stdout",
          "text": [
            "Trial 76 pruned. Trial was pruned at iteration 11.\n"
          ]
        },
        {
          "output_type": "stream",
          "name": "stderr",
          "text": [
            "/usr/local/lib/python3.9/dist-packages/lightgbm/engine.py:239: UserWarning: 'verbose_eval' argument is deprecated and will be removed in a future release of LightGBM. Pass 'log_evaluation()' callback via 'callbacks' argument instead.\n",
            "  _log_warning(\"'verbose_eval' argument is deprecated and will be removed in a future release of LightGBM. \"\n",
            "/usr/local/lib/python3.9/dist-packages/lightgbm/basic.py:1780: UserWarning: Overriding the parameters from Reference Dataset.\n",
            "  _log_warning('Overriding the parameters from Reference Dataset.')\n",
            "/usr/local/lib/python3.9/dist-packages/lightgbm/basic.py:1513: UserWarning: categorical_column in param dict is overridden.\n",
            "  _log_warning(f'{cat_alias} in param dict is overridden.')\n",
            "\u001b[32m[I 2023-03-20 00:03:24,566]\u001b[0m Trial 77 pruned. Trial was pruned at iteration 19.\u001b[0m\n"
          ]
        },
        {
          "output_type": "stream",
          "name": "stdout",
          "text": [
            "Trial 77 pruned. Trial was pruned at iteration 19.\n"
          ]
        },
        {
          "output_type": "stream",
          "name": "stderr",
          "text": [
            "/usr/local/lib/python3.9/dist-packages/lightgbm/engine.py:239: UserWarning: 'verbose_eval' argument is deprecated and will be removed in a future release of LightGBM. Pass 'log_evaluation()' callback via 'callbacks' argument instead.\n",
            "  _log_warning(\"'verbose_eval' argument is deprecated and will be removed in a future release of LightGBM. \"\n",
            "/usr/local/lib/python3.9/dist-packages/lightgbm/basic.py:1780: UserWarning: Overriding the parameters from Reference Dataset.\n",
            "  _log_warning('Overriding the parameters from Reference Dataset.')\n",
            "/usr/local/lib/python3.9/dist-packages/lightgbm/basic.py:1513: UserWarning: categorical_column in param dict is overridden.\n",
            "  _log_warning(f'{cat_alias} in param dict is overridden.')\n",
            "\u001b[32m[I 2023-03-20 00:03:24,652]\u001b[0m Trial 78 pruned. Trial was pruned at iteration 10.\u001b[0m\n"
          ]
        },
        {
          "output_type": "stream",
          "name": "stdout",
          "text": [
            "Trial 78 pruned. Trial was pruned at iteration 10.\n"
          ]
        },
        {
          "output_type": "stream",
          "name": "stderr",
          "text": [
            "/usr/local/lib/python3.9/dist-packages/lightgbm/engine.py:239: UserWarning: 'verbose_eval' argument is deprecated and will be removed in a future release of LightGBM. Pass 'log_evaluation()' callback via 'callbacks' argument instead.\n",
            "  _log_warning(\"'verbose_eval' argument is deprecated and will be removed in a future release of LightGBM. \"\n",
            "/usr/local/lib/python3.9/dist-packages/lightgbm/basic.py:1780: UserWarning: Overriding the parameters from Reference Dataset.\n",
            "  _log_warning('Overriding the parameters from Reference Dataset.')\n",
            "/usr/local/lib/python3.9/dist-packages/lightgbm/basic.py:1513: UserWarning: categorical_column in param dict is overridden.\n",
            "  _log_warning(f'{cat_alias} in param dict is overridden.')\n",
            "\u001b[32m[I 2023-03-20 00:03:25,076]\u001b[0m Trial 79 finished with value: 0.7975460122699386 and parameters: {'bagging_fraction': 0.8280528990713234, 'bagging_freq': 3, 'min_child_samples': 46}. Best is trial 4 with value: 0.8025306748466258.\u001b[0m\n"
          ]
        },
        {
          "output_type": "stream",
          "name": "stdout",
          "text": [
            "Trial 79 finished with value: 0.7975460122699386 and parameters: {'bagging_fraction': 0.8280528990713234, 'bagging_freq': 3, 'min_child_samples': 46}. Best is trial 4 with value: 0.8025306748466258.\n"
          ]
        },
        {
          "output_type": "stream",
          "name": "stderr",
          "text": [
            "/usr/local/lib/python3.9/dist-packages/lightgbm/engine.py:239: UserWarning: 'verbose_eval' argument is deprecated and will be removed in a future release of LightGBM. Pass 'log_evaluation()' callback via 'callbacks' argument instead.\n",
            "  _log_warning(\"'verbose_eval' argument is deprecated and will be removed in a future release of LightGBM. \"\n",
            "/usr/local/lib/python3.9/dist-packages/lightgbm/basic.py:1780: UserWarning: Overriding the parameters from Reference Dataset.\n",
            "  _log_warning('Overriding the parameters from Reference Dataset.')\n",
            "/usr/local/lib/python3.9/dist-packages/lightgbm/basic.py:1513: UserWarning: categorical_column in param dict is overridden.\n",
            "  _log_warning(f'{cat_alias} in param dict is overridden.')\n",
            "\u001b[32m[I 2023-03-20 00:03:25,150]\u001b[0m Trial 80 pruned. Trial was pruned at iteration 10.\u001b[0m\n"
          ]
        },
        {
          "output_type": "stream",
          "name": "stdout",
          "text": [
            "Trial 80 pruned. Trial was pruned at iteration 10.\n"
          ]
        },
        {
          "output_type": "stream",
          "name": "stderr",
          "text": [
            "/usr/local/lib/python3.9/dist-packages/lightgbm/engine.py:239: UserWarning: 'verbose_eval' argument is deprecated and will be removed in a future release of LightGBM. Pass 'log_evaluation()' callback via 'callbacks' argument instead.\n",
            "  _log_warning(\"'verbose_eval' argument is deprecated and will be removed in a future release of LightGBM. \"\n",
            "/usr/local/lib/python3.9/dist-packages/lightgbm/basic.py:1780: UserWarning: Overriding the parameters from Reference Dataset.\n",
            "  _log_warning('Overriding the parameters from Reference Dataset.')\n",
            "/usr/local/lib/python3.9/dist-packages/lightgbm/basic.py:1513: UserWarning: categorical_column in param dict is overridden.\n",
            "  _log_warning(f'{cat_alias} in param dict is overridden.')\n",
            "\u001b[32m[I 2023-03-20 00:03:25,228]\u001b[0m Trial 81 pruned. Trial was pruned at iteration 11.\u001b[0m\n"
          ]
        },
        {
          "output_type": "stream",
          "name": "stdout",
          "text": [
            "Trial 81 pruned. Trial was pruned at iteration 11.\n"
          ]
        },
        {
          "output_type": "stream",
          "name": "stderr",
          "text": [
            "/usr/local/lib/python3.9/dist-packages/lightgbm/engine.py:239: UserWarning: 'verbose_eval' argument is deprecated and will be removed in a future release of LightGBM. Pass 'log_evaluation()' callback via 'callbacks' argument instead.\n",
            "  _log_warning(\"'verbose_eval' argument is deprecated and will be removed in a future release of LightGBM. \"\n",
            "/usr/local/lib/python3.9/dist-packages/lightgbm/basic.py:1780: UserWarning: Overriding the parameters from Reference Dataset.\n",
            "  _log_warning('Overriding the parameters from Reference Dataset.')\n",
            "/usr/local/lib/python3.9/dist-packages/lightgbm/basic.py:1513: UserWarning: categorical_column in param dict is overridden.\n",
            "  _log_warning(f'{cat_alias} in param dict is overridden.')\n",
            "\u001b[32m[I 2023-03-20 00:03:25,330]\u001b[0m Trial 82 pruned. Trial was pruned at iteration 11.\u001b[0m\n"
          ]
        },
        {
          "output_type": "stream",
          "name": "stdout",
          "text": [
            "Trial 82 pruned. Trial was pruned at iteration 11.\n"
          ]
        },
        {
          "output_type": "stream",
          "name": "stderr",
          "text": [
            "/usr/local/lib/python3.9/dist-packages/lightgbm/engine.py:239: UserWarning: 'verbose_eval' argument is deprecated and will be removed in a future release of LightGBM. Pass 'log_evaluation()' callback via 'callbacks' argument instead.\n",
            "  _log_warning(\"'verbose_eval' argument is deprecated and will be removed in a future release of LightGBM. \"\n",
            "/usr/local/lib/python3.9/dist-packages/lightgbm/basic.py:1780: UserWarning: Overriding the parameters from Reference Dataset.\n",
            "  _log_warning('Overriding the parameters from Reference Dataset.')\n",
            "/usr/local/lib/python3.9/dist-packages/lightgbm/basic.py:1513: UserWarning: categorical_column in param dict is overridden.\n",
            "  _log_warning(f'{cat_alias} in param dict is overridden.')\n",
            "\u001b[32m[I 2023-03-20 00:03:25,410]\u001b[0m Trial 83 pruned. Trial was pruned at iteration 11.\u001b[0m\n"
          ]
        },
        {
          "output_type": "stream",
          "name": "stdout",
          "text": [
            "Trial 83 pruned. Trial was pruned at iteration 11.\n"
          ]
        },
        {
          "output_type": "stream",
          "name": "stderr",
          "text": [
            "/usr/local/lib/python3.9/dist-packages/lightgbm/engine.py:239: UserWarning: 'verbose_eval' argument is deprecated and will be removed in a future release of LightGBM. Pass 'log_evaluation()' callback via 'callbacks' argument instead.\n",
            "  _log_warning(\"'verbose_eval' argument is deprecated and will be removed in a future release of LightGBM. \"\n",
            "/usr/local/lib/python3.9/dist-packages/lightgbm/basic.py:1780: UserWarning: Overriding the parameters from Reference Dataset.\n",
            "  _log_warning('Overriding the parameters from Reference Dataset.')\n",
            "/usr/local/lib/python3.9/dist-packages/lightgbm/basic.py:1513: UserWarning: categorical_column in param dict is overridden.\n",
            "  _log_warning(f'{cat_alias} in param dict is overridden.')\n",
            "\u001b[32m[I 2023-03-20 00:03:25,493]\u001b[0m Trial 84 pruned. Trial was pruned at iteration 10.\u001b[0m\n"
          ]
        },
        {
          "output_type": "stream",
          "name": "stdout",
          "text": [
            "Trial 84 pruned. Trial was pruned at iteration 10.\n"
          ]
        },
        {
          "output_type": "stream",
          "name": "stderr",
          "text": [
            "/usr/local/lib/python3.9/dist-packages/lightgbm/engine.py:239: UserWarning: 'verbose_eval' argument is deprecated and will be removed in a future release of LightGBM. Pass 'log_evaluation()' callback via 'callbacks' argument instead.\n",
            "  _log_warning(\"'verbose_eval' argument is deprecated and will be removed in a future release of LightGBM. \"\n",
            "/usr/local/lib/python3.9/dist-packages/lightgbm/basic.py:1780: UserWarning: Overriding the parameters from Reference Dataset.\n",
            "  _log_warning('Overriding the parameters from Reference Dataset.')\n",
            "/usr/local/lib/python3.9/dist-packages/lightgbm/basic.py:1513: UserWarning: categorical_column in param dict is overridden.\n",
            "  _log_warning(f'{cat_alias} in param dict is overridden.')\n",
            "\u001b[32m[I 2023-03-20 00:03:25,577]\u001b[0m Trial 85 pruned. Trial was pruned at iteration 10.\u001b[0m\n"
          ]
        },
        {
          "output_type": "stream",
          "name": "stdout",
          "text": [
            "Trial 85 pruned. Trial was pruned at iteration 10.\n"
          ]
        },
        {
          "output_type": "stream",
          "name": "stderr",
          "text": [
            "/usr/local/lib/python3.9/dist-packages/lightgbm/engine.py:239: UserWarning: 'verbose_eval' argument is deprecated and will be removed in a future release of LightGBM. Pass 'log_evaluation()' callback via 'callbacks' argument instead.\n",
            "  _log_warning(\"'verbose_eval' argument is deprecated and will be removed in a future release of LightGBM. \"\n",
            "/usr/local/lib/python3.9/dist-packages/lightgbm/basic.py:1780: UserWarning: Overriding the parameters from Reference Dataset.\n",
            "  _log_warning('Overriding the parameters from Reference Dataset.')\n",
            "/usr/local/lib/python3.9/dist-packages/lightgbm/basic.py:1513: UserWarning: categorical_column in param dict is overridden.\n",
            "  _log_warning(f'{cat_alias} in param dict is overridden.')\n",
            "\u001b[32m[I 2023-03-20 00:03:25,657]\u001b[0m Trial 86 pruned. Trial was pruned at iteration 11.\u001b[0m\n"
          ]
        },
        {
          "output_type": "stream",
          "name": "stdout",
          "text": [
            "Trial 86 pruned. Trial was pruned at iteration 11.\n"
          ]
        },
        {
          "output_type": "stream",
          "name": "stderr",
          "text": [
            "/usr/local/lib/python3.9/dist-packages/lightgbm/engine.py:239: UserWarning: 'verbose_eval' argument is deprecated and will be removed in a future release of LightGBM. Pass 'log_evaluation()' callback via 'callbacks' argument instead.\n",
            "  _log_warning(\"'verbose_eval' argument is deprecated and will be removed in a future release of LightGBM. \"\n",
            "/usr/local/lib/python3.9/dist-packages/lightgbm/basic.py:1780: UserWarning: Overriding the parameters from Reference Dataset.\n",
            "  _log_warning('Overriding the parameters from Reference Dataset.')\n",
            "/usr/local/lib/python3.9/dist-packages/lightgbm/basic.py:1513: UserWarning: categorical_column in param dict is overridden.\n",
            "  _log_warning(f'{cat_alias} in param dict is overridden.')\n",
            "\u001b[32m[I 2023-03-20 00:03:25,749]\u001b[0m Trial 87 pruned. Trial was pruned at iteration 10.\u001b[0m\n"
          ]
        },
        {
          "output_type": "stream",
          "name": "stdout",
          "text": [
            "Trial 87 pruned. Trial was pruned at iteration 10.\n"
          ]
        },
        {
          "output_type": "stream",
          "name": "stderr",
          "text": [
            "/usr/local/lib/python3.9/dist-packages/lightgbm/engine.py:239: UserWarning: 'verbose_eval' argument is deprecated and will be removed in a future release of LightGBM. Pass 'log_evaluation()' callback via 'callbacks' argument instead.\n",
            "  _log_warning(\"'verbose_eval' argument is deprecated and will be removed in a future release of LightGBM. \"\n",
            "/usr/local/lib/python3.9/dist-packages/lightgbm/basic.py:1780: UserWarning: Overriding the parameters from Reference Dataset.\n",
            "  _log_warning('Overriding the parameters from Reference Dataset.')\n",
            "/usr/local/lib/python3.9/dist-packages/lightgbm/basic.py:1513: UserWarning: categorical_column in param dict is overridden.\n",
            "  _log_warning(f'{cat_alias} in param dict is overridden.')\n",
            "\u001b[32m[I 2023-03-20 00:03:25,840]\u001b[0m Trial 88 pruned. Trial was pruned at iteration 10.\u001b[0m\n"
          ]
        },
        {
          "output_type": "stream",
          "name": "stdout",
          "text": [
            "Trial 88 pruned. Trial was pruned at iteration 10.\n"
          ]
        },
        {
          "output_type": "stream",
          "name": "stderr",
          "text": [
            "/usr/local/lib/python3.9/dist-packages/lightgbm/engine.py:239: UserWarning: 'verbose_eval' argument is deprecated and will be removed in a future release of LightGBM. Pass 'log_evaluation()' callback via 'callbacks' argument instead.\n",
            "  _log_warning(\"'verbose_eval' argument is deprecated and will be removed in a future release of LightGBM. \"\n",
            "/usr/local/lib/python3.9/dist-packages/lightgbm/basic.py:1780: UserWarning: Overriding the parameters from Reference Dataset.\n",
            "  _log_warning('Overriding the parameters from Reference Dataset.')\n",
            "/usr/local/lib/python3.9/dist-packages/lightgbm/basic.py:1513: UserWarning: categorical_column in param dict is overridden.\n",
            "  _log_warning(f'{cat_alias} in param dict is overridden.')\n",
            "\u001b[32m[I 2023-03-20 00:03:25,932]\u001b[0m Trial 89 pruned. Trial was pruned at iteration 10.\u001b[0m\n"
          ]
        },
        {
          "output_type": "stream",
          "name": "stdout",
          "text": [
            "Trial 89 pruned. Trial was pruned at iteration 10.\n"
          ]
        },
        {
          "output_type": "stream",
          "name": "stderr",
          "text": [
            "/usr/local/lib/python3.9/dist-packages/lightgbm/engine.py:239: UserWarning: 'verbose_eval' argument is deprecated and will be removed in a future release of LightGBM. Pass 'log_evaluation()' callback via 'callbacks' argument instead.\n",
            "  _log_warning(\"'verbose_eval' argument is deprecated and will be removed in a future release of LightGBM. \"\n",
            "/usr/local/lib/python3.9/dist-packages/lightgbm/basic.py:1780: UserWarning: Overriding the parameters from Reference Dataset.\n",
            "  _log_warning('Overriding the parameters from Reference Dataset.')\n",
            "/usr/local/lib/python3.9/dist-packages/lightgbm/basic.py:1513: UserWarning: categorical_column in param dict is overridden.\n",
            "  _log_warning(f'{cat_alias} in param dict is overridden.')\n",
            "\u001b[32m[I 2023-03-20 00:03:26,013]\u001b[0m Trial 90 pruned. Trial was pruned at iteration 10.\u001b[0m\n"
          ]
        },
        {
          "output_type": "stream",
          "name": "stdout",
          "text": [
            "Trial 90 pruned. Trial was pruned at iteration 10.\n"
          ]
        },
        {
          "output_type": "stream",
          "name": "stderr",
          "text": [
            "/usr/local/lib/python3.9/dist-packages/lightgbm/engine.py:239: UserWarning: 'verbose_eval' argument is deprecated and will be removed in a future release of LightGBM. Pass 'log_evaluation()' callback via 'callbacks' argument instead.\n",
            "  _log_warning(\"'verbose_eval' argument is deprecated and will be removed in a future release of LightGBM. \"\n",
            "/usr/local/lib/python3.9/dist-packages/lightgbm/basic.py:1780: UserWarning: Overriding the parameters from Reference Dataset.\n",
            "  _log_warning('Overriding the parameters from Reference Dataset.')\n",
            "/usr/local/lib/python3.9/dist-packages/lightgbm/basic.py:1513: UserWarning: categorical_column in param dict is overridden.\n",
            "  _log_warning(f'{cat_alias} in param dict is overridden.')\n",
            "\u001b[32m[I 2023-03-20 00:03:26,403]\u001b[0m Trial 91 finished with value: 0.7983128834355828 and parameters: {'bagging_fraction': 0.840201881430071, 'bagging_freq': 2, 'min_child_samples': 53}. Best is trial 4 with value: 0.8025306748466258.\u001b[0m\n"
          ]
        },
        {
          "output_type": "stream",
          "name": "stdout",
          "text": [
            "Trial 91 finished with value: 0.7983128834355828 and parameters: {'bagging_fraction': 0.840201881430071, 'bagging_freq': 2, 'min_child_samples': 53}. Best is trial 4 with value: 0.8025306748466258.\n"
          ]
        },
        {
          "output_type": "stream",
          "name": "stderr",
          "text": [
            "/usr/local/lib/python3.9/dist-packages/lightgbm/engine.py:239: UserWarning: 'verbose_eval' argument is deprecated and will be removed in a future release of LightGBM. Pass 'log_evaluation()' callback via 'callbacks' argument instead.\n",
            "  _log_warning(\"'verbose_eval' argument is deprecated and will be removed in a future release of LightGBM. \"\n",
            "/usr/local/lib/python3.9/dist-packages/lightgbm/basic.py:1780: UserWarning: Overriding the parameters from Reference Dataset.\n",
            "  _log_warning('Overriding the parameters from Reference Dataset.')\n",
            "/usr/local/lib/python3.9/dist-packages/lightgbm/basic.py:1513: UserWarning: categorical_column in param dict is overridden.\n",
            "  _log_warning(f'{cat_alias} in param dict is overridden.')\n",
            "\u001b[32m[I 2023-03-20 00:03:26,480]\u001b[0m Trial 92 pruned. Trial was pruned at iteration 10.\u001b[0m\n"
          ]
        },
        {
          "output_type": "stream",
          "name": "stdout",
          "text": [
            "Trial 92 pruned. Trial was pruned at iteration 10.\n"
          ]
        },
        {
          "output_type": "stream",
          "name": "stderr",
          "text": [
            "/usr/local/lib/python3.9/dist-packages/lightgbm/engine.py:239: UserWarning: 'verbose_eval' argument is deprecated and will be removed in a future release of LightGBM. Pass 'log_evaluation()' callback via 'callbacks' argument instead.\n",
            "  _log_warning(\"'verbose_eval' argument is deprecated and will be removed in a future release of LightGBM. \"\n",
            "/usr/local/lib/python3.9/dist-packages/lightgbm/basic.py:1780: UserWarning: Overriding the parameters from Reference Dataset.\n",
            "  _log_warning('Overriding the parameters from Reference Dataset.')\n",
            "/usr/local/lib/python3.9/dist-packages/lightgbm/basic.py:1513: UserWarning: categorical_column in param dict is overridden.\n",
            "  _log_warning(f'{cat_alias} in param dict is overridden.')\n",
            "\u001b[32m[I 2023-03-20 00:03:26,581]\u001b[0m Trial 93 pruned. Trial was pruned at iteration 10.\u001b[0m\n"
          ]
        },
        {
          "output_type": "stream",
          "name": "stdout",
          "text": [
            "Trial 93 pruned. Trial was pruned at iteration 10.\n"
          ]
        },
        {
          "output_type": "stream",
          "name": "stderr",
          "text": [
            "/usr/local/lib/python3.9/dist-packages/lightgbm/engine.py:239: UserWarning: 'verbose_eval' argument is deprecated and will be removed in a future release of LightGBM. Pass 'log_evaluation()' callback via 'callbacks' argument instead.\n",
            "  _log_warning(\"'verbose_eval' argument is deprecated and will be removed in a future release of LightGBM. \"\n",
            "/usr/local/lib/python3.9/dist-packages/lightgbm/basic.py:1780: UserWarning: Overriding the parameters from Reference Dataset.\n",
            "  _log_warning('Overriding the parameters from Reference Dataset.')\n",
            "/usr/local/lib/python3.9/dist-packages/lightgbm/basic.py:1513: UserWarning: categorical_column in param dict is overridden.\n",
            "  _log_warning(f'{cat_alias} in param dict is overridden.')\n",
            "\u001b[32m[I 2023-03-20 00:03:26,668]\u001b[0m Trial 94 pruned. Trial was pruned at iteration 12.\u001b[0m\n"
          ]
        },
        {
          "output_type": "stream",
          "name": "stdout",
          "text": [
            "Trial 94 pruned. Trial was pruned at iteration 12.\n"
          ]
        },
        {
          "output_type": "stream",
          "name": "stderr",
          "text": [
            "/usr/local/lib/python3.9/dist-packages/lightgbm/engine.py:239: UserWarning: 'verbose_eval' argument is deprecated and will be removed in a future release of LightGBM. Pass 'log_evaluation()' callback via 'callbacks' argument instead.\n",
            "  _log_warning(\"'verbose_eval' argument is deprecated and will be removed in a future release of LightGBM. \"\n",
            "/usr/local/lib/python3.9/dist-packages/lightgbm/basic.py:1780: UserWarning: Overriding the parameters from Reference Dataset.\n",
            "  _log_warning('Overriding the parameters from Reference Dataset.')\n",
            "/usr/local/lib/python3.9/dist-packages/lightgbm/basic.py:1513: UserWarning: categorical_column in param dict is overridden.\n",
            "  _log_warning(f'{cat_alias} in param dict is overridden.')\n",
            "\u001b[32m[I 2023-03-20 00:03:26,752]\u001b[0m Trial 95 pruned. Trial was pruned at iteration 10.\u001b[0m\n"
          ]
        },
        {
          "output_type": "stream",
          "name": "stdout",
          "text": [
            "Trial 95 pruned. Trial was pruned at iteration 10.\n"
          ]
        },
        {
          "output_type": "stream",
          "name": "stderr",
          "text": [
            "/usr/local/lib/python3.9/dist-packages/lightgbm/engine.py:239: UserWarning: 'verbose_eval' argument is deprecated and will be removed in a future release of LightGBM. Pass 'log_evaluation()' callback via 'callbacks' argument instead.\n",
            "  _log_warning(\"'verbose_eval' argument is deprecated and will be removed in a future release of LightGBM. \"\n",
            "/usr/local/lib/python3.9/dist-packages/lightgbm/basic.py:1780: UserWarning: Overriding the parameters from Reference Dataset.\n",
            "  _log_warning('Overriding the parameters from Reference Dataset.')\n",
            "/usr/local/lib/python3.9/dist-packages/lightgbm/basic.py:1513: UserWarning: categorical_column in param dict is overridden.\n",
            "  _log_warning(f'{cat_alias} in param dict is overridden.')\n",
            "\u001b[32m[I 2023-03-20 00:03:26,844]\u001b[0m Trial 96 pruned. Trial was pruned at iteration 11.\u001b[0m\n"
          ]
        },
        {
          "output_type": "stream",
          "name": "stdout",
          "text": [
            "Trial 96 pruned. Trial was pruned at iteration 11.\n"
          ]
        },
        {
          "output_type": "stream",
          "name": "stderr",
          "text": [
            "/usr/local/lib/python3.9/dist-packages/lightgbm/engine.py:239: UserWarning: 'verbose_eval' argument is deprecated and will be removed in a future release of LightGBM. Pass 'log_evaluation()' callback via 'callbacks' argument instead.\n",
            "  _log_warning(\"'verbose_eval' argument is deprecated and will be removed in a future release of LightGBM. \"\n",
            "/usr/local/lib/python3.9/dist-packages/lightgbm/basic.py:1780: UserWarning: Overriding the parameters from Reference Dataset.\n",
            "  _log_warning('Overriding the parameters from Reference Dataset.')\n",
            "/usr/local/lib/python3.9/dist-packages/lightgbm/basic.py:1513: UserWarning: categorical_column in param dict is overridden.\n",
            "  _log_warning(f'{cat_alias} in param dict is overridden.')\n",
            "\u001b[32m[I 2023-03-20 00:03:26,940]\u001b[0m Trial 97 pruned. Trial was pruned at iteration 10.\u001b[0m\n"
          ]
        },
        {
          "output_type": "stream",
          "name": "stdout",
          "text": [
            "Trial 97 pruned. Trial was pruned at iteration 10.\n"
          ]
        },
        {
          "output_type": "stream",
          "name": "stderr",
          "text": [
            "/usr/local/lib/python3.9/dist-packages/lightgbm/engine.py:239: UserWarning: 'verbose_eval' argument is deprecated and will be removed in a future release of LightGBM. Pass 'log_evaluation()' callback via 'callbacks' argument instead.\n",
            "  _log_warning(\"'verbose_eval' argument is deprecated and will be removed in a future release of LightGBM. \"\n",
            "/usr/local/lib/python3.9/dist-packages/lightgbm/basic.py:1780: UserWarning: Overriding the parameters from Reference Dataset.\n",
            "  _log_warning('Overriding the parameters from Reference Dataset.')\n",
            "/usr/local/lib/python3.9/dist-packages/lightgbm/basic.py:1513: UserWarning: categorical_column in param dict is overridden.\n",
            "  _log_warning(f'{cat_alias} in param dict is overridden.')\n",
            "\u001b[32m[I 2023-03-20 00:03:27,028]\u001b[0m Trial 98 pruned. Trial was pruned at iteration 10.\u001b[0m\n"
          ]
        },
        {
          "output_type": "stream",
          "name": "stdout",
          "text": [
            "Trial 98 pruned. Trial was pruned at iteration 10.\n"
          ]
        },
        {
          "output_type": "stream",
          "name": "stderr",
          "text": [
            "/usr/local/lib/python3.9/dist-packages/lightgbm/engine.py:239: UserWarning: 'verbose_eval' argument is deprecated and will be removed in a future release of LightGBM. Pass 'log_evaluation()' callback via 'callbacks' argument instead.\n",
            "  _log_warning(\"'verbose_eval' argument is deprecated and will be removed in a future release of LightGBM. \"\n",
            "/usr/local/lib/python3.9/dist-packages/lightgbm/basic.py:1780: UserWarning: Overriding the parameters from Reference Dataset.\n",
            "  _log_warning('Overriding the parameters from Reference Dataset.')\n",
            "/usr/local/lib/python3.9/dist-packages/lightgbm/basic.py:1513: UserWarning: categorical_column in param dict is overridden.\n",
            "  _log_warning(f'{cat_alias} in param dict is overridden.')\n",
            "\u001b[32m[I 2023-03-20 00:03:27,118]\u001b[0m Trial 99 pruned. Trial was pruned at iteration 10.\u001b[0m\n"
          ]
        },
        {
          "output_type": "stream",
          "name": "stdout",
          "text": [
            "Trial 99 pruned. Trial was pruned at iteration 10.\n",
            "Return a dictionary of parameter name and parameter values:\n",
            " {'bagging_fraction': 0.457903950039216, 'bagging_freq': 3, 'min_child_samples': 66}\n",
            "Return the best observed value of the objective function:\n",
            " 0.8025306748466258\n"
          ]
        }
      ]
    },
    {
      "cell_type": "code",
      "source": [
        "# Visualize the optimization history. See :func:`~optuna.visualization.plot_optimization_history` for the details.\n",
        "plot_optimization_history(study)"
      ],
      "metadata": {
        "colab": {
          "base_uri": "https://localhost:8080/",
          "height": 542
        },
        "id": "JzfPLyjF_10a",
        "outputId": "346829ca-dc54-4895-f7db-91a6428b21a4"
      },
      "execution_count": null,
      "outputs": [
        {
          "output_type": "display_data",
          "data": {
            "text/html": [
              "<html>\n",
              "<head><meta charset=\"utf-8\" /></head>\n",
              "<body>\n",
              "    <div>            <script src=\"https://cdnjs.cloudflare.com/ajax/libs/mathjax/2.7.5/MathJax.js?config=TeX-AMS-MML_SVG\"></script><script type=\"text/javascript\">if (window.MathJax) {MathJax.Hub.Config({SVG: {font: \"STIX-Web\"}});}</script>                <script type=\"text/javascript\">window.PlotlyConfig = {MathJaxConfig: 'local'};</script>\n",
              "        <script src=\"https://cdn.plot.ly/plotly-2.8.3.min.js\"></script>                <div id=\"e24a0c5e-57a2-4a67-abc7-850e07a2e0ea\" class=\"plotly-graph-div\" style=\"height:525px; width:100%;\"></div>            <script type=\"text/javascript\">                                    window.PLOTLYENV=window.PLOTLYENV || {};                                    if (document.getElementById(\"e24a0c5e-57a2-4a67-abc7-850e07a2e0ea\")) {                    Plotly.newPlot(                        \"e24a0c5e-57a2-4a67-abc7-850e07a2e0ea\",                        [{\"mode\":\"markers\",\"name\":\"Objective Value\",\"x\":[0,1,2,3,4,8,22,23,28,42,53,64,79,91],\"y\":[0.7910276073619632,0.8002300613496932,0.7975460122699386,0.7917944785276073,0.8025306748466258,0.7998466257668712,0.7979294478527608,0.8017638036809815,0.799079754601227,0.7998466257668712,0.8009969325153374,0.7979294478527608,0.7975460122699386,0.7983128834355828],\"type\":\"scatter\"},{\"name\":\"Best Value\",\"x\":[0,1,2,3,4,8,22,23,28,42,53,64,79,91],\"y\":[0.7910276073619632,0.8002300613496932,0.8002300613496932,0.8002300613496932,0.8025306748466258,0.8025306748466258,0.8025306748466258,0.8025306748466258,0.8025306748466258,0.8025306748466258,0.8025306748466258,0.8025306748466258,0.8025306748466258,0.8025306748466258],\"type\":\"scatter\"}],                        {\"title\":{\"text\":\"Optimization History Plot\"},\"xaxis\":{\"title\":{\"text\":\"Trial\"}},\"yaxis\":{\"title\":{\"text\":\"Objective Value\"}},\"template\":{\"data\":{\"bar\":[{\"error_x\":{\"color\":\"#2a3f5f\"},\"error_y\":{\"color\":\"#2a3f5f\"},\"marker\":{\"line\":{\"color\":\"#E5ECF6\",\"width\":0.5},\"pattern\":{\"fillmode\":\"overlay\",\"size\":10,\"solidity\":0.2}},\"type\":\"bar\"}],\"barpolar\":[{\"marker\":{\"line\":{\"color\":\"#E5ECF6\",\"width\":0.5},\"pattern\":{\"fillmode\":\"overlay\",\"size\":10,\"solidity\":0.2}},\"type\":\"barpolar\"}],\"carpet\":[{\"aaxis\":{\"endlinecolor\":\"#2a3f5f\",\"gridcolor\":\"white\",\"linecolor\":\"white\",\"minorgridcolor\":\"white\",\"startlinecolor\":\"#2a3f5f\"},\"baxis\":{\"endlinecolor\":\"#2a3f5f\",\"gridcolor\":\"white\",\"linecolor\":\"white\",\"minorgridcolor\":\"white\",\"startlinecolor\":\"#2a3f5f\"},\"type\":\"carpet\"}],\"choropleth\":[{\"colorbar\":{\"outlinewidth\":0,\"ticks\":\"\"},\"type\":\"choropleth\"}],\"contour\":[{\"colorbar\":{\"outlinewidth\":0,\"ticks\":\"\"},\"colorscale\":[[0.0,\"#0d0887\"],[0.1111111111111111,\"#46039f\"],[0.2222222222222222,\"#7201a8\"],[0.3333333333333333,\"#9c179e\"],[0.4444444444444444,\"#bd3786\"],[0.5555555555555556,\"#d8576b\"],[0.6666666666666666,\"#ed7953\"],[0.7777777777777778,\"#fb9f3a\"],[0.8888888888888888,\"#fdca26\"],[1.0,\"#f0f921\"]],\"type\":\"contour\"}],\"contourcarpet\":[{\"colorbar\":{\"outlinewidth\":0,\"ticks\":\"\"},\"type\":\"contourcarpet\"}],\"heatmap\":[{\"colorbar\":{\"outlinewidth\":0,\"ticks\":\"\"},\"colorscale\":[[0.0,\"#0d0887\"],[0.1111111111111111,\"#46039f\"],[0.2222222222222222,\"#7201a8\"],[0.3333333333333333,\"#9c179e\"],[0.4444444444444444,\"#bd3786\"],[0.5555555555555556,\"#d8576b\"],[0.6666666666666666,\"#ed7953\"],[0.7777777777777778,\"#fb9f3a\"],[0.8888888888888888,\"#fdca26\"],[1.0,\"#f0f921\"]],\"type\":\"heatmap\"}],\"heatmapgl\":[{\"colorbar\":{\"outlinewidth\":0,\"ticks\":\"\"},\"colorscale\":[[0.0,\"#0d0887\"],[0.1111111111111111,\"#46039f\"],[0.2222222222222222,\"#7201a8\"],[0.3333333333333333,\"#9c179e\"],[0.4444444444444444,\"#bd3786\"],[0.5555555555555556,\"#d8576b\"],[0.6666666666666666,\"#ed7953\"],[0.7777777777777778,\"#fb9f3a\"],[0.8888888888888888,\"#fdca26\"],[1.0,\"#f0f921\"]],\"type\":\"heatmapgl\"}],\"histogram\":[{\"marker\":{\"pattern\":{\"fillmode\":\"overlay\",\"size\":10,\"solidity\":0.2}},\"type\":\"histogram\"}],\"histogram2d\":[{\"colorbar\":{\"outlinewidth\":0,\"ticks\":\"\"},\"colorscale\":[[0.0,\"#0d0887\"],[0.1111111111111111,\"#46039f\"],[0.2222222222222222,\"#7201a8\"],[0.3333333333333333,\"#9c179e\"],[0.4444444444444444,\"#bd3786\"],[0.5555555555555556,\"#d8576b\"],[0.6666666666666666,\"#ed7953\"],[0.7777777777777778,\"#fb9f3a\"],[0.8888888888888888,\"#fdca26\"],[1.0,\"#f0f921\"]],\"type\":\"histogram2d\"}],\"histogram2dcontour\":[{\"colorbar\":{\"outlinewidth\":0,\"ticks\":\"\"},\"colorscale\":[[0.0,\"#0d0887\"],[0.1111111111111111,\"#46039f\"],[0.2222222222222222,\"#7201a8\"],[0.3333333333333333,\"#9c179e\"],[0.4444444444444444,\"#bd3786\"],[0.5555555555555556,\"#d8576b\"],[0.6666666666666666,\"#ed7953\"],[0.7777777777777778,\"#fb9f3a\"],[0.8888888888888888,\"#fdca26\"],[1.0,\"#f0f921\"]],\"type\":\"histogram2dcontour\"}],\"mesh3d\":[{\"colorbar\":{\"outlinewidth\":0,\"ticks\":\"\"},\"type\":\"mesh3d\"}],\"parcoords\":[{\"line\":{\"colorbar\":{\"outlinewidth\":0,\"ticks\":\"\"}},\"type\":\"parcoords\"}],\"pie\":[{\"automargin\":true,\"type\":\"pie\"}],\"scatter\":[{\"marker\":{\"colorbar\":{\"outlinewidth\":0,\"ticks\":\"\"}},\"type\":\"scatter\"}],\"scatter3d\":[{\"line\":{\"colorbar\":{\"outlinewidth\":0,\"ticks\":\"\"}},\"marker\":{\"colorbar\":{\"outlinewidth\":0,\"ticks\":\"\"}},\"type\":\"scatter3d\"}],\"scattercarpet\":[{\"marker\":{\"colorbar\":{\"outlinewidth\":0,\"ticks\":\"\"}},\"type\":\"scattercarpet\"}],\"scattergeo\":[{\"marker\":{\"colorbar\":{\"outlinewidth\":0,\"ticks\":\"\"}},\"type\":\"scattergeo\"}],\"scattergl\":[{\"marker\":{\"colorbar\":{\"outlinewidth\":0,\"ticks\":\"\"}},\"type\":\"scattergl\"}],\"scattermapbox\":[{\"marker\":{\"colorbar\":{\"outlinewidth\":0,\"ticks\":\"\"}},\"type\":\"scattermapbox\"}],\"scatterpolar\":[{\"marker\":{\"colorbar\":{\"outlinewidth\":0,\"ticks\":\"\"}},\"type\":\"scatterpolar\"}],\"scatterpolargl\":[{\"marker\":{\"colorbar\":{\"outlinewidth\":0,\"ticks\":\"\"}},\"type\":\"scatterpolargl\"}],\"scatterternary\":[{\"marker\":{\"colorbar\":{\"outlinewidth\":0,\"ticks\":\"\"}},\"type\":\"scatterternary\"}],\"surface\":[{\"colorbar\":{\"outlinewidth\":0,\"ticks\":\"\"},\"colorscale\":[[0.0,\"#0d0887\"],[0.1111111111111111,\"#46039f\"],[0.2222222222222222,\"#7201a8\"],[0.3333333333333333,\"#9c179e\"],[0.4444444444444444,\"#bd3786\"],[0.5555555555555556,\"#d8576b\"],[0.6666666666666666,\"#ed7953\"],[0.7777777777777778,\"#fb9f3a\"],[0.8888888888888888,\"#fdca26\"],[1.0,\"#f0f921\"]],\"type\":\"surface\"}],\"table\":[{\"cells\":{\"fill\":{\"color\":\"#EBF0F8\"},\"line\":{\"color\":\"white\"}},\"header\":{\"fill\":{\"color\":\"#C8D4E3\"},\"line\":{\"color\":\"white\"}},\"type\":\"table\"}]},\"layout\":{\"annotationdefaults\":{\"arrowcolor\":\"#2a3f5f\",\"arrowhead\":0,\"arrowwidth\":1},\"autotypenumbers\":\"strict\",\"coloraxis\":{\"colorbar\":{\"outlinewidth\":0,\"ticks\":\"\"}},\"colorscale\":{\"diverging\":[[0,\"#8e0152\"],[0.1,\"#c51b7d\"],[0.2,\"#de77ae\"],[0.3,\"#f1b6da\"],[0.4,\"#fde0ef\"],[0.5,\"#f7f7f7\"],[0.6,\"#e6f5d0\"],[0.7,\"#b8e186\"],[0.8,\"#7fbc41\"],[0.9,\"#4d9221\"],[1,\"#276419\"]],\"sequential\":[[0.0,\"#0d0887\"],[0.1111111111111111,\"#46039f\"],[0.2222222222222222,\"#7201a8\"],[0.3333333333333333,\"#9c179e\"],[0.4444444444444444,\"#bd3786\"],[0.5555555555555556,\"#d8576b\"],[0.6666666666666666,\"#ed7953\"],[0.7777777777777778,\"#fb9f3a\"],[0.8888888888888888,\"#fdca26\"],[1.0,\"#f0f921\"]],\"sequentialminus\":[[0.0,\"#0d0887\"],[0.1111111111111111,\"#46039f\"],[0.2222222222222222,\"#7201a8\"],[0.3333333333333333,\"#9c179e\"],[0.4444444444444444,\"#bd3786\"],[0.5555555555555556,\"#d8576b\"],[0.6666666666666666,\"#ed7953\"],[0.7777777777777778,\"#fb9f3a\"],[0.8888888888888888,\"#fdca26\"],[1.0,\"#f0f921\"]]},\"colorway\":[\"#636efa\",\"#EF553B\",\"#00cc96\",\"#ab63fa\",\"#FFA15A\",\"#19d3f3\",\"#FF6692\",\"#B6E880\",\"#FF97FF\",\"#FECB52\"],\"font\":{\"color\":\"#2a3f5f\"},\"geo\":{\"bgcolor\":\"white\",\"lakecolor\":\"white\",\"landcolor\":\"#E5ECF6\",\"showlakes\":true,\"showland\":true,\"subunitcolor\":\"white\"},\"hoverlabel\":{\"align\":\"left\"},\"hovermode\":\"closest\",\"mapbox\":{\"style\":\"light\"},\"paper_bgcolor\":\"white\",\"plot_bgcolor\":\"#E5ECF6\",\"polar\":{\"angularaxis\":{\"gridcolor\":\"white\",\"linecolor\":\"white\",\"ticks\":\"\"},\"bgcolor\":\"#E5ECF6\",\"radialaxis\":{\"gridcolor\":\"white\",\"linecolor\":\"white\",\"ticks\":\"\"}},\"scene\":{\"xaxis\":{\"backgroundcolor\":\"#E5ECF6\",\"gridcolor\":\"white\",\"gridwidth\":2,\"linecolor\":\"white\",\"showbackground\":true,\"ticks\":\"\",\"zerolinecolor\":\"white\"},\"yaxis\":{\"backgroundcolor\":\"#E5ECF6\",\"gridcolor\":\"white\",\"gridwidth\":2,\"linecolor\":\"white\",\"showbackground\":true,\"ticks\":\"\",\"zerolinecolor\":\"white\"},\"zaxis\":{\"backgroundcolor\":\"#E5ECF6\",\"gridcolor\":\"white\",\"gridwidth\":2,\"linecolor\":\"white\",\"showbackground\":true,\"ticks\":\"\",\"zerolinecolor\":\"white\"}},\"shapedefaults\":{\"line\":{\"color\":\"#2a3f5f\"}},\"ternary\":{\"aaxis\":{\"gridcolor\":\"white\",\"linecolor\":\"white\",\"ticks\":\"\"},\"baxis\":{\"gridcolor\":\"white\",\"linecolor\":\"white\",\"ticks\":\"\"},\"bgcolor\":\"#E5ECF6\",\"caxis\":{\"gridcolor\":\"white\",\"linecolor\":\"white\",\"ticks\":\"\"}},\"title\":{\"x\":0.05},\"xaxis\":{\"automargin\":true,\"gridcolor\":\"white\",\"linecolor\":\"white\",\"ticks\":\"\",\"title\":{\"standoff\":15},\"zerolinecolor\":\"white\",\"zerolinewidth\":2},\"yaxis\":{\"automargin\":true,\"gridcolor\":\"white\",\"linecolor\":\"white\",\"ticks\":\"\",\"title\":{\"standoff\":15},\"zerolinecolor\":\"white\",\"zerolinewidth\":2}}}},                        {\"responsive\": true}                    ).then(function(){\n",
              "                            \n",
              "var gd = document.getElementById('e24a0c5e-57a2-4a67-abc7-850e07a2e0ea');\n",
              "var x = new MutationObserver(function (mutations, observer) {{\n",
              "        var display = window.getComputedStyle(gd).display;\n",
              "        if (!display || display === 'none') {{\n",
              "            console.log([gd, 'removed!']);\n",
              "            Plotly.purge(gd);\n",
              "            observer.disconnect();\n",
              "        }}\n",
              "}});\n",
              "\n",
              "// Listen for the removal of the full notebook cells\n",
              "var notebookContainer = gd.closest('#notebook-container');\n",
              "if (notebookContainer) {{\n",
              "    x.observe(notebookContainer, {childList: true});\n",
              "}}\n",
              "\n",
              "// Listen for the clearing of the current output cell\n",
              "var outputEl = gd.closest('.output');\n",
              "if (outputEl) {{\n",
              "    x.observe(outputEl, {childList: true});\n",
              "}}\n",
              "\n",
              "                        })                };                            </script>        </div>\n",
              "</body>\n",
              "</html>"
            ]
          },
          "metadata": {}
        }
      ]
    },
    {
      "cell_type": "code",
      "source": [
        "# Visualize parameter importances. See :func:`~optuna.visualization.plot_param_importances` for the details.\n",
        "plot_param_importances(study)"
      ],
      "metadata": {
        "colab": {
          "base_uri": "https://localhost:8080/",
          "height": 542
        },
        "id": "vUy-F6kT_0_7",
        "outputId": "f63fb2c5-1276-4598-f758-08fbb4c89361"
      },
      "execution_count": null,
      "outputs": [
        {
          "output_type": "display_data",
          "data": {
            "text/html": [
              "<html>\n",
              "<head><meta charset=\"utf-8\" /></head>\n",
              "<body>\n",
              "    <div>            <script src=\"https://cdnjs.cloudflare.com/ajax/libs/mathjax/2.7.5/MathJax.js?config=TeX-AMS-MML_SVG\"></script><script type=\"text/javascript\">if (window.MathJax) {MathJax.Hub.Config({SVG: {font: \"STIX-Web\"}});}</script>                <script type=\"text/javascript\">window.PlotlyConfig = {MathJaxConfig: 'local'};</script>\n",
              "        <script src=\"https://cdn.plot.ly/plotly-2.8.3.min.js\"></script>                <div id=\"f685e7b5-22c9-4b76-8582-801a1c005c02\" class=\"plotly-graph-div\" style=\"height:525px; width:100%;\"></div>            <script type=\"text/javascript\">                                    window.PLOTLYENV=window.PLOTLYENV || {};                                    if (document.getElementById(\"f685e7b5-22c9-4b76-8582-801a1c005c02\")) {                    Plotly.newPlot(                        \"f685e7b5-22c9-4b76-8582-801a1c005c02\",                        [{\"cliponaxis\":false,\"hovertemplate\":[\"bagging_freq (IntDistribution): 0.06049631641341422<extra></extra>\",\"min_child_samples (IntDistribution): 0.2545354204814439<extra></extra>\",\"bagging_fraction (FloatDistribution): 0.6849682631051418<extra></extra>\"],\"marker\":{\"color\":\"rgb(66,146,198)\"},\"orientation\":\"h\",\"text\":[\"0.06\",\"0.25\",\"0.68\"],\"textposition\":\"outside\",\"x\":[0.06049631641341422,0.2545354204814439,0.6849682631051418],\"y\":[\"bagging_freq\",\"min_child_samples\",\"bagging_fraction\"],\"type\":\"bar\"}],                        {\"showlegend\":false,\"title\":{\"text\":\"Hyperparameter Importances\"},\"xaxis\":{\"title\":{\"text\":\"Importance for Objective Value\"}},\"yaxis\":{\"title\":{\"text\":\"Hyperparameter\"}},\"template\":{\"data\":{\"bar\":[{\"error_x\":{\"color\":\"#2a3f5f\"},\"error_y\":{\"color\":\"#2a3f5f\"},\"marker\":{\"line\":{\"color\":\"#E5ECF6\",\"width\":0.5},\"pattern\":{\"fillmode\":\"overlay\",\"size\":10,\"solidity\":0.2}},\"type\":\"bar\"}],\"barpolar\":[{\"marker\":{\"line\":{\"color\":\"#E5ECF6\",\"width\":0.5},\"pattern\":{\"fillmode\":\"overlay\",\"size\":10,\"solidity\":0.2}},\"type\":\"barpolar\"}],\"carpet\":[{\"aaxis\":{\"endlinecolor\":\"#2a3f5f\",\"gridcolor\":\"white\",\"linecolor\":\"white\",\"minorgridcolor\":\"white\",\"startlinecolor\":\"#2a3f5f\"},\"baxis\":{\"endlinecolor\":\"#2a3f5f\",\"gridcolor\":\"white\",\"linecolor\":\"white\",\"minorgridcolor\":\"white\",\"startlinecolor\":\"#2a3f5f\"},\"type\":\"carpet\"}],\"choropleth\":[{\"colorbar\":{\"outlinewidth\":0,\"ticks\":\"\"},\"type\":\"choropleth\"}],\"contour\":[{\"colorbar\":{\"outlinewidth\":0,\"ticks\":\"\"},\"colorscale\":[[0.0,\"#0d0887\"],[0.1111111111111111,\"#46039f\"],[0.2222222222222222,\"#7201a8\"],[0.3333333333333333,\"#9c179e\"],[0.4444444444444444,\"#bd3786\"],[0.5555555555555556,\"#d8576b\"],[0.6666666666666666,\"#ed7953\"],[0.7777777777777778,\"#fb9f3a\"],[0.8888888888888888,\"#fdca26\"],[1.0,\"#f0f921\"]],\"type\":\"contour\"}],\"contourcarpet\":[{\"colorbar\":{\"outlinewidth\":0,\"ticks\":\"\"},\"type\":\"contourcarpet\"}],\"heatmap\":[{\"colorbar\":{\"outlinewidth\":0,\"ticks\":\"\"},\"colorscale\":[[0.0,\"#0d0887\"],[0.1111111111111111,\"#46039f\"],[0.2222222222222222,\"#7201a8\"],[0.3333333333333333,\"#9c179e\"],[0.4444444444444444,\"#bd3786\"],[0.5555555555555556,\"#d8576b\"],[0.6666666666666666,\"#ed7953\"],[0.7777777777777778,\"#fb9f3a\"],[0.8888888888888888,\"#fdca26\"],[1.0,\"#f0f921\"]],\"type\":\"heatmap\"}],\"heatmapgl\":[{\"colorbar\":{\"outlinewidth\":0,\"ticks\":\"\"},\"colorscale\":[[0.0,\"#0d0887\"],[0.1111111111111111,\"#46039f\"],[0.2222222222222222,\"#7201a8\"],[0.3333333333333333,\"#9c179e\"],[0.4444444444444444,\"#bd3786\"],[0.5555555555555556,\"#d8576b\"],[0.6666666666666666,\"#ed7953\"],[0.7777777777777778,\"#fb9f3a\"],[0.8888888888888888,\"#fdca26\"],[1.0,\"#f0f921\"]],\"type\":\"heatmapgl\"}],\"histogram\":[{\"marker\":{\"pattern\":{\"fillmode\":\"overlay\",\"size\":10,\"solidity\":0.2}},\"type\":\"histogram\"}],\"histogram2d\":[{\"colorbar\":{\"outlinewidth\":0,\"ticks\":\"\"},\"colorscale\":[[0.0,\"#0d0887\"],[0.1111111111111111,\"#46039f\"],[0.2222222222222222,\"#7201a8\"],[0.3333333333333333,\"#9c179e\"],[0.4444444444444444,\"#bd3786\"],[0.5555555555555556,\"#d8576b\"],[0.6666666666666666,\"#ed7953\"],[0.7777777777777778,\"#fb9f3a\"],[0.8888888888888888,\"#fdca26\"],[1.0,\"#f0f921\"]],\"type\":\"histogram2d\"}],\"histogram2dcontour\":[{\"colorbar\":{\"outlinewidth\":0,\"ticks\":\"\"},\"colorscale\":[[0.0,\"#0d0887\"],[0.1111111111111111,\"#46039f\"],[0.2222222222222222,\"#7201a8\"],[0.3333333333333333,\"#9c179e\"],[0.4444444444444444,\"#bd3786\"],[0.5555555555555556,\"#d8576b\"],[0.6666666666666666,\"#ed7953\"],[0.7777777777777778,\"#fb9f3a\"],[0.8888888888888888,\"#fdca26\"],[1.0,\"#f0f921\"]],\"type\":\"histogram2dcontour\"}],\"mesh3d\":[{\"colorbar\":{\"outlinewidth\":0,\"ticks\":\"\"},\"type\":\"mesh3d\"}],\"parcoords\":[{\"line\":{\"colorbar\":{\"outlinewidth\":0,\"ticks\":\"\"}},\"type\":\"parcoords\"}],\"pie\":[{\"automargin\":true,\"type\":\"pie\"}],\"scatter\":[{\"marker\":{\"colorbar\":{\"outlinewidth\":0,\"ticks\":\"\"}},\"type\":\"scatter\"}],\"scatter3d\":[{\"line\":{\"colorbar\":{\"outlinewidth\":0,\"ticks\":\"\"}},\"marker\":{\"colorbar\":{\"outlinewidth\":0,\"ticks\":\"\"}},\"type\":\"scatter3d\"}],\"scattercarpet\":[{\"marker\":{\"colorbar\":{\"outlinewidth\":0,\"ticks\":\"\"}},\"type\":\"scattercarpet\"}],\"scattergeo\":[{\"marker\":{\"colorbar\":{\"outlinewidth\":0,\"ticks\":\"\"}},\"type\":\"scattergeo\"}],\"scattergl\":[{\"marker\":{\"colorbar\":{\"outlinewidth\":0,\"ticks\":\"\"}},\"type\":\"scattergl\"}],\"scattermapbox\":[{\"marker\":{\"colorbar\":{\"outlinewidth\":0,\"ticks\":\"\"}},\"type\":\"scattermapbox\"}],\"scatterpolar\":[{\"marker\":{\"colorbar\":{\"outlinewidth\":0,\"ticks\":\"\"}},\"type\":\"scatterpolar\"}],\"scatterpolargl\":[{\"marker\":{\"colorbar\":{\"outlinewidth\":0,\"ticks\":\"\"}},\"type\":\"scatterpolargl\"}],\"scatterternary\":[{\"marker\":{\"colorbar\":{\"outlinewidth\":0,\"ticks\":\"\"}},\"type\":\"scatterternary\"}],\"surface\":[{\"colorbar\":{\"outlinewidth\":0,\"ticks\":\"\"},\"colorscale\":[[0.0,\"#0d0887\"],[0.1111111111111111,\"#46039f\"],[0.2222222222222222,\"#7201a8\"],[0.3333333333333333,\"#9c179e\"],[0.4444444444444444,\"#bd3786\"],[0.5555555555555556,\"#d8576b\"],[0.6666666666666666,\"#ed7953\"],[0.7777777777777778,\"#fb9f3a\"],[0.8888888888888888,\"#fdca26\"],[1.0,\"#f0f921\"]],\"type\":\"surface\"}],\"table\":[{\"cells\":{\"fill\":{\"color\":\"#EBF0F8\"},\"line\":{\"color\":\"white\"}},\"header\":{\"fill\":{\"color\":\"#C8D4E3\"},\"line\":{\"color\":\"white\"}},\"type\":\"table\"}]},\"layout\":{\"annotationdefaults\":{\"arrowcolor\":\"#2a3f5f\",\"arrowhead\":0,\"arrowwidth\":1},\"autotypenumbers\":\"strict\",\"coloraxis\":{\"colorbar\":{\"outlinewidth\":0,\"ticks\":\"\"}},\"colorscale\":{\"diverging\":[[0,\"#8e0152\"],[0.1,\"#c51b7d\"],[0.2,\"#de77ae\"],[0.3,\"#f1b6da\"],[0.4,\"#fde0ef\"],[0.5,\"#f7f7f7\"],[0.6,\"#e6f5d0\"],[0.7,\"#b8e186\"],[0.8,\"#7fbc41\"],[0.9,\"#4d9221\"],[1,\"#276419\"]],\"sequential\":[[0.0,\"#0d0887\"],[0.1111111111111111,\"#46039f\"],[0.2222222222222222,\"#7201a8\"],[0.3333333333333333,\"#9c179e\"],[0.4444444444444444,\"#bd3786\"],[0.5555555555555556,\"#d8576b\"],[0.6666666666666666,\"#ed7953\"],[0.7777777777777778,\"#fb9f3a\"],[0.8888888888888888,\"#fdca26\"],[1.0,\"#f0f921\"]],\"sequentialminus\":[[0.0,\"#0d0887\"],[0.1111111111111111,\"#46039f\"],[0.2222222222222222,\"#7201a8\"],[0.3333333333333333,\"#9c179e\"],[0.4444444444444444,\"#bd3786\"],[0.5555555555555556,\"#d8576b\"],[0.6666666666666666,\"#ed7953\"],[0.7777777777777778,\"#fb9f3a\"],[0.8888888888888888,\"#fdca26\"],[1.0,\"#f0f921\"]]},\"colorway\":[\"#636efa\",\"#EF553B\",\"#00cc96\",\"#ab63fa\",\"#FFA15A\",\"#19d3f3\",\"#FF6692\",\"#B6E880\",\"#FF97FF\",\"#FECB52\"],\"font\":{\"color\":\"#2a3f5f\"},\"geo\":{\"bgcolor\":\"white\",\"lakecolor\":\"white\",\"landcolor\":\"#E5ECF6\",\"showlakes\":true,\"showland\":true,\"subunitcolor\":\"white\"},\"hoverlabel\":{\"align\":\"left\"},\"hovermode\":\"closest\",\"mapbox\":{\"style\":\"light\"},\"paper_bgcolor\":\"white\",\"plot_bgcolor\":\"#E5ECF6\",\"polar\":{\"angularaxis\":{\"gridcolor\":\"white\",\"linecolor\":\"white\",\"ticks\":\"\"},\"bgcolor\":\"#E5ECF6\",\"radialaxis\":{\"gridcolor\":\"white\",\"linecolor\":\"white\",\"ticks\":\"\"}},\"scene\":{\"xaxis\":{\"backgroundcolor\":\"#E5ECF6\",\"gridcolor\":\"white\",\"gridwidth\":2,\"linecolor\":\"white\",\"showbackground\":true,\"ticks\":\"\",\"zerolinecolor\":\"white\"},\"yaxis\":{\"backgroundcolor\":\"#E5ECF6\",\"gridcolor\":\"white\",\"gridwidth\":2,\"linecolor\":\"white\",\"showbackground\":true,\"ticks\":\"\",\"zerolinecolor\":\"white\"},\"zaxis\":{\"backgroundcolor\":\"#E5ECF6\",\"gridcolor\":\"white\",\"gridwidth\":2,\"linecolor\":\"white\",\"showbackground\":true,\"ticks\":\"\",\"zerolinecolor\":\"white\"}},\"shapedefaults\":{\"line\":{\"color\":\"#2a3f5f\"}},\"ternary\":{\"aaxis\":{\"gridcolor\":\"white\",\"linecolor\":\"white\",\"ticks\":\"\"},\"baxis\":{\"gridcolor\":\"white\",\"linecolor\":\"white\",\"ticks\":\"\"},\"bgcolor\":\"#E5ECF6\",\"caxis\":{\"gridcolor\":\"white\",\"linecolor\":\"white\",\"ticks\":\"\"}},\"title\":{\"x\":0.05},\"xaxis\":{\"automargin\":true,\"gridcolor\":\"white\",\"linecolor\":\"white\",\"ticks\":\"\",\"title\":{\"standoff\":15},\"zerolinecolor\":\"white\",\"zerolinewidth\":2},\"yaxis\":{\"automargin\":true,\"gridcolor\":\"white\",\"linecolor\":\"white\",\"ticks\":\"\",\"title\":{\"standoff\":15},\"zerolinecolor\":\"white\",\"zerolinewidth\":2}}}},                        {\"responsive\": true}                    ).then(function(){\n",
              "                            \n",
              "var gd = document.getElementById('f685e7b5-22c9-4b76-8582-801a1c005c02');\n",
              "var x = new MutationObserver(function (mutations, observer) {{\n",
              "        var display = window.getComputedStyle(gd).display;\n",
              "        if (!display || display === 'none') {{\n",
              "            console.log([gd, 'removed!']);\n",
              "            Plotly.purge(gd);\n",
              "            observer.disconnect();\n",
              "        }}\n",
              "}});\n",
              "\n",
              "// Listen for the removal of the full notebook cells\n",
              "var notebookContainer = gd.closest('#notebook-container');\n",
              "if (notebookContainer) {{\n",
              "    x.observe(notebookContainer, {childList: true});\n",
              "}}\n",
              "\n",
              "// Listen for the clearing of the current output cell\n",
              "var outputEl = gd.closest('.output');\n",
              "if (outputEl) {{\n",
              "    x.observe(outputEl, {childList: true});\n",
              "}}\n",
              "\n",
              "                        })                };                            </script>        </div>\n",
              "</body>\n",
              "</html>"
            ]
          },
          "metadata": {}
        }
      ]
    },
    {
      "cell_type": "markdown",
      "source": [
        "#### XGB"
      ],
      "metadata": {
        "id": "zDCWVQ0FBqM8"
      }
    },
    {
      "cell_type": "code",
      "source": [
        "'''\n",
        "SOURCE: \n",
        "https://practicaldatascience.co.uk/machine-learning/how-to-use-optuna-for-xgboost-hyperparameter-tuning\n",
        "+\n",
        "https://medium.com/optuna/using-optuna-to-optimize-xgboost-hyperparameters-63bfcdfd3407\n",
        "'''\n",
        "\n",
        "# Define the objective function.\n",
        "def objective_xgb(trial):\n",
        "    dtrain = xgb.DMatrix(X_train, label=y_train, enable_categorical=True)\n",
        "    dval = xgb.DMatrix(X_val, label=y_val, enable_categorical=True)\n",
        "\n",
        "    param = {\n",
        "        'max_depth': trial.suggest_int('max_depth', 1, 9),\n",
        "        'learning_rate': trial.suggest_loguniform('learning_rate', 0.01, 1.0),\n",
        "        'n_estimators': trial.suggest_int('n_estimators', 50, 500),\n",
        "        'min_child_weight': trial.suggest_int('min_child_weight', 1, 10),\n",
        "        'gamma': trial.suggest_loguniform('gamma', 1e-8, 1.0),\n",
        "        'subsample': trial.suggest_loguniform('subsample', 0.01, 1.0),\n",
        "        'colsample_bytree': trial.suggest_loguniform('colsample_bytree', 0.01, 1.0),\n",
        "        'reg_alpha': trial.suggest_loguniform('reg_alpha', 1e-8, 1.0),\n",
        "        'reg_lambda': trial.suggest_loguniform('reg_lambda', 1e-8, 1.0),\n",
        "        'eval_metric': 'mlogloss',\n",
        "        'use_label_encoder': False,\n",
        "        'predictor': \"gpu_predictor\",\n",
        "        'eval_metric' : 'auc',\n",
        "        'objective' : 'binary:logistic',\n",
        "        'tree_method': 'gpu_hist',\n",
        "    }\n",
        "\n",
        "    # # Fit the model\n",
        "    # optuna_model = XGBClassifier(**params)\n",
        "    # optuna_model.fit(X_train, y_train)\n",
        "\n",
        "    # # Make predictions\n",
        "    # y_pred = optuna_model.predict(X_val)\n",
        "\n",
        "    # # Evaluate predictions\n",
        "    # accuracy = accuracy_score(y_val, y_pred)\n",
        "    # return accuracy\n",
        "\n",
        "# Add a callback for pruning.\n",
        "    pruning_callback = optuna.integration.XGBoostPruningCallback(trial, \"validation-auc\")\n",
        "    bst = xgb.train(param, dtrain, evals=[(dval, \"validation\")], callbacks=[pruning_callback])\n",
        "    preds = bst.predict(dval)\n",
        "    pred_labels = np.rint(preds)\n",
        "    accuracy = accuracy_score(y_val, pred_labels)\n",
        "    return accuracy\n",
        "\n",
        "\n",
        "\n",
        "'''\n",
        "Create an study for that ML model and optimize it\n",
        "'''\n",
        "study = optuna.create_study(\n",
        "    direction=\"maximize\",\n",
        "    sampler=optuna.samplers.TPESampler(),\n",
        "    pruner=optuna.pruners.MedianPruner(n_warmup_steps=10),\n",
        ") #Set minimize for minimization and maximize for maximization.\n",
        "\n",
        "#To start the optimization, we create a study object and pass the objective function to method\n",
        "study.optimize(objective_xgb, n_trials=100, timeout=600) #add timeout for model not to exceed this time limit\n",
        "\n",
        "\n",
        "# To get the dictionary of parameter name and parameter values:\n",
        "print(f\"Return a dictionary of parameter name and parameter values:\\n{study.best_params}\")\n",
        "\n",
        "# To get the best observed value of the objective function:\n",
        "print(\"Return the best observed value of the objective function:\",study.best_value)\n",
        "\n",
        "# # To get the best trial:\n",
        "# print(\"Return the best trial:\",study.best_trial)\n",
        "\n",
        "# # To get all trials:\n",
        "# print(\"Return all the trials:\", study.trials)\n",
        "\n",
        "# study.trials_dataframe()"
      ],
      "metadata": {
        "colab": {
          "base_uri": "https://localhost:8080/"
        },
        "id": "HIV0lPAmBopJ",
        "outputId": "79870dbc-11d2-4095-f953-9ee287b969d9"
      },
      "execution_count": null,
      "outputs": [
        {
          "output_type": "stream",
          "name": "stderr",
          "text": [
            "\u001b[32m[I 2023-03-20 00:03:27,552]\u001b[0m A new study created in memory with name: no-name-a1450fb1-897c-42be-92ec-3000c0b38ca8\u001b[0m\n"
          ]
        },
        {
          "output_type": "stream",
          "name": "stdout",
          "text": [
            "A new study created in memory with name: no-name-a1450fb1-897c-42be-92ec-3000c0b38ca8\n",
            "[00:03:28] WARNING: ../src/learner.cc:767: \n",
            "Parameters: { \"n_estimators\", \"use_label_encoder\" } are not used.\n",
            "\n",
            "[0]\tvalidation-auc:0.73180\n",
            "[1]\tvalidation-auc:0.78869\n",
            "[2]\tvalidation-auc:0.79838\n",
            "[3]\tvalidation-auc:0.80250\n",
            "[4]\tvalidation-auc:0.80817\n",
            "[5]\tvalidation-auc:0.80416\n",
            "[6]\tvalidation-auc:0.82339\n",
            "[7]\tvalidation-auc:0.83025\n",
            "[8]\tvalidation-auc:0.83908\n",
            "[9]\tvalidation-auc:0.84021\n"
          ]
        },
        {
          "output_type": "stream",
          "name": "stderr",
          "text": [
            "\u001b[32m[I 2023-03-20 00:03:28,117]\u001b[0m Trial 0 finished with value: 0.7730061349693251 and parameters: {'max_depth': 3, 'learning_rate': 0.31563672819054606, 'n_estimators': 263, 'min_child_weight': 1, 'gamma': 1.2420266162858936e-08, 'subsample': 0.0837427112628802, 'colsample_bytree': 0.36004158193880087, 'reg_alpha': 7.56468112454884e-06, 'reg_lambda': 2.101519267190238e-07}. Best is trial 0 with value: 0.7730061349693251.\u001b[0m\n"
          ]
        },
        {
          "output_type": "stream",
          "name": "stdout",
          "text": [
            "Trial 0 finished with value: 0.7730061349693251 and parameters: {'max_depth': 3, 'learning_rate': 0.31563672819054606, 'n_estimators': 263, 'min_child_weight': 1, 'gamma': 1.2420266162858936e-08, 'subsample': 0.0837427112628802, 'colsample_bytree': 0.36004158193880087, 'reg_alpha': 7.56468112454884e-06, 'reg_lambda': 2.101519267190238e-07}. Best is trial 0 with value: 0.7730061349693251.\n",
            "[00:03:28] WARNING: ../src/learner.cc:767: \n",
            "Parameters: { \"n_estimators\", \"use_label_encoder\" } are not used.\n",
            "\n",
            "[0]\tvalidation-auc:0.49414\n",
            "[1]\tvalidation-auc:0.67260\n",
            "[2]\tvalidation-auc:0.72316\n",
            "[3]\tvalidation-auc:0.72316\n",
            "[4]\tvalidation-auc:0.72292\n",
            "[5]\tvalidation-auc:0.72370\n",
            "[6]\tvalidation-auc:0.72370\n",
            "[7]\tvalidation-auc:0.73074\n",
            "[8]\tvalidation-auc:0.72286\n",
            "[9]\tvalidation-auc:0.72286\n"
          ]
        },
        {
          "output_type": "stream",
          "name": "stderr",
          "text": [
            "\u001b[32m[I 2023-03-20 00:03:28,205]\u001b[0m Trial 1 finished with value: 0.6591257668711656 and parameters: {'max_depth': 1, 'learning_rate': 0.010475102555156473, 'n_estimators': 137, 'min_child_weight': 10, 'gamma': 0.0002879733968290103, 'subsample': 0.07761577508545207, 'colsample_bytree': 0.03464795742853375, 'reg_alpha': 0.03470716954178827, 'reg_lambda': 1.3343818835925194e-06}. Best is trial 0 with value: 0.7730061349693251.\u001b[0m\n"
          ]
        },
        {
          "output_type": "stream",
          "name": "stdout",
          "text": [
            "Trial 1 finished with value: 0.6591257668711656 and parameters: {'max_depth': 1, 'learning_rate': 0.010475102555156473, 'n_estimators': 137, 'min_child_weight': 10, 'gamma': 0.0002879733968290103, 'subsample': 0.07761577508545207, 'colsample_bytree': 0.03464795742853375, 'reg_alpha': 0.03470716954178827, 'reg_lambda': 1.3343818835925194e-06}. Best is trial 0 with value: 0.7730061349693251.\n",
            "[00:03:28] WARNING: ../src/learner.cc:767: \n",
            "Parameters: { \"n_estimators\", \"use_label_encoder\" } are not used.\n",
            "\n",
            "[0]\tvalidation-auc:0.78732\n",
            "[1]\tvalidation-auc:0.82034\n",
            "[2]\tvalidation-auc:0.82367\n",
            "[3]\tvalidation-auc:0.83870\n",
            "[4]\tvalidation-auc:0.84037\n",
            "[5]\tvalidation-auc:0.84125\n",
            "[6]\tvalidation-auc:0.84580\n",
            "[7]\tvalidation-auc:0.84935\n",
            "[8]\tvalidation-auc:0.85241\n",
            "[9]\tvalidation-auc:0.85169\n"
          ]
        },
        {
          "output_type": "stream",
          "name": "stderr",
          "text": [
            "\u001b[32m[I 2023-03-20 00:03:28,356]\u001b[0m Trial 2 finished with value: 0.7756901840490797 and parameters: {'max_depth': 8, 'learning_rate': 0.1116718717168118, 'n_estimators': 192, 'min_child_weight': 9, 'gamma': 6.214383603240166e-05, 'subsample': 0.11233345775440101, 'colsample_bytree': 0.5764761309245493, 'reg_alpha': 0.0010066174725819927, 'reg_lambda': 7.404218858844313e-08}. Best is trial 2 with value: 0.7756901840490797.\u001b[0m\n"
          ]
        },
        {
          "output_type": "stream",
          "name": "stdout",
          "text": [
            "Trial 2 finished with value: 0.7756901840490797 and parameters: {'max_depth': 8, 'learning_rate': 0.1116718717168118, 'n_estimators': 192, 'min_child_weight': 9, 'gamma': 6.214383603240166e-05, 'subsample': 0.11233345775440101, 'colsample_bytree': 0.5764761309245493, 'reg_alpha': 0.0010066174725819927, 'reg_lambda': 7.404218858844313e-08}. Best is trial 2 with value: 0.7756901840490797.\n",
            "[00:03:28] WARNING: ../src/learner.cc:767: \n",
            "Parameters: { \"n_estimators\", \"use_label_encoder\" } are not used.\n",
            "\n",
            "[0]\tvalidation-auc:0.50000\n",
            "[1]\tvalidation-auc:0.50000\n",
            "[2]\tvalidation-auc:0.50000\n",
            "[3]\tvalidation-auc:0.50000\n",
            "[4]\tvalidation-auc:0.50000\n",
            "[5]\tvalidation-auc:0.50000\n",
            "[6]\tvalidation-auc:0.50000\n",
            "[7]\tvalidation-auc:0.50000\n",
            "[8]\tvalidation-auc:0.50000\n",
            "[9]\tvalidation-auc:0.50000\n"
          ]
        },
        {
          "output_type": "stream",
          "name": "stderr",
          "text": [
            "\u001b[32m[I 2023-03-20 00:03:28,442]\u001b[0m Trial 3 finished with value: 0.5034509202453987 and parameters: {'max_depth': 9, 'learning_rate': 0.3497542549014235, 'n_estimators': 451, 'min_child_weight': 8, 'gamma': 0.07694011179769845, 'subsample': 0.010206043403679026, 'colsample_bytree': 0.028099259291127724, 'reg_alpha': 2.716928664563782e-08, 'reg_lambda': 0.4799756036610437}. Best is trial 2 with value: 0.7756901840490797.\u001b[0m\n"
          ]
        },
        {
          "output_type": "stream",
          "name": "stdout",
          "text": [
            "Trial 3 finished with value: 0.5034509202453987 and parameters: {'max_depth': 9, 'learning_rate': 0.3497542549014235, 'n_estimators': 451, 'min_child_weight': 8, 'gamma': 0.07694011179769845, 'subsample': 0.010206043403679026, 'colsample_bytree': 0.028099259291127724, 'reg_alpha': 2.716928664563782e-08, 'reg_lambda': 0.4799756036610437}. Best is trial 2 with value: 0.7756901840490797.\n",
            "[00:03:28] WARNING: ../src/learner.cc:767: \n",
            "Parameters: { \"n_estimators\", \"use_label_encoder\" } are not used.\n",
            "\n",
            "[0]\tvalidation-auc:0.73308\n",
            "[1]\tvalidation-auc:0.75360\n",
            "[2]\tvalidation-auc:0.78514\n",
            "[3]\tvalidation-auc:0.81053\n",
            "[4]\tvalidation-auc:0.81316\n",
            "[5]\tvalidation-auc:0.80973\n",
            "[6]\tvalidation-auc:0.80886\n",
            "[7]\tvalidation-auc:0.81590\n",
            "[8]\tvalidation-auc:0.81462\n",
            "[9]\tvalidation-auc:0.81772\n"
          ]
        },
        {
          "output_type": "stream",
          "name": "stderr",
          "text": [
            "\u001b[32m[I 2023-03-20 00:03:28,578]\u001b[0m Trial 4 finished with value: 0.745782208588957 and parameters: {'max_depth': 8, 'learning_rate': 0.29114928573253157, 'n_estimators': 365, 'min_child_weight': 1, 'gamma': 1.431803706188593e-07, 'subsample': 0.01276041221515007, 'colsample_bytree': 0.668416727145229, 'reg_alpha': 0.6258742227242018, 'reg_lambda': 0.0002979427141483943}. Best is trial 2 with value: 0.7756901840490797.\u001b[0m\n"
          ]
        },
        {
          "output_type": "stream",
          "name": "stdout",
          "text": [
            "Trial 4 finished with value: 0.745782208588957 and parameters: {'max_depth': 8, 'learning_rate': 0.29114928573253157, 'n_estimators': 365, 'min_child_weight': 1, 'gamma': 1.431803706188593e-07, 'subsample': 0.01276041221515007, 'colsample_bytree': 0.668416727145229, 'reg_alpha': 0.6258742227242018, 'reg_lambda': 0.0002979427141483943}. Best is trial 2 with value: 0.7756901840490797.\n",
            "[00:03:28] WARNING: ../src/learner.cc:767: \n",
            "Parameters: { \"n_estimators\", \"use_label_encoder\" } are not used.\n",
            "\n",
            "[0]\tvalidation-auc:0.50000\n",
            "[1]\tvalidation-auc:0.64287\n",
            "[2]\tvalidation-auc:0.67736\n",
            "[3]\tvalidation-auc:0.67736\n",
            "[4]\tvalidation-auc:0.67638\n",
            "[5]\tvalidation-auc:0.67638\n",
            "[6]\tvalidation-auc:0.67638\n",
            "[7]\tvalidation-auc:0.71473\n",
            "[8]\tvalidation-auc:0.71358\n",
            "[9]\tvalidation-auc:0.71358\n"
          ]
        },
        {
          "output_type": "stream",
          "name": "stderr",
          "text": [
            "\u001b[32m[I 2023-03-20 00:03:28,669]\u001b[0m Trial 5 finished with value: 0.6759969325153374 and parameters: {'max_depth': 3, 'learning_rate': 0.547003937997193, 'n_estimators': 187, 'min_child_weight': 3, 'gamma': 1.6503278885423187e-07, 'subsample': 0.014242097784595549, 'colsample_bytree': 0.017590973181560596, 'reg_alpha': 4.675462898539701e-07, 'reg_lambda': 0.33171859130804965}. Best is trial 2 with value: 0.7756901840490797.\u001b[0m\n"
          ]
        },
        {
          "output_type": "stream",
          "name": "stdout",
          "text": [
            "Trial 5 finished with value: 0.6759969325153374 and parameters: {'max_depth': 3, 'learning_rate': 0.547003937997193, 'n_estimators': 187, 'min_child_weight': 3, 'gamma': 1.6503278885423187e-07, 'subsample': 0.014242097784595549, 'colsample_bytree': 0.017590973181560596, 'reg_alpha': 4.675462898539701e-07, 'reg_lambda': 0.33171859130804965}. Best is trial 2 with value: 0.7756901840490797.\n",
            "[00:03:28] WARNING: ../src/learner.cc:767: \n",
            "Parameters: { \"n_estimators\", \"use_label_encoder\" } are not used.\n",
            "\n",
            "[0]\tvalidation-auc:0.71765\n",
            "[1]\tvalidation-auc:0.77586\n",
            "[2]\tvalidation-auc:0.78701\n",
            "[3]\tvalidation-auc:0.78837\n",
            "[4]\tvalidation-auc:0.78428\n",
            "[5]\tvalidation-auc:0.77885\n",
            "[6]\tvalidation-auc:0.81160\n",
            "[7]\tvalidation-auc:0.80512\n",
            "[8]\tvalidation-auc:0.81563\n",
            "[9]\tvalidation-auc:0.81542\n"
          ]
        },
        {
          "output_type": "stream",
          "name": "stderr",
          "text": [
            "\u001b[32m[I 2023-03-20 00:03:28,783]\u001b[0m Trial 6 finished with value: 0.7476993865030674 and parameters: {'max_depth': 7, 'learning_rate': 0.7253966625877606, 'n_estimators': 202, 'min_child_weight': 5, 'gamma': 0.01487030294514115, 'subsample': 0.0490074363688347, 'colsample_bytree': 0.34168205625864845, 'reg_alpha': 0.0007373691461794857, 'reg_lambda': 0.004308679246063909}. Best is trial 2 with value: 0.7756901840490797.\u001b[0m\n"
          ]
        },
        {
          "output_type": "stream",
          "name": "stdout",
          "text": [
            "Trial 6 finished with value: 0.7476993865030674 and parameters: {'max_depth': 7, 'learning_rate': 0.7253966625877606, 'n_estimators': 202, 'min_child_weight': 5, 'gamma': 0.01487030294514115, 'subsample': 0.0490074363688347, 'colsample_bytree': 0.34168205625864845, 'reg_alpha': 0.0007373691461794857, 'reg_lambda': 0.004308679246063909}. Best is trial 2 with value: 0.7756901840490797.\n",
            "[00:03:28] WARNING: ../src/learner.cc:767: \n",
            "Parameters: { \"n_estimators\", \"use_label_encoder\" } are not used.\n",
            "\n",
            "[0]\tvalidation-auc:0.54656\n",
            "[1]\tvalidation-auc:0.69064\n",
            "[2]\tvalidation-auc:0.72676\n",
            "[3]\tvalidation-auc:0.72676\n",
            "[4]\tvalidation-auc:0.72631\n",
            "[5]\tvalidation-auc:0.72682\n",
            "[6]\tvalidation-auc:0.72687\n",
            "[7]\tvalidation-auc:0.74637\n",
            "[8]\tvalidation-auc:0.74342\n",
            "[9]\tvalidation-auc:0.74453\n"
          ]
        },
        {
          "output_type": "stream",
          "name": "stderr",
          "text": [
            "\u001b[32m[I 2023-03-20 00:03:28,906]\u001b[0m Trial 7 finished with value: 0.7013036809815951 and parameters: {'max_depth': 6, 'learning_rate': 0.12999257144860574, 'n_estimators': 235, 'min_child_weight': 2, 'gamma': 5.654660452925877e-05, 'subsample': 0.2602223425967868, 'colsample_bytree': 0.05882427173980861, 'reg_alpha': 0.08692970347232604, 'reg_lambda': 3.990053762854631e-05}. Best is trial 2 with value: 0.7756901840490797.\u001b[0m\n"
          ]
        },
        {
          "output_type": "stream",
          "name": "stdout",
          "text": [
            "Trial 7 finished with value: 0.7013036809815951 and parameters: {'max_depth': 6, 'learning_rate': 0.12999257144860574, 'n_estimators': 235, 'min_child_weight': 2, 'gamma': 5.654660452925877e-05, 'subsample': 0.2602223425967868, 'colsample_bytree': 0.05882427173980861, 'reg_alpha': 0.08692970347232604, 'reg_lambda': 3.990053762854631e-05}. Best is trial 2 with value: 0.7756901840490797.\n",
            "[00:03:28] WARNING: ../src/learner.cc:767: \n",
            "Parameters: { \"n_estimators\", \"use_label_encoder\" } are not used.\n",
            "\n",
            "[0]\tvalidation-auc:0.50000\n",
            "[1]\tvalidation-auc:0.66698\n",
            "[2]\tvalidation-auc:0.72493\n",
            "[3]\tvalidation-auc:0.72493\n",
            "[4]\tvalidation-auc:0.71976\n",
            "[5]\tvalidation-auc:0.71976\n",
            "[6]\tvalidation-auc:0.71976\n",
            "[7]\tvalidation-auc:0.73670\n",
            "[8]\tvalidation-auc:0.73902\n",
            "[9]\tvalidation-auc:0.73902\n"
          ]
        },
        {
          "output_type": "stream",
          "name": "stderr",
          "text": [
            "\u001b[32m[I 2023-03-20 00:03:29,007]\u001b[0m Trial 8 finished with value: 0.6667944785276073 and parameters: {'max_depth': 7, 'learning_rate': 0.31984113902069045, 'n_estimators': 468, 'min_child_weight': 6, 'gamma': 0.007007196455217626, 'subsample': 0.027802740229119913, 'colsample_bytree': 0.014998382994126345, 'reg_alpha': 0.0006737957382239106, 'reg_lambda': 0.006082483906801253}. Best is trial 2 with value: 0.7756901840490797.\u001b[0m\n"
          ]
        },
        {
          "output_type": "stream",
          "name": "stdout",
          "text": [
            "Trial 8 finished with value: 0.6667944785276073 and parameters: {'max_depth': 7, 'learning_rate': 0.31984113902069045, 'n_estimators': 468, 'min_child_weight': 6, 'gamma': 0.007007196455217626, 'subsample': 0.027802740229119913, 'colsample_bytree': 0.014998382994126345, 'reg_alpha': 0.0006737957382239106, 'reg_lambda': 0.006082483906801253}. Best is trial 2 with value: 0.7756901840490797.\n",
            "[00:03:29] WARNING: ../src/learner.cc:767: \n",
            "Parameters: { \"n_estimators\", \"use_label_encoder\" } are not used.\n",
            "\n",
            "[0]\tvalidation-auc:0.54973\n",
            "[1]\tvalidation-auc:0.69573\n",
            "[2]\tvalidation-auc:0.73297\n",
            "[3]\tvalidation-auc:0.73297\n",
            "[4]\tvalidation-auc:0.73284\n",
            "[5]\tvalidation-auc:0.73322\n",
            "[6]\tvalidation-auc:0.73322\n",
            "[7]\tvalidation-auc:0.74940\n",
            "[8]\tvalidation-auc:0.74616\n",
            "[9]\tvalidation-auc:0.74616\n"
          ]
        },
        {
          "output_type": "stream",
          "name": "stderr",
          "text": [
            "\u001b[32m[I 2023-03-20 00:03:29,136]\u001b[0m Trial 9 finished with value: 0.7055214723926381 and parameters: {'max_depth': 7, 'learning_rate': 0.09973186090226167, 'n_estimators': 471, 'min_child_weight': 9, 'gamma': 2.4929466027699766e-07, 'subsample': 0.26665439236118416, 'colsample_bytree': 0.03476514772780575, 'reg_alpha': 4.127089208070998e-06, 'reg_lambda': 0.4176217684046682}. Best is trial 2 with value: 0.7756901840490797.\u001b[0m\n"
          ]
        },
        {
          "output_type": "stream",
          "name": "stdout",
          "text": [
            "Trial 9 finished with value: 0.7055214723926381 and parameters: {'max_depth': 7, 'learning_rate': 0.09973186090226167, 'n_estimators': 471, 'min_child_weight': 9, 'gamma': 2.4929466027699766e-07, 'subsample': 0.26665439236118416, 'colsample_bytree': 0.03476514772780575, 'reg_alpha': 4.127089208070998e-06, 'reg_lambda': 0.4176217684046682}. Best is trial 2 with value: 0.7756901840490797.\n",
            "[00:03:29] WARNING: ../src/learner.cc:767: \n",
            "Parameters: { \"n_estimators\", \"use_label_encoder\" } are not used.\n",
            "\n",
            "[0]\tvalidation-auc:0.75498\n",
            "[1]\tvalidation-auc:0.80081\n",
            "[2]\tvalidation-auc:0.79278\n",
            "[3]\tvalidation-auc:0.78990\n",
            "[4]\tvalidation-auc:0.78937\n",
            "[5]\tvalidation-auc:0.79494\n",
            "[6]\tvalidation-auc:0.79574\n",
            "[7]\tvalidation-auc:0.79869\n",
            "[8]\tvalidation-auc:0.80284\n",
            "[9]\tvalidation-auc:0.80711\n"
          ]
        },
        {
          "output_type": "stream",
          "name": "stderr",
          "text": [
            "\u001b[32m[I 2023-03-20 00:03:29,300]\u001b[0m Trial 10 finished with value: 0.7615030674846626 and parameters: {'max_depth': 4, 'learning_rate': 0.04202814393730829, 'n_estimators': 55, 'min_child_weight': 7, 'gamma': 4.7484507022465145e-05, 'subsample': 0.9022722431457434, 'colsample_bytree': 0.1730849804656178, 'reg_alpha': 0.00018069030742445566, 'reg_lambda': 1.4931239336136846e-08}. Best is trial 2 with value: 0.7756901840490797.\u001b[0m\n"
          ]
        },
        {
          "output_type": "stream",
          "name": "stdout",
          "text": [
            "Trial 10 finished with value: 0.7615030674846626 and parameters: {'max_depth': 4, 'learning_rate': 0.04202814393730829, 'n_estimators': 55, 'min_child_weight': 7, 'gamma': 4.7484507022465145e-05, 'subsample': 0.9022722431457434, 'colsample_bytree': 0.1730849804656178, 'reg_alpha': 0.00018069030742445566, 'reg_lambda': 1.4931239336136846e-08}. Best is trial 2 with value: 0.7756901840490797.\n",
            "[00:03:29] WARNING: ../src/learner.cc:767: \n",
            "Parameters: { \"n_estimators\", \"use_label_encoder\" } are not used.\n",
            "\n",
            "[0]\tvalidation-auc:0.77490\n",
            "[1]\tvalidation-auc:0.80228\n",
            "[2]\tvalidation-auc:0.83433\n",
            "[3]\tvalidation-auc:0.84459\n",
            "[4]\tvalidation-auc:0.85373\n",
            "[5]\tvalidation-auc:0.85830\n",
            "[6]\tvalidation-auc:0.85856\n",
            "[7]\tvalidation-auc:0.85777\n",
            "[8]\tvalidation-auc:0.85824\n",
            "[9]\tvalidation-auc:0.85747\n"
          ]
        },
        {
          "output_type": "stream",
          "name": "stderr",
          "text": [
            "\u001b[32m[I 2023-03-20 00:03:29,434]\u001b[0m Trial 11 finished with value: 0.7599693251533742 and parameters: {'max_depth': 2, 'learning_rate': 0.94912079590986, 'n_estimators': 328, 'min_child_weight': 4, 'gamma': 1.6003871119002254e-08, 'subsample': 0.10313459978419003, 'colsample_bytree': 0.8244318774123934, 'reg_alpha': 1.2107440214125152e-05, 'reg_lambda': 1.1352560026254127e-08}. Best is trial 2 with value: 0.7756901840490797.\u001b[0m\n"
          ]
        },
        {
          "output_type": "stream",
          "name": "stdout",
          "text": [
            "Trial 11 finished with value: 0.7599693251533742 and parameters: {'max_depth': 2, 'learning_rate': 0.94912079590986, 'n_estimators': 328, 'min_child_weight': 4, 'gamma': 1.6003871119002254e-08, 'subsample': 0.10313459978419003, 'colsample_bytree': 0.8244318774123934, 'reg_alpha': 1.2107440214125152e-05, 'reg_lambda': 1.1352560026254127e-08}. Best is trial 2 with value: 0.7756901840490797.\n",
            "[00:03:29] WARNING: ../src/learner.cc:767: \n",
            "Parameters: { \"n_estimators\", \"use_label_encoder\" } are not used.\n",
            "\n",
            "[0]\tvalidation-auc:0.76301\n",
            "[1]\tvalidation-auc:0.79512\n",
            "[2]\tvalidation-auc:0.80628\n",
            "[3]\tvalidation-auc:0.80430\n",
            "[4]\tvalidation-auc:0.80833\n",
            "[5]\tvalidation-auc:0.81215\n",
            "[6]\tvalidation-auc:0.81608\n",
            "[7]\tvalidation-auc:0.81891\n",
            "[8]\tvalidation-auc:0.82398\n",
            "[9]\tvalidation-auc:0.82487\n"
          ]
        },
        {
          "output_type": "stream",
          "name": "stderr",
          "text": [
            "\u001b[32m[I 2023-03-20 00:03:29,596]\u001b[0m Trial 12 finished with value: 0.7687883435582822 and parameters: {'max_depth': 5, 'learning_rate': 0.13577245772722196, 'n_estimators': 302, 'min_child_weight': 7, 'gamma': 4.720053936024423e-06, 'subsample': 0.12545273505749555, 'colsample_bytree': 0.2583871385293303, 'reg_alpha': 0.004243316609079406, 'reg_lambda': 5.293663565908814e-07}. Best is trial 2 with value: 0.7756901840490797.\u001b[0m\n"
          ]
        },
        {
          "output_type": "stream",
          "name": "stdout",
          "text": [
            "Trial 12 finished with value: 0.7687883435582822 and parameters: {'max_depth': 5, 'learning_rate': 0.13577245772722196, 'n_estimators': 302, 'min_child_weight': 7, 'gamma': 4.720053936024423e-06, 'subsample': 0.12545273505749555, 'colsample_bytree': 0.2583871385293303, 'reg_alpha': 0.004243316609079406, 'reg_lambda': 5.293663565908814e-07}. Best is trial 2 with value: 0.7756901840490797.\n",
            "[00:03:29] WARNING: ../src/learner.cc:767: \n",
            "Parameters: { \"n_estimators\", \"use_label_encoder\" } are not used.\n",
            "\n",
            "[0]\tvalidation-auc:0.74717\n",
            "[1]\tvalidation-auc:0.76048\n",
            "[2]\tvalidation-auc:0.77507\n",
            "[3]\tvalidation-auc:0.78447\n",
            "[4]\tvalidation-auc:0.78458\n",
            "[5]\tvalidation-auc:0.78031\n",
            "[6]\tvalidation-auc:0.80300\n",
            "[7]\tvalidation-auc:0.80387\n",
            "[8]\tvalidation-auc:0.80048\n",
            "[9]\tvalidation-auc:0.80140\n"
          ]
        },
        {
          "output_type": "stream",
          "name": "stderr",
          "text": [
            "\u001b[32m[I 2023-03-20 00:03:29,739]\u001b[0m Trial 13 finished with value: 0.7369631901840491 and parameters: {'max_depth': 4, 'learning_rate': 0.05973637061678311, 'n_estimators': 105, 'min_child_weight': 10, 'gamma': 2.8552957783036682e-06, 'subsample': 0.039531288662155176, 'colsample_bytree': 0.4590399482362713, 'reg_alpha': 3.178090275904992e-05, 'reg_lambda': 2.8598426651893054e-07}. Best is trial 2 with value: 0.7756901840490797.\u001b[0m\n"
          ]
        },
        {
          "output_type": "stream",
          "name": "stdout",
          "text": [
            "Trial 13 finished with value: 0.7369631901840491 and parameters: {'max_depth': 4, 'learning_rate': 0.05973637061678311, 'n_estimators': 105, 'min_child_weight': 10, 'gamma': 2.8552957783036682e-06, 'subsample': 0.039531288662155176, 'colsample_bytree': 0.4590399482362713, 'reg_alpha': 3.178090275904992e-05, 'reg_lambda': 2.8598426651893054e-07}. Best is trial 2 with value: 0.7756901840490797.\n",
            "[00:03:29] WARNING: ../src/learner.cc:767: \n",
            "Parameters: { \"n_estimators\", \"use_label_encoder\" } are not used.\n",
            "\n",
            "[0]\tvalidation-auc:0.81718\n",
            "[1]\tvalidation-auc:0.84048\n",
            "[2]\tvalidation-auc:0.85401\n",
            "[3]\tvalidation-auc:0.85740\n",
            "[4]\tvalidation-auc:0.86284\n",
            "[5]\tvalidation-auc:0.86278\n",
            "[6]\tvalidation-auc:0.86145\n",
            "[7]\tvalidation-auc:0.86185\n",
            "[8]\tvalidation-auc:0.86189\n",
            "[9]\tvalidation-auc:0.86453\n"
          ]
        },
        {
          "output_type": "stream",
          "name": "stderr",
          "text": [
            "\u001b[32m[I 2023-03-20 00:03:30,036]\u001b[0m Trial 14 finished with value: 0.7848926380368099 and parameters: {'max_depth': 9, 'learning_rate': 0.22572598663256688, 'n_estimators': 257, 'min_child_weight': 1, 'gamma': 0.8532221749409783, 'subsample': 0.16790414779480284, 'colsample_bytree': 0.9743756793734608, 'reg_alpha': 0.00010110006803162152, 'reg_lambda': 4.618914652799734e-06}. Best is trial 14 with value: 0.7848926380368099.\u001b[0m\n"
          ]
        },
        {
          "output_type": "stream",
          "name": "stdout",
          "text": [
            "Trial 14 finished with value: 0.7848926380368099 and parameters: {'max_depth': 9, 'learning_rate': 0.22572598663256688, 'n_estimators': 257, 'min_child_weight': 1, 'gamma': 0.8532221749409783, 'subsample': 0.16790414779480284, 'colsample_bytree': 0.9743756793734608, 'reg_alpha': 0.00010110006803162152, 'reg_lambda': 4.618914652799734e-06}. Best is trial 14 with value: 0.7848926380368099.\n",
            "[00:03:30] WARNING: ../src/learner.cc:767: \n",
            "Parameters: { \"n_estimators\", \"use_label_encoder\" } are not used.\n",
            "\n",
            "[0]\tvalidation-auc:0.84882\n",
            "[1]\tvalidation-auc:0.86262\n",
            "[2]\tvalidation-auc:0.86504\n",
            "[3]\tvalidation-auc:0.86724\n",
            "[4]\tvalidation-auc:0.87195\n",
            "[5]\tvalidation-auc:0.87390\n",
            "[6]\tvalidation-auc:0.87406\n",
            "[7]\tvalidation-auc:0.87592\n",
            "[8]\tvalidation-auc:0.87633\n",
            "[9]\tvalidation-auc:0.87795\n"
          ]
        },
        {
          "output_type": "stream",
          "name": "stderr",
          "text": [
            "\u001b[32m[I 2023-03-20 00:03:30,320]\u001b[0m Trial 15 finished with value: 0.7971625766871165 and parameters: {'max_depth': 9, 'learning_rate': 0.19019770698954155, 'n_estimators': 383, 'min_child_weight': 4, 'gamma': 0.8997637424895771, 'subsample': 0.2132758367023022, 'colsample_bytree': 0.9906886412073925, 'reg_alpha': 0.0036350134785459167, 'reg_lambda': 3.3766337105692846e-06}. Best is trial 15 with value: 0.7971625766871165.\u001b[0m\n"
          ]
        },
        {
          "output_type": "stream",
          "name": "stdout",
          "text": [
            "Trial 15 finished with value: 0.7971625766871165 and parameters: {'max_depth': 9, 'learning_rate': 0.19019770698954155, 'n_estimators': 383, 'min_child_weight': 4, 'gamma': 0.8997637424895771, 'subsample': 0.2132758367023022, 'colsample_bytree': 0.9906886412073925, 'reg_alpha': 0.0036350134785459167, 'reg_lambda': 3.3766337105692846e-06}. Best is trial 15 with value: 0.7971625766871165.\n",
            "[00:03:30] WARNING: ../src/learner.cc:767: \n",
            "Parameters: { \"n_estimators\", \"use_label_encoder\" } are not used.\n",
            "\n",
            "[0]\tvalidation-auc:0.82664\n",
            "[1]\tvalidation-auc:0.84318\n",
            "[2]\tvalidation-auc:0.85479\n",
            "[3]\tvalidation-auc:0.85975\n",
            "[4]\tvalidation-auc:0.86307\n",
            "[5]\tvalidation-auc:0.86219\n",
            "[6]\tvalidation-auc:0.86581\n",
            "[7]\tvalidation-auc:0.86603\n",
            "[8]\tvalidation-auc:0.86824\n",
            "[9]\tvalidation-auc:0.86839\n"
          ]
        },
        {
          "output_type": "stream",
          "name": "stderr",
          "text": [
            "\u001b[32m[I 2023-03-20 00:03:30,683]\u001b[0m Trial 16 finished with value: 0.7864263803680982 and parameters: {'max_depth': 9, 'learning_rate': 0.18656338018011892, 'n_estimators': 402, 'min_child_weight': 3, 'gamma': 0.812439565312866, 'subsample': 0.2575384020794006, 'colsample_bytree': 0.827817179684757, 'reg_alpha': 0.012549821431367155, 'reg_lambda': 5.6988669757736485e-06}. Best is trial 15 with value: 0.7971625766871165.\u001b[0m\n"
          ]
        },
        {
          "output_type": "stream",
          "name": "stdout",
          "text": [
            "Trial 16 finished with value: 0.7864263803680982 and parameters: {'max_depth': 9, 'learning_rate': 0.18656338018011892, 'n_estimators': 402, 'min_child_weight': 3, 'gamma': 0.812439565312866, 'subsample': 0.2575384020794006, 'colsample_bytree': 0.827817179684757, 'reg_alpha': 0.012549821431367155, 'reg_lambda': 5.6988669757736485e-06}. Best is trial 15 with value: 0.7971625766871165.\n",
            "[00:03:30] WARNING: ../src/learner.cc:767: \n",
            "Parameters: { \"n_estimators\", \"use_label_encoder\" } are not used.\n",
            "\n",
            "[0]\tvalidation-auc:0.54826\n",
            "[1]\tvalidation-auc:0.69313\n",
            "[2]\tvalidation-auc:0.73325\n",
            "[3]\tvalidation-auc:0.73321\n",
            "[4]\tvalidation-auc:0.73278\n",
            "[5]\tvalidation-auc:0.73278\n",
            "[6]\tvalidation-auc:0.73278\n",
            "[7]\tvalidation-auc:0.74542\n",
            "[8]\tvalidation-auc:0.74379\n",
            "[9]\tvalidation-auc:0.74491\n"
          ]
        },
        {
          "output_type": "stream",
          "name": "stderr",
          "text": [
            "\u001b[32m[I 2023-03-20 00:03:30,979]\u001b[0m Trial 17 finished with value: 0.6951687116564417 and parameters: {'max_depth': 9, 'learning_rate': 0.17580857680774648, 'n_estimators': 387, 'min_child_weight': 4, 'gamma': 0.6908890554477334, 'subsample': 0.3913770213137256, 'colsample_bytree': 0.13920253159804616, 'reg_alpha': 0.005536622533917897, 'reg_lambda': 1.5259781813821514e-05}. Best is trial 15 with value: 0.7971625766871165.\u001b[0m\n"
          ]
        },
        {
          "output_type": "stream",
          "name": "stdout",
          "text": [
            "Trial 17 finished with value: 0.6951687116564417 and parameters: {'max_depth': 9, 'learning_rate': 0.17580857680774648, 'n_estimators': 387, 'min_child_weight': 4, 'gamma': 0.6908890554477334, 'subsample': 0.3913770213137256, 'colsample_bytree': 0.13920253159804616, 'reg_alpha': 0.005536622533917897, 'reg_lambda': 1.5259781813821514e-05}. Best is trial 15 with value: 0.7971625766871165.\n",
            "[00:03:31] WARNING: ../src/learner.cc:767: \n",
            "Parameters: { \"n_estimators\", \"use_label_encoder\" } are not used.\n",
            "\n",
            "[0]\tvalidation-auc:0.85680\n",
            "[1]\tvalidation-auc:0.86364\n",
            "[2]\tvalidation-auc:0.86688\n",
            "[3]\tvalidation-auc:0.87160\n",
            "[4]\tvalidation-auc:0.86853\n",
            "[5]\tvalidation-auc:0.86931\n",
            "[6]\tvalidation-auc:0.86862\n",
            "[7]\tvalidation-auc:0.87057\n",
            "[8]\tvalidation-auc:0.87120\n",
            "[9]\tvalidation-auc:0.87196\n"
          ]
        },
        {
          "output_type": "stream",
          "name": "stderr",
          "text": [
            "\u001b[32m[I 2023-03-20 00:03:31,407]\u001b[0m Trial 18 finished with value: 0.7956288343558282 and parameters: {'max_depth': 8, 'learning_rate': 0.45751008964971596, 'n_estimators': 398, 'min_child_weight': 3, 'gamma': 0.10680313297149993, 'subsample': 0.5795011842246938, 'colsample_bytree': 0.9273811469049682, 'reg_alpha': 0.028688816997928312, 'reg_lambda': 3.7480410582864725e-06}. Best is trial 15 with value: 0.7971625766871165.\u001b[0m\n"
          ]
        },
        {
          "output_type": "stream",
          "name": "stdout",
          "text": [
            "Trial 18 finished with value: 0.7956288343558282 and parameters: {'max_depth': 8, 'learning_rate': 0.45751008964971596, 'n_estimators': 398, 'min_child_weight': 3, 'gamma': 0.10680313297149993, 'subsample': 0.5795011842246938, 'colsample_bytree': 0.9273811469049682, 'reg_alpha': 0.028688816997928312, 'reg_lambda': 3.7480410582864725e-06}. Best is trial 15 with value: 0.7971625766871165.\n",
            "[00:03:31] WARNING: ../src/learner.cc:767: \n",
            "Parameters: { \"n_estimators\", \"use_label_encoder\" } are not used.\n",
            "\n",
            "[0]\tvalidation-auc:0.79292\n",
            "[1]\tvalidation-auc:0.83328\n",
            "[2]\tvalidation-auc:0.84557\n",
            "[3]\tvalidation-auc:0.86476\n",
            "[4]\tvalidation-auc:0.86683\n",
            "[5]\tvalidation-auc:0.86559\n",
            "[6]\tvalidation-auc:0.87055\n",
            "[7]\tvalidation-auc:0.86990\n",
            "[8]\tvalidation-auc:0.87146\n",
            "[9]\tvalidation-auc:0.87174\n"
          ]
        },
        {
          "output_type": "stream",
          "name": "stderr",
          "text": [
            "\u001b[32m[I 2023-03-20 00:03:31,948]\u001b[0m Trial 19 finished with value: 0.7868098159509203 and parameters: {'max_depth': 6, 'learning_rate': 0.5566833682636007, 'n_estimators': 415, 'min_child_weight': 5, 'gamma': 0.0027331951690919244, 'subsample': 0.627526467770981, 'colsample_bytree': 0.5514411365978042, 'reg_alpha': 0.9148182486158456, 'reg_lambda': 1.6503776888557352e-06}. Best is trial 15 with value: 0.7971625766871165.\u001b[0m\n"
          ]
        },
        {
          "output_type": "stream",
          "name": "stdout",
          "text": [
            "Trial 19 finished with value: 0.7868098159509203 and parameters: {'max_depth': 6, 'learning_rate': 0.5566833682636007, 'n_estimators': 415, 'min_child_weight': 5, 'gamma': 0.0027331951690919244, 'subsample': 0.627526467770981, 'colsample_bytree': 0.5514411365978042, 'reg_alpha': 0.9148182486158456, 'reg_lambda': 1.6503776888557352e-06}. Best is trial 15 with value: 0.7971625766871165.\n",
            "[00:03:32] WARNING: ../src/learner.cc:767: \n",
            "Parameters: { \"n_estimators\", \"use_label_encoder\" } are not used.\n",
            "\n",
            "[0]\tvalidation-auc:0.75665\n",
            "[1]\tvalidation-auc:0.79753\n",
            "[2]\tvalidation-auc:0.80814\n",
            "[3]\tvalidation-auc:0.80629\n",
            "[4]\tvalidation-auc:0.81152\n",
            "[5]\tvalidation-auc:0.81454\n",
            "[6]\tvalidation-auc:0.81721\n",
            "[7]\tvalidation-auc:0.81934\n",
            "[8]\tvalidation-auc:0.82892\n",
            "[9]\tvalidation-auc:0.83019\n"
          ]
        },
        {
          "output_type": "stream",
          "name": "stderr",
          "text": [
            "\u001b[32m[I 2023-03-20 00:03:32,691]\u001b[0m Trial 20 finished with value: 0.7776073619631901 and parameters: {'max_depth': 8, 'learning_rate': 0.5418803715997932, 'n_estimators': 339, 'min_child_weight': 3, 'gamma': 0.07419596697822294, 'subsample': 0.510492615208349, 'colsample_bytree': 0.2422527676203011, 'reg_alpha': 0.06863976874803088, 'reg_lambda': 7.992991251621592e-05}. Best is trial 15 with value: 0.7971625766871165.\u001b[0m\n"
          ]
        },
        {
          "output_type": "stream",
          "name": "stdout",
          "text": [
            "Trial 20 finished with value: 0.7776073619631901 and parameters: {'max_depth': 8, 'learning_rate': 0.5418803715997932, 'n_estimators': 339, 'min_child_weight': 3, 'gamma': 0.07419596697822294, 'subsample': 0.510492615208349, 'colsample_bytree': 0.2422527676203011, 'reg_alpha': 0.06863976874803088, 'reg_lambda': 7.992991251621592e-05}. Best is trial 15 with value: 0.7971625766871165.\n",
            "[00:03:33] WARNING: ../src/learner.cc:767: \n",
            "Parameters: { \"n_estimators\", \"use_label_encoder\" } are not used.\n",
            "\n",
            "[0]\tvalidation-auc:0.79316\n",
            "[1]\tvalidation-auc:0.83527\n",
            "[2]\tvalidation-auc:0.84518\n",
            "[3]\tvalidation-auc:0.86316\n",
            "[4]\tvalidation-auc:0.86595\n",
            "[5]\tvalidation-auc:0.86681\n",
            "[6]\tvalidation-auc:0.87015\n",
            "[7]\tvalidation-auc:0.87121\n",
            "[8]\tvalidation-auc:0.87314\n",
            "[9]\tvalidation-auc:0.87401\n"
          ]
        },
        {
          "output_type": "stream",
          "name": "stderr",
          "text": [
            "\u001b[32m[I 2023-03-20 00:03:33,322]\u001b[0m Trial 21 finished with value: 0.7898773006134969 and parameters: {'max_depth': 6, 'learning_rate': 0.5084358423442586, 'n_estimators': 414, 'min_child_weight': 5, 'gamma': 0.0018777890201793726, 'subsample': 0.9722441936538263, 'colsample_bytree': 0.5435625629266666, 'reg_alpha': 0.8303887133038533, 'reg_lambda': 1.3368554045748695e-06}. Best is trial 15 with value: 0.7971625766871165.\u001b[0m\n"
          ]
        },
        {
          "output_type": "stream",
          "name": "stdout",
          "text": [
            "Trial 21 finished with value: 0.7898773006134969 and parameters: {'max_depth': 6, 'learning_rate': 0.5084358423442586, 'n_estimators': 414, 'min_child_weight': 5, 'gamma': 0.0018777890201793726, 'subsample': 0.9722441936538263, 'colsample_bytree': 0.5435625629266666, 'reg_alpha': 0.8303887133038533, 'reg_lambda': 1.3368554045748695e-06}. Best is trial 15 with value: 0.7971625766871165.\n",
            "[00:03:33] WARNING: ../src/learner.cc:767: \n",
            "Parameters: { \"n_estimators\", \"use_label_encoder\" } are not used.\n",
            "\n",
            "[0]\tvalidation-auc:0.86114\n",
            "[1]\tvalidation-auc:0.86898\n",
            "[2]\tvalidation-auc:0.87424\n",
            "[3]\tvalidation-auc:0.87048\n",
            "[4]\tvalidation-auc:0.87103\n",
            "[5]\tvalidation-auc:0.87063\n",
            "[6]\tvalidation-auc:0.87089\n",
            "[7]\tvalidation-auc:0.86979\n",
            "[8]\tvalidation-auc:0.87041\n",
            "[9]\tvalidation-auc:0.86987\n"
          ]
        },
        {
          "output_type": "stream",
          "name": "stderr",
          "text": [
            "\u001b[32m[I 2023-03-20 00:03:34,166]\u001b[0m Trial 22 finished with value: 0.7914110429447853 and parameters: {'max_depth': 6, 'learning_rate': 0.9404296258695994, 'n_estimators': 433, 'min_child_weight': 4, 'gamma': 0.09967640739561658, 'subsample': 0.9684938200115083, 'colsample_bytree': 0.9769794729747002, 'reg_alpha': 0.168188505516506, 'reg_lambda': 5.681161636609235e-06}. Best is trial 15 with value: 0.7971625766871165.\u001b[0m\n"
          ]
        },
        {
          "output_type": "stream",
          "name": "stdout",
          "text": [
            "Trial 22 finished with value: 0.7914110429447853 and parameters: {'max_depth': 6, 'learning_rate': 0.9404296258695994, 'n_estimators': 433, 'min_child_weight': 4, 'gamma': 0.09967640739561658, 'subsample': 0.9684938200115083, 'colsample_bytree': 0.9769794729747002, 'reg_alpha': 0.168188505516506, 'reg_lambda': 5.681161636609235e-06}. Best is trial 15 with value: 0.7971625766871165.\n",
            "[00:03:34] WARNING: ../src/learner.cc:767: \n",
            "Parameters: { \"n_estimators\", \"use_label_encoder\" } are not used.\n",
            "\n",
            "[0]\tvalidation-auc:0.85410\n",
            "[1]\tvalidation-auc:0.86588\n",
            "[2]\tvalidation-auc:0.86950\n",
            "[3]\tvalidation-auc:0.87266\n",
            "[4]\tvalidation-auc:0.86947\n",
            "[5]\tvalidation-auc:0.86650\n",
            "[6]\tvalidation-auc:0.86135\n",
            "[7]\tvalidation-auc:0.86284\n",
            "[8]\tvalidation-auc:0.85991\n",
            "[9]\tvalidation-auc:0.85381\n"
          ]
        },
        {
          "output_type": "stream",
          "name": "stderr",
          "text": [
            "\u001b[32m[I 2023-03-20 00:03:34,853]\u001b[0m Trial 23 finished with value: 0.7710889570552147 and parameters: {'max_depth': 8, 'learning_rate': 0.9582582675628298, 'n_estimators': 498, 'min_child_weight': 4, 'gamma': 0.11627245229242607, 'subsample': 0.6267437094831562, 'colsample_bytree': 0.991519133769346, 'reg_alpha': 0.11110590746911811, 'reg_lambda': 1.1420859726153914e-05}. Best is trial 15 with value: 0.7971625766871165.\u001b[0m\n"
          ]
        },
        {
          "output_type": "stream",
          "name": "stdout",
          "text": [
            "Trial 23 finished with value: 0.7710889570552147 and parameters: {'max_depth': 8, 'learning_rate': 0.9582582675628298, 'n_estimators': 498, 'min_child_weight': 4, 'gamma': 0.11627245229242607, 'subsample': 0.6267437094831562, 'colsample_bytree': 0.991519133769346, 'reg_alpha': 0.11110590746911811, 'reg_lambda': 1.1420859726153914e-05}. Best is trial 15 with value: 0.7971625766871165.\n",
            "[00:03:35] WARNING: ../src/learner.cc:767: \n",
            "Parameters: { \"n_estimators\", \"use_label_encoder\" } are not used.\n",
            "\n",
            "[0]\tvalidation-auc:0.77161\n",
            "[1]\tvalidation-auc:0.78315\n",
            "[2]\tvalidation-auc:0.80082\n",
            "[3]\tvalidation-auc:0.79614\n",
            "[4]\tvalidation-auc:0.79667\n",
            "[5]\tvalidation-auc:0.79668\n",
            "[6]\tvalidation-auc:0.80910\n",
            "[7]\tvalidation-auc:0.81565\n",
            "[8]\tvalidation-auc:0.83033\n",
            "[9]\tvalidation-auc:0.82864\n"
          ]
        },
        {
          "output_type": "stream",
          "name": "stderr",
          "text": [
            "\u001b[32m[I 2023-03-20 00:03:35,563]\u001b[0m Trial 24 finished with value: 0.7611196319018405 and parameters: {'max_depth': 7, 'learning_rate': 0.9892325652912035, 'n_estimators': 436, 'min_child_weight': 2, 'gamma': 0.1522872454454136, 'subsample': 0.4084867415580712, 'colsample_bytree': 0.44225564543622864, 'reg_alpha': 0.008534391614056136, 'reg_lambda': 2.317572014314117e-05}. Best is trial 15 with value: 0.7971625766871165.\u001b[0m\n"
          ]
        },
        {
          "output_type": "stream",
          "name": "stdout",
          "text": [
            "Trial 24 finished with value: 0.7611196319018405 and parameters: {'max_depth': 7, 'learning_rate': 0.9892325652912035, 'n_estimators': 436, 'min_child_weight': 2, 'gamma': 0.1522872454454136, 'subsample': 0.4084867415580712, 'colsample_bytree': 0.44225564543622864, 'reg_alpha': 0.008534391614056136, 'reg_lambda': 2.317572014314117e-05}. Best is trial 15 with value: 0.7971625766871165.\n",
            "[00:03:35] WARNING: ../src/learner.cc:767: \n",
            "Parameters: { \"n_estimators\", \"use_label_encoder\" } are not used.\n",
            "\n",
            "[0]\tvalidation-auc:0.80419\n",
            "[1]\tvalidation-auc:0.83233\n",
            "[2]\tvalidation-auc:0.84793\n",
            "[3]\tvalidation-auc:0.86588\n",
            "[4]\tvalidation-auc:0.86807\n",
            "[5]\tvalidation-auc:0.86799\n",
            "[6]\tvalidation-auc:0.87539\n",
            "[7]\tvalidation-auc:0.87586\n",
            "[8]\tvalidation-auc:0.87812\n",
            "[9]\tvalidation-auc:0.87782\n"
          ]
        },
        {
          "output_type": "stream",
          "name": "stderr",
          "text": [
            "\u001b[32m[I 2023-03-20 00:03:36,211]\u001b[0m Trial 25 finished with value: 0.7963957055214724 and parameters: {'max_depth': 5, 'learning_rate': 0.4444104641169923, 'n_estimators': 361, 'min_child_weight': 6, 'gamma': 0.01718103407672879, 'subsample': 0.9700897585672137, 'colsample_bytree': 0.6779434261751218, 'reg_alpha': 0.20133362891077963, 'reg_lambda': 2.416261534421539e-06}. Best is trial 15 with value: 0.7971625766871165.\u001b[0m\n"
          ]
        },
        {
          "output_type": "stream",
          "name": "stdout",
          "text": [
            "Trial 25 finished with value: 0.7963957055214724 and parameters: {'max_depth': 5, 'learning_rate': 0.4444104641169923, 'n_estimators': 361, 'min_child_weight': 6, 'gamma': 0.01718103407672879, 'subsample': 0.9700897585672137, 'colsample_bytree': 0.6779434261751218, 'reg_alpha': 0.20133362891077963, 'reg_lambda': 2.416261534421539e-06}. Best is trial 15 with value: 0.7971625766871165.\n",
            "[00:03:36] WARNING: ../src/learner.cc:767: \n",
            "Parameters: { \"n_estimators\", \"use_label_encoder\" } are not used.\n",
            "\n",
            "[0]\tvalidation-auc:0.81655\n",
            "[1]\tvalidation-auc:0.85114\n",
            "[2]\tvalidation-auc:0.86012\n",
            "[3]\tvalidation-auc:0.86748\n",
            "[4]\tvalidation-auc:0.87045\n",
            "[5]\tvalidation-auc:0.87104\n",
            "[6]\tvalidation-auc:0.87308\n",
            "[7]\tvalidation-auc:0.87391\n",
            "[8]\tvalidation-auc:0.87372\n",
            "[9]\tvalidation-auc:0.87375\n"
          ]
        },
        {
          "output_type": "stream",
          "name": "stderr",
          "text": [
            "\u001b[32m[I 2023-03-20 00:03:36,593]\u001b[0m Trial 26 finished with value: 0.7956288343558282 and parameters: {'max_depth': 5, 'learning_rate': 0.41337660235315576, 'n_estimators': 359, 'min_child_weight': 6, 'gamma': 0.017600567258844735, 'subsample': 0.6587268284452114, 'colsample_bytree': 0.7164147444501298, 'reg_alpha': 0.027838220305515797, 'reg_lambda': 9.479622719198053e-08}. Best is trial 15 with value: 0.7971625766871165.\u001b[0m\n"
          ]
        },
        {
          "output_type": "stream",
          "name": "stdout",
          "text": [
            "Trial 26 finished with value: 0.7956288343558282 and parameters: {'max_depth': 5, 'learning_rate': 0.41337660235315576, 'n_estimators': 359, 'min_child_weight': 6, 'gamma': 0.017600567258844735, 'subsample': 0.6587268284452114, 'colsample_bytree': 0.7164147444501298, 'reg_alpha': 0.027838220305515797, 'reg_lambda': 9.479622719198053e-08}. Best is trial 15 with value: 0.7971625766871165.\n",
            "[00:03:36] WARNING: ../src/learner.cc:767: \n",
            "Parameters: { \"n_estimators\", \"use_label_encoder\" } are not used.\n",
            "\n",
            "[0]\tvalidation-auc:0.79796\n",
            "[1]\tvalidation-auc:0.82959\n",
            "[2]\tvalidation-auc:0.84051\n",
            "[3]\tvalidation-auc:0.85725\n",
            "[4]\tvalidation-auc:0.85873\n",
            "[5]\tvalidation-auc:0.85895\n",
            "[6]\tvalidation-auc:0.86489\n",
            "[7]\tvalidation-auc:0.86647\n",
            "[8]\tvalidation-auc:0.86842\n",
            "[9]\tvalidation-auc:0.87105\n"
          ]
        },
        {
          "output_type": "stream",
          "name": "stderr",
          "text": [
            "\u001b[32m[I 2023-03-20 00:03:36,895]\u001b[0m Trial 27 finished with value: 0.7983128834355828 and parameters: {'max_depth': 5, 'learning_rate': 0.2308896304085143, 'n_estimators': 303, 'min_child_weight': 7, 'gamma': 0.2571914674377898, 'subsample': 0.3776107573223694, 'colsample_bytree': 0.6350244311565505, 'reg_alpha': 0.0029785510236587146, 'reg_lambda': 1.0302826910624866e-06}. Best is trial 27 with value: 0.7983128834355828.\u001b[0m\n"
          ]
        },
        {
          "output_type": "stream",
          "name": "stdout",
          "text": [
            "Trial 27 finished with value: 0.7983128834355828 and parameters: {'max_depth': 5, 'learning_rate': 0.2308896304085143, 'n_estimators': 303, 'min_child_weight': 7, 'gamma': 0.2571914674377898, 'subsample': 0.3776107573223694, 'colsample_bytree': 0.6350244311565505, 'reg_alpha': 0.0029785510236587146, 'reg_lambda': 1.0302826910624866e-06}. Best is trial 27 with value: 0.7983128834355828.\n",
            "[00:03:37] WARNING: ../src/learner.cc:767: \n",
            "Parameters: { \"n_estimators\", \"use_label_encoder\" } are not used.\n",
            "\n",
            "[0]\tvalidation-auc:0.75884\n",
            "[1]\tvalidation-auc:0.80214\n",
            "[2]\tvalidation-auc:0.82164\n",
            "[3]\tvalidation-auc:0.82303\n",
            "[4]\tvalidation-auc:0.82242\n",
            "[5]\tvalidation-auc:0.82548\n",
            "[6]\tvalidation-auc:0.84140\n",
            "[7]\tvalidation-auc:0.84416\n",
            "[8]\tvalidation-auc:0.85212\n",
            "[9]\tvalidation-auc:0.85280\n"
          ]
        },
        {
          "output_type": "stream",
          "name": "stderr",
          "text": [
            "\u001b[32m[I 2023-03-20 00:03:37,237]\u001b[0m Trial 28 finished with value: 0.7756901840490797 and parameters: {'max_depth': 4, 'learning_rate': 0.20992366354622516, 'n_estimators': 302, 'min_child_weight': 7, 'gamma': 0.34642640254073087, 'subsample': 0.3587890500060107, 'colsample_bytree': 0.3789512822966672, 'reg_alpha': 0.0021695621492178376, 'reg_lambda': 8.043399789241671e-07}. Best is trial 27 with value: 0.7983128834355828.\u001b[0m\n"
          ]
        },
        {
          "output_type": "stream",
          "name": "stdout",
          "text": [
            "Trial 28 finished with value: 0.7756901840490797 and parameters: {'max_depth': 4, 'learning_rate': 0.20992366354622516, 'n_estimators': 302, 'min_child_weight': 7, 'gamma': 0.34642640254073087, 'subsample': 0.3587890500060107, 'colsample_bytree': 0.3789512822966672, 'reg_alpha': 0.0021695621492178376, 'reg_lambda': 8.043399789241671e-07}. Best is trial 27 with value: 0.7983128834355828.\n",
            "[00:03:37] WARNING: ../src/learner.cc:767: \n",
            "Parameters: { \"n_estimators\", \"use_label_encoder\" } are not used.\n",
            "\n",
            "[0]\tvalidation-auc:0.76290\n",
            "[1]\tvalidation-auc:0.79079\n",
            "[2]\tvalidation-auc:0.80784\n",
            "[3]\tvalidation-auc:0.81536\n",
            "[4]\tvalidation-auc:0.81517\n",
            "[5]\tvalidation-auc:0.81807\n",
            "[6]\tvalidation-auc:0.83521\n",
            "[7]\tvalidation-auc:0.84088\n",
            "[8]\tvalidation-auc:0.84664\n",
            "[9]\tvalidation-auc:0.84743\n"
          ]
        },
        {
          "output_type": "stream",
          "name": "stderr",
          "text": [
            "\u001b[32m[I 2023-03-20 00:03:37,608]\u001b[0m Trial 29 finished with value: 0.7741564417177914 and parameters: {'max_depth': 3, 'learning_rate': 0.23017871104206944, 'n_estimators': 289, 'min_child_weight': 6, 'gamma': 0.0212219009966853, 'subsample': 0.1859415670940845, 'colsample_bytree': 0.312363907374495, 'reg_alpha': 0.002010097750599232, 'reg_lambda': 1.369237378627246e-07}. Best is trial 27 with value: 0.7983128834355828.\u001b[0m\n"
          ]
        },
        {
          "output_type": "stream",
          "name": "stdout",
          "text": [
            "Trial 29 finished with value: 0.7741564417177914 and parameters: {'max_depth': 3, 'learning_rate': 0.23017871104206944, 'n_estimators': 289, 'min_child_weight': 6, 'gamma': 0.0212219009966853, 'subsample': 0.1859415670940845, 'colsample_bytree': 0.312363907374495, 'reg_alpha': 0.002010097750599232, 'reg_lambda': 1.369237378627246e-07}. Best is trial 27 with value: 0.7983128834355828.\n",
            "[00:03:37] WARNING: ../src/learner.cc:767: \n",
            "Parameters: { \"n_estimators\", \"use_label_encoder\" } are not used.\n",
            "\n",
            "[0]\tvalidation-auc:0.79900\n",
            "[1]\tvalidation-auc:0.82642\n",
            "[2]\tvalidation-auc:0.84011\n",
            "[3]\tvalidation-auc:0.85476\n",
            "[4]\tvalidation-auc:0.85716\n",
            "[5]\tvalidation-auc:0.85697\n",
            "[6]\tvalidation-auc:0.86406\n",
            "[7]\tvalidation-auc:0.86606\n",
            "[8]\tvalidation-auc:0.86838\n",
            "[9]\tvalidation-auc:0.86856\n"
          ]
        },
        {
          "output_type": "stream",
          "name": "stderr",
          "text": [
            "\u001b[32m[I 2023-03-20 00:03:37,996]\u001b[0m Trial 30 finished with value: 0.7933282208588958 and parameters: {'max_depth': 5, 'learning_rate': 0.24872033797205764, 'n_estimators': 328, 'min_child_weight': 7, 'gamma': 0.26946350853707673, 'subsample': 0.45048934807295077, 'colsample_bytree': 0.6356317816437987, 'reg_alpha': 0.0003548932888669694, 'reg_lambda': 2.6920959093398163e-07}. Best is trial 27 with value: 0.7983128834355828.\u001b[0m\n"
          ]
        },
        {
          "output_type": "stream",
          "name": "stdout",
          "text": [
            "Trial 30 finished with value: 0.7933282208588958 and parameters: {'max_depth': 5, 'learning_rate': 0.24872033797205764, 'n_estimators': 328, 'min_child_weight': 7, 'gamma': 0.26946350853707673, 'subsample': 0.45048934807295077, 'colsample_bytree': 0.6356317816437987, 'reg_alpha': 0.0003548932888669694, 'reg_lambda': 2.6920959093398163e-07}. Best is trial 27 with value: 0.7983128834355828.\n",
            "[00:03:38] WARNING: ../src/learner.cc:767: \n",
            "Parameters: { \"n_estimators\", \"use_label_encoder\" } are not used.\n",
            "\n",
            "[0]\tvalidation-auc:0.79171\n",
            "[1]\tvalidation-auc:0.80628\n",
            "[2]\tvalidation-auc:0.82745\n",
            "[3]\tvalidation-auc:0.82903\n",
            "[4]\tvalidation-auc:0.83263\n",
            "[5]\tvalidation-auc:0.83389\n",
            "[6]\tvalidation-auc:0.84724\n",
            "[7]\tvalidation-auc:0.84996\n",
            "[8]\tvalidation-auc:0.85967\n",
            "[9]\tvalidation-auc:0.86025\n"
          ]
        },
        {
          "output_type": "stream",
          "name": "stderr",
          "text": [
            "\u001b[32m[I 2023-03-20 00:03:38,372]\u001b[0m Trial 31 finished with value: 0.7822085889570553 and parameters: {'max_depth': 4, 'learning_rate': 0.39038253190958816, 'n_estimators': 373, 'min_child_weight': 8, 'gamma': 0.05228968594800335, 'subsample': 0.6632086660360375, 'colsample_bytree': 0.45818879982819094, 'reg_alpha': 0.013427535936148755, 'reg_lambda': 2.849879298959834e-06}. Best is trial 27 with value: 0.7983128834355828.\u001b[0m\n"
          ]
        },
        {
          "output_type": "stream",
          "name": "stdout",
          "text": [
            "Trial 31 finished with value: 0.7822085889570553 and parameters: {'max_depth': 4, 'learning_rate': 0.39038253190958816, 'n_estimators': 373, 'min_child_weight': 8, 'gamma': 0.05228968594800335, 'subsample': 0.6632086660360375, 'colsample_bytree': 0.45818879982819094, 'reg_alpha': 0.013427535936148755, 'reg_lambda': 2.849879298959834e-06}. Best is trial 27 with value: 0.7983128834355828.\n",
            "[00:03:38] WARNING: ../src/learner.cc:767: \n",
            "Parameters: { \"n_estimators\", \"use_label_encoder\" } are not used.\n",
            "\n",
            "[0]\tvalidation-auc:0.82189\n",
            "[1]\tvalidation-auc:0.84890\n",
            "[2]\tvalidation-auc:0.85922\n",
            "[3]\tvalidation-auc:0.86771\n",
            "[4]\tvalidation-auc:0.86882\n",
            "[5]\tvalidation-auc:0.86912\n",
            "[6]\tvalidation-auc:0.87117\n",
            "[7]\tvalidation-auc:0.87351\n",
            "[8]\tvalidation-auc:0.87418\n",
            "[9]\tvalidation-auc:0.87433\n"
          ]
        },
        {
          "output_type": "stream",
          "name": "stderr",
          "text": [
            "\u001b[32m[I 2023-03-20 00:03:38,803]\u001b[0m Trial 32 finished with value: 0.7906441717791411 and parameters: {'max_depth': 5, 'learning_rate': 0.30789273790155347, 'n_estimators': 350, 'min_child_weight': 5, 'gamma': 0.302595099017632, 'subsample': 0.508165099500711, 'colsample_bytree': 0.6947338915476672, 'reg_alpha': 0.02785578610341939, 'reg_lambda': 1.1113362180456821e-06}. Best is trial 27 with value: 0.7983128834355828.\u001b[0m\n"
          ]
        },
        {
          "output_type": "stream",
          "name": "stdout",
          "text": [
            "Trial 32 finished with value: 0.7906441717791411 and parameters: {'max_depth': 5, 'learning_rate': 0.30789273790155347, 'n_estimators': 350, 'min_child_weight': 5, 'gamma': 0.302595099017632, 'subsample': 0.508165099500711, 'colsample_bytree': 0.6947338915476672, 'reg_alpha': 0.02785578610341939, 'reg_lambda': 1.1113362180456821e-06}. Best is trial 27 with value: 0.7983128834355828.\n",
            "[00:03:38] WARNING: ../src/learner.cc:767: \n",
            "Parameters: { \"n_estimators\", \"use_label_encoder\" } are not used.\n",
            "\n",
            "[0]\tvalidation-auc:0.72371\n",
            "[1]\tvalidation-auc:0.72924\n",
            "[2]\tvalidation-auc:0.75271\n",
            "[3]\tvalidation-auc:0.78233\n",
            "[4]\tvalidation-auc:0.79405\n",
            "[5]\tvalidation-auc:0.80726\n",
            "[6]\tvalidation-auc:0.80832\n",
            "[7]\tvalidation-auc:0.81439\n",
            "[8]\tvalidation-auc:0.82101\n",
            "[9]\tvalidation-auc:0.82414\n"
          ]
        },
        {
          "output_type": "stream",
          "name": "stderr",
          "text": [
            "\u001b[32m[I 2023-03-20 00:03:39,089]\u001b[0m Trial 33 finished with value: 0.786042944785276 and parameters: {'max_depth': 1, 'learning_rate': 0.399602099901575, 'n_estimators': 389, 'min_child_weight': 2, 'gamma': 0.03348469608480983, 'subsample': 0.32409678582558665, 'colsample_bytree': 0.5621898228297476, 'reg_alpha': 0.2588265568952572, 'reg_lambda': 3.0030590574465275e-06}. Best is trial 27 with value: 0.7983128834355828.\u001b[0m\n"
          ]
        },
        {
          "output_type": "stream",
          "name": "stdout",
          "text": [
            "Trial 33 finished with value: 0.786042944785276 and parameters: {'max_depth': 1, 'learning_rate': 0.399602099901575, 'n_estimators': 389, 'min_child_weight': 2, 'gamma': 0.03348469608480983, 'subsample': 0.32409678582558665, 'colsample_bytree': 0.5621898228297476, 'reg_alpha': 0.2588265568952572, 'reg_lambda': 3.0030590574465275e-06}. Best is trial 27 with value: 0.7983128834355828.\n",
            "[00:03:39] WARNING: ../src/learner.cc:767: \n",
            "Parameters: { \"n_estimators\", \"use_label_encoder\" } are not used.\n",
            "\n",
            "[0]\tvalidation-auc:0.84307\n",
            "[1]\tvalidation-auc:0.85766\n",
            "[2]\tvalidation-auc:0.86729\n",
            "[3]\tvalidation-auc:0.87164\n",
            "[4]\tvalidation-auc:0.87349\n",
            "[5]\tvalidation-auc:0.87383\n",
            "[6]\tvalidation-auc:0.87558\n",
            "[7]\tvalidation-auc:0.87545\n",
            "[8]\tvalidation-auc:0.87614\n",
            "[9]\tvalidation-auc:0.87707\n"
          ]
        },
        {
          "output_type": "stream",
          "name": "stderr",
          "text": [
            "\u001b[32m[I 2023-03-20 00:03:39,426]\u001b[0m Trial 34 finished with value: 0.8009969325153374 and parameters: {'max_depth': 8, 'learning_rate': 0.2852754647442645, 'n_estimators': 314, 'min_child_weight': 8, 'gamma': 0.20945962282582262, 'subsample': 0.7791481916906755, 'colsample_bytree': 0.823917024707019, 'reg_alpha': 0.027464208104060226, 'reg_lambda': 7.813234307762307e-08}. Best is trial 34 with value: 0.8009969325153374.\u001b[0m\n"
          ]
        },
        {
          "output_type": "stream",
          "name": "stdout",
          "text": [
            "Trial 34 finished with value: 0.8009969325153374 and parameters: {'max_depth': 8, 'learning_rate': 0.2852754647442645, 'n_estimators': 314, 'min_child_weight': 8, 'gamma': 0.20945962282582262, 'subsample': 0.7791481916906755, 'colsample_bytree': 0.823917024707019, 'reg_alpha': 0.027464208104060226, 'reg_lambda': 7.813234307762307e-08}. Best is trial 34 with value: 0.8009969325153374.\n",
            "[00:03:39] WARNING: ../src/learner.cc:767: \n",
            "Parameters: { \"n_estimators\", \"use_label_encoder\" } are not used.\n",
            "\n",
            "[0]\tvalidation-auc:0.81670\n",
            "[1]\tvalidation-auc:0.84947\n",
            "[2]\tvalidation-auc:0.86149\n",
            "[3]\tvalidation-auc:0.86773\n",
            "[4]\tvalidation-auc:0.86803\n",
            "[5]\tvalidation-auc:0.87149\n",
            "[6]\tvalidation-auc:0.87493\n",
            "[7]\tvalidation-auc:0.87648\n",
            "[8]\tvalidation-auc:0.87680\n",
            "[9]\tvalidation-auc:0.87736\n"
          ]
        },
        {
          "output_type": "stream",
          "name": "stderr",
          "text": [
            "\u001b[32m[I 2023-03-20 00:03:39,838]\u001b[0m Trial 35 finished with value: 0.7906441717791411 and parameters: {'max_depth': 5, 'learning_rate': 0.30500331332873754, 'n_estimators': 257, 'min_child_weight': 8, 'gamma': 0.9863005218225342, 'subsample': 0.7521187338476736, 'colsample_bytree': 0.6976923173779798, 'reg_alpha': 0.0023561961477648187, 'reg_lambda': 3.881230540259118e-08}. Best is trial 34 with value: 0.8009969325153374.\u001b[0m\n"
          ]
        },
        {
          "output_type": "stream",
          "name": "stdout",
          "text": [
            "Trial 35 finished with value: 0.7906441717791411 and parameters: {'max_depth': 5, 'learning_rate': 0.30500331332873754, 'n_estimators': 257, 'min_child_weight': 8, 'gamma': 0.9863005218225342, 'subsample': 0.7521187338476736, 'colsample_bytree': 0.6976923173779798, 'reg_alpha': 0.0023561961477648187, 'reg_lambda': 3.881230540259118e-08}. Best is trial 34 with value: 0.8009969325153374.\n",
            "[00:03:40] WARNING: ../src/learner.cc:767: \n",
            "Parameters: { \"n_estimators\", \"use_label_encoder\" } are not used.\n",
            "\n",
            "[0]\tvalidation-auc:0.79204\n",
            "[1]\tvalidation-auc:0.80604\n",
            "[2]\tvalidation-auc:0.83105\n",
            "[3]\tvalidation-auc:0.83054\n",
            "[4]\tvalidation-auc:0.83284\n",
            "[5]\tvalidation-auc:0.83343\n",
            "[6]\tvalidation-auc:0.84491\n",
            "[7]\tvalidation-auc:0.84825\n",
            "[8]\tvalidation-auc:0.85335\n",
            "[9]\tvalidation-auc:0.85274\n"
          ]
        },
        {
          "output_type": "stream",
          "name": "stderr",
          "text": [
            "\u001b[32m[I 2023-03-20 00:03:40,357]\u001b[0m Trial 36 finished with value: 0.7802914110429447 and parameters: {'max_depth': 9, 'learning_rate': 0.16348243861553943, 'n_estimators': 225, 'min_child_weight': 9, 'gamma': 0.24463859657647208, 'subsample': 0.73719991777121, 'colsample_bytree': 0.4193418681178696, 'reg_alpha': 0.040293832082234096, 'reg_lambda': 2.992623505452997e-07}. Best is trial 34 with value: 0.8009969325153374.\u001b[0m\n"
          ]
        },
        {
          "output_type": "stream",
          "name": "stdout",
          "text": [
            "Trial 36 finished with value: 0.7802914110429447 and parameters: {'max_depth': 9, 'learning_rate': 0.16348243861553943, 'n_estimators': 225, 'min_child_weight': 9, 'gamma': 0.24463859657647208, 'subsample': 0.73719991777121, 'colsample_bytree': 0.4193418681178696, 'reg_alpha': 0.040293832082234096, 'reg_lambda': 2.992623505452997e-07}. Best is trial 34 with value: 0.8009969325153374.\n",
            "[00:03:40] WARNING: ../src/learner.cc:767: \n",
            "Parameters: { \"n_estimators\", \"use_label_encoder\" } are not used.\n",
            "\n",
            "[0]\tvalidation-auc:0.82822\n",
            "[1]\tvalidation-auc:0.85682\n",
            "[2]\tvalidation-auc:0.86471\n",
            "[3]\tvalidation-auc:0.87015\n",
            "[4]\tvalidation-auc:0.87073\n",
            "[5]\tvalidation-auc:0.87216\n",
            "[6]\tvalidation-auc:0.87315\n",
            "[7]\tvalidation-auc:0.87378\n",
            "[8]\tvalidation-auc:0.87565\n",
            "[9]\tvalidation-auc:0.87484\n"
          ]
        },
        {
          "output_type": "stream",
          "name": "stderr",
          "text": [
            "\u001b[32m[I 2023-03-20 00:03:40,757]\u001b[0m Trial 37 finished with value: 0.7937116564417178 and parameters: {'max_depth': 6, 'learning_rate': 0.6603008813436114, 'n_estimators': 320, 'min_child_weight': 8, 'gamma': 0.03889257731428669, 'subsample': 0.51607845730362, 'colsample_bytree': 0.7410324857458428, 'reg_alpha': 0.31672486320838555, 'reg_lambda': 4.456249194364687e-08}. Best is trial 34 with value: 0.8009969325153374.\u001b[0m\n"
          ]
        },
        {
          "output_type": "stream",
          "name": "stdout",
          "text": [
            "Trial 37 finished with value: 0.7937116564417178 and parameters: {'max_depth': 6, 'learning_rate': 0.6603008813436114, 'n_estimators': 320, 'min_child_weight': 8, 'gamma': 0.03889257731428669, 'subsample': 0.51607845730362, 'colsample_bytree': 0.7410324857458428, 'reg_alpha': 0.31672486320838555, 'reg_lambda': 4.456249194364687e-08}. Best is trial 34 with value: 0.8009969325153374.\n",
            "[00:03:40] WARNING: ../src/learner.cc:767: \n",
            "Parameters: { \"n_estimators\", \"use_label_encoder\" } are not used.\n",
            "\n",
            "[0]\tvalidation-auc:0.79265\n",
            "[1]\tvalidation-auc:0.82144\n",
            "[2]\tvalidation-auc:0.83230\n",
            "[3]\tvalidation-auc:0.84717\n",
            "[4]\tvalidation-auc:0.85440\n",
            "[5]\tvalidation-auc:0.85479\n",
            "[6]\tvalidation-auc:0.85791\n",
            "[7]\tvalidation-auc:0.85995\n",
            "[8]\tvalidation-auc:0.86426\n",
            "[9]\tvalidation-auc:0.86405\n"
          ]
        },
        {
          "output_type": "stream",
          "name": "stderr",
          "text": [
            "\u001b[32m[I 2023-03-20 00:03:41,161]\u001b[0m Trial 38 finished with value: 0.786042944785276 and parameters: {'max_depth': 8, 'learning_rate': 0.2517741556846866, 'n_estimators': 266, 'min_child_weight': 6, 'gamma': 0.30303020305560097, 'subsample': 0.7913108458477747, 'colsample_bytree': 0.5337101107401369, 'reg_alpha': 0.009596395034780469, 'reg_lambda': 4.34350464150218e-07}. Best is trial 34 with value: 0.8009969325153374.\u001b[0m\n"
          ]
        },
        {
          "output_type": "stream",
          "name": "stdout",
          "text": [
            "Trial 38 finished with value: 0.786042944785276 and parameters: {'max_depth': 8, 'learning_rate': 0.2517741556846866, 'n_estimators': 266, 'min_child_weight': 6, 'gamma': 0.30303020305560097, 'subsample': 0.7913108458477747, 'colsample_bytree': 0.5337101107401369, 'reg_alpha': 0.009596395034780469, 'reg_lambda': 4.34350464150218e-07}. Best is trial 34 with value: 0.8009969325153374.\n",
            "[00:03:41] WARNING: ../src/learner.cc:767: \n",
            "Parameters: { \"n_estimators\", \"use_label_encoder\" } are not used.\n",
            "\n",
            "[0]\tvalidation-auc:0.75487\n",
            "[1]\tvalidation-auc:0.79910\n",
            "[2]\tvalidation-auc:0.82155\n",
            "[3]\tvalidation-auc:0.81955\n",
            "[4]\tvalidation-auc:0.82110\n",
            "[5]\tvalidation-auc:0.82316\n",
            "[6]\tvalidation-auc:0.83849\n",
            "[7]\tvalidation-auc:0.84301\n",
            "[8]\tvalidation-auc:0.85164\n",
            "[9]\tvalidation-auc:0.85280\n"
          ]
        },
        {
          "output_type": "stream",
          "name": "stderr",
          "text": [
            "\u001b[32m[I 2023-03-20 00:03:41,592]\u001b[0m Trial 39 finished with value: 0.7772239263803681 and parameters: {'max_depth': 7, 'learning_rate': 0.33535336624314765, 'n_estimators': 148, 'min_child_weight': 8, 'gamma': 0.009566275901830956, 'subsample': 0.32857658794860534, 'colsample_bytree': 0.33353582950790606, 'reg_alpha': 0.2836373161856247, 'reg_lambda': 8.186901033721131e-08}. Best is trial 34 with value: 0.8009969325153374.\u001b[0m\n"
          ]
        },
        {
          "output_type": "stream",
          "name": "stdout",
          "text": [
            "Trial 39 finished with value: 0.7772239263803681 and parameters: {'max_depth': 7, 'learning_rate': 0.33535336624314765, 'n_estimators': 148, 'min_child_weight': 8, 'gamma': 0.009566275901830956, 'subsample': 0.32857658794860534, 'colsample_bytree': 0.33353582950790606, 'reg_alpha': 0.2836373161856247, 'reg_lambda': 8.186901033721131e-08}. Best is trial 34 with value: 0.8009969325153374.\n",
            "[00:03:41] WARNING: ../src/learner.cc:767: \n",
            "Parameters: { \"n_estimators\", \"use_label_encoder\" } are not used.\n",
            "\n",
            "[0]\tvalidation-auc:0.79990\n",
            "[1]\tvalidation-auc:0.82779\n",
            "[2]\tvalidation-auc:0.84481\n",
            "[3]\tvalidation-auc:0.85248\n",
            "[4]\tvalidation-auc:0.85867\n",
            "[5]\tvalidation-auc:0.86177\n",
            "[6]\tvalidation-auc:0.86361\n",
            "[7]\tvalidation-auc:0.86467\n",
            "[8]\tvalidation-auc:0.86871\n",
            "[9]\tvalidation-auc:0.87046\n"
          ]
        },
        {
          "output_type": "stream",
          "name": "stderr",
          "text": [
            "\u001b[32m[I 2023-03-20 00:03:42,143]\u001b[0m Trial 40 finished with value: 0.7921779141104295 and parameters: {'max_depth': 3, 'learning_rate': 0.3934386227170577, 'n_estimators': 290, 'min_child_weight': 9, 'gamma': 0.0375099563134928, 'subsample': 0.4567949106805444, 'colsample_bytree': 0.7566877678810249, 'reg_alpha': 0.0008344658499680538, 'reg_lambda': 2.1582600159586343e-07}. Best is trial 34 with value: 0.8009969325153374.\u001b[0m\n"
          ]
        },
        {
          "output_type": "stream",
          "name": "stdout",
          "text": [
            "Trial 40 finished with value: 0.7921779141104295 and parameters: {'max_depth': 3, 'learning_rate': 0.3934386227170577, 'n_estimators': 290, 'min_child_weight': 9, 'gamma': 0.0375099563134928, 'subsample': 0.4567949106805444, 'colsample_bytree': 0.7566877678810249, 'reg_alpha': 0.0008344658499680538, 'reg_lambda': 2.1582600159586343e-07}. Best is trial 34 with value: 0.8009969325153374.\n",
            "[00:03:42] WARNING: ../src/learner.cc:767: \n",
            "Parameters: { \"n_estimators\", \"use_label_encoder\" } are not used.\n",
            "\n",
            "[0]\tvalidation-auc:0.86325\n",
            "[1]\tvalidation-auc:0.86988\n",
            "[2]\tvalidation-auc:0.87428\n",
            "[3]\tvalidation-auc:0.87578\n",
            "[4]\tvalidation-auc:0.87572\n",
            "[5]\tvalidation-auc:0.87640\n",
            "[6]\tvalidation-auc:0.87680\n",
            "[7]\tvalidation-auc:0.87753\n",
            "[8]\tvalidation-auc:0.87737\n",
            "[9]\tvalidation-auc:0.87671\n"
          ]
        },
        {
          "output_type": "stream",
          "name": "stderr",
          "text": [
            "\u001b[32m[I 2023-03-20 00:03:42,630]\u001b[0m Trial 41 finished with value: 0.799079754601227 and parameters: {'max_depth': 8, 'learning_rate': 0.47812739973120133, 'n_estimators': 370, 'min_child_weight': 7, 'gamma': 0.13359726236154285, 'subsample': 0.9930281190602337, 'colsample_bytree': 0.9811335571162535, 'reg_alpha': 0.05175627987015477, 'reg_lambda': 9.637328007717086e-07}. Best is trial 34 with value: 0.8009969325153374.\u001b[0m\n"
          ]
        },
        {
          "output_type": "stream",
          "name": "stdout",
          "text": [
            "Trial 41 finished with value: 0.799079754601227 and parameters: {'max_depth': 8, 'learning_rate': 0.47812739973120133, 'n_estimators': 370, 'min_child_weight': 7, 'gamma': 0.13359726236154285, 'subsample': 0.9930281190602337, 'colsample_bytree': 0.9811335571162535, 'reg_alpha': 0.05175627987015477, 'reg_lambda': 9.637328007717086e-07}. Best is trial 34 with value: 0.8009969325153374.\n",
            "[00:03:42] WARNING: ../src/learner.cc:767: \n",
            "Parameters: { \"n_estimators\", \"use_label_encoder\" } are not used.\n",
            "\n",
            "[0]\tvalidation-auc:0.78867\n",
            "[1]\tvalidation-auc:0.83295\n",
            "[2]\tvalidation-auc:0.84287\n",
            "[3]\tvalidation-auc:0.85909\n",
            "[4]\tvalidation-auc:0.86157\n",
            "[5]\tvalidation-auc:0.86074\n",
            "[6]\tvalidation-auc:0.86579\n",
            "[7]\tvalidation-auc:0.86895\n",
            "[8]\tvalidation-auc:0.87277\n",
            "[9]\tvalidation-auc:0.87374\n"
          ]
        },
        {
          "output_type": "stream",
          "name": "stderr",
          "text": [
            "\u001b[32m[I 2023-03-20 00:03:43,136]\u001b[0m Trial 42 finished with value: 0.790260736196319 and parameters: {'max_depth': 8, 'learning_rate': 0.28548513135753656, 'n_estimators': 371, 'min_child_weight': 7, 'gamma': 0.11684445969138092, 'subsample': 0.9616333708059588, 'colsample_bytree': 0.6085631775772442, 'reg_alpha': 0.08073236935794734, 'reg_lambda': 6.850664683207989e-07}. Best is trial 34 with value: 0.8009969325153374.\u001b[0m\n"
          ]
        },
        {
          "output_type": "stream",
          "name": "stdout",
          "text": [
            "Trial 42 finished with value: 0.790260736196319 and parameters: {'max_depth': 8, 'learning_rate': 0.28548513135753656, 'n_estimators': 371, 'min_child_weight': 7, 'gamma': 0.11684445969138092, 'subsample': 0.9616333708059588, 'colsample_bytree': 0.6085631775772442, 'reg_alpha': 0.08073236935794734, 'reg_lambda': 6.850664683207989e-07}. Best is trial 34 with value: 0.8009969325153374.\n",
            "[00:03:43] WARNING: ../src/learner.cc:767: \n",
            "Parameters: { \"n_estimators\", \"use_label_encoder\" } are not used.\n",
            "\n",
            "[0]\tvalidation-auc:0.84265\n",
            "[1]\tvalidation-auc:0.85580\n",
            "[2]\tvalidation-auc:0.86596\n",
            "[3]\tvalidation-auc:0.86886\n",
            "[4]\tvalidation-auc:0.86898\n",
            "[5]\tvalidation-auc:0.86987\n",
            "[6]\tvalidation-auc:0.87044\n",
            "[7]\tvalidation-auc:0.86749\n",
            "[8]\tvalidation-auc:0.86599\n",
            "[9]\tvalidation-auc:0.86655\n"
          ]
        },
        {
          "output_type": "stream",
          "name": "stderr",
          "text": [
            "\u001b[32m[I 2023-03-20 00:03:43,594]\u001b[0m Trial 43 finished with value: 0.7883435582822086 and parameters: {'max_depth': 9, 'learning_rate': 0.6368264854435939, 'n_estimators': 315, 'min_child_weight': 6, 'gamma': 0.4771429971030246, 'subsample': 0.8237013850848786, 'colsample_bytree': 0.826094956765092, 'reg_alpha': 0.05960345857228595, 'reg_lambda': 1.3523611799174422e-06}. Best is trial 34 with value: 0.8009969325153374.\u001b[0m\n"
          ]
        },
        {
          "output_type": "stream",
          "name": "stdout",
          "text": [
            "Trial 43 finished with value: 0.7883435582822086 and parameters: {'max_depth': 9, 'learning_rate': 0.6368264854435939, 'n_estimators': 315, 'min_child_weight': 6, 'gamma': 0.4771429971030246, 'subsample': 0.8237013850848786, 'colsample_bytree': 0.826094956765092, 'reg_alpha': 0.05960345857228595, 'reg_lambda': 1.3523611799174422e-06}. Best is trial 34 with value: 0.8009969325153374.\n",
            "[00:03:43] WARNING: ../src/learner.cc:767: \n",
            "Parameters: { \"n_estimators\", \"use_label_encoder\" } are not used.\n",
            "\n",
            "[0]\tvalidation-auc:0.79255\n",
            "[1]\tvalidation-auc:0.82459\n",
            "[2]\tvalidation-auc:0.83571\n",
            "[3]\tvalidation-auc:0.85414\n",
            "[4]\tvalidation-auc:0.86168\n",
            "[5]\tvalidation-auc:0.86308\n",
            "[6]\tvalidation-auc:0.86637\n",
            "[7]\tvalidation-auc:0.86732\n",
            "[8]\tvalidation-auc:0.87022\n",
            "[9]\tvalidation-auc:0.87089\n"
          ]
        },
        {
          "output_type": "stream",
          "name": "stderr",
          "text": [
            "\u001b[32m[I 2023-03-20 00:03:44,036]\u001b[0m Trial 44 finished with value: 0.7940950920245399 and parameters: {'max_depth': 7, 'learning_rate': 0.45451799233175816, 'n_estimators': 352, 'min_child_weight': 7, 'gamma': 0.20856785832614114, 'subsample': 0.8011253148720131, 'colsample_bytree': 0.4904687499627031, 'reg_alpha': 0.019854490491238795, 'reg_lambda': 2.727265020927854e-08}. Best is trial 34 with value: 0.8009969325153374.\u001b[0m\n"
          ]
        },
        {
          "output_type": "stream",
          "name": "stdout",
          "text": [
            "Trial 44 finished with value: 0.7940950920245399 and parameters: {'max_depth': 7, 'learning_rate': 0.45451799233175816, 'n_estimators': 352, 'min_child_weight': 7, 'gamma': 0.20856785832614114, 'subsample': 0.8011253148720131, 'colsample_bytree': 0.4904687499627031, 'reg_alpha': 0.019854490491238795, 'reg_lambda': 2.727265020927854e-08}. Best is trial 34 with value: 0.8009969325153374.\n",
            "[00:03:44] WARNING: ../src/learner.cc:767: \n",
            "Parameters: { \"n_estimators\", \"use_label_encoder\" } are not used.\n",
            "\n",
            "[0]\tvalidation-auc:0.80180\n",
            "[1]\tvalidation-auc:0.83561\n",
            "[2]\tvalidation-auc:0.84358\n",
            "[3]\tvalidation-auc:0.86069\n",
            "[4]\tvalidation-auc:0.86261\n",
            "[5]\tvalidation-auc:0.86375\n",
            "[6]\tvalidation-auc:0.86862\n",
            "[7]\tvalidation-auc:0.87039\n",
            "[8]\tvalidation-auc:0.87227\n",
            "[9]\tvalidation-auc:0.87290\n"
          ]
        },
        {
          "output_type": "stream",
          "name": "stderr",
          "text": [
            "\u001b[32m[I 2023-03-20 00:03:44,400]\u001b[0m Trial 45 finished with value: 0.7983128834355828 and parameters: {'max_depth': 8, 'learning_rate': 0.2759233893623796, 'n_estimators': 239, 'min_child_weight': 10, 'gamma': 0.005121270632853286, 'subsample': 0.5107272235142089, 'colsample_bytree': 0.6571902228896354, 'reg_alpha': 0.004600487567087285, 'reg_lambda': 1.1745837953365585e-07}. Best is trial 34 with value: 0.8009969325153374.\u001b[0m\n"
          ]
        },
        {
          "output_type": "stream",
          "name": "stdout",
          "text": [
            "Trial 45 finished with value: 0.7983128834355828 and parameters: {'max_depth': 8, 'learning_rate': 0.2759233893623796, 'n_estimators': 239, 'min_child_weight': 10, 'gamma': 0.005121270632853286, 'subsample': 0.5107272235142089, 'colsample_bytree': 0.6571902228896354, 'reg_alpha': 0.004600487567087285, 'reg_lambda': 1.1745837953365585e-07}. Best is trial 34 with value: 0.8009969325153374.\n",
            "[00:03:44] WARNING: ../src/learner.cc:767: \n",
            "Parameters: { \"n_estimators\", \"use_label_encoder\" } are not used.\n",
            "\n",
            "[0]\tvalidation-auc:0.85378\n",
            "[1]\tvalidation-auc:0.86747\n",
            "[2]\tvalidation-auc:0.87071\n",
            "[3]\tvalidation-auc:0.87416\n",
            "[4]\tvalidation-auc:0.87546\n",
            "[5]\tvalidation-auc:0.87670\n",
            "[6]\tvalidation-auc:0.87693\n",
            "[7]\tvalidation-auc:0.87714\n",
            "[8]\tvalidation-auc:0.87708\n",
            "[9]\tvalidation-auc:0.87816\n"
          ]
        },
        {
          "output_type": "stream",
          "name": "stderr",
          "text": [
            "\u001b[32m[I 2023-03-20 00:03:44,734]\u001b[0m Trial 46 finished with value: 0.8025306748466258 and parameters: {'max_depth': 8, 'learning_rate': 0.14090633128966742, 'n_estimators': 240, 'min_child_weight': 10, 'gamma': 0.05212421244074074, 'subsample': 0.5726046610579762, 'colsample_bytree': 0.9730570472665269, 'reg_alpha': 0.003933262010477684, 'reg_lambda': 1.4810737747162192e-07}. Best is trial 46 with value: 0.8025306748466258.\u001b[0m\n"
          ]
        },
        {
          "output_type": "stream",
          "name": "stdout",
          "text": [
            "Trial 46 finished with value: 0.8025306748466258 and parameters: {'max_depth': 8, 'learning_rate': 0.14090633128966742, 'n_estimators': 240, 'min_child_weight': 10, 'gamma': 0.05212421244074074, 'subsample': 0.5726046610579762, 'colsample_bytree': 0.9730570472665269, 'reg_alpha': 0.003933262010477684, 'reg_lambda': 1.4810737747162192e-07}. Best is trial 46 with value: 0.8025306748466258.\n",
            "[00:03:44] WARNING: ../src/learner.cc:767: \n",
            "Parameters: { \"n_estimators\", \"use_label_encoder\" } are not used.\n",
            "\n",
            "[0]\tvalidation-auc:0.79458\n",
            "[1]\tvalidation-auc:0.80948\n",
            "[2]\tvalidation-auc:0.82633\n",
            "[3]\tvalidation-auc:0.82585\n",
            "[4]\tvalidation-auc:0.82989\n",
            "[5]\tvalidation-auc:0.82964\n",
            "[6]\tvalidation-auc:0.84325\n",
            "[7]\tvalidation-auc:0.84604\n",
            "[8]\tvalidation-auc:0.85131\n",
            "[9]\tvalidation-auc:0.85127\n"
          ]
        },
        {
          "output_type": "stream",
          "name": "stderr",
          "text": [
            "\u001b[32m[I 2023-03-20 00:03:45,148]\u001b[0m Trial 47 finished with value: 0.7802914110429447 and parameters: {'max_depth': 7, 'learning_rate': 0.14257126572386478, 'n_estimators': 224, 'min_child_weight': 10, 'gamma': 0.0050793483450742504, 'subsample': 0.5432109079172531, 'colsample_bytree': 0.3980931201116695, 'reg_alpha': 0.0012525822347760397, 'reg_lambda': 9.035285311166536e-08}. Best is trial 46 with value: 0.8025306748466258.\u001b[0m\n"
          ]
        },
        {
          "output_type": "stream",
          "name": "stdout",
          "text": [
            "Trial 47 finished with value: 0.7802914110429447 and parameters: {'max_depth': 7, 'learning_rate': 0.14257126572386478, 'n_estimators': 224, 'min_child_weight': 10, 'gamma': 0.0050793483450742504, 'subsample': 0.5432109079172531, 'colsample_bytree': 0.3980931201116695, 'reg_alpha': 0.0012525822347760397, 'reg_lambda': 9.035285311166536e-08}. Best is trial 46 with value: 0.8025306748466258.\n",
            "[00:03:45] WARNING: ../src/learner.cc:767: \n",
            "Parameters: { \"n_estimators\", \"use_label_encoder\" } are not used.\n",
            "\n",
            "[0]\tvalidation-auc:0.82680\n",
            "[1]\tvalidation-auc:0.84887\n",
            "[2]\tvalidation-auc:0.85976\n",
            "[3]\tvalidation-auc:0.86294\n",
            "[4]\tvalidation-auc:0.86504\n",
            "[5]\tvalidation-auc:0.86607\n",
            "[6]\tvalidation-auc:0.86703\n",
            "[7]\tvalidation-auc:0.86716\n",
            "[8]\tvalidation-auc:0.87029\n",
            "[9]\tvalidation-auc:0.87255\n"
          ]
        },
        {
          "output_type": "stream",
          "name": "stderr",
          "text": [
            "\u001b[32m[I 2023-03-20 00:03:45,561]\u001b[0m Trial 48 finished with value: 0.7940950920245399 and parameters: {'max_depth': 8, 'learning_rate': 0.10129875540810408, 'n_estimators': 173, 'min_child_weight': 10, 'gamma': 0.052994463557623286, 'subsample': 0.44190667109809856, 'colsample_bytree': 0.8167506450730775, 'reg_alpha': 0.007305625416038436, 'reg_lambda': 1.0386987792318784e-08}. Best is trial 46 with value: 0.8025306748466258.\u001b[0m\n"
          ]
        },
        {
          "output_type": "stream",
          "name": "stdout",
          "text": [
            "Trial 48 finished with value: 0.7940950920245399 and parameters: {'max_depth': 8, 'learning_rate': 0.10129875540810408, 'n_estimators': 173, 'min_child_weight': 10, 'gamma': 0.052994463557623286, 'subsample': 0.44190667109809856, 'colsample_bytree': 0.8167506450730775, 'reg_alpha': 0.007305625416038436, 'reg_lambda': 1.0386987792318784e-08}. Best is trial 46 with value: 0.8025306748466258.\n",
            "[00:03:45] WARNING: ../src/learner.cc:767: \n",
            "Parameters: { \"n_estimators\", \"use_label_encoder\" } are not used.\n",
            "\n",
            "[0]\tvalidation-auc:0.79297\n",
            "[1]\tvalidation-auc:0.83681\n",
            "[2]\tvalidation-auc:0.84541\n",
            "[3]\tvalidation-auc:0.86146\n",
            "[4]\tvalidation-auc:0.86368\n",
            "[5]\tvalidation-auc:0.86261\n",
            "[6]\tvalidation-auc:0.86652\n",
            "[7]\tvalidation-auc:0.86982\n",
            "[8]\tvalidation-auc:0.87267\n",
            "[9]\tvalidation-auc:0.87394\n"
          ]
        },
        {
          "output_type": "stream",
          "name": "stderr",
          "text": [
            "\u001b[32m[I 2023-03-20 00:03:45,923]\u001b[0m Trial 49 finished with value: 0.7929447852760736 and parameters: {'max_depth': 8, 'learning_rate': 0.25519482739349636, 'n_estimators': 239, 'min_child_weight': 10, 'gamma': 0.007821352499885765, 'subsample': 0.667478810549099, 'colsample_bytree': 0.6044621044273655, 'reg_alpha': 0.0003717601362261711, 'reg_lambda': 2.3418553333621544e-08}. Best is trial 46 with value: 0.8025306748466258.\u001b[0m\n"
          ]
        },
        {
          "output_type": "stream",
          "name": "stdout",
          "text": [
            "Trial 49 finished with value: 0.7929447852760736 and parameters: {'max_depth': 8, 'learning_rate': 0.25519482739349636, 'n_estimators': 239, 'min_child_weight': 10, 'gamma': 0.007821352499885765, 'subsample': 0.667478810549099, 'colsample_bytree': 0.6044621044273655, 'reg_alpha': 0.0003717601362261711, 'reg_lambda': 2.3418553333621544e-08}. Best is trial 46 with value: 0.8025306748466258.\n",
            "[00:03:46] WARNING: ../src/learner.cc:767: \n",
            "Parameters: { \"n_estimators\", \"use_label_encoder\" } are not used.\n",
            "\n",
            "[0]\tvalidation-auc:0.83215\n",
            "[1]\tvalidation-auc:0.85055\n",
            "[2]\tvalidation-auc:0.85852\n",
            "[3]\tvalidation-auc:0.86205\n",
            "[4]\tvalidation-auc:0.86544\n",
            "[5]\tvalidation-auc:0.86489\n",
            "[6]\tvalidation-auc:0.86799\n",
            "[7]\tvalidation-auc:0.86786\n",
            "[8]\tvalidation-auc:0.86969\n",
            "[9]\tvalidation-auc:0.87144\n"
          ]
        },
        {
          "output_type": "stream",
          "name": "stderr",
          "text": [
            "\u001b[32m[I 2023-03-20 00:03:46,306]\u001b[0m Trial 50 finished with value: 0.7845092024539877 and parameters: {'max_depth': 7, 'learning_rate': 0.11857376767186016, 'n_estimators': 185, 'min_child_weight': 9, 'gamma': 0.001060402518191705, 'subsample': 0.3079528790490549, 'colsample_bytree': 0.8273472679311554, 'reg_alpha': 0.004574943391055307, 'reg_lambda': 1.5773072742442414e-07}. Best is trial 46 with value: 0.8025306748466258.\u001b[0m\n"
          ]
        },
        {
          "output_type": "stream",
          "name": "stdout",
          "text": [
            "Trial 50 finished with value: 0.7845092024539877 and parameters: {'max_depth': 7, 'learning_rate': 0.11857376767186016, 'n_estimators': 185, 'min_child_weight': 9, 'gamma': 0.001060402518191705, 'subsample': 0.3079528790490549, 'colsample_bytree': 0.8273472679311554, 'reg_alpha': 0.004574943391055307, 'reg_lambda': 1.5773072742442414e-07}. Best is trial 46 with value: 0.8025306748466258.\n",
            "[00:03:46] WARNING: ../src/learner.cc:767: \n",
            "Parameters: { \"n_estimators\", \"use_label_encoder\" } are not used.\n",
            "\n",
            "[0]\tvalidation-auc:0.84743\n",
            "[1]\tvalidation-auc:0.85862\n",
            "[2]\tvalidation-auc:0.86597\n",
            "[3]\tvalidation-auc:0.86715\n",
            "[4]\tvalidation-auc:0.87082\n",
            "[5]\tvalidation-auc:0.87346\n",
            "[6]\tvalidation-auc:0.87591\n",
            "[7]\tvalidation-auc:0.87702\n",
            "[8]\tvalidation-auc:0.87700\n",
            "[9]\tvalidation-auc:0.87746\n"
          ]
        },
        {
          "output_type": "stream",
          "name": "stderr",
          "text": [
            "\u001b[32m[I 2023-03-20 00:03:47,018]\u001b[0m Trial 51 finished with value: 0.7979294478527608 and parameters: {'max_depth': 9, 'learning_rate': 0.1921748686816148, 'n_estimators': 281, 'min_child_weight': 9, 'gamma': 0.5633178278250973, 'subsample': 0.38430084412141785, 'colsample_bytree': 0.9874284069548561, 'reg_alpha': 0.0028227123580032015, 'reg_lambda': 5.292522045753387e-07}. Best is trial 46 with value: 0.8025306748466258.\u001b[0m\n"
          ]
        },
        {
          "output_type": "stream",
          "name": "stdout",
          "text": [
            "Trial 51 finished with value: 0.7979294478527608 and parameters: {'max_depth': 9, 'learning_rate': 0.1921748686816148, 'n_estimators': 281, 'min_child_weight': 9, 'gamma': 0.5633178278250973, 'subsample': 0.38430084412141785, 'colsample_bytree': 0.9874284069548561, 'reg_alpha': 0.0028227123580032015, 'reg_lambda': 5.292522045753387e-07}. Best is trial 46 with value: 0.8025306748466258.\n",
            "[00:03:47] WARNING: ../src/learner.cc:767: \n",
            "Parameters: { \"n_estimators\", \"use_label_encoder\" } are not used.\n",
            "\n",
            "[0]\tvalidation-auc:0.85115\n",
            "[1]\tvalidation-auc:0.86088\n",
            "[2]\tvalidation-auc:0.86680\n",
            "[3]\tvalidation-auc:0.86785\n",
            "[4]\tvalidation-auc:0.87006\n",
            "[5]\tvalidation-auc:0.87093\n",
            "[6]\tvalidation-auc:0.87351\n",
            "[7]\tvalidation-auc:0.87416\n",
            "[8]\tvalidation-auc:0.87517\n",
            "[9]\tvalidation-auc:0.87653\n"
          ]
        },
        {
          "output_type": "stream",
          "name": "stderr",
          "text": [
            "\u001b[32m[I 2023-03-20 00:03:48,071]\u001b[0m Trial 52 finished with value: 0.7983128834355828 and parameters: {'max_depth': 9, 'learning_rate': 0.15540530615523732, 'n_estimators': 206, 'min_child_weight': 9, 'gamma': 0.42375492695742234, 'subsample': 0.3851128938086979, 'colsample_bytree': 0.8664107600145848, 'reg_alpha': 0.019534259155374708, 'reg_lambda': 5.487465579602644e-08}. Best is trial 46 with value: 0.8025306748466258.\u001b[0m\n"
          ]
        },
        {
          "output_type": "stream",
          "name": "stdout",
          "text": [
            "Trial 52 finished with value: 0.7983128834355828 and parameters: {'max_depth': 9, 'learning_rate': 0.15540530615523732, 'n_estimators': 206, 'min_child_weight': 9, 'gamma': 0.42375492695742234, 'subsample': 0.3851128938086979, 'colsample_bytree': 0.8664107600145848, 'reg_alpha': 0.019534259155374708, 'reg_lambda': 5.487465579602644e-08}. Best is trial 46 with value: 0.8025306748466258.\n",
            "[00:03:48] WARNING: ../src/learner.cc:767: \n",
            "Parameters: { \"n_estimators\", \"use_label_encoder\" } are not used.\n",
            "\n",
            "[0]\tvalidation-auc:0.79901\n",
            "[1]\tvalidation-auc:0.82557\n",
            "[2]\tvalidation-auc:0.83408\n",
            "[3]\tvalidation-auc:0.84729\n",
            "[4]\tvalidation-auc:0.85161\n",
            "[5]\tvalidation-auc:0.85255\n",
            "[6]\tvalidation-auc:0.85535\n",
            "[7]\tvalidation-auc:0.85783\n",
            "[8]\tvalidation-auc:0.86202\n",
            "[9]\tvalidation-auc:0.86208\n"
          ]
        },
        {
          "output_type": "stream",
          "name": "stderr",
          "text": [
            "\u001b[32m[I 2023-03-20 00:03:49,272]\u001b[0m Trial 53 finished with value: 0.7883435582822086 and parameters: {'max_depth': 8, 'learning_rate': 0.16546106479836542, 'n_estimators': 205, 'min_child_weight': 9, 'gamma': 0.06488781370405218, 'subsample': 0.5889633594622122, 'colsample_bytree': 0.5097442767756712, 'reg_alpha': 0.01772045011759177, 'reg_lambda': 5.367520130317046e-08}. Best is trial 46 with value: 0.8025306748466258.\u001b[0m\n"
          ]
        },
        {
          "output_type": "stream",
          "name": "stdout",
          "text": [
            "Trial 53 finished with value: 0.7883435582822086 and parameters: {'max_depth': 8, 'learning_rate': 0.16546106479836542, 'n_estimators': 205, 'min_child_weight': 9, 'gamma': 0.06488781370405218, 'subsample': 0.5889633594622122, 'colsample_bytree': 0.5097442767756712, 'reg_alpha': 0.01772045011759177, 'reg_lambda': 5.367520130317046e-08}. Best is trial 46 with value: 0.8025306748466258.\n",
            "[00:03:49] WARNING: ../src/learner.cc:767: \n",
            "Parameters: { \"n_estimators\", \"use_label_encoder\" } are not used.\n",
            "\n",
            "[0]\tvalidation-auc:0.79411\n",
            "[1]\tvalidation-auc:0.82356\n",
            "[2]\tvalidation-auc:0.83342\n",
            "[3]\tvalidation-auc:0.84821\n",
            "[4]\tvalidation-auc:0.85093\n",
            "[5]\tvalidation-auc:0.85157\n",
            "[6]\tvalidation-auc:0.85684\n",
            "[7]\tvalidation-auc:0.85791\n",
            "[8]\tvalidation-auc:0.86163\n",
            "[9]\tvalidation-auc:0.86069\n"
          ]
        },
        {
          "output_type": "stream",
          "name": "stderr",
          "text": [
            "\u001b[32m[I 2023-03-20 00:03:49,770]\u001b[0m Trial 54 finished with value: 0.7806748466257669 and parameters: {'max_depth': 9, 'learning_rate': 0.08301063713595959, 'n_estimators': 160, 'min_child_weight': 8, 'gamma': 0.1776929886051854, 'subsample': 0.2535279674984568, 'colsample_bytree': 0.624261800951531, 'reg_alpha': 0.0451936077735936, 'reg_lambda': 2.3314666033102498e-08}. Best is trial 46 with value: 0.8025306748466258.\u001b[0m\n"
          ]
        },
        {
          "output_type": "stream",
          "name": "stdout",
          "text": [
            "Trial 54 finished with value: 0.7806748466257669 and parameters: {'max_depth': 9, 'learning_rate': 0.08301063713595959, 'n_estimators': 160, 'min_child_weight': 8, 'gamma': 0.1776929886051854, 'subsample': 0.2535279674984568, 'colsample_bytree': 0.624261800951531, 'reg_alpha': 0.0451936077735936, 'reg_lambda': 2.3314666033102498e-08}. Best is trial 46 with value: 0.8025306748466258.\n",
            "[00:03:49] WARNING: ../src/learner.cc:767: \n",
            "Parameters: { \"n_estimators\", \"use_label_encoder\" } are not used.\n",
            "\n",
            "[0]\tvalidation-auc:0.84045\n",
            "[1]\tvalidation-auc:0.85488\n",
            "[2]\tvalidation-auc:0.86263\n",
            "[3]\tvalidation-auc:0.86713\n",
            "[4]\tvalidation-auc:0.87137\n",
            "[5]\tvalidation-auc:0.87176\n",
            "[6]\tvalidation-auc:0.87270\n",
            "[7]\tvalidation-auc:0.87294\n",
            "[8]\tvalidation-auc:0.87401\n",
            "[9]\tvalidation-auc:0.87423\n"
          ]
        },
        {
          "output_type": "stream",
          "name": "stderr",
          "text": [
            "\u001b[32m[I 2023-03-20 00:03:50,176]\u001b[0m Trial 55 finished with value: 0.7944785276073619 and parameters: {'max_depth': 8, 'learning_rate': 0.33504319339749067, 'n_estimators': 127, 'min_child_weight': 10, 'gamma': 0.4561002087256376, 'subsample': 0.48795938675789613, 'colsample_bytree': 0.8185916592580706, 'reg_alpha': 0.006366811208268731, 'reg_lambda': 6.285245847927684e-08}. Best is trial 46 with value: 0.8025306748466258.\u001b[0m\n"
          ]
        },
        {
          "output_type": "stream",
          "name": "stdout",
          "text": [
            "Trial 55 finished with value: 0.7944785276073619 and parameters: {'max_depth': 8, 'learning_rate': 0.33504319339749067, 'n_estimators': 127, 'min_child_weight': 10, 'gamma': 0.4561002087256376, 'subsample': 0.48795938675789613, 'colsample_bytree': 0.8185916592580706, 'reg_alpha': 0.006366811208268731, 'reg_lambda': 6.285245847927684e-08}. Best is trial 46 with value: 0.8025306748466258.\n",
            "[00:03:50] WARNING: ../src/learner.cc:767: \n",
            "Parameters: { \"n_estimators\", \"use_label_encoder\" } are not used.\n",
            "\n",
            "[0]\tvalidation-auc:0.85990\n",
            "[1]\tvalidation-auc:0.86845\n",
            "[2]\tvalidation-auc:0.87106\n",
            "[3]\tvalidation-auc:0.87305\n",
            "[4]\tvalidation-auc:0.87381\n",
            "[5]\tvalidation-auc:0.87486\n",
            "[6]\tvalidation-auc:0.87629\n",
            "[7]\tvalidation-auc:0.87711\n",
            "[8]\tvalidation-auc:0.87790\n",
            "[9]\tvalidation-auc:0.87827\n"
          ]
        },
        {
          "output_type": "stream",
          "name": "stderr",
          "text": [
            "\u001b[32m[I 2023-03-20 00:03:50,671]\u001b[0m Trial 56 finished with value: 0.8017638036809815 and parameters: {'max_depth': 9, 'learning_rate': 0.21559879610510088, 'n_estimators': 243, 'min_child_weight': 10, 'gamma': 0.07533342486749815, 'subsample': 0.7779670250044041, 'colsample_bytree': 0.8848425566701672, 'reg_alpha': 0.01259021076078638, 'reg_lambda': 1.4660900717431722e-07}. Best is trial 46 with value: 0.8025306748466258.\u001b[0m\n"
          ]
        },
        {
          "output_type": "stream",
          "name": "stdout",
          "text": [
            "Trial 56 finished with value: 0.8017638036809815 and parameters: {'max_depth': 9, 'learning_rate': 0.21559879610510088, 'n_estimators': 243, 'min_child_weight': 10, 'gamma': 0.07533342486749815, 'subsample': 0.7779670250044041, 'colsample_bytree': 0.8848425566701672, 'reg_alpha': 0.01259021076078638, 'reg_lambda': 1.4660900717431722e-07}. Best is trial 46 with value: 0.8025306748466258.\n",
            "[00:03:50] WARNING: ../src/learner.cc:767: \n",
            "Parameters: { \"n_estimators\", \"use_label_encoder\" } are not used.\n",
            "\n",
            "[0]\tvalidation-auc:0.80339\n",
            "[1]\tvalidation-auc:0.83467\n",
            "[2]\tvalidation-auc:0.84452\n",
            "[3]\tvalidation-auc:0.86053\n",
            "[4]\tvalidation-auc:0.86294\n",
            "[5]\tvalidation-auc:0.86364\n",
            "[6]\tvalidation-auc:0.86864\n",
            "[7]\tvalidation-auc:0.86975\n",
            "[8]\tvalidation-auc:0.87184\n",
            "[9]\tvalidation-auc:0.87271\n"
          ]
        },
        {
          "output_type": "stream",
          "name": "stderr",
          "text": [
            "\u001b[32m[I 2023-03-20 00:03:50,902]\u001b[0m Trial 57 finished with value: 0.7967791411042945 and parameters: {'max_depth': 7, 'learning_rate': 0.21452783717128063, 'n_estimators': 246, 'min_child_weight': 10, 'gamma': 0.025111225540789116, 'subsample': 0.8253974239353854, 'colsample_bytree': 0.631449931604105, 'reg_alpha': 0.004525257246584159, 'reg_lambda': 1.876385600981738e-07}. Best is trial 46 with value: 0.8025306748466258.\u001b[0m\n"
          ]
        },
        {
          "output_type": "stream",
          "name": "stdout",
          "text": [
            "Trial 57 finished with value: 0.7967791411042945 and parameters: {'max_depth': 7, 'learning_rate': 0.21452783717128063, 'n_estimators': 246, 'min_child_weight': 10, 'gamma': 0.025111225540789116, 'subsample': 0.8253974239353854, 'colsample_bytree': 0.631449931604105, 'reg_alpha': 0.004525257246584159, 'reg_lambda': 1.876385600981738e-07}. Best is trial 46 with value: 0.8025306748466258.\n",
            "[00:03:50] WARNING: ../src/learner.cc:767: \n",
            "Parameters: { \"n_estimators\", \"use_label_encoder\" } are not used.\n",
            "\n",
            "[0]\tvalidation-auc:0.79359\n",
            "[1]\tvalidation-auc:0.82123\n",
            "[2]\tvalidation-auc:0.83407\n",
            "[3]\tvalidation-auc:0.84951\n",
            "[4]\tvalidation-auc:0.85615\n",
            "[5]\tvalidation-auc:0.85785\n",
            "[6]\tvalidation-auc:0.86199\n",
            "[7]\tvalidation-auc:0.86399\n",
            "[8]\tvalidation-auc:0.86769\n",
            "[9]\tvalidation-auc:0.86880\n"
          ]
        },
        {
          "output_type": "stream",
          "name": "stderr",
          "text": [
            "\u001b[32m[I 2023-03-20 00:03:51,088]\u001b[0m Trial 58 finished with value: 0.7960122699386503 and parameters: {'max_depth': 6, 'learning_rate': 0.26731995543038367, 'n_estimators': 277, 'min_child_weight': 10, 'gamma': 0.08322584275469923, 'subsample': 0.7245179793828368, 'colsample_bytree': 0.5036620082775853, 'reg_alpha': 0.0010246884740941953, 'reg_lambda': 4.3451153683053704e-07}. Best is trial 46 with value: 0.8025306748466258.\u001b[0m\n"
          ]
        },
        {
          "output_type": "stream",
          "name": "stdout",
          "text": [
            "Trial 58 finished with value: 0.7960122699386503 and parameters: {'max_depth': 6, 'learning_rate': 0.26731995543038367, 'n_estimators': 277, 'min_child_weight': 10, 'gamma': 0.08322584275469923, 'subsample': 0.7245179793828368, 'colsample_bytree': 0.5036620082775853, 'reg_alpha': 0.0010246884740941953, 'reg_lambda': 4.3451153683053704e-07}. Best is trial 46 with value: 0.8025306748466258.\n",
            "[00:03:51] WARNING: ../src/learner.cc:767: \n",
            "Parameters: { \"n_estimators\", \"use_label_encoder\" } are not used.\n",
            "\n",
            "[0]\tvalidation-auc:0.85692\n",
            "[1]\tvalidation-auc:0.87106\n",
            "[2]\tvalidation-auc:0.87534\n",
            "[3]\tvalidation-auc:0.87782\n",
            "[4]\tvalidation-auc:0.87884\n",
            "[5]\tvalidation-auc:0.88019\n",
            "[6]\tvalidation-auc:0.87939\n",
            "[7]\tvalidation-auc:0.87976\n",
            "[8]\tvalidation-auc:0.87943\n",
            "[9]\tvalidation-auc:0.88087\n"
          ]
        },
        {
          "output_type": "stream",
          "name": "stderr",
          "text": [
            "\u001b[32m[I 2023-03-20 00:03:51,313]\u001b[0m Trial 59 finished with value: 0.799079754601227 and parameters: {'max_depth': 8, 'learning_rate': 0.20169942830911886, 'n_estimators': 257, 'min_child_weight': 8, 'gamma': 0.009503271987561583, 'subsample': 0.5693908173526437, 'colsample_bytree': 0.9885241125537414, 'reg_alpha': 0.01131482976866804, 'reg_lambda': 1.3172513803769852e-07}. Best is trial 46 with value: 0.8025306748466258.\u001b[0m\n"
          ]
        },
        {
          "output_type": "stream",
          "name": "stdout",
          "text": [
            "Trial 59 finished with value: 0.799079754601227 and parameters: {'max_depth': 8, 'learning_rate': 0.20169942830911886, 'n_estimators': 257, 'min_child_weight': 8, 'gamma': 0.009503271987561583, 'subsample': 0.5693908173526437, 'colsample_bytree': 0.9885241125537414, 'reg_alpha': 0.01131482976866804, 'reg_lambda': 1.3172513803769852e-07}. Best is trial 46 with value: 0.8025306748466258.\n",
            "[00:03:51] WARNING: ../src/learner.cc:767: \n",
            "Parameters: { \"n_estimators\", \"use_label_encoder\" } are not used.\n",
            "\n",
            "[0]\tvalidation-auc:0.85488\n",
            "[1]\tvalidation-auc:0.86417\n",
            "[2]\tvalidation-auc:0.87040\n",
            "[3]\tvalidation-auc:0.87316\n",
            "[4]\tvalidation-auc:0.87591\n",
            "[5]\tvalidation-auc:0.87653\n",
            "[6]\tvalidation-auc:0.87743\n",
            "[7]\tvalidation-auc:0.87842\n",
            "[8]\tvalidation-auc:0.87826\n",
            "[9]\tvalidation-auc:0.87842\n"
          ]
        },
        {
          "output_type": "stream",
          "name": "stderr",
          "text": [
            "\u001b[32m[I 2023-03-20 00:03:51,566]\u001b[0m Trial 60 finished with value: 0.7998466257668712 and parameters: {'max_depth': 9, 'learning_rate': 0.13408071062728977, 'n_estimators': 300, 'min_child_weight': 8, 'gamma': 0.01297901527317765, 'subsample': 0.8653002651984134, 'colsample_bytree': 0.9947556984355579, 'reg_alpha': 0.10630214390454007, 'reg_lambda': 8.067939928586538e-07}. Best is trial 46 with value: 0.8025306748466258.\u001b[0m\n"
          ]
        },
        {
          "output_type": "stream",
          "name": "stdout",
          "text": [
            "Trial 60 finished with value: 0.7998466257668712 and parameters: {'max_depth': 9, 'learning_rate': 0.13408071062728977, 'n_estimators': 300, 'min_child_weight': 8, 'gamma': 0.01297901527317765, 'subsample': 0.8653002651984134, 'colsample_bytree': 0.9947556984355579, 'reg_alpha': 0.10630214390454007, 'reg_lambda': 8.067939928586538e-07}. Best is trial 46 with value: 0.8025306748466258.\n",
            "[00:03:51] WARNING: ../src/learner.cc:767: \n",
            "Parameters: { \"n_estimators\", \"use_label_encoder\" } are not used.\n",
            "\n",
            "[0]\tvalidation-auc:0.85613\n",
            "[1]\tvalidation-auc:0.86502\n",
            "[2]\tvalidation-auc:0.86958\n",
            "[3]\tvalidation-auc:0.87279\n",
            "[4]\tvalidation-auc:0.87617\n",
            "[5]\tvalidation-auc:0.87693\n",
            "[6]\tvalidation-auc:0.87846\n",
            "[7]\tvalidation-auc:0.87856\n",
            "[8]\tvalidation-auc:0.87777\n",
            "[9]\tvalidation-auc:0.87784\n"
          ]
        },
        {
          "output_type": "stream",
          "name": "stderr",
          "text": [
            "\u001b[32m[I 2023-03-20 00:03:51,828]\u001b[0m Trial 61 finished with value: 0.80329754601227 and parameters: {'max_depth': 9, 'learning_rate': 0.1380773445991497, 'n_estimators': 306, 'min_child_weight': 8, 'gamma': 0.018005905271597757, 'subsample': 0.8670519360807761, 'colsample_bytree': 0.98868668779111, 'reg_alpha': 0.12831941908963054, 'reg_lambda': 7.751358931122579e-07}. Best is trial 61 with value: 0.80329754601227.\u001b[0m\n"
          ]
        },
        {
          "output_type": "stream",
          "name": "stdout",
          "text": [
            "Trial 61 finished with value: 0.80329754601227 and parameters: {'max_depth': 9, 'learning_rate': 0.1380773445991497, 'n_estimators': 306, 'min_child_weight': 8, 'gamma': 0.018005905271597757, 'subsample': 0.8670519360807761, 'colsample_bytree': 0.98868668779111, 'reg_alpha': 0.12831941908963054, 'reg_lambda': 7.751358931122579e-07}. Best is trial 61 with value: 0.80329754601227.\n",
            "[00:03:51] WARNING: ../src/learner.cc:767: \n",
            "Parameters: { \"n_estimators\", \"use_label_encoder\" } are not used.\n",
            "\n",
            "[0]\tvalidation-auc:0.85627\n",
            "[1]\tvalidation-auc:0.86587\n",
            "[2]\tvalidation-auc:0.87129\n",
            "[3]\tvalidation-auc:0.87342\n",
            "[4]\tvalidation-auc:0.87487\n",
            "[5]\tvalidation-auc:0.87427\n",
            "[6]\tvalidation-auc:0.87589\n",
            "[7]\tvalidation-auc:0.87613\n",
            "[8]\tvalidation-auc:0.87663\n",
            "[9]\tvalidation-auc:0.87702\n"
          ]
        },
        {
          "output_type": "stream",
          "name": "stderr",
          "text": [
            "\u001b[32m[I 2023-03-20 00:03:52,073]\u001b[0m Trial 62 finished with value: 0.80329754601227 and parameters: {'max_depth': 9, 'learning_rate': 0.12928870427719344, 'n_estimators': 339, 'min_child_weight': 8, 'gamma': 0.010836362416877991, 'subsample': 0.8762612591522072, 'colsample_bytree': 0.9135864885581398, 'reg_alpha': 0.08488219479556113, 'reg_lambda': 2.8826611004536454e-07}. Best is trial 61 with value: 0.80329754601227.\u001b[0m\n"
          ]
        },
        {
          "output_type": "stream",
          "name": "stdout",
          "text": [
            "Trial 62 finished with value: 0.80329754601227 and parameters: {'max_depth': 9, 'learning_rate': 0.12928870427719344, 'n_estimators': 339, 'min_child_weight': 8, 'gamma': 0.010836362416877991, 'subsample': 0.8762612591522072, 'colsample_bytree': 0.9135864885581398, 'reg_alpha': 0.08488219479556113, 'reg_lambda': 2.8826611004536454e-07}. Best is trial 61 with value: 0.80329754601227.\n",
            "[00:03:52] WARNING: ../src/learner.cc:767: \n",
            "Parameters: { \"n_estimators\", \"use_label_encoder\" } are not used.\n",
            "\n",
            "[0]\tvalidation-auc:0.84495\n",
            "[1]\tvalidation-auc:0.85310\n",
            "[2]\tvalidation-auc:0.86795\n",
            "[3]\tvalidation-auc:0.87113\n",
            "[4]\tvalidation-auc:0.87244\n",
            "[5]\tvalidation-auc:0.87217\n",
            "[6]\tvalidation-auc:0.87337\n",
            "[7]\tvalidation-auc:0.87295\n",
            "[8]\tvalidation-auc:0.87409\n",
            "[9]\tvalidation-auc:0.87410\n"
          ]
        },
        {
          "output_type": "stream",
          "name": "stderr",
          "text": [
            "\u001b[32m[I 2023-03-20 00:03:52,326]\u001b[0m Trial 63 finished with value: 0.7979294478527608 and parameters: {'max_depth': 9, 'learning_rate': 0.13763680423510286, 'n_estimators': 343, 'min_child_weight': 8, 'gamma': 0.014100884827146448, 'subsample': 0.8702336969330451, 'colsample_bytree': 0.8433595650356653, 'reg_alpha': 0.13082703695327538, 'reg_lambda': 3.238457241823783e-07}. Best is trial 61 with value: 0.80329754601227.\u001b[0m\n"
          ]
        },
        {
          "output_type": "stream",
          "name": "stdout",
          "text": [
            "Trial 63 finished with value: 0.7979294478527608 and parameters: {'max_depth': 9, 'learning_rate': 0.13763680423510286, 'n_estimators': 343, 'min_child_weight': 8, 'gamma': 0.014100884827146448, 'subsample': 0.8702336969330451, 'colsample_bytree': 0.8433595650356653, 'reg_alpha': 0.13082703695327538, 'reg_lambda': 3.238457241823783e-07}. Best is trial 61 with value: 0.80329754601227.\n",
            "[00:03:52] WARNING: ../src/learner.cc:767: \n",
            "Parameters: { \"n_estimators\", \"use_label_encoder\" } are not used.\n",
            "\n",
            "[0]\tvalidation-auc:0.86523\n",
            "[1]\tvalidation-auc:0.86961\n",
            "[2]\tvalidation-auc:0.87159\n",
            "[3]\tvalidation-auc:0.87368\n",
            "[4]\tvalidation-auc:0.87641\n",
            "[5]\tvalidation-auc:0.87714\n",
            "[6]\tvalidation-auc:0.87674\n",
            "[7]\tvalidation-auc:0.87721\n",
            "[8]\tvalidation-auc:0.87723\n",
            "[9]\tvalidation-auc:0.87654\n"
          ]
        },
        {
          "output_type": "stream",
          "name": "stderr",
          "text": [
            "\u001b[32m[I 2023-03-20 00:03:52,563]\u001b[0m Trial 64 finished with value: 0.8017638036809815 and parameters: {'max_depth': 9, 'learning_rate': 0.11863129624264572, 'n_estimators': 308, 'min_child_weight': 8, 'gamma': 0.02990460064773551, 'subsample': 0.9953129795970876, 'colsample_bytree': 0.9938785677325356, 'reg_alpha': 0.4265903079589301, 'reg_lambda': 6.538489457985683e-07}. Best is trial 61 with value: 0.80329754601227.\u001b[0m\n"
          ]
        },
        {
          "output_type": "stream",
          "name": "stdout",
          "text": [
            "Trial 64 finished with value: 0.8017638036809815 and parameters: {'max_depth': 9, 'learning_rate': 0.11863129624264572, 'n_estimators': 308, 'min_child_weight': 8, 'gamma': 0.02990460064773551, 'subsample': 0.9953129795970876, 'colsample_bytree': 0.9938785677325356, 'reg_alpha': 0.4265903079589301, 'reg_lambda': 6.538489457985683e-07}. Best is trial 61 with value: 0.80329754601227.\n",
            "[00:03:52] WARNING: ../src/learner.cc:767: \n",
            "Parameters: { \"n_estimators\", \"use_label_encoder\" } are not used.\n",
            "\n",
            "[0]\tvalidation-auc:0.82503\n",
            "[1]\tvalidation-auc:0.85159\n",
            "[2]\tvalidation-auc:0.85930\n",
            "[3]\tvalidation-auc:0.86441\n",
            "[4]\tvalidation-auc:0.86634\n",
            "[5]\tvalidation-auc:0.86530\n",
            "[6]\tvalidation-auc:0.86891\n",
            "[7]\tvalidation-auc:0.86941\n",
            "[8]\tvalidation-auc:0.87088\n",
            "[9]\tvalidation-auc:0.87156\n"
          ]
        },
        {
          "output_type": "stream",
          "name": "stderr",
          "text": [
            "\u001b[32m[I 2023-03-20 00:03:52,796]\u001b[0m Trial 65 finished with value: 0.7925613496932515 and parameters: {'max_depth': 9, 'learning_rate': 0.12088214885357153, 'n_estimators': 306, 'min_child_weight': 8, 'gamma': 0.027431711800912997, 'subsample': 0.6951303284414876, 'colsample_bytree': 0.7475611875949971, 'reg_alpha': 0.1206544733186316, 'reg_lambda': 5.510844127689756e-07}. Best is trial 61 with value: 0.80329754601227.\u001b[0m\n"
          ]
        },
        {
          "output_type": "stream",
          "name": "stdout",
          "text": [
            "Trial 65 finished with value: 0.7925613496932515 and parameters: {'max_depth': 9, 'learning_rate': 0.12088214885357153, 'n_estimators': 306, 'min_child_weight': 8, 'gamma': 0.027431711800912997, 'subsample': 0.6951303284414876, 'colsample_bytree': 0.7475611875949971, 'reg_alpha': 0.1206544733186316, 'reg_lambda': 5.510844127689756e-07}. Best is trial 61 with value: 0.80329754601227.\n",
            "[00:03:52] WARNING: ../src/learner.cc:767: \n",
            "Parameters: { \"n_estimators\", \"use_label_encoder\" } are not used.\n",
            "\n",
            "[0]\tvalidation-auc:0.85621\n",
            "[1]\tvalidation-auc:0.86429\n",
            "[2]\tvalidation-auc:0.86810\n",
            "[3]\tvalidation-auc:0.87052\n",
            "[4]\tvalidation-auc:0.87157\n",
            "[5]\tvalidation-auc:0.87157\n",
            "[6]\tvalidation-auc:0.87243\n",
            "[7]\tvalidation-auc:0.87327\n",
            "[8]\tvalidation-auc:0.87470\n",
            "[9]\tvalidation-auc:0.87507\n"
          ]
        },
        {
          "output_type": "stream",
          "name": "stderr",
          "text": [
            "\u001b[32m[I 2023-03-20 00:03:53,040]\u001b[0m Trial 66 finished with value: 0.7963957055214724 and parameters: {'max_depth': 9, 'learning_rate': 0.09390539877461875, 'n_estimators': 327, 'min_child_weight': 9, 'gamma': 0.013667152354999965, 'subsample': 0.8684926988992122, 'colsample_bytree': 0.8680751875785687, 'reg_alpha': 0.5729629517930541, 'reg_lambda': 2.0733363389711294e-07}. Best is trial 61 with value: 0.80329754601227.\u001b[0m\n"
          ]
        },
        {
          "output_type": "stream",
          "name": "stdout",
          "text": [
            "Trial 66 finished with value: 0.7963957055214724 and parameters: {'max_depth': 9, 'learning_rate': 0.09390539877461875, 'n_estimators': 327, 'min_child_weight': 9, 'gamma': 0.013667152354999965, 'subsample': 0.8684926988992122, 'colsample_bytree': 0.8680751875785687, 'reg_alpha': 0.5729629517930541, 'reg_lambda': 2.0733363389711294e-07}. Best is trial 61 with value: 0.80329754601227.\n",
            "[00:03:53] WARNING: ../src/learner.cc:767: \n",
            "Parameters: { \"n_estimators\", \"use_label_encoder\" } are not used.\n",
            "\n",
            "[0]\tvalidation-auc:0.82785\n",
            "[1]\tvalidation-auc:0.85324\n",
            "[2]\tvalidation-auc:0.86113\n",
            "[3]\tvalidation-auc:0.86689\n",
            "[4]\tvalidation-auc:0.86826\n",
            "[5]\tvalidation-auc:0.86685\n",
            "[6]\tvalidation-auc:0.87065\n",
            "[7]\tvalidation-auc:0.87175\n",
            "[8]\tvalidation-auc:0.87313\n",
            "[9]\tvalidation-auc:0.87292\n"
          ]
        },
        {
          "output_type": "stream",
          "name": "stderr",
          "text": [
            "\u001b[32m[I 2023-03-20 00:03:53,257]\u001b[0m Trial 67 finished with value: 0.7910276073619632 and parameters: {'max_depth': 9, 'learning_rate': 0.14560029767456234, 'n_estimators': 294, 'min_child_weight': 9, 'gamma': 0.06727011138518352, 'subsample': 0.6400916270839172, 'colsample_bytree': 0.7423073067069829, 'reg_alpha': 0.3898171323328173, 'reg_lambda': 1.8832580870942031e-06}. Best is trial 61 with value: 0.80329754601227.\u001b[0m\n"
          ]
        },
        {
          "output_type": "stream",
          "name": "stdout",
          "text": [
            "Trial 67 finished with value: 0.7910276073619632 and parameters: {'max_depth': 9, 'learning_rate': 0.14560029767456234, 'n_estimators': 294, 'min_child_weight': 9, 'gamma': 0.06727011138518352, 'subsample': 0.6400916270839172, 'colsample_bytree': 0.7423073067069829, 'reg_alpha': 0.3898171323328173, 'reg_lambda': 1.8832580870942031e-06}. Best is trial 61 with value: 0.80329754601227.\n",
            "[00:03:53] WARNING: ../src/learner.cc:767: \n",
            "Parameters: { \"n_estimators\", \"use_label_encoder\" } are not used.\n",
            "\n",
            "[0]\tvalidation-auc:0.86048\n",
            "[1]\tvalidation-auc:0.86320\n",
            "[2]\tvalidation-auc:0.86897\n",
            "[3]\tvalidation-auc:0.87262\n",
            "[4]\tvalidation-auc:0.87249\n",
            "[5]\tvalidation-auc:0.87292\n",
            "[6]\tvalidation-auc:0.87434\n",
            "[7]\tvalidation-auc:0.87567\n",
            "[8]\tvalidation-auc:0.87630\n",
            "[9]\tvalidation-auc:0.87693\n"
          ]
        },
        {
          "output_type": "stream",
          "name": "stderr",
          "text": [
            "\u001b[32m[I 2023-03-20 00:03:53,500]\u001b[0m Trial 68 finished with value: 0.8009969325153374 and parameters: {'max_depth': 9, 'learning_rate': 0.1841546546572245, 'n_estimators': 270, 'min_child_weight': 8, 'gamma': 0.004223645019503463, 'subsample': 0.848838102306844, 'colsample_bytree': 0.8756138708783759, 'reg_alpha': 0.1551598633131745, 'reg_lambda': 8.987359604325584e-06}. Best is trial 61 with value: 0.80329754601227.\u001b[0m\n"
          ]
        },
        {
          "output_type": "stream",
          "name": "stdout",
          "text": [
            "Trial 68 finished with value: 0.8009969325153374 and parameters: {'max_depth': 9, 'learning_rate': 0.1841546546572245, 'n_estimators': 270, 'min_child_weight': 8, 'gamma': 0.004223645019503463, 'subsample': 0.848838102306844, 'colsample_bytree': 0.8756138708783759, 'reg_alpha': 0.1551598633131745, 'reg_lambda': 8.987359604325584e-06}. Best is trial 61 with value: 0.80329754601227.\n",
            "[00:03:53] WARNING: ../src/learner.cc:767: \n",
            "Parameters: { \"n_estimators\", \"use_label_encoder\" } are not used.\n",
            "\n",
            "[0]\tvalidation-auc:0.79619\n",
            "[1]\tvalidation-auc:0.83718\n",
            "[2]\tvalidation-auc:0.84264\n",
            "[3]\tvalidation-auc:0.85893\n",
            "[4]\tvalidation-auc:0.86011\n",
            "[5]\tvalidation-auc:0.85946\n",
            "[6]\tvalidation-auc:0.86526\n",
            "[7]\tvalidation-auc:0.86723\n",
            "[8]\tvalidation-auc:0.87021\n",
            "[9]\tvalidation-auc:0.87120\n"
          ]
        },
        {
          "output_type": "stream",
          "name": "stderr",
          "text": [
            "\u001b[32m[I 2023-03-20 00:03:53,714]\u001b[0m Trial 69 finished with value: 0.7979294478527608 and parameters: {'max_depth': 9, 'learning_rate': 0.17486567008558215, 'n_estimators': 267, 'min_child_weight': 9, 'gamma': 0.001994925026463214, 'subsample': 0.7204624533663468, 'colsample_bytree': 0.5544790322008574, 'reg_alpha': 0.6256108949556654, 'reg_lambda': 1.1835436630100242e-05}. Best is trial 61 with value: 0.80329754601227.\u001b[0m\n"
          ]
        },
        {
          "output_type": "stream",
          "name": "stdout",
          "text": [
            "Trial 69 finished with value: 0.7979294478527608 and parameters: {'max_depth': 9, 'learning_rate': 0.17486567008558215, 'n_estimators': 267, 'min_child_weight': 9, 'gamma': 0.001994925026463214, 'subsample': 0.7204624533663468, 'colsample_bytree': 0.5544790322008574, 'reg_alpha': 0.6256108949556654, 'reg_lambda': 1.1835436630100242e-05}. Best is trial 61 with value: 0.80329754601227.\n",
            "[00:03:53] WARNING: ../src/learner.cc:767: \n",
            "Parameters: { \"n_estimators\", \"use_label_encoder\" } are not used.\n",
            "\n",
            "[0]\tvalidation-auc:0.82888\n",
            "[1]\tvalidation-auc:0.85856\n",
            "[2]\tvalidation-auc:0.86141\n",
            "[3]\tvalidation-auc:0.86731\n",
            "[4]\tvalidation-auc:0.86923\n",
            "[5]\tvalidation-auc:0.86800\n",
            "[6]\tvalidation-auc:0.87163\n",
            "[7]\tvalidation-auc:0.87156\n",
            "[8]\tvalidation-auc:0.87316\n",
            "[9]\tvalidation-auc:0.87322\n"
          ]
        },
        {
          "output_type": "stream",
          "name": "stderr",
          "text": [
            "\u001b[32m[I 2023-03-20 00:03:53,959]\u001b[0m Trial 70 finished with value: 0.7891104294478528 and parameters: {'max_depth': 9, 'learning_rate': 0.11113131309345, 'n_estimators': 217, 'min_child_weight': 8, 'gamma': 0.027152899476521695, 'subsample': 0.5713442573098537, 'colsample_bytree': 0.7349411010376885, 'reg_alpha': 0.1967022719031027, 'reg_lambda': 6.13408407312114e-06}. Best is trial 61 with value: 0.80329754601227.\u001b[0m\n"
          ]
        },
        {
          "output_type": "stream",
          "name": "stdout",
          "text": [
            "Trial 70 finished with value: 0.7891104294478528 and parameters: {'max_depth': 9, 'learning_rate': 0.11113131309345, 'n_estimators': 217, 'min_child_weight': 8, 'gamma': 0.027152899476521695, 'subsample': 0.5713442573098537, 'colsample_bytree': 0.7349411010376885, 'reg_alpha': 0.1967022719031027, 'reg_lambda': 6.13408407312114e-06}. Best is trial 61 with value: 0.80329754601227.\n",
            "[00:03:54] WARNING: ../src/learner.cc:767: \n",
            "Parameters: { \"n_estimators\", \"use_label_encoder\" } are not used.\n",
            "\n",
            "[0]\tvalidation-auc:0.86476\n",
            "[1]\tvalidation-auc:0.86775\n",
            "[2]\tvalidation-auc:0.87081\n",
            "[3]\tvalidation-auc:0.87299\n",
            "[4]\tvalidation-auc:0.87466\n",
            "[5]\tvalidation-auc:0.87432\n",
            "[6]\tvalidation-auc:0.87360\n",
            "[7]\tvalidation-auc:0.87416\n",
            "[8]\tvalidation-auc:0.87543\n",
            "[9]\tvalidation-auc:0.87539\n"
          ]
        },
        {
          "output_type": "stream",
          "name": "stderr",
          "text": [
            "\u001b[32m[I 2023-03-20 00:03:54,220]\u001b[0m Trial 71 finished with value: 0.8006134969325154 and parameters: {'max_depth': 9, 'learning_rate': 0.13598643991339063, 'n_estimators': 316, 'min_child_weight': 8, 'gamma': 0.004691627511271693, 'subsample': 0.9971675675118983, 'colsample_bytree': 0.8985816127049221, 'reg_alpha': 0.0739424675969743, 'reg_lambda': 2.013904146435965e-06}. Best is trial 61 with value: 0.80329754601227.\u001b[0m\n"
          ]
        },
        {
          "output_type": "stream",
          "name": "stdout",
          "text": [
            "Trial 71 finished with value: 0.8006134969325154 and parameters: {'max_depth': 9, 'learning_rate': 0.13598643991339063, 'n_estimators': 316, 'min_child_weight': 8, 'gamma': 0.004691627511271693, 'subsample': 0.9971675675118983, 'colsample_bytree': 0.8985816127049221, 'reg_alpha': 0.0739424675969743, 'reg_lambda': 2.013904146435965e-06}. Best is trial 61 with value: 0.80329754601227.\n",
            "[00:03:54] WARNING: ../src/learner.cc:767: \n",
            "Parameters: { \"n_estimators\", \"use_label_encoder\" } are not used.\n",
            "\n",
            "[0]\tvalidation-auc:0.86022\n",
            "[1]\tvalidation-auc:0.86547\n",
            "[2]\tvalidation-auc:0.87002\n",
            "[3]\tvalidation-auc:0.87297\n",
            "[4]\tvalidation-auc:0.87523\n",
            "[5]\tvalidation-auc:0.87493\n",
            "[6]\tvalidation-auc:0.87484\n",
            "[7]\tvalidation-auc:0.87594\n",
            "[8]\tvalidation-auc:0.87642\n",
            "[9]\tvalidation-auc:0.87608\n"
          ]
        },
        {
          "output_type": "stream",
          "name": "stderr",
          "text": [
            "\u001b[32m[I 2023-03-20 00:03:54,484]\u001b[0m Trial 72 finished with value: 0.7960122699386503 and parameters: {'max_depth': 9, 'learning_rate': 0.17921788373289893, 'n_estimators': 336, 'min_child_weight': 7, 'gamma': 0.0035994750886329213, 'subsample': 0.9516478478094749, 'colsample_bytree': 0.8747853366990269, 'reg_alpha': 0.06112277716291814, 'reg_lambda': 3.437937273514594e-07}. Best is trial 61 with value: 0.80329754601227.\u001b[0m\n"
          ]
        },
        {
          "output_type": "stream",
          "name": "stdout",
          "text": [
            "Trial 72 finished with value: 0.7960122699386503 and parameters: {'max_depth': 9, 'learning_rate': 0.17921788373289893, 'n_estimators': 336, 'min_child_weight': 7, 'gamma': 0.0035994750886329213, 'subsample': 0.9516478478094749, 'colsample_bytree': 0.8747853366990269, 'reg_alpha': 0.06112277716291814, 'reg_lambda': 3.437937273514594e-07}. Best is trial 61 with value: 0.80329754601227.\n",
            "[00:03:54] WARNING: ../src/learner.cc:767: \n",
            "Parameters: { \"n_estimators\", \"use_label_encoder\" } are not used.\n",
            "\n",
            "[0]\tvalidation-auc:0.85879\n",
            "[1]\tvalidation-auc:0.87005\n",
            "[2]\tvalidation-auc:0.87288\n",
            "[3]\tvalidation-auc:0.87361\n",
            "[4]\tvalidation-auc:0.87446\n",
            "[5]\tvalidation-auc:0.87600\n",
            "[6]\tvalidation-auc:0.87605\n",
            "[7]\tvalidation-auc:0.87685\n",
            "[8]\tvalidation-auc:0.87754\n",
            "[9]\tvalidation-auc:0.87731\n"
          ]
        },
        {
          "output_type": "stream",
          "name": "stderr",
          "text": [
            "\u001b[32m[I 2023-03-20 00:03:54,721]\u001b[0m Trial 73 finished with value: 0.7967791411042945 and parameters: {'max_depth': 9, 'learning_rate': 0.15513117328620557, 'n_estimators': 316, 'min_child_weight': 8, 'gamma': 0.005768373716182954, 'subsample': 0.740155238624918, 'colsample_bytree': 0.8966681852980936, 'reg_alpha': 0.1445033648111474, 'reg_lambda': 1.6084541668682866e-06}. Best is trial 61 with value: 0.80329754601227.\u001b[0m\n"
          ]
        },
        {
          "output_type": "stream",
          "name": "stdout",
          "text": [
            "Trial 73 finished with value: 0.7967791411042945 and parameters: {'max_depth': 9, 'learning_rate': 0.15513117328620557, 'n_estimators': 316, 'min_child_weight': 8, 'gamma': 0.005768373716182954, 'subsample': 0.740155238624918, 'colsample_bytree': 0.8966681852980936, 'reg_alpha': 0.1445033648111474, 'reg_lambda': 1.6084541668682866e-06}. Best is trial 61 with value: 0.80329754601227.\n",
            "[00:03:54] WARNING: ../src/learner.cc:767: \n",
            "Parameters: { \"n_estimators\", \"use_label_encoder\" } are not used.\n",
            "\n",
            "[0]\tvalidation-auc:0.82620\n",
            "[1]\tvalidation-auc:0.85277\n",
            "[2]\tvalidation-auc:0.86343\n",
            "[3]\tvalidation-auc:0.86698\n",
            "[4]\tvalidation-auc:0.86722\n",
            "[5]\tvalidation-auc:0.86689\n",
            "[6]\tvalidation-auc:0.86954\n",
            "[7]\tvalidation-auc:0.86945\n",
            "[8]\tvalidation-auc:0.87173\n",
            "[9]\tvalidation-auc:0.87126\n"
          ]
        },
        {
          "output_type": "stream",
          "name": "stderr",
          "text": [
            "\u001b[32m[I 2023-03-20 00:03:54,963]\u001b[0m Trial 74 finished with value: 0.7914110429447853 and parameters: {'max_depth': 8, 'learning_rate': 0.11953193828953748, 'n_estimators': 279, 'min_child_weight': 9, 'gamma': 0.045034038897986566, 'subsample': 0.854966542886835, 'colsample_bytree': 0.7045783309574445, 'reg_alpha': 0.03032975440410038, 'reg_lambda': 2.3941197938510287e-07}. Best is trial 61 with value: 0.80329754601227.\u001b[0m\n"
          ]
        },
        {
          "output_type": "stream",
          "name": "stdout",
          "text": [
            "Trial 74 finished with value: 0.7914110429447853 and parameters: {'max_depth': 8, 'learning_rate': 0.11953193828953748, 'n_estimators': 279, 'min_child_weight': 9, 'gamma': 0.045034038897986566, 'subsample': 0.854966542886835, 'colsample_bytree': 0.7045783309574445, 'reg_alpha': 0.03032975440410038, 'reg_lambda': 2.3941197938510287e-07}. Best is trial 61 with value: 0.80329754601227.\n",
            "[00:03:55] WARNING: ../src/learner.cc:767: \n",
            "Parameters: { \"n_estimators\", \"use_label_encoder\" } are not used.\n",
            "\n",
            "[0]\tvalidation-auc:0.83873\n",
            "[1]\tvalidation-auc:0.86013\n",
            "[2]\tvalidation-auc:0.86750\n",
            "[3]\tvalidation-auc:0.87163\n",
            "[4]\tvalidation-auc:0.87245\n",
            "[5]\tvalidation-auc:0.87220\n",
            "[6]\tvalidation-auc:0.87291\n",
            "[7]\tvalidation-auc:0.87368\n",
            "[8]\tvalidation-auc:0.87459\n",
            "[9]\tvalidation-auc:0.87575\n"
          ]
        },
        {
          "output_type": "stream",
          "name": "stderr",
          "text": [
            "\u001b[32m[I 2023-03-20 00:03:55,181]\u001b[0m Trial 75 finished with value: 0.7979294478527608 and parameters: {'max_depth': 9, 'learning_rate': 0.2170881230217226, 'n_estimators': 269, 'min_child_weight': 7, 'gamma': 0.0007604879322074508, 'subsample': 0.5879379403261912, 'colsample_bytree': 0.7751041471627277, 'reg_alpha': 0.3891759911541255, 'reg_lambda': 1.9364553103053354e-06}. Best is trial 61 with value: 0.80329754601227.\u001b[0m\n"
          ]
        },
        {
          "output_type": "stream",
          "name": "stdout",
          "text": [
            "Trial 75 finished with value: 0.7979294478527608 and parameters: {'max_depth': 9, 'learning_rate': 0.2170881230217226, 'n_estimators': 269, 'min_child_weight': 7, 'gamma': 0.0007604879322074508, 'subsample': 0.5879379403261912, 'colsample_bytree': 0.7751041471627277, 'reg_alpha': 0.3891759911541255, 'reg_lambda': 1.9364553103053354e-06}. Best is trial 61 with value: 0.80329754601227.\n",
            "[00:03:55] WARNING: ../src/learner.cc:767: \n",
            "Parameters: { \"n_estimators\", \"use_label_encoder\" } are not used.\n",
            "\n",
            "[0]\tvalidation-auc:0.79333\n",
            "[1]\tvalidation-auc:0.80550\n",
            "[2]\tvalidation-auc:0.82788\n",
            "[3]\tvalidation-auc:0.82843\n",
            "[4]\tvalidation-auc:0.83121\n",
            "[5]\tvalidation-auc:0.83119\n",
            "[6]\tvalidation-auc:0.84282\n",
            "[7]\tvalidation-auc:0.84526\n",
            "[8]\tvalidation-auc:0.84697\n",
            "[9]\tvalidation-auc:0.84517\n"
          ]
        },
        {
          "output_type": "stream",
          "name": "stderr",
          "text": [
            "\u001b[32m[I 2023-03-20 00:03:55,401]\u001b[0m Trial 76 finished with value: 0.7726226993865031 and parameters: {'max_depth': 8, 'learning_rate': 0.08156424794396, 'n_estimators': 246, 'min_child_weight': 8, 'gamma': 0.018307836711556943, 'subsample': 0.9873675460295227, 'colsample_bytree': 0.45368163930267086, 'reg_alpha': 0.08173562523271807, 'reg_lambda': 6.196050231836264e-07}. Best is trial 61 with value: 0.80329754601227.\u001b[0m\n"
          ]
        },
        {
          "output_type": "stream",
          "name": "stdout",
          "text": [
            "Trial 76 finished with value: 0.7726226993865031 and parameters: {'max_depth': 8, 'learning_rate': 0.08156424794396, 'n_estimators': 246, 'min_child_weight': 8, 'gamma': 0.018307836711556943, 'subsample': 0.9873675460295227, 'colsample_bytree': 0.45368163930267086, 'reg_alpha': 0.08173562523271807, 'reg_lambda': 6.196050231836264e-07}. Best is trial 61 with value: 0.80329754601227.\n",
            "[00:03:55] WARNING: ../src/learner.cc:767: \n",
            "Parameters: { \"n_estimators\", \"use_label_encoder\" } are not used.\n",
            "\n",
            "[0]\tvalidation-auc:0.79185\n",
            "[1]\tvalidation-auc:0.83487\n",
            "[2]\tvalidation-auc:0.84431\n",
            "[3]\tvalidation-auc:0.85906\n",
            "[4]\tvalidation-auc:0.86070\n",
            "[5]\tvalidation-auc:0.86050\n",
            "[6]\tvalidation-auc:0.86473\n",
            "[7]\tvalidation-auc:0.86635\n",
            "[8]\tvalidation-auc:0.86796\n",
            "[9]\tvalidation-auc:0.86818\n"
          ]
        },
        {
          "output_type": "stream",
          "name": "stderr",
          "text": [
            "\u001b[32m[I 2023-03-20 00:03:55,650]\u001b[0m Trial 77 finished with value: 0.7868098159509203 and parameters: {'max_depth': 9, 'learning_rate': 0.18274367877507514, 'n_estimators': 312, 'min_child_weight': 7, 'gamma': 0.0037634184919241092, 'subsample': 0.782938689150471, 'colsample_bytree': 0.6027736956511044, 'reg_alpha': 0.1894648746591949, 'reg_lambda': 4.529598603846584e-06}. Best is trial 61 with value: 0.80329754601227.\u001b[0m\n"
          ]
        },
        {
          "output_type": "stream",
          "name": "stdout",
          "text": [
            "Trial 77 finished with value: 0.7868098159509203 and parameters: {'max_depth': 9, 'learning_rate': 0.18274367877507514, 'n_estimators': 312, 'min_child_weight': 7, 'gamma': 0.0037634184919241092, 'subsample': 0.782938689150471, 'colsample_bytree': 0.6027736956511044, 'reg_alpha': 0.1894648746591949, 'reg_lambda': 4.529598603846584e-06}. Best is trial 61 with value: 0.80329754601227.\n",
            "[00:03:55] WARNING: ../src/learner.cc:767: \n",
            "Parameters: { \"n_estimators\", \"use_label_encoder\" } are not used.\n",
            "\n",
            "[0]\tvalidation-auc:0.85920\n",
            "[1]\tvalidation-auc:0.86440\n",
            "[2]\tvalidation-auc:0.86979\n",
            "[3]\tvalidation-auc:0.87134\n",
            "[4]\tvalidation-auc:0.87382\n",
            "[5]\tvalidation-auc:0.87395\n",
            "[6]\tvalidation-auc:0.87549\n",
            "[7]\tvalidation-auc:0.87594\n",
            "[8]\tvalidation-auc:0.87689\n",
            "[9]\tvalidation-auc:0.87731\n"
          ]
        },
        {
          "output_type": "stream",
          "name": "stderr",
          "text": [
            "\u001b[32m[I 2023-03-20 00:03:55,895]\u001b[0m Trial 78 finished with value: 0.7960122699386503 and parameters: {'max_depth': 9, 'learning_rate': 0.15054753480786273, 'n_estimators': 327, 'min_child_weight': 8, 'gamma': 0.007401102367212245, 'subsample': 0.6861907244940361, 'colsample_bytree': 0.8963813958001918, 'reg_alpha': 0.0421296246752817, 'reg_lambda': 1.1048585217793378e-07}. Best is trial 61 with value: 0.80329754601227.\u001b[0m\n"
          ]
        },
        {
          "output_type": "stream",
          "name": "stdout",
          "text": [
            "Trial 78 finished with value: 0.7960122699386503 and parameters: {'max_depth': 9, 'learning_rate': 0.15054753480786273, 'n_estimators': 327, 'min_child_weight': 8, 'gamma': 0.007401102367212245, 'subsample': 0.6861907244940361, 'colsample_bytree': 0.8963813958001918, 'reg_alpha': 0.0421296246752817, 'reg_lambda': 1.1048585217793378e-07}. Best is trial 61 with value: 0.80329754601227.\n",
            "[00:03:55] WARNING: ../src/learner.cc:767: \n",
            "Parameters: { \"n_estimators\", \"use_label_encoder\" } are not used.\n",
            "\n",
            "[0]\tvalidation-auc:0.80465\n",
            "[1]\tvalidation-auc:0.83418\n",
            "[2]\tvalidation-auc:0.84739\n",
            "[3]\tvalidation-auc:0.86087\n",
            "[4]\tvalidation-auc:0.86152\n",
            "[5]\tvalidation-auc:0.86189\n",
            "[6]\tvalidation-auc:0.86742\n",
            "[7]\tvalidation-auc:0.86992\n",
            "[8]\tvalidation-auc:0.87148\n",
            "[9]\tvalidation-auc:0.87203\n"
          ]
        },
        {
          "output_type": "stream",
          "name": "stderr",
          "text": [
            "\u001b[32m[I 2023-03-20 00:03:56,114]\u001b[0m Trial 79 finished with value: 0.7898773006134969 and parameters: {'max_depth': 8, 'learning_rate': 0.13295061475871559, 'n_estimators': 288, 'min_child_weight': 9, 'gamma': 0.08544800756886423, 'subsample': 0.6244484161811698, 'colsample_bytree': 0.6678888108232248, 'reg_alpha': 0.08383714082715996, 'reg_lambda': 1.0470358633431357e-06}. Best is trial 61 with value: 0.80329754601227.\u001b[0m\n"
          ]
        },
        {
          "output_type": "stream",
          "name": "stdout",
          "text": [
            "Trial 79 finished with value: 0.7898773006134969 and parameters: {'max_depth': 8, 'learning_rate': 0.13295061475871559, 'n_estimators': 288, 'min_child_weight': 9, 'gamma': 0.08544800756886423, 'subsample': 0.6244484161811698, 'colsample_bytree': 0.6678888108232248, 'reg_alpha': 0.08383714082715996, 'reg_lambda': 1.0470358633431357e-06}. Best is trial 61 with value: 0.80329754601227.\n",
            "[00:03:56] WARNING: ../src/learner.cc:767: \n",
            "Parameters: { \"n_estimators\", \"use_label_encoder\" } are not used.\n",
            "\n",
            "[0]\tvalidation-auc:0.79285\n",
            "[1]\tvalidation-auc:0.83579\n",
            "[2]\tvalidation-auc:0.84255\n",
            "[3]\tvalidation-auc:0.85789\n",
            "[4]\tvalidation-auc:0.85970\n",
            "[5]\tvalidation-auc:0.85920\n",
            "[6]\tvalidation-auc:0.86463\n",
            "[7]\tvalidation-auc:0.86736\n",
            "[8]\tvalidation-auc:0.87120\n",
            "[9]\tvalidation-auc:0.87180\n"
          ]
        },
        {
          "output_type": "stream",
          "name": "stderr",
          "text": [
            "\u001b[32m[I 2023-03-20 00:03:56,353]\u001b[0m Trial 80 finished with value: 0.7933282208588958 and parameters: {'max_depth': 9, 'learning_rate': 0.20312366909971477, 'n_estimators': 343, 'min_child_weight': 8, 'gamma': 0.03148515264234442, 'subsample': 0.9940274392535035, 'colsample_bytree': 0.5608106941481956, 'reg_alpha': 0.5144906409017154, 'reg_lambda': 1.6396570627539065e-07}. Best is trial 61 with value: 0.80329754601227.\u001b[0m\n"
          ]
        },
        {
          "output_type": "stream",
          "name": "stdout",
          "text": [
            "Trial 80 finished with value: 0.7933282208588958 and parameters: {'max_depth': 9, 'learning_rate': 0.20312366909971477, 'n_estimators': 343, 'min_child_weight': 8, 'gamma': 0.03148515264234442, 'subsample': 0.9940274392535035, 'colsample_bytree': 0.5608106941481956, 'reg_alpha': 0.5144906409017154, 'reg_lambda': 1.6396570627539065e-07}. Best is trial 61 with value: 0.80329754601227.\n",
            "[00:03:56] WARNING: ../src/learner.cc:767: \n",
            "Parameters: { \"n_estimators\", \"use_label_encoder\" } are not used.\n",
            "\n",
            "[0]\tvalidation-auc:0.85758\n",
            "[1]\tvalidation-auc:0.86458\n",
            "[2]\tvalidation-auc:0.86923\n",
            "[3]\tvalidation-auc:0.87148\n",
            "[4]\tvalidation-auc:0.87392\n",
            "[5]\tvalidation-auc:0.87507\n",
            "[6]\tvalidation-auc:0.87627\n",
            "[7]\tvalidation-auc:0.87644\n",
            "[8]\tvalidation-auc:0.87654\n",
            "[9]\tvalidation-auc:0.87686\n"
          ]
        },
        {
          "output_type": "stream",
          "name": "stderr",
          "text": [
            "\u001b[32m[I 2023-03-20 00:03:56,610]\u001b[0m Trial 81 finished with value: 0.7994631901840491 and parameters: {'max_depth': 9, 'learning_rate': 0.1291162115116039, 'n_estimators': 301, 'min_child_weight': 8, 'gamma': 0.012315052336586522, 'subsample': 0.8744436846224, 'colsample_bytree': 0.9783514712629344, 'reg_alpha': 0.09773510244962287, 'reg_lambda': 6.963130360200974e-07}. Best is trial 61 with value: 0.80329754601227.\u001b[0m\n"
          ]
        },
        {
          "output_type": "stream",
          "name": "stdout",
          "text": [
            "Trial 81 finished with value: 0.7994631901840491 and parameters: {'max_depth': 9, 'learning_rate': 0.1291162115116039, 'n_estimators': 301, 'min_child_weight': 8, 'gamma': 0.012315052336586522, 'subsample': 0.8744436846224, 'colsample_bytree': 0.9783514712629344, 'reg_alpha': 0.09773510244962287, 'reg_lambda': 6.963130360200974e-07}. Best is trial 61 with value: 0.80329754601227.\n",
            "[00:03:56] WARNING: ../src/learner.cc:767: \n",
            "Parameters: { \"n_estimators\", \"use_label_encoder\" } are not used.\n",
            "\n",
            "[0]\tvalidation-auc:0.85889\n",
            "[1]\tvalidation-auc:0.86566\n",
            "[2]\tvalidation-auc:0.87109\n",
            "[3]\tvalidation-auc:0.87422\n",
            "[4]\tvalidation-auc:0.87676\n",
            "[5]\tvalidation-auc:0.87837\n",
            "[6]\tvalidation-auc:0.87898\n",
            "[7]\tvalidation-auc:0.88004\n",
            "[8]\tvalidation-auc:0.87968\n",
            "[9]\tvalidation-auc:0.87978\n"
          ]
        },
        {
          "output_type": "stream",
          "name": "stderr",
          "text": [
            "\u001b[32m[I 2023-03-20 00:03:56,857]\u001b[0m Trial 82 finished with value: 0.8044478527607362 and parameters: {'max_depth': 9, 'learning_rate': 0.1699607699828165, 'n_estimators': 256, 'min_child_weight': 9, 'gamma': 0.018298408171734715, 'subsample': 0.8586025588776682, 'colsample_bytree': 0.9966205486897511, 'reg_alpha': 0.23515692182124337, 'reg_lambda': 3.861750650247784e-07}. Best is trial 82 with value: 0.8044478527607362.\u001b[0m\n"
          ]
        },
        {
          "output_type": "stream",
          "name": "stdout",
          "text": [
            "Trial 82 finished with value: 0.8044478527607362 and parameters: {'max_depth': 9, 'learning_rate': 0.1699607699828165, 'n_estimators': 256, 'min_child_weight': 9, 'gamma': 0.018298408171734715, 'subsample': 0.8586025588776682, 'colsample_bytree': 0.9966205486897511, 'reg_alpha': 0.23515692182124337, 'reg_lambda': 3.861750650247784e-07}. Best is trial 82 with value: 0.8044478527607362.\n",
            "[00:03:56] WARNING: ../src/learner.cc:767: \n",
            "Parameters: { \"n_estimators\", \"use_label_encoder\" } are not used.\n",
            "\n",
            "[0]\tvalidation-auc:0.83960\n",
            "[1]\tvalidation-auc:0.85599\n",
            "[2]\tvalidation-auc:0.86401\n",
            "[3]\tvalidation-auc:0.86882\n",
            "[4]\tvalidation-auc:0.87024\n",
            "[5]\tvalidation-auc:0.87028\n",
            "[6]\tvalidation-auc:0.87203\n",
            "[7]\tvalidation-auc:0.87136\n",
            "[8]\tvalidation-auc:0.87233\n",
            "[9]\tvalidation-auc:0.87399\n"
          ]
        },
        {
          "output_type": "stream",
          "name": "stderr",
          "text": [
            "\u001b[32m[I 2023-03-20 00:03:57,070]\u001b[0m Trial 83 finished with value: 0.7952453987730062 and parameters: {'max_depth': 9, 'learning_rate': 0.16930691112074764, 'n_estimators': 251, 'min_child_weight': 10, 'gamma': 0.021125116859658944, 'subsample': 0.7761806800202449, 'colsample_bytree': 0.7823328117027712, 'reg_alpha': 0.23698276789989992, 'reg_lambda': 4.230226995108428e-07}. Best is trial 82 with value: 0.8044478527607362.\u001b[0m\n"
          ]
        },
        {
          "output_type": "stream",
          "name": "stdout",
          "text": [
            "Trial 83 finished with value: 0.7952453987730062 and parameters: {'max_depth': 9, 'learning_rate': 0.16930691112074764, 'n_estimators': 251, 'min_child_weight': 10, 'gamma': 0.021125116859658944, 'subsample': 0.7761806800202449, 'colsample_bytree': 0.7823328117027712, 'reg_alpha': 0.23698276789989992, 'reg_lambda': 4.230226995108428e-07}. Best is trial 82 with value: 0.8044478527607362.\n",
            "[00:03:57] WARNING: ../src/learner.cc:767: \n",
            "Parameters: { \"n_estimators\", \"use_label_encoder\" } are not used.\n",
            "\n",
            "[0]\tvalidation-auc:0.86217\n",
            "[1]\tvalidation-auc:0.86656\n",
            "[2]\tvalidation-auc:0.86981\n",
            "[3]\tvalidation-auc:0.87338\n",
            "[4]\tvalidation-auc:0.87342\n",
            "[5]\tvalidation-auc:0.87306\n",
            "[6]\tvalidation-auc:0.87441\n",
            "[7]\tvalidation-auc:0.87547\n",
            "[8]\tvalidation-auc:0.87593\n",
            "[9]\tvalidation-auc:0.87678\n"
          ]
        },
        {
          "output_type": "stream",
          "name": "stderr",
          "text": [
            "\u001b[32m[I 2023-03-20 00:03:57,278]\u001b[0m Trial 84 finished with value: 0.7983128834355828 and parameters: {'max_depth': 8, 'learning_rate': 0.24098102860164752, 'n_estimators': 229, 'min_child_weight': 9, 'gamma': 0.05128936084106478, 'subsample': 0.6667924467437173, 'colsample_bytree': 0.8759101721518276, 'reg_alpha': 0.7517341395471133, 'reg_lambda': 6.844335392146835e-08}. Best is trial 82 with value: 0.8044478527607362.\u001b[0m\n"
          ]
        },
        {
          "output_type": "stream",
          "name": "stdout",
          "text": [
            "Trial 84 finished with value: 0.7983128834355828 and parameters: {'max_depth': 8, 'learning_rate': 0.24098102860164752, 'n_estimators': 229, 'min_child_weight': 9, 'gamma': 0.05128936084106478, 'subsample': 0.6667924467437173, 'colsample_bytree': 0.8759101721518276, 'reg_alpha': 0.7517341395471133, 'reg_lambda': 6.844335392146835e-08}. Best is trial 82 with value: 0.8044478527607362.\n",
            "[00:03:57] WARNING: ../src/learner.cc:767: \n",
            "Parameters: { \"n_estimators\", \"use_label_encoder\" } are not used.\n",
            "\n",
            "[0]\tvalidation-auc:0.82689\n",
            "[1]\tvalidation-auc:0.85216\n",
            "[2]\tvalidation-auc:0.86143\n",
            "[3]\tvalidation-auc:0.86606\n",
            "[4]\tvalidation-auc:0.86828\n",
            "[5]\tvalidation-auc:0.86836\n",
            "[6]\tvalidation-auc:0.87054\n",
            "[7]\tvalidation-auc:0.87009\n",
            "[8]\tvalidation-auc:0.87185\n",
            "[9]\tvalidation-auc:0.87118\n"
          ]
        },
        {
          "output_type": "stream",
          "name": "stderr",
          "text": [
            "\u001b[32m[I 2023-03-20 00:03:57,525]\u001b[0m Trial 85 finished with value: 0.7910276073619632 and parameters: {'max_depth': 9, 'learning_rate': 0.10901357556637944, 'n_estimators': 273, 'min_child_weight': 9, 'gamma': 0.00982722097636172, 'subsample': 0.8777250113570656, 'colsample_bytree': 0.7021058215074036, 'reg_alpha': 0.029925441064908635, 'reg_lambda': 2.544251498923976e-06}. Best is trial 82 with value: 0.8044478527607362.\u001b[0m\n"
          ]
        },
        {
          "output_type": "stream",
          "name": "stdout",
          "text": [
            "Trial 85 finished with value: 0.7910276073619632 and parameters: {'max_depth': 9, 'learning_rate': 0.10901357556637944, 'n_estimators': 273, 'min_child_weight': 9, 'gamma': 0.00982722097636172, 'subsample': 0.8777250113570656, 'colsample_bytree': 0.7021058215074036, 'reg_alpha': 0.029925441064908635, 'reg_lambda': 2.544251498923976e-06}. Best is trial 82 with value: 0.8044478527607362.\n",
            "[00:03:57] WARNING: ../src/learner.cc:767: \n",
            "Parameters: { \"n_estimators\", \"use_label_encoder\" } are not used.\n",
            "\n",
            "[0]\tvalidation-auc:0.85592\n",
            "[1]\tvalidation-auc:0.86500\n",
            "[2]\tvalidation-auc:0.86999\n",
            "[3]\tvalidation-auc:0.86977\n",
            "[4]\tvalidation-auc:0.87015\n",
            "[5]\tvalidation-auc:0.87173\n",
            "[6]\tvalidation-auc:0.87402\n",
            "[7]\tvalidation-auc:0.87552\n",
            "[8]\tvalidation-auc:0.87669\n",
            "[9]\tvalidation-auc:0.87708\n"
          ]
        },
        {
          "output_type": "stream",
          "name": "stderr",
          "text": [
            "\u001b[32m[I 2023-03-20 00:03:57,747]\u001b[0m Trial 86 finished with value: 0.7956288343558282 and parameters: {'max_depth': 9, 'learning_rate': 0.19454593822178176, 'n_estimators': 215, 'min_child_weight': 10, 'gamma': 0.12364659076070977, 'subsample': 0.7719335852353699, 'colsample_bytree': 0.8990925954293593, 'reg_alpha': 0.30626231051545816, 'reg_lambda': 1.2034076789361238e-06}. Best is trial 82 with value: 0.8044478527607362.\u001b[0m\n"
          ]
        },
        {
          "output_type": "stream",
          "name": "stdout",
          "text": [
            "Trial 86 finished with value: 0.7956288343558282 and parameters: {'max_depth': 9, 'learning_rate': 0.19454593822178176, 'n_estimators': 215, 'min_child_weight': 10, 'gamma': 0.12364659076070977, 'subsample': 0.7719335852353699, 'colsample_bytree': 0.8990925954293593, 'reg_alpha': 0.30626231051545816, 'reg_lambda': 1.2034076789361238e-06}. Best is trial 82 with value: 0.8044478527607362.\n",
            "[00:03:57] WARNING: ../src/learner.cc:767: \n",
            "Parameters: { \"n_estimators\", \"use_label_encoder\" } are not used.\n",
            "\n",
            "[0]\tvalidation-auc:0.78347\n",
            "[1]\tvalidation-auc:0.81355\n",
            "[2]\tvalidation-auc:0.83293\n",
            "[3]\tvalidation-auc:0.83095\n",
            "[4]\tvalidation-auc:0.83819\n",
            "[5]\tvalidation-auc:0.84105\n",
            "[6]\tvalidation-auc:0.84178\n",
            "[7]\tvalidation-auc:0.84283\n",
            "[8]\tvalidation-auc:0.84669\n",
            "[9]\tvalidation-auc:0.84928\n"
          ]
        },
        {
          "output_type": "stream",
          "name": "stderr",
          "text": [
            "\u001b[32m[I 2023-03-20 00:03:57,904]\u001b[0m Trial 87 finished with value: 0.7776073619631901 and parameters: {'max_depth': 2, 'learning_rate': 0.1582000535709208, 'n_estimators': 289, 'min_child_weight': 10, 'gamma': 0.17718897205051037, 'subsample': 0.5422644997451544, 'colsample_bytree': 0.8029495555806231, 'reg_alpha': 0.057142394100630975, 'reg_lambda': 1.0279564939747768e-07}. Best is trial 82 with value: 0.8044478527607362.\u001b[0m\n"
          ]
        },
        {
          "output_type": "stream",
          "name": "stdout",
          "text": [
            "Trial 87 finished with value: 0.7776073619631901 and parameters: {'max_depth': 2, 'learning_rate': 0.1582000535709208, 'n_estimators': 289, 'min_child_weight': 10, 'gamma': 0.17718897205051037, 'subsample': 0.5422644997451544, 'colsample_bytree': 0.8029495555806231, 'reg_alpha': 0.057142394100630975, 'reg_lambda': 1.0279564939747768e-07}. Best is trial 82 with value: 0.8044478527607362.\n",
            "[00:03:57] WARNING: ../src/learner.cc:767: \n",
            "Parameters: { \"n_estimators\", \"use_label_encoder\" } are not used.\n",
            "\n",
            "[0]\tvalidation-auc:0.82716\n",
            "[1]\tvalidation-auc:0.85325\n",
            "[2]\tvalidation-auc:0.86368\n",
            "[3]\tvalidation-auc:0.86744\n",
            "[4]\tvalidation-auc:0.86825\n",
            "[5]\tvalidation-auc:0.86813\n",
            "[6]\tvalidation-auc:0.87148\n",
            "[7]\tvalidation-auc:0.87202\n",
            "[8]\tvalidation-auc:0.87360\n",
            "[9]\tvalidation-auc:0.87273\n"
          ]
        },
        {
          "output_type": "stream",
          "name": "stderr",
          "text": [
            "\u001b[32m[I 2023-03-20 00:03:58,137]\u001b[0m Trial 88 finished with value: 0.7986963190184049 and parameters: {'max_depth': 8, 'learning_rate': 0.22962484811497014, 'n_estimators': 69, 'min_child_weight': 9, 'gamma': 0.01890537021402236, 'subsample': 0.9949765874203013, 'colsample_bytree': 0.6928646540917316, 'reg_alpha': 0.19102257232607597, 'reg_lambda': 2.2071126207417305e-07}. Best is trial 82 with value: 0.8044478527607362.\u001b[0m\n"
          ]
        },
        {
          "output_type": "stream",
          "name": "stdout",
          "text": [
            "Trial 88 finished with value: 0.7986963190184049 and parameters: {'max_depth': 8, 'learning_rate': 0.22962484811497014, 'n_estimators': 69, 'min_child_weight': 9, 'gamma': 0.01890537021402236, 'subsample': 0.9949765874203013, 'colsample_bytree': 0.6928646540917316, 'reg_alpha': 0.19102257232607597, 'reg_lambda': 2.2071126207417305e-07}. Best is trial 82 with value: 0.8044478527607362.\n",
            "[00:03:58] WARNING: ../src/learner.cc:767: \n",
            "Parameters: { \"n_estimators\", \"use_label_encoder\" } are not used.\n",
            "\n",
            "[0]\tvalidation-auc:0.79294\n",
            "[1]\tvalidation-auc:0.83661\n",
            "[2]\tvalidation-auc:0.84463\n",
            "[3]\tvalidation-auc:0.85981\n",
            "[4]\tvalidation-auc:0.86020\n",
            "[5]\tvalidation-auc:0.86025\n",
            "[6]\tvalidation-auc:0.86434\n",
            "[7]\tvalidation-auc:0.86634\n",
            "[8]\tvalidation-auc:0.86944\n",
            "[9]\tvalidation-auc:0.86920\n"
          ]
        },
        {
          "output_type": "stream",
          "name": "stderr",
          "text": [
            "\u001b[32m[I 2023-03-20 00:03:58,367]\u001b[0m Trial 89 finished with value: 0.7944785276073619 and parameters: {'max_depth': 9, 'learning_rate': 0.14399197722262128, 'n_estimators': 260, 'min_child_weight': 8, 'gamma': 0.03476483230286083, 'subsample': 0.6192934295650677, 'colsample_bytree': 0.5748268934064001, 'reg_alpha': 0.9357871427345061, 'reg_lambda': 7.87337560215317e-06}. Best is trial 82 with value: 0.8044478527607362.\u001b[0m\n"
          ]
        },
        {
          "output_type": "stream",
          "name": "stdout",
          "text": [
            "Trial 89 finished with value: 0.7944785276073619 and parameters: {'max_depth': 9, 'learning_rate': 0.14399197722262128, 'n_estimators': 260, 'min_child_weight': 8, 'gamma': 0.03476483230286083, 'subsample': 0.6192934295650677, 'colsample_bytree': 0.5748268934064001, 'reg_alpha': 0.9357871427345061, 'reg_lambda': 7.87337560215317e-06}. Best is trial 82 with value: 0.8044478527607362.\n",
            "[00:03:58] WARNING: ../src/learner.cc:767: \n",
            "Parameters: { \"n_estimators\", \"use_label_encoder\" } are not used.\n",
            "\n",
            "[0]\tvalidation-auc:0.86104\n",
            "[1]\tvalidation-auc:0.86707\n",
            "[2]\tvalidation-auc:0.87204\n",
            "[3]\tvalidation-auc:0.87452\n",
            "[4]\tvalidation-auc:0.87578\n",
            "[5]\tvalidation-auc:0.87648\n",
            "[6]\tvalidation-auc:0.87809\n",
            "[7]\tvalidation-auc:0.87885\n",
            "[8]\tvalidation-auc:0.87887\n",
            "[9]\tvalidation-auc:0.87972\n"
          ]
        },
        {
          "output_type": "stream",
          "name": "stderr",
          "text": [
            "\u001b[32m[I 2023-03-20 00:03:58,581]\u001b[0m Trial 90 finished with value: 0.8021472392638037 and parameters: {'max_depth': 8, 'learning_rate': 0.2978537720600441, 'n_estimators': 195, 'min_child_weight': 9, 'gamma': 0.0814658242120853, 'subsample': 0.8930090938190588, 'colsample_bytree': 0.9032805947129137, 'reg_alpha': 0.018562583164517307, 'reg_lambda': 3.417235372407949e-06}. Best is trial 82 with value: 0.8044478527607362.\u001b[0m\n"
          ]
        },
        {
          "output_type": "stream",
          "name": "stdout",
          "text": [
            "Trial 90 finished with value: 0.8021472392638037 and parameters: {'max_depth': 8, 'learning_rate': 0.2978537720600441, 'n_estimators': 195, 'min_child_weight': 9, 'gamma': 0.0814658242120853, 'subsample': 0.8930090938190588, 'colsample_bytree': 0.9032805947129137, 'reg_alpha': 0.018562583164517307, 'reg_lambda': 3.417235372407949e-06}. Best is trial 82 with value: 0.8044478527607362.\n",
            "[00:03:58] WARNING: ../src/learner.cc:767: \n",
            "Parameters: { \"n_estimators\", \"use_label_encoder\" } are not used.\n",
            "\n",
            "[0]\tvalidation-auc:0.86122\n",
            "[1]\tvalidation-auc:0.86683\n",
            "[2]\tvalidation-auc:0.87249\n",
            "[3]\tvalidation-auc:0.87587\n",
            "[4]\tvalidation-auc:0.87761\n",
            "[5]\tvalidation-auc:0.87921\n",
            "[6]\tvalidation-auc:0.87989\n",
            "[7]\tvalidation-auc:0.88025\n",
            "[8]\tvalidation-auc:0.88010\n",
            "[9]\tvalidation-auc:0.88086\n"
          ]
        },
        {
          "output_type": "stream",
          "name": "stderr",
          "text": [
            "\u001b[32m[I 2023-03-20 00:03:58,803]\u001b[0m Trial 91 finished with value: 0.803680981595092 and parameters: {'max_depth': 8, 'learning_rate': 0.31209498384819184, 'n_estimators': 235, 'min_child_weight': 9, 'gamma': 0.071493255429665, 'subsample': 0.8942241940134373, 'colsample_bytree': 0.9960008736852431, 'reg_alpha': 0.013393486968731896, 'reg_lambda': 3.7235353083951127e-06}. Best is trial 82 with value: 0.8044478527607362.\u001b[0m\n"
          ]
        },
        {
          "output_type": "stream",
          "name": "stdout",
          "text": [
            "Trial 91 finished with value: 0.803680981595092 and parameters: {'max_depth': 8, 'learning_rate': 0.31209498384819184, 'n_estimators': 235, 'min_child_weight': 9, 'gamma': 0.071493255429665, 'subsample': 0.8942241940134373, 'colsample_bytree': 0.9960008736852431, 'reg_alpha': 0.013393486968731896, 'reg_lambda': 3.7235353083951127e-06}. Best is trial 82 with value: 0.8044478527607362.\n",
            "[00:03:58] WARNING: ../src/learner.cc:767: \n",
            "Parameters: { \"n_estimators\", \"use_label_encoder\" } are not used.\n",
            "\n",
            "[0]\tvalidation-auc:0.85998\n",
            "[1]\tvalidation-auc:0.86768\n",
            "[2]\tvalidation-auc:0.87296\n",
            "[3]\tvalidation-auc:0.87546\n",
            "[4]\tvalidation-auc:0.87734\n",
            "[5]\tvalidation-auc:0.87854\n",
            "[6]\tvalidation-auc:0.87897\n",
            "[7]\tvalidation-auc:0.87979\n",
            "[8]\tvalidation-auc:0.87994\n",
            "[9]\tvalidation-auc:0.88043\n"
          ]
        },
        {
          "output_type": "stream",
          "name": "stderr",
          "text": [
            "\u001b[32m[I 2023-03-20 00:03:59,025]\u001b[0m Trial 92 finished with value: 0.8025306748466258 and parameters: {'max_depth': 8, 'learning_rate': 0.30327946383286625, 'n_estimators': 231, 'min_child_weight': 9, 'gamma': 0.0878549050429328, 'subsample': 0.7265502615094354, 'colsample_bytree': 0.993797091298192, 'reg_alpha': 0.01504956270328209, 'reg_lambda': 2.9279528374978932e-06}. Best is trial 82 with value: 0.8044478527607362.\u001b[0m\n"
          ]
        },
        {
          "output_type": "stream",
          "name": "stdout",
          "text": [
            "Trial 92 finished with value: 0.8025306748466258 and parameters: {'max_depth': 8, 'learning_rate': 0.30327946383286625, 'n_estimators': 231, 'min_child_weight': 9, 'gamma': 0.0878549050429328, 'subsample': 0.7265502615094354, 'colsample_bytree': 0.993797091298192, 'reg_alpha': 0.01504956270328209, 'reg_lambda': 2.9279528374978932e-06}. Best is trial 82 with value: 0.8044478527607362.\n",
            "[00:03:59] WARNING: ../src/learner.cc:767: \n",
            "Parameters: { \"n_estimators\", \"use_label_encoder\" } are not used.\n",
            "\n",
            "[0]\tvalidation-auc:0.86441\n",
            "[1]\tvalidation-auc:0.86959\n",
            "[2]\tvalidation-auc:0.87274\n",
            "[3]\tvalidation-auc:0.87508\n",
            "[4]\tvalidation-auc:0.87809\n",
            "[5]\tvalidation-auc:0.87949\n",
            "[6]\tvalidation-auc:0.87997\n",
            "[7]\tvalidation-auc:0.88024\n",
            "[8]\tvalidation-auc:0.87956\n",
            "[9]\tvalidation-auc:0.87982\n"
          ]
        },
        {
          "output_type": "stream",
          "name": "stderr",
          "text": [
            "\u001b[32m[I 2023-03-20 00:03:59,233]\u001b[0m Trial 93 finished with value: 0.7986963190184049 and parameters: {'max_depth': 7, 'learning_rate': 0.32310073238583276, 'n_estimators': 198, 'min_child_weight': 10, 'gamma': 0.08563113278273195, 'subsample': 0.724647921409074, 'colsample_bytree': 0.9878323434249483, 'reg_alpha': 0.019146754843957534, 'reg_lambda': 2.995778824385808e-06}. Best is trial 82 with value: 0.8044478527607362.\u001b[0m\n"
          ]
        },
        {
          "output_type": "stream",
          "name": "stdout",
          "text": [
            "Trial 93 finished with value: 0.7986963190184049 and parameters: {'max_depth': 7, 'learning_rate': 0.32310073238583276, 'n_estimators': 198, 'min_child_weight': 10, 'gamma': 0.08563113278273195, 'subsample': 0.724647921409074, 'colsample_bytree': 0.9878323434249483, 'reg_alpha': 0.019146754843957534, 'reg_lambda': 2.995778824385808e-06}. Best is trial 82 with value: 0.8044478527607362.\n",
            "[00:03:59] WARNING: ../src/learner.cc:767: \n",
            "Parameters: { \"n_estimators\", \"use_label_encoder\" } are not used.\n",
            "\n",
            "[0]\tvalidation-auc:0.84350\n",
            "[1]\tvalidation-auc:0.85788\n",
            "[2]\tvalidation-auc:0.86777\n",
            "[3]\tvalidation-auc:0.87279\n",
            "[4]\tvalidation-auc:0.87289\n",
            "[5]\tvalidation-auc:0.87397\n",
            "[6]\tvalidation-auc:0.87485\n",
            "[7]\tvalidation-auc:0.87444\n",
            "[8]\tvalidation-auc:0.87450\n",
            "[9]\tvalidation-auc:0.87578\n"
          ]
        },
        {
          "output_type": "stream",
          "name": "stderr",
          "text": [
            "\u001b[32m[I 2023-03-20 00:03:59,450]\u001b[0m Trial 94 finished with value: 0.799079754601227 and parameters: {'max_depth': 8, 'learning_rate': 0.28497568172216736, 'n_estimators': 178, 'min_child_weight': 9, 'gamma': 0.15991911762476688, 'subsample': 0.7964147807246491, 'colsample_bytree': 0.7811439727566147, 'reg_alpha': 0.013501531539885593, 'reg_lambda': 3.610802812184479e-07}. Best is trial 82 with value: 0.8044478527607362.\u001b[0m\n"
          ]
        },
        {
          "output_type": "stream",
          "name": "stdout",
          "text": [
            "Trial 94 finished with value: 0.799079754601227 and parameters: {'max_depth': 8, 'learning_rate': 0.28497568172216736, 'n_estimators': 178, 'min_child_weight': 9, 'gamma': 0.15991911762476688, 'subsample': 0.7964147807246491, 'colsample_bytree': 0.7811439727566147, 'reg_alpha': 0.013501531539885593, 'reg_lambda': 3.610802812184479e-07}. Best is trial 82 with value: 0.8044478527607362.\n",
            "[00:03:59] WARNING: ../src/learner.cc:767: \n",
            "Parameters: { \"n_estimators\", \"use_label_encoder\" } are not used.\n",
            "\n",
            "[0]\tvalidation-auc:0.85477\n",
            "[1]\tvalidation-auc:0.86282\n",
            "[2]\tvalidation-auc:0.86829\n",
            "[3]\tvalidation-auc:0.87343\n",
            "[4]\tvalidation-auc:0.87415\n",
            "[5]\tvalidation-auc:0.87472\n",
            "[6]\tvalidation-auc:0.87500\n",
            "[7]\tvalidation-auc:0.87559\n",
            "[8]\tvalidation-auc:0.87621\n",
            "[9]\tvalidation-auc:0.87700\n"
          ]
        },
        {
          "output_type": "stream",
          "name": "stderr",
          "text": [
            "\u001b[32m[I 2023-03-20 00:03:59,667]\u001b[0m Trial 95 finished with value: 0.8013803680981595 and parameters: {'max_depth': 8, 'learning_rate': 0.36332028710627434, 'n_estimators': 191, 'min_child_weight': 10, 'gamma': 0.06211159673552759, 'subsample': 0.7021287198009595, 'colsample_bytree': 0.9978332747211822, 'reg_alpha': 0.008925048839753676, 'reg_lambda': 3.4575873906103037e-06}. Best is trial 82 with value: 0.8044478527607362.\u001b[0m\n"
          ]
        },
        {
          "output_type": "stream",
          "name": "stdout",
          "text": [
            "Trial 95 finished with value: 0.8013803680981595 and parameters: {'max_depth': 8, 'learning_rate': 0.36332028710627434, 'n_estimators': 191, 'min_child_weight': 10, 'gamma': 0.06211159673552759, 'subsample': 0.7021287198009595, 'colsample_bytree': 0.9978332747211822, 'reg_alpha': 0.008925048839753676, 'reg_lambda': 3.4575873906103037e-06}. Best is trial 82 with value: 0.8044478527607362.\n",
            "[00:03:59] WARNING: ../src/learner.cc:767: \n",
            "Parameters: { \"n_estimators\", \"use_label_encoder\" } are not used.\n",
            "\n",
            "[0]\tvalidation-auc:0.86408\n",
            "[1]\tvalidation-auc:0.86878\n",
            "[2]\tvalidation-auc:0.87300\n",
            "[3]\tvalidation-auc:0.87691\n",
            "[4]\tvalidation-auc:0.87629\n",
            "[5]\tvalidation-auc:0.87753\n",
            "[6]\tvalidation-auc:0.87723\n",
            "[7]\tvalidation-auc:0.87809\n",
            "[8]\tvalidation-auc:0.87793\n",
            "[9]\tvalidation-auc:0.87890\n"
          ]
        },
        {
          "output_type": "stream",
          "name": "stderr",
          "text": [
            "\u001b[32m[I 2023-03-20 00:03:59,876]\u001b[0m Trial 96 finished with value: 0.8006134969325154 and parameters: {'max_depth': 8, 'learning_rate': 0.3046789334683023, 'n_estimators': 213, 'min_child_weight': 10, 'gamma': 0.05648276269345187, 'subsample': 0.6702721947000635, 'colsample_bytree': 0.9985351593469198, 'reg_alpha': 0.007631624865869543, 'reg_lambda': 4.5783048274416825e-06}. Best is trial 82 with value: 0.8044478527607362.\u001b[0m\n"
          ]
        },
        {
          "output_type": "stream",
          "name": "stdout",
          "text": [
            "Trial 96 finished with value: 0.8006134969325154 and parameters: {'max_depth': 8, 'learning_rate': 0.3046789334683023, 'n_estimators': 213, 'min_child_weight': 10, 'gamma': 0.05648276269345187, 'subsample': 0.6702721947000635, 'colsample_bytree': 0.9985351593469198, 'reg_alpha': 0.007631624865869543, 'reg_lambda': 4.5783048274416825e-06}. Best is trial 82 with value: 0.8044478527607362.\n",
            "[00:03:59] WARNING: ../src/learner.cc:767: \n",
            "Parameters: { \"n_estimators\", \"use_label_encoder\" } are not used.\n",
            "\n",
            "[0]\tvalidation-auc:0.80671\n",
            "[1]\tvalidation-auc:0.83667\n",
            "[2]\tvalidation-auc:0.84463\n",
            "[3]\tvalidation-auc:0.86017\n",
            "[4]\tvalidation-auc:0.86258\n",
            "[5]\tvalidation-auc:0.86240\n",
            "[6]\tvalidation-auc:0.86844\n",
            "[7]\tvalidation-auc:0.86994\n",
            "[8]\tvalidation-auc:0.87244\n",
            "[9]\tvalidation-auc:0.87423\n"
          ]
        },
        {
          "output_type": "stream",
          "name": "stderr",
          "text": [
            "\u001b[32m[I 2023-03-20 00:04:00,083]\u001b[0m Trial 97 finished with value: 0.7940950920245399 and parameters: {'max_depth': 7, 'learning_rate': 0.2679335295762628, 'n_estimators': 166, 'min_child_weight': 10, 'gamma': 0.10357892752852733, 'subsample': 0.5957506608854667, 'colsample_bytree': 0.6582443808673285, 'reg_alpha': 0.010003958255294633, 'reg_lambda': 3.809641823970747e-06}. Best is trial 82 with value: 0.8044478527607362.\u001b[0m\n"
          ]
        },
        {
          "output_type": "stream",
          "name": "stdout",
          "text": [
            "Trial 97 finished with value: 0.7940950920245399 and parameters: {'max_depth': 7, 'learning_rate': 0.2679335295762628, 'n_estimators': 166, 'min_child_weight': 10, 'gamma': 0.10357892752852733, 'subsample': 0.5957506608854667, 'colsample_bytree': 0.6582443808673285, 'reg_alpha': 0.010003958255294633, 'reg_lambda': 3.809641823970747e-06}. Best is trial 82 with value: 0.8044478527607362.\n",
            "[00:04:00] WARNING: ../src/learner.cc:767: \n",
            "Parameters: { \"n_estimators\", \"use_label_encoder\" } are not used.\n",
            "\n",
            "[0]\tvalidation-auc:0.83782\n",
            "[1]\tvalidation-auc:0.85309\n",
            "[2]\tvalidation-auc:0.86208\n",
            "[3]\tvalidation-auc:0.86895\n",
            "[4]\tvalidation-auc:0.87073\n",
            "[5]\tvalidation-auc:0.87276\n",
            "[6]\tvalidation-auc:0.87472\n",
            "[7]\tvalidation-auc:0.87573\n",
            "[8]\tvalidation-auc:0.87640\n",
            "[9]\tvalidation-auc:0.87573\n"
          ]
        },
        {
          "output_type": "stream",
          "name": "stderr",
          "text": [
            "\u001b[32m[I 2023-03-20 00:04:00,295]\u001b[0m Trial 98 finished with value: 0.7994631901840491 and parameters: {'max_depth': 8, 'learning_rate': 0.3713568372934806, 'n_estimators': 194, 'min_child_weight': 10, 'gamma': 0.04253513538819876, 'subsample': 0.4726785928384949, 'colsample_bytree': 0.772404568048247, 'reg_alpha': 0.013965497990489215, 'reg_lambda': 8.511666855634498e-07}. Best is trial 82 with value: 0.8044478527607362.\u001b[0m\n"
          ]
        },
        {
          "output_type": "stream",
          "name": "stdout",
          "text": [
            "Trial 98 finished with value: 0.7994631901840491 and parameters: {'max_depth': 8, 'learning_rate': 0.3713568372934806, 'n_estimators': 194, 'min_child_weight': 10, 'gamma': 0.04253513538819876, 'subsample': 0.4726785928384949, 'colsample_bytree': 0.772404568048247, 'reg_alpha': 0.013965497990489215, 'reg_lambda': 8.511666855634498e-07}. Best is trial 82 with value: 0.8044478527607362.\n",
            "[00:04:00] WARNING: ../src/learner.cc:767: \n",
            "Parameters: { \"n_estimators\", \"use_label_encoder\" } are not used.\n",
            "\n",
            "[0]\tvalidation-auc:0.86043\n",
            "[1]\tvalidation-auc:0.86688\n",
            "[2]\tvalidation-auc:0.87209\n",
            "[3]\tvalidation-auc:0.87591\n",
            "[4]\tvalidation-auc:0.87651\n",
            "[5]\tvalidation-auc:0.87512\n",
            "[6]\tvalidation-auc:0.87618\n",
            "[7]\tvalidation-auc:0.87762\n",
            "[8]\tvalidation-auc:0.87853\n",
            "[9]\tvalidation-auc:0.87898\n"
          ]
        },
        {
          "output_type": "stream",
          "name": "stderr",
          "text": [
            "\u001b[32m[I 2023-03-20 00:04:00,511]\u001b[0m Trial 99 finished with value: 0.7998466257668712 and parameters: {'max_depth': 8, 'learning_rate': 0.3495880731697589, 'n_estimators': 240, 'min_child_weight': 9, 'gamma': 0.06617149250620744, 'subsample': 0.889561322930789, 'colsample_bytree': 0.9171969133553849, 'reg_alpha': 0.003252335379041954, 'reg_lambda': 1.1210561615692371e-06}. Best is trial 82 with value: 0.8044478527607362.\u001b[0m\n"
          ]
        },
        {
          "output_type": "stream",
          "name": "stdout",
          "text": [
            "Trial 99 finished with value: 0.7998466257668712 and parameters: {'max_depth': 8, 'learning_rate': 0.3495880731697589, 'n_estimators': 240, 'min_child_weight': 9, 'gamma': 0.06617149250620744, 'subsample': 0.889561322930789, 'colsample_bytree': 0.9171969133553849, 'reg_alpha': 0.003252335379041954, 'reg_lambda': 1.1210561615692371e-06}. Best is trial 82 with value: 0.8044478527607362.\n",
            "Return a dictionary of parameter name and parameter values:\n",
            "{'max_depth': 9, 'learning_rate': 0.1699607699828165, 'n_estimators': 256, 'min_child_weight': 9, 'gamma': 0.018298408171734715, 'subsample': 0.8586025588776682, 'colsample_bytree': 0.9966205486897511, 'reg_alpha': 0.23515692182124337, 'reg_lambda': 3.861750650247784e-07}\n",
            "Return the best observed value of the objective function: 0.8044478527607362\n"
          ]
        }
      ]
    },
    {
      "cell_type": "code",
      "source": [
        "# '''\n",
        "# SOURCE:\n",
        "# https://www.kaggle.com/code/scr0ll0/sep-2021-lgbm-xgb-catboost-optuna/notebook#Optuna\n",
        "# '''\n",
        "\n",
        "\n",
        "# def Optuna(argument):\n",
        "#     N_TRIALS = 20\n",
        "#     N_SPLITS = 5\n",
        "#     #Credit here for Objective Function: https://www.kaggle.com/bextuychiev/lgbm-optuna-hyperparameter-tuning-w-understanding\n",
        "#     def LGBMObjective(trial, train_x = X_train2, train_y = y_train2):\n",
        "#         param = {\n",
        "#             \"learning_rate\": trial.suggest_float(\"learning_rate\", 0.01, 0.3),\n",
        "#             \"num_leaves\": trial.suggest_int(\"num_leaves\", 8, 4096),\n",
        "#             \"max_depth\": trial.suggest_int(\"max_depth\", 3, 12),\n",
        "#             \"min_data_in_leaf\": trial.suggest_int(\"min_data_in_leaf\", 200, 10000),\n",
        "#             \"lambda_l1\": trial.suggest_int(\"lambda_l1\", 0, 100),\n",
        "#             \"lambda_l2\": trial.suggest_int(\"lambda_l2\", 0, 100),\n",
        "#             \"min_gain_to_split\": trial.suggest_float(\"min_gain_to_split\", 0, 15),\n",
        "#             \"bagging_fraction\": trial.suggest_float(\"bagging_fraction\", 0.2, 0.95),\n",
        "#             \"feature_fraction\": trial.suggest_float(\"feature_fraction\", 0.2, 0.95),\n",
        "#             \"device_type\": 'gpu',\n",
        "#             \"n_estimators\": 10000,\n",
        "#             \"bagging_freq\": 1,\n",
        "#             \"metric\": 'auc',\n",
        "#             \"objective\": 'binary'\n",
        "#         }\n",
        "#         # cv = StratifiedKFold(n_splits=5, shuffle=True)\n",
        "#         # cv_scores = np.empty(5)\n",
        "#         # for idx, (train_idx, test_idx) in enumerate(cv.split(train_x, train_y)):\n",
        "#         #     X_train, X_valid = train_x.iloc[train_idx], train_x.iloc[test_idx]\n",
        "#         #     y_train, y_valid = train_y[train_idx], train_y[test_idx]\n",
        "#         model = LGBMClassifier(**param)\n",
        "#         model.fit(X_train, y_train, eval_set=[(X_val, y_val)], eval_metric=\"roc_auc_score\", early_stopping_rounds=100, callbacks=[LightGBMPruningCallback(trial, \"auc\")], verbose = False\n",
        "#             )\n",
        "#         preds = model.predict_proba(X_val)\n",
        "#             # cv_scores[idx] = roc_auc_score(y_valid, preds[:,1])\n",
        "#         return preds # np.mean(cv_scores)\n",
        "\n",
        "\n",
        "# #Credit here for objective function: https://www.kaggle.com/mohammadkashifunique/xgboost-hyperparametertuning-optuna\n",
        "# def XGBObjective(trial, x_train = X_train, y_train = y_train): \n",
        "#         param = {\n",
        "#             'max_depth': trial.suggest_int('max_depth', 6, 10), \n",
        "#             'n_estimators': trial.suggest_int('n_estimators', 400, 4000, 400), \n",
        "#             'eta': trial.suggest_float('eta', 0.007, 0.013), \n",
        "#             'subsample': trial.suggest_discrete_uniform('subsample', 0.2, 0.9, 0.1),\n",
        "#             'colsample_bytree': trial.suggest_discrete_uniform('colsample_bytree', 0.2, 0.9, 0.1),\n",
        "#             'colsample_bylevel': trial.suggest_discrete_uniform('colsample_bylevel', 0.2, 0.9, 0.1),\n",
        "#             'min_child_weight': trial.suggest_loguniform('min_child_weight', 1e-4, 1e4), \n",
        "#             'reg_lambda': trial.suggest_loguniform('reg_lambda', 1e-4, 1e4),\n",
        "#             'reg_alpha': trial.suggest_loguniform('reg_alpha', 1e-4, 1e4), \n",
        "#             'gamma': trial.suggest_loguniform('gamma', 1e-4, 1e4),\n",
        "#             'predictor': \"gpu_predictor\",\n",
        "#             'eval_metric' : 'auc',\n",
        "#             'objective' : 'binary:logistic',\n",
        "#             'tree_method': 'gpu_hist',\n",
        "#         }\n",
        "#         # cv = StratifiedKFold(n_splits=5, shuffle=True)\n",
        "#         # cv_scores = np.empty(5)\n",
        "#         # for idx, (train_idx, test_idx) in enumerate(cv.split(train_x, train_y)):\n",
        "#         #     X_train, X_valid = train_x.iloc[train_idx], train_x.iloc[test_idx]\n",
        "#         #     y_train, y_valid = train_y[train_idx], train_y[test_idx]\n",
        "#         model = XGBClassifier(**param)\n",
        "#         model.fit(X_train, y_train, eval_set=[(X_val, y_val)], early_stopping_rounds=100, callbacks=[XGBoostPruningCallback(trial, 'validation_0-auc')], verbose = 0)\n",
        "#         preds = model.predict_proba(X_val)\n",
        "#         # cv_scores[idx] = roc_auc_score(y_val, preds[:,1]\n",
        "#         return preds\n",
        "\n",
        "\n",
        "# #Credit here for objective function: https://www.kaggle.com/mlanhenke/tps-09-optuna-study-catboostclassifier\n",
        "# def CatBoostObjective(trial, x_train = X_train, y_train = y_train):\n",
        "#         param = {\n",
        "#             'iterations':trial.suggest_int(\"iterations\", 1000, 20000),\n",
        "#             'objective': trial.suggest_categorical('objective', ['Logloss', 'CrossEntropy']),\n",
        "#             'bootstrap_type': trial.suggest_categorical('bootstrap_type', ['Bayesian', 'Bernoulli', 'MVS']),\n",
        "#             'od_wait':trial.suggest_int('od_wait', 500, 2000),\n",
        "#             'learning_rate' : trial.suggest_uniform('learning_rate',0.02,1),\n",
        "#             'reg_lambda': trial.suggest_uniform('reg_lambda',1e-5,100),\n",
        "#             'random_strength': trial.suggest_uniform('random_strength',10,50),\n",
        "#             'depth': trial.suggest_int('depth',1,15),\n",
        "#             'min_data_in_leaf': trial.suggest_int('min_data_in_leaf',1,30),\n",
        "#             'leaf_estimation_iterations': trial.suggest_int('leaf_estimation_iterations',1,15),\n",
        "#             'verbose': False,\n",
        "#             'task_type' : 'GPU',\n",
        "#             'devices' : '0',\n",
        "#             'eval_metric':'AUC',\n",
        "#             'od_type': 'IncToDec',\n",
        "#             'od_pval': 1e-7, \n",
        "#             'od_wait' : 100,\n",
        "#         }\n",
        "#         if param['bootstrap_type'] == 'Bayesian':\n",
        "#             param['bagging_temperature'] = trial.suggest_float('bagging_temperature', 0, 10)\n",
        "#         elif param['bootstrap_type'] == 'Bernoulli':\n",
        "#             param['subsample'] = trial.suggest_float('subsample', 0.1, 1)\n",
        "#         # cv = StratifiedKFold(n_splits=5, shuffle=True)\n",
        "#         # cv_scores = np.empty(5)\n",
        "#         # for idx, (train_idx, test_idx) in enumerate(cv.split(train_x, train_y)):\n",
        "#         #     X_train, X_valid = train_x.iloc[train_idx], train_x.iloc[test_idx]\n",
        "#         #     y_train, y_valid = train_y[train_idx], train_y[test_idx]\n",
        "#         model = CatBoostClassifier(**param)\n",
        "#         #Notice: Optuna Callback not supported on CatBoost\n",
        "#         model.fit(X_train, y_train, eval_set=[(X_val, y_val)])\n",
        "#         preds = model.predict_proba(X_val)\n",
        "#         # cv_scores[idx] = roc_auc_score(y_valid, preds[:,1])\n",
        "#         return preds # np.mean(cv_scores)\n",
        "\n",
        "# def ObjectiveSelector(argument):\n",
        "#   objective = {\n",
        "#       'LGBM': LGBMObjective,\n",
        "#       'XGB': XGBObjective,\n",
        "#       'CatBoost': CatBoostObjective            \n",
        "#         }\n",
        "#   return objective.get(argument, \"Invalid Selection\")\n",
        "\n",
        "# def ModelSelector(argument, trial): #Switch case not usable here without crashing. \n",
        "#   if(argument == 'LGBM'):\n",
        "#     return LGBMClassifier(**trial.params)\n",
        "#   elif(argument == 'XGB'):\n",
        "#     return XGBClassifier(**trial.params)\n",
        "#   elif(argument == 'CatBoost'):\n",
        "#     return CatBoostClassifier(**trial.params)\n",
        "#   return \"Invalid Model\"\n",
        "#   study = optuna.create_study(direction=\"maximize\")\n",
        "#   study.optimize(ObjectiveSelector(argument), n_trials=N_TRIALS)\n",
        "#   print(\"Number of finished trials: {}\".format(len(study.trials)))\n",
        "#   print(\"Best trial:\")\n",
        "#   trial = study.best_trial\n",
        "#   print(\"  Value: {}\".format(trial.value))\n",
        "#   print(\"  Params: \")\n",
        "#   for key, value in trial.params.items():\n",
        "#     print(\"    {}: {}\".format(key, value))\n",
        "#   model = ModelSelector(argument, trial)\n",
        "#   model.fit(train_x, train_y)\n",
        "#   predictions_optuna = model.predict_proba(test)\n",
        "#   return predictions_optuna"
      ],
      "metadata": {
        "id": "ey4RMX6tHGw_"
      },
      "execution_count": null,
      "outputs": []
    },
    {
      "cell_type": "markdown",
      "source": [
        "## Experiment evaluation\n",
        "Prepare a summary of your work, choose the best model and discuss your choices with other groups."
      ],
      "metadata": {
        "id": "_yFYx-x1mJhx"
      }
    },
    {
      "cell_type": "markdown",
      "source": [
        "\n",
        "### Prepare demonstration of the research phase of this project. Describe algorithms that you used.\n"
      ],
      "metadata": {
        "id": "diC39_aUmNZ3"
      }
    },
    {
      "cell_type": "code",
      "source": [],
      "metadata": {
        "id": "VjWyrzLAmLwc"
      },
      "execution_count": null,
      "outputs": []
    },
    {
      "cell_type": "markdown",
      "source": [
        "\n",
        "### Present all of your results. Don't forget to demonstrate comparison of selected methods and approaches used in this project.\n",
        "\n",
        "Spot-check algorithms results with default parameters:\n",
        "\n",
        "\n",
        "- XGB accuracy: 0.7664877300613497\n",
        "- XGB recall: 0.7989337395277989\n",
        "- XGB f1_score: 0.7750277059475434\n",
        "\n",
        "\n",
        "- LightGBM accuracy: 0.7845092024539877\n",
        "- LightGBM recall: 0.8789032749428789\n",
        "- LightGBM f1_score: 0.8041811846689895\n",
        "\n",
        "\n",
        "- CatBoost accuracy: 0.785659509202454\n",
        "- CatBoost recall: 0.7320463320463321\n",
        "- CatBoost f1_score: 0.7723014256619145\n",
        "\n",
        "___\n",
        "OPTUNA:\n",
        "- LGBM\n",
        "\n",
        "Return a dictionary of parameter name and parameter values:\n",
        "\n",
        " {\n",
        "\n",
        " 'bagging_fraction': 0.457903950039216, \n",
        "\n",
        " 'bagging_freq': 3, \n",
        "\n",
        " 'min_child_samples': 66\n",
        " \n",
        " }\n",
        "\n",
        "\n",
        "Return the best observed value of the objective function:\n",
        " 0.8025306748466258\n",
        "\n",
        "- XGB\n",
        "\n",
        "Return a dictionary of parameter name and parameter values:\n",
        "\n",
        "\n",
        "{\n",
        "  'max_depth': 9, \n",
        "\n",
        "  'learning_rate': 0.1699607699828165, \n",
        "\n",
        "  'n_estimators': 256, \n",
        "\n",
        "  'min_child_weight': 9, \n",
        "\n",
        "  'gamma': 0.018298408171734715, \n",
        "\n",
        "  'subsample': 0.8586025588776682, \n",
        "\n",
        "  'colsample_bytree': 0.9966205486897511, \n",
        "\n",
        "  'reg_alpha': 0.23515692182124337, \n",
        "\n",
        "  'reg_lambda': 3.861750650247784e-07\n",
        "  \n",
        "  }\n",
        "\n",
        "\n",
        "Return the best observed value of the objective function: 0.8044478527607362"
      ],
      "metadata": {
        "id": "mHODoneEmdnX"
      }
    },
    {
      "cell_type": "markdown",
      "source": [
        "\n",
        "### Beautify your notebook - it will be one of your aces during the interview"
      ],
      "metadata": {
        "id": "M6cJhDMimfqs"
      }
    },
    {
      "cell_type": "code",
      "source": [],
      "metadata": {
        "id": "-kflzTyRmg_a"
      },
      "execution_count": null,
      "outputs": []
    },
    {
      "cell_type": "markdown",
      "source": [
        "### Publish your repository on GitHub or GitLab. Don't remember add README file with description of this project."
      ],
      "metadata": {
        "id": "anjnc1iLmhiO"
      }
    },
    {
      "cell_type": "code",
      "source": [],
      "metadata": {
        "id": "J71tqMInmird"
      },
      "execution_count": null,
      "outputs": []
    },
    {
      "cell_type": "markdown",
      "source": [
        "## PyTorch\n",
        "Use PyTorch to solve following tasks."
      ],
      "metadata": {
        "id": "NoXrxo-anjAK"
      }
    },
    {
      "cell_type": "markdown",
      "source": [
        "### Implement logistic regression model"
      ],
      "metadata": {
        "id": "19TDNOEonmA_"
      }
    },
    {
      "cell_type": "code",
      "source": [
        "X_train.shape"
      ],
      "metadata": {
        "colab": {
          "base_uri": "https://localhost:8080/"
        },
        "id": "AglpXDT9Tr5J",
        "outputId": "aebe492c-6a28-486f-9607-63d226bf1ed1"
      },
      "execution_count": null,
      "outputs": [
        {
          "output_type": "execute_result",
          "data": {
            "text/plain": [
              "(6085, 13)"
            ]
          },
          "metadata": {},
          "execution_count": 24
        }
      ]
    },
    {
      "cell_type": "code",
      "source": [
        "'''\n",
        "https://towardsdatascience.com/logistic-regression-with-pytorch-3c8bbea594be\n",
        "'''\n",
        "\n",
        "\n",
        "from tqdm import tqdm\n",
        "import torch\n",
        "\n",
        "\n",
        "# X_train, X_val, y_train,  y_val = train_test_split(\n",
        "#     inputs, labels, test_size=0.33, random_state=42)\n",
        "\n",
        "class LogisticRegression(torch.nn.Module):\n",
        "    def __init__(self, input_dim, output_dim):\n",
        "        super(LogisticRegression, self).__init__()\n",
        "        self.linear = torch.nn.Linear(input_dim, output_dim)\n",
        "        \n",
        "    def forward(self, x):\n",
        "        outputs = torch.sigmoid(self.linear(x))\n",
        "        return outputs\n",
        "\n",
        "epochs = 200_000\n",
        "input_dim = len(X_train.columns) # 13 columns as input\n",
        "output_dim = 1 # Two possible outputs\n",
        "learning_rate = 0.01\n",
        "\n",
        "model = LogisticRegression(input_dim,output_dim)\n",
        "\n",
        "criterion = torch.nn.BCELoss()\n",
        "\n",
        "optimizer = torch.optim.SGD(model.parameters(), lr=learning_rate)\n",
        "\n",
        "X_train, X_val = torch.Tensor(X_train.shape), torch.Tensor(X_val.shape)\n",
        "y_train, y_val = torch.Tensor(y_train.shape), torch.Tensor(y_val.shape)\n",
        "\n",
        "losses = []\n",
        "losses_test = []\n",
        "Iterations = []\n",
        "iter = 0\n",
        "for epoch in tqdm(range(int(epochs)),desc='Training Epochs'):\n",
        "    x = X_train\n",
        "    labels = y_train\n",
        "    optimizer.zero_grad() # Setting our stored gradients equal to zero\n",
        "    outputs = model(X_train)\n",
        "    loss = criterion(torch.squeeze(outputs), labels) # [200,1] -squeeze-> [200]\n",
        "    \n",
        "    loss.backward() # Computes the gradient of the given tensor w.r.t. graph leaves \n",
        "    \n",
        "    optimizer.step() # Updates weights and biases with the optimizer (SGD)\n",
        "    \n",
        "    iter+=1\n",
        "    if iter%10000==0:\n",
        "        # calculate Accuracy\n",
        "        with torch.no_grad():\n",
        "            # Calculating the loss and accuracy for the test dataset\n",
        "            correct_test = 0\n",
        "            total_test = 0\n",
        "            outputs_test = torch.squeeze(model(X_val))\n",
        "            loss_test = criterion(outputs_test, y_val)\n",
        "            \n",
        "            predicted_test = outputs_test.round().detach().numpy()\n",
        "            total_test += y_val.size(0)\n",
        "            correct_test += np.sum(predicted_test == y_val.detach().numpy())\n",
        "            accuracy_val = 100 * correct_test/total_test\n",
        "            losses_test.append(loss_test.item())\n",
        "            \n",
        "            # Calculating the loss and accuracy for the train dataset\n",
        "            total = 0\n",
        "            correct = 0\n",
        "            total += y_train.size(0)\n",
        "            correct += np.sum(torch.squeeze(outputs).round().detach().numpy() == y_train.detach().numpy())\n",
        "            accuracy = 100 * correct/total\n",
        "            losses.append(loss.item())\n",
        "            Iterations.append(iter)\n",
        "            \n",
        "            print(f\"Iteration: {iter}. \\nTest - Loss: {loss_test.item()}. Accuracy: {accuracy_val}\")\n",
        "            print(f\"Train -  Loss: {loss.item()}. Accuracy: {accuracy}\\n\")\n",
        "\n",
        "\n",
        "def model_plot(model,X,y,title):\n",
        "    parm = {}\n",
        "    b = []\n",
        "    for name, param in model.named_parameters():\n",
        "        parm[name]=param.detach().numpy()  \n",
        "    \n",
        "    w = parm['linear.weight'][0]\n",
        "    b = parm['linear.bias'][0]\n",
        "    plt.scatter(X[:, 0], X[:, 1], c=y,cmap='jet')\n",
        "    u = np.linspace(X[:, 0].min(), X[:, 0].max(), 2)\n",
        "    plt.plot(u, (0.5-b-w[0]*u)/w[1])\n",
        "    plt.xlim(X[:, 0].min()-0.5, X[:, 0].max()+0.5)\n",
        "    plt.ylim(X[:, 1].min()-0.5, X[:, 1].max()+0.5)\n",
        "    plt.xlabel(r'$\\boldsymbol{x_1}$',fontsize=16) # Normally you can just add the argument fontweight='bold' but it does not work with latex\n",
        "    plt.ylabel(r'$\\boldsymbol{x_2}$',fontsize=16)\n",
        "    plt.title(title)\n",
        "    plt.show()\n",
        "\n",
        "\n",
        "# Train Data\n",
        "model_plot(model,X_train,y_train,'Train Data')\n",
        "\n",
        "# Test Dataset Results\n",
        "model_plot(model,X_val,y_val,'Test Data')"
      ],
      "metadata": {
        "id": "7IWQUCoMnlU4",
        "colab": {
          "base_uri": "https://localhost:8080/",
          "height": 397
        },
        "outputId": "f083c997-d725-42f7-c13c-c081807e70d3"
      },
      "execution_count": null,
      "outputs": [
        {
          "output_type": "stream",
          "name": "stderr",
          "text": [
            "Training Epochs:   0%|          | 0/200000 [00:00<?, ?it/s]\n"
          ]
        },
        {
          "output_type": "error",
          "ename": "RuntimeError",
          "evalue": "ignored",
          "traceback": [
            "\u001b[0;31m---------------------------------------------------------------------------\u001b[0m",
            "\u001b[0;31mRuntimeError\u001b[0m                              Traceback (most recent call last)",
            "\u001b[0;32m<ipython-input-25-9fdf6e84a81b>\u001b[0m in \u001b[0;36m<module>\u001b[0;34m\u001b[0m\n\u001b[1;32m     42\u001b[0m     \u001b[0mlabels\u001b[0m \u001b[0;34m=\u001b[0m \u001b[0my_train\u001b[0m\u001b[0;34m\u001b[0m\u001b[0;34m\u001b[0m\u001b[0m\n\u001b[1;32m     43\u001b[0m     \u001b[0moptimizer\u001b[0m\u001b[0;34m.\u001b[0m\u001b[0mzero_grad\u001b[0m\u001b[0;34m(\u001b[0m\u001b[0;34m)\u001b[0m \u001b[0;31m# Setting our stored gradients equal to zero\u001b[0m\u001b[0;34m\u001b[0m\u001b[0;34m\u001b[0m\u001b[0m\n\u001b[0;32m---> 44\u001b[0;31m     \u001b[0moutputs\u001b[0m \u001b[0;34m=\u001b[0m \u001b[0mmodel\u001b[0m\u001b[0;34m(\u001b[0m\u001b[0mX_train\u001b[0m\u001b[0;34m)\u001b[0m\u001b[0;34m\u001b[0m\u001b[0;34m\u001b[0m\u001b[0m\n\u001b[0m\u001b[1;32m     45\u001b[0m     \u001b[0mloss\u001b[0m \u001b[0;34m=\u001b[0m \u001b[0mcriterion\u001b[0m\u001b[0;34m(\u001b[0m\u001b[0mtorch\u001b[0m\u001b[0;34m.\u001b[0m\u001b[0msqueeze\u001b[0m\u001b[0;34m(\u001b[0m\u001b[0moutputs\u001b[0m\u001b[0;34m)\u001b[0m\u001b[0;34m,\u001b[0m \u001b[0mlabels\u001b[0m\u001b[0;34m)\u001b[0m \u001b[0;31m# [200,1] -squeeze-> [200]\u001b[0m\u001b[0;34m\u001b[0m\u001b[0;34m\u001b[0m\u001b[0m\n\u001b[1;32m     46\u001b[0m \u001b[0;34m\u001b[0m\u001b[0m\n",
            "\u001b[0;32m/usr/local/lib/python3.9/dist-packages/torch/nn/modules/module.py\u001b[0m in \u001b[0;36m_call_impl\u001b[0;34m(self, *input, **kwargs)\u001b[0m\n\u001b[1;32m   1192\u001b[0m         if not (self._backward_hooks or self._forward_hooks or self._forward_pre_hooks or _global_backward_hooks\n\u001b[1;32m   1193\u001b[0m                 or _global_forward_hooks or _global_forward_pre_hooks):\n\u001b[0;32m-> 1194\u001b[0;31m             \u001b[0;32mreturn\u001b[0m \u001b[0mforward_call\u001b[0m\u001b[0;34m(\u001b[0m\u001b[0;34m*\u001b[0m\u001b[0minput\u001b[0m\u001b[0;34m,\u001b[0m \u001b[0;34m**\u001b[0m\u001b[0mkwargs\u001b[0m\u001b[0;34m)\u001b[0m\u001b[0;34m\u001b[0m\u001b[0;34m\u001b[0m\u001b[0m\n\u001b[0m\u001b[1;32m   1195\u001b[0m         \u001b[0;31m# Do not call functions when jit is used\u001b[0m\u001b[0;34m\u001b[0m\u001b[0;34m\u001b[0m\u001b[0m\n\u001b[1;32m   1196\u001b[0m         \u001b[0mfull_backward_hooks\u001b[0m\u001b[0;34m,\u001b[0m \u001b[0mnon_full_backward_hooks\u001b[0m \u001b[0;34m=\u001b[0m \u001b[0;34m[\u001b[0m\u001b[0;34m]\u001b[0m\u001b[0;34m,\u001b[0m \u001b[0;34m[\u001b[0m\u001b[0;34m]\u001b[0m\u001b[0;34m\u001b[0m\u001b[0;34m\u001b[0m\u001b[0m\n",
            "\u001b[0;32m<ipython-input-25-9fdf6e84a81b>\u001b[0m in \u001b[0;36mforward\u001b[0;34m(self, x)\u001b[0m\n\u001b[1;32m     17\u001b[0m \u001b[0;34m\u001b[0m\u001b[0m\n\u001b[1;32m     18\u001b[0m     \u001b[0;32mdef\u001b[0m \u001b[0mforward\u001b[0m\u001b[0;34m(\u001b[0m\u001b[0mself\u001b[0m\u001b[0;34m,\u001b[0m \u001b[0mx\u001b[0m\u001b[0;34m)\u001b[0m\u001b[0;34m:\u001b[0m\u001b[0;34m\u001b[0m\u001b[0;34m\u001b[0m\u001b[0m\n\u001b[0;32m---> 19\u001b[0;31m         \u001b[0moutputs\u001b[0m \u001b[0;34m=\u001b[0m \u001b[0mtorch\u001b[0m\u001b[0;34m.\u001b[0m\u001b[0msigmoid\u001b[0m\u001b[0;34m(\u001b[0m\u001b[0mself\u001b[0m\u001b[0;34m.\u001b[0m\u001b[0mlinear\u001b[0m\u001b[0;34m(\u001b[0m\u001b[0mx\u001b[0m\u001b[0;34m)\u001b[0m\u001b[0;34m)\u001b[0m\u001b[0;34m\u001b[0m\u001b[0;34m\u001b[0m\u001b[0m\n\u001b[0m\u001b[1;32m     20\u001b[0m         \u001b[0;32mreturn\u001b[0m \u001b[0moutputs\u001b[0m\u001b[0;34m\u001b[0m\u001b[0;34m\u001b[0m\u001b[0m\n\u001b[1;32m     21\u001b[0m \u001b[0;34m\u001b[0m\u001b[0m\n",
            "\u001b[0;32m/usr/local/lib/python3.9/dist-packages/torch/nn/modules/module.py\u001b[0m in \u001b[0;36m_call_impl\u001b[0;34m(self, *input, **kwargs)\u001b[0m\n\u001b[1;32m   1192\u001b[0m         if not (self._backward_hooks or self._forward_hooks or self._forward_pre_hooks or _global_backward_hooks\n\u001b[1;32m   1193\u001b[0m                 or _global_forward_hooks or _global_forward_pre_hooks):\n\u001b[0;32m-> 1194\u001b[0;31m             \u001b[0;32mreturn\u001b[0m \u001b[0mforward_call\u001b[0m\u001b[0;34m(\u001b[0m\u001b[0;34m*\u001b[0m\u001b[0minput\u001b[0m\u001b[0;34m,\u001b[0m \u001b[0;34m**\u001b[0m\u001b[0mkwargs\u001b[0m\u001b[0;34m)\u001b[0m\u001b[0;34m\u001b[0m\u001b[0;34m\u001b[0m\u001b[0m\n\u001b[0m\u001b[1;32m   1195\u001b[0m         \u001b[0;31m# Do not call functions when jit is used\u001b[0m\u001b[0;34m\u001b[0m\u001b[0;34m\u001b[0m\u001b[0m\n\u001b[1;32m   1196\u001b[0m         \u001b[0mfull_backward_hooks\u001b[0m\u001b[0;34m,\u001b[0m \u001b[0mnon_full_backward_hooks\u001b[0m \u001b[0;34m=\u001b[0m \u001b[0;34m[\u001b[0m\u001b[0;34m]\u001b[0m\u001b[0;34m,\u001b[0m \u001b[0;34m[\u001b[0m\u001b[0;34m]\u001b[0m\u001b[0;34m\u001b[0m\u001b[0;34m\u001b[0m\u001b[0m\n",
            "\u001b[0;32m/usr/local/lib/python3.9/dist-packages/torch/nn/modules/linear.py\u001b[0m in \u001b[0;36mforward\u001b[0;34m(self, input)\u001b[0m\n\u001b[1;32m    112\u001b[0m \u001b[0;34m\u001b[0m\u001b[0m\n\u001b[1;32m    113\u001b[0m     \u001b[0;32mdef\u001b[0m \u001b[0mforward\u001b[0m\u001b[0;34m(\u001b[0m\u001b[0mself\u001b[0m\u001b[0;34m,\u001b[0m \u001b[0minput\u001b[0m\u001b[0;34m:\u001b[0m \u001b[0mTensor\u001b[0m\u001b[0;34m)\u001b[0m \u001b[0;34m->\u001b[0m \u001b[0mTensor\u001b[0m\u001b[0;34m:\u001b[0m\u001b[0;34m\u001b[0m\u001b[0;34m\u001b[0m\u001b[0m\n\u001b[0;32m--> 114\u001b[0;31m         \u001b[0;32mreturn\u001b[0m \u001b[0mF\u001b[0m\u001b[0;34m.\u001b[0m\u001b[0mlinear\u001b[0m\u001b[0;34m(\u001b[0m\u001b[0minput\u001b[0m\u001b[0;34m,\u001b[0m \u001b[0mself\u001b[0m\u001b[0;34m.\u001b[0m\u001b[0mweight\u001b[0m\u001b[0;34m,\u001b[0m \u001b[0mself\u001b[0m\u001b[0;34m.\u001b[0m\u001b[0mbias\u001b[0m\u001b[0;34m)\u001b[0m\u001b[0;34m\u001b[0m\u001b[0;34m\u001b[0m\u001b[0m\n\u001b[0m\u001b[1;32m    115\u001b[0m \u001b[0;34m\u001b[0m\u001b[0m\n\u001b[1;32m    116\u001b[0m     \u001b[0;32mdef\u001b[0m \u001b[0mextra_repr\u001b[0m\u001b[0;34m(\u001b[0m\u001b[0mself\u001b[0m\u001b[0;34m)\u001b[0m \u001b[0;34m->\u001b[0m \u001b[0mstr\u001b[0m\u001b[0;34m:\u001b[0m\u001b[0;34m\u001b[0m\u001b[0;34m\u001b[0m\u001b[0m\n",
            "\u001b[0;31mRuntimeError\u001b[0m: mat1 and mat2 shapes cannot be multiplied (1x2 and 13x1)"
          ]
        }
      ]
    },
    {
      "cell_type": "markdown",
      "source": [
        "\n",
        "### Use k-fold technique to entry dataset division"
      ],
      "metadata": {
        "id": "WYCPICOvx6Ln"
      }
    },
    {
      "cell_type": "code",
      "source": [],
      "metadata": {
        "id": "zS0LtvKqx64k"
      },
      "execution_count": null,
      "outputs": []
    }
  ]
}